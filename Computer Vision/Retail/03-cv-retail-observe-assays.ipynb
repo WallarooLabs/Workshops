{
 "cells": [
  {
   "cell_type": "markdown",
   "metadata": {},
   "source": [
    "# Computer Vision Validation\n",
    "\n"
   ]
  },
  {
   "cell_type": "code",
   "execution_count": 2,
   "metadata": {},
   "outputs": [],
   "source": [
    "import torch\n",
    "import pickle\n",
    "import wallaroo\n",
    "import os\n",
    "import numpy as np\n",
    "import json\n",
    "import requests\n",
    "import time\n",
    "import pandas as pd\n",
    "import datetime\n",
    "from CVDemoUtils import CVDemo\n",
    "\n",
    "from wallaroo.object import EntityNotFoundError\n",
    "from wallaroo.framework import Framework\n",
    "\n",
    "from CVDemoUtils import CVDemo\n",
    "cvDemo = CVDemo()\n",
    "cvDemo.COCO_CLASSES_PATH = \"models/coco_classes.pickle\"\n"
   ]
  },
  {
   "cell_type": "markdown",
   "metadata": {},
   "source": [
    "### Securely connect this Notebook to the Wallaroo Cluster"
   ]
  },
  {
   "cell_type": "code",
   "execution_count": 3,
   "metadata": {},
   "outputs": [
    {
     "name": "stdout",
     "output_type": "stream",
     "text": [
      "Please log into the following URL in a web browser:\n",
      "\n",
      "\thttps://doc-test.keycloak.wallaroocommunity.ninja/auth/realms/master/device?user_code=QUOS-BMRB\n",
      "\n",
      "Login successful!\n"
     ]
    }
   ],
   "source": [
    "wl = wallaroo.Client()\n",
    "\n",
    "wallarooPrefix = \"doc-test.\"\n",
    "wallarooSuffix = \"wallaroocommunity.ninja\"\n",
    "\n",
    "wl = wallaroo.Client(api_endpoint=f\"https://{wallarooPrefix}api.{wallarooSuffix}\", \n",
    "                    auth_endpoint=f\"https://{wallarooPrefix}keycloak.{wallarooSuffix}\", \n",
    "                    auth_type=\"sso\")"
   ]
  },
  {
   "cell_type": "markdown",
   "metadata": {
    "tags": []
   },
   "source": [
    "### Set the current workspace to \"computer-vision\""
   ]
  },
  {
   "cell_type": "code",
   "execution_count": 4,
   "metadata": {},
   "outputs": [],
   "source": [
    "# used for unique connection names\n",
    "\n",
    "# import string\n",
    "# import random\n",
    "\n",
    "# suffix= ''.join(random.choice(string.ascii_lowercase) for i in range(4))\n",
    "\n",
    "suffix='jch'\n",
    "\n",
    "workspace_name = f'cv-retail{suffix}'\n",
    "\n",
    "pipeline_name = 'cv-retail-pipeline'"
   ]
  },
  {
   "cell_type": "code",
   "execution_count": 5,
   "metadata": {},
   "outputs": [],
   "source": [
    "def get_workspace(name):\n",
    "    workspace = None\n",
    "    for ws in wl.list_workspaces():\n",
    "        if ws.name() == name:\n",
    "            workspace= ws\n",
    "    if(workspace == None):\n",
    "        workspace = wl.create_workspace(name)\n",
    "    return workspace\n",
    "\n",
    "def get_pipeline(name):\n",
    "    try:\n",
    "        pipeline = wl.pipelines_by_name(name)[0]\n",
    "    except EntityNotFoundError:\n",
    "        pipeline = wl.build_pipeline(name)\n",
    "    return pipeline\n",
    "\n",
    "workspace = get_workspace(workspace_name)\n",
    "\n",
    "wl.set_current_workspace(workspace)\n",
    "\n",
    "pipeline = get_pipeline(pipeline_name)"
   ]
  },
  {
   "cell_type": "markdown",
   "metadata": {},
   "source": [
    "### Upload model to wallaroo"
   ]
  },
  {
   "cell_type": "code",
   "execution_count": 6,
   "metadata": {},
   "outputs": [],
   "source": [
    "# assuming they were uploaded - grab them\n",
    "\n",
    "mobilenet_model_name = 'mobilenet'\n",
    "# mobilenet_model_path = \"./models/mobilenet.pt.onnx\"\n",
    "\n",
    "resnet_model_name = 'resnet'\n",
    "\n",
    "\n",
    "def get_model(mname):\n",
    "    modellist = wl.get_current_workspace().models()\n",
    "    model = [m.versions()[0] for m in modellist if m.name() == mname]\n",
    "    if len(model) <= 0:\n",
    "        raise KeyError(f\"model {mname} not found in this workspace\")\n",
    "    return model[0]\n",
    "\n",
    "mobilenet_model = get_model(mobilenet_model_name)\n",
    "\n",
    "resnet_model = get_model(resnet_model_name)\n",
    "\n",
    "step_name = \"cv-post-process-drift-detection\"\n",
    "\n",
    "module_post_process = get_model(step_name)\n"
   ]
  },
  {
   "cell_type": "markdown",
   "metadata": {},
   "source": [
    "### Upload the post processing module code to Wallaroo"
   ]
  },
  {
   "cell_type": "markdown",
   "metadata": {},
   "source": [
    "Next we will add our post processing anomoly detection file that will take the average of the confidences.  We will use this value to detect drift.</b>"
   ]
  },
  {
   "cell_type": "code",
   "execution_count": 6,
   "metadata": {},
   "outputs": [],
   "source": [
    "# import pyarrow as pa\n",
    "\n",
    "# field_boxes = pa.field('boxes', pa.list_(pa.list_(pa.float64(), 4)))\n",
    "# field_classes = pa.field('classes', pa.list_(pa.int32()))\n",
    "# field_confidences =  pa.field('confidences', pa.list_(pa.float64()))\n",
    "\n",
    "# # field_boxes - will have a flattened array of the 4 coordinates representing the boxes.  128 entries\n",
    "# # field_classes - will have 32 entries\n",
    "# # field_confidences - will have 32 entries\n",
    "# input_schema = pa.schema([field_boxes, field_classes, field_confidences])\n",
    "\n",
    "# output_schema = pa.schema([\n",
    "#     field_boxes,\n",
    "#     field_classes,\n",
    "#     field_confidences,\n",
    "#     pa.field('avg_conf', pa.list_(pa.float64()))\n",
    "# ])"
   ]
  },
  {
   "cell_type": "code",
   "execution_count": 7,
   "metadata": {},
   "outputs": [],
   "source": [
    "# module_post_process = wl.upload_model(\"cv-post-process-drift-detection\", \n",
    "#                                       \"./models/post-process-drift-detection-arrow.py\",\n",
    "#                                       framework=Framework.PYTHON ).configure('python', \n",
    "#                                                                              input_schema=input_schema, \n",
    "#                                                                              output_schema=output_schema\n",
    "#                                     )\n"
   ]
  },
  {
   "cell_type": "markdown",
   "metadata": {},
   "source": [
    "### Reserve resources needed for this pipeline from the Wallaroo Cluster"
   ]
  },
  {
   "cell_type": "code",
   "execution_count": 7,
   "metadata": {},
   "outputs": [],
   "source": [
    "deployment_config = wallaroo.DeploymentConfigBuilder().replica_count(1).replica_autoscale_min_max(minimum=2, maximum=5).cpus(1).memory(\"1Gi\").build()"
   ]
  },
  {
   "cell_type": "markdown",
   "metadata": {},
   "source": [
    "### Create the pipeline and add the post processing module as a step in the pipeline"
   ]
  },
  {
   "cell_type": "code",
   "execution_count": 9,
   "metadata": {},
   "outputs": [],
   "source": [
    "#pipeline_name = 'cam-atl-1-anm'\n",
    "#pipeline = wl.build_pipeline(pipeline_name) \\\n",
    "#            .add_model_step(mobilenet_model) \\\n",
    "#            .deploy(deployment_config = deployment_config)"
   ]
  },
  {
   "cell_type": "code",
   "execution_count": 8,
   "metadata": {},
   "outputs": [
    {
     "data": {
      "text/html": [
       "<table><tr><th>name</th> <td>cv-retail-pipeline</td></tr><tr><th>created</th> <td>2023-07-28 19:26:41.215539+00:00</td></tr><tr><th>last_updated</th> <td>2023-07-28 21:05:29.220812+00:00</td></tr><tr><th>deployed</th> <td>False</td></tr><tr><th>tags</th> <td></td></tr><tr><th>versions</th> <td>e82d7f86-2646-4946-900e-e371d48c4c75, de2a9ad5-7a98-4a43-80d5-6e55a0c813f6, bfe5c1eb-e129-4093-99a2-8e588d4abcec, dc13ac9b-90c3-49d1-86f0-83c3d3186173, 8a067ab5-7423-4554-82ac-d75594fe4ca4, 71f5ffae-e74c-459b-b30a-b6a3ae260695, c9cfcb2d-d789-4cdd-8e62-b5108192179f, 5e1d35ef-fb98-4ffe-8344-93609046f025, 3bd9a6ce-4ccb-4a93-9ccb-ae559e91048c</td></tr><tr><th>steps</th> <td>mobilenet</td></tr></table>"
      ],
      "text/plain": [
       "{'name': 'cv-retail-pipeline', 'create_time': datetime.datetime(2023, 7, 28, 19, 26, 41, 215539, tzinfo=tzutc()), 'definition': \"[{'ModelInference': {'models': [{'name': 'mobilenet', 'version': '1f3e1ff3-92f4-4b38-88a2-e3425c93b0a9', 'sha': '9044c970ee061cc47e0c77e20b05e884be37f2a20aa9c0c3ce1993dbd486a830'}]}}, {'ModelInference': {'models': [{'name': 'cv-post-process-drift-detection', 'version': '96f3d490-37fc-4c6a-a731-04d19b977443', 'sha': 'f60c8ca55c6350d23a4e76d24cc3e5922616090686e88c875fadd6e79c403be5'}]}}]\"}"
      ]
     },
     "execution_count": 8,
     "metadata": {},
     "output_type": "execute_result"
    }
   ],
   "source": [
    "# in case this was run before\n",
    "pipeline.undeploy()\n",
    "pipeline.clear()\n",
    "pipeline.add_model_step(mobilenet_model)\n",
    "pipeline.add_model_step(module_post_process)"
   ]
  },
  {
   "cell_type": "code",
   "execution_count": 26,
   "metadata": {},
   "outputs": [
    {
     "name": "stdout",
     "output_type": "stream",
     "text": [
      "Please log into the following URL in a web browser:\n",
      "\n",
      "\thttps://doc-test.keycloak.wallaroocommunity.ninja/auth/realms/master/device?user_code=KHSA-YYRU\n",
      "\n",
      "Login successful!\n"
     ]
    },
    {
     "data": {
      "text/html": [
       "<table><tr><th>name</th> <td>cv-retail-pipeline</td></tr><tr><th>created</th> <td>2023-07-28 19:26:41.215539+00:00</td></tr><tr><th>last_updated</th> <td>2023-08-04 17:05:09.154597+00:00</td></tr><tr><th>deployed</th> <td>True</td></tr><tr><th>tags</th> <td></td></tr><tr><th>versions</th> <td>2cbd3190-0e76-4671-8925-b236f46dfb1c, 95162b60-10a7-4663-bb9e-5bf76f69d665, e82d7f86-2646-4946-900e-e371d48c4c75, de2a9ad5-7a98-4a43-80d5-6e55a0c813f6, bfe5c1eb-e129-4093-99a2-8e588d4abcec, dc13ac9b-90c3-49d1-86f0-83c3d3186173, 8a067ab5-7423-4554-82ac-d75594fe4ca4, 71f5ffae-e74c-459b-b30a-b6a3ae260695, c9cfcb2d-d789-4cdd-8e62-b5108192179f, 5e1d35ef-fb98-4ffe-8344-93609046f025, 3bd9a6ce-4ccb-4a93-9ccb-ae559e91048c</td></tr><tr><th>steps</th> <td>mobilenet</td></tr></table>"
      ],
      "text/plain": [
       "{'name': 'cv-retail-pipeline', 'create_time': datetime.datetime(2023, 7, 28, 19, 26, 41, 215539, tzinfo=tzutc()), 'definition': \"[{'ModelInference': {'models': [{'name': 'mobilenet', 'version': '1f3e1ff3-92f4-4b38-88a2-e3425c93b0a9', 'sha': '9044c970ee061cc47e0c77e20b05e884be37f2a20aa9c0c3ce1993dbd486a830'}]}}, {'ModelInference': {'models': [{'name': 'cv-post-process-drift-detection', 'version': '96f3d490-37fc-4c6a-a731-04d19b977443', 'sha': 'f60c8ca55c6350d23a4e76d24cc3e5922616090686e88c875fadd6e79c403be5'}]}}]\"}"
      ]
     },
     "execution_count": 26,
     "metadata": {},
     "output_type": "execute_result"
    }
   ],
   "source": [
    "pipeline.deploy(deployment_config = deployment_config)"
   ]
  },
  {
   "cell_type": "code",
   "execution_count": 27,
   "metadata": {},
   "outputs": [
    {
     "data": {
      "text/plain": [
       "{'status': 'Running',\n",
       " 'details': [],\n",
       " 'engines': [{'ip': '10.244.3.228',\n",
       "   'name': 'engine-8668758f46-fdllr',\n",
       "   'status': 'Running',\n",
       "   'reason': None,\n",
       "   'details': [],\n",
       "   'pipeline_statuses': {'pipelines': [{'id': 'cv-retail-pipeline',\n",
       "      'status': 'Running'}]},\n",
       "   'model_statuses': {'models': [{'name': 'cv-post-process-drift-detection',\n",
       "      'version': '96f3d490-37fc-4c6a-a731-04d19b977443',\n",
       "      'sha': 'f60c8ca55c6350d23a4e76d24cc3e5922616090686e88c875fadd6e79c403be5',\n",
       "      'status': 'Running'},\n",
       "     {'name': 'mobilenet',\n",
       "      'version': '1f3e1ff3-92f4-4b38-88a2-e3425c93b0a9',\n",
       "      'sha': '9044c970ee061cc47e0c77e20b05e884be37f2a20aa9c0c3ce1993dbd486a830',\n",
       "      'status': 'Running'}]}}],\n",
       " 'engine_lbs': [{'ip': '10.244.4.156',\n",
       "   'name': 'engine-lb-584f54c899-tjqht',\n",
       "   'status': 'Running',\n",
       "   'reason': None,\n",
       "   'details': []}],\n",
       " 'sidekicks': []}"
      ]
     },
     "execution_count": 27,
     "metadata": {},
     "output_type": "execute_result"
    }
   ],
   "source": [
    "pipeline.status()"
   ]
  },
  {
   "cell_type": "code",
   "execution_count": 28,
   "metadata": {},
   "outputs": [
    {
     "data": {
      "text/plain": [
       "[{'ModelInference': {'models': [{'name': 'mobilenet', 'version': '1f3e1ff3-92f4-4b38-88a2-e3425c93b0a9', 'sha': '9044c970ee061cc47e0c77e20b05e884be37f2a20aa9c0c3ce1993dbd486a830'}]}},\n",
       " {'ModelInference': {'models': [{'name': 'cv-post-process-drift-detection', 'version': '96f3d490-37fc-4c6a-a731-04d19b977443', 'sha': 'f60c8ca55c6350d23a4e76d24cc3e5922616090686e88c875fadd6e79c403be5'}]}}]"
      ]
     },
     "execution_count": 28,
     "metadata": {},
     "output_type": "execute_result"
    }
   ],
   "source": [
    "pipeline.steps()"
   ]
  },
  {
   "cell_type": "markdown",
   "metadata": {},
   "source": [
    "## Test the pipeline by running inference on a sample image"
   ]
  },
  {
   "cell_type": "markdown",
   "metadata": {
    "tags": []
   },
   "source": [
    "### Prepare input image\n",
    "\n",
    "Next we will load a sample image and resize it to the width and height required for the object detector.\n",
    "\n",
    "We will convert the image to a numpy ndim array and add it do a dictionary"
   ]
  },
  {
   "cell_type": "markdown",
   "metadata": {
    "tags": []
   },
   "source": [
    "# Run inference using the SDK \n",
    "\n",
    "Now lets have the model detect the objects on the image by running inference and extracting the results "
   ]
  },
  {
   "cell_type": "code",
   "execution_count": 48,
   "metadata": {},
   "outputs": [
    {
     "data": {
      "text/plain": [
       "[                                              tensor\n",
       " 0  [[[[0.18039216 0.18039216 0.18039216 0.1803921...,\n",
       "                                               tensor\n",
       " 0  [[[[0.12156863 0.07450981 0.04705882 0.0431372...,\n",
       "                                               tensor\n",
       " 0  [[[[1. 1. 1. 1. 1. 1. 1. 1. 1. 1. 1. 1. 1. 1. ...]"
      ]
     },
     "metadata": {},
     "output_type": "display_data"
    },
    {
     "data": {
      "text/plain": [
       "[                     time                                          in.tensor  \\\n",
       " 0 2023-08-04 18:09:49.757  [0.180392161, 0.180392161, 0.180392161, 0.1803...   \n",
       " \n",
       "            out.avg_conf                                          out.boxes  \\\n",
       " 0  [0.9998139739036561]  [[202.2082061767578, 273.072021484375, 606.092...   \n",
       " \n",
       "   out.classes       out.confidences  check_failures  \n",
       " 0         [5]  [0.9998139739036561]               0  ,\n",
       "                      time                                          in.tensor  \\\n",
       " 0 2023-08-04 18:09:50.589  [0.1215686277, 0.0745098069, 0.0470588244, 0.0...   \n",
       " \n",
       "            out.avg_conf                                          out.boxes  \\\n",
       " 0  [0.4765825836131201]  [[273.4986877441406, 88.34534454345703, 539.96...   \n",
       " \n",
       "                                   out.classes  \\\n",
       " 0  [19, 1, 18, 1, 1, 3, 8, 1, 19, 1, 3, 1, 3]   \n",
       " \n",
       "                                      out.confidences  check_failures  \n",
       " 0  [0.9991384744644161, 0.9950750470161431, 0.929...               0  ,\n",
       "                      time                                          in.tensor  \\\n",
       " 0 2023-08-04 18:09:48.529  [1.0, 1.0, 1.0, 1.0, 1.0, 1.0, 1.0, 1.0, 1.0, ...   \n",
       " \n",
       "            out.avg_conf                                          out.boxes  \\\n",
       " 0  [0.9871447682380671]  [[141.0188751220703, 114.2781982421875, 507.71...   \n",
       " \n",
       "   out.classes       out.confidences  check_failures  \n",
       " 0         [1]  [0.9871447682380671]               0  ]"
      ]
     },
     "metadata": {},
     "output_type": "display_data"
    }
   ],
   "source": [
    "import datetime\n",
    "import time\n",
    "\n",
    "startBaseline = datetime.datetime.now()\n",
    "startTime = time.time()\n",
    "\n",
    "sample_images = [\n",
    "    \"./data/images/input/example/coats-jackets.png\",\n",
    "    \"./data/images/input/example/dairy_bottles.png\",\n",
    "    \"./data/images/input/example/dairy_products.png\",\n",
    "    \"./data/images/input/example/example_01.jpg\",\n",
    "    \"./data/images/input/example/example_02.jpg\",\n",
    "    \"./data/images/input/example/example_03.jpg\",\n",
    "    \"./data/images/input/example/example_04.jpg\",\n",
    "    \"./data/images/input/example/example_05.jpg\",\n",
    "    \"./data/images/input/example/example_06.jpg\",\n",
    "    \"./data/images/input/example/example_09.jpg\",\n",
    "    \"./data/images/input/example/example_dress.jpg\",\n",
    "    \"./data/images/input/example/example_shoe.jpg\",\n",
    "    \"./data/images/input/example/frame5244.jpg\",\n",
    "    \"./data/images/input/example/frame8744.jpg\",\n",
    "    \"./data/images/input/example/product_cheeses.png\",\n",
    "    \"./data/images/input/example/store-front.png\",\n",
    "    \"./data/images/input/example/vegtables_poor_identification.jpg\"\n",
    "]\n",
    "\n",
    "baseline_images = [\n",
    "    \"./data/images/input/example/example_02.jpg\",\n",
    "    \"./data/images/input/example/example_05.jpg\",\n",
    "    \"./data/images/input/example/example_dress.jpg\",\n",
    "]\n",
    "\n",
    "bad_images = [\n",
    "    \"./data/images/input/example/coats-jackets.png\",\n",
    "    \"./data/images/input/example/frame8744.jpg\",\n",
    "]\n",
    "\n",
    "# # do an inference off each image\n",
    "\n",
    "image_confidence = pd.DataFrame(columns=[\"path\", \"confidence\"])\n",
    "\n",
    "inference_list = []\n",
    "\n",
    "# convert all of these into a parallel infer list, then one parallel infer to cut down time\n",
    "for image in baseline_images:\n",
    "    width, height = 640, 480\n",
    "    dfImage, resizedImage = cvDemo.loadImageAndConvertToDataframe(image, \n",
    "                                                              width, \n",
    "                                                              height\n",
    "                                                              )\n",
    "    \n",
    "    inference_list.append(dfImage)\n",
    "    \n",
    "display(inference_list)\n",
    "startTime = time.time()\n",
    "parallel_results = await pipeline.parallel_infer(tensor_list=inference_list, timeout=20, num_parallel=16, retries=2)\n",
    "display(parallel_results)\n",
    "endTime = time.time()\n",
    "\n",
    "endBaseline = datetime.datetime.now()"
   ]
  },
  {
   "cell_type": "markdown",
   "metadata": {},
   "source": [
    "## Build Assay\n",
    "\n"
   ]
  },
  {
   "cell_type": "code",
   "execution_count": 49,
   "metadata": {},
   "outputs": [],
   "source": [
    "assay_name = \"cv assay 01\"\n",
    "assay_builder = wl.build_assay(assay_name, \n",
    "                               pipeline, \n",
    "                               step_name, \n",
    "                               startBaseline, \n",
    "                               endBaseline).add_iopath(\"output avg_conf 0\")"
   ]
  },
  {
   "cell_type": "code",
   "execution_count": 50,
   "metadata": {},
   "outputs": [
    {
     "data": {
      "text/html": [
       "<div>\n",
       "<style scoped>\n",
       "    .dataframe tbody tr th:only-of-type {\n",
       "        vertical-align: middle;\n",
       "    }\n",
       "\n",
       "    .dataframe tbody tr th {\n",
       "        vertical-align: top;\n",
       "    }\n",
       "\n",
       "    .dataframe thead th {\n",
       "        text-align: right;\n",
       "    }\n",
       "</style>\n",
       "<table border=\"1\" class=\"dataframe\">\n",
       "  <thead>\n",
       "    <tr style=\"text-align: right;\">\n",
       "      <th></th>\n",
       "      <th>Baseline</th>\n",
       "    </tr>\n",
       "  </thead>\n",
       "  <tbody>\n",
       "    <tr>\n",
       "      <th>count</th>\n",
       "      <td>3</td>\n",
       "    </tr>\n",
       "    <tr>\n",
       "      <th>min</th>\n",
       "      <td>0.476583</td>\n",
       "    </tr>\n",
       "    <tr>\n",
       "      <th>max</th>\n",
       "      <td>0.999814</td>\n",
       "    </tr>\n",
       "    <tr>\n",
       "      <th>mean</th>\n",
       "      <td>0.82118</td>\n",
       "    </tr>\n",
       "    <tr>\n",
       "      <th>median</th>\n",
       "      <td>0.987145</td>\n",
       "    </tr>\n",
       "    <tr>\n",
       "      <th>std</th>\n",
       "      <td>0.243722</td>\n",
       "    </tr>\n",
       "    <tr>\n",
       "      <th>start</th>\n",
       "      <td>2023-08-04T18:09:41.343393Z</td>\n",
       "    </tr>\n",
       "    <tr>\n",
       "      <th>end</th>\n",
       "      <td>2023-08-04T18:09:54.231417Z</td>\n",
       "    </tr>\n",
       "  </tbody>\n",
       "</table>\n",
       "</div>"
      ],
      "text/plain": [
       "                           Baseline\n",
       "count                             3\n",
       "min                        0.476583\n",
       "max                        0.999814\n",
       "mean                        0.82118\n",
       "median                     0.987145\n",
       "std                        0.243722\n",
       "start   2023-08-04T18:09:41.343393Z\n",
       "end     2023-08-04T18:09:54.231417Z"
      ]
     },
     "execution_count": 50,
     "metadata": {},
     "output_type": "execute_result"
    }
   ],
   "source": [
    "baseline_run = assay_builder.build().interactive_baseline_run()\n",
    "\n",
    "baseline_run.baseline_stats()"
   ]
  },
  {
   "cell_type": "markdown",
   "metadata": {},
   "source": [
    "## Build the assay\n",
    "\n",
    "This may take about 5 - 10 minutes to run to generate items in the window."
   ]
  },
  {
   "cell_type": "code",
   "execution_count": 54,
   "metadata": {},
   "outputs": [],
   "source": [
    "## Blank space to run more data\n",
    "\n",
    "import time\n",
    "\n",
    "assay_start = datetime.datetime.now()\n",
    "\n",
    "regular_images = []\n",
    "\n",
    "bad_images = []\n",
    "\n",
    "for image in bad_images:\n",
    "    width, height = 640, 480\n",
    "    dfImage, resizedImage = cvDemo.loadImageAndConvertToDataframe(image, \n",
    "                                                              width, \n",
    "                                                              height\n",
    "                                                              )\n",
    "    \n",
    "    bad_images.append(dfImage)\n",
    "    \n",
    "for i in range(3):\n",
    "    parallel_results = await pipeline.parallel_infer(tensor_list=bad_images, timeout=20, num_parallel=16, retries=2)\n",
    "    time.sleep(35)\n",
    "    parallel_results = await pipeline.parallel_infer(tensor_list=inference_list, timeout=20, num_parallel=16, retries=2)\n",
    "    time.sleep(35)\n",
    "\n",
    "\n",
    "assay_end = datetime.datetime.now()\n"
   ]
  },
  {
   "cell_type": "code",
   "execution_count": 55,
   "metadata": {},
   "outputs": [],
   "source": [
    "# blank space for setting assay parameters, creating and examining an interactive assay\n",
    "\n",
    "# now set up our interactive assay based on the window set above.\n",
    "\n",
    "assay_builder = assay_builder.add_run_until(assay_end)\n",
    "\n",
    "# We don't have many records at the moment, so set the width to 1 minute so it'll slice each \n",
    "# one minute interval into a window to analyze\n",
    "assay_builder.window_builder().add_width(minutes=1).add_interval(minutes=1)\n",
    "\n",
    "# Build the assay and then do an interactive run rather than waiting for the next interval\n",
    "assay_config = assay_builder.build()\n",
    "assay_results = assay_config.interactive_run()"
   ]
  },
  {
   "cell_type": "code",
   "execution_count": 56,
   "metadata": {},
   "outputs": [
    {
     "name": "stdout",
     "output_type": "stream",
     "text": [
      "Generated 8 analyses\n"
     ]
    },
    {
     "data": {
      "image/png": "[encoded data removed]",
      "text/plain": [
       "<Figure size 640x480 with 1 Axes>"
      ]
     },
     "metadata": {},
     "output_type": "display_data"
    }
   ],
   "source": [
    "# Show how many assay windows were analyzed, then show the chart\n",
    "print(f\"Generated {len(assay_results)} analyses\")\n",
    "assay_results.chart_scores()"
   ]
  },
  {
   "cell_type": "code",
   "execution_count": 57,
   "metadata": {},
   "outputs": [],
   "source": [
    "pipeline.undeploy()"
   ]
  }
 ],
 "metadata": {
  "kernelspec": {
   "display_name": "Python 3 (ipykernel)",
   "language": "python",
   "name": "python3"
  },
  "language_info": {
   "codemirror_mode": {
    "name": "ipython",
    "version": 3
   },
   "file_extension": ".py",
   "mimetype": "text/x-python",
   "name": "python",
   "nbconvert_exporter": "python",
   "pygments_lexer": "ipython3",
   "version": "3.8.17"
  }
 },
 "nbformat": 4,
 "nbformat_minor": 4
}
