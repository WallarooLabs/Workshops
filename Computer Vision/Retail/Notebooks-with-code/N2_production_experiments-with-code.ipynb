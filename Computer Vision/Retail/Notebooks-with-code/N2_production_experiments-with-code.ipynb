{
 "cells": [
  {
   "attachments": {},
   "cell_type": "markdown",
   "id": "7d3757d4-9096-48d0-a0b3-ee52a1855d32",
   "metadata": {},
   "source": [
    "# Workshop Notebook 2: Vetting a Model With Production Experiments\n",
    "\n",
    "So far, we've discussed practices and methods for transitioning an ML model and related artifacts from development to production. However, just the act of pushing a model into production is not the only consideration. In many situations, it's important to vet a model's performance in the real world before fully activating it. Real world vetting can surface issues that may not have arisen during the development stage, when models are only checked using hold-out data.\n",
    "\n",
    "In this notebook, you will learn about two kinds of production ML model validation methods: A/B testing and Shadow Deployments. A/B tests and other types of experimentation are part of the ML lifecycle. The ability to quickly experiment and test new models in the real world helps data scientists to continually learn, innovate, and improve AI-driven decision processes.\n",
    "\n",
    "## Prerequisites\n",
    "\n",
    "This notebook assumes that you have completed Notebook 1 \"Deploy a Model\", and that at this point you have:\n",
    "\n",
    "* Created and worked with a Workspace.\n",
    "* Uploaded ML Models and worked with Wallaroo Model Versions.\n",
    "* Created a Wallaroo Pipeline, added model versions as pipeline steps, and deployed the pipeline.\n",
    "* Performed sample inferences and undeployed the pipeline.\n",
    "\n",
    "The same workspace, models, and pipelines will be used for this notebook."
   ]
  },
  {
   "attachments": {},
   "cell_type": "markdown",
   "id": "87581d25-ce36-498d-9051-6f0585a51387",
   "metadata": {},
   "source": [
    "## Preliminaries\n",
    "\n",
    "In the blocks below we will preload some required libraries.\n",
    "\n",
    "For convenience, the following `helper functions` are defined to retrieve previously created workspaces, models, and pipelines:\n",
    "\n",
    "* `get_workspace(name, client)`: This takes in the name and the Wallaroo client being used in this session, and returns the workspace matching `name`.  If no workspaces are found matching the name, raises a `KeyError` and returns `None`.\n",
    "* `get_model_version(model_name, workspace)`: Retrieves the most recent model version from the model matching the `model_name` within the provided `workspace`.  If no model matches that name, raises a `KeyError` and returns `None`.\n",
    "* `get_pipeline(pipeline_name, workspace)`: Retrieves the most pipeline from the workspace matching the `pipeline_name` within the provided `workspace`.  If no model matches that name, raises a `KeyError` and returns `None`.\n"
   ]
  },
  {
   "cell_type": "code",
   "execution_count": 3,
   "id": "01e8e99c-63f5-4c26-9d51-11b5ff134327",
   "metadata": {},
   "outputs": [],
   "source": [
    "# preload needed libraries \n",
    "\n",
    "import wallaroo\n",
    "from wallaroo.object import EntityNotFoundError\n",
    "from wallaroo.framework import Framework\n",
    "\n",
    "from IPython.display import display\n",
    "\n",
    "# used to display DataFrame information without truncating\n",
    "from IPython.display import display\n",
    "import pandas as pd\n",
    "pd.set_option('display.max_colwidth', None)\n",
    "\n",
    "import json\n",
    "import datetime\n",
    "import time\n",
    "\n",
    "# used for unique connection names\n",
    "\n",
    "import string\n",
    "import random\n",
    "\n",
    "import pyarrow as pa\n",
    "\n",
    "import sys\n",
    " \n",
    "# setting path - only needed when running this from the `with-code` folder.\n",
    "sys.path.append('../')\n",
    "\n",
    "from CVDemoUtils import CVDemo\n",
    "cvDemo = CVDemo()\n",
    "cvDemo.COCO_CLASSES_PATH = \"../models/coco_classes.pickle\""
   ]
  },
  {
   "cell_type": "code",
   "execution_count": 4,
   "id": "cc3c1ab1-938b-49ff-b4bf-4a2daefcec3a",
   "metadata": {},
   "outputs": [],
   "source": [
    "## convenience functions from the previous notebook\n",
    "\n",
    "# return the workspace called <name> through the Wallaroo client.\n",
    "def get_workspace(name, client):\n",
    "    workspace = None\n",
    "    for ws in client.list_workspaces():\n",
    "        if ws.name() == name:\n",
    "            workspace= ws\n",
    "            return workspace\n",
    "    # if no workspaces were found\n",
    "    if workspace==None:\n",
    "        raise KeyError(f\"Workspace {name} was not found.\")\n",
    "    return workspace\n",
    "\n",
    "\n",
    "# returns the most recent model version in a workspace for the matching `model_name`\n",
    "def get_model_version(model_name, workspace):\n",
    "    modellist = workspace.models()\n",
    "    model_version = [m.versions()[-1] for m in modellist if m.name() == model_name]\n",
    "    # if no models match, return None\n",
    "    if len(modellist) <= 0:\n",
    "        raise KeyError(f\"Model {mname} not found in this workspace\")\n",
    "        return None\n",
    "    return model_version[0]\n",
    "\n",
    "# get a pipeline by name in the workspace\n",
    "def get_pipeline(pipeline_name, workspace):\n",
    "    plist = workspace.pipelines()\n",
    "    pipeline = [p for p in plist if p.name() == pipeline_name]\n",
    "    if len(pipeline) <= 0:\n",
    "        raise KeyError(f\"Pipeline {pipeline_name} not found in this workspace\")\n",
    "        return None\n",
    "    return pipeline[0]\n"
   ]
  },
  {
   "cell_type": "markdown",
   "id": "c2b76b8f",
   "metadata": {},
   "source": [
    "#### Pre-exercise\n",
    "\n",
    "If needed, log into Wallaroo and go to the workspace, pipeline, and most recent model version from the ones that you created in the previous notebook. Please refer to Notebook 1 to refresh yourself on how to log in and set your working environment to the appropriate workspace."
   ]
  },
  {
   "cell_type": "code",
   "execution_count": 5,
   "id": "25618e30-3fc9-4cc2-81f5-9c864aad4afb",
   "metadata": {},
   "outputs": [
    {
     "data": {
      "text/plain": [
       "{'name': 'workshop-workspace-john-cv-01', 'id': 305, 'archived': False, 'created_by': 'd1704c38-2016-4b1d-9407-85e7e6875e6d', 'created_at': '2023-09-15T15:33:11.282661+00:00', 'models': [{'name': 'mobilenet', 'versions': 2, 'owner_id': '\"\"', 'last_update_time': datetime.datetime(2023, 9, 15, 15, 41, 52, 806845, tzinfo=tzutc()), 'created_at': datetime.datetime(2023, 9, 15, 15, 41, 18, 436823, tzinfo=tzutc())}], 'pipelines': [{'name': 'cv-retail', 'create_time': datetime.datetime(2023, 9, 15, 15, 42, 19, 274266, tzinfo=tzutc()), 'definition': '[]'}]}"
      ]
     },
     "metadata": {},
     "output_type": "display_data"
    },
    {
     "data": {
      "text/html": [
       "<table><tr><th>name</th> <td>cv-retail</td></tr><tr><th>created</th> <td>2023-09-15 15:42:19.274266+00:00</td></tr><tr><th>last_updated</th> <td>2023-09-15 15:42:36.247278+00:00</td></tr><tr><th>deployed</th> <td>False</td></tr><tr><th>tags</th> <td></td></tr><tr><th>versions</th> <td>b29ae2db-bf89-48ba-8ed3-783f5603e278, ef3cdb70-ebb8-4dd9-b3a7-6e9f4b70c057</td></tr><tr><th>steps</th> <td>mobilenet</td></tr></table>"
      ],
      "text/plain": [
       "{'name': 'cv-retail', 'create_time': datetime.datetime(2023, 9, 15, 15, 42, 19, 274266, tzinfo=tzutc()), 'definition': '[]'}"
      ]
     },
     "metadata": {},
     "output_type": "display_data"
    },
    {
     "data": {
      "text/html": [
       "<table>\n",
       "        <tr>\n",
       "          <td>Name</td>\n",
       "          <td>mobilenet</td>\n",
       "        </tr>\n",
       "        <tr>\n",
       "          <td>Version</td>\n",
       "          <td>c3edd70a-a101-4cb0-8ddb-d3a95ef01e26</td>\n",
       "        </tr>\n",
       "        <tr>\n",
       "          <td>File Name</td>\n",
       "          <td>mobilenet.pt.onnx</td>\n",
       "        </tr>\n",
       "        <tr>\n",
       "          <td>SHA</td>\n",
       "          <td>9044c970ee061cc47e0c77e20b05e884be37f2a20aa9c0c3ce1993dbd486a830</td>\n",
       "        </tr>\n",
       "        <tr>\n",
       "          <td>Status</td>\n",
       "          <td>ready</td>\n",
       "        </tr>\n",
       "        <tr>\n",
       "          <td>Image Path</td>\n",
       "          <td>None</td>\n",
       "        </tr>\n",
       "        <tr>\n",
       "          <td>Updated At</td>\n",
       "          <td>2023-15-Sep 15:41:52</td>\n",
       "        </tr>\n",
       "      </table>"
      ],
      "text/plain": [
       "{'name': 'mobilenet', 'version': 'c3edd70a-a101-4cb0-8ddb-d3a95ef01e26', 'file_name': 'mobilenet.pt.onnx', 'image_path': None, 'last_update_time': datetime.datetime(2023, 9, 15, 15, 41, 52, 806845, tzinfo=tzutc())}"
      ]
     },
     "metadata": {},
     "output_type": "display_data"
    }
   ],
   "source": [
    "## blank space to log in \n",
    "\n",
    "wl = wallaroo.Client()\n",
    "\n",
    "wallarooPrefix = \"beautiful-platypus-3587.\"\n",
    "wallarooSuffix = \"wallaroo.community\"\n",
    "\n",
    "wl = wallaroo.Client(api_endpoint=f\"https://{wallarooPrefix}api.{wallarooSuffix}\", \n",
    "                    auth_endpoint=f\"https://{wallarooPrefix}keycloak.{wallarooSuffix}\", \n",
    "                    auth_type=\"sso\")\n",
    "\n",
    "# retrieve the previous workspace, model, and pipeline version\n",
    "\n",
    "workspace_name = \"workshop-workspace-john-cv-01\"\n",
    "\n",
    "workspace = get_workspace(workspace_name, wl)\n",
    "\n",
    "# set your current workspace to the workspace that you just created\n",
    "wl.set_current_workspace(workspace)\n",
    "\n",
    "# optionally, examine your current workspace\n",
    "wl.get_current_workspace()\n",
    "\n",
    "model_name = 'mobilenet'\n",
    "\n",
    "prime_model_version = get_model_version(model_name, workspace)\n",
    "\n",
    "pipeline_name = 'cv-retail'\n",
    "\n",
    "pipeline = get_pipeline(pipeline_name, workspace)\n",
    "\n",
    "# display the workspace, pipeline and model version\n",
    "display(workspace)\n",
    "display(pipeline)\n",
    "display(prime_model_version)\n"
   ]
  },
  {
   "cell_type": "markdown",
   "id": "5b6e0cbc",
   "metadata": {},
   "source": [
    "## Upload Challenger Models\n",
    "\n",
    "Multiple models can be uploaded to a Wallaroo workspace and deployed in a Pipeline as a `pipeline step`.  These can include pre or post processing Python steps, models that take in different input and output types, or ML models that are of totally different frameworks.\n",
    "\n",
    "For this module, we will are focuses on different models that have the same input and outputs that are compared to each other to find the \"best\" model to use.  Before we start, we'll upload another set of models that were pre-trained to provide house prices.  In 'Deploy a Model' we used the file `xgb_model.onnx` as our model.\n",
    "\n",
    "### Upload Challenger Models Exercise\n",
    "\n",
    "Upload to the workspace set in the steps above the challenger models `./models/rf_model.onnx` and `./models/gbr_model.onnx`.  Recall this is done with the Wallaroo SDK command `wallaroo.Client.upload_model(name, path, framework, input_schema, output_schema)`.  Because we're working with ONNX models which are part of the native Wallaroo runtimes, we only need to provide a `name`, `path`, and `framework`, and the framework is `wallaroo.framework.Framework.ONNX`.\n",
    "\n",
    "Upload both `./models/rf_model.onnx` and `./models/gbr_model.onnx` as new models, and return the returned model versions as variables for later use.  Make sure to use **unique** names when uploading the models, or else they will be uploaded as new model versions to an existing model.  Here's an example, assuming that the model `xgb_model.onnx` was uploaded as `house-price-prime`\n",
    "\n",
    "```python\n",
    "house_price_rf_model_version = wl.upload_model('house-price-rf-model',\n",
    "                                            '../models/rf_model.onnx',\n",
    "                                            framework=wallaroo.framework.Framework.ONNX)\n",
    "display(house_price_rf_model_version)\n",
    "\n",
    "house_price_gbr_model_version = wl.upload_model('house-price-gbr-model',\n",
    "                                            '../models/gbr_model.onnx',\n",
    "                                            framework=wallaroo.framework.Framework.ONNX)\n",
    "display(house_price_rf_model_version)\n",
    "```"
   ]
  },
  {
   "cell_type": "code",
   "execution_count": 8,
   "id": "19ddaad7",
   "metadata": {},
   "outputs": [
    {
     "data": {
      "text/html": [
       "<table>\n",
       "        <tr>\n",
       "          <td>Name</td>\n",
       "          <td>resnet50</td>\n",
       "        </tr>\n",
       "        <tr>\n",
       "          <td>Version</td>\n",
       "          <td>aa87ddba-bd42-4924-b188-3e9552569a13</td>\n",
       "        </tr>\n",
       "        <tr>\n",
       "          <td>File Name</td>\n",
       "          <td>frcnn-resnet.pt.onnx</td>\n",
       "        </tr>\n",
       "        <tr>\n",
       "          <td>SHA</td>\n",
       "          <td>43326e50af639105c81372346fb9ddf453fea0fe46648b2053c375360d9c1647</td>\n",
       "        </tr>\n",
       "        <tr>\n",
       "          <td>Status</td>\n",
       "          <td>ready</td>\n",
       "        </tr>\n",
       "        <tr>\n",
       "          <td>Image Path</td>\n",
       "          <td>None</td>\n",
       "        </tr>\n",
       "        <tr>\n",
       "          <td>Updated At</td>\n",
       "          <td>2023-15-Sep 17:40:26</td>\n",
       "        </tr>\n",
       "      </table>"
      ],
      "text/plain": [
       "{'name': 'resnet50', 'version': 'aa87ddba-bd42-4924-b188-3e9552569a13', 'file_name': 'frcnn-resnet.pt.onnx', 'image_path': None, 'last_update_time': datetime.datetime(2023, 9, 15, 17, 40, 26, 598314, tzinfo=tzutc())}"
      ]
     },
     "metadata": {},
     "output_type": "display_data"
    }
   ],
   "source": [
    "cv_resnet_version = (wl.upload_model('resnet50',\n",
    "                                    '../models/frcnn-resnet.pt.onnx',\n",
    "                                    framework=wallaroo.framework.Framework.ONNX)\n",
    "                                    .configure(tensor_fields=[\"tensor\"],\n",
    "                                               batch_config=\"single\"\n",
    "                                               )\n",
    "                    )\n",
    "display(cv_resnet_version)"
   ]
  },
  {
   "attachments": {},
   "cell_type": "markdown",
   "id": "f795f5bb-b8e8-4826-932e-a2a4dd8204b2",
   "metadata": {},
   "source": [
    "## A/B Pipeline Steps\n",
    "\n",
    "An [A/B test](https://en.wikipedia.org/wiki/A/B_testing), also called a controlled experiment or a randomized control trial, is a statistical method of determining which of a set of variants is the best. A/B tests allow organizations and policy-makers to make smarter, data-driven decisions that are less dependent on guesswork.\n",
    "\n",
    "In the simplest version of an A/B test, subjects are randomly assigned to either the **_control group_** (group A) or the **_treatment group_** (group B). Subjects in the treatment group receive the treatment (such as a new medicine, a special offer, or a new web page design) while the control group proceeds as normal without the treatment. Data is then collected on the outcomes and used to study the effects of the treatment.\n",
    "\n",
    "In data science, A/B tests are often used to choose between two or more candidate models in production, by measuring which model performs best in the real world. In this formulation, the control is often an existing model that is currently in production, sometimes called the **_champion_**. The treatment is a new model being considered to replace the old one. This new model is sometimes called the **_challenger_**. In our discussion, we'll use the terms *champion* and *challenger*, rather than *control* and *treatment*.\n",
    "\n",
    "When data is sent to a Wallaroo A/B test pipeline for inference, each datum is randomly sent to either the champion or challenger. After enough data has been sent to collect statistics on all the models in the A/B test pipeline, then those outcomes can be analyzed to determine the difference (if any) in the performance of the champion and challenger. Usually, the purpose of an A/B test is to decide whether or not to replace the champion with the challenger.\n",
    "\n",
    "Keep in mind that in machine learning, the terms experiments and trials also often refer to the process of finding a training configuration that works best for the problem at hand (this is sometimes called hyperparameter optimization). In this guide, we will use the term experiment to refer to the use of A/B tests to compare the performance of different models in production.\n",
    "\n",
    "There are a number of considerations to designing an A/B test; you can check out the article [*The What, Why, and How of A/B Testing*](https://wallarooai.medium.com/the-what-why-and-how-of-a-b-testing-64471847cd7e) for more details. In these exercises, we will concentrate on the deployment aspects.  You will need a champion model and  at least one challenger model. You also need to decide on a data split: for example 50-50 between the champion and challenger, or a 2:1 ratio between champion and challenger (two-thirds of the data to the champion, one-third to the challenger).\n",
    "\n",
    "As an example of creating an A/B test deployment, suppose you have a champion model called \"champion\", that you have been running in a one-step pipeline called \"pipeline\". You now want to compare it to a challenger model called \"challenger\". For your A/B test, you will send two-thirds of the data to the champion, and the other third to the challenger. Both models have already been uploaded.\n",
    "\n",
    "A/B pipeline steps are created with one of the two following commands:\n",
    "\n",
    "* `wallaroo.pipeline.add_random_split([(weight1, model1), (weight2, model2)...])`: Create a new A/B Pipeline Step with the provided models and weights.\n",
    "* `wallaroo.pipeline.replace_with_random_split(index, [(weight1, model1), (weight2, model2)...])`: Replace an existing Pipeline step with an A/B pipeline step at the specified index.\n",
    "\n",
    "For A/B testing, pipeline steps are **added** or **replace** an existing step.\n",
    "\n",
    "To **add** a A/B testing step use the Pipeline `add_random_split` method with the following parameters:\n",
    "\n",
    "| Parameter | Type | Description |\n",
    "| --- | --- | ---|\n",
    "| **champion_weight** | Float (Required) | The weight for the champion model. |\n",
    "| **champion_model** | Wallaroo.Model (Required) | The uploaded champion model. |\n",
    "| **challenger_weight** | Float (Required) | The weight of the challenger model. |\n",
    "| **challenger_model** | Wallaroo.Model (Required) | The uploaded challenger model. |\n",
    "| **hash_key** | String(Optional) | A key used instead of a random number for model selection.  This must be between 0.0 and 1.0. |\n",
    "\n",
    "\n",
    "Note that multiple challenger models with different weights can be added as the random split step.\n",
    "\n",
    "In this example, a pipeline will be built with a 2:1 weighted ratio between the champion and a single challenger model.\n",
    "\n",
    "```python\n",
    "pipeline.add_random_split([(2, control), (1, challenger)]))\n",
    "```\n",
    "\n",
    "To **replace** an existing pipeline step with an A/B testing step use the Pipeline `replace_with_random_split` method.\n",
    "\n",
    "| Parameter | Type | Description |\n",
    "| --- | --- | ---|\n",
    "| **index** | Integer (Required) | The pipeline step being replaced. |\n",
    "| **champion_weight** | Float (Required) | The weight for the champion model. |\n",
    "| **champion_model** | Wallaroo.Model (Required) | The uploaded champion model. |\n",
    "| **challenger_weight** | Float (Required) | The weight of the challenger model. |\n",
    "| **challenger_model** | Wallaroo.Model (Required) | The uploaded challenger model. |\n",
    "| **hash_key** | String(Optional) | A key used instead of a random number for model selection.  This must be between 0.0 and 1.0. |\n",
    "\n",
    "This example replaces the first pipeline step with a 2:1 champion to challenger radio.\n",
    "\n",
    "```python\n",
    "pipeline.replace_with_random_split(0,[(2, control), (1, challenger)]))\n",
    "```\n",
    "\n",
    "In either case, the random split will randomly send inference data to one model based on the weighted ratio.  As more inferences are performed, the ratio between the champion and challengers will align more and more to the ratio specified.\n",
    "\n",
    "Reference:  [Wallaroo SDK Essentials Guide: Pipeline Management A/B Testing](https://docs.wallaroo.ai/wallaroo-developer-guides/wallaroo-sdk-guides/wallaroo-sdk-essentials-guide/wallaroo-sdk-essentials-pipeline/#ab-testing).\n",
    "\n",
    "Each model receives inputs that are approximately proportional to the weight it is assigned. For example, with two models having weights 1 and 1, each will receive roughly equal amounts of inference inputs. If the weights were changed to 1 and 2, the models would receive roughly 33% and 66% respectively instead.\n",
    "\n",
    "When choosing the model to use, a random number between 0.0 and 1.0 is generated. The weighted inputs are mapped to that range, and the random input is then used to select the model to use. For example, for the two-models equal-weight case, a random key of 0.4 would route to the first model, 0.6 would route to the second.\n",
    "\n",
    "Models used for A/B pipeline steps should have the **same** inputs and outputs to accurately compare each other.\n",
    "\n",
    "Reference:  [Wallaroo SDK Essentials Guide: Pipeline Management](https://docs.wallaroo.ai/wallaroo-developer-guides/wallaroo-sdk-guides/wallaroo-sdk-essentials-guide/wallaroo-sdk-essentials-pipeline/).\n",
    "\n",
    "### A/B Pipeline Steps Exercise\n",
    "\n",
    "Create an A/B pipeline step with the uploaded model versions using the `wallaroo.pipeline.add_random_split` method.  Since we have 3 models, apply a 2:1:1 ratio to the control:challenger1:challenger2 models.\n",
    "\n",
    "Since this pipeline was used in the previous notebook, use the `wallaroo.pipeline.clear()` method to clear all of the previous steps before adding the new one.  Recall that pipeline steps are not saved from the Notebook to the Wallaroo instance until the `wallaroo.pipeline.deploy(deployment_configuration)` method is applied.\n",
    "\n",
    "One done, deploy the pipeline with `deploy_config = wallaroo.DeploymentConfigBuilder().replica_count(1).cpus(0.5).memory(\"1Gi\").build()`.\n",
    "\n",
    "Here's an example of adding our A/B pipeline step and deploying it.\n",
    "\n",
    "```python\n",
    "my_pipeline.clear()\n",
    "my_pipeline.add_random_split([(2, prime_model_version), (1, house_price_rf_model_version), (1, house_price_gbr_model_version)])\n",
    "deploy_config = wallaroo.DeploymentConfigBuilder().replica_count(1).cpus(0.5).memory(\"1Gi\").build()\n",
    "my_pipeline.deploy(deployment_config=deploy_config)\n",
    "```"
   ]
  },
  {
   "cell_type": "code",
   "execution_count": 12,
   "id": "579c5225",
   "metadata": {},
   "outputs": [],
   "source": [
    "for d in wl.list_deployments(): d.undeploy()"
   ]
  },
  {
   "cell_type": "code",
   "execution_count": 13,
   "id": "95b4590b",
   "metadata": {},
   "outputs": [
    {
     "data": {
      "text/html": [
       "<table><tr><th>name</th> <td>cv-retail</td></tr><tr><th>created</th> <td>2023-09-15 15:42:19.274266+00:00</td></tr><tr><th>last_updated</th> <td>2023-09-15 17:43:29.160048+00:00</td></tr><tr><th>deployed</th> <td>True</td></tr><tr><th>tags</th> <td></td></tr><tr><th>versions</th> <td>5705524f-430d-4ff9-966f-83f7ddc0a792, f3be2fd7-1a81-4bb0-963c-b6fa182cdc2a, eac74d13-a28c-4a0c-8429-4f8fc3ddcba9, b29ae2db-bf89-48ba-8ed3-783f5603e278, ef3cdb70-ebb8-4dd9-b3a7-6e9f4b70c057</td></tr><tr><th>steps</th> <td>mobilenet</td></tr></table>"
      ],
      "text/plain": [
       "{'name': 'cv-retail', 'create_time': datetime.datetime(2023, 9, 15, 15, 42, 19, 274266, tzinfo=tzutc()), 'definition': \"[{'RandomSplit': {'hash_key': None, 'weights': [{'model': {'name': 'mobilenet', 'version': 'c3edd70a-a101-4cb0-8ddb-d3a95ef01e26', 'sha': '9044c970ee061cc47e0c77e20b05e884be37f2a20aa9c0c3ce1993dbd486a830'}, 'weight': 2}, {'model': {'name': 'resnet50', 'version': 'aa87ddba-bd42-4924-b188-3e9552569a13', 'sha': '43326e50af639105c81372346fb9ddf453fea0fe46648b2053c375360d9c1647'}, 'weight': 1}]}}]\"}"
      ]
     },
     "execution_count": 13,
     "metadata": {},
     "output_type": "execute_result"
    }
   ],
   "source": [
    "pipeline.clear()\n",
    "pipeline.add_random_split([(2, prime_model_version), (1, cv_resnet_version)])\n",
    "\n",
    "deploy_config = wallaroo.DeploymentConfigBuilder().replica_count(1).cpus(1).memory(\"2Gi\").build()\n",
    "pipeline.deploy(deployment_config=deploy_config)"
   ]
  },
  {
   "attachments": {},
   "cell_type": "markdown",
   "id": "16f7d416",
   "metadata": {},
   "source": [
    "The pipeline steps are displayed with the Pipeline `steps()` method.  This is used to verify the current **deployed** steps in the pipeline.\n",
    "\n",
    "* **IMPORTANT NOTE**: Verify that the pipeline is deployed before checking for pipeline steps.  Deploying the pipeline sets the steps into the Wallaroo system - until that happens, the steps only exist in the local system as *potential* steps."
   ]
  },
  {
   "cell_type": "code",
   "execution_count": 14,
   "id": "90bbef0a",
   "metadata": {},
   "outputs": [
    {
     "data": {
      "text/plain": [
       "[{'RandomSplit': {'hash_key': None, 'weights': [{'model': {'name': 'mobilenet', 'version': 'c3edd70a-a101-4cb0-8ddb-d3a95ef01e26', 'sha': '9044c970ee061cc47e0c77e20b05e884be37f2a20aa9c0c3ce1993dbd486a830'}, 'weight': 2}, {'model': {'name': 'resnet50', 'version': 'aa87ddba-bd42-4924-b188-3e9552569a13', 'sha': '43326e50af639105c81372346fb9ddf453fea0fe46648b2053c375360d9c1647'}, 'weight': 1}]}}]"
      ]
     },
     "execution_count": 14,
     "metadata": {},
     "output_type": "execute_result"
    }
   ],
   "source": [
    "# blank space to get the current pipeline steps\n",
    "\n",
    "pipeline.steps()"
   ]
  },
  {
   "attachments": {},
   "cell_type": "markdown",
   "id": "300a8d2a-58ee-44c5-b887-65f8da999fa3",
   "metadata": {},
   "source": [
    "## A/B Pipeline Inferences\n",
    "\n",
    "Inferences through pipelines that have A/B steps is the same any other pipeline:  use either `wallaroo.pipeline.infer(pandas record|Apache Arrow)` or `wallaroo.pipeline.infer_from_file(path)`.  The distinction is that inference data will randomly be assigned to one of the models in the A/B pipeline step based on the weighted ratio pattens.\n",
    "\n",
    "The output is the same as any other inference request, with one difference:  the `out._model_split` field that lists which model version was used for the model split step.  Here's an example:\n",
    "\n",
    "```python\n",
    "single_result = pipeline.infer_from_file('./data/singleton.df.json')\n",
    "display(single_result)\n",
    "```\n",
    "\n",
    "|&nbsp;|out._model_split|out.variable|\n",
    "|0|[{\"name\":\"house-price-prime\",\"version\":\"69f344e6-2ab5-47e8-82a6-030e328c8d35\",\"sha\":\"31e92d6ccb27b041a324a7ac22cf95d9d6cc3aa7e8263a229f7c4aec4938657c\"}]|[2176827.0]|\n",
    "\n",
    "Please note that for batch inferences, the entire batch will be sent to the same model. So in order to verify that your pipeline is distributing inferences in the proportion you specified, you will need to send your queries one datum at a time.  This example has 4,000 rows of data submitted in one batch as an inference request.  Note that the same model is listed in the `out._model_split` field.\n",
    "\n",
    "```python\n",
    "multiple_result = pipeline.infer_from_file('../data/test_data.df.json')\n",
    "display(multiple_result.head(10).loc[:, ['out._model_split', 'out.variable']])\n",
    "```\n",
    "\n",
    "|&nbsp;|out._model_split|out.variable|\n",
    "|---|---|---|\n",
    "|0|[{\"name\":\"house-price-rf-model\",\"version\":\"616c2306-bf93-417b-9656-37bee6f14379\",\"sha\":\"e22a0831aafd9917f3cc87a15ed267797f80e2afa12ad7d8810ca58f173b8cc6\"}]|[718013.7]|\n",
    "|1|[{\"name\":\"house-price-rf-model\",\"version\":\"616c2306-bf93-417b-9656-37bee6f14379\",\"sha\":\"e22a0831aafd9917f3cc87a15ed267797f80e2afa12ad7d8810ca58f173b8cc6\"}]|[615094.6]|\n",
    "|2|[{\"name\":\"house-price-rf-model\",\"version\":\"616c2306-bf93-417b-9656-37bee6f14379\",\"sha\":\"e22a0831aafd9917f3cc87a15ed267797f80e2afa12ad7d8810ca58f173b8cc6\"}]|[448627.8]|\n",
    "|3|[{\"name\":\"house-price-rf-model\",\"version\":\"616c2306-bf93-417b-9656-37bee6f14379\",\"sha\":\"e22a0831aafd9917f3cc87a15ed267797f80e2afa12ad7d8810ca58f173b8cc6\"}]|[758714.3]|\n",
    "|4|[{\"name\":\"house-price-rf-model\",\"version\":\"616c2306-bf93-417b-9656-37bee6f14379\",\"sha\":\"e22a0831aafd9917f3cc87a15ed267797f80e2afa12ad7d8810ca58f173b8cc6\"}]|[513264.66]|\n",
    "|5|[{\"name\":\"house-price-rf-model\",\"version\":\"616c2306-bf93-417b-9656-37bee6f14379\",\"sha\":\"e22a0831aafd9917f3cc87a15ed267797f80e2afa12ad7d8810ca58f173b8cc6\"}]|[668287.94]|\n",
    "|6|[{\"name\":\"house-price-rf-model\",\"version\":\"616c2306-bf93-417b-9656-37bee6f14379\",\"sha\":\"e22a0831aafd9917f3cc87a15ed267797f80e2afa12ad7d8810ca58f173b8cc6\"}]|[1004846.56]|\n",
    "|7|[{\"name\":\"house-price-rf-model\",\"version\":\"616c2306-bf93-417b-9656-37bee6f14379\",\"sha\":\"e22a0831aafd9917f3cc87a15ed267797f80e2afa12ad7d8810ca58f173b8cc6\"}]|[684577.25]|\n",
    "|8|[{\"name\":\"house-price-rf-model\",\"version\":\"616c2306-bf93-417b-9656-37bee6f14379\",\"sha\":\"e22a0831aafd9917f3cc87a15ed267797f80e2afa12ad7d8810ca58f173b8cc6\"}]|[727898.25]|\n",
    "|9|[{\"name\":\"house-price-rf-model\",\"version\":\"616c2306-bf93-417b-9656-37bee6f14379\",\"sha\":\"e22a0831aafd9917f3cc87a15ed267797f80e2afa12ad7d8810ca58f173b8cc6\"}]|[559631.06]|\n",
    "\n",
    "To help with the next exercise, here is another convenience function you might find useful.  It takes the inference result and returns the model version used in the A/B Testing step.\n",
    "\n",
    "Run the cell block below before going on to the exercise."
   ]
  },
  {
   "cell_type": "code",
   "execution_count": 15,
   "id": "41df523d-b4bd-441c-a1ac-364828879019",
   "metadata": {},
   "outputs": [],
   "source": [
    "# get the names of the inferring models\n",
    "# from a dataframe of a/b test results\n",
    "def get_names(resultframe):\n",
    "    modelcol = resultframe['out._model_split']\n",
    "    jsonstrs = [mod[0]  for mod in modelcol]\n",
    "    return [json.loads(jstr)['name'] for jstr in jsonstrs]"
   ]
  },
  {
   "cell_type": "markdown",
   "id": "a6ab4374",
   "metadata": {},
   "source": [
    "### A/B Pipeline Inferences Exercise\n",
    "\n",
    "Perform a set of inferences with the same data, and show the model version used for the A/B Testing step.  Here's an example.\n",
    "\n",
    "```python\n",
    "for x in range(10):\n",
    "    single_result = my_pipeline.infer_from_file('./data/singleton.df.json')\n",
    "    display(\"{single_result.loc[0, 'out.variable']}\")\n",
    "    display(get_names(single_result))\n",
    "```"
   ]
  },
  {
   "cell_type": "code",
   "execution_count": 16,
   "id": "c48d9a64",
   "metadata": {},
   "outputs": [
    {
     "data": {
      "text/plain": [
       "\"['mobilenet']\""
      ]
     },
     "metadata": {},
     "output_type": "display_data"
    },
    {
     "data": {
      "text/plain": [
       "\"['resnet50']\""
      ]
     },
     "metadata": {},
     "output_type": "display_data"
    },
    {
     "data": {
      "text/plain": [
       "\"['mobilenet']\""
      ]
     },
     "metadata": {},
     "output_type": "display_data"
    },
    {
     "data": {
      "text/plain": [
       "\"['mobilenet']\""
      ]
     },
     "metadata": {},
     "output_type": "display_data"
    },
    {
     "data": {
      "text/plain": [
       "\"['mobilenet']\""
      ]
     },
     "metadata": {},
     "output_type": "display_data"
    },
    {
     "data": {
      "text/plain": [
       "\"['mobilenet']\""
      ]
     },
     "metadata": {},
     "output_type": "display_data"
    },
    {
     "data": {
      "text/plain": [
       "\"['mobilenet']\""
      ]
     },
     "metadata": {},
     "output_type": "display_data"
    },
    {
     "data": {
      "text/plain": [
       "\"['mobilenet']\""
      ]
     },
     "metadata": {},
     "output_type": "display_data"
    },
    {
     "data": {
      "text/plain": [
       "\"['mobilenet']\""
      ]
     },
     "metadata": {},
     "output_type": "display_data"
    },
    {
     "data": {
      "text/plain": [
       "\"['mobilenet']\""
      ]
     },
     "metadata": {},
     "output_type": "display_data"
    }
   ],
   "source": [
    "for x in range(10):\n",
    "    single_result_arrow = pipeline.infer_from_file('../data/converted-images-to-arrow/dairy_bottles.png.arrow')\n",
    "    single_result = single_result_arrow.to_pandas()\n",
    "    display(f\"{get_names(single_result)}\")"
   ]
  },
  {
   "attachments": {},
   "cell_type": "markdown",
   "id": "4b0d8f88-8cb0-464c-97f0-d4b087ecb6d9",
   "metadata": {},
   "source": [
    "## Shadow Deployments\n",
    "\n",
    "Another way to vet your new model is to set it up in a shadow deployment. With shadow deployments, all the models in the experiment pipeline get all the data, and all inferences are recorded. However, the pipeline returns only one \"official\" prediction: the one from default, or champion model.\n",
    "\n",
    "Shadow deployments are useful for \"sanity checking\" a model before it goes truly live. For example, you might have built a smaller, leaner version of an existing model using knowledge distillation or other model optimization techniques, as discussed [here](https://wallaroo.ai/how-to-accelerate-computer-vision-model-inference/). A shadow deployment of the new model alongside the original model can help ensure that the new model meets desired accuracy and performance requirements before it's put into production.\n",
    "\n",
    "As an example of creating a shadow deployment, suppose you have a champion model called \"champion\", that you have been running in a one-step pipeline called \"pipeline\". You now want to put a challenger model called \"challenger\" into a shadow deployment with the champion. Both models have already been uploaded. \n",
    "\n",
    "Shadow deployments can be **added** as a pipeline step, or **replace** an existing pipeline step.\n",
    "\n",
    "Shadow deployment steps are added with the `add_shadow_deploy(champion, [model2, model3,...])` method, where the `champion` is the model that the inference results will be returned.  The array of models listed after are the models where inference data is also submitted with their results displayed as as shadow inference results.\n",
    "\n",
    "Shadow deployment steps replace an existing pipeline step with the  `replace_with_shadow_deploy(index, champion, [model2, model3,...])` method.  The `index` is the step being replaced with pipeline steps starting at 0, and the `champion` is the model that the inference results will be returned.  The array of models listed after are the models where inference data is also submitted with their results displayed as as shadow inference results.\n",
    "\n",
    "Then creating a shadow deployment from a previously created (and deployed) pipeline could look something like this:\n",
    "\n",
    "```python\n",
    "# retrieve handles to the most recent versions \n",
    "# of the champion and challenger models\n",
    "# see the A/B test section for the definition of get_model()\n",
    "champion = get_model(\"champion\")\n",
    "challenger = get_model(\"challenger\")\n",
    "\n",
    "# get the existing pipeline and undeploy it\n",
    "# see the A/B test section for the definition of get_pipeline()\n",
    "pipeline = get_pipeline(\"pipeline\")\n",
    "pipeline.undeploy()\n",
    "\n",
    "# clear the pipeline and add a shadow deploy step\n",
    "pipeline.clear()\n",
    "pipeline.add_shadow_deploy(champion, [challenger])\n",
    "pipeline.deploy()\n",
    "```\n",
    "\n",
    "The above code clears the pipeline and adds a shadow deployment. The pipeline will still only return the inferences from the champion model, but it will also run the challenger model in parallel and log the inferences, so that you can compare what all the models do on the same inputs.\n",
    "\n",
    "You can add multiple challengers to a shadow deploy:\n",
    "\n",
    "```python\n",
    "pipeline.add_shadow_deploy(champion, [challenger01, challenger02])\n",
    "```\n",
    "\n",
    "You can also create a shadow deployment from scratch with a new pipeline.  This example just uses two models - one champion, one challenger.\n",
    "\n",
    "```python\n",
    "newpipeline = wl.build_pipeline(\"pipeline\")\n",
    "newpipeline.add_shadow_deploy(champion, [challenger])\n",
    "```\n",
    "\n",
    "### Shadow Deployments Exercise\n",
    "\n",
    "Use the champion and challenger models that you created in the previous exercises to create a shadow deployment. You can either create one from scratch, or reconfigure an existing pipeline.\n",
    "\n",
    "At the end of this exercise, you should have a shadow deployment running multiple models in parallel.\n",
    "\n",
    "Here's an example:\n",
    "\n",
    "```python\n",
    "pipeline.undeploy()\n",
    "\n",
    "pipeline.clear()\n",
    "pipeline.add_shadow_deploy(prime_model_version, \n",
    "                           [house_price_rf_model_version, \n",
    "                            house_price_gbr_model_version]\n",
    "                        )\n",
    "\n",
    "deploy_config = wallaroo.DeploymentConfigBuilder().replica_count(1).cpus(0.5).memory(\"1Gi\").build()\n",
    "pipeline.deploy(deployment_config=deploy_config)\n",
    "```"
   ]
  },
  {
   "cell_type": "code",
   "execution_count": 17,
   "id": "6ec27c70-e858-405a-9ff1-1909c08bff4d",
   "metadata": {},
   "outputs": [
    {
     "data": {
      "text/html": [
       "<table><tr><th>name</th> <td>cv-retail</td></tr><tr><th>created</th> <td>2023-09-15 15:42:19.274266+00:00</td></tr><tr><th>last_updated</th> <td>2023-09-15 17:45:25.369871+00:00</td></tr><tr><th>deployed</th> <td>True</td></tr><tr><th>tags</th> <td></td></tr><tr><th>versions</th> <td>dc845034-e16c-4b10-bc6f-2e55f44f8573, 5705524f-430d-4ff9-966f-83f7ddc0a792, f3be2fd7-1a81-4bb0-963c-b6fa182cdc2a, eac74d13-a28c-4a0c-8429-4f8fc3ddcba9, b29ae2db-bf89-48ba-8ed3-783f5603e278, ef3cdb70-ebb8-4dd9-b3a7-6e9f4b70c057</td></tr><tr><th>steps</th> <td>mobilenet</td></tr></table>"
      ],
      "text/plain": [
       "{'name': 'cv-retail', 'create_time': datetime.datetime(2023, 9, 15, 15, 42, 19, 274266, tzinfo=tzutc()), 'definition': \"[{'ModelInference': {'models': [{'name': 'mobilenet', 'version': 'c3edd70a-a101-4cb0-8ddb-d3a95ef01e26', 'sha': '9044c970ee061cc47e0c77e20b05e884be37f2a20aa9c0c3ce1993dbd486a830'}, {'name': 'resnet50', 'version': 'aa87ddba-bd42-4924-b188-3e9552569a13', 'sha': '43326e50af639105c81372346fb9ddf453fea0fe46648b2053c375360d9c1647'}]}}, {'AuditResults': {'from': 1, 'to': None}}, {'MultiOut': {}}]\"}"
      ]
     },
     "execution_count": 17,
     "metadata": {},
     "output_type": "execute_result"
    }
   ],
   "source": [
    "# blank space to create a shadow deployment\n",
    "\n",
    "pipeline.undeploy()\n",
    "\n",
    "pipeline.clear()\n",
    "pipeline.add_shadow_deploy(prime_model_version, \n",
    "                           [cv_resnet_version]\n",
    "                        )\n",
    "\n",
    "deploy_config = wallaroo.DeploymentConfigBuilder().replica_count(1).cpus(1).memory(\"2Gi\").build()\n",
    "pipeline.deploy(deployment_config=deploy_config)"
   ]
  },
  {
   "attachments": {},
   "cell_type": "markdown",
   "id": "95b93beb-72a8-4075-a70b-6e474ad60b53",
   "metadata": {},
   "source": [
    "## Shadow Deploy Inference\n",
    "\n",
    "Since a shadow deployment returns multiple predictions for a single datum, its inference result will look a little different from those of an A/B test or a single-step pipeline. The next exercise will show you how to examine all the inferences from all the models.\n",
    "\n",
    "Model outputs are listed by column based on the model’s outputs. The output data is set by the term out, followed by the name of the model. For the default model, this is out.{variable_name}, while the shadow deployed models are in the format out_{model name}.variable, where {model name} is the name of the shadow deployed model.\n",
    "\n",
    "Here's an example with the models `ccfraudrf` and `ccfraudxgb`.\n",
    "\n",
    "```python\n",
    "sample_data_file = './smoke_test.df.json'\n",
    "response = pipeline.infer_from_file(sample_data_file)\n",
    "```\n",
    "\n",
    "| | time | in.tensor | out.dense_1 | check_failures | out_ccfraudrf.variable | out_ccfraudxgb.variable\n",
    "|---|---|---|---|---|---|---\n",
    "|0 | 2023-03-03 17:35:28.859 | [1.0678324729, 0.2177810266, -1.7115145262, 0.682285721, 1.0138553067, -0.4335000013, 0.7395859437, -0.2882839595, -0.447262688, 0.5146124988, 0.3791316964, 0.5190619748, -0.4904593222, 1.1656456469, -0.9776307444, -0.6322198963, -0.6891477694, 0.1783317857, 0.1397992467, -0.3554220649, 0.4394217877, 1.4588397512, -0.3886829615, 0.4353492889, 1.7420053483, -0.4434654615, -0.1515747891, -0.2668451725, -1.4549617756] | [0.0014974177] | 0 | [1.0] | [0.0005066991]\n",
    "\n",
    "### Shadow Deploy Inference Exercise\n",
    "\n",
    "Use the test data that from the previous exercise to send a single datum to the shadow deployment that you created in the previous exercise.  View the outputs from each of the shadow deployed models.\n",
    "\n",
    "Here's an example that will process an image converted to an Apache Arrow table, then display the column names.\n",
    "\n",
    "```python\n",
    "single_result = pipeline.infer_from_file('../data/converted-images-to-arrow/dairy_bottles.png.arrow')\n",
    "display(single_result.column_names)\n",
    "```"
   ]
  },
  {
   "cell_type": "code",
   "execution_count": 18,
   "id": "40438710-16eb-4eee-9129-c3b1d6241db8",
   "metadata": {},
   "outputs": [
    {
     "data": {
      "text/plain": [
       "['time',\n",
       " 'in.tensor',\n",
       " 'out.boxes',\n",
       " 'out.classes',\n",
       " 'out.confidences',\n",
       " 'check_failures',\n",
       " 'out_resnet50.boxes',\n",
       " 'out_resnet50.classes',\n",
       " 'out_resnet50.confidences']"
      ]
     },
     "metadata": {},
     "output_type": "display_data"
    }
   ],
   "source": [
    "# blank space to send an inference and examine the result\n",
    "\n",
    "single_result = pipeline.infer_from_file('../data/converted-images-to-arrow/dairy_bottles.png.arrow')\n",
    "display(single_result.column_names)"
   ]
  },
  {
   "attachments": {},
   "cell_type": "markdown",
   "id": "0de32a40-5b54-45e7-af9e-c3b9525c4e61",
   "metadata": {},
   "source": [
    "## After the Experiment: Swapping in New Models\n",
    "\n",
    "You have seen two methods to validate models in production with test (challenger) models. \n",
    "The end result of an experiment is a decision about which model becomes the new champion. Let's say that you have been running the shadow deployment that you created in the previous exercise,  and you have decided that you want to replace the model \"champion\" with the model \"challenger\". To do this, you will clear all the steps out of the pipeline, and add only \"challenger\" back in.\n",
    "\n",
    "```python\n",
    "# retrieve a handle to the challenger model\n",
    "# see the A/B test section for the definition of get_model()\n",
    "challenger = get_model(\"challenger\")\n",
    "\n",
    "# get the existing pipeline and undeploy it\n",
    "# see the A/B test section for the definition of get_pipeline()\n",
    "pipeline = get_pipeline(\"pipeline\")\n",
    "pipeline.undeploy()\n",
    "\n",
    "# clear out all the steps and add the champion back in \n",
    "pipeline.clear() \n",
    "pipeline.add_model_step(challenger).deploy()\n",
    "```\n",
    "\n",
    "### After the Experiment: Swapping in New Models Exercise\n",
    "\n",
    "Pick one of your challenger models as the new champion, and reconfigure your shadow deployment back into a single-step pipeline with the new chosen model.\n",
    "\n",
    "* Run the test datum from the previous exercise through the reconfigured pipeline.\n",
    "* Compare the results to the results from the previous exercise.\n",
    "* Notice that the pipeline predictions are different from the old champion, and consistent with the new one.\n",
    "\n",
    "At the end of this exercise, you should have a single step pipeline, running a new model."
   ]
  },
  {
   "cell_type": "code",
   "execution_count": 28,
   "id": "cf9d6835-8475-4cfd-a433-f470003673f2",
   "metadata": {},
   "outputs": [
    {
     "data": {
      "text/plain": [
       "pyarrow.Table\n",
       "time: timestamp[ms]\n",
       "in.tensor: list<item: float> not null\n",
       "  child 0, item: float\n",
       "out.boxes: list<inner: float not null> not null\n",
       "  child 0, inner: float not null\n",
       "out.classes: list<inner: int64 not null> not null\n",
       "  child 0, inner: int64 not null\n",
       "out.confidences: list<inner: float not null> not null\n",
       "  child 0, inner: float not null\n",
       "check_failures: int8\n",
       "----\n",
       "time: [[2023-09-15 17:59:18.212]]\n",
       "in.tensor: [[[0.9372549,0.9529412,0.9490196,0.94509804,0.94509804,...,0.6745098,0.7294118,0.77254903,0.8,0.8039216]]]\n",
       "out.boxes: [[[0,210.2901,85.26463,479.07495,72.03781,...,463.2135,609.8509,94.62292,635.7705,211.13577]]]\n",
       "out.classes: [[[44,44,44,44,82,...,61,44,86,44,44]]]\n",
       "out.confidences: [[[0.98649,0.90115356,0.6077846,0.5922323,0.53729033,...,0.08654833,0.078406945,0.07234089,0.062820904,0.052787986]]]\n",
       "check_failures: [[0]]"
      ]
     },
     "metadata": {},
     "output_type": "display_data"
    },
    {
     "data": {
      "text/plain": [
       "[{'ModelInference': {'models': [{'name': 'mobilenet', 'version': 'c3edd70a-a101-4cb0-8ddb-d3a95ef01e26', 'sha': '9044c970ee061cc47e0c77e20b05e884be37f2a20aa9c0c3ce1993dbd486a830'}]}}]"
      ]
     },
     "metadata": {},
     "output_type": "display_data"
    }
   ],
   "source": [
    "# Blank space - remove all steps, then redeploy with new champion model\n",
    "pipeline.undeploy()\n",
    "pipeline.clear()\n",
    "\n",
    "pipeline.add_model_step(prime_model_version)\n",
    "\n",
    "deploy_config = wallaroo.DeploymentConfigBuilder().replica_count(1).cpus(1).memory(\"2Gi\").build()\n",
    "pipeline.deploy(deployment_config=deploy_config)\n",
    "\n",
    "single_result = pipeline.infer_from_file('../data/converted-images-to-arrow/dairy_bottles.png.arrow')\n",
    "display(single_result)\n",
    "display(pipeline.steps())"
   ]
  },
  {
   "cell_type": "code",
   "execution_count": 29,
   "id": "d1b49093",
   "metadata": {},
   "outputs": [
    {
     "data": {
      "text/plain": [
       "pyarrow.Table\n",
       "time: timestamp[ms]\n",
       "in.tensor: list<item: float> not null\n",
       "  child 0, item: float\n",
       "out.boxes: list<inner: float not null> not null\n",
       "  child 0, inner: float not null\n",
       "out.classes: list<inner: int64 not null> not null\n",
       "  child 0, inner: int64 not null\n",
       "out.confidences: list<inner: float not null> not null\n",
       "  child 0, inner: float not null\n",
       "check_failures: int8\n",
       "----\n",
       "time: [[2023-09-15 18:00:40.008]]\n",
       "in.tensor: [[[0.9372549,0.9529412,0.9490196,0.94509804,0.94509804,...,0.6745098,0.7294118,0.77254903,0.8,0.8039216]]]\n",
       "out.boxes: [[[2.1511102,193.98323,76.26535,475.40292,610.82245,...,375.1775,345.75964,2.459102,395.91183,99.68698]]]\n",
       "out.classes: [[[44,44,44,44,44,...,44,82,44,44,44]]]\n",
       "out.confidences: [[[0.9965358,0.9883404,0.9700247,0.9696426,0.96478045,...,0.05717648,0.056616478,0.056017116,0.05458274,0.053669468]]]\n",
       "check_failures: [[0]]"
      ]
     },
     "metadata": {},
     "output_type": "display_data"
    },
    {
     "data": {
      "text/plain": [
       "[{'ModelInference': {'models': [{'name': 'resnet50', 'version': 'aa87ddba-bd42-4924-b188-3e9552569a13', 'sha': '43326e50af639105c81372346fb9ddf453fea0fe46648b2053c375360d9c1647'}]}}]"
      ]
     },
     "metadata": {},
     "output_type": "display_data"
    }
   ],
   "source": [
    "pipeline.undeploy()\n",
    "\n",
    "pipeline.clear()\n",
    "\n",
    "pipeline.add_model_step(cv_resnet_version)\n",
    "\n",
    "pipeline.deploy(deployment_config=deploy_config)\n",
    "\n",
    "# provide time for the swap to officially finish\n",
    "import time\n",
    "time.sleep(10)\n",
    "\n",
    "single_result = pipeline.infer_from_file('../data/converted-images-to-arrow/dairy_bottles.png.arrow')\n",
    "display(single_result)\n",
    "display(pipeline.steps())"
   ]
  },
  {
   "attachments": {},
   "cell_type": "markdown",
   "id": "e3285520-c245-4f9b-8aac-6e7221456413",
   "metadata": {},
   "source": [
    "## Congratulations!\n",
    "\n",
    "You have now \n",
    "* successfully trained new challenger models for the house price prediction problem\n",
    "* compared your models using an A/B test\n",
    "* compared your models using a shadow deployment\n",
    "* replaced your old model for a new one in the house price prediction pipeline\n",
    "\n",
    "In the next notebook, you will learn how to monitor your production pipeline for \"anomalous\" or out-of-range behavior.\n",
    "\n",
    "\n",
    "### Cleaning up.\n",
    "\n",
    "At this point, if you are not continuing on to the next notebook, undeploy your pipeline(s) to give the resources back to the environment."
   ]
  },
  {
   "cell_type": "code",
   "execution_count": 30,
   "id": "15436251-ea58-4f5e-a861-0ffde818748e",
   "metadata": {},
   "outputs": [
    {
     "data": {
      "text/html": [
       "<table><tr><th>name</th> <td>cv-retail</td></tr><tr><th>created</th> <td>2023-09-15 15:42:19.274266+00:00</td></tr><tr><th>last_updated</th> <td>2023-09-15 18:00:17.783381+00:00</td></tr><tr><th>deployed</th> <td>False</td></tr><tr><th>tags</th> <td></td></tr><tr><th>versions</th> <td>238b2ff8-239b-47e7-b411-39896ec5f6f2, 2c65bae5-f2e3-4fcc-a08d-5aa96e7413e4, fa0ff8bd-34fb-48ef-ba83-64e3ddf2b628, 93693edf-d015-4391-90a9-c1f7bec3adb0, b481f8ec-324c-4966-ab2f-1bf4e3135e9d, 4066daf9-3ccc-457f-9232-20633a68b906, dc845034-e16c-4b10-bc6f-2e55f44f8573, 5705524f-430d-4ff9-966f-83f7ddc0a792, f3be2fd7-1a81-4bb0-963c-b6fa182cdc2a, eac74d13-a28c-4a0c-8429-4f8fc3ddcba9, b29ae2db-bf89-48ba-8ed3-783f5603e278, ef3cdb70-ebb8-4dd9-b3a7-6e9f4b70c057</td></tr><tr><th>steps</th> <td>mobilenet</td></tr></table>"
      ],
      "text/plain": [
       "{'name': 'cv-retail', 'create_time': datetime.datetime(2023, 9, 15, 15, 42, 19, 274266, tzinfo=tzutc()), 'definition': \"[{'ModelInference': {'models': [{'name': 'resnet50', 'version': 'aa87ddba-bd42-4924-b188-3e9552569a13', 'sha': '43326e50af639105c81372346fb9ddf453fea0fe46648b2053c375360d9c1647'}]}}]\"}"
      ]
     },
     "execution_count": 30,
     "metadata": {},
     "output_type": "execute_result"
    }
   ],
   "source": [
    "## blank space to undeploy the pipelines\n",
    "\n",
    "pipeline.undeploy()"
   ]
  }
 ],
 "metadata": {
  "kernelspec": {
   "display_name": "Python 3 (ipykernel)",
   "language": "python",
   "name": "python3"
  },
  "language_info": {
   "codemirror_mode": {
    "name": "ipython",
    "version": 3
   },
   "file_extension": ".py",
   "mimetype": "text/x-python",
   "name": "python",
   "nbconvert_exporter": "python",
   "pygments_lexer": "ipython3",
   "version": "3.8.17"
  }
 },
 "nbformat": 4,
 "nbformat_minor": 5
}
