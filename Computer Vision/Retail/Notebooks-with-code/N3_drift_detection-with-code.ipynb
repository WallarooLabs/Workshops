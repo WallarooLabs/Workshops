{
 "cells": [
  {
   "cell_type": "markdown",
   "id": "6540f10a-6e1c-44ba-b344-0a476491dce6",
   "metadata": {},
   "source": [
    "# Workshop Notebook 3: Observability - Drift Detection\n",
    "\n",
    "In the previous notebook you learned how to add simple validation rules to a pipeline, to monitor whether outputs (or inputs) stray out of some expected range. In this notebook, you will monitor the *distribution* of the pipeline's predictions to see if the model, or the environment that it runs it, has changed.\n",
    "\n",
    "## Preliminaries\n",
    "\n",
    "In the blocks below we will preload some required libraries.\n",
    "\n",
    "For convenience, the following `helper functions` are defined to retrieve previously created workspaces, models, and pipelines:\n",
    "\n",
    "* `get_workspace(name, client)`: This takes in the name and the Wallaroo client being used in this session, and returns the workspace matching `name`.  If no workspaces are found matching the name, raises a `KeyError` and returns `None`.\n",
    "* `get_model_version(model_name, workspace)`: Retrieves the most recent model version from the model matching the `model_name` within the provided `workspace`.  If no model matches that name, raises a `KeyError` and returns `None`.\n",
    "* `get_pipeline(pipeline_name, workspace)`: Retrieves the most pipeline from the workspace matching the `pipeline_name` within the provided `workspace`.  If no model matches that name, raises a `KeyError` and returns `None`.\n"
   ]
  },
  {
   "cell_type": "code",
   "execution_count": 4,
   "id": "09d0f316-7000-467e-b5d2-1a1c4e18d490",
   "metadata": {},
   "outputs": [],
   "source": [
    "# preload needed libraries \n",
    "\n",
    "import wallaroo\n",
    "from wallaroo.object import EntityNotFoundError\n",
    "from wallaroo.framework import Framework\n",
    "\n",
    "from IPython.display import display\n",
    "\n",
    "# used to display DataFrame information without truncating\n",
    "from IPython.display import display\n",
    "import pandas as pd\n",
    "pd.set_option('display.max_colwidth', None)\n",
    "\n",
    "import json\n",
    "import datetime\n",
    "import time\n",
    "\n",
    "# used for unique connection names\n",
    "\n",
    "import string\n",
    "import random\n",
    "\n",
    "import pyarrow as pa\n",
    "\n",
    "import sys\n",
    " \n",
    "# setting path - only needed when running this from the `with-code` folder.\n",
    "sys.path.append('../')\n",
    "\n",
    "from CVDemoUtils import CVDemo\n",
    "cvDemo = CVDemo()\n",
    "cvDemo.COCO_CLASSES_PATH = \"../models/coco_classes.pickle\""
   ]
  },
  {
   "cell_type": "code",
   "execution_count": 5,
   "id": "202c19cb-2b9b-4baf-bbf1-9fcfc47b4339",
   "metadata": {},
   "outputs": [],
   "source": [
    "## convenience functions from the previous notebooks\n",
    "\n",
    "# return the workspace called <name> through the Wallaroo client.\n",
    "def get_workspace(name, client):\n",
    "    workspace = None\n",
    "    for ws in client.list_workspaces():\n",
    "        if ws.name() == name:\n",
    "            workspace= ws\n",
    "            return workspace\n",
    "    # if no workspaces were found\n",
    "    if workspace==None:\n",
    "        raise KeyError(f\"Workspace {name} was not found.\")\n",
    "    return workspace\n",
    "\n",
    "\n",
    "# returns the most recent model version in a workspace for the matching `model_name`\n",
    "def get_model_version(model_name, workspace):\n",
    "    modellist = workspace.models()\n",
    "    model_version = [m.versions()[-1] for m in modellist if m.name() == model_name]\n",
    "    # if no models match, return None\n",
    "    if len(modellist) <= 0:\n",
    "        raise KeyError(f\"Model {mname} not found in this workspace\")\n",
    "        return None\n",
    "    return model_version[0]\n",
    "\n",
    "# get a pipeline by name in the workspace\n",
    "def get_pipeline(pipeline_name, workspace):\n",
    "    plist = workspace.pipelines()\n",
    "    pipeline = [p for p in plist if p.name() == pipeline_name]\n",
    "    if len(pipeline) <= 0:\n",
    "        raise KeyError(f\"Pipeline {pipeline_name} not found in this workspace\")\n",
    "        return None\n",
    "    return pipeline[0]\n"
   ]
  },
  {
   "cell_type": "markdown",
   "id": "b5414c3f",
   "metadata": {},
   "source": [
    "## Login to Wallaroo\n",
    "\n",
    "Retrieve the previous workspace, model versions, and pipelines used in the previous notebook."
   ]
  },
  {
   "cell_type": "code",
   "execution_count": 7,
   "id": "92ca3872-038b-4851-bee2-069799ac0cfb",
   "metadata": {},
   "outputs": [
    {
     "data": {
      "text/plain": [
       "{'name': 'workshop-workspace-john-cv-01', 'id': 305, 'archived': False, 'created_by': 'd1704c38-2016-4b1d-9407-85e7e6875e6d', 'created_at': '2023-09-15T15:33:11.282661+00:00', 'models': [{'name': 'mobilenet', 'versions': 2, 'owner_id': '\"\"', 'last_update_time': datetime.datetime(2023, 9, 15, 15, 41, 52, 806845, tzinfo=tzutc()), 'created_at': datetime.datetime(2023, 9, 15, 15, 41, 18, 436823, tzinfo=tzutc())}, {'name': 'resnet50', 'versions': 1, 'owner_id': '\"\"', 'last_update_time': datetime.datetime(2023, 9, 15, 17, 40, 26, 598314, tzinfo=tzutc()), 'created_at': datetime.datetime(2023, 9, 15, 17, 40, 26, 598314, tzinfo=tzutc())}, {'name': 'cv-post-process-drift-detection', 'versions': 2, 'owner_id': '\"\"', 'last_update_time': datetime.datetime(2023, 9, 15, 19, 36, 36, 926859, tzinfo=tzutc()), 'created_at': datetime.datetime(2023, 9, 15, 19, 7, 9, 705576, tzinfo=tzutc())}], 'pipelines': [{'name': 'cv-retail', 'create_time': datetime.datetime(2023, 9, 15, 15, 42, 19, 274266, tzinfo=tzutc()), 'definition': '[]'}]}"
      ]
     },
     "metadata": {},
     "output_type": "display_data"
    },
    {
     "data": {
      "text/html": [
       "<table><tr><th>name</th> <td>cv-retail</td></tr><tr><th>created</th> <td>2023-09-15 15:42:19.274266+00:00</td></tr><tr><th>last_updated</th> <td>2023-09-15 19:36:41.814790+00:00</td></tr><tr><th>deployed</th> <td>True</td></tr><tr><th>tags</th> <td></td></tr><tr><th>versions</th> <td>fb967807-302d-421d-a2cd-432212e43d37, 57baee6c-bf28-4d52-b203-6860a8a900ae, 572ae4b3-a705-48d3-ac59-861b2d92fea7, 7d926281-7b0a-4a3a-a4b7-2459cdc75d42, e867c05c-f83b-4133-8bb5-f2a107d41cbd, 66bb361a-0273-41da-ab9e-9250cdb5c2e9, 55861aa2-95c1-4705-b993-961e2b946502, 238b2ff8-239b-47e7-b411-39896ec5f6f2, 2c65bae5-f2e3-4fcc-a08d-5aa96e7413e4, fa0ff8bd-34fb-48ef-ba83-64e3ddf2b628, 93693edf-d015-4391-90a9-c1f7bec3adb0, b481f8ec-324c-4966-ab2f-1bf4e3135e9d, 4066daf9-3ccc-457f-9232-20633a68b906, dc845034-e16c-4b10-bc6f-2e55f44f8573, 5705524f-430d-4ff9-966f-83f7ddc0a792, f3be2fd7-1a81-4bb0-963c-b6fa182cdc2a, eac74d13-a28c-4a0c-8429-4f8fc3ddcba9, b29ae2db-bf89-48ba-8ed3-783f5603e278, ef3cdb70-ebb8-4dd9-b3a7-6e9f4b70c057</td></tr><tr><th>steps</th> <td>mobilenet</td></tr></table>"
      ],
      "text/plain": [
       "{'name': 'cv-retail', 'create_time': datetime.datetime(2023, 9, 15, 15, 42, 19, 274266, tzinfo=tzutc()), 'definition': '[]'}"
      ]
     },
     "metadata": {},
     "output_type": "display_data"
    },
    {
     "data": {
      "text/html": [
       "<table>\n",
       "        <tr>\n",
       "          <td>Name</td>\n",
       "          <td>mobilenet</td>\n",
       "        </tr>\n",
       "        <tr>\n",
       "          <td>Version</td>\n",
       "          <td>c3edd70a-a101-4cb0-8ddb-d3a95ef01e26</td>\n",
       "        </tr>\n",
       "        <tr>\n",
       "          <td>File Name</td>\n",
       "          <td>mobilenet.pt.onnx</td>\n",
       "        </tr>\n",
       "        <tr>\n",
       "          <td>SHA</td>\n",
       "          <td>9044c970ee061cc47e0c77e20b05e884be37f2a20aa9c0c3ce1993dbd486a830</td>\n",
       "        </tr>\n",
       "        <tr>\n",
       "          <td>Status</td>\n",
       "          <td>ready</td>\n",
       "        </tr>\n",
       "        <tr>\n",
       "          <td>Image Path</td>\n",
       "          <td>None</td>\n",
       "        </tr>\n",
       "        <tr>\n",
       "          <td>Updated At</td>\n",
       "          <td>2023-15-Sep 15:41:52</td>\n",
       "        </tr>\n",
       "      </table>"
      ],
      "text/plain": [
       "{'name': 'mobilenet', 'version': 'c3edd70a-a101-4cb0-8ddb-d3a95ef01e26', 'file_name': 'mobilenet.pt.onnx', 'image_path': None, 'last_update_time': datetime.datetime(2023, 9, 15, 15, 41, 52, 806845, tzinfo=tzutc())}"
      ]
     },
     "metadata": {},
     "output_type": "display_data"
    }
   ],
   "source": [
    "## blank space to log in \n",
    "\n",
    "wl = wallaroo.Client()\n",
    "\n",
    "wallarooPrefix = \"beautiful-platypus-3587.\"\n",
    "wallarooSuffix = \"wallaroo.community\"\n",
    "\n",
    "wl = wallaroo.Client(api_endpoint=f\"https://{wallarooPrefix}api.{wallarooSuffix}\", \n",
    "                    auth_endpoint=f\"https://{wallarooPrefix}keycloak.{wallarooSuffix}\", \n",
    "                    auth_type=\"sso\")\n",
    "\n",
    "# retrieve the previous workspace, model, and pipeline version\n",
    "\n",
    "workspace_name = \"workshop-workspace-john-cv-01\"\n",
    "\n",
    "workspace = get_workspace(workspace_name, wl)\n",
    "\n",
    "# set your current workspace to the workspace that you just created\n",
    "wl.set_current_workspace(workspace)\n",
    "\n",
    "# optionally, examine your current workspace\n",
    "wl.get_current_workspace()\n",
    "\n",
    "model_name = 'mobilenet'\n",
    "\n",
    "prime_model_version = get_model_version(model_name, workspace)\n",
    "\n",
    "pipeline_name = 'cv-retail'\n",
    "\n",
    "pipeline = get_pipeline(pipeline_name, workspace)\n",
    "\n",
    "# display the workspace, pipeline and model version\n",
    "display(workspace)\n",
    "display(pipeline)\n",
    "display(prime_model_version)\n"
   ]
  },
  {
   "cell_type": "markdown",
   "id": "7a8ae0c7",
   "metadata": {},
   "source": [
    "Set up the pipeline with the single model step as was done in notebook 1, then deploy it."
   ]
  },
  {
   "cell_type": "code",
   "execution_count": 8,
   "id": "d02ad6db",
   "metadata": {},
   "outputs": [
    {
     "data": {
      "text/html": [
       "<table><tr><th>name</th> <td>cv-retail</td></tr><tr><th>created</th> <td>2023-09-15 15:42:19.274266+00:00</td></tr><tr><th>last_updated</th> <td>2023-09-18 14:08:58.228918+00:00</td></tr><tr><th>deployed</th> <td>True</td></tr><tr><th>tags</th> <td></td></tr><tr><th>versions</th> <td>da11a266-844e-4f1f-9d0e-918b25aab687, fb967807-302d-421d-a2cd-432212e43d37, 57baee6c-bf28-4d52-b203-6860a8a900ae, 572ae4b3-a705-48d3-ac59-861b2d92fea7, 7d926281-7b0a-4a3a-a4b7-2459cdc75d42, e867c05c-f83b-4133-8bb5-f2a107d41cbd, 66bb361a-0273-41da-ab9e-9250cdb5c2e9, 55861aa2-95c1-4705-b993-961e2b946502, 238b2ff8-239b-47e7-b411-39896ec5f6f2, 2c65bae5-f2e3-4fcc-a08d-5aa96e7413e4, fa0ff8bd-34fb-48ef-ba83-64e3ddf2b628, 93693edf-d015-4391-90a9-c1f7bec3adb0, b481f8ec-324c-4966-ab2f-1bf4e3135e9d, 4066daf9-3ccc-457f-9232-20633a68b906, dc845034-e16c-4b10-bc6f-2e55f44f8573, 5705524f-430d-4ff9-966f-83f7ddc0a792, f3be2fd7-1a81-4bb0-963c-b6fa182cdc2a, eac74d13-a28c-4a0c-8429-4f8fc3ddcba9, b29ae2db-bf89-48ba-8ed3-783f5603e278, ef3cdb70-ebb8-4dd9-b3a7-6e9f4b70c057</td></tr><tr><th>steps</th> <td>mobilenet</td></tr></table>"
      ],
      "text/plain": [
       "{'name': 'cv-retail', 'create_time': datetime.datetime(2023, 9, 15, 15, 42, 19, 274266, tzinfo=tzutc()), 'definition': \"[{'ModelInference': {'models': [{'name': 'mobilenet', 'version': 'c3edd70a-a101-4cb0-8ddb-d3a95ef01e26', 'sha': '9044c970ee061cc47e0c77e20b05e884be37f2a20aa9c0c3ce1993dbd486a830'}]}}]\"}"
      ]
     },
     "execution_count": 8,
     "metadata": {},
     "output_type": "execute_result"
    }
   ],
   "source": [
    "pipeline.clear()\n",
    "pipeline.add_model_step(prime_model_version)\n",
    "\n",
    "deploy_config = wallaroo.DeploymentConfigBuilder().replica_count(1).cpus(0.5).memory(\"1Gi\").build()\n",
    "pipeline.deploy(deployment_config=deploy_config)"
   ]
  },
  {
   "cell_type": "markdown",
   "id": "cce8eb63",
   "metadata": {},
   "source": [
    "## Add Pipeline Processing Step\n",
    "\n",
    "Our model exports its values as different arrays - such as `out.confidences`, which gives the confidence value for each object in the image it recognizes.\n",
    "\n",
    "To perform a validation, we need to focus on just one value.  For this, we have a postprocessing Python step `post-process-drift-detection-arrow.py`.  This takes the mean of the confidences and exports them into a separate column:\n",
    "\n",
    "```python\n",
    "def wallaroo_json(data: pd.DataFrame):\n",
    "    print(\"-- wallaroo_json -- \")\n",
    "    # calculate precision\n",
    "    \n",
    "    confidences = data[\"confidences\"][0]\n",
    "\n",
    "    print(confidences)\n",
    "    classes = data[\"classes\"][0]\n",
    "    print(classes)\n",
    "    boxes = data[\"boxes\"][0]\n",
    "    print(boxes)\n",
    "    \n",
    "    # avg_conf = [data[\"confidences\"].mean()]\n",
    "    # Why the extra \n",
    "    avg_conf = numpy.array(confidences).mean()\n",
    "    print(avg_conf)\n",
    "    print(\"-- boxes --\")\n",
    " \n",
    "    # calculate intersection of union\n",
    "    return [\n",
    "             {'boxes' : boxes},\n",
    "             {'classes' : classes},\n",
    "             {'confidences' : confidences},\n",
    "             {'avg_conf': [avg_conf] }\n",
    "           ]\n",
    "```\n",
    "\n",
    "When uploading a Python step, we need the **input schema** and the **output schema**.  This allows the Wallaroo engine to validate the data going into and out of the models.\n",
    "\n",
    "Data schemas as in Apache Arrow schema format.  Here's the data schemas for this Python step.\n",
    "\n",
    "```python\n",
    "input_schema = pa.schema([field_boxes, field_classes, field_confidences])\n",
    "\n",
    "output_schema = pa.schema([\n",
    "    pa.field('boxes', pa.list_(pa.list_(pa.float64(), 4))),\n",
    "    pa.field('classes', pa.list_(pa.int32())),\n",
    "    pa.field('confidences', pa.list_(pa.float64())),\n",
    "    pa.field('avg_conf', pa.list_(pa.float64()))\n",
    "])\n",
    "```\n",
    "\n",
    "Then the Python step is uploaded with the input and output schemas as follows.  This uses the Wallaroo client saved to `wl`.\n",
    "\n",
    "```python\n",
    "python_step = wl.upload_model(\"cv-post-process-drift-detection\", \n",
    "                \"./models/post-process-drift-detection-arrow.py\",\n",
    "                framework=Framework.PYTHON ).configure('python', \n",
    "                                             input_schema=input_schema, \n",
    "                                             output_schema=output_schema\n",
    "                )\n",
    "```\n",
    "\n",
    "## Add Pipeline Processing Step Exercise\n",
    "\n",
    "Upload the Python step `post-process-drift-detection-arrow.py` as a Wallaroo model with the input and output schemas.  Refer to the code above for details."
   ]
  },
  {
   "cell_type": "code",
   "execution_count": 9,
   "id": "117b4f5a",
   "metadata": {},
   "outputs": [],
   "source": [
    "input_schema = pa.schema([\n",
    "    pa.field('boxes', pa.list_(pa.list_(pa.float64(), 4))),\n",
    "    pa.field('classes', pa.list_(pa.int32())),\n",
    "    pa.field('confidences', pa.list_(pa.float64())),])\n",
    "\n",
    "output_schema = pa.schema([\n",
    "    pa.field('boxes', pa.list_(pa.list_(pa.float64(), 4))),\n",
    "    pa.field('classes', pa.list_(pa.int32())),\n",
    "    pa.field('confidences', pa.list_(pa.float64())),\n",
    "    pa.field('avg_conf', pa.list_(pa.float64()))\n",
    "])\n",
    "\n",
    "python_step = wl.upload_model(\"cv-post-process-drift-detection\", \n",
    "                \"../models/post-process-drift-detection-arrow.py\",\n",
    "                framework=Framework.PYTHON ).configure('python', \n",
    "                                             input_schema=input_schema, \n",
    "                                             output_schema=output_schema\n",
    "                )"
   ]
  },
  {
   "cell_type": "markdown",
   "id": "bf2627fc",
   "metadata": {},
   "source": [
    "## Add Python Postprocessing Pipeline Step\n",
    "\n",
    "With our Python postprocessing step uploaded as a model version, we can add it to our pipelines steps just like any other model.  If our pipeline reference is stored to the variable `pipeline`, then we add it as a new model step.\n",
    "\n",
    "```python\n",
    "pipeline.add_model_step(python_step)\n",
    "```\n",
    "\n",
    "We can verify the pipeline steps that will be applied once the pipeline is deployed with the pipeline `steps()` method.\n",
    "\n",
    "```python\n",
    "pipeline.steps()\n",
    "\n",
    "[{'ModelInference': {'models': [{'name': 'mobilenet', 'version': 'c3edd70a-a101-4cb0-8ddb-d3a95ef01e26', 'sha': '9044c970ee061cc47e0c77e20b05e884be37f2a20aa9c0c3ce1993dbd486a830'}]}},\n",
    " {'ModelInference': {'models': [{'name': 'cv-post-process-drift-detection', 'version': 'e6a5bcc8-2d77-4cde-97e5-5b72b48dd55a', 'sha': 'f60c8ca55c6350d23a4e76d24cc3e5922616090686e88c875fadd6e79c403be5'}]}}]\n",
    "```\n",
    "\n",
    "This will be applied to the pipeline once we deploy.\n",
    "\n",
    "```python\n",
    "deploy_config = wallaroo.DeploymentConfigBuilder().replica_count(1).cpus(0.5).memory(\"1Gi\").build()\n",
    "pipeline.deploy(deployment_config=deploy_config)\n",
    "```"
   ]
  },
  {
   "cell_type": "code",
   "execution_count": 10,
   "id": "ef3f981f",
   "metadata": {},
   "outputs": [
    {
     "data": {
      "text/plain": [
       "[{'ModelInference': {'models': [{'name': 'mobilenet', 'version': 'c3edd70a-a101-4cb0-8ddb-d3a95ef01e26', 'sha': '9044c970ee061cc47e0c77e20b05e884be37f2a20aa9c0c3ce1993dbd486a830'}]}},\n",
       " {'ModelInference': {'models': [{'name': 'cv-post-process-drift-detection', 'version': '8c71a9e3-dd5a-40a1-8b53-84e1a20eba12', 'sha': 'f60c8ca55c6350d23a4e76d24cc3e5922616090686e88c875fadd6e79c403be5'}]}}]"
      ]
     },
     "metadata": {},
     "output_type": "display_data"
    },
    {
     "data": {
      "text/html": [
       "<table><tr><th>name</th> <td>cv-retail</td></tr><tr><th>created</th> <td>2023-09-15 15:42:19.274266+00:00</td></tr><tr><th>last_updated</th> <td>2023-09-18 14:09:18.951074+00:00</td></tr><tr><th>deployed</th> <td>True</td></tr><tr><th>tags</th> <td></td></tr><tr><th>versions</th> <td>8aaab4a4-4607-41b1-a6a7-c3b83a9859f9, da11a266-844e-4f1f-9d0e-918b25aab687, fb967807-302d-421d-a2cd-432212e43d37, 57baee6c-bf28-4d52-b203-6860a8a900ae, 572ae4b3-a705-48d3-ac59-861b2d92fea7, 7d926281-7b0a-4a3a-a4b7-2459cdc75d42, e867c05c-f83b-4133-8bb5-f2a107d41cbd, 66bb361a-0273-41da-ab9e-9250cdb5c2e9, 55861aa2-95c1-4705-b993-961e2b946502, 238b2ff8-239b-47e7-b411-39896ec5f6f2, 2c65bae5-f2e3-4fcc-a08d-5aa96e7413e4, fa0ff8bd-34fb-48ef-ba83-64e3ddf2b628, 93693edf-d015-4391-90a9-c1f7bec3adb0, b481f8ec-324c-4966-ab2f-1bf4e3135e9d, 4066daf9-3ccc-457f-9232-20633a68b906, dc845034-e16c-4b10-bc6f-2e55f44f8573, 5705524f-430d-4ff9-966f-83f7ddc0a792, f3be2fd7-1a81-4bb0-963c-b6fa182cdc2a, eac74d13-a28c-4a0c-8429-4f8fc3ddcba9, b29ae2db-bf89-48ba-8ed3-783f5603e278, ef3cdb70-ebb8-4dd9-b3a7-6e9f4b70c057</td></tr><tr><th>steps</th> <td>mobilenet</td></tr></table>"
      ],
      "text/plain": [
       "{'name': 'cv-retail', 'create_time': datetime.datetime(2023, 9, 15, 15, 42, 19, 274266, tzinfo=tzutc()), 'definition': \"[{'ModelInference': {'models': [{'name': 'mobilenet', 'version': 'c3edd70a-a101-4cb0-8ddb-d3a95ef01e26', 'sha': '9044c970ee061cc47e0c77e20b05e884be37f2a20aa9c0c3ce1993dbd486a830'}]}}, {'ModelInference': {'models': [{'name': 'cv-post-process-drift-detection', 'version': '8c71a9e3-dd5a-40a1-8b53-84e1a20eba12', 'sha': 'f60c8ca55c6350d23a4e76d24cc3e5922616090686e88c875fadd6e79c403be5'}]}}]\"}"
      ]
     },
     "execution_count": 10,
     "metadata": {},
     "output_type": "execute_result"
    }
   ],
   "source": [
    "pipeline.clear()\n",
    "\n",
    "pipeline.add_model_step(prime_model_version)\n",
    "pipeline.add_model_step(python_step)\n",
    "display(pipeline.steps())\n",
    "\n",
    "deploy_config = wallaroo.DeploymentConfigBuilder().replica_count(1).cpus(1).memory(\"1Gi\").build()\n",
    "pipeline.deploy(deployment_config=deploy_config)"
   ]
  },
  {
   "cell_type": "code",
   "execution_count": 11,
   "id": "a5bb1911",
   "metadata": {},
   "outputs": [
    {
     "data": {
      "text/plain": [
       "pyarrow.Table\n",
       "time: timestamp[ms]\n",
       "in.tensor: list<item: float> not null\n",
       "  child 0, item: float\n",
       "out.avg_conf: list<item: double> not null\n",
       "  child 0, item: double\n",
       "out.boxes: list<item: fixed_size_list<item: double>[4]> not null\n",
       "  child 0, item: fixed_size_list<item: double>[4]\n",
       "      child 0, item: double\n",
       "out.classes: list<item: int32> not null\n",
       "  child 0, item: int32\n",
       "out.confidences: list<item: double> not null\n",
       "  child 0, item: double\n",
       "check_failures: int8\n",
       "----\n",
       "time: [[2023-09-18 14:09:45.806]]\n",
       "in.tensor: [[[0.9372549,0.9529412,0.9490196,0.94509804,0.94509804,...,0.6745098,0.7294118,0.77254903,0.8,0.8039216]]]\n",
       "out.avg_conf: [[[0.2895053208114637]]]\n",
       "out.boxes: [[[[0,210.29010009765625,85.26463317871094,479.074951171875],[72.03781127929688,197.32269287109375,151.44223022460938,468.4322509765625],...,[453.7723388671875,303.7969665527344,524.5588989257812,463.2135009765625],[609.8508911132812,94.62291717529295,635.7705078125,211.13577270507812]]]]\n",
       "out.classes: [[[44,44,44,44,82,...,61,44,86,44,44]]]\n",
       "out.confidences: [[[0.98649001121521,0.9011535644531251,0.607784628868103,0.592232286930084,0.5372903347015381,...,0.08654832839965801,0.078406944870948,0.07234089076519,0.06282090395689001,0.052787985652685006]]]\n",
       "check_failures: [[0]]"
      ]
     },
     "metadata": {},
     "output_type": "display_data"
    }
   ],
   "source": [
    "# sample test inference\n",
    "\n",
    "sample_result = pipeline.infer_from_file('../data/converted-images-to-arrow/dairy_bottles.png.arrow')\n",
    "display(sample_result)"
   ]
  },
  {
   "cell_type": "markdown",
   "id": "2e76d00f-4a25-4c8f-b144-105305a64e6b",
   "metadata": {},
   "source": [
    "## Monitoring for Drift: Shift Happens. \n",
    "\n",
    "In machine learning, you use data and known answers to train a model to make predictions for new previously unseen data. You do this with the assumption that the future unseen data will be similar to the data used during training: the future will look somewhat like the past.\n",
    "But the conditions that existed when a model was created, trained and tested can change over time, due to various factors.\n",
    "\n",
    "A good model should be robust to some amount of change in the environment; however, if the environment changes too much, your models may no longer be making the correct decisions. This situation is known as concept drift; too much drift can obsolete your models, requiring periodic retraining.\n",
    "\n",
    "Let's consider the example we've been working on: home sale price prediction. You may notice over time that there has been a change in the mix of properties in the listings portfolio: for example a dramatic increase or decrease in expensive properties (or more precisely, properties that the model thinks are expensive)\n",
    "\n",
    "Such a change could be due to many factors: a change in interest rates; the appearance or disappearance of major sources of employment; new housing developments opening up in the area. Whatever the cause, detecting such a change quickly is crucial, so that the business can react quickly in the appropriate manner, whether that means simply retraining the model on fresher data, or a pivot in business strategy.\n",
    "\n",
    "In Wallaroo you can monitor your housing model for signs of drift through the model monitoring and insight capability called Assays. Assays help you track changes in the environment that your model operates within, which can affect the model’s outcome. It does this by tracking the model’s predictions and/or the data coming into the model against an **established baseline**. If the distribution of monitored values in the current observation window differs too much from the baseline distribution, the assay will flag it. The figure below shows an example of a running scheduled assay.\n",
    "\n",
    "\n",
    "![](https://docs.wallaroo.ai/images/current/wallaroo-tutorials/wallaroo-tutorial-features/wallaroo-model-insights-reference_files/wallaroo-model-insights-reference_35_0.png)\n",
    "\n",
    "**Figure:** A daily assay that's been running for a month. The dots represent the difference between the distribution of values in the daily observation window, and the baseline. When that difference exceeds the specified threshold (indicated by a red dot) an alert is set.\n",
    "\n",
    "This next set of exercises will walk you through setting up an assay to monitor the predictions of your house price model, in order to detect drift.\n",
    "\n",
    "### NOTE\n",
    "\n",
    "An assay is a monitoring process that typically runs over an extended, ongoing period of time. For example, one might set up an assay that every day monitors the previous 24 hours' worth of predictions and compares it to a baseline. For the purposes of these exercises, we'll be compressing processes what normally would take hours or days into minutes.\n",
    "\n",
    "<hr/>\n",
    "\n",
    "### Assay DataSet Exercise\n",
    "\n",
    "Because assays are designed to detect changes in distributions, let's try to set up data with different distributions to test with. Take your houseprice data and create two sets: a set with lower prices, and a set with higher prices. You can split however you choose.\n",
    "\n",
    "The idea is we will pretend that the set of lower priced houses represent the \"typical\" mix of houses in the housing portfolio at the time you set your baseline; you will introduce the higher priced houses later, to represent an environmental change when more expensive houses suddenly enter the market.\n",
    "\n",
    "* If you are using the pre-provided models to do these exercises, you can use the provided data sets `lowprice.df.json` and `highprice.df.json`.  This is to establish our baseline as a set of known values, so the higher prices will trigger our assay alerts.\n",
    "\n",
    "```python\n",
    "lowprice_data = pd.read_json('./data/lowprice.df.json')\n",
    "highprice_data = pd.read_json('./data/highprice.df.json')\n",
    "```\n",
    "\n",
    "Note that the data in these files are already in the form expected by the models, so you don't need to use the `get_singleton` or `get_batch` convenience functions to infer.\n",
    "\n",
    "At the end of this exercise, you should have two sets of data to demonstrate assays. In the discussion below, we'll refer to these sets as `lowprice_data` and `highprice_data`.\n"
   ]
  },
  {
   "cell_type": "markdown",
   "id": "229d9256-c7a0-4a3b-bef9-da8717e62fbf",
   "metadata": {},
   "source": [
    "We will use this data to set up some \"historical data\" in the house price prediction pipeline that you build in the assay exercises.\n"
   ]
  },
  {
   "cell_type": "markdown",
   "id": "27a15433-71c3-4dc3-88cb-7765b19d6018",
   "metadata": {},
   "source": [
    "## Set Assay Baseline\n",
    "\n",
    "In order to know whether the distribution of your model's predictions have changed, you need a baseline to compare them to. This baseline should represent how you expect the model to behave at the time it was trained. This might be approximated by the distribution of the model's predictions over some \"typical\" period of time. For example, we might collect the predictions of our model over the first few days after it's been deployed. For these exercises, we'll compress that to a few minutes. Currently, to set up a wallaroo assay the pipeline must have been running for some period of time, and the assumption is that this period of time is \"typical\", and that the distributions of the inputs and the outputs of the model during this period of time are \"typical.\"\n",
    "\n",
    "### Set Assay Baseline Data Exercise\n",
    "\n",
    "Here, we simulate having a pipeline that's been running for a long enough period of time to set up an assay.\n",
    "\n",
    "To send enough data through the pipeline to create assays, you execute something like the following code (using the appropriate names for your pipelines and models). Note that this step will take a little while, because of  the `sleep` interval.\n",
    "\n",
    "You will need the timestamps `baseline_start`, and `baseline_end`, for the next exercises.\n",
    "\n",
    "```python\n",
    "# get your pipeline (in this example named \"mypipeline\")\n",
    "\n",
    "pipeline = get_pipeline(\"mypipeline\")\n",
    "pipeline.deploy()\n",
    "\n",
    "## Run some baseline data\n",
    "# Where the baseline data will start\n",
    "baseline_start = datetime.datetime.now()\n",
    "\n",
    "# the number of samples we'll use for the baseline\n",
    "nsample = 500\n",
    "\n",
    "# Wait 30 seconds to set this data apart from the rest\n",
    "# then send the data in batch\n",
    "time.sleep(30)\n",
    "\n",
    "# get a sample\n",
    "lowprice_data_sample = lowprice_data.sample(nsample, replace=True).reset_index(drop=True)\n",
    "pipeline.infer(lowprice_data_sample)\n",
    "\n",
    "# Set the baseline end\n",
    "baseline_end = datetime.datetime.now()\n",
    "\n",
    "```"
   ]
  },
  {
   "cell_type": "markdown",
   "id": "630f32da-6601-44fd-bf8c-c7df850f7b77",
   "metadata": {},
   "source": [
    "## Create Assay Builder and Set Baseline\n",
    "\n",
    "Before setting up an assay on this pipeline's output, we may want to look at the distribution of the predictions over our selected baseline period. To do that, we'll create an *assay_builder* that specifies the pipeline, the model in the pipeline, and the baseline period.. We'll also specify that we want to look at the output of the model, which in the example code is named `variable`, and would appear as `out.variable` in the logs.\n",
    "\n",
    "```python\n",
    "# print out one of the logs to get the name of the output variable\n",
    "display(pipeline.logs(limit=1))\n",
    "\n",
    "# get the model name directly off the pipeline (you could just hard code this, if you know the name)\n",
    "\n",
    "model_name = pipeline.model_configs()[0].model().name()\n",
    "\n",
    "assay_builder = ( wl.build_assay(assay_name, pipeline, model_name, \n",
    "                     baseline_start, baseline_end)\n",
    "                    .add_iopath(\"output variable 0\") ) # specify that we are looking at the first output of the output variable \"variable\"\n",
    "```\n",
    "\n",
    "where `baseline_start` and `baseline_end` are the beginning and end of the baseline periods as `datetime.datetime` objects. \n",
    "\n",
    "You can then examine the distribution of `variable` over the baseline period:\n",
    "\n",
    "```python\n",
    "assay_builder.baseline_histogram()\n",
    "```\n",
    "\n",
    "\n",
    "### Create Assay Builder and Set Baseline Exercise\n",
    "\n",
    "Create an assay builder to monitor the output of your house price pipeline. The baseline period should be from `baseline_start` to `baseline_end`. \n",
    "\n",
    "* You will need to know the name of your output variable, and the name of the model in the pipeline.\n",
    "\n",
    "Here's an example.\n",
    "\n",
    "```python\n",
    "import datetime\n",
    "import time\n",
    "baseline_start = datetime.datetime.now()\n",
    "time.sleep(5)\n",
    "\n",
    "pipeline.infer(lowprice_data)\n",
    "\n",
    "time.sleep(5)\n",
    "\n",
    "baseline_end = datetime.datetime.now()\n",
    "\n",
    "assay_builder = ( wl.build_assay('sample assay john', pipeline, model_name, \n",
    "                     baseline_start, baseline_end)\n",
    "                    .add_iopath(\"output variable 0\") )\n",
    "\n",
    "assay_builder.baseline_histogram()\n",
    "```\n"
   ]
  },
  {
   "cell_type": "code",
   "execution_count": 13,
   "id": "b1c8c723-9b10-4839-a330-1c78d0f4e145",
   "metadata": {},
   "outputs": [
    {
     "data": {
      "text/plain": [
       "'example_dress.jpg'"
      ]
     },
     "metadata": {},
     "output_type": "display_data"
    },
    {
     "data": {
      "text/plain": [
       "0    [0.9871447682380671]\n",
       "Name: out.avg_conf, dtype: object"
      ]
     },
     "metadata": {},
     "output_type": "display_data"
    },
    {
     "data": {
      "text/plain": [
       "'example_09.jpg'"
      ]
     },
     "metadata": {},
     "output_type": "display_data"
    },
    {
     "data": {
      "text/plain": [
       "0    [0.3609602999474317]\n",
       "Name: out.avg_conf, dtype: object"
      ]
     },
     "metadata": {},
     "output_type": "display_data"
    },
    {
     "data": {
      "text/plain": [
       "'example_02.jpg'"
      ]
     },
     "metadata": {},
     "output_type": "display_data"
    },
    {
     "data": {
      "text/plain": [
       "0    [0.9998139739036561]\n",
       "Name: out.avg_conf, dtype: object"
      ]
     },
     "metadata": {},
     "output_type": "display_data"
    },
    {
     "data": {
      "text/plain": [
       "'example_05.jpg'"
      ]
     },
     "metadata": {},
     "output_type": "display_data"
    },
    {
     "data": {
      "text/plain": [
       "0    [0.4765825836131201]\n",
       "Name: out.avg_conf, dtype: object"
      ]
     },
     "metadata": {},
     "output_type": "display_data"
    },
    {
     "data": {
      "text/plain": [
       "'example_04.jpg'"
      ]
     },
     "metadata": {},
     "output_type": "display_data"
    },
    {
     "data": {
      "text/plain": [
       "0    [0.3609602999474317]\n",
       "Name: out.avg_conf, dtype: object"
      ]
     },
     "metadata": {},
     "output_type": "display_data"
    },
    {
     "data": {
      "text/plain": [
       "'example_06.jpg'"
      ]
     },
     "metadata": {},
     "output_type": "display_data"
    },
    {
     "data": {
      "text/plain": [
       "0    [0.3950636684894556]\n",
       "Name: out.avg_conf, dtype: object"
      ]
     },
     "metadata": {},
     "output_type": "display_data"
    }
   ],
   "source": [
    "## Blank space to create an assay builder and examine the baseline distribution\n",
    "\n",
    "import datetime\n",
    "import time\n",
    "\n",
    "baseline_start = datetime.datetime.now()\n",
    "time.sleep(5)\n",
    "\n",
    "image_path = '../data/images/input/example_assay'\n",
    "\n",
    "import os\n",
    "files = os.listdir(image_path)\n",
    "\n",
    "width, height = 640, 480\n",
    "\n",
    "for image in files:\n",
    "    display(image)\n",
    "    dfImage, resizedImage = cvDemo.loadImageAndConvertToDataframe(f'{image_path}/{image}', \n",
    "                                                              width, \n",
    "                                                              height\n",
    "                                                              )\n",
    "    result = pipeline.infer(dfImage, timeout=60)\n",
    "    display(result['out.avg_conf'])\n",
    "\n",
    "time.sleep(5)\n",
    "\n",
    "baseline_end = datetime.datetime.now()\n",
    "\n"
   ]
  },
  {
   "cell_type": "code",
   "execution_count": 20,
   "id": "231c050c",
   "metadata": {},
   "outputs": [
    {
     "data": {
      "image/png": "[encoded data removed]",
      "text/plain": [
       "<Figure size 640x480 with 1 Axes>"
      ]
     },
     "metadata": {},
     "output_type": "display_data"
    }
   ],
   "source": [
    "assay_builder = ( wl.build_assay('sample assay cv sample', \n",
    "                                 pipeline, \n",
    "                                 \"cv-post-process-drift-detection\", \n",
    "                                 baseline_start, \n",
    "                                 baseline_end)\n",
    "                                .add_iopath(\"output avg_conf 0\") \n",
    "                )\n",
    "\n",
    "assay_builder.baseline_histogram()"
   ]
  },
  {
   "cell_type": "code",
   "execution_count": 21,
   "id": "5e96d02b",
   "metadata": {},
   "outputs": [
    {
     "data": {
      "text/html": [
       "<div>\n",
       "<style scoped>\n",
       "    .dataframe tbody tr th:only-of-type {\n",
       "        vertical-align: middle;\n",
       "    }\n",
       "\n",
       "    .dataframe tbody tr th {\n",
       "        vertical-align: top;\n",
       "    }\n",
       "\n",
       "    .dataframe thead th {\n",
       "        text-align: right;\n",
       "    }\n",
       "</style>\n",
       "<table border=\"1\" class=\"dataframe\">\n",
       "  <thead>\n",
       "    <tr style=\"text-align: right;\">\n",
       "      <th></th>\n",
       "      <th>Baseline</th>\n",
       "    </tr>\n",
       "  </thead>\n",
       "  <tbody>\n",
       "    <tr>\n",
       "      <th>count</th>\n",
       "      <td>6</td>\n",
       "    </tr>\n",
       "    <tr>\n",
       "      <th>min</th>\n",
       "      <td>0.36096</td>\n",
       "    </tr>\n",
       "    <tr>\n",
       "      <th>max</th>\n",
       "      <td>0.999814</td>\n",
       "    </tr>\n",
       "    <tr>\n",
       "      <th>mean</th>\n",
       "      <td>0.596754</td>\n",
       "    </tr>\n",
       "    <tr>\n",
       "      <th>median</th>\n",
       "      <td>0.435823</td>\n",
       "    </tr>\n",
       "    <tr>\n",
       "      <th>std</th>\n",
       "      <td>0.28319</td>\n",
       "    </tr>\n",
       "    <tr>\n",
       "      <th>start</th>\n",
       "      <td>2023-09-18T14:10:23.680589Z</td>\n",
       "    </tr>\n",
       "    <tr>\n",
       "      <th>end</th>\n",
       "      <td>2023-09-18T14:10:55.733749Z</td>\n",
       "    </tr>\n",
       "  </tbody>\n",
       "</table>\n",
       "</div>"
      ],
      "text/plain": [
       "                           Baseline\n",
       "count                             6\n",
       "min                         0.36096\n",
       "max                        0.999814\n",
       "mean                       0.596754\n",
       "median                     0.435823\n",
       "std                         0.28319\n",
       "start   2023-09-18T14:10:23.680589Z\n",
       "end     2023-09-18T14:10:55.733749Z"
      ]
     },
     "execution_count": 21,
     "metadata": {},
     "output_type": "execute_result"
    }
   ],
   "source": [
    "baseline_run = assay_builder.build().interactive_baseline_run()\n",
    "\n",
    "baseline_run.baseline_stats()"
   ]
  },
  {
   "cell_type": "markdown",
   "id": "bfdafee0-e6eb-4306-a498-3d816a8a2600",
   "metadata": {},
   "source": [
    "## Assay Windows\n",
    "\n",
    "An assay should detect if the distribution of model predictions changes from the above distribution over regularly sampled observation windows. This is called *drift*.\n",
    "\n",
    "To show drift, we'll run more data through the pipeline -- first some data drawn from the same distribution as the baseline (`lowprice_data`). Then, we will gradually introduce more data from a different distribution (`highprice_data`). We should see the difference between the baseline distribution and the distribution in the observation window increase.\n",
    "\n",
    "To set up the data, you should do something like the below. It will take a while to run, because of all the `sleep` intervals.\n",
    "\n",
    "You will need the `assay_window_end` for a later exercise.\n",
    "\n",
    "**IMPORTANT NOTE**:  To generate the data for the assay, this process may take 4-5 minutes.  Because the shortest period of time for an assay window is 1 minute, the intervals of inference data are spaced to fall within that time period.\n",
    "\n",
    "```python\n",
    "# Set the start for our assay window period.\n",
    "assay_window_start = datetime.datetime.now()\n",
    "\n",
    "# Run a set of house values, spread across a \"longer\" period of time\n",
    "\n",
    "# run \"typical\" data\n",
    "for x in range(4):\n",
    "    pipeline.infer(lowprice_data.sample(2*nsample, replace=True).reset_index(drop=True))\n",
    "    time.sleep(25)\n",
    "    \n",
    "# run a mix\n",
    "for x in range(3):\n",
    "    pipeline.infer(lowprice_data.sample(nsample, replace=True).reset_index(drop=True))\n",
    "    pipeline.infer(highprice_data.sample(nsample, replace=True).reset_index(drop=True))\n",
    "    time.sleep(25)\n",
    "    \n",
    "# high price houses dominate the sample\n",
    "for x in range(3):\n",
    "    pipeline.infer(highprice_data.sample(2*nsample, replace=True).reset_index(drop=True))\n",
    "    time.sleep(25)\n",
    "\n",
    "# End our assay window period\n",
    "assay_window_end = datetime.datetime.now()\n",
    "```\n",
    "\n",
    "## Assay Windows Exercise\n",
    "\n",
    "Run more data through the pipeline, manifesting a drift, like the example above. It may around 10 minutes depending on how you stagger the inferences.\n",
    "\n",
    "Here's an example of some code to use:\n",
    "\n",
    "```python\n",
    "## Blank space to run more data\n",
    "\n",
    "assay_window_start = datetime.datetime.now()\n",
    "\n",
    "# Run a set of house values, spread across a \"longer\" period of time\n",
    "\n",
    "nsample = 500\n",
    "\n",
    "# run \"typical\" data\n",
    "for x in range(4):\n",
    "    pipeline.infer(lowprice_data.sample(2*nsample, replace=True).reset_index(drop=True))\n",
    "    time.sleep(25)\n",
    "    \n",
    "# run a mix\n",
    "for x in range(3):\n",
    "    pipeline.infer(lowprice_data.sample(nsample, replace=True).reset_index(drop=True))\n",
    "    pipeline.infer(highprice_data.sample(nsample, replace=True).reset_index(drop=True))\n",
    "    time.sleep(25)\n",
    "    \n",
    "# high price houses dominate the sample\n",
    "for x in range(3):\n",
    "    pipeline.infer(highprice_data.sample(2*nsample, replace=True).reset_index(drop=True))\n",
    "    time.sleep(25)\n",
    "\n",
    "# End our assay window period\n",
    "assay_window_end = datetime.datetime.now()\n",
    "```\n"
   ]
  },
  {
   "cell_type": "code",
   "execution_count": 26,
   "id": "071843f2-e2e6-4fd2-80dd-1b862f08e899",
   "metadata": {},
   "outputs": [
    {
     "data": {
      "text/plain": [
       "'example_dress.jpg'"
      ]
     },
     "metadata": {},
     "output_type": "display_data"
    },
    {
     "data": {
      "text/plain": [
       "'example_09.jpg'"
      ]
     },
     "metadata": {},
     "output_type": "display_data"
    },
    {
     "data": {
      "text/plain": [
       "'example_02.jpg'"
      ]
     },
     "metadata": {},
     "output_type": "display_data"
    },
    {
     "data": {
      "text/plain": [
       "'example_05.jpg'"
      ]
     },
     "metadata": {},
     "output_type": "display_data"
    },
    {
     "data": {
      "text/plain": [
       "'example_04.jpg'"
      ]
     },
     "metadata": {},
     "output_type": "display_data"
    },
    {
     "data": {
      "text/plain": [
       "'example_06.jpg'"
      ]
     },
     "metadata": {},
     "output_type": "display_data"
    },
    {
     "data": {
      "text/plain": [
       "'example_09-v2.jpg'"
      ]
     },
     "metadata": {},
     "output_type": "display_data"
    },
    {
     "data": {
      "text/plain": [
       "'example_dress.jpg'"
      ]
     },
     "metadata": {},
     "output_type": "display_data"
    },
    {
     "data": {
      "text/plain": [
       "'frame9880.jpg'"
      ]
     },
     "metadata": {},
     "output_type": "display_data"
    },
    {
     "data": {
      "text/plain": [
       "'frame8744.jpg'"
      ]
     },
     "metadata": {},
     "output_type": "display_data"
    },
    {
     "data": {
      "text/plain": [
       "'dairy_bottles.png'"
      ]
     },
     "metadata": {},
     "output_type": "display_data"
    },
    {
     "data": {
      "text/plain": [
       "'vegtables_poor_identification.jpg'"
      ]
     },
     "metadata": {},
     "output_type": "display_data"
    },
    {
     "data": {
      "text/plain": [
       "'example_poor_identification.jpg'"
      ]
     },
     "metadata": {},
     "output_type": "display_data"
    },
    {
     "data": {
      "text/plain": [
       "'example_09.jpg'"
      ]
     },
     "metadata": {},
     "output_type": "display_data"
    },
    {
     "data": {
      "text/plain": [
       "'dairy_products.png'"
      ]
     },
     "metadata": {},
     "output_type": "display_data"
    },
    {
     "data": {
      "text/plain": [
       "'store-front.png'"
      ]
     },
     "metadata": {},
     "output_type": "display_data"
    },
    {
     "data": {
      "text/plain": [
       "'example_03.jpg'"
      ]
     },
     "metadata": {},
     "output_type": "display_data"
    },
    {
     "data": {
      "text/plain": [
       "'example_01.jpg'"
      ]
     },
     "metadata": {},
     "output_type": "display_data"
    },
    {
     "data": {
      "text/plain": [
       "'example_05.jpg'"
      ]
     },
     "metadata": {},
     "output_type": "display_data"
    },
    {
     "data": {
      "text/plain": [
       "'example_04.jpg'"
      ]
     },
     "metadata": {},
     "output_type": "display_data"
    },
    {
     "data": {
      "text/plain": [
       "'example_06.jpg'"
      ]
     },
     "metadata": {},
     "output_type": "display_data"
    },
    {
     "data": {
      "text/plain": [
       "'coats-jackets.png'"
      ]
     },
     "metadata": {},
     "output_type": "display_data"
    },
    {
     "data": {
      "text/plain": [
       "'product_cheeses.png'"
      ]
     },
     "metadata": {},
     "output_type": "display_data"
    },
    {
     "data": {
      "text/plain": [
       "'frame5244.jpg'"
      ]
     },
     "metadata": {},
     "output_type": "display_data"
    },
    {
     "data": {
      "text/plain": [
       "'example_shoe.jpg'"
      ]
     },
     "metadata": {},
     "output_type": "display_data"
    }
   ],
   "source": [
    "## Blank space to run more data\n",
    "\n",
    "assay_window_start = datetime.datetime.now()\n",
    "\n",
    "# run \"typical\" data\n",
    "time.sleep(10)\n",
    "\n",
    "image_path = '../data/images/input/example_assay/'\n",
    "\n",
    "import os\n",
    "files = os.listdir(image_path)\n",
    "\n",
    "width, height = 640, 480\n",
    "\n",
    "for image in files:\n",
    "    display(image)\n",
    "    dfImage, resizedImage = cvDemo.loadImageAndConvertToDataframe(f'{image_path}{image}', \n",
    "                                                            width, \n",
    "                                                            height\n",
    "                                                            )\n",
    "    result = pipeline.infer(dfImage, timeout=60)\n",
    "    # display(result)\n",
    "\n",
    "# run the blurred images\n",
    "\n",
    "time.sleep(90)\n",
    "\n",
    "image_path = '../data/images/blurred/'\n",
    "\n",
    "import os\n",
    "files = os.listdir(image_path)\n",
    "\n",
    "width, height = 640, 480\n",
    "\n",
    "for image in files:\n",
    "    display(image)\n",
    "    dfImage, resizedImage = cvDemo.loadImageAndConvertToDataframe(f'{image_path}{image}', \n",
    "                                                            width, \n",
    "                                                            height\n",
    "                                                            )\n",
    "    result = pipeline.infer(dfImage, timeout=60)\n",
    "\n",
    "\n"
   ]
  },
  {
   "cell_type": "code",
   "execution_count": 27,
   "id": "c865fc25",
   "metadata": {},
   "outputs": [],
   "source": [
    "# End our assay window period\n",
    "assay_window_end = datetime.datetime.now()"
   ]
  },
  {
   "cell_type": "markdown",
   "id": "51133baa-e0c8-41ca-a781-fdab6e1de4d9",
   "metadata": {},
   "source": [
    "## Define Assay Parameters\n",
    "\n",
    "Now we're finally ready to set up an assay!\n",
    "\n",
    "### The Observation Window\n",
    "\n",
    "Once a baseline period has been established, you must define the window of observations that will be compared to the baseline. For instance, you might want to set up an assay that runs *every 12 hours*, collects the *previous 24 hours' predictions* and compares the distribution of predictions within that 24 hour window to the baseline. To set such a comparison up would look like this:\n",
    "\n",
    "```python\n",
    "assay_builder.window_builder().add_width(hours=24).add_interval(hours=12)\n",
    "```\n",
    "\n",
    "In other words **_width_** is the width of the observation window, and **_interval_** is how often an assay (comparison) is run. The default value of *width* is 24 hours; the default value of *interval* is to set it equal to *width*. The units can be specified in one of: `minutes`, `hours`, `days`, `weeks`.\n",
    "\n",
    "### The Comparison Threshold\n",
    "Given an observation window and a baseline distribution, an assay computes the distribution of predictions in the observation window. It then calculates the \"difference\" (or \"distance\") between the observed distribution and the baseline distribution. For the assay's default distance metric (which we will use here), a good starting threshold is 0.1. Since a different value may work best for a specific situation, you can try interactive assay runs on historical data to find a good threshold, as we do in these exercises.\n",
    "\n",
    "To set the assay threshold for the assays to 0.1:\n",
    "\n",
    "```python\n",
    "assay_builder.add_alert_threshold(0.1)\n",
    "```\n",
    "\n",
    "### Running an Assay on Historical Data\n",
    "\n",
    "In this exercise, you will build an **interactive assay** over historical data. To do this, you need an end time (`endtime`). \n",
    "\n",
    "Depending on the historical history, the window and interval may need adjusting.  If using the previously generated information, an interval window as short as 1 minute may be useful.\n",
    "\n",
    "Assuming you have an assay builder with the appropriate window parameters and threshold set, you can do an interactive run and look at the results would look like this.\n",
    "\n",
    "```python\n",
    "# set the end of the interactive run\n",
    "assay_builder.add_run_until(endtime)\n",
    "\n",
    "# set the window\n",
    "\n",
    "assay_builder.window_builder().add_width(hours=24).add_interval(hours=12)\n",
    "\n",
    "assay_results = assay_builder.build().interactive_run()\n",
    "df = assay_results.to_dataframe() # to return the results as a table\n",
    "assay_results.chart_scores() # to plot the run\n",
    "```\n",
    "\n",
    "### Define Assay Parameters Exercise\n",
    "\n",
    "Use the assay_builder you created in the previous exercise to set up an interactive assay. \n",
    "* The assay should run every minute, on a window that is a minute wide. \n",
    "* Set the alert threshold to 0.1.  \n",
    "* You can use `assay_window_end` (or a later timestamp) as the end of the interactive run.\n",
    "\n",
    "Examine the assay results. Do you see any drift?\n",
    "\n",
    "To try other ways of examining the assay results, see the [\"Interactive Assay Runs\" section of the Model Insights tutorial](https://docs.wallaroo.ai/wallaroo-tutorials/wallaroo-tutorial-features/wallaroo-model-insights/#interactive-assay-runs).\n",
    "\n",
    "Here's some code to use.\n",
    "\n",
    "```python\n",
    "# blank space for setting assay parameters, creating and examining an interactive assay\n",
    "\n",
    "# set the end of the interactive run\n",
    "assay_builder.add_run_until(assay_window_end)\n",
    "\n",
    "# doing minutes to get our previous values in\n",
    "assay_builder.window_builder().add_width(minutes=1).add_interval(minutes=1)\n",
    "assay_builder.add_alert_threshold(0.1)\n",
    "assay_results = assay_builder.build().interactive_run()\n",
    "df = assay_results.to_dataframe() # to return the results as a table\n",
    "assay_results.chart_scores() # to plot the run\n",
    "```\n"
   ]
  },
  {
   "cell_type": "code",
   "execution_count": 28,
   "id": "920ede66-5919-4293-9297-7c1a06fef34b",
   "metadata": {},
   "outputs": [
    {
     "data": {
      "image/png": "[encoded data removed]",
      "text/plain": [
       "<Figure size 640x480 with 1 Axes>"
      ]
     },
     "metadata": {},
     "output_type": "display_data"
    }
   ],
   "source": [
    "# blank space for setting assay parameters, creating and examining an interactive assay\n",
    "\n",
    "# set the end of the interactive run\n",
    "assay_builder.add_run_until(assay_window_end)\n",
    "\n",
    "# doing minutes to get our previous values in\n",
    "assay_builder.window_builder().add_width(minutes=5).add_interval(hours=2)\n",
    "assay_builder.add_alert_threshold(0.1)\n",
    "assay_results = assay_builder.build().interactive_run()\n",
    "df = assay_results.to_dataframe() # to return the results as a table\n",
    "assay_results.chart_scores() # to plot the run\n"
   ]
  },
  {
   "cell_type": "code",
   "execution_count": 29,
   "id": "60779f6e",
   "metadata": {},
   "outputs": [
    {
     "data": {
      "text/html": [
       "<div>\n",
       "<style scoped>\n",
       "    .dataframe tbody tr th:only-of-type {\n",
       "        vertical-align: middle;\n",
       "    }\n",
       "\n",
       "    .dataframe tbody tr th {\n",
       "        vertical-align: top;\n",
       "    }\n",
       "\n",
       "    .dataframe thead th {\n",
       "        text-align: right;\n",
       "    }\n",
       "</style>\n",
       "<table border=\"1\" class=\"dataframe\">\n",
       "  <thead>\n",
       "    <tr style=\"text-align: right;\">\n",
       "      <th></th>\n",
       "      <th>assay_id</th>\n",
       "      <th>name</th>\n",
       "      <th>iopath</th>\n",
       "      <th>score</th>\n",
       "      <th>start</th>\n",
       "      <th>min</th>\n",
       "      <th>max</th>\n",
       "      <th>mean</th>\n",
       "      <th>median</th>\n",
       "      <th>std</th>\n",
       "      <th>warning_threshold</th>\n",
       "      <th>alert_threshold</th>\n",
       "      <th>status</th>\n",
       "    </tr>\n",
       "  </thead>\n",
       "  <tbody>\n",
       "    <tr>\n",
       "      <th>0</th>\n",
       "      <td>None</td>\n",
       "      <td></td>\n",
       "      <td>output avg_conf 0</td>\n",
       "      <td>0.000000</td>\n",
       "      <td>2023-09-18T14:10:55.733749+00:00</td>\n",
       "      <td>0.36096</td>\n",
       "      <td>0.999814</td>\n",
       "      <td>0.596754</td>\n",
       "      <td>0.435823</td>\n",
       "      <td>0.283190</td>\n",
       "      <td>None</td>\n",
       "      <td>0.1</td>\n",
       "      <td>Ok</td>\n",
       "    </tr>\n",
       "    <tr>\n",
       "      <th>1</th>\n",
       "      <td>None</td>\n",
       "      <td></td>\n",
       "      <td>output avg_conf 0</td>\n",
       "      <td>0.000000</td>\n",
       "      <td>2023-09-18T14:12:55.733749+00:00</td>\n",
       "      <td>0.36096</td>\n",
       "      <td>0.999814</td>\n",
       "      <td>0.596754</td>\n",
       "      <td>0.435823</td>\n",
       "      <td>0.283190</td>\n",
       "      <td>None</td>\n",
       "      <td>0.1</td>\n",
       "      <td>Ok</td>\n",
       "    </tr>\n",
       "    <tr>\n",
       "      <th>2</th>\n",
       "      <td>None</td>\n",
       "      <td></td>\n",
       "      <td>output avg_conf 0</td>\n",
       "      <td>0.000000</td>\n",
       "      <td>2023-09-18T14:13:55.733749+00:00</td>\n",
       "      <td>0.36096</td>\n",
       "      <td>0.999814</td>\n",
       "      <td>0.596754</td>\n",
       "      <td>0.435823</td>\n",
       "      <td>0.283190</td>\n",
       "      <td>None</td>\n",
       "      <td>0.1</td>\n",
       "      <td>Ok</td>\n",
       "    </tr>\n",
       "    <tr>\n",
       "      <th>3</th>\n",
       "      <td>None</td>\n",
       "      <td></td>\n",
       "      <td>output avg_conf 0</td>\n",
       "      <td>8.405873</td>\n",
       "      <td>2023-09-18T14:15:55.733749+00:00</td>\n",
       "      <td>0.10393</td>\n",
       "      <td>0.992071</td>\n",
       "      <td>0.250028</td>\n",
       "      <td>0.154915</td>\n",
       "      <td>0.267646</td>\n",
       "      <td>None</td>\n",
       "      <td>0.1</td>\n",
       "      <td>Alert</td>\n",
       "    </tr>\n",
       "  </tbody>\n",
       "</table>\n",
       "</div>"
      ],
      "text/plain": [
       "  assay_id name             iopath     score  \\\n",
       "0     None       output avg_conf 0  0.000000   \n",
       "1     None       output avg_conf 0  0.000000   \n",
       "2     None       output avg_conf 0  0.000000   \n",
       "3     None       output avg_conf 0  8.405873   \n",
       "\n",
       "                              start      min       max      mean    median  \\\n",
       "0  2023-09-18T14:10:55.733749+00:00  0.36096  0.999814  0.596754  0.435823   \n",
       "1  2023-09-18T14:12:55.733749+00:00  0.36096  0.999814  0.596754  0.435823   \n",
       "2  2023-09-18T14:13:55.733749+00:00  0.36096  0.999814  0.596754  0.435823   \n",
       "3  2023-09-18T14:15:55.733749+00:00  0.10393  0.992071  0.250028  0.154915   \n",
       "\n",
       "        std warning_threshold  alert_threshold status  \n",
       "0  0.283190              None              0.1     Ok  \n",
       "1  0.283190              None              0.1     Ok  \n",
       "2  0.283190              None              0.1     Ok  \n",
       "3  0.267646              None              0.1  Alert  "
      ]
     },
     "execution_count": 29,
     "metadata": {},
     "output_type": "execute_result"
    }
   ],
   "source": [
    "df"
   ]
  },
  {
   "cell_type": "markdown",
   "id": "7ac0b634-2824-4ae3-a5cf-a15c548a7af2",
   "metadata": {},
   "source": [
    "## Schedule an Assay for Ongoing Data\n",
    "\n",
    "(We won't be doing an exercise here, this is for future reference).\n",
    "\n",
    "Once you are satisfied with the parameters you have set, you can schedule an assay to run regularly .\n",
    "\n",
    "```python\n",
    "# create a fresh assay builder with the correct parameters\n",
    "assay_builder = ( wl.build_assay(assay_name, pipeline, model_name, \n",
    "                     baseline_start, baseline_end)\n",
    "                    .add_iopath(\"output variable 0\") )\n",
    "\n",
    "# this assay runs every 24 hours on a 24 hour window\n",
    "assay_builder.window_builder().add_width(hours=24)\n",
    "assay_builder.add_alert_threshold(0.1)\n",
    "\n",
    "# now schedule the assay\n",
    "assay_id = assay_builder.upload()\n",
    "```\n",
    "\n",
    "You can use the assay id later to get the assay results."
   ]
  },
  {
   "cell_type": "code",
   "execution_count": 30,
   "id": "aaf4dd4c",
   "metadata": {},
   "outputs": [],
   "source": [
    "assay_id = assay_builder.upload()"
   ]
  },
  {
   "cell_type": "markdown",
   "id": "c643514e",
   "metadata": {},
   "source": [
    "## Cleaning up.\n",
    "\n",
    "Now that the workshop is complete, don't forget to undeploy your pipeline to free up the resources.\n"
   ]
  },
  {
   "cell_type": "code",
   "execution_count": null,
   "id": "371b9334",
   "metadata": {},
   "outputs": [],
   "source": [
    "# blank space to undeploy your pipeline\n",
    "\n",
    "pipeline.undeploy()\n"
   ]
  },
  {
   "cell_type": "markdown",
   "id": "d6179b95-b0bc-4057-80ee-aa8d543f40ac",
   "metadata": {},
   "source": [
    "You have now walked through setting up a basic assay and running it over historical data.\n",
    "\n",
    "## Congratulations!\n",
    "\n",
    "In this workshop you have\n",
    "* Deployed a single step house price prediction pipeline and sent data to it.\n",
    "* Compared two house price prediction models in an A/B test\n",
    "* Compared two house price prediction models in a shadow deployment.\n",
    "* Swapped the \"winner\" of the comparisons into the house price prediction pipeline.\n",
    "* Set validation rules on the pipeline.\n",
    "* Set up an assay on the pipeline to monitor for drift in its predictions.\n",
    "\n",
    "Great job!"
   ]
  }
 ],
 "metadata": {
  "kernelspec": {
   "display_name": "Python 3 (ipykernel)",
   "language": "python",
   "name": "python3"
  },
  "language_info": {
   "codemirror_mode": {
    "name": "ipython",
    "version": 3
   },
   "file_extension": ".py",
   "mimetype": "text/x-python",
   "name": "python",
   "nbconvert_exporter": "python",
   "pygments_lexer": "ipython3",
   "version": "3.8.17"
  }
 },
 "nbformat": 4,
 "nbformat_minor": 5
}
