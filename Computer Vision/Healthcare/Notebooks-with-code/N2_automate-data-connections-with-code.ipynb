{
 "cells": [
  {
   "attachments": {},
   "cell_type": "markdown",
   "metadata": {},
   "source": [
    "Wallaroo Connections are definitions set by MLOps engineers that are used by other Wallaroo users for connection information to a data source.\n",
    "\n",
    "This provides MLOps engineers a method of creating and updating connection information for data stores:  databases, Kafka topics, etc.  Wallaroo Connections are composed of three main parts:\n",
    "\n",
    "* Name:  The unique name of the connection.\n",
    "* Type:  A user defined string that designates the type of connection.  This is used to organize connections.\n",
    "* Details:  Details are a JSON object containing the information needed to make the connection.  This can include data sources, authentication tokens, etc.\n",
    "\n",
    "Wallaroo Connections are only used to store the connection information used by other processes to create and use external connections.  The user still has to provide the libraries and other elements to actually make and use the conneciton.\n",
    "\n",
    "The primary advantage is Wallaroo connections allow scripts and other code to retrieve the connection details directly from their Wallaroo instance, then refer to those connection details.  They don't need to know what those details actually - they can refer to them in their code to make their code more flexible.\n",
    "\n",
    "For this step, we will use a Google BigQuery dataset to retrieve the inference information, predict the next month of sales, then store those predictions into another table.  This will use the Wallaroo Connection feature to create a Connection, assign it to our workspace, then perform our inferences by using the Connection details to connect to the BigQuery dataset and tables.\n",
    "\n",
    "## Prerequisites\n",
    "\n",
    "* A Wallaroo instance version 2023.2.1 or greater.\n",
    "\n",
    "## References\n",
    "\n",
    "* [Wallaroo SDK Essentials Guide: Model Uploads and Registrations: Python Models](https://docs.wallaroo.ai/wallaroo-developer-guides/wallaroo-sdk-guides/wallaroo-sdk-essentials-guide/wallaroo-sdk-model-uploads/wallaroo-sdk-model-upload-python/)\n",
    "* [Wallaroo SDK Essentials Guide: Pipeline Management](https://docs.wallaroo.ai/wallaroo-developer-guides/wallaroo-sdk-guides/wallaroo-sdk-essentials-guide/wallaroo-sdk-essentials-pipelines/wallaroo-sdk-essentials-pipeline/)\n",
    "* [Wallaroo SDK Essentials Guide: Data Connections Management](https://docs.wallaroo.ai/wallaroo-developer-guides/wallaroo-sdk-guides/wallaroo-sdk-essentials-guide/wallaroo-sdk-essentials-dataconnections/)"
   ]
  },
  {
   "attachments": {},
   "cell_type": "markdown",
   "metadata": {},
   "source": [
    "## Preliminaries\n",
    "\n",
    "In the blocks below we will preload some required libraries.\n",
    "\n",
    "For convenience, the following `helper functions` are defined to retrieve previously created workspaces, models, and pipelines:\n",
    "\n",
    "* `get_workspace(name, client)`: This takes in the name and the Wallaroo client being used in this session, and returns the workspace matching `name`.  If no workspaces are found matching the name, raises a `KeyError` and returns `None`.\n",
    "* `get_model_version(model_name, workspace)`: Retrieves the most recent model version from the model matching the `model_name` within the provided `workspace`.  If no model matches that name, raises a `KeyError` and returns `None`.\n",
    "* `get_pipeline(pipeline_name, workspace)`: Retrieves the most pipeline from the workspace matching the `pipeline_name` within the provided `workspace`.  If no model matches that name, raises a `KeyError` and returns `None`."
   ]
  },
  {
   "cell_type": "code",
   "execution_count": 4,
   "metadata": {},
   "outputs": [],
   "source": [
    "import json\n",
    "import os\n",
    "import datetime\n",
    "\n",
    "import wallaroo\n",
    "from wallaroo.object import EntityNotFoundError\n",
    "from wallaroo.framework import Framework\n",
    "\n",
    "# used to display dataframe information without truncating\n",
    "from IPython.display import display\n",
    "import pandas as pd\n",
    "import numpy as np\n",
    "\n",
    "pd.set_option('display.max_colwidth', None)\n",
    "\n",
    "import time\n",
    "import pyarrow as pa"
   ]
  },
  {
   "attachments": {},
   "cell_type": "markdown",
   "metadata": {},
   "source": [
    "### Connect to the Wallaroo Instance\n",
    "\n",
    "The first step is to connect to Wallaroo through the Wallaroo client.  The Python library is included in the Wallaroo install and available through the Jupyter Hub interface provided with your Wallaroo environment.\n",
    "\n",
    "This is accomplished using the `wallaroo.Client()` command, which provides a URL to grant the SDK permission to your specific Wallaroo environment.  When displayed, enter the URL into a browser and confirm permissions.  Store the connection into a variable that can be referenced later.\n",
    "\n",
    "If logging into the Wallaroo instance through the internal JupyterHub service, use `wl = wallaroo.Client()`.  For more information on Wallaroo Client settings, see the [Client Connection guide](https://docs.wallaroo.ai/wallaroo-developer-guides/wallaroo-sdk-guides/wallaroo-sdk-essentials-guide/wallaroo-sdk-essentials-client/)."
   ]
  },
  {
   "cell_type": "code",
   "execution_count": 5,
   "metadata": {},
   "outputs": [],
   "source": [
    "## blank space to log in \n",
    "\n",
    "wl = wallaroo.Client()"
   ]
  },
  {
   "attachments": {},
   "cell_type": "markdown",
   "metadata": {},
   "source": [
    "### Set Configurations\n",
    "\n",
    "Set the workspace, pipeline, and model used from Notebook 1.  The helper functions will make this task easier.\n",
    "\n",
    "#### Set Configurations References\n",
    "\n",
    "* [Wallaroo SDK Essentials Guide: Workspace Management](https://docs.wallaroo.ai/wallaroo-developer-guides/wallaroo-sdk-guides/wallaroo-sdk-essentials-guide/wallaroo-sdk-essentials-workspace/)\n",
    "* [Wallaroo SDK Essentials Guide: Pipeline Management](https://docs.wallaroo.ai/wallaroo-developer-guides/wallaroo-sdk-guides/wallaroo-sdk-essentials-guide/wallaroo-sdk-essentials-pipelines/wallaroo-sdk-essentials-pipeline/)"
   ]
  },
  {
   "cell_type": "code",
   "execution_count": 6,
   "metadata": {},
   "outputs": [
    {
     "data": {
      "text/plain": [
       "{'name': 'workshop-workspace-john-cv-medical', 'id': 13, 'archived': False, 'created_by': '94016008-4e0e-45bc-b2c6-d6f06236b4f5', 'created_at': '2024-09-09T20:02:53.034248+00:00', 'models': [{'name': 'mitochondria-detector', 'versions': 2, 'owner_id': '\"\"', 'last_update_time': datetime.datetime(2024, 9, 9, 20, 9, 12, 218005, tzinfo=tzutc()), 'created_at': datetime.datetime(2024, 9, 9, 20, 3, 2, 11655, tzinfo=tzutc())}], 'pipelines': [{'name': 'mitochondria-detector', 'create_time': datetime.datetime(2024, 9, 9, 20, 3, 3, 291597, tzinfo=tzutc()), 'definition': '[]'}]}"
      ]
     },
     "metadata": {},
     "output_type": "display_data"
    },
    {
     "data": {
      "text/html": [
       "<table>\n",
       "        <tr>\n",
       "          <td>Name</td>\n",
       "          <td>mitochondria-detector</td>\n",
       "        </tr>\n",
       "        <tr>\n",
       "          <td>Version</td>\n",
       "          <td>abbebc1d-e75f-4cfd-b170-b30f89726f5c</td>\n",
       "        </tr>\n",
       "        <tr>\n",
       "          <td>File Name</td>\n",
       "          <td>mitochondria_epochs_15.onnx</td>\n",
       "        </tr>\n",
       "        <tr>\n",
       "          <td>SHA</td>\n",
       "          <td>e80fcdaf563a183b0c32c027dcb3890a64e1764d6d7dcd29524cd270dd42e7bd</td>\n",
       "        </tr>\n",
       "        <tr>\n",
       "          <td>Status</td>\n",
       "          <td>ready</td>\n",
       "        </tr>\n",
       "        <tr>\n",
       "          <td>Image Path</td>\n",
       "          <td>None</td>\n",
       "        </tr>\n",
       "        <tr>\n",
       "          <td>Architecture</td>\n",
       "          <td>x86</td>\n",
       "        </tr>\n",
       "        <tr>\n",
       "          <td>Acceleration</td>\n",
       "          <td>none</td>\n",
       "        </tr>\n",
       "        <tr>\n",
       "          <td>Updated At</td>\n",
       "          <td>2024-09-Sep 20:09:12</td>\n",
       "        </tr>\n",
       "        <tr>\n",
       "          <td>Workspace id</td>\n",
       "          <td>13</td>\n",
       "        </tr>\n",
       "        <tr>\n",
       "          <td>Workspace name</td>\n",
       "          <td>workshop-workspace-john-cv-medical</td>\n",
       "        </tr>\n",
       "      </table>"
      ],
      "text/plain": [
       "{'name': 'mitochondria-detector', 'version': 'abbebc1d-e75f-4cfd-b170-b30f89726f5c', 'file_name': 'mitochondria_epochs_15.onnx', 'image_path': None, 'arch': 'x86', 'accel': 'none', 'last_update_time': datetime.datetime(2024, 9, 9, 20, 9, 12, 218005, tzinfo=tzutc())}"
      ]
     },
     "metadata": {},
     "output_type": "display_data"
    },
    {
     "data": {
      "text/html": [
       "<table><tr><th>name</th> <td>mitochondria-detector</td></tr><tr><th>created</th> <td>2024-09-09 20:03:03.291597+00:00</td></tr><tr><th>last_updated</th> <td>2024-09-09 20:10:48.074250+00:00</td></tr><tr><th>deployed</th> <td>False</td></tr><tr><th>workspace_id</th> <td>13</td></tr><tr><th>workspace_name</th> <td>workshop-workspace-john-cv-medical</td></tr><tr><th>arch</th> <td>x86</td></tr><tr><th>accel</th> <td>none</td></tr><tr><th>tags</th> <td></td></tr><tr><th>versions</th> <td>1f18fb4c-ced7-43b3-9fd4-3c54f11bda6c, 1ed8f823-74ea-47a9-9c0f-6889d12a4b23, 13c08870-a438-412f-91ae-5c66520dff25, 00e4e8d0-7a34-4baf-8f08-3ff347f1ae69</td></tr><tr><th>steps</th> <td>mitochondria-detector</td></tr><tr><th>published</th> <td>False</td></tr></table>"
      ],
      "text/plain": [
       "{'name': 'mitochondria-detector', 'create_time': datetime.datetime(2024, 9, 9, 20, 3, 3, 291597, tzinfo=tzutc()), 'definition': '[]'}"
      ]
     },
     "metadata": {},
     "output_type": "display_data"
    }
   ],
   "source": [
    "# retrieve the previous workspace, model, and pipeline version\n",
    "\n",
    "workspace_name = \"workshop-workspace-john-cv-medical\"\n",
    "\n",
    "workspace = wl.get_workspace(workspace_name)\n",
    "\n",
    "# set your current workspace to the workspace that you just created\n",
    "wl.set_current_workspace(workspace)\n",
    "\n",
    "# optionally, examine your current workspace\n",
    "wl.get_current_workspace()\n",
    "\n",
    "model_name = 'mitochondria-detector'\n",
    "\n",
    "prime_model_version = wl.get_model(model_name)\n",
    "\n",
    "pipeline_name = 'mitochondria-detector'\n",
    "\n",
    "pipeline = wl.get_pipeline(pipeline_name)\n",
    "\n",
    "display(workspace)\n",
    "display(prime_model_version)\n",
    "display(pipeline)\n"
   ]
  },
  {
   "cell_type": "markdown",
   "metadata": {},
   "source": [
    "## Deploy the Pipeline with the Model Version Step\n",
    "\n",
    "As per the other workshops:\n",
    "\n",
    "1. Clear the pipeline of all steps.\n",
    "1. Add the model version as a pipeline step.\n",
    "1. Deploy the pipeline with the following deployment configuration:\n",
    "\n",
    "```python\n",
    "deploy_config = wallaroo.DeploymentConfigBuilder().replica_count(1).cpus(0.5).memory(\"1Gi\").build()\n",
    "```"
   ]
  },
  {
   "cell_type": "code",
   "execution_count": 7,
   "metadata": {},
   "outputs": [
    {
     "data": {
      "text/html": [
       "<table><tr><th>name</th> <td>mitochondria-detector</td></tr><tr><th>created</th> <td>2024-09-09 20:03:03.291597+00:00</td></tr><tr><th>last_updated</th> <td>2024-09-09 20:20:50.028370+00:00</td></tr><tr><th>deployed</th> <td>True</td></tr><tr><th>workspace_id</th> <td>13</td></tr><tr><th>workspace_name</th> <td>workshop-workspace-john-cv-medical</td></tr><tr><th>arch</th> <td>x86</td></tr><tr><th>accel</th> <td>none</td></tr><tr><th>tags</th> <td></td></tr><tr><th>versions</th> <td>017357e5-4f99-400f-9703-95451ad92bc0, 1f18fb4c-ced7-43b3-9fd4-3c54f11bda6c, 1ed8f823-74ea-47a9-9c0f-6889d12a4b23, 13c08870-a438-412f-91ae-5c66520dff25, 00e4e8d0-7a34-4baf-8f08-3ff347f1ae69</td></tr><tr><th>steps</th> <td>mitochondria-detector</td></tr><tr><th>published</th> <td>False</td></tr></table>"
      ],
      "text/plain": [
       "{'name': 'mitochondria-detector', 'create_time': datetime.datetime(2024, 9, 9, 20, 3, 3, 291597, tzinfo=tzutc()), 'definition': \"[{'ModelInference': {'models': [{'name': 'mitochondria-detector', 'version': 'abbebc1d-e75f-4cfd-b170-b30f89726f5c', 'sha': 'e80fcdaf563a183b0c32c027dcb3890a64e1764d6d7dcd29524cd270dd42e7bd'}]}}]\"}"
      ]
     },
     "execution_count": 7,
     "metadata": {},
     "output_type": "execute_result"
    }
   ],
   "source": [
    "pipeline.clear()\n",
    "pipeline.add_model_step(prime_model_version)\n",
    "\n",
    "deploy_config = wallaroo.DeploymentConfigBuilder().replica_count(1).cpus(0.5).memory(\"1Gi\").build()\n",
    "pipeline.deploy(deployment_config=deploy_config)"
   ]
  },
  {
   "attachments": {},
   "cell_type": "markdown",
   "metadata": {},
   "source": [
    "## Create the Connection\n",
    "\n",
    "For this demonstration, the connection set to a specific file on a GitHub repository.  The connection details can be anything that can be stored in JSON:  connection URLs, tokens, etc.\n",
    "\n",
    "This connection will set a URL to pull a file from GitHub, then use the file contents to perform an inference.\n",
    "\n",
    "Wallaroo connections are created through the Wallaroo Client `create_connection(name, type, details)` method.  See the [Wallaroo SDK Essentials Guide: Data Connections Management guide](https://docs.wallaroo.ai/wallaroo-developer-guides/wallaroo-sdk-guides/wallaroo-sdk-essentials-guide/wallaroo-sdk-essentials-dataconnections/) for full details.\n",
    "\n",
    "Note that connection names must be unique across the Wallaroo instance - if needed, use random characters at the end to make sure your connection doesn't have the same name as a previously created connection.\n",
    "\n",
    "Here's an example connection used to retrieve the same CSV file used in `./data/test_data.df.json`:  https://raw.githubusercontent.com/WallarooLabs/Workshops/main/Linear%20Regression/Real%20Estate/data/test_data.df.json\n",
    "\n",
    "### Create the Connection Exercise\n",
    "\n",
    "```python\n",
    "# set the connection information for other steps\n",
    "# suffix is used to create a unique data connection\n",
    "\n",
    "forecast_connection_input_name = f'house-price-data'\n",
    "forecast_connection_input_type = \"HTTP\"\n",
    "forecast_connection_input_argument = { \n",
    "    \"url\": \"https://raw.githubusercontent.com/WallarooLabs/Workshops/main/Linear%20Regression/Real%20Estate/data/test_data.df.json\"\n",
    "    }\n",
    "\n",
    "\n",
    "wl.create_connection(forecast_connection_input_name, forecast_connection_input_type, forecast_connection_input_argument)\n",
    "```"
   ]
  },
  {
   "cell_type": "code",
   "execution_count": 8,
   "metadata": {},
   "outputs": [
    {
     "data": {
      "text/html": [
       "\n",
       "        <table>\n",
       "          <tr>\n",
       "            <th>Field</th>\n",
       "            <th>Value</th>\n",
       "          </tr>\n",
       "          <tr>\n",
       "            <td>Name</td><td>house-price-data-source-medical-jch</td>\n",
       "          </tr>\n",
       "          <tr>\n",
       "            <td>Connection Type</td><td>HTTP</td>\n",
       "          </tr>\n",
       "          <tr>\n",
       "            <td>Details</td><td>*****</td>\n",
       "          </tr>\n",
       "          <tr>\n",
       "            <td>Created At</td><td>2024-09-09T20:21:06.042107+00:00</td>\n",
       "          </tr>\n",
       "          <tr>\n",
       "            <td>Linked Workspaces</td><td>[]</td>\n",
       "          </tr>\n",
       "        </table>\n",
       "        "
      ],
      "text/plain": [
       "<wallaroo.connection.Connection at 0x150ad0a30>"
      ]
     },
     "execution_count": 8,
     "metadata": {},
     "output_type": "execute_result"
    }
   ],
   "source": [
    "# set the connection information for other steps\n",
    "# suffix is used to create a unique data connection\n",
    "\n",
    "medical_imaging_connection_input_name = f'house-price-data-source-medical-jch'\n",
    "medical_imaging_input_type = \"HTTP\"\n",
    "medical_imaging_input_argument = { \n",
    "    \"url\": \"https://raw.githubusercontent.com/WallarooLabs/Workshops/20230927-foundations-v2/Computer%20Vision/Healthcare/data/image_0_21.tif.df.json\"\n",
    "    }\n",
    "\n",
    "\n",
    "wl.create_connection(medical_imaging_connection_input_name, medical_imaging_input_type, medical_imaging_input_argument)"
   ]
  },
  {
   "cell_type": "markdown",
   "metadata": {},
   "source": [
    "## List Connections\n",
    "\n",
    "Connections for the entire Wallaroo instance are listed with Wallaroo Client `list_connections()` method.\n",
    "\n",
    "## List Connections Exercise\n",
    "\n",
    "Here's an example of listing the connections when the Wallaroo client is `wl`.\n",
    "\n",
    "```python\n",
    "wl.list_connections()\n",
    "```"
   ]
  },
  {
   "cell_type": "code",
   "execution_count": 9,
   "metadata": {},
   "outputs": [
    {
     "data": {
      "text/html": [
       "<table><tr><th>name</th><th>connection type</th><th>details</th><th>created at</th><th>linked workspaces</th></tr><tr><td>ccfraud-test-data</td><td>HTTP</td><td>*****</td><td>2024-09-09T18:40:39.478062+00:00</td><td>['workshop-finserv-john']</td></tr><tr><td>house-price-data-source-medical-jch</td><td>HTTP</td><td>*****</td><td>2024-09-09T20:21:06.042107+00:00</td><td>[]</td></tr></table>"
      ],
      "text/plain": [
       "[<wallaroo.connection.Connection at 0x157639b80>,\n",
       " <wallaroo.connection.Connection at 0x1569f7940>]"
      ]
     },
     "execution_count": 9,
     "metadata": {},
     "output_type": "execute_result"
    }
   ],
   "source": [
    "# list the connections here\n",
    "\n",
    "wl.list_connections()"
   ]
  },
  {
   "cell_type": "markdown",
   "metadata": {},
   "source": [
    "## Get Connection by Name\n",
    "\n",
    "To retrieve a previosly created conneciton, we can assign it to a variable with the method Wallaroo `Client.get_connection(connection_name)`.  Then we can display the connection itself.  Notice that when displaying a connection, the `details` section will be hidden, but they are retrieved with `connection.details()`.  Here's an example:\n",
    "\n",
    "```python\n",
    "myconnection = client.get_connection(\"My amazing connection\")\n",
    "display(myconnection)\n",
    "display(myconnection.details()\n",
    "```\n",
    "\n",
    "Use that code to retrieve your new connection.\n",
    "\n",
    "### Get Connection by Name Example\n",
    "\n",
    "Here's an example based on the Wallaroo client saved as `wl`.\n",
    "\n",
    "```python\n",
    "wl.get_connection(forecast_connection_input_name)\n",
    "```"
   ]
  },
  {
   "cell_type": "code",
   "execution_count": 10,
   "metadata": {},
   "outputs": [
    {
     "data": {
      "text/html": [
       "\n",
       "        <table>\n",
       "          <tr>\n",
       "            <th>Field</th>\n",
       "            <th>Value</th>\n",
       "          </tr>\n",
       "          <tr>\n",
       "            <td>Name</td><td>house-price-data-source-medical-jch</td>\n",
       "          </tr>\n",
       "          <tr>\n",
       "            <td>Connection Type</td><td>HTTP</td>\n",
       "          </tr>\n",
       "          <tr>\n",
       "            <td>Details</td><td>*****</td>\n",
       "          </tr>\n",
       "          <tr>\n",
       "            <td>Created At</td><td>2024-09-09T20:21:06.042107+00:00</td>\n",
       "          </tr>\n",
       "          <tr>\n",
       "            <td>Linked Workspaces</td><td>[]</td>\n",
       "          </tr>\n",
       "        </table>\n",
       "        "
      ],
      "text/plain": [
       "<wallaroo.connection.Connection at 0x1569f7c70>"
      ]
     },
     "execution_count": 10,
     "metadata": {},
     "output_type": "execute_result"
    }
   ],
   "source": [
    "# get the connection by name\n",
    "\n",
    "this_connection = wl.get_connection(medical_imaging_connection_input_name)\n",
    "this_connection"
   ]
  },
  {
   "attachments": {},
   "cell_type": "markdown",
   "metadata": {},
   "source": [
    "## Add Connection to Workspace\n",
    "\n",
    "We'll now add the connection to our workspace so it can be retrieved by other workspace users.  The method Workspace `add_connection(connection_name)` adds a Data Connection to a workspace.  The method Workspace `list_connections()` displays a list of connections attached to the workspace.\n",
    "\n",
    "### Add Connection to Workspace Exercise\n",
    "\n",
    "Use the connection we just created, and add it to the sample workspace.  Here's a code example where the workspace is saved to the variable `workspace` and the connection is saved as `forecast_connection_input_name`.\n",
    "\n",
    "```python\n",
    "workspace.add_connection(forecast_connection_input_name)\n",
    "```"
   ]
  },
  {
   "cell_type": "code",
   "execution_count": 11,
   "metadata": {},
   "outputs": [
    {
     "data": {
      "text/html": [
       "<table><tr><th>name</th><th>connection type</th><th>details</th><th>created at</th><th>linked workspaces</th></tr><tr><td>house-price-data-source-medical-jch</td><td>HTTP</td><td>*****</td><td>2024-09-09T20:21:06.042107+00:00</td><td>['workshop-workspace-john-cv-medical']</td></tr></table>"
      ],
      "text/plain": [
       "[<wallaroo.connection.Connection at 0x157676610>]"
      ]
     },
     "execution_count": 11,
     "metadata": {},
     "output_type": "execute_result"
    }
   ],
   "source": [
    "workspace.add_connection(medical_imaging_connection_input_name)\n",
    "workspace.list_connections()"
   ]
  },
  {
   "attachments": {},
   "cell_type": "markdown",
   "metadata": {},
   "source": [
    "## Retrieve Connection from Workspace\n",
    "\n",
    "To simulate a data scientist's procedural flow, we'll now retrieve the connection from the workspace.  Specific connections are retrieved by specifying their position in the returned list.\n",
    "\n",
    "For example, if we have two connections in a workspace and we want the second one, we can assign it to a variable with `list_connections[1]`.\n",
    "\n",
    "Create a new variable and retrieve the connection we just assigned to the workspace.\n",
    "\n",
    "### Retrieve Connection from Workspace Exercise\n",
    "\n",
    "Retrieve the connection that was just associated with the workspace.  You'll use the `list_connections` method, then assign a variable to the connection.  Here's an example if the connection is the most recently one added to the workspace `workspace`.\n",
    "\n",
    "```python\n",
    "forecast_connection = workspace.list_connections()[-1]\n",
    "```"
   ]
  },
  {
   "cell_type": "code",
   "execution_count": 12,
   "metadata": {},
   "outputs": [
    {
     "data": {
      "text/html": [
       "\n",
       "        <table>\n",
       "          <tr>\n",
       "            <th>Field</th>\n",
       "            <th>Value</th>\n",
       "          </tr>\n",
       "          <tr>\n",
       "            <td>Name</td><td>house-price-data-source-medical-jch</td>\n",
       "          </tr>\n",
       "          <tr>\n",
       "            <td>Connection Type</td><td>HTTP</td>\n",
       "          </tr>\n",
       "          <tr>\n",
       "            <td>Details</td><td>*****</td>\n",
       "          </tr>\n",
       "          <tr>\n",
       "            <td>Created At</td><td>2024-09-09T20:21:06.042107+00:00</td>\n",
       "          </tr>\n",
       "          <tr>\n",
       "            <td>Linked Workspaces</td><td>['workshop-workspace-john-cv-medical']</td>\n",
       "          </tr>\n",
       "        </table>\n",
       "        "
      ],
      "text/plain": [
       "<wallaroo.connection.Connection at 0x157630d60>"
      ]
     },
     "metadata": {},
     "output_type": "display_data"
    }
   ],
   "source": [
    "medical_connection = workspace.list_connections()[-1]\n",
    "display(medical_connection)"
   ]
  },
  {
   "attachments": {},
   "cell_type": "markdown",
   "metadata": {},
   "source": [
    "## Run Inference with Connection\n",
    "\n",
    "Connections can be used for different purposes:  uploading new models, engine configurations - any place that data is needed.  This exercise will use the data connection to perform an inference through our deployed pipeline.\n",
    "\n",
    "### Run Inference with Connection Exercise\n",
    "\n",
    "We'll now retrieve sample data through the Wallaroo connection, and perform a sample inference.  The connection details are retrieved through the Connection `details()` method.  Use them to retrieve the pandas record file and convert it to a DataFrame, and use it with our sample model.\n",
    "\n",
    "Here's a code example that uses the Python `requests` library to retrieve the file information, then turns it into a DataFrame for the inference request.\n",
    "\n",
    "```python\n",
    "display(forecast_connection.details()['url'])\n",
    "\n",
    "import requests\n",
    "\n",
    "response = requests.get(\n",
    "                    forecast_connection.details()['url']\n",
    "                )\n",
    "\n",
    "# display(response.json())\n",
    "\n",
    "df = pd.DataFrame(response.json())\n",
    "\n",
    "pipeline.infer(df)\n",
    "```"
   ]
  },
  {
   "cell_type": "code",
   "execution_count": 13,
   "metadata": {},
   "outputs": [
    {
     "data": {
      "text/plain": [
       "'https://raw.githubusercontent.com/WallarooLabs/Workshops/20230927-foundations-v2/Computer%20Vision/Healthcare/data/image_0_21.tif.df.json'"
      ]
     },
     "metadata": {},
     "output_type": "display_data"
    },
    {
     "data": {
      "text/html": [
       "<div>\n",
       "<style scoped>\n",
       "    .dataframe tbody tr th:only-of-type {\n",
       "        vertical-align: middle;\n",
       "    }\n",
       "\n",
       "    .dataframe tbody tr th {\n",
       "        vertical-align: top;\n",
       "    }\n",
       "\n",
       "    .dataframe thead th {\n",
       "        text-align: right;\n",
       "    }\n",
       "</style>\n",
       "<table border=\"1\" class=\"dataframe\">\n",
       "  <thead>\n",
       "    <tr style=\"text-align: right;\">\n",
       "      <th></th>\n",
       "      <th>tensor</th>\n",
       "    </tr>\n",
       "  </thead>\n",
       "  <tbody>\n",
       "    <tr>\n",
       "      <th>0</th>\n",
       "      <td>[0.0572924651, 0.0555159546, 0.0621778691, 0.053739444, 0.04885404, 0.053739444, 0.0541835717, 0.0381949768, 0.0448568913, 0.0413038702, 0.0444127637, 0.0492981677, 0.0497422953, 0.0426362531, 0.0515188059, 0.0479657848, 0.0404156149, 0.039083232, 0.0470775295, 0.0413038702, 0.0461892742, 0.039083232, 0.0448568913, 0.0519629335, 0.0484099124, 0.043968636, 0.0453010189, 0.0448568913, 0.0519629335, 0.0444127637, 0.0484099124, 0.0479657848, 0.0546276993, 0.0461892742, 0.0635102521, 0.0515188059, 0.0612896139, 0.0519629335, 0.0546276993, 0.0666191455, 0.0541835717, 0.0577365928, 0.0568483375, 0.0555159546, 0.04885404, 0.053739444, 0.043968636, 0.0466334019, 0.0421921255, 0.0510746782, 0.0492981677, 0.0457451466, 0.0670632731, 0.0577365928, 0.0595131033, 0.0675074008, 0.0732810601, 0.0661750179, 0.0635102521, 0.0755016982, 0.0803871022, 0.0728369324, 0.0777223364, 0.0848283786, 0.084384251, 0.0866048892, 0.0768340812, 0.0821636128, 0.0803871022, 0.0866048892, 0.0848283786, 0.0777223364, 0.0834959957, 0.0786105917, 0.0799429746, 0.0808312299, 0.0817194852, 0.0839401233, 0.0808312299, 0.0786105917, 0.0777223364, 0.0759458259, 0.0715045495, 0.074613443, 0.064842635, 0.0595131033, 0.0617337415, 0.058624848, 0.059957231, 0.0652867626, 0.0715045495, 0.0675074008, 0.0728369324, 0.0728369324, 0.0732810601, 0.0750575706, 0.0728369324, 0.0723928048, 0.0723928048, 0.0675074008, ...]</td>\n",
       "    </tr>\n",
       "  </tbody>\n",
       "</table>\n",
       "</div>"
      ],
      "text/plain": [
       "                                                                                                                                                                                                                                                                                                                                                                                                                                                                                                                                                                                                                                                                                                                                                                                                                                                                                                                                                                                                                                                                                                                                                                                                                                                                                                                                                                                                                                          tensor\n",
       "0  [0.0572924651, 0.0555159546, 0.0621778691, 0.053739444, 0.04885404, 0.053739444, 0.0541835717, 0.0381949768, 0.0448568913, 0.0413038702, 0.0444127637, 0.0492981677, 0.0497422953, 0.0426362531, 0.0515188059, 0.0479657848, 0.0404156149, 0.039083232, 0.0470775295, 0.0413038702, 0.0461892742, 0.039083232, 0.0448568913, 0.0519629335, 0.0484099124, 0.043968636, 0.0453010189, 0.0448568913, 0.0519629335, 0.0444127637, 0.0484099124, 0.0479657848, 0.0546276993, 0.0461892742, 0.0635102521, 0.0515188059, 0.0612896139, 0.0519629335, 0.0546276993, 0.0666191455, 0.0541835717, 0.0577365928, 0.0568483375, 0.0555159546, 0.04885404, 0.053739444, 0.043968636, 0.0466334019, 0.0421921255, 0.0510746782, 0.0492981677, 0.0457451466, 0.0670632731, 0.0577365928, 0.0595131033, 0.0675074008, 0.0732810601, 0.0661750179, 0.0635102521, 0.0755016982, 0.0803871022, 0.0728369324, 0.0777223364, 0.0848283786, 0.084384251, 0.0866048892, 0.0768340812, 0.0821636128, 0.0803871022, 0.0866048892, 0.0848283786, 0.0777223364, 0.0834959957, 0.0786105917, 0.0799429746, 0.0808312299, 0.0817194852, 0.0839401233, 0.0808312299, 0.0786105917, 0.0777223364, 0.0759458259, 0.0715045495, 0.074613443, 0.064842635, 0.0595131033, 0.0617337415, 0.058624848, 0.059957231, 0.0652867626, 0.0715045495, 0.0675074008, 0.0728369324, 0.0728369324, 0.0732810601, 0.0750575706, 0.0728369324, 0.0723928048, 0.0723928048, 0.0675074008, ...]"
      ]
     },
     "metadata": {},
     "output_type": "display_data"
    },
    {
     "data": {
      "text/html": [
       "<div>\n",
       "<style scoped>\n",
       "    .dataframe tbody tr th:only-of-type {\n",
       "        vertical-align: middle;\n",
       "    }\n",
       "\n",
       "    .dataframe tbody tr th {\n",
       "        vertical-align: top;\n",
       "    }\n",
       "\n",
       "    .dataframe thead th {\n",
       "        text-align: right;\n",
       "    }\n",
       "</style>\n",
       "<table border=\"1\" class=\"dataframe\">\n",
       "  <thead>\n",
       "    <tr style=\"text-align: right;\">\n",
       "      <th></th>\n",
       "      <th>time</th>\n",
       "      <th>in.tensor</th>\n",
       "      <th>out.conv2d_37</th>\n",
       "      <th>anomaly.count</th>\n",
       "    </tr>\n",
       "  </thead>\n",
       "  <tbody>\n",
       "    <tr>\n",
       "      <th>0</th>\n",
       "      <td>2024-09-09 20:21:08.389</td>\n",
       "      <td>[0.0572924651, 0.0555159546, 0.0621778691, 0.053739444, 0.04885404, 0.053739444, 0.0541835717, 0.0381949768, 0.0448568913, 0.0413038702, 0.0444127637, 0.0492981677, 0.0497422953, 0.0426362531, 0.0515188059, 0.0479657848, 0.0404156149, 0.039083232, 0.0470775295, 0.0413038702, 0.0461892742, 0.039083232, 0.0448568913, 0.0519629335, 0.0484099124, 0.043968636, 0.0453010189, 0.0448568913, 0.0519629335, 0.0444127637, 0.0484099124, 0.0479657848, 0.0546276993, 0.0461892742, 0.0635102521, 0.0515188059, 0.0612896139, 0.0519629335, 0.0546276993, 0.0666191455, 0.0541835717, 0.0577365928, 0.0568483375, 0.0555159546, 0.04885404, 0.053739444, 0.043968636, 0.0466334019, 0.0421921255, 0.0510746782, 0.0492981677, 0.0457451466, 0.0670632731, 0.0577365928, 0.0595131033, 0.0675074008, 0.0732810601, 0.0661750179, 0.0635102521, 0.0755016982, 0.0803871022, 0.0728369324, 0.0777223364, 0.0848283786, 0.084384251, 0.0866048892, 0.0768340812, 0.0821636128, 0.0803871022, 0.0866048892, 0.0848283786, 0.0777223364, 0.0834959957, 0.0786105917, 0.0799429746, 0.0808312299, 0.0817194852, 0.0839401233, 0.0808312299, 0.0786105917, 0.0777223364, 0.0759458259, 0.0715045495, 0.074613443, 0.064842635, 0.0595131033, 0.0617337415, 0.058624848, 0.059957231, 0.0652867626, 0.0715045495, 0.0675074008, 0.0728369324, 0.0728369324, 0.0732810601, 0.0750575706, 0.0728369324, 0.0723928048, 0.0723928048, 0.0675074008, ...]</td>\n",
       "      <td>[0.073827654, 0.04537505, 0.022077918, 0.027527362, 0.021322042, 0.022883594, 0.023704201, 0.030836195, 0.042639107, 0.055851042, 0.07217771, 0.081344545, 0.08961019, 0.103625625, 0.12554136, 0.134687, 0.16203281, 0.17829618, 0.21441638, 0.2068676, 0.22815406, 0.22831267, 0.25762022, 0.24422905, 0.25274503, 0.24923214, 0.25063598, 0.2256141, 0.1952897, 0.18262386, 0.13989419, 0.11508167, 0.05944234, 0.045920253, 0.01766473, 0.0116249025, 0.001985699, 0.0013272464, 0.0003760457, 0.0003761351, 5.8710575e-05, 6.005168e-05, 2.2828579e-05, 4.0084124e-05, 1.4811754e-05, 2.2798777e-05, 1.7911196e-05, 3.990531e-05, 3.2246113e-05, 6.181002e-05, 4.014373e-05, 6.827712e-05, 2.8342009e-05, 4.389882e-05, 1.7046928e-05, 2.7179718e-05, 6.2286854e-06, 8.493662e-06, 2.5331974e-06, 5.453825e-06, 1.1920929e-06, 1.8775463e-06, 7.748604e-07, 2.026558e-06, 7.748604e-07, 1.5795231e-06, 7.1525574e-07, 2.2649765e-06, 1.2218952e-06, 2.4437904e-06, 1.4305115e-06, 4.142523e-06, 2.3841858e-06, 5.155802e-06, 3.0696392e-06, 8.046627e-06, 5.185604e-06, 1.1086464e-05, 7.778406e-06, 1.8835068e-05, 1.3649464e-05, 2.8192997e-05, 2.0951033e-05, 5.2273273e-05, 4.3064356e-05, 8.9138746e-05, 6.3210726e-05, 0.00012660027, 6.7323446e-05, 0.00010931492, 5.0485134e-05, 9.301305e-05, 3.734231e-05, 5.8323145e-05, 2.5302172e-05, 4.9233437e-05, 1.874566e-05, 3.0517578e-05, 1.2457371e-05, 2.6792288e-05, ...]</td>\n",
       "      <td>0</td>\n",
       "    </tr>\n",
       "  </tbody>\n",
       "</table>\n",
       "</div>"
      ],
      "text/plain": [
       "                     time  \\\n",
       "0 2024-09-09 20:21:08.389   \n",
       "\n",
       "                                                                                                                                                                                                                                                                                                                                                                                                                                                                                                                                                                                                                                                                                                                                                                                                                                                                                                                                                                                                                                                                                                                                                                                                                                                                                                                                                                                                                                       in.tensor  \\\n",
       "0  [0.0572924651, 0.0555159546, 0.0621778691, 0.053739444, 0.04885404, 0.053739444, 0.0541835717, 0.0381949768, 0.0448568913, 0.0413038702, 0.0444127637, 0.0492981677, 0.0497422953, 0.0426362531, 0.0515188059, 0.0479657848, 0.0404156149, 0.039083232, 0.0470775295, 0.0413038702, 0.0461892742, 0.039083232, 0.0448568913, 0.0519629335, 0.0484099124, 0.043968636, 0.0453010189, 0.0448568913, 0.0519629335, 0.0444127637, 0.0484099124, 0.0479657848, 0.0546276993, 0.0461892742, 0.0635102521, 0.0515188059, 0.0612896139, 0.0519629335, 0.0546276993, 0.0666191455, 0.0541835717, 0.0577365928, 0.0568483375, 0.0555159546, 0.04885404, 0.053739444, 0.043968636, 0.0466334019, 0.0421921255, 0.0510746782, 0.0492981677, 0.0457451466, 0.0670632731, 0.0577365928, 0.0595131033, 0.0675074008, 0.0732810601, 0.0661750179, 0.0635102521, 0.0755016982, 0.0803871022, 0.0728369324, 0.0777223364, 0.0848283786, 0.084384251, 0.0866048892, 0.0768340812, 0.0821636128, 0.0803871022, 0.0866048892, 0.0848283786, 0.0777223364, 0.0834959957, 0.0786105917, 0.0799429746, 0.0808312299, 0.0817194852, 0.0839401233, 0.0808312299, 0.0786105917, 0.0777223364, 0.0759458259, 0.0715045495, 0.074613443, 0.064842635, 0.0595131033, 0.0617337415, 0.058624848, 0.059957231, 0.0652867626, 0.0715045495, 0.0675074008, 0.0728369324, 0.0728369324, 0.0732810601, 0.0750575706, 0.0728369324, 0.0723928048, 0.0723928048, 0.0675074008, ...]   \n",
       "\n",
       "                                                                                                                                                                                                                                                                                                                                                                                                                                                                                                                                                                                                                                                                                                                                                                                                                                                                                                                                                                                                                                                                                                                                                                                                                                                                                                                                                                                                                            out.conv2d_37  \\\n",
       "0  [0.073827654, 0.04537505, 0.022077918, 0.027527362, 0.021322042, 0.022883594, 0.023704201, 0.030836195, 0.042639107, 0.055851042, 0.07217771, 0.081344545, 0.08961019, 0.103625625, 0.12554136, 0.134687, 0.16203281, 0.17829618, 0.21441638, 0.2068676, 0.22815406, 0.22831267, 0.25762022, 0.24422905, 0.25274503, 0.24923214, 0.25063598, 0.2256141, 0.1952897, 0.18262386, 0.13989419, 0.11508167, 0.05944234, 0.045920253, 0.01766473, 0.0116249025, 0.001985699, 0.0013272464, 0.0003760457, 0.0003761351, 5.8710575e-05, 6.005168e-05, 2.2828579e-05, 4.0084124e-05, 1.4811754e-05, 2.2798777e-05, 1.7911196e-05, 3.990531e-05, 3.2246113e-05, 6.181002e-05, 4.014373e-05, 6.827712e-05, 2.8342009e-05, 4.389882e-05, 1.7046928e-05, 2.7179718e-05, 6.2286854e-06, 8.493662e-06, 2.5331974e-06, 5.453825e-06, 1.1920929e-06, 1.8775463e-06, 7.748604e-07, 2.026558e-06, 7.748604e-07, 1.5795231e-06, 7.1525574e-07, 2.2649765e-06, 1.2218952e-06, 2.4437904e-06, 1.4305115e-06, 4.142523e-06, 2.3841858e-06, 5.155802e-06, 3.0696392e-06, 8.046627e-06, 5.185604e-06, 1.1086464e-05, 7.778406e-06, 1.8835068e-05, 1.3649464e-05, 2.8192997e-05, 2.0951033e-05, 5.2273273e-05, 4.3064356e-05, 8.9138746e-05, 6.3210726e-05, 0.00012660027, 6.7323446e-05, 0.00010931492, 5.0485134e-05, 9.301305e-05, 3.734231e-05, 5.8323145e-05, 2.5302172e-05, 4.9233437e-05, 1.874566e-05, 3.0517578e-05, 1.2457371e-05, 2.6792288e-05, ...]   \n",
       "\n",
       "   anomaly.count  \n",
       "0              0  "
      ]
     },
     "metadata": {},
     "output_type": "display_data"
    }
   ],
   "source": [
    "display(medical_connection.details()['url'])\n",
    "\n",
    "import requests\n",
    "\n",
    "response = requests.get(\n",
    "    medical_connection.details()['url']\n",
    ")\n",
    "\n",
    "df = pd.DataFrame(response.json())\n",
    "display(df)\n",
    "\n",
    "result = pipeline.infer(df)\n",
    "display(result)"
   ]
  },
  {
   "cell_type": "markdown",
   "metadata": {},
   "source": [
    "## Cleaning up.\n",
    "\n",
    "Now that the workshop is complete, don't forget to undeploy your pipeline to free up the resources."
   ]
  },
  {
   "cell_type": "code",
   "execution_count": 14,
   "metadata": {},
   "outputs": [
    {
     "data": {
      "text/html": [
       "<table><tr><th>name</th> <td>mitochondria-detector</td></tr><tr><th>created</th> <td>2024-09-09 20:03:03.291597+00:00</td></tr><tr><th>last_updated</th> <td>2024-09-09 20:20:50.028370+00:00</td></tr><tr><th>deployed</th> <td>False</td></tr><tr><th>workspace_id</th> <td>13</td></tr><tr><th>workspace_name</th> <td>workshop-workspace-john-cv-medical</td></tr><tr><th>arch</th> <td>x86</td></tr><tr><th>accel</th> <td>none</td></tr><tr><th>tags</th> <td></td></tr><tr><th>versions</th> <td>017357e5-4f99-400f-9703-95451ad92bc0, 1f18fb4c-ced7-43b3-9fd4-3c54f11bda6c, 1ed8f823-74ea-47a9-9c0f-6889d12a4b23, 13c08870-a438-412f-91ae-5c66520dff25, 00e4e8d0-7a34-4baf-8f08-3ff347f1ae69</td></tr><tr><th>steps</th> <td>mitochondria-detector</td></tr><tr><th>published</th> <td>False</td></tr></table>"
      ],
      "text/plain": [
       "{'name': 'mitochondria-detector', 'create_time': datetime.datetime(2024, 9, 9, 20, 3, 3, 291597, tzinfo=tzutc()), 'definition': \"[{'ModelInference': {'models': [{'name': 'mitochondria-detector', 'version': 'abbebc1d-e75f-4cfd-b170-b30f89726f5c', 'sha': 'e80fcdaf563a183b0c32c027dcb3890a64e1764d6d7dcd29524cd270dd42e7bd'}]}}]\"}"
      ]
     },
     "execution_count": 14,
     "metadata": {},
     "output_type": "execute_result"
    }
   ],
   "source": [
    "pipeline.undeploy()"
   ]
  },
  {
   "attachments": {},
   "cell_type": "markdown",
   "metadata": {},
   "source": [
    "## Congratulations!\n",
    "\n",
    "In this workshop you have:\n",
    "\n",
    "* Deployed a single step house price prediction pipeline and sent data to it.\n",
    "* Create a new Wallaroo connection.\n",
    "* Assigned the connection to a workspace.\n",
    "* Retrieved the connection from the workspace.\n",
    "* Used the data connection to retrieve information from outside of Wallaroo, and use it for an inference.\n",
    "\n",
    "Great job!"
   ]
  }
 ],
 "metadata": {
  "kernelspec": {
   "display_name": "wallaroosdk2024.2",
   "language": "python",
   "name": "python3"
  },
  "language_info": {
   "codemirror_mode": {
    "name": "ipython",
    "version": 3
   },
   "file_extension": ".py",
   "mimetype": "text/x-python",
   "name": "python",
   "nbconvert_exporter": "python",
   "pygments_lexer": "ipython3",
   "version": "3.8.20"
  }
 },
 "nbformat": 4,
 "nbformat_minor": 4
}
