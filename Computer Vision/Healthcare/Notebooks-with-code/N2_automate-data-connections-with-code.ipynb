{
 "cells": [
  {
   "attachments": {},
   "cell_type": "markdown",
   "metadata": {},
   "source": [
    "# Workshop Notebook 5: Automation with Wallaroo Connections\n",
    "\n",
    "Wallaroo Connections are definitions set by MLOps engineers that are used by other Wallaroo users for connection information to a data source.\n",
    "\n",
    "This provides MLOps engineers a method of creating and updating connection information for data stores:  databases, Kafka topics, etc.  Wallaroo Connections are composed of three main parts:\n",
    "\n",
    "* Name:  The unique name of the connection.\n",
    "* Type:  A user defined string that designates the type of connection.  This is used to organize connections.\n",
    "* Details:  Details are a JSON object containing the information needed to make the connection.  This can include data sources, authentication tokens, etc.\n",
    "\n",
    "Wallaroo Connections are only used to store the connection information used by other processes to create and use external connections.  The user still has to provide the libraries and other elements to actually make and use the conneciton.\n",
    "\n",
    "The primary advantage is Wallaroo connections allow scripts and other code to retrieve the connection details directly from their Wallaroo instance, then refer to those connection details.  They don't need to know what those details actually - they can refer to them in their code to make their code more flexible.\n",
    "\n",
    "For this step, we will use a Google BigQuery dataset to retrieve the inference information, predict the next month of sales, then store those predictions into another table.  This will use the Wallaroo Connection feature to create a Connection, assign it to our workspace, then perform our inferences by using the Connection details to connect to the BigQuery dataset and tables.\n",
    "\n",
    "## Prerequisites\n",
    "\n",
    "* A Wallaroo instance version 2023.2.1 or greater.\n",
    "\n",
    "## References\n",
    "\n",
    "* [Wallaroo SDK Essentials Guide: Model Uploads and Registrations: Python Models](https://docs.wallaroo.ai/wallaroo-developer-guides/wallaroo-sdk-guides/wallaroo-sdk-essentials-guide/wallaroo-sdk-model-uploads/wallaroo-sdk-model-upload-python/)\n",
    "* [Wallaroo SDK Essentials Guide: Pipeline Management](https://docs.wallaroo.ai/wallaroo-developer-guides/wallaroo-sdk-guides/wallaroo-sdk-essentials-guide/wallaroo-sdk-essentials-pipelines/wallaroo-sdk-essentials-pipeline/)\n",
    "* [Wallaroo SDK Essentials Guide: Data Connections Management](https://docs.wallaroo.ai/wallaroo-developer-guides/wallaroo-sdk-guides/wallaroo-sdk-essentials-guide/wallaroo-sdk-essentials-dataconnections/)"
   ]
  },
  {
   "attachments": {},
   "cell_type": "markdown",
   "metadata": {},
   "source": [
    "## Preliminaries\n",
    "\n",
    "In the blocks below we will preload some required libraries.\n",
    "\n",
    "For convenience, the following `helper functions` are defined to retrieve previously created workspaces, models, and pipelines:\n",
    "\n",
    "* `get_workspace(name, client)`: This takes in the name and the Wallaroo client being used in this session, and returns the workspace matching `name`.  If no workspaces are found matching the name, raises a `KeyError` and returns `None`.\n",
    "* `get_model_version(model_name, workspace)`: Retrieves the most recent model version from the model matching the `model_name` within the provided `workspace`.  If no model matches that name, raises a `KeyError` and returns `None`.\n",
    "* `get_pipeline(pipeline_name, workspace)`: Retrieves the most pipeline from the workspace matching the `pipeline_name` within the provided `workspace`.  If no model matches that name, raises a `KeyError` and returns `None`."
   ]
  },
  {
   "cell_type": "code",
   "execution_count": 1,
   "metadata": {},
   "outputs": [],
   "source": [
    "import json\n",
    "import os\n",
    "import datetime\n",
    "\n",
    "import wallaroo\n",
    "from wallaroo.object import EntityNotFoundError\n",
    "from wallaroo.framework import Framework\n",
    "\n",
    "# used to display dataframe information without truncating\n",
    "from IPython.display import display\n",
    "import pandas as pd\n",
    "import numpy as np\n",
    "\n",
    "pd.set_option('display.max_colwidth', None)\n",
    "\n",
    "import time\n",
    "import pyarrow as pa"
   ]
  },
  {
   "cell_type": "code",
   "execution_count": 2,
   "metadata": {},
   "outputs": [],
   "source": [
    "## convenience functions from the previous notebooks\n",
    "\n",
    "# return the workspace called <name> through the Wallaroo client.\n",
    "def get_workspace(name, client):\n",
    "    workspace = None\n",
    "    for ws in client.list_workspaces():\n",
    "        if ws.name() == name:\n",
    "            workspace= ws\n",
    "            return workspace\n",
    "    # if no workspaces were found\n",
    "    if workspace==None:\n",
    "        raise KeyError(f\"Workspace {name} was not found.\")\n",
    "    return workspace\n",
    "\n",
    "\n",
    "# returns the most recent model version in a workspace for the matching `model_name`\n",
    "def get_model_version(model_name, workspace):\n",
    "    modellist = workspace.models()\n",
    "    model_version = [m.versions()[-1] for m in modellist if m.name() == model_name]\n",
    "    # if no models match, return None\n",
    "    if len(modellist) <= 0:\n",
    "        raise KeyError(f\"Model {mname} not found in this workspace\")\n",
    "        return None\n",
    "    return model_version[0]\n",
    "\n",
    "# get a pipeline by name in the workspace\n",
    "def get_pipeline(pipeline_name, workspace):\n",
    "    plist = workspace.pipelines()\n",
    "    pipeline = [p for p in plist if p.name() == pipeline_name]\n",
    "    if len(pipeline) <= 0:\n",
    "        raise KeyError(f\"Pipeline {pipeline_name} not found in this workspace\")\n",
    "        return None\n",
    "    return pipeline[0]\n"
   ]
  },
  {
   "attachments": {},
   "cell_type": "markdown",
   "metadata": {},
   "source": [
    "### Connect to the Wallaroo Instance\n",
    "\n",
    "The first step is to connect to Wallaroo through the Wallaroo client.  The Python library is included in the Wallaroo install and available through the Jupyter Hub interface provided with your Wallaroo environment.\n",
    "\n",
    "This is accomplished using the `wallaroo.Client()` command, which provides a URL to grant the SDK permission to your specific Wallaroo environment.  When displayed, enter the URL into a browser and confirm permissions.  Store the connection into a variable that can be referenced later.\n",
    "\n",
    "If logging into the Wallaroo instance through the internal JupyterHub service, use `wl = wallaroo.Client()`.  For more information on Wallaroo Client settings, see the [Client Connection guide](https://docs.wallaroo.ai/wallaroo-developer-guides/wallaroo-sdk-guides/wallaroo-sdk-essentials-guide/wallaroo-sdk-essentials-client/)."
   ]
  },
  {
   "cell_type": "code",
   "execution_count": 3,
   "metadata": {},
   "outputs": [
    {
     "name": "stdout",
     "output_type": "stream",
     "text": [
      "Please log into the following URL in a web browser:\n",
      "\n",
      "\thttps://doc-test.keycloak.wallaroocommunity.ninja/auth/realms/master/device?user_code=WVDT-DNFQ\n",
      "\n",
      "Login successful!\n"
     ]
    }
   ],
   "source": [
    "## blank space to log in \n",
    "\n",
    "wl = wallaroo.Client()\n",
    "\n",
    "wallarooPrefix = \"doc-test.\"\n",
    "wallarooSuffix = \"wallaroocommunity.ninja\"\n",
    "\n",
    "wl = wallaroo.Client(api_endpoint=f\"https://{wallarooPrefix}api.{wallarooSuffix}\", \n",
    "                    auth_endpoint=f\"https://{wallarooPrefix}keycloak.{wallarooSuffix}\", \n",
    "                    auth_type=\"sso\")"
   ]
  },
  {
   "attachments": {},
   "cell_type": "markdown",
   "metadata": {},
   "source": [
    "### Set Configurations\n",
    "\n",
    "Set the workspace, pipeline, and model used from Notebook 1.  The helper functions will make this task easier.\n",
    "\n",
    "#### Set Configurations References\n",
    "\n",
    "* [Wallaroo SDK Essentials Guide: Workspace Management](https://docs.wallaroo.ai/wallaroo-developer-guides/wallaroo-sdk-guides/wallaroo-sdk-essentials-guide/wallaroo-sdk-essentials-workspace/)\n",
    "* [Wallaroo SDK Essentials Guide: Pipeline Management](https://docs.wallaroo.ai/wallaroo-developer-guides/wallaroo-sdk-guides/wallaroo-sdk-essentials-guide/wallaroo-sdk-essentials-pipelines/wallaroo-sdk-essentials-pipeline/)"
   ]
  },
  {
   "cell_type": "code",
   "execution_count": 5,
   "metadata": {},
   "outputs": [
    {
     "data": {
      "text/plain": [
       "{'name': 'workshop-workspace-john-cv-medical', 'id': 10, 'archived': False, 'created_by': 'b030ff9c-41eb-49b4-afdf-2ccbecb6be5d', 'created_at': '2023-09-28T20:22:21.506043+00:00', 'models': [{'name': 'mitochondria-detector', 'versions': 2, 'owner_id': '\"\"', 'last_update_time': datetime.datetime(2023, 9, 29, 17, 40, 6, 205146, tzinfo=tzutc()), 'created_at': datetime.datetime(2023, 9, 28, 20, 25, 2, 359367, tzinfo=tzutc())}], 'pipelines': [{'name': 'cv-mitochondria', 'create_time': datetime.datetime(2023, 9, 28, 20, 25, 17, 379732, tzinfo=tzutc()), 'definition': '[]'}]}"
      ]
     },
     "metadata": {},
     "output_type": "display_data"
    },
    {
     "data": {
      "text/html": [
       "<table>\n",
       "        <tr>\n",
       "          <td>Name</td>\n",
       "          <td>mitochondria-detector</td>\n",
       "        </tr>\n",
       "        <tr>\n",
       "          <td>Version</td>\n",
       "          <td>11a34cce-0eaa-4cdd-8739-43bd18b67a04</td>\n",
       "        </tr>\n",
       "        <tr>\n",
       "          <td>File Name</td>\n",
       "          <td>mitochondria_epochs_15.onnx</td>\n",
       "        </tr>\n",
       "        <tr>\n",
       "          <td>SHA</td>\n",
       "          <td>e80fcdaf563a183b0c32c027dcb3890a64e1764d6d7dcd29524cd270dd42e7bd</td>\n",
       "        </tr>\n",
       "        <tr>\n",
       "          <td>Status</td>\n",
       "          <td>ready</td>\n",
       "        </tr>\n",
       "        <tr>\n",
       "          <td>Image Path</td>\n",
       "          <td>None</td>\n",
       "        </tr>\n",
       "        <tr>\n",
       "          <td>Updated At</td>\n",
       "          <td>2023-29-Sep 17:40:06</td>\n",
       "        </tr>\n",
       "      </table>"
      ],
      "text/plain": [
       "{'name': 'mitochondria-detector', 'version': '11a34cce-0eaa-4cdd-8739-43bd18b67a04', 'file_name': 'mitochondria_epochs_15.onnx', 'image_path': None, 'last_update_time': datetime.datetime(2023, 9, 29, 17, 40, 6, 205146, tzinfo=tzutc())}"
      ]
     },
     "metadata": {},
     "output_type": "display_data"
    },
    {
     "data": {
      "text/html": [
       "<table><tr><th>name</th> <td>cv-mitochondria</td></tr><tr><th>created</th> <td>2023-09-28 20:25:17.379732+00:00</td></tr><tr><th>last_updated</th> <td>2023-09-29 18:08:12.573990+00:00</td></tr><tr><th>deployed</th> <td>False</td></tr><tr><th>tags</th> <td></td></tr><tr><th>versions</th> <td>4b6dab7d-b3ff-4f14-8425-7d9b6de76637, 66e72bc0-a3e3-4872-bc20-19b992c194b4, cf4bdfb4-1eec-46f8-9af4-b16dea894de6, 507cb1eb-8034-4b5b-bc96-2427730a6407, 50ed1d2f-6dba-411c-9579-1090791b33bd, 6208c9cf-fcd6-4b20-bbfc-f6ce714596e3</td></tr><tr><th>steps</th> <td>mitochondria-detector</td></tr><tr><th>published</th> <td>False</td></tr></table>"
      ],
      "text/plain": [
       "{'name': 'cv-mitochondria', 'create_time': datetime.datetime(2023, 9, 28, 20, 25, 17, 379732, tzinfo=tzutc()), 'definition': '[]'}"
      ]
     },
     "metadata": {},
     "output_type": "display_data"
    }
   ],
   "source": [
    "# retrieve the previous workspace, model, and pipeline version\n",
    "\n",
    "workspace_name = \"workshop-workspace-john-cv-medical\"\n",
    "\n",
    "workspace = get_workspace(workspace_name, wl)\n",
    "\n",
    "# set your current workspace to the workspace that you just created\n",
    "wl.set_current_workspace(workspace)\n",
    "\n",
    "# optionally, examine your current workspace\n",
    "wl.get_current_workspace()\n",
    "\n",
    "model_name = 'mitochondria-detector'\n",
    "\n",
    "prime_model_version = get_model_version(model_name, workspace)\n",
    "\n",
    "pipeline_name = 'cv-mitochondria'\n",
    "\n",
    "pipeline = get_pipeline(pipeline_name, workspace)\n",
    "\n",
    "display(workspace)\n",
    "display(prime_model_version)\n",
    "display(pipeline)\n"
   ]
  },
  {
   "cell_type": "markdown",
   "metadata": {},
   "source": [
    "## Deploy the Pipeline with the Model Version Step\n",
    "\n",
    "As per the other workshops:\n",
    "\n",
    "1. Clear the pipeline of all steps.\n",
    "1. Add the model version as a pipeline step.\n",
    "1. Deploy the pipeline with the following deployment configuration:\n",
    "\n",
    "```python\n",
    "deploy_config = wallaroo.DeploymentConfigBuilder().replica_count(1).cpus(0.5).memory(\"1Gi\").build()\n",
    "```"
   ]
  },
  {
   "cell_type": "code",
   "execution_count": 6,
   "metadata": {},
   "outputs": [
    {
     "data": {
      "text/html": [
       "<table><tr><th>name</th> <td>cv-mitochondria</td></tr><tr><th>created</th> <td>2023-09-28 20:25:17.379732+00:00</td></tr><tr><th>last_updated</th> <td>2023-09-29 19:07:47.787981+00:00</td></tr><tr><th>deployed</th> <td>True</td></tr><tr><th>tags</th> <td></td></tr><tr><th>versions</th> <td>ac4bd826-f47f-48b7-8319-01fbc6622899, 4b6dab7d-b3ff-4f14-8425-7d9b6de76637, 66e72bc0-a3e3-4872-bc20-19b992c194b4, cf4bdfb4-1eec-46f8-9af4-b16dea894de6, 507cb1eb-8034-4b5b-bc96-2427730a6407, 50ed1d2f-6dba-411c-9579-1090791b33bd, 6208c9cf-fcd6-4b20-bbfc-f6ce714596e3</td></tr><tr><th>steps</th> <td>mitochondria-detector</td></tr><tr><th>published</th> <td>False</td></tr></table>"
      ],
      "text/plain": [
       "{'name': 'cv-mitochondria', 'create_time': datetime.datetime(2023, 9, 28, 20, 25, 17, 379732, tzinfo=tzutc()), 'definition': \"[{'ModelInference': {'models': [{'name': 'mitochondria-detector', 'version': '11a34cce-0eaa-4cdd-8739-43bd18b67a04', 'sha': 'e80fcdaf563a183b0c32c027dcb3890a64e1764d6d7dcd29524cd270dd42e7bd'}]}}]\"}"
      ]
     },
     "execution_count": 6,
     "metadata": {},
     "output_type": "execute_result"
    }
   ],
   "source": [
    "pipeline.clear()\n",
    "pipeline.add_model_step(prime_model_version)\n",
    "\n",
    "deploy_config = wallaroo.DeploymentConfigBuilder().replica_count(1).cpus(0.5).memory(\"1Gi\").build()\n",
    "pipeline.deploy(deployment_config=deploy_config)"
   ]
  },
  {
   "attachments": {},
   "cell_type": "markdown",
   "metadata": {},
   "source": [
    "## Create the Connection\n",
    "\n",
    "For this demonstration, the connection set to a specific file on a GitHub repository.  The connection details can be anything that can be stored in JSON:  connection URLs, tokens, etc.\n",
    "\n",
    "This connection will set a URL to pull a file from GitHub, then use the file contents to perform an inference.\n",
    "\n",
    "Wallaroo connections are created through the Wallaroo Client `create_connection(name, type, details)` method.  See the [Wallaroo SDK Essentials Guide: Data Connections Management guide](https://docs.wallaroo.ai/wallaroo-developer-guides/wallaroo-sdk-guides/wallaroo-sdk-essentials-guide/wallaroo-sdk-essentials-dataconnections/) for full details.\n",
    "\n",
    "Note that connection names must be unique across the Wallaroo instance - if needed, use random characters at the end to make sure your connection doesn't have the same name as a previously created connection.\n",
    "\n",
    "Here's an example connection used to retrieve the same CSV file used in `./data/test_data.df.json`:  https://raw.githubusercontent.com/WallarooLabs/Workshops/main/Linear%20Regression/Real%20Estate/data/test_data.df.json\n",
    "\n",
    "### Create the Connection Exercise\n",
    "\n",
    "```python\n",
    "# set the connection information for other steps\n",
    "# suffix is used to create a unique data connection\n",
    "\n",
    "forecast_connection_input_name = f'house-price-data'\n",
    "forecast_connection_input_type = \"HTTP\"\n",
    "forecast_connection_input_argument = { \n",
    "    \"url\": \"https://raw.githubusercontent.com/WallarooLabs/Workshops/main/Linear%20Regression/Real%20Estate/data/test_data.df.json\"\n",
    "    }\n",
    "\n",
    "\n",
    "wl.create_connection(forecast_connection_input_name, forecast_connection_input_type, forecast_connection_input_argument)\n",
    "```"
   ]
  },
  {
   "cell_type": "code",
   "execution_count": 10,
   "metadata": {},
   "outputs": [
    {
     "data": {
      "text/html": [
       "\n",
       "        <table>\n",
       "          <tr>\n",
       "            <th>Field</th>\n",
       "            <th>Value</th>\n",
       "          </tr>\n",
       "          <tr>\n",
       "            <td>Name</td><td>house-price-data-source-medical-john</td>\n",
       "          </tr>\n",
       "          <tr>\n",
       "            <td>Connection Type</td><td>HTTP</td>\n",
       "          </tr>\n",
       "          <tr>\n",
       "            <td>Details</td><td>*****</td>\n",
       "          </tr>\n",
       "          <tr>\n",
       "            <td>Created At</td><td>2023-09-29T19:09:36.352483+00:00</td>\n",
       "          </tr>\n",
       "          <tr>\n",
       "            <td>Linked Workspaces</td><td>[]</td>\n",
       "          </tr>\n",
       "        </table>\n",
       "        "
      ],
      "text/plain": [
       "<wallaroo.connection.Connection at 0x17fdab850>"
      ]
     },
     "execution_count": 10,
     "metadata": {},
     "output_type": "execute_result"
    }
   ],
   "source": [
    "# set the connection information for other steps\n",
    "# suffix is used to create a unique data connection\n",
    "\n",
    "medical_imaging_connection_input_name = f'house-price-data-source-medical-john'\n",
    "medical_imaging_input_type = \"HTTP\"\n",
    "medical_imaging_input_argument = { \n",
    "    \"url\": \"https://github.com/WallarooLabs/Workshops/blob/20230927-foundations-v2/Computer%20Vision/Healthcare/data/image_0_21.tif.df.json\"\n",
    "    }\n",
    "\n",
    "\n",
    "wl.create_connection(medical_imaging_connection_input_name, medical_imaging_input_type, medical_imaging_input_argument)"
   ]
  },
  {
   "cell_type": "markdown",
   "metadata": {},
   "source": [
    "## List Connections\n",
    "\n",
    "Connections for the entire Wallaroo instance are listed with Wallaroo Client `list_connections()` method.\n",
    "\n",
    "## List Connections Exercise\n",
    "\n",
    "Here's an example of listing the connections when the Wallaroo client is `wl`.\n",
    "\n",
    "```python\n",
    "wl.list_connections()\n",
    "```"
   ]
  },
  {
   "cell_type": "code",
   "execution_count": 11,
   "metadata": {},
   "outputs": [
    {
     "data": {
      "text/html": [
       "<table><tr><th>name</th><th>connection type</th><th>details</th><th>created at</th><th>linked workspaces</th></tr><tr><td>house-price-data-source-medical</td><td>HTTP</td><td>*****</td><td>2023-09-29T19:08:24.238046+00:00</td><td>[]</td></tr><tr><td>house-price-data-source-medical-john</td><td>HTTP</td><td>*****</td><td>2023-09-29T19:09:36.352483+00:00</td><td>[]</td></tr></table>"
      ],
      "text/plain": [
       "[<wallaroo.connection.Connection at 0x1487e1c10>,\n",
       " <wallaroo.connection.Connection at 0x1487e1a60>]"
      ]
     },
     "execution_count": 11,
     "metadata": {},
     "output_type": "execute_result"
    }
   ],
   "source": [
    "# list the connections here\n",
    "\n",
    "wl.list_connections()"
   ]
  },
  {
   "cell_type": "markdown",
   "metadata": {},
   "source": [
    "## Get Connection by Name\n",
    "\n",
    "To retrieve a previosly created conneciton, we can assign it to a variable with the method Wallaroo `Client.get_connection(connection_name)`.  Then we can display the connection itself.  Notice that when displaying a connection, the `details` section will be hidden, but they are retrieved with `connection.details()`.  Here's an example:\n",
    "\n",
    "```python\n",
    "myconnection = client.get_connection(\"My amazing connection\")\n",
    "display(myconnection)\n",
    "display(myconnection.details()\n",
    "```\n",
    "\n",
    "Use that code to retrieve your new connection.\n",
    "\n",
    "### Get Connection by Name Example\n",
    "\n",
    "Here's an example based on the Wallaroo client saved as `wl`.\n",
    "\n",
    "```python\n",
    "wl.get_connection(forecast_connection_input_name)\n",
    "```"
   ]
  },
  {
   "cell_type": "code",
   "execution_count": 12,
   "metadata": {},
   "outputs": [
    {
     "data": {
      "text/html": [
       "\n",
       "        <table>\n",
       "          <tr>\n",
       "            <th>Field</th>\n",
       "            <th>Value</th>\n",
       "          </tr>\n",
       "          <tr>\n",
       "            <td>Name</td><td>house-price-data-source-medical-john</td>\n",
       "          </tr>\n",
       "          <tr>\n",
       "            <td>Connection Type</td><td>HTTP</td>\n",
       "          </tr>\n",
       "          <tr>\n",
       "            <td>Details</td><td>*****</td>\n",
       "          </tr>\n",
       "          <tr>\n",
       "            <td>Created At</td><td>2023-09-29T19:09:36.352483+00:00</td>\n",
       "          </tr>\n",
       "          <tr>\n",
       "            <td>Linked Workspaces</td><td>[]</td>\n",
       "          </tr>\n",
       "        </table>\n",
       "        "
      ],
      "text/plain": [
       "<wallaroo.connection.Connection at 0x1487a85b0>"
      ]
     },
     "execution_count": 12,
     "metadata": {},
     "output_type": "execute_result"
    }
   ],
   "source": [
    "# get the connection by name\n",
    "\n",
    "this_connection = wl.get_connection(medical_imaging_connection_input_name)\n",
    "this_connection"
   ]
  },
  {
   "attachments": {},
   "cell_type": "markdown",
   "metadata": {},
   "source": [
    "## Add Connection to Workspace\n",
    "\n",
    "We'll now add the connection to our workspace so it can be retrieved by other workspace users.  The method Workspace `add_connection(connection_name)` adds a Data Connection to a workspace.  The method Workspace `list_connections()` displays a list of connections attached to the workspace.\n",
    "\n",
    "### Add Connection to Workspace Exercise\n",
    "\n",
    "Use the connection we just created, and add it to the sample workspace.  Here's a code example where the workspace is saved to the variable `workspace` and the connection is saved as `forecast_connection_input_name`.\n",
    "\n",
    "```python\n",
    "workspace.add_connection(forecast_connection_input_name)\n",
    "```"
   ]
  },
  {
   "cell_type": "code",
   "execution_count": 13,
   "metadata": {},
   "outputs": [
    {
     "data": {
      "text/html": [
       "<table><tr><th>name</th><th>connection type</th><th>details</th><th>created at</th><th>linked workspaces</th></tr><tr><td>house-price-data-source-medical-john</td><td>HTTP</td><td>*****</td><td>2023-09-29T19:09:36.352483+00:00</td><td>['workshop-workspace-john-cv-medical']</td></tr></table>"
      ],
      "text/plain": [
       "[<wallaroo.connection.Connection at 0x1580c50d0>]"
      ]
     },
     "execution_count": 13,
     "metadata": {},
     "output_type": "execute_result"
    }
   ],
   "source": [
    "workspace.add_connection(medical_imaging_connection_input_name)\n",
    "workspace.list_connections()"
   ]
  },
  {
   "attachments": {},
   "cell_type": "markdown",
   "metadata": {},
   "source": [
    "## Retrieve Connection from Workspace\n",
    "\n",
    "To simulate a data scientist's procedural flow, we'll now retrieve the connection from the workspace.  Specific connections are retrieved by specifying their position in the returned list.\n",
    "\n",
    "For example, if we have two connections in a workspace and we want the second one, we can assign it to a variable with `list_connections[1]`.\n",
    "\n",
    "Create a new variable and retrieve the connection we just assigned to the workspace.\n",
    "\n",
    "### Retrieve Connection from Workspace Exercise\n",
    "\n",
    "Retrieve the connection that was just associated with the workspace.  You'll use the `list_connections` method, then assign a variable to the connection.  Here's an example if the connection is the most recently one added to the workspace `workspace`.\n",
    "\n",
    "```python\n",
    "forecast_connection = workspace.list_connections()[-1]\n",
    "```"
   ]
  },
  {
   "cell_type": "code",
   "execution_count": 14,
   "metadata": {},
   "outputs": [
    {
     "data": {
      "text/html": [
       "\n",
       "        <table>\n",
       "          <tr>\n",
       "            <th>Field</th>\n",
       "            <th>Value</th>\n",
       "          </tr>\n",
       "          <tr>\n",
       "            <td>Name</td><td>house-price-data-source-medical-john</td>\n",
       "          </tr>\n",
       "          <tr>\n",
       "            <td>Connection Type</td><td>HTTP</td>\n",
       "          </tr>\n",
       "          <tr>\n",
       "            <td>Details</td><td>*****</td>\n",
       "          </tr>\n",
       "          <tr>\n",
       "            <td>Created At</td><td>2023-09-29T19:09:36.352483+00:00</td>\n",
       "          </tr>\n",
       "          <tr>\n",
       "            <td>Linked Workspaces</td><td>['workshop-workspace-john-cv-medical']</td>\n",
       "          </tr>\n",
       "        </table>\n",
       "        "
      ],
      "text/plain": [
       "<wallaroo.connection.Connection at 0x148881310>"
      ]
     },
     "metadata": {},
     "output_type": "display_data"
    }
   ],
   "source": [
    "medical_connection = workspace.list_connections()[-1]\n",
    "display(medical_connection)"
   ]
  },
  {
   "attachments": {},
   "cell_type": "markdown",
   "metadata": {},
   "source": [
    "## Run Inference with Connection\n",
    "\n",
    "Connections can be used for different purposes:  uploading new models, engine configurations - any place that data is needed.  This exercise will use the data connection to perform an inference through our deployed pipeline.\n",
    "\n",
    "### Run Inference with Connection Exercise\n",
    "\n",
    "We'll now retrieve sample data through the Wallaroo connection, and perform a sample inference.  The connection details are retrieved through the Connection `details()` method.  Use them to retrieve the pandas record file and convert it to a DataFrame, and use it with our sample model.\n",
    "\n",
    "Here's a code example that uses the Python `requests` library to retrieve the file information, then turns it into a DataFrame for the inference request.\n",
    "\n",
    "```python\n",
    "display(forecast_connection.details()['url'])\n",
    "\n",
    "import requests\n",
    "\n",
    "response = requests.get(\n",
    "                    forecast_connection.details()['url']\n",
    "                )\n",
    "\n",
    "# display(response.json())\n",
    "\n",
    "df = pd.DataFrame(response.json())\n",
    "\n",
    "pipeline.infer(df)\n",
    "```"
   ]
  },
  {
   "cell_type": "code",
   "execution_count": 16,
   "metadata": {},
   "outputs": [
    {
     "data": {
      "text/plain": [
       "'https://github.com/WallarooLabs/Workshops/blob/20230927-foundations-v2/Computer%20Vision/Healthcare/data/image_0_21.tif.df.json'"
      ]
     },
     "metadata": {},
     "output_type": "display_data"
    },
    {
     "data": {
      "text/plain": [
       "<Response [404]>"
      ]
     },
     "metadata": {},
     "output_type": "display_data"
    }
   ],
   "source": [
    "display(medical_connection.details()['url'])\n",
    "\n",
    "import requests\n",
    "\n",
    "response = requests.get(\n",
    "    medical_connection.details()['url']\n",
    ")\n",
    "\n",
    "display(response.json())\n",
    "\n",
    "# display(response.json())\n",
    "\n",
    "# df = pd.DataFrame(response.json())\n",
    "# display(df)\n",
    "\n",
    "# multiple_result = pipeline.infer(df)\n",
    "# display(multiple_result)"
   ]
  },
  {
   "cell_type": "markdown",
   "metadata": {},
   "source": [
    "## Cleaning up.\n",
    "\n",
    "Now that the workshop is complete, don't forget to undeploy your pipeline to free up the resources."
   ]
  },
  {
   "cell_type": "code",
   "execution_count": 23,
   "metadata": {},
   "outputs": [
    {
     "data": {
      "text/html": [
       "<table><tr><th>name</th> <td>houseprice-estimator</td></tr><tr><th>created</th> <td>2023-09-11 21:40:29.871251+00:00</td></tr><tr><th>last_updated</th> <td>2023-09-13 16:48:39.767241+00:00</td></tr><tr><th>deployed</th> <td>False</td></tr><tr><th>tags</th> <td></td></tr><tr><th>versions</th> <td>4d3230a4-32be-4f47-90b5-d8d3b90cc2a9, 6f788da6-17ee-4df6-b120-354737212559, 7ae39ec3-1486-4bd7-9fa5-6874ee79f245, 11dd78db-9461-4ec0-9003-29538d4c242d, 8ca7a6bf-6529-434f-a3f6-bbc3bcc255d9</td></tr><tr><th>steps</th> <td>house-price-prime</td></tr></table>"
      ],
      "text/plain": [
       "{'name': 'houseprice-estimator', 'create_time': datetime.datetime(2023, 9, 11, 21, 40, 29, 871251, tzinfo=tzutc()), 'definition': \"[{'ModelInference': {'models': [{'name': 'house-price-prime', 'version': 'f42b66d3-ed47-4571-910c-5e7184b2b4ad', 'sha': '31e92d6ccb27b041a324a7ac22cf95d9d6cc3aa7e8263a229f7c4aec4938657c'}]}}]\"}"
      ]
     },
     "execution_count": 23,
     "metadata": {},
     "output_type": "execute_result"
    }
   ],
   "source": [
    "pipeline.undeploy()"
   ]
  },
  {
   "attachments": {},
   "cell_type": "markdown",
   "metadata": {},
   "source": [
    "## Congratulations!\n",
    "\n",
    "In this workshop you have:\n",
    "\n",
    "* Deployed a single step house price prediction pipeline and sent data to it.\n",
    "* Create a new Wallaroo connection.\n",
    "* Assigned the connection to a workspace.\n",
    "* Retrieved the connection from the workspace.\n",
    "* Used the data connection to retrieve information from outside of Wallaroo, and use it for an inference.\n",
    "\n",
    "Great job!"
   ]
  }
 ],
 "metadata": {
  "kernelspec": {
   "display_name": "Python 3 (ipykernel)",
   "language": "python",
   "name": "python3"
  },
  "language_info": {
   "codemirror_mode": {
    "name": "ipython",
    "version": 3
   },
   "file_extension": ".py",
   "mimetype": "text/x-python",
   "name": "python",
   "nbconvert_exporter": "python",
   "pygments_lexer": "ipython3",
   "version": "3.8.18"
  },
  "vscode": {
   "interpreter": {
    "hash": "7dda4bf3640b7fafcd1648658b879b4cc9f6ba6084e8fb356fdaaa1a461d1690"
   }
  }
 },
 "nbformat": 4,
 "nbformat_minor": 4
}
