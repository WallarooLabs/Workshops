{
 "cells": [
  {
   "cell_type": "markdown",
   "metadata": {},
   "source": [
    "# Workshop Notebook 4: Automation with ML Workload Orchestrations\n",
    "\n",
    "Wallaroo provides Data Connections and ML Workload Orchestrations to provide organizations with a method of creating and managing automated tasks that can either be run on demand or a regular schedule.\n",
    "\n",
    "## Prerequisites\n",
    "\n",
    "* A Wallaroo instance version 2023.2.1 or greater.\n",
    "\n",
    "## References\n",
    "\n",
    "* [Wallaroo SDK Essentials Guide: Model Uploads and Registrations: Python Models](https://docs.wallaroo.ai/wallaroo-developer-guides/wallaroo-sdk-guides/wallaroo-sdk-essentials-guide/wallaroo-sdk-model-uploads/wallaroo-sdk-model-upload-python/)\n",
    "* [Wallaroo SDK Essentials Guide: Pipeline Management](https://docs.wallaroo.ai/wallaroo-developer-guides/wallaroo-sdk-guides/wallaroo-sdk-essentials-guide/wallaroo-sdk-essentials-pipelines/wallaroo-sdk-essentials-pipeline/)\n",
    "* [Wallaroo SDK Essentials Guide: ML Workload Orchestration](https://docs.wallaroo.ai/wallaroo-developer-guides/wallaroo-sdk-guides/wallaroo-sdk-essentials-guide/wallaroo-sdk-essentials-ml-workload-orchestration/)"
   ]
  },
  {
   "cell_type": "markdown",
   "metadata": {},
   "source": [
    "## Orchestrations, Taks, and Tasks Runs\n",
    "\n",
    "We've details how Wallaroo Connections work.  Now we'll use Orchestrations, Tasks, and Task Runs.\n",
    "\n",
    "| Item | Description |\n",
    "|---|---|\n",
    "| Orchestration | ML Workload orchestration allows data scientists and ML Engineers to automate and scale production ML workflows in Wallaroo to ensure a tight feedback loop and continuous tuning of models from training to production. Wallaroo platform users (data scientists or ML Engineers) have the ability to deploy, automate and scale recurring batch production ML workloads that can ingest data from predefined data sources to run inferences in Wallaroo, chain pipelines, and send inference results to predefined destinations to analyze model insights and assess business outcomes. |\n",
    "| Task | An implementation of an Orchestration.  Tasks can be either `Run Once`:  They run once and upon completion, stop. `Run Scheduled`: The task runs whenever a specific `cron` like schedule is reached.  Scheduled tasks will run until the `kill` command is issued. |\n",
    "| Task Run | The execusion of a task.  For `Run Once` tasks, there will be only one `Run Task`.  A `Run Scheduled` tasks will have multiple tasks, one for every time the schedule parameter is met.  Task Runs have their own log files that can be examined to track progress and results. |"
   ]
  },
  {
   "cell_type": "markdown",
   "metadata": {},
   "source": [
    "## Preliminaries\n",
    "\n",
    "In the blocks below we will preload some required libraries.\n",
    "\n",
    "For convenience, the following `helper functions` are defined to retrieve previously created workspaces, models, and pipelines:\n",
    "\n",
    "* `get_workspace(name, client)`: This takes in the name and the Wallaroo client being used in this session, and returns the workspace matching `name`.  If no workspaces are found matching the name, raises a `KeyError` and returns `None`.\n",
    "* `get_model_version(model_name, workspace)`: Retrieves the most recent model version from the model matching the `model_name` within the provided `workspace`.  If no model matches that name, raises a `KeyError` and returns `None`.\n",
    "* `get_pipeline(pipeline_name, workspace)`: Retrieves the most pipeline from the workspace matching the `pipeline_name` within the provided `workspace`.  If no model matches that name, raises a `KeyError` and returns `None`."
   ]
  },
  {
   "cell_type": "code",
   "execution_count": 1,
   "metadata": {},
   "outputs": [],
   "source": [
    "import json\n",
    "import os\n",
    "import datetime\n",
    "\n",
    "import wallaroo\n",
    "from wallaroo.object import EntityNotFoundError\n",
    "from wallaroo.framework import Framework\n",
    "\n",
    "# used to display dataframe information without truncating\n",
    "from IPython.display import display\n",
    "import pandas as pd\n",
    "import numpy as np\n",
    "\n",
    "pd.set_option('display.max_colwidth', None)\n",
    "\n",
    "import time\n",
    "import pyarrow as pa"
   ]
  },
  {
   "cell_type": "code",
   "execution_count": 2,
   "metadata": {},
   "outputs": [],
   "source": [
    "## convenience functions from the previous notebooks\n",
    "\n",
    "# return the workspace called <name> through the Wallaroo client.\n",
    "def get_workspace(name, client):\n",
    "    workspace = None\n",
    "    for ws in client.list_workspaces():\n",
    "        if ws.name() == name:\n",
    "            workspace= ws\n",
    "            return workspace\n",
    "    # if no workspaces were found\n",
    "    if workspace==None:\n",
    "        raise KeyError(f\"Workspace {name} was not found.\")\n",
    "    return workspace\n",
    "\n",
    "\n",
    "# returns the most recent model version in a workspace for the matching `model_name`\n",
    "def get_model_version(model_name, workspace):\n",
    "    modellist = workspace.models()\n",
    "    model_version = [m.versions()[-1] for m in modellist if m.name() == model_name]\n",
    "    # if no models match, return None\n",
    "    if len(modellist) <= 0:\n",
    "        raise KeyError(f\"Model {mname} not found in this workspace\")\n",
    "        return None\n",
    "    return model_version[0]\n",
    "\n",
    "# get a pipeline by name in the workspace\n",
    "def get_pipeline(pipeline_name, workspace):\n",
    "    plist = workspace.pipelines()\n",
    "    pipeline = [p for p in plist if p.name() == pipeline_name]\n",
    "    if len(pipeline) <= 0:\n",
    "        raise KeyError(f\"Pipeline {pipeline_name} not found in this workspace\")\n",
    "        return None\n",
    "    return pipeline[0]\n"
   ]
  },
  {
   "cell_type": "markdown",
   "metadata": {},
   "source": [
    "### Connect to the Wallaroo Instance\n",
    "\n",
    "The first step is to connect to Wallaroo through the Wallaroo client.  The Python library is included in the Wallaroo install and available through the Jupyter Hub interface provided with your Wallaroo environment.\n",
    "\n",
    "This is accomplished using the `wallaroo.Client()` command, which provides a URL to grant the SDK permission to your specific Wallaroo environment.  When displayed, enter the URL into a browser and confirm permissions.  Store the connection into a variable that can be referenced later.\n",
    "\n",
    "If logging into the Wallaroo instance through the internal JupyterHub service, use `wl = wallaroo.Client()`.  For more information on Wallaroo Client settings, see the [Client Connection guide](https://docs.wallaroo.ai/wallaroo-developer-guides/wallaroo-sdk-guides/wallaroo-sdk-essentials-guide/wallaroo-sdk-essentials-client/)."
   ]
  },
  {
   "cell_type": "code",
   "execution_count": null,
   "metadata": {},
   "outputs": [],
   "source": [
    "## blank space to log in \n",
    "\n",
    "wl = wallaroo.Client()"
   ]
  },
  {
   "cell_type": "markdown",
   "metadata": {},
   "source": [
    "### Set Configurations\n",
    "\n",
    "Set the workspace, pipeline, and model used from Notebook 1.  The helper functions will make this task easier.\n",
    "\n",
    "#### Set Configurations References\n",
    "\n",
    "* [Wallaroo SDK Essentials Guide: Workspace Management](https://docs.wallaroo.ai/wallaroo-developer-guides/wallaroo-sdk-guides/wallaroo-sdk-essentials-guide/wallaroo-sdk-essentials-workspace/)\n",
    "* [Wallaroo SDK Essentials Guide: Pipeline Management](https://docs.wallaroo.ai/wallaroo-developer-guides/wallaroo-sdk-guides/wallaroo-sdk-essentials-guide/wallaroo-sdk-essentials-pipelines/wallaroo-sdk-essentials-pipeline/)"
   ]
  },
  {
   "cell_type": "code",
   "execution_count": 4,
   "metadata": {},
   "outputs": [
    {
     "data": {
      "text/plain": [
       "{'name': 'workshop-workspace-john-05', 'id': 261, 'archived': False, 'created_by': 'd1704c38-2016-4b1d-9407-85e7e6875e6d', 'created_at': '2023-09-11T21:37:02.871776+00:00', 'models': [{'name': 'house-price-prime', 'versions': 1, 'owner_id': '\"\"', 'last_update_time': datetime.datetime(2023, 9, 11, 21, 40, 27, 608874, tzinfo=tzutc()), 'created_at': datetime.datetime(2023, 9, 11, 21, 40, 27, 608874, tzinfo=tzutc())}], 'pipelines': [{'name': 'houseprice-estimator', 'create_time': datetime.datetime(2023, 9, 11, 21, 40, 29, 871251, tzinfo=tzutc()), 'definition': '[]'}]}"
      ]
     },
     "metadata": {},
     "output_type": "display_data"
    },
    {
     "data": {
      "text/html": [
       "<table>\n",
       "        <tr>\n",
       "          <td>Name</td>\n",
       "          <td>house-price-prime</td>\n",
       "        </tr>\n",
       "        <tr>\n",
       "          <td>Version</td>\n",
       "          <td>f42b66d3-ed47-4571-910c-5e7184b2b4ad</td>\n",
       "        </tr>\n",
       "        <tr>\n",
       "          <td>File Name</td>\n",
       "          <td>xgb_model.onnx</td>\n",
       "        </tr>\n",
       "        <tr>\n",
       "          <td>SHA</td>\n",
       "          <td>31e92d6ccb27b041a324a7ac22cf95d9d6cc3aa7e8263a229f7c4aec4938657c</td>\n",
       "        </tr>\n",
       "        <tr>\n",
       "          <td>Status</td>\n",
       "          <td>ready</td>\n",
       "        </tr>\n",
       "        <tr>\n",
       "          <td>Image Path</td>\n",
       "          <td>None</td>\n",
       "        </tr>\n",
       "        <tr>\n",
       "          <td>Updated At</td>\n",
       "          <td>2023-11-Sep 21:40:27</td>\n",
       "        </tr>\n",
       "      </table>"
      ],
      "text/plain": [
       "{'name': 'house-price-prime', 'version': 'f42b66d3-ed47-4571-910c-5e7184b2b4ad', 'file_name': 'xgb_model.onnx', 'image_path': None, 'last_update_time': datetime.datetime(2023, 9, 11, 21, 40, 27, 608874, tzinfo=tzutc())}"
      ]
     },
     "metadata": {},
     "output_type": "display_data"
    },
    {
     "data": {
      "text/html": [
       "<table><tr><th>name</th> <td>houseprice-estimator</td></tr><tr><th>created</th> <td>2023-09-11 21:40:29.871251+00:00</td></tr><tr><th>last_updated</th> <td>2023-09-13 16:54:08.320167+00:00</td></tr><tr><th>deployed</th> <td>True</td></tr><tr><th>tags</th> <td></td></tr><tr><th>versions</th> <td>aa8b92a2-a2b9-4197-9fbd-63ad84e48e52, 4d3230a4-32be-4f47-90b5-d8d3b90cc2a9, 6f788da6-17ee-4df6-b120-354737212559, 7ae39ec3-1486-4bd7-9fa5-6874ee79f245, 11dd78db-9461-4ec0-9003-29538d4c242d, 8ca7a6bf-6529-434f-a3f6-bbc3bcc255d9</td></tr><tr><th>steps</th> <td>house-price-prime</td></tr></table>"
      ],
      "text/plain": [
       "{'name': 'houseprice-estimator', 'create_time': datetime.datetime(2023, 9, 11, 21, 40, 29, 871251, tzinfo=tzutc()), 'definition': '[]'}"
      ]
     },
     "metadata": {},
     "output_type": "display_data"
    }
   ],
   "source": [
    "# retrieve the previous workspace, model, and pipeline version\n",
    "\n",
    "workspace_name = \"workshop-workspace-john-05\"\n",
    "\n",
    "workspace = get_workspace(workspace_name, wl)\n",
    "\n",
    "# set your current workspace to the workspace that you just created\n",
    "wl.set_current_workspace(workspace)\n",
    "\n",
    "# optionally, examine your current workspace\n",
    "wl.get_current_workspace()\n",
    "\n",
    "model_name = 'house-price-prime'\n",
    "\n",
    "prime_model_version = get_model_version(model_name, workspace)\n",
    "\n",
    "pipeline_name = 'houseprice-estimator'\n",
    "\n",
    "pipeline = get_pipeline(pipeline_name, workspace)\n",
    "\n",
    "display(workspace)\n",
    "display(prime_model_version)\n",
    "display(pipeline)\n"
   ]
  },
  {
   "cell_type": "markdown",
   "metadata": {},
   "source": [
    "## Deploy the Pipeline with the Model Version Step\n",
    "\n",
    "As per the other workshops:\n",
    "\n",
    "1. Clear the pipeline of all steps.\n",
    "1. Add the model version as a pipeline step.\n",
    "1. Deploy the pipeline with the following deployment configuration:\n",
    "\n",
    "```python\n",
    "deploy_config = wallaroo.DeploymentConfigBuilder().replica_count(1).cpus(0.5).memory(\"1Gi\").build()\n",
    "```"
   ]
  },
  {
   "cell_type": "code",
   "execution_count": 5,
   "metadata": {},
   "outputs": [
    {
     "data": {
      "text/html": [
       "<table><tr><th>name</th> <td>houseprice-estimator</td></tr><tr><th>created</th> <td>2023-09-11 21:40:29.871251+00:00</td></tr><tr><th>last_updated</th> <td>2023-09-13 17:32:43.282786+00:00</td></tr><tr><th>deployed</th> <td>True</td></tr><tr><th>tags</th> <td></td></tr><tr><th>versions</th> <td>9d80efd3-ba4b-409e-88e9-e0605db336e3, aa8b92a2-a2b9-4197-9fbd-63ad84e48e52, 4d3230a4-32be-4f47-90b5-d8d3b90cc2a9, 6f788da6-17ee-4df6-b120-354737212559, 7ae39ec3-1486-4bd7-9fa5-6874ee79f245, 11dd78db-9461-4ec0-9003-29538d4c242d, 8ca7a6bf-6529-434f-a3f6-bbc3bcc255d9</td></tr><tr><th>steps</th> <td>house-price-prime</td></tr></table>"
      ],
      "text/plain": [
       "{'name': 'houseprice-estimator', 'create_time': datetime.datetime(2023, 9, 11, 21, 40, 29, 871251, tzinfo=tzutc()), 'definition': \"[{'ModelInference': {'models': [{'name': 'house-price-prime', 'version': 'f42b66d3-ed47-4571-910c-5e7184b2b4ad', 'sha': '31e92d6ccb27b041a324a7ac22cf95d9d6cc3aa7e8263a229f7c4aec4938657c'}]}}]\"}"
      ]
     },
     "execution_count": 5,
     "metadata": {},
     "output_type": "execute_result"
    }
   ],
   "source": [
    "pipeline.clear()\n",
    "pipeline.add_model_step(prime_model_version)\n",
    "\n",
    "deploy_config = wallaroo.DeploymentConfigBuilder().replica_count(1).cpus(0.5).memory(\"1Gi\").build()\n",
    "pipeline.deploy(deployment_config=deploy_config)"
   ]
  },
  {
   "cell_type": "markdown",
   "metadata": {},
   "source": [
    "### Sample Inference\n",
    "\n",
    "Verify the pipeline is deployed properly with a sample inference with the file `./data/test_data.df.json`."
   ]
  },
  {
   "cell_type": "code",
   "execution_count": 6,
   "metadata": {},
   "outputs": [
    {
     "data": {
      "text/html": [
       "<div>\n",
       "<style scoped>\n",
       "    .dataframe tbody tr th:only-of-type {\n",
       "        vertical-align: middle;\n",
       "    }\n",
       "\n",
       "    .dataframe tbody tr th {\n",
       "        vertical-align: top;\n",
       "    }\n",
       "\n",
       "    .dataframe thead th {\n",
       "        text-align: right;\n",
       "    }\n",
       "</style>\n",
       "<table border=\"1\" class=\"dataframe\">\n",
       "  <thead>\n",
       "    <tr style=\"text-align: right;\">\n",
       "      <th></th>\n",
       "      <th>time</th>\n",
       "      <th>in.tensor</th>\n",
       "      <th>out.variable</th>\n",
       "      <th>check_failures</th>\n",
       "    </tr>\n",
       "  </thead>\n",
       "  <tbody>\n",
       "    <tr>\n",
       "      <th>0</th>\n",
       "      <td>2023-09-13 17:32:48.775</td>\n",
       "      <td>[4.0, 2.5, 2900.0, 5505.0, 2.0, 0.0, 0.0, 3.0, 8.0, 2900.0, 0.0, 47.6063, -122.02, 2970.0, 5251.0, 12.0, 0.0, 0.0]</td>\n",
       "      <td>[659806.0]</td>\n",
       "      <td>0</td>\n",
       "    </tr>\n",
       "    <tr>\n",
       "      <th>1</th>\n",
       "      <td>2023-09-13 17:32:48.775</td>\n",
       "      <td>[2.0, 2.5, 2170.0, 6361.0, 1.0, 0.0, 2.0, 3.0, 8.0, 2170.0, 0.0, 47.7109, -122.017, 2310.0, 7419.0, 6.0, 0.0, 0.0]</td>\n",
       "      <td>[732883.5]</td>\n",
       "      <td>0</td>\n",
       "    </tr>\n",
       "    <tr>\n",
       "      <th>2</th>\n",
       "      <td>2023-09-13 17:32:48.775</td>\n",
       "      <td>[3.0, 2.5, 1300.0, 812.0, 2.0, 0.0, 0.0, 3.0, 8.0, 880.0, 420.0, 47.5893, -122.317, 1300.0, 824.0, 6.0, 0.0, 0.0]</td>\n",
       "      <td>[419508.84]</td>\n",
       "      <td>0</td>\n",
       "    </tr>\n",
       "    <tr>\n",
       "      <th>3</th>\n",
       "      <td>2023-09-13 17:32:48.775</td>\n",
       "      <td>[4.0, 2.5, 2500.0, 8540.0, 2.0, 0.0, 0.0, 3.0, 9.0, 2500.0, 0.0, 47.5759, -121.994, 2560.0, 8475.0, 24.0, 0.0, 0.0]</td>\n",
       "      <td>[634028.75]</td>\n",
       "      <td>0</td>\n",
       "    </tr>\n",
       "    <tr>\n",
       "      <th>4</th>\n",
       "      <td>2023-09-13 17:32:48.775</td>\n",
       "      <td>[3.0, 1.75, 2200.0, 11520.0, 1.0, 0.0, 0.0, 4.0, 7.0, 2200.0, 0.0, 47.7659, -122.341, 1690.0, 8038.0, 62.0, 0.0, 0.0]</td>\n",
       "      <td>[427209.47]</td>\n",
       "      <td>0</td>\n",
       "    </tr>\n",
       "    <tr>\n",
       "      <th>...</th>\n",
       "      <td>...</td>\n",
       "      <td>...</td>\n",
       "      <td>...</td>\n",
       "      <td>...</td>\n",
       "    </tr>\n",
       "    <tr>\n",
       "      <th>3995</th>\n",
       "      <td>2023-09-13 17:32:48.775</td>\n",
       "      <td>[4.0, 2.25, 2620.0, 98881.0, 1.0, 0.0, 0.0, 3.0, 7.0, 1820.0, 800.0, 47.4662, -122.453, 1728.0, 95832.0, 63.0, 0.0, 0.0]</td>\n",
       "      <td>[436151.13]</td>\n",
       "      <td>0</td>\n",
       "    </tr>\n",
       "    <tr>\n",
       "      <th>3996</th>\n",
       "      <td>2023-09-13 17:32:48.775</td>\n",
       "      <td>[3.0, 2.5, 2244.0, 4079.0, 2.0, 0.0, 0.0, 3.0, 7.0, 2244.0, 0.0, 47.2606, -122.254, 2077.0, 4078.0, 3.0, 0.0, 0.0]</td>\n",
       "      <td>[284810.7]</td>\n",
       "      <td>0</td>\n",
       "    </tr>\n",
       "    <tr>\n",
       "      <th>3997</th>\n",
       "      <td>2023-09-13 17:32:48.775</td>\n",
       "      <td>[3.0, 1.75, 1490.0, 5000.0, 1.0, 0.0, 1.0, 3.0, 8.0, 1250.0, 240.0, 47.5257, -122.392, 1980.0, 5000.0, 61.0, 0.0, 0.0]</td>\n",
       "      <td>[575571.44]</td>\n",
       "      <td>0</td>\n",
       "    </tr>\n",
       "    <tr>\n",
       "      <th>3998</th>\n",
       "      <td>2023-09-13 17:32:48.775</td>\n",
       "      <td>[4.0, 2.5, 2740.0, 5700.0, 2.0, 0.0, 0.0, 3.0, 9.0, 2740.0, 0.0, 47.3535, -122.026, 3010.0, 5281.0, 8.0, 0.0, 0.0]</td>\n",
       "      <td>[432262.38]</td>\n",
       "      <td>0</td>\n",
       "    </tr>\n",
       "    <tr>\n",
       "      <th>3999</th>\n",
       "      <td>2023-09-13 17:32:48.775</td>\n",
       "      <td>[5.0, 2.5, 2240.0, 7770.0, 1.0, 0.0, 0.0, 3.0, 7.0, 1340.0, 900.0, 47.7198, -122.171, 1820.0, 7770.0, 36.0, 0.0, 0.0]</td>\n",
       "      <td>[445873.13]</td>\n",
       "      <td>0</td>\n",
       "    </tr>\n",
       "  </tbody>\n",
       "</table>\n",
       "<p>4000 rows × 4 columns</p>\n",
       "</div>"
      ],
      "text/plain": [
       "                        time  \\\n",
       "0    2023-09-13 17:32:48.775   \n",
       "1    2023-09-13 17:32:48.775   \n",
       "2    2023-09-13 17:32:48.775   \n",
       "3    2023-09-13 17:32:48.775   \n",
       "4    2023-09-13 17:32:48.775   \n",
       "...                      ...   \n",
       "3995 2023-09-13 17:32:48.775   \n",
       "3996 2023-09-13 17:32:48.775   \n",
       "3997 2023-09-13 17:32:48.775   \n",
       "3998 2023-09-13 17:32:48.775   \n",
       "3999 2023-09-13 17:32:48.775   \n",
       "\n",
       "                                                                                                                     in.tensor  \\\n",
       "0           [4.0, 2.5, 2900.0, 5505.0, 2.0, 0.0, 0.0, 3.0, 8.0, 2900.0, 0.0, 47.6063, -122.02, 2970.0, 5251.0, 12.0, 0.0, 0.0]   \n",
       "1           [2.0, 2.5, 2170.0, 6361.0, 1.0, 0.0, 2.0, 3.0, 8.0, 2170.0, 0.0, 47.7109, -122.017, 2310.0, 7419.0, 6.0, 0.0, 0.0]   \n",
       "2            [3.0, 2.5, 1300.0, 812.0, 2.0, 0.0, 0.0, 3.0, 8.0, 880.0, 420.0, 47.5893, -122.317, 1300.0, 824.0, 6.0, 0.0, 0.0]   \n",
       "3          [4.0, 2.5, 2500.0, 8540.0, 2.0, 0.0, 0.0, 3.0, 9.0, 2500.0, 0.0, 47.5759, -121.994, 2560.0, 8475.0, 24.0, 0.0, 0.0]   \n",
       "4        [3.0, 1.75, 2200.0, 11520.0, 1.0, 0.0, 0.0, 4.0, 7.0, 2200.0, 0.0, 47.7659, -122.341, 1690.0, 8038.0, 62.0, 0.0, 0.0]   \n",
       "...                                                                                                                        ...   \n",
       "3995  [4.0, 2.25, 2620.0, 98881.0, 1.0, 0.0, 0.0, 3.0, 7.0, 1820.0, 800.0, 47.4662, -122.453, 1728.0, 95832.0, 63.0, 0.0, 0.0]   \n",
       "3996        [3.0, 2.5, 2244.0, 4079.0, 2.0, 0.0, 0.0, 3.0, 7.0, 2244.0, 0.0, 47.2606, -122.254, 2077.0, 4078.0, 3.0, 0.0, 0.0]   \n",
       "3997    [3.0, 1.75, 1490.0, 5000.0, 1.0, 0.0, 1.0, 3.0, 8.0, 1250.0, 240.0, 47.5257, -122.392, 1980.0, 5000.0, 61.0, 0.0, 0.0]   \n",
       "3998        [4.0, 2.5, 2740.0, 5700.0, 2.0, 0.0, 0.0, 3.0, 9.0, 2740.0, 0.0, 47.3535, -122.026, 3010.0, 5281.0, 8.0, 0.0, 0.0]   \n",
       "3999     [5.0, 2.5, 2240.0, 7770.0, 1.0, 0.0, 0.0, 3.0, 7.0, 1340.0, 900.0, 47.7198, -122.171, 1820.0, 7770.0, 36.0, 0.0, 0.0]   \n",
       "\n",
       "     out.variable  check_failures  \n",
       "0      [659806.0]               0  \n",
       "1      [732883.5]               0  \n",
       "2     [419508.84]               0  \n",
       "3     [634028.75]               0  \n",
       "4     [427209.47]               0  \n",
       "...           ...             ...  \n",
       "3995  [436151.13]               0  \n",
       "3996   [284810.7]               0  \n",
       "3997  [575571.44]               0  \n",
       "3998  [432262.38]               0  \n",
       "3999  [445873.13]               0  \n",
       "\n",
       "[4000 rows x 4 columns]"
      ]
     },
     "execution_count": 6,
     "metadata": {},
     "output_type": "execute_result"
    }
   ],
   "source": [
    "# sample inference from previous code here\n",
    "\n",
    "pipeline.infer_from_file('../data/test_data.df.json')"
   ]
  },
  {
   "cell_type": "markdown",
   "metadata": {},
   "source": [
    "## Sample Orchestration\n",
    "\n",
    "The orchestration that will automate this process is `./orchestration/real-estate-orchestration.zip`.  The files used are stored in the directory `/orchestration/real-estate-orchestration`, created with the command:\n",
    "\n",
    "`zip -r real-estate-orchestration.zip real-estate-orchestration/*`.\n",
    "\n",
    "This contains the following:\n",
    "\n",
    "* `requirements.txt`:  The Python requirements file to specify the following libraries used.  For this example, that will be empty since we will be using the \n",
    "* `main.py`: The entry file that uses a deployed pipeline and performs an inference request against it visible from its log files.\n",
    "* `data/`: Inference data sources.\n",
    "\n",
    "The `main.py` script performs a workspace and pipeline retrieval, then an inference against the inference input file.\n",
    "\n",
    "```python\n",
    "import wallaroo\n",
    "from wallaroo.object import EntityNotFoundError\n",
    "import pandas as pd\n",
    "\n",
    "wl = wallaroo.Client()\n",
    "\n",
    "# get the arguments\n",
    "arguments = wl.task_args()\n",
    "\n",
    "if \"workspace_name\" in arguments:\n",
    "    workspace_name = arguments['workspace_name']\n",
    "else:\n",
    "    workspace_name=\"forecast-model-workshop\"\n",
    "\n",
    "if \"pipeline_name\" in arguments:\n",
    "    pipeline_name = arguments['pipeline_name']\n",
    "else:\n",
    "    pipeline_name=\"bikedaypipe\"\n",
    "\n",
    "def get_workspace(name):\n",
    "    workspace = None\n",
    "    for ws in wl.list_workspaces():\n",
    "        if ws.name() == name:\n",
    "            workspace= ws\n",
    "    return workspace\n",
    "\n",
    "def get_pipeline(pipeline_name, workspace):\n",
    "    plist = workspace.pipelines()\n",
    "    pipeline = [p for p in plist if p.name() == pipeline_name]\n",
    "    if len(pipeline) <= 0:\n",
    "        raise KeyError(f\"Pipeline {pipeline_name} not found in this workspace\")\n",
    "        return None\n",
    "    return pipeline[0]\n",
    "\n",
    "# pull a single datum from a data frame \n",
    "# and convert it to the format the model expects\n",
    "def get_singleton(df, i):\n",
    "    singleton = df.iloc[i,:].to_numpy().tolist()\n",
    "    sdict = {'tensor': [singleton]}\n",
    "    return pd.DataFrame.from_dict(sdict)\n",
    "\n",
    "print(f\"Workspace: {workspace_name}\")\n",
    "workspace = get_workspace(workspace_name)\n",
    "\n",
    "wl.set_current_workspace(workspace)\n",
    "print(workspace)\n",
    "\n",
    "# the pipeline is assumed to be deployed\n",
    "print(f\"Pipeline: {pipeline_name}\")\n",
    "pipeline = get_pipeline(pipeline_name, workspace)\n",
    "print(pipeline)\n",
    "\n",
    "print(pipeline.status())\n",
    "\n",
    "inference_result = pipeline.infer_file_file('./data/test_data.df.json')\n",
    "print(inference_result)\n",
    "\n",
    "```\n",
    "\n",
    "A few things to go over here.  You'll notice this is almost the exact procedures we've been following so far:  we get a workspace and pipeline, pull data from a CSV file, and perform an inference off the data.\n",
    "\n",
    "This script assumes that the pipeline has already been deployed, and also includes this part:\n",
    "\n",
    "`arguments = wl.task_args()`\n",
    "\n",
    "This allows us to pass arguments into a Task created from an Orchestration, so we can specify a different workspace, pipeline, or any other arguments we construct.  This allows orchestrations to be very flexible.\n",
    "\n",
    "Also, notice that it refers to a specific file:\n",
    "\n",
    "`inference_result = pipeline.infer_file_file('./data/test_data.df.json')`\n",
    "\n",
    "In the `forecast-orchestration` directory is the `data` directory with our sample CSV file.  Orchestrations can include additional artifacts.  We could have used a Wallaroo Connection instead, and we encourage you to try that if you want."
   ]
  },
  {
   "cell_type": "markdown",
   "metadata": {},
   "source": [
    "## Upload Orchestration\n",
    "\n",
    "Orchestrations are uploaded with the Wallaroo client `upload_orchestration(path)` method with the following parameters.\n",
    "\n",
    "| Parameter | Type | Description |\n",
    "| --- | --- | ---|\n",
    "| **path** | string (Required) | The path to the ZIP file to be uploaded. |\n",
    "\n",
    "Once uploaded, the deployment will be prepared and any requirements will be downloaded and installed.  A typical orchestration upload looks like this:\n",
    "\n",
    "```python\n",
    "my_orchestration = wl.upload_orchestration(path-to-zip-file)\n",
    "```\n",
    "\n",
    "### Upload Orchestration Exercise\n",
    "\n",
    "Try uploading our orchestration from `./forecast-orchestration/forecast-orchestration.zip` - or make your own and upload it.\n",
    "\n",
    "Once uploaded, you can check the status with the `status()`.  If using the orchestration example above, that would be `my_orchestration.status()`  This is handy to make into a loop to check the status until is shows `ready`.\n",
    "\n",
    "Here's an example of uploading the Orchestration file, then a loop that will keep checking the status every 5 seconds until it returns `ready`.\n",
    "\n",
    "```python\n",
    "orchestration = wl.upload_orchestration(name=\"my real example\", path=\"./orchestration/real-estate-orchestration.zip\")\n",
    "\n",
    "while orchestration.status() != 'ready':\n",
    "    print(orchestration.status())\n",
    "    time.sleep(5)\n",
    "```\n"
   ]
  },
  {
   "cell_type": "code",
   "execution_count": 25,
   "metadata": {},
   "outputs": [
    {
     "name": "stdout",
     "output_type": "stream",
     "text": [
      "pending_packaging\n",
      "pending_packaging\n",
      "packaging\n",
      "packaging\n",
      "packaging\n",
      "packaging\n",
      "packaging\n",
      "packaging\n",
      "packaging\n"
     ]
    }
   ],
   "source": [
    "orchestration = wl.upload_orchestration(name=\"real estate 08\", path=\"../orchestration/real-estate-orchestration.zip\")\n",
    "\n",
    "while orchestration.status() != 'ready':\n",
    "    print(orchestration.status())\n",
    "    time.sleep(5)"
   ]
  },
  {
   "cell_type": "markdown",
   "metadata": {},
   "source": [
    "## List Orchestrations\n",
    "\n",
    "Orchestrations are listed with the Wallaroo Client `list_orchestrations()` method.  Orchestrations can be retrieved to a variable by allocated their position in the array - for example:  `orchestration = wl.list_orchestrations()[0]` would return the first orchestration on the list.\n",
    "\n",
    "### List Orchestrations Exercise\n",
    "\n",
    "List all of the orchestrations in your Wallaroo instance.  For example, if your client is saved to `wl`, here's some code that would work.\n",
    "\n",
    "```python\n",
    "wl.list_orchestrations()\n",
    "```"
   ]
  },
  {
   "cell_type": "code",
   "execution_count": 26,
   "metadata": {},
   "outputs": [
    {
     "data": {
      "text/html": [
       "<table><tr><th>id</th><th>name</th><th>status</th><th>filename</th><th>sha</th><th>created at</th><th>updated at</th></tr><tr><td>41d4db24-b2b7-40df-b88b-3f124d9fc2fd</td><td>real estate 05</td><td>packaging</td><td>real-estate-orchestration.zip</td><td>61464c...fa7ae6</td><td>2023-13-Sep 16:58:47</td><td>2023-13-Sep 16:59:00</td></tr><tr><td>fa97c393-f1e8-4343-a117-f9afef0a1e56</td><td>real estate 06</td><td>packaging</td><td>real-estate-orchestration.zip</td><td>61464c...fa7ae6</td><td>2023-13-Sep 17:10:45</td><td>2023-13-Sep 17:10:57</td></tr><tr><td>cafb577e-e9a0-46cd-bcca-0b2a345a7b1b</td><td>real estate 07</td><td>ready</td><td>real-estate-orchestration.zip</td><td>dbc14b...ed866b</td><td>2023-13-Sep 17:32:50</td><td>2023-13-Sep 17:33:39</td></tr><tr><td>2f606e70-89bf-49b2-9ab0-c9720f1cca0a</td><td>real estate 08</td><td>ready</td><td>real-estate-orchestration.zip</td><td>fcc312...7f6437</td><td>2023-13-Sep 17:36:06</td><td>2023-13-Sep 17:36:54</td></tr></table>"
      ],
      "text/plain": [
       "[<wallaroo.orchestration.Orchestration at 0x10800af40>,\n",
       " <wallaroo.orchestration.Orchestration at 0x179f6bd30>,\n",
       " <wallaroo.orchestration.Orchestration at 0x179f6b4f0>,\n",
       " <wallaroo.orchestration.Orchestration at 0x179f56250>]"
      ]
     },
     "execution_count": 26,
     "metadata": {},
     "output_type": "execute_result"
    }
   ],
   "source": [
    "# list orchestration here\n",
    "\n",
    "wl.list_orchestrations()"
   ]
  },
  {
   "cell_type": "markdown",
   "metadata": {},
   "source": [
    "## Retrieve Orchestration from List\n",
    "\n",
    "The command `wallaroo.client.list_orchestrations()` returns a List of orchestrations.  We can assign any of the orchestrations in the list to a variable, then use that for other commands.\n",
    "\n",
    "## Retrieve Orchestration from List Exercise\n",
    "\n",
    "Use the `list_orchestrations` command and store the orchestration we just uploaded.\n",
    "\n",
    "Here's some sample code to get you started that stores the last orchestration in the list to the variable `orchestration_from_list`.\n",
    "\n",
    "```python\n",
    "orchestration_from_list = wl.list_orchestrations()[-1]\n",
    "```"
   ]
  },
  {
   "cell_type": "code",
   "execution_count": 27,
   "metadata": {},
   "outputs": [
    {
     "data": {
      "text/html": [
       "\n",
       "        <table>\n",
       "          <tr>\n",
       "            <th>Field</th>\n",
       "            <th>Value</th>\n",
       "          </tr>\n",
       "          <tr>\n",
       "            <td>ID</td><td>2f606e70-89bf-49b2-9ab0-c9720f1cca0a</td>\n",
       "          </tr>\n",
       "          <tr>\n",
       "            <td>Name</td><td>real estate 08</td>\n",
       "          </tr>\n",
       "          <tr>\n",
       "            <td>File Name</td><td>real-estate-orchestration.zip</td>\n",
       "          </tr>\n",
       "          <tr>\n",
       "            <td>SHA</td><td>fcc3128857650ffa52b53b4463e0508181c2a036390607377b436b49317f6437</td>\n",
       "          </tr>\n",
       "          <tr>\n",
       "            <td>Status</td><td>ready</td>\n",
       "          </tr>\n",
       "          <tr>\n",
       "            <td>Created At</td><td>2023-13-Sep 17:36:06</td>\n",
       "          </tr>\n",
       "          <tr>\n",
       "            <td>Updated At</td><td>2023-13-Sep 17:36:54</td>\n",
       "          </tr>\n",
       "        </table>\n",
       "        "
      ],
      "text/plain": [
       "<wallaroo.orchestration.Orchestration at 0x17a89ba00>"
      ]
     },
     "execution_count": 27,
     "metadata": {},
     "output_type": "execute_result"
    }
   ],
   "source": [
    "# retrieve the orchestration from the list\n",
    "\n",
    "orchestration_from_list = wl.list_orchestrations()[-1]\n",
    "orchestration_from_list"
   ]
  },
  {
   "cell_type": "markdown",
   "metadata": {},
   "source": [
    "## Create Run Once Task from Orchestration\n",
    "\n",
    "The orchestration is now ready to be implemented as a Wallaroo Task.  We'll just run it once as an example.  This specific Orchestration that creates the Task assumes that the pipeline is deployed, and accepts the arguments:\n",
    "\n",
    "* workspace_name\n",
    "* pipeline_name\n",
    "\n",
    "Tasks are either Run Once, or Run Scheduled.  We create a new task from the Orchestration with either `run_once(task_name, json_args, timeout)` or with `run_scheduled(name, timeout,schedule,json_args)`.  The schedule is based on the Kubernetes cron scheduler.  For example:\n",
    "\n",
    "```python\n",
    "schedule={'42 * * * *'}\n",
    "```\n",
    "\n",
    "Runs every 42 minutes and contains the answer to life, the universe, and everything.\n",
    "\n",
    "Creating a scheduled task might be:\n",
    "\n",
    "```python\n",
    "task_scheduled = orchestration.run_scheduled(name=\"schedule example\", \n",
    "                                             timeout=600, \n",
    "                                             schedule=schedule, \n",
    "                                             json_args={\"workspace_name\": workspace_name, \n",
    "                                                        \"pipeline_name\": pipeline_name})\n",
    "```\n",
    "\n",
    "\n",
    "### Create Run Once Task from Orchestration Exercise\n",
    "\n",
    "Using the uploaded orchestration, create a Run Once task using your workspace and pipeline names as the `json_args`.  Here's an example using the variables set above.\n",
    "\n",
    "```python\n",
    "task = orchestration.run_once(name=\"real estate task\", \n",
    "                              json_args={\"workspace_name\":workspace_name,\n",
    "                                         \"pipeline_name\":pipeline_name}\n",
    "                              )\n",
    "```"
   ]
  },
  {
   "cell_type": "code",
   "execution_count": 28,
   "metadata": {},
   "outputs": [],
   "source": [
    "# create your task here\n",
    "\n",
    "task = orchestration.run_once(name=\"real estate task\", \n",
    "                              json_args={\"workspace_name\":workspace_name,\n",
    "                                         \"pipeline_name\":pipeline_name}\n",
    "                              )"
   ]
  },
  {
   "cell_type": "markdown",
   "metadata": {},
   "source": [
    "## Monitor Task Run with Task Status\n",
    "\n",
    "The Task is the **schedule** to execute the instructions within the orchestration.  The actual execution of the task is the **task run**.  A Run Once task will create one Task Run, while a Run Scheduled task will generate a new Task Run each time the schedule pattern is set.\n",
    "\n",
    "The status task is viewed with the task `status()` command, where it is either `pending` (no tasks runs are generated yet), or `started` (a task run has been started).\n",
    "\n",
    "## Monitor Task Run with Task Status Example\n",
    "\n",
    "We'll monitor the run first with it's status with the `Task.status()` command.\n",
    "\n",
    "Get the status of the task, and once it is `started` proceed to the next step.  Try doing it as a `while` loop if you feel confident.  Here's some sample code where the task was saved to the variable `task`.\n",
    "\n",
    "```python\n",
    "task.status\n",
    "```\n",
    "\n",
    "Or as a loop pausing ever 5 seconds until the task status is `started`.\n",
    "\n",
    "```python\n",
    "while task.status() != \"started\":\n",
    "    display(task.status())\n",
    "    time.sleep(5)\n",
    "```\n"
   ]
  },
  {
   "cell_type": "code",
   "execution_count": 29,
   "metadata": {},
   "outputs": [
    {
     "data": {
      "text/plain": [
       "'pending'"
      ]
     },
     "metadata": {},
     "output_type": "display_data"
    }
   ],
   "source": [
    "while task.status() != \"started\":\n",
    "    display(task.status())\n",
    "    time.sleep(5)"
   ]
  },
  {
   "cell_type": "markdown",
   "metadata": {},
   "source": [
    "## List Tasks\n",
    "\n",
    "The Wallaroo client `list_tasks` method returns a list of tasks, and shows the the last task run status.\n",
    "\n",
    "### List Tasks Exercise\n",
    "\n",
    "List the tasks in your Wallaroo instance.  For example, if your Wallaroo client is stored as `wl`, this would show your tasks.\n",
    "\n",
    "```python\n",
    "wl.list_tasks()\n",
    "```"
   ]
  },
  {
   "cell_type": "code",
   "execution_count": 30,
   "metadata": {},
   "outputs": [
    {
     "data": {
      "text/html": [
       "<table><tr><th>id</th><th>name</th><th>last run status</th><th>type</th><th>active</th><th>schedule</th><th>created at</th><th>updated at</th></tr><tr><td>8f003301-bb5f-47b9-854f-cb58452a3ad8</td><td>real estate task</td><td>running</td><td>Temporary Run</td><td>True</td><td>-</td><td>2023-13-Sep 17:37:00</td><td>2023-13-Sep 17:37:05</td></tr><tr><td>3a385e94-7532-40ef-bab8-b4ae5ff59f48</td><td>real estate task</td><td>failure</td><td>Temporary Run</td><td>True</td><td>-</td><td>2023-13-Sep 17:33:58</td><td>2023-13-Sep 17:34:08</td></tr></table>"
      ],
      "text/plain": [
       "[<wallaroo.task.Task at 0x17bad0eb0>, <wallaroo.task.Task at 0x17bad0070>]"
      ]
     },
     "execution_count": 30,
     "metadata": {},
     "output_type": "execute_result"
    }
   ],
   "source": [
    "# empty space to list tasks\n",
    "\n",
    "wl.list_tasks()"
   ]
  },
  {
   "cell_type": "markdown",
   "metadata": {},
   "source": [
    "## Display Task Run Results\n",
    "\n",
    "The Task Run is the implementation of the task - the actual running of the script and it's results.  Tasks that are Run Once will only have one Task Run, while a Task set to Run Scheduled will have a Task Run for each time the task is executed.  Each Task Run has its own set of logs and results that are monitored through the Task Run `logs()` method.\n",
    "\n",
    "First, get the Task Run - this is the actual execution of a Task.  The Task is the **scheduled** run of an Orchestration.  The Task Run is the **implementation** of a scheduled Task.  A Run Once Task while generate one Task Run, while a Scheduled Task generated a new Task Run every time the schedule pattern is met until the Task is killed.\n",
    "\n",
    "We retrieve the task runs with the Task `last_runs()` method, and assign a single Task Run to a variable by selecting it with the list with `last_runs()[index]`.  If you only have one Task Run from a Task, then you can just set the `index` to 0.\n",
    "\n",
    "### Display Task Run Results Exercise\n",
    "\n",
    "Retrieve the task run for our generated task, then start checking the logs for our task run.  It may take longer than 30 seconds to launch the task, so be prepared to the command multiple times until is it displayed.  Store the task into a variable for later use.\n",
    "\n",
    "Here's a code sample where the task was saved to the variable `task`.\n",
    "\n",
    "```python\n",
    "task_run = task.last_runs()[0]\n",
    "task_run\n",
    "```\n",
    "\n"
   ]
  },
  {
   "cell_type": "code",
   "execution_count": 32,
   "metadata": {},
   "outputs": [
    {
     "data": {
      "text/html": [
       "\n",
       "            <table>\n",
       "              <tr><th>Field</th><th>Value</th></tr>\n",
       "              <tr><td>Task</td><td>8f003301-bb5f-47b9-854f-cb58452a3ad8</td></tr>\n",
       "              <tr><td>Pod ID</td><td>903379c3-1ec7-43d2-9b70-1c2cbff296b3</td></tr>\n",
       "              <tr><td>Status</td><td>running</td></tr>\n",
       "              <tr><td>Created At</td><td>2023-13-Sep 17:37:03</td></tr>\n",
       "              <tr><td>Updated At</td><td>2023-13-Sep 17:37:03</td></tr>\n",
       "            </table>\n",
       "            "
      ],
      "text/plain": [
       "<wallaroo.task_run.TaskRun at 0x17bad2d00>"
      ]
     },
     "execution_count": 32,
     "metadata": {},
     "output_type": "execute_result"
    }
   ],
   "source": [
    "task_run = task.last_runs()[0]\n",
    "task_run"
   ]
  },
  {
   "cell_type": "markdown",
   "metadata": {},
   "source": [
    "The Task Run Status is checked with the `_status` method.  This lets you know if there was a failure or if it ran successfully.  If it didn't, you can still get the task run logs to find out why."
   ]
  },
  {
   "cell_type": "code",
   "execution_count": 38,
   "metadata": {},
   "outputs": [
    {
     "data": {
      "text/plain": [
       "'running'"
      ]
     },
     "execution_count": 38,
     "metadata": {},
     "output_type": "execute_result"
    }
   ],
   "source": [
    "task_run._status"
   ]
  },
  {
   "cell_type": "markdown",
   "metadata": {},
   "source": [
    "## Retrieve Task Run Logs\n",
    "\n",
    "The Task Run logs are retrieved with the Wallaroo task runs `log()`, and shows the outputs of the results.  This is why it's useful to have `print` commands in your code to track what it's doing.\n",
    "\n",
    "### Retrieve Task Run Logs Exercise\n",
    "\n",
    "Take the task run and display the logs.  It may take a few minutes for the logs to show up, so you may need to refresh the code below a few times.  Here's a quick example of some code.\n",
    "\n",
    "```python\n",
    "task_run.logs()\n",
    "```"
   ]
  },
  {
   "cell_type": "code",
   "execution_count": 39,
   "metadata": {},
   "outputs": [
    {
     "data": {
      "text/html": [
       "<pre><code>2023-13-Sep 17:37:08 Workspace: workshop-workspace-john-05\n",
       "2023-13-Sep 17:37:08 {'name': 'workshop-workspace-john-05', 'id': 261, 'archived': False, 'created_by': 'd1704c38-2016-4b1d-9407-85e7e6875e6d', 'created_at': '2023-09-11T21:37:02.871776+00:00', 'models': [{'name': 'house-price-prime', 'versions': 1, 'owner_id': '\"\"', 'last_update_time': datetime.datetime(2023, 9, 11, 21, 40, 27, 608874, tzinfo=tzutc()), 'created_at': datetime.datetime(2023, 9, 11, 21, 40, 27, 608874, tzinfo=tzutc())}], 'pipelines': [{'name': 'houseprice-estimator', 'create_time': datetime.datetime(2023, 9, 11, 21, 40, 29, 871251, tzinfo=tzutc()), 'definition': '[]'}]}\n",
       "2023-13-Sep 17:37:08 Pipeline: houseprice-estimator\n",
       "2023-13-Sep 17:37:08 {'status': 'Running', 'details': [], 'engines': [{'ip': '10.244.5.202', 'name': 'engine-6b947cf755-gdz8g', 'status': 'Running', 'reason': None, 'details': [], 'pipeline_statuses': {'pipelines': [{'id': 'houseprice-estimator', 'status': 'Running'}]}, 'model_statuses': {'models': [{'name': 'house-price-prime', 'version': 'f42b66d3-ed47-4571-910c-5e7184b2b4ad', 'sha': '31e92d6ccb27b041a324a7ac22cf95d9d6cc3aa7e8263a229f7c4aec4938657c', 'status': 'Running'}]}}], 'engine_lbs': [{'ip': '10.244.5.203', 'name': 'engine-lb-584f54c899-25gl5', 'status': 'Running', 'reason': None, 'details': []}], 'sidekicks': []}\n",
       "2023-13-Sep 17:37:08 {'name': 'houseprice-estimator', 'create_time': datetime.datetime(2023, 9, 11, 21, 40, 29, 871251, tzinfo=tzutc()), 'definition': '[]'}\n",
       "2023-13-Sep 17:37:08                         time  ... check_failures\n",
       "2023-13-Sep 17:37:08 0    2023-09-13 17:37:08.739  ...              0\n",
       "2023-13-Sep 17:37:08 1    2023-09-13 17:37:08.739  ...              0\n",
       "2023-13-Sep 17:37:08 2    2023-09-13 17:37:08.739  ...              0\n",
       "2023-13-Sep 17:37:08 ...                      ...  ...            ...\n",
       "2023-13-Sep 17:37:08 4    2023-09-13 17:37:08.739  ...              0\n",
       "2023-13-Sep 17:37:08 3    2023-09-13 17:37:08.739  ...              0\n",
       "2023-13-Sep 17:37:08 3996 2023-09-13 17:37:08.739  ...              0\n",
       "2023-13-Sep 17:37:08 3995 2023-09-13 17:37:08.739  ...              0\n",
       "2023-13-Sep 17:37:08 3997 2023-09-13 17:37:08.739  ...              0\n",
       "2023-13-Sep 17:37:08 3998 2023-09-13 17:37:08.739  ...              0\n",
       "2023-13-Sep 17:37:08 3999 2023-09-13 17:37:08.739  ...              0\n",
       "2023-13-Sep 17:37:08 [4000 rows x 4 columns]\n",
       "2023-13-Sep 17:37:08 </code></pre>"
      ],
      "text/plain": [
       "['2023-09-13T17:37:08.903073474Z stdout F Workspace: workshop-workspace-john-05',\n",
       " '2023-09-13T17:37:08.903137975Z stdout F {\\'name\\': \\'workshop-workspace-john-05\\', \\'id\\': 261, \\'archived\\': False, \\'created_by\\': \\'d1704c38-2016-4b1d-9407-85e7e6875e6d\\', \\'created_at\\': \\'2023-09-11T21:37:02.871776+00:00\\', \\'models\\': [{\\'name\\': \\'house-price-prime\\', \\'versions\\': 1, \\'owner_id\\': \\'\"\"\\', \\'last_update_time\\': datetime.datetime(2023, 9, 11, 21, 40, 27, 608874, tzinfo=tzutc()), \\'created_at\\': datetime.datetime(2023, 9, 11, 21, 40, 27, 608874, tzinfo=tzutc())}], \\'pipelines\\': [{\\'name\\': \\'houseprice-estimator\\', \\'create_time\\': datetime.datetime(2023, 9, 11, 21, 40, 29, 871251, tzinfo=tzutc()), \\'definition\\': \\'[]\\'}]}',\n",
       " '2023-09-13T17:37:08.903152675Z stdout F Pipeline: houseprice-estimator',\n",
       " \"2023-09-13T17:37:08.903164475Z stdout F {'status': 'Running', 'details': [], 'engines': [{'ip': '10.244.5.202', 'name': 'engine-6b947cf755-gdz8g', 'status': 'Running', 'reason': None, 'details': [], 'pipeline_statuses': {'pipelines': [{'id': 'houseprice-estimator', 'status': 'Running'}]}, 'model_statuses': {'models': [{'name': 'house-price-prime', 'version': 'f42b66d3-ed47-4571-910c-5e7184b2b4ad', 'sha': '31e92d6ccb27b041a324a7ac22cf95d9d6cc3aa7e8263a229f7c4aec4938657c', 'status': 'Running'}]}}], 'engine_lbs': [{'ip': '10.244.5.203', 'name': 'engine-lb-584f54c899-25gl5', 'status': 'Running', 'reason': None, 'details': []}], 'sidekicks': []}\",\n",
       " \"2023-09-13T17:37:08.903159675Z stdout F {'name': 'houseprice-estimator', 'create_time': datetime.datetime(2023, 9, 11, 21, 40, 29, 871251, tzinfo=tzutc()), 'definition': '[]'}\",\n",
       " '2023-09-13T17:37:08.903174175Z stdout F                         time  ... check_failures',\n",
       " '2023-09-13T17:37:08.903180775Z stdout F 0    2023-09-13 17:37:08.739  ...              0',\n",
       " '2023-09-13T17:37:08.903187075Z stdout F 1    2023-09-13 17:37:08.739  ...              0',\n",
       " '2023-09-13T17:37:08.903194076Z stdout F 2    2023-09-13 17:37:08.739  ...              0',\n",
       " '2023-09-13T17:37:08.903210976Z stdout F ...                      ...  ...            ...',\n",
       " '2023-09-13T17:37:08.903206576Z stdout F 4    2023-09-13 17:37:08.739  ...              0',\n",
       " '2023-09-13T17:37:08.903201176Z stdout F 3    2023-09-13 17:37:08.739  ...              0',\n",
       " '2023-09-13T17:37:08.903219476Z stdout F 3996 2023-09-13 17:37:08.739  ...              0',\n",
       " '2023-09-13T17:37:08.903215076Z stdout F 3995 2023-09-13 17:37:08.739  ...              0',\n",
       " '2023-09-13T17:37:08.903223676Z stdout F 3997 2023-09-13 17:37:08.739  ...              0',\n",
       " '2023-09-13T17:37:08.903227776Z stdout F 3998 2023-09-13 17:37:08.739  ...              0',\n",
       " '2023-09-13T17:37:08.903231776Z stdout F 3999 2023-09-13 17:37:08.739  ...              0',\n",
       " '2023-09-13T17:37:08.903240976Z stdout F [4000 rows x 4 columns]',\n",
       " '2023-09-13T17:37:08.903236076Z stdout F ']"
      ]
     },
     "execution_count": 39,
     "metadata": {},
     "output_type": "execute_result"
    }
   ],
   "source": [
    "task_run.logs()"
   ]
  },
  {
   "cell_type": "markdown",
   "metadata": {},
   "source": [
    "You have now walked through setting up a basic assay and running it over historical data.\n",
    "\n",
    "## Congratulations!\n",
    "In this workshop you have\n",
    "* Deployed a single step house price prediction pipeline and sent data to it.\n",
    "* Uploaded an ML Orchestration into Wallaroo.\n",
    "* Created a Run Once Task from the Orchestration.\n",
    "* Viewed the Task Run's status generated from the Task.\n",
    "* Viewed the Task Run's logs.\n",
    "\n",
    "Great job! \n",
    "\n",
    "### Cleaning up.\n",
    "\n",
    "Now that the workshop is complete, don't forget to undeploy your pipeline to free up the resources."
   ]
  },
  {
   "cell_type": "code",
   "execution_count": 40,
   "metadata": {},
   "outputs": [
    {
     "data": {
      "text/html": [
       "<table><tr><th>name</th> <td>houseprice-estimator</td></tr><tr><th>created</th> <td>2023-09-11 21:40:29.871251+00:00</td></tr><tr><th>last_updated</th> <td>2023-09-13 17:32:43.282786+00:00</td></tr><tr><th>deployed</th> <td>False</td></tr><tr><th>tags</th> <td></td></tr><tr><th>versions</th> <td>9d80efd3-ba4b-409e-88e9-e0605db336e3, aa8b92a2-a2b9-4197-9fbd-63ad84e48e52, 4d3230a4-32be-4f47-90b5-d8d3b90cc2a9, 6f788da6-17ee-4df6-b120-354737212559, 7ae39ec3-1486-4bd7-9fa5-6874ee79f245, 11dd78db-9461-4ec0-9003-29538d4c242d, 8ca7a6bf-6529-434f-a3f6-bbc3bcc255d9</td></tr><tr><th>steps</th> <td>house-price-prime</td></tr></table>"
      ],
      "text/plain": [
       "{'name': 'houseprice-estimator', 'create_time': datetime.datetime(2023, 9, 11, 21, 40, 29, 871251, tzinfo=tzutc()), 'definition': \"[{'ModelInference': {'models': [{'name': 'house-price-prime', 'version': 'f42b66d3-ed47-4571-910c-5e7184b2b4ad', 'sha': '31e92d6ccb27b041a324a7ac22cf95d9d6cc3aa7e8263a229f7c4aec4938657c'}]}}]\"}"
      ]
     },
     "execution_count": 40,
     "metadata": {},
     "output_type": "execute_result"
    }
   ],
   "source": [
    "pipeline.undeploy()"
   ]
  }
 ],
 "metadata": {
  "kernelspec": {
   "display_name": "Python 3 (ipykernel)",
   "language": "python",
   "name": "python3"
  },
  "language_info": {
   "codemirror_mode": {
    "name": "ipython",
    "version": 3
   },
   "file_extension": ".py",
   "mimetype": "text/x-python",
   "name": "python",
   "nbconvert_exporter": "python",
   "pygments_lexer": "ipython3",
   "version": "3.9.13"
  },
  "vscode": {
   "interpreter": {
    "hash": "7dda4bf3640b7fafcd1648658b879b4cc9f6ba6084e8fb356fdaaa1a461d1690"
   }
  }
 },
 "nbformat": 4,
 "nbformat_minor": 4
}
