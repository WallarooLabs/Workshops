{
 "cells": [
  {
   "cell_type": "markdown",
   "id": "842531aa-4f9f-41fc-884e-8bce107a19ee",
   "metadata": {},
   "source": [
    "# Workshop Notebook 7: Deploy Pipeline to Edge Devices\n",
    "\n",
    "For this workshop, we will take a Wallaroo pipeline and publish it to an Open Container (OCI) Registry.  The registry details are stored in the Wallaroo instance as the Edge Registry.  \n",
    "\n",
    "In this set of exercises, you will:\n",
    "\n",
    "1. Use a pre-trained model and deploy it to Wallaroo.\n",
    "1. Perform sample inferences.\n",
    "1. Publish the pipeline to the Edge Registry.\n",
    "1. See the steps to deploy the published pipeline to an Edge device and perform inferences through it.\n",
    "\n",
    "Deployment to the Edge allows data scientists to work in Wallaroo to test their models in Wallaroo, then once satisfied with the results publish those pipelines.  DevOps engineers then take those published pipeline details from the Edge registry and deploy them into Docker and Kubernetes environments.\n",
    "\n",
    "This workshop will demonstrate the following concepts:\n",
    "\n",
    "* [Wallaroo Workspaces](https://docs.wallaroo.ai/wallaroo-developer-guides/wallaroo-sdk-guides/wallaroo-sdk-essentials-guide/wallaroo-sdk-essentials-workspace/):  Workspaces are environments were users upload models, create pipelines and other artifacts.  The workspace should be considered the fundamental area where work is done.  Workspaces are shared with other users to give them access to the same models, pipelines, etc.\n",
    "* [Wallaroo Model Upload and Registration](https://docs.wallaroo.ai/wallaroo-developer-guides/wallaroo-sdk-guides/wallaroo-sdk-essentials-guide/wallaroo-sdk-model-uploads/): ML Models are uploaded to Wallaroo through the SDK or the MLOps API to a **workspace**.  ML models include default runtimes (ONNX, Python Step, and TensorFlow) that are run directly through the Wallaroo engine, and containerized runtimes (Hugging Face, PyTorch, etc) that are run through in a container through the Wallaroo engine.\n",
    "* [Wallaroo Pipelines](https://docs.wallaroo.ai/wallaroo-developer-guides/wallaroo-sdk-guides/wallaroo-sdk-essentials-guide/wallaroo-sdk-essentials-pipelines/): Pipelines are used to deploy models for inferencing.  Each model is a **pipeline step** in a pipelines, where the inputs of the previous step are fed into the next.  Pipeline steps can be ML models, Python scripts, or Arbitrary Python (these contain necessary models and artifacts for running a model).\n",
    "* [Pipeline Edge Publication](https://docs.wallaroo.ai/20230300/wallaroo-developer-guides/wallaroo-sdk-guides/wallaroo-sdk-essentials-guide/wallaroo-sdk-essentials-pipelines/wallaroo-sdk-essentials-pipeline-publication/): How to publish a Wallaroo pipeline to an OCI registry, then deploy that pipeline into other environments.\n",
    "\n",
    "For this tutorial, we will be providing pre-trained models in ONNX format, and have connected a sample Edge Registry to our Wallaroo instance.\n",
    "\n",
    "For more Wallaroo procedures, see the [Wallaroo Documentation site](https://docs.wallaroo.ai)."
   ]
  },
  {
   "cell_type": "markdown",
   "id": "1d1390c8",
   "metadata": {},
   "source": [
    "## Preliminaries\n",
    "\n",
    "In the blocks below we will preload some required libraries.\n",
    "\n",
    "For convenience, the following `helper functions` are defined to retrieve previously created workspaces, models, and pipelines:\n",
    "\n",
    "* `get_workspace(name, client)`: This takes in the name and the Wallaroo client being used in this session, and returns the workspace matching `name`.  If no workspaces are found matching the name, raises a `KeyError` and returns `None`.\n",
    "* `get_model_version(model_name, workspace)`: Retrieves the most recent model version from the model matching the `model_name` within the provided `workspace`.  If no model matches that name, raises a `KeyError` and returns `None`.\n",
    "* `get_pipeline(pipeline_name, workspace)`: Retrieves the most pipeline from the workspace matching the `pipeline_name` within the provided `workspace`.  If no model matches that name, raises a `KeyError` and returns `None`."
   ]
  },
  {
   "cell_type": "code",
   "execution_count": 1,
   "id": "bb03a96b-3d13-4d5e-9aee-99913d9a37ab",
   "metadata": {},
   "outputs": [],
   "source": [
    "import json\n",
    "import os\n",
    "import datetime\n",
    "\n",
    "import wallaroo\n",
    "from wallaroo.object import EntityNotFoundError\n",
    "from wallaroo.framework import Framework\n",
    "\n",
    "# used to display dataframe information without truncating\n",
    "from IPython.display import display\n",
    "import pandas as pd\n",
    "import numpy as np\n",
    "\n",
    "pd.set_option('display.max_colwidth', None)\n",
    "\n",
    "import time\n",
    "import pyarrow as pa"
   ]
  },
  {
   "cell_type": "markdown",
   "id": "a74c5788-1b13-44b5-9f2c-82fdc531df78",
   "metadata": {},
   "source": [
    "### Connect to the Wallaroo Instance\n",
    "\n",
    "The first step is to connect to Wallaroo through the Wallaroo client.  The Python library is included in the Wallaroo install and available through the Jupyter Hub interface provided with your Wallaroo environment.\n",
    "\n",
    "This is accomplished using the `wallaroo.Client()` command, which provides a URL to grant the SDK permission to your specific Wallaroo environment.  When displayed, enter the URL into a browser and confirm permissions.  Store the connection into a variable that can be referenced later.\n",
    "\n",
    "If logging into the Wallaroo instance through the internal JupyterHub service, use `wl = wallaroo.Client()`.  For more information on Wallaroo Client settings, see the [Client Connection guide](https://docs.wallaroo.ai/wallaroo-developer-guides/wallaroo-sdk-guides/wallaroo-sdk-essentials-guide/wallaroo-sdk-essentials-client/)."
   ]
  },
  {
   "cell_type": "code",
   "execution_count": 2,
   "id": "5f89932e",
   "metadata": {},
   "outputs": [],
   "source": [
    "## blank space to log in \n",
    "\n",
    "wl = wallaroo.Client()"
   ]
  },
  {
   "cell_type": "markdown",
   "id": "abf1e30d",
   "metadata": {},
   "source": [
    "### Set Configurations\n",
    "\n",
    "Set the workspace, pipeline, and model used from Notebook 1.  The helper functions will make this task easier.\n",
    "\n",
    "#### Set Configurations References\n",
    "\n",
    "* [Wallaroo SDK Essentials Guide: Workspace Management](https://docs.wallaroo.ai/wallaroo-developer-guides/wallaroo-sdk-guides/wallaroo-sdk-essentials-guide/wallaroo-sdk-essentials-workspace/)\n",
    "* [Wallaroo SDK Essentials Guide: Pipeline Management](https://docs.wallaroo.ai/wallaroo-developer-guides/wallaroo-sdk-guides/wallaroo-sdk-essentials-guide/wallaroo-sdk-essentials-pipelines/wallaroo-sdk-essentials-pipeline/)"
   ]
  },
  {
   "cell_type": "code",
   "execution_count": 3,
   "id": "8192998c",
   "metadata": {},
   "outputs": [
    {
     "data": {
      "text/plain": [
       "{'name': 'workshop-workspace-john-05', 'id': 11, 'archived': False, 'created_by': '76b893ff-5c30-4f01-bd9e-9579a20fc4ea', 'created_at': '2024-04-22T20:33:29.332164+00:00', 'models': [{'name': 'house-price-prime', 'versions': 2, 'owner_id': '\"\"', 'last_update_time': datetime.datetime(2024, 4, 22, 20, 47, 17, 816549, tzinfo=tzutc()), 'created_at': datetime.datetime(2024, 4, 22, 20, 34, 37, 434083, tzinfo=tzutc())}, {'name': 'house-price-rf-model', 'versions': 1, 'owner_id': '\"\"', 'last_update_time': datetime.datetime(2024, 4, 22, 20, 53, 36, 195788, tzinfo=tzutc()), 'created_at': datetime.datetime(2024, 4, 22, 20, 53, 36, 195788, tzinfo=tzutc())}, {'name': 'house-price-gbr-model', 'versions': 1, 'owner_id': '\"\"', 'last_update_time': datetime.datetime(2024, 4, 22, 20, 53, 39, 543410, tzinfo=tzutc()), 'created_at': datetime.datetime(2024, 4, 22, 20, 53, 39, 543410, tzinfo=tzutc())}], 'pipelines': [{'name': 'houseprice-estimator', 'create_time': datetime.datetime(2024, 4, 22, 20, 34, 49, 559433, tzinfo=tzutc()), 'definition': '[]'}]}"
      ]
     },
     "metadata": {},
     "output_type": "display_data"
    },
    {
     "data": {
      "text/html": [
       "<table>\n",
       "        <tr>\n",
       "          <td>Name</td>\n",
       "          <td>house-price-prime</td>\n",
       "        </tr>\n",
       "        <tr>\n",
       "          <td>Version</td>\n",
       "          <td>be93bbfc-4f0c-444d-aa89-5f15dec01d83</td>\n",
       "        </tr>\n",
       "        <tr>\n",
       "          <td>File Name</td>\n",
       "          <td>xgb_model.onnx</td>\n",
       "        </tr>\n",
       "        <tr>\n",
       "          <td>SHA</td>\n",
       "          <td>31e92d6ccb27b041a324a7ac22cf95d9d6cc3aa7e8263a229f7c4aec4938657c</td>\n",
       "        </tr>\n",
       "        <tr>\n",
       "          <td>Status</td>\n",
       "          <td>ready</td>\n",
       "        </tr>\n",
       "        <tr>\n",
       "          <td>Image Path</td>\n",
       "          <td>None</td>\n",
       "        </tr>\n",
       "        <tr>\n",
       "          <td>Architecture</td>\n",
       "          <td>x86</td>\n",
       "        </tr>\n",
       "        <tr>\n",
       "          <td>Acceleration</td>\n",
       "          <td>none</td>\n",
       "        </tr>\n",
       "        <tr>\n",
       "          <td>Updated At</td>\n",
       "          <td>2024-22-Apr 20:47:17</td>\n",
       "        </tr>\n",
       "      </table>"
      ],
      "text/plain": [
       "{'name': 'house-price-prime', 'version': 'be93bbfc-4f0c-444d-aa89-5f15dec01d83', 'file_name': 'xgb_model.onnx', 'image_path': None, 'arch': 'x86', 'accel': 'none', 'last_update_time': datetime.datetime(2024, 4, 22, 20, 47, 17, 816549, tzinfo=tzutc())}"
      ]
     },
     "metadata": {},
     "output_type": "display_data"
    },
    {
     "data": {
      "text/html": [
       "<table><tr><th>name</th> <td>houseprice-estimator</td></tr><tr><th>created</th> <td>2024-04-22 20:34:49.559433+00:00</td></tr><tr><th>last_updated</th> <td>2024-04-24 16:18:40.930021+00:00</td></tr><tr><th>deployed</th> <td>False</td></tr><tr><th>arch</th> <td>x86</td></tr><tr><th>accel</th> <td>none</td></tr><tr><th>tags</th> <td></td></tr><tr><th>versions</th> <td>eb94fe18-363a-498d-bd36-943289f0f74d, 4d4fdba1-dc5d-4c08-9375-e08ce8738730, b68ae767-dd6b-4f09-a196-a96d2cdaefb1, 3eedd163-bd54-4bde-943e-3f8b32a1f47c, 957ea8c5-d5c0-4629-82fb-fde09cf06958, e6fc1ebc-1a8f-48d2-9709-41c6820d6158, d0517194-4275-4684-860b-b35d64efba0a, 95cf17b2-19b1-40b6-82a5-d50b7f78094d, fad60d26-5f2f-467b-82ab-b97e60cfae2a, 71d8ae65-6b5e-422e-9d91-90fed507f74a, d80ef023-a703-4822-910d-b84f8d20174d, b99c6d8c-1d57-49ce-9690-07fa8f6988db, fbdf00f2-104e-41c6-9df7-86127bd2322e, 1ba316a5-6523-47f1-9e44-ec4c30e5710a</td></tr><tr><th>steps</th> <td>house-price-prime</td></tr><tr><th>published</th> <td>False</td></tr></table>"
      ],
      "text/plain": [
       "{'name': 'houseprice-estimator', 'create_time': datetime.datetime(2024, 4, 22, 20, 34, 49, 559433, tzinfo=tzutc()), 'definition': '[]'}"
      ]
     },
     "metadata": {},
     "output_type": "display_data"
    }
   ],
   "source": [
    "# retrieve the previous workspace, model, and pipeline version\n",
    "\n",
    "workspace_name = \"workshop-workspace-john-05\"\n",
    "\n",
    "workspace = wl.get_workspace(name=workspace_name)\n",
    "\n",
    "# set your current workspace to the workspace that you just created\n",
    "wl.set_current_workspace(workspace)\n",
    "\n",
    "# optionally, examine your current workspace\n",
    "wl.get_current_workspace()\n",
    "\n",
    "model_name = 'house-price-prime'\n",
    "\n",
    "prime_model_version = wl.get_model(model_name)\n",
    "\n",
    "pipeline_name = 'houseprice-estimator'\n",
    "\n",
    "pipeline = wl.get_pipeline(pipeline_name)\n",
    "\n",
    "display(workspace)\n",
    "display(prime_model_version)\n",
    "display(pipeline)\n"
   ]
  },
  {
   "cell_type": "markdown",
   "id": "e27e9fc3",
   "metadata": {},
   "source": [
    "## Deploy the Pipeline with the Model Version Step\n",
    "\n",
    "As per the other workshops:\n",
    "\n",
    "1. Clear the pipeline of all steps.\n",
    "1. Add the model version as a pipeline step.\n",
    "1. Deploy the pipeline with the following deployment configuration:\n",
    "\n",
    "```python\n",
    "deploy_config = wallaroo.DeploymentConfigBuilder().replica_count(1).cpus(0.5).memory(\"1Gi\").build()\n",
    "```"
   ]
  },
  {
   "cell_type": "code",
   "execution_count": 4,
   "id": "3727ad65",
   "metadata": {},
   "outputs": [
    {
     "data": {
      "text/html": [
       "<table><tr><th>name</th> <td>houseprice-estimator</td></tr><tr><th>created</th> <td>2024-04-22 20:34:49.559433+00:00</td></tr><tr><th>last_updated</th> <td>2024-04-24 16:26:01.820203+00:00</td></tr><tr><th>deployed</th> <td>True</td></tr><tr><th>arch</th> <td>x86</td></tr><tr><th>accel</th> <td>none</td></tr><tr><th>tags</th> <td></td></tr><tr><th>versions</th> <td>6912f5f1-6fbe-4795-8cec-033d97291a18, eb94fe18-363a-498d-bd36-943289f0f74d, 4d4fdba1-dc5d-4c08-9375-e08ce8738730, b68ae767-dd6b-4f09-a196-a96d2cdaefb1, 3eedd163-bd54-4bde-943e-3f8b32a1f47c, 957ea8c5-d5c0-4629-82fb-fde09cf06958, e6fc1ebc-1a8f-48d2-9709-41c6820d6158, d0517194-4275-4684-860b-b35d64efba0a, 95cf17b2-19b1-40b6-82a5-d50b7f78094d, fad60d26-5f2f-467b-82ab-b97e60cfae2a, 71d8ae65-6b5e-422e-9d91-90fed507f74a, d80ef023-a703-4822-910d-b84f8d20174d, b99c6d8c-1d57-49ce-9690-07fa8f6988db, fbdf00f2-104e-41c6-9df7-86127bd2322e, 1ba316a5-6523-47f1-9e44-ec4c30e5710a</td></tr><tr><th>steps</th> <td>house-price-prime</td></tr><tr><th>published</th> <td>False</td></tr></table>"
      ],
      "text/plain": [
       "{'name': 'houseprice-estimator', 'create_time': datetime.datetime(2024, 4, 22, 20, 34, 49, 559433, tzinfo=tzutc()), 'definition': \"[{'ModelInference': {'models': [{'name': 'house-price-prime', 'version': 'be93bbfc-4f0c-444d-aa89-5f15dec01d83', 'sha': '31e92d6ccb27b041a324a7ac22cf95d9d6cc3aa7e8263a229f7c4aec4938657c'}]}}]\"}"
      ]
     },
     "execution_count": 4,
     "metadata": {},
     "output_type": "execute_result"
    }
   ],
   "source": [
    "deploy_config = wallaroo.DeploymentConfigBuilder().replica_count(1).cpus(0.5).memory(\"1Gi\").build()\n",
    "pipeline.deploy(deployment_config=deploy_config)"
   ]
  },
  {
   "cell_type": "markdown",
   "id": "824c932d",
   "metadata": {},
   "source": [
    "### Sample Inference\n",
    "\n",
    "Verify the pipeline is deployed properly with a sample inference with the file `./data/test_data.df.json`."
   ]
  },
  {
   "cell_type": "code",
   "execution_count": 5,
   "id": "bcb9cc81",
   "metadata": {},
   "outputs": [
    {
     "data": {
      "text/html": [
       "<div>\n",
       "<style scoped>\n",
       "    .dataframe tbody tr th:only-of-type {\n",
       "        vertical-align: middle;\n",
       "    }\n",
       "\n",
       "    .dataframe tbody tr th {\n",
       "        vertical-align: top;\n",
       "    }\n",
       "\n",
       "    .dataframe thead th {\n",
       "        text-align: right;\n",
       "    }\n",
       "</style>\n",
       "<table border=\"1\" class=\"dataframe\">\n",
       "  <thead>\n",
       "    <tr style=\"text-align: right;\">\n",
       "      <th></th>\n",
       "      <th>time</th>\n",
       "      <th>in.tensor</th>\n",
       "      <th>out.variable</th>\n",
       "      <th>anomaly.count</th>\n",
       "    </tr>\n",
       "  </thead>\n",
       "  <tbody>\n",
       "    <tr>\n",
       "      <th>0</th>\n",
       "      <td>2024-04-24 16:26:24.873</td>\n",
       "      <td>[4.0, 2.5, 2900.0, 5505.0, 2.0, 0.0, 0.0, 3.0, 8.0, 2900.0, 0.0, 47.6063, -122.02, 2970.0, 5251.0, 12.0, 0.0, 0.0]</td>\n",
       "      <td>[659806.0]</td>\n",
       "      <td>0</td>\n",
       "    </tr>\n",
       "    <tr>\n",
       "      <th>1</th>\n",
       "      <td>2024-04-24 16:26:24.873</td>\n",
       "      <td>[2.0, 2.5, 2170.0, 6361.0, 1.0, 0.0, 2.0, 3.0, 8.0, 2170.0, 0.0, 47.7109, -122.017, 2310.0, 7419.0, 6.0, 0.0, 0.0]</td>\n",
       "      <td>[732883.5]</td>\n",
       "      <td>0</td>\n",
       "    </tr>\n",
       "    <tr>\n",
       "      <th>2</th>\n",
       "      <td>2024-04-24 16:26:24.873</td>\n",
       "      <td>[3.0, 2.5, 1300.0, 812.0, 2.0, 0.0, 0.0, 3.0, 8.0, 880.0, 420.0, 47.5893, -122.317, 1300.0, 824.0, 6.0, 0.0, 0.0]</td>\n",
       "      <td>[419508.84]</td>\n",
       "      <td>0</td>\n",
       "    </tr>\n",
       "    <tr>\n",
       "      <th>3</th>\n",
       "      <td>2024-04-24 16:26:24.873</td>\n",
       "      <td>[4.0, 2.5, 2500.0, 8540.0, 2.0, 0.0, 0.0, 3.0, 9.0, 2500.0, 0.0, 47.5759, -121.994, 2560.0, 8475.0, 24.0, 0.0, 0.0]</td>\n",
       "      <td>[634028.75]</td>\n",
       "      <td>0</td>\n",
       "    </tr>\n",
       "    <tr>\n",
       "      <th>4</th>\n",
       "      <td>2024-04-24 16:26:24.873</td>\n",
       "      <td>[3.0, 1.75, 2200.0, 11520.0, 1.0, 0.0, 0.0, 4.0, 7.0, 2200.0, 0.0, 47.7659, -122.341, 1690.0, 8038.0, 62.0, 0.0, 0.0]</td>\n",
       "      <td>[427209.47]</td>\n",
       "      <td>0</td>\n",
       "    </tr>\n",
       "    <tr>\n",
       "      <th>...</th>\n",
       "      <td>...</td>\n",
       "      <td>...</td>\n",
       "      <td>...</td>\n",
       "      <td>...</td>\n",
       "    </tr>\n",
       "    <tr>\n",
       "      <th>3995</th>\n",
       "      <td>2024-04-24 16:26:24.873</td>\n",
       "      <td>[4.0, 2.25, 2620.0, 98881.0, 1.0, 0.0, 0.0, 3.0, 7.0, 1820.0, 800.0, 47.4662, -122.453, 1728.0, 95832.0, 63.0, 0.0, 0.0]</td>\n",
       "      <td>[436151.13]</td>\n",
       "      <td>0</td>\n",
       "    </tr>\n",
       "    <tr>\n",
       "      <th>3996</th>\n",
       "      <td>2024-04-24 16:26:24.873</td>\n",
       "      <td>[3.0, 2.5, 2244.0, 4079.0, 2.0, 0.0, 0.0, 3.0, 7.0, 2244.0, 0.0, 47.2606, -122.254, 2077.0, 4078.0, 3.0, 0.0, 0.0]</td>\n",
       "      <td>[284810.7]</td>\n",
       "      <td>0</td>\n",
       "    </tr>\n",
       "    <tr>\n",
       "      <th>3997</th>\n",
       "      <td>2024-04-24 16:26:24.873</td>\n",
       "      <td>[3.0, 1.75, 1490.0, 5000.0, 1.0, 0.0, 1.0, 3.0, 8.0, 1250.0, 240.0, 47.5257, -122.392, 1980.0, 5000.0, 61.0, 0.0, 0.0]</td>\n",
       "      <td>[575571.44]</td>\n",
       "      <td>0</td>\n",
       "    </tr>\n",
       "    <tr>\n",
       "      <th>3998</th>\n",
       "      <td>2024-04-24 16:26:24.873</td>\n",
       "      <td>[4.0, 2.5, 2740.0, 5700.0, 2.0, 0.0, 0.0, 3.0, 9.0, 2740.0, 0.0, 47.3535, -122.026, 3010.0, 5281.0, 8.0, 0.0, 0.0]</td>\n",
       "      <td>[432262.38]</td>\n",
       "      <td>0</td>\n",
       "    </tr>\n",
       "    <tr>\n",
       "      <th>3999</th>\n",
       "      <td>2024-04-24 16:26:24.873</td>\n",
       "      <td>[5.0, 2.5, 2240.0, 7770.0, 1.0, 0.0, 0.0, 3.0, 7.0, 1340.0, 900.0, 47.7198, -122.171, 1820.0, 7770.0, 36.0, 0.0, 0.0]</td>\n",
       "      <td>[445873.13]</td>\n",
       "      <td>0</td>\n",
       "    </tr>\n",
       "  </tbody>\n",
       "</table>\n",
       "<p>4000 rows × 4 columns</p>\n",
       "</div>"
      ],
      "text/plain": [
       "                        time  \\\n",
       "0    2024-04-24 16:26:24.873   \n",
       "1    2024-04-24 16:26:24.873   \n",
       "2    2024-04-24 16:26:24.873   \n",
       "3    2024-04-24 16:26:24.873   \n",
       "4    2024-04-24 16:26:24.873   \n",
       "...                      ...   \n",
       "3995 2024-04-24 16:26:24.873   \n",
       "3996 2024-04-24 16:26:24.873   \n",
       "3997 2024-04-24 16:26:24.873   \n",
       "3998 2024-04-24 16:26:24.873   \n",
       "3999 2024-04-24 16:26:24.873   \n",
       "\n",
       "                                                                                                                     in.tensor  \\\n",
       "0           [4.0, 2.5, 2900.0, 5505.0, 2.0, 0.0, 0.0, 3.0, 8.0, 2900.0, 0.0, 47.6063, -122.02, 2970.0, 5251.0, 12.0, 0.0, 0.0]   \n",
       "1           [2.0, 2.5, 2170.0, 6361.0, 1.0, 0.0, 2.0, 3.0, 8.0, 2170.0, 0.0, 47.7109, -122.017, 2310.0, 7419.0, 6.0, 0.0, 0.0]   \n",
       "2            [3.0, 2.5, 1300.0, 812.0, 2.0, 0.0, 0.0, 3.0, 8.0, 880.0, 420.0, 47.5893, -122.317, 1300.0, 824.0, 6.0, 0.0, 0.0]   \n",
       "3          [4.0, 2.5, 2500.0, 8540.0, 2.0, 0.0, 0.0, 3.0, 9.0, 2500.0, 0.0, 47.5759, -121.994, 2560.0, 8475.0, 24.0, 0.0, 0.0]   \n",
       "4        [3.0, 1.75, 2200.0, 11520.0, 1.0, 0.0, 0.0, 4.0, 7.0, 2200.0, 0.0, 47.7659, -122.341, 1690.0, 8038.0, 62.0, 0.0, 0.0]   \n",
       "...                                                                                                                        ...   \n",
       "3995  [4.0, 2.25, 2620.0, 98881.0, 1.0, 0.0, 0.0, 3.0, 7.0, 1820.0, 800.0, 47.4662, -122.453, 1728.0, 95832.0, 63.0, 0.0, 0.0]   \n",
       "3996        [3.0, 2.5, 2244.0, 4079.0, 2.0, 0.0, 0.0, 3.0, 7.0, 2244.0, 0.0, 47.2606, -122.254, 2077.0, 4078.0, 3.0, 0.0, 0.0]   \n",
       "3997    [3.0, 1.75, 1490.0, 5000.0, 1.0, 0.0, 1.0, 3.0, 8.0, 1250.0, 240.0, 47.5257, -122.392, 1980.0, 5000.0, 61.0, 0.0, 0.0]   \n",
       "3998        [4.0, 2.5, 2740.0, 5700.0, 2.0, 0.0, 0.0, 3.0, 9.0, 2740.0, 0.0, 47.3535, -122.026, 3010.0, 5281.0, 8.0, 0.0, 0.0]   \n",
       "3999     [5.0, 2.5, 2240.0, 7770.0, 1.0, 0.0, 0.0, 3.0, 7.0, 1340.0, 900.0, 47.7198, -122.171, 1820.0, 7770.0, 36.0, 0.0, 0.0]   \n",
       "\n",
       "     out.variable  anomaly.count  \n",
       "0      [659806.0]              0  \n",
       "1      [732883.5]              0  \n",
       "2     [419508.84]              0  \n",
       "3     [634028.75]              0  \n",
       "4     [427209.47]              0  \n",
       "...           ...            ...  \n",
       "3995  [436151.13]              0  \n",
       "3996   [284810.7]              0  \n",
       "3997  [575571.44]              0  \n",
       "3998  [432262.38]              0  \n",
       "3999  [445873.13]              0  \n",
       "\n",
       "[4000 rows x 4 columns]"
      ]
     },
     "execution_count": 5,
     "metadata": {},
     "output_type": "execute_result"
    }
   ],
   "source": [
    "# sample inference from previous code here\n",
    "\n",
    "pipeline.infer_from_file('../data/test_data.df.json')"
   ]
  },
  {
   "cell_type": "markdown",
   "id": "3d8cfeaa-acae-4c99-bd81-c9164945943e",
   "metadata": {},
   "source": [
    "## Undeploying Your Pipeline\n",
    "\n",
    "You should always undeploy your pipelines when you are done with them, or don't need them for a while. This releases the resources that the pipeline is using for other processes to use. You can always redeploy the pipeline when you need it again. As a reminder, here are the commands to deploy and undeploy a pipeline:\n",
    "\n",
    "```python\n",
    "\n",
    "# \"turn off\" the pipeline and releaase its resources\n",
    "my_pipeline.undeploy()\n",
    "```"
   ]
  },
  {
   "cell_type": "code",
   "execution_count": 7,
   "id": "b44a754b",
   "metadata": {},
   "outputs": [
    {
     "data": {
      "text/html": [
       "<table><tr><th>name</th> <td>houseprice-estimator</td></tr><tr><th>created</th> <td>2024-04-22 20:34:49.559433+00:00</td></tr><tr><th>last_updated</th> <td>2024-04-24 16:26:01.820203+00:00</td></tr><tr><th>deployed</th> <td>False</td></tr><tr><th>arch</th> <td>x86</td></tr><tr><th>accel</th> <td>none</td></tr><tr><th>tags</th> <td></td></tr><tr><th>versions</th> <td>6912f5f1-6fbe-4795-8cec-033d97291a18, eb94fe18-363a-498d-bd36-943289f0f74d, 4d4fdba1-dc5d-4c08-9375-e08ce8738730, b68ae767-dd6b-4f09-a196-a96d2cdaefb1, 3eedd163-bd54-4bde-943e-3f8b32a1f47c, 957ea8c5-d5c0-4629-82fb-fde09cf06958, e6fc1ebc-1a8f-48d2-9709-41c6820d6158, d0517194-4275-4684-860b-b35d64efba0a, 95cf17b2-19b1-40b6-82a5-d50b7f78094d, fad60d26-5f2f-467b-82ab-b97e60cfae2a, 71d8ae65-6b5e-422e-9d91-90fed507f74a, d80ef023-a703-4822-910d-b84f8d20174d, b99c6d8c-1d57-49ce-9690-07fa8f6988db, fbdf00f2-104e-41c6-9df7-86127bd2322e, 1ba316a5-6523-47f1-9e44-ec4c30e5710a</td></tr><tr><th>steps</th> <td>house-price-prime</td></tr><tr><th>published</th> <td>False</td></tr></table>"
      ],
      "text/plain": [
       "{'name': 'houseprice-estimator', 'create_time': datetime.datetime(2024, 4, 22, 20, 34, 49, 559433, tzinfo=tzutc()), 'definition': \"[{'ModelInference': {'models': [{'name': 'house-price-prime', 'version': 'be93bbfc-4f0c-444d-aa89-5f15dec01d83', 'sha': '31e92d6ccb27b041a324a7ac22cf95d9d6cc3aa7e8263a229f7c4aec4938657c'}]}}]\"}"
      ]
     },
     "execution_count": 7,
     "metadata": {},
     "output_type": "execute_result"
    }
   ],
   "source": [
    "# blank space to undeploy the pipeline\n",
    "pipeline.undeploy()"
   ]
  },
  {
   "cell_type": "markdown",
   "id": "aad9ceb5",
   "metadata": {},
   "source": [
    "## Publish the Pipeline for Edge Deployment\n",
    "\n",
    "It worked! For a demo, we'll take working once as \"tested\". So now that we've tested our pipeline, we are ready to publish it for edge deployment.\n",
    "\n",
    "Publishing it means assembling all of the configuration files and model assets and pushing them to an Open Container Initiative (OCI) repository set in the Wallaroo instance as the Edge Registry service.  DevOps engineers then retrieve that image and deploy it through Docker, Kubernetes, or similar deployments.\n",
    "\n",
    "See [Edge Deployment Registry Guide](https://docs.wallaroo.ai/wallaroo-operations-guide/wallaroo-configuration/wallaroo-edge-deployment/) for details on adding an OCI Registry Service to Wallaroo as the Edge Deployment Registry.\n",
    "\n",
    "This is done through the SDK command `wallaroo.pipeline.publish(deployment_config)` which has the following parameters and returns.\n",
    "\n",
    "#### Publish a Pipeline Parameters\n",
    "\n",
    "The `publish` method takes the following parameters.  The containerized pipeline will be pushed to the Edge registry service with the model, pipeline configurations, and other artifacts needed to deploy the pipeline.\n",
    "\n",
    "| Parameter | Type | Description |\n",
    "|---|---|---|\n",
    "| `deployment_config` | `wallaroo.deployment_config.DeploymentConfig` (*Optional*) | Sets the pipeline deployment configuration.  For example:    For more information on pipeline deployment configuration, see the [Wallaroo SDK Essentials Guide: Pipeline Deployment Configuration](https://docs.wallaroo.ai/wallaroo-developer-guides/wallaroo-sdk-guides/wallaroo-sdk-essentials-guide/wallaroo-sdk-essentials-pipelines/wallaroo-sdk-essentials-pipeline-deployment-config/).\n",
    "\n",
    "#### Publish a Pipeline Returns\n",
    "\n",
    "| Field | Type | Description |\n",
    "|---|---|---|\n",
    "| id | integer | Numerical Wallaroo id of the published pipeline. |\n",
    "| pipeline version id | integer | Numerical Wallaroo id of the pipeline version published. |\n",
    "| status | string | The status of the pipeline publication.  Values include:  <ul><li>PendingPublish: The pipeline publication is about to be uploaded or is in the process of being uploaded.</li><li>Published:  The pipeline is published and ready for use.</li></ul> |\n",
    "| Engine URL | string | The URL of the published pipeline engine in the edge registry. |\n",
    "| Pipeline URL | string | The URL of the published pipeline in the edge registry. |\n",
    "| Helm Chart URL | string | The URL of the helm chart for the published pipeline in the edge registry. |\n",
    "| Helm Chart Reference | string | The help chart reference. |\n",
    "| Helm Chart Version | string | The version of the Helm Chart of the published pipeline.  This is also used as the Docker tag. |\n",
    "| Engine Config | `wallaroo.deployment_config.DeploymentConfig` | The pipeline configuration included with the published pipeline. |\n",
    "| Created At | DateTime | When the published pipeline was created. |\n",
    "| Updated At | DateTime | When the published pipeline was updated. |\n",
    "\n",
    "### Publish the Pipeline for Edge Deployment Exercise\n",
    "\n",
    "We will now publish the pipeline to our Edge Deployment Registry with the `pipeline.publish(deployment_config)` command.  `deployment_config` is an optional field that specifies the pipeline deployment.  This can be overridden by the DevOps engineer during deployment.\n",
    "\n",
    "In this example, assuming that the pipeline was saved to the variable `my_pipeline`, we would publish it to the Edge Registry already stored in the Wallaroo instance and store the pipeline publish to the variable `my_pub` with the following command:\n",
    "\n",
    "```python\n",
    "my_pub=pipeline.publish(deploy_config)\n",
    "# display the publish\n",
    "my_pub\n",
    "```\n"
   ]
  },
  {
   "cell_type": "code",
   "execution_count": 8,
   "id": "574281a8-9d8b-4588-b82a-acd3dcf37bdc",
   "metadata": {},
   "outputs": [
    {
     "name": "stdout",
     "output_type": "stream",
     "text": [
      "Waiting for pipeline publish... It may take up to 600 sec.\n",
      "Pipeline is publishing...... Published.\n"
     ]
    },
    {
     "data": {
      "text/html": [
       "\n",
       "          <table>\n",
       "              <tr><td>ID</td><td>18</td></tr>\n",
       "              <tr><td>Pipeline Name</td><td>houseprice-estimator</td></tr>\n",
       "              <tr><td>Pipeline Version</td><td>42cb257d-3d21-4b71-9645-74919b4c862f</td></tr>\n",
       "              <tr><td>Status</td><td>Published</td></tr>\n",
       "              <tr><td>Engine URL</td><td><a href='https://ghcr.io/wallaroolabs/doc-samples/engines/proxy/wallaroo/ghcr.io/wallaroolabs/fitzroy-mini:v2024.1.0-main-4963'>ghcr.io/wallaroolabs/doc-samples/engines/proxy/wallaroo/ghcr.io/wallaroolabs/fitzroy-mini:v2024.1.0-main-4963</a></td></tr>\n",
       "              <tr><td>Pipeline URL</td><td><a href='https://ghcr.io/wallaroolabs/doc-samples/pipelines/houseprice-estimator:42cb257d-3d21-4b71-9645-74919b4c862f'>ghcr.io/wallaroolabs/doc-samples/pipelines/houseprice-estimator:42cb257d-3d21-4b71-9645-74919b4c862f</a></td></tr>\n",
       "              <tr><td>Helm Chart URL</td><td>oci://<a href='https://ghcr.io/wallaroolabs/doc-samples/charts/houseprice-estimator'>ghcr.io/wallaroolabs/doc-samples/charts/houseprice-estimator</a></td></tr>\n",
       "              <tr><td>Helm Chart Reference</td><td>ghcr.io/wallaroolabs/doc-samples/charts@sha256:19dd28fb102d068af5f3bfaff3c3b149ee18ff900bb064d50447fa2a1e78996a</td></tr>\n",
       "              <tr><td>Helm Chart Version</td><td>0.0.1-42cb257d-3d21-4b71-9645-74919b4c862f</td></tr>\n",
       "              <tr><td>Engine Config</td><td>{'engine': {'resources': {'limits': {'cpu': 1.0, 'memory': '512Mi'}, 'requests': {'cpu': 1.0, 'memory': '512Mi'}, 'accel': 'none', 'arch': 'x86', 'gpu': False}}, 'engineAux': {'autoscale': {'type': 'none'}, 'images': {}}}</td></tr>\n",
       "              <tr><td>User Images</td><td>[]</td></tr>\n",
       "              <tr><td>Created By</td><td>john.hummel@wallaroo.ai</td></tr>\n",
       "              <tr><td>Created At</td><td>2024-04-24 16:27:58.227199+00:00</td></tr>\n",
       "              <tr><td>Updated At</td><td>2024-04-24 16:27:58.227199+00:00</td></tr>\n",
       "              <tr><td>Replaces</td><td></td></tr>\n",
       "              <tr>\n",
       "                  <td>Docker Run Command</td>\n",
       "                  <td>\n",
       "                      <table><tr><td>\n",
       "<pre style=\"text-align: left\">docker run \\\n",
       "    -p $EDGE_PORT:8080 \\\n",
       "    -e OCI_USERNAME=$OCI_USERNAME \\\n",
       "    -e OCI_PASSWORD=$OCI_PASSWORD \\\n",
       "    -e PIPELINE_URL=ghcr.io/wallaroolabs/doc-samples/pipelines/houseprice-estimator:42cb257d-3d21-4b71-9645-74919b4c862f \\\n",
       "    -e CONFIG_CPUS=1 ghcr.io/wallaroolabs/doc-samples/engines/proxy/wallaroo/ghcr.io/wallaroolabs/fitzroy-mini:v2024.1.0-main-4963</pre></td></tr></table>\n",
       "                      <br />\n",
       "                      <i>\n",
       "                          Note: Please set the <code>EDGE_PORT</code>, <code>OCI_USERNAME</code>, and <code>OCI_PASSWORD</code> environment variables.\n",
       "                      </i>\n",
       "                  </td>\n",
       "              </tr>\n",
       "              <tr>\n",
       "                  <td>Helm Install Command</td>\n",
       "                  <td>\n",
       "                      <table><tr><td>\n",
       "<pre style=\"text-align: left\">helm install --atomic $HELM_INSTALL_NAME \\\n",
       "    oci://ghcr.io/wallaroolabs/doc-samples/charts/houseprice-estimator \\\n",
       "    --namespace $HELM_INSTALL_NAMESPACE \\\n",
       "    --version 0.0.1-42cb257d-3d21-4b71-9645-74919b4c862f \\\n",
       "    --set ociRegistry.username=$OCI_USERNAME \\\n",
       "    --set ociRegistry.password=$OCI_PASSWORD</pre></td></tr></table>\n",
       "                      <br />\n",
       "                      <i>\n",
       "                          Note: Please set the <code>HELM_INSTALL_NAME</code>, <code>HELM_INSTALL_NAMESPACE</code>,\n",
       "                          <code>OCI_USERNAME</code>, and <code>OCI_PASSWORD</code> environment variables.\n",
       "                      </i>\n",
       "                  </td>\n",
       "              </tr>\n",
       "              \n",
       "          </table>\n",
       "        "
      ],
      "text/plain": [
       "PipelinePublish(created_at=datetime.datetime(2024, 4, 24, 16, 27, 58, 227199, tzinfo=tzutc()), docker_run_variables={'PIPELINE_URL': 'ghcr.io/wallaroolabs/doc-samples/pipelines/houseprice-estimator:42cb257d-3d21-4b71-9645-74919b4c862f'}, engine_config={'engine': {'resources': {'limits': {'cpu': 1.0, 'memory': '512Mi'}, 'requests': {'cpu': 1.0, 'memory': '512Mi'}, 'accel': 'none', 'arch': 'x86', 'gpu': False}}, 'engineAux': {'autoscale': {'type': 'none'}, 'images': {}}}, id=18, pipeline_name='houseprice-estimator', pipeline_version_id=67, replaces=[], status='Published', updated_at=datetime.datetime(2024, 4, 24, 16, 27, 58, 227199, tzinfo=tzutc()), user_images=[], created_by='76b893ff-5c30-4f01-bd9e-9579a20fc4ea', created_on_version='2024.1.0', edge_bundles=<wallaroo.wallaroo_ml_ops_api_client.types.Unset object at 0x127b227f0>, engine_url='ghcr.io/wallaroolabs/doc-samples/engines/proxy/wallaroo/ghcr.io/wallaroolabs/fitzroy-mini:v2024.1.0-main-4963', error=None, helm={'reference': 'ghcr.io/wallaroolabs/doc-samples/charts@sha256:19dd28fb102d068af5f3bfaff3c3b149ee18ff900bb064d50447fa2a1e78996a', 'values': {}, 'chart': 'ghcr.io/wallaroolabs/doc-samples/charts/houseprice-estimator', 'version': '0.0.1-42cb257d-3d21-4b71-9645-74919b4c862f'}, pipeline_url='ghcr.io/wallaroolabs/doc-samples/pipelines/houseprice-estimator:42cb257d-3d21-4b71-9645-74919b4c862f', pipeline_version_name='42cb257d-3d21-4b71-9645-74919b4c862f', additional_properties={})"
      ]
     },
     "execution_count": 8,
     "metadata": {},
     "output_type": "execute_result"
    }
   ],
   "source": [
    "## blank space to publish the pipeline\n",
    "\n",
    "my_pub=pipeline.publish(deploy_config)\n",
    "# display the publish\n",
    "my_pub\n"
   ]
  },
  {
   "cell_type": "markdown",
   "id": "04131fe1",
   "metadata": {},
   "source": [
    "## List Published Pipelines\n",
    "\n",
    "The method `wallaroo.client.list_pipelines()` shows a list of all pipelines in the Wallaroo instance, and includes the `published` field that indicates whether the pipeline was published to the registry (`True`), or has not yet been published (`False`).\n",
    "\n",
    "### List Published Pipelines Exercise\n",
    "\n",
    "List all pipelines and see which ones are published or not.  For example, if your client was saved to the variable `wl`, then the following will list the pipelines and display which ones are published.\n",
    "\n",
    "```python\n",
    "wl.list_pipelines()\n",
    "```"
   ]
  },
  {
   "cell_type": "code",
   "execution_count": 9,
   "id": "791c656e",
   "metadata": {},
   "outputs": [
    {
     "data": {
      "text/html": [
       "<table><tr><th>name</th><th>created</th><th>last_updated</th><th>deployed</th><th>arch</th><th>tags</th><th>versions</th><th>steps</th><th>published</th></tr><tr><td>edge-low-connection-demonstration</td><td>2024-23-Apr 17:01:22</td><td>2024-23-Apr 17:02:18</td><td>True</td><td>x86</td><td>none</td><td></td><td>226508c6-7205-4847-afe3-3d0f62c73096, b1cecb46-1777-4acf-93dd-c23880651517, fc666068-ede1-4020-b3c3-2e78d675dfbc</td><td>rf-house-price-estimator</td><td>True</td></tr><tr><td>edge-low-connection-demonstration</td><td>2024-23-Apr 16:10:34</td><td>2024-23-Apr 16:54:18</td><td>(unknown)</td><td>None</td><td>None</td><td></td><td>93efec2a-1fe0-4608-b76c-54fbfa6c0ebb, f9fa077e-0f42-48bb-ab41-ab746353af56, 00780a96-db2e-4f8e-b9ed-4d3d9b798054, 92d2062a-30c0-4123-985b-a6c687b727d3, 9989c65a-c662-4c0e-b25d-43bc48787633</td><td></td><td>True</td></tr><tr><td>houseprice-estimator</td><td>2024-22-Apr 20:34:49</td><td>2024-24-Apr 16:27:56</td><td>False</td><td>x86</td><td>none</td><td></td><td>42cb257d-3d21-4b71-9645-74919b4c862f, 6912f5f1-6fbe-4795-8cec-033d97291a18, eb94fe18-363a-498d-bd36-943289f0f74d, 4d4fdba1-dc5d-4c08-9375-e08ce8738730, b68ae767-dd6b-4f09-a196-a96d2cdaefb1, 3eedd163-bd54-4bde-943e-3f8b32a1f47c, 957ea8c5-d5c0-4629-82fb-fde09cf06958, e6fc1ebc-1a8f-48d2-9709-41c6820d6158, d0517194-4275-4684-860b-b35d64efba0a, 95cf17b2-19b1-40b6-82a5-d50b7f78094d, fad60d26-5f2f-467b-82ab-b97e60cfae2a, 71d8ae65-6b5e-422e-9d91-90fed507f74a, d80ef023-a703-4822-910d-b84f8d20174d, b99c6d8c-1d57-49ce-9690-07fa8f6988db, fbdf00f2-104e-41c6-9df7-86127bd2322e, 1ba316a5-6523-47f1-9e44-ec4c30e5710a</td><td>house-price-prime</td><td>True</td></tr><tr><td>edge-pipeline</td><td>2024-22-Apr 18:26:06</td><td>2024-22-Apr 18:38:22</td><td>True</td><td>x86</td><td>none</td><td></td><td>5e5d2584-a767-4145-84ee-c9c75b1f4e68, 3be0c7d7-709c-4399-8289-ec842f81902b, f7376d38-3793-41b4-8a81-2e2b969b37d0, ae8a787b-ccf7-4ed4-b579-319c983cb179, 22e3077a-86ae-4b5a-9e54-fe8090cdf673, 05c45b4d-527b-4d70-971b-b030940f7664</td><td>ccfraud</td><td>True</td></tr><tr><td>edge-pipeline</td><td>2024-22-Apr 18:08:21</td><td>2024-22-Apr 18:17:01</td><td>False</td><td>x86</td><td>none</td><td></td><td>5a85f1c8-2a56-4887-9b1e-13f44968d390, 98795ff5-2e56-465a-9041-77e426d8fd19, 5f492ec9-feb9-497d-933c-8f1018e29d8d, 2e75cba0-12df-45d2-8386-3f8c3e236b0d, e5964f75-ed49-4115-afa0-a9cca6ee50af, c52a053f-8ff8-47f1-aa13-a2c1711ec773, 068e0163-0ec5-4a5f-9ab8-f1939b743142, 0a81ccbe-84aa-4230-a7d2-ab079b6be605, 8975c2ec-ddfa-4cf5-afa4-538a2b3fddfd, 575ed34b-5435-4cf3-80be-99c0f832d83a, ee5783ac-a620-4e3e-885a-ed92718a00ef</td><td>ccfraud-keras</td><td>True</td></tr><tr><td>edge-low-connection-demo</td><td>2024-22-Apr 17:53:56</td><td>2024-23-Apr 15:58:20</td><td>False</td><td>x86</td><td>none</td><td></td><td>05b3a6b8-bfcb-4561-a2ca-a18c28e2932c, 2bfb13a7-8664-4d1b-b7c0-916376ef9f89, 3b19665f-f78c-4583-b27b-15b4a98c8ab2, ef5488c4-6a46-4b64-84eb-665280dc63f5, e9ae4850-fcdb-44f1-a3aa-523632390aef, cc4a10a2-4866-4ed6-a1d8-8b731e7bf8f8, 758d7e59-38c7-4fe7-b9b6-0b94bb902312, 0488841d-02d4-42e6-8b8f-387a5d42cc9d</td><td>rf-house-price-estimator</td><td>True</td></tr><tr><td>edge-pipeline-classification-cybersecurity</td><td>2024-22-Apr 17:04:23</td><td>2024-22-Apr 17:05:19</td><td>False</td><td>x86</td><td>none</td><td></td><td>21d4aa33-3a9a-4e55-9feb-6689eb822b7a, 93ca84ca-9121-4933-b44c-95539fe5c0ee, 3f585deb-71bd-4a0a-b08b-4970d4e60a77</td><td>aloha</td><td>True</td></tr><tr><td>vgg16-clustering-pipeline</td><td>2024-22-Apr 16:17:08</td><td>2024-22-Apr 16:48:01</td><td>False</td><td>x86</td><td>none</td><td></td><td>7a7509d5-c30b-4f33-82ae-49deaf79dbd1, 29d94f80-3c21-44fb-9e71-a5498c3bce3d, 412b8da5-ad4c-417c-9f6e-ad79d71522a4, 4233c4e7-517a-48e8-807a-b626834f45ec, 4ca1d45a-507d-42e2-8038-d608c543681a, a99f0a28-ad9e-4db3-9eea-113bdd9ca1cd, be19886c-3896-47d5-9935-35592f44ad7c</td><td>vgg16-clustering</td><td>True</td></tr><tr><td>new-edge-inline-replacement</td><td>2024-22-Apr 15:43:04</td><td>2024-22-Apr 15:44:46</td><td>False</td><td>x86</td><td>none</td><td></td><td>455a7840-08c3-43bb-b6a6-7535894e6055, 5210e01e-6d0f-4cdc-92ea-d3499bcc42fc, d61fcf2d-95ad-41e7-9e53-50610d9e0419</td><td>gbr-house-price-estimator</td><td>True</td></tr><tr><td>edge-inline-replacement-demon</td><td>2024-22-Apr 15:27:36</td><td>2024-22-Apr 15:40:50</td><td>False</td><td>x86</td><td>none</td><td></td><td>c6a1e945-7de0-4f2c-addb-4f4746114a86, 0ad2e53e-6c00-4949-8bd4-08ae289430d5, 7c702eca-8acf-45e0-bdcd-bbb48a5102e5, 2ef51c5c-bc58-49b3-9ecf-9aa4bb0a0bae, fbc4bf00-d97f-4be1-a47c-85c788dd90d5</td><td>xgb-house-price-estimator</td><td>True</td></tr></table>"
      ],
      "text/plain": [
       "[{'name': 'edge-low-connection-demonstration', 'create_time': datetime.datetime(2024, 4, 23, 17, 1, 22, 48776, tzinfo=tzutc()), 'definition': '[]'},\n",
       " {'name': 'edge-low-connection-demonstration', 'create_time': datetime.datetime(2024, 4, 23, 16, 10, 34, 637751, tzinfo=tzutc()), 'definition': '[]'},\n",
       " {'name': 'houseprice-estimator', 'create_time': datetime.datetime(2024, 4, 22, 20, 34, 49, 559433, tzinfo=tzutc()), 'definition': '[]'},\n",
       " {'name': 'edge-pipeline', 'create_time': datetime.datetime(2024, 4, 22, 18, 26, 6, 294570, tzinfo=tzutc()), 'definition': '[]'},\n",
       " {'name': 'edge-pipeline', 'create_time': datetime.datetime(2024, 4, 22, 18, 8, 21, 762528, tzinfo=tzutc()), 'definition': '[]'},\n",
       " {'name': 'edge-low-connection-demo', 'create_time': datetime.datetime(2024, 4, 22, 17, 53, 56, 176500, tzinfo=tzutc()), 'definition': '[]'},\n",
       " {'name': 'edge-pipeline-classification-cybersecurity', 'create_time': datetime.datetime(2024, 4, 22, 17, 4, 23, 58677, tzinfo=tzutc()), 'definition': '[]'},\n",
       " {'name': 'vgg16-clustering-pipeline', 'create_time': datetime.datetime(2024, 4, 22, 16, 17, 8, 651909, tzinfo=tzutc()), 'definition': '[]'},\n",
       " {'name': 'new-edge-inline-replacement', 'create_time': datetime.datetime(2024, 4, 22, 15, 43, 4, 574641, tzinfo=tzutc()), 'definition': '[]'},\n",
       " {'name': 'edge-inline-replacement-demon', 'create_time': datetime.datetime(2024, 4, 22, 15, 27, 36, 828826, tzinfo=tzutc()), 'definition': '[]'}]"
      ]
     },
     "execution_count": 9,
     "metadata": {},
     "output_type": "execute_result"
    }
   ],
   "source": [
    "# list the pipelines and view which are published\n",
    "\n",
    "wl.list_pipelines()"
   ]
  },
  {
   "cell_type": "markdown",
   "id": "fb75748e",
   "metadata": {},
   "source": [
    "## List Publishes from a Pipeline\n",
    "\n",
    "All publishes created from a pipeline are displayed with the `wallaroo.pipeline.publishes` method.  The `pipeline_version_id` is used to know what version of the pipeline was used in that specific publish.  This allows for pipelines to be updated over time, and newer versions to be sent and tracked to the Edge Deployment Registry service.\n",
    "\n",
    "### List Publishes Parameters\n",
    "\n",
    "N/A\n",
    "\n",
    "### List Publishes Returns\n",
    "\n",
    "A List of the following fields:\n",
    "\n",
    "| Field | Type | Description |\n",
    "|---|---|---|\n",
    "| id | integer | Numerical Wallaroo id of the published pipeline. |\n",
    "| pipeline_version_id | integer | Numerical Wallaroo id of the pipeline version published. |\n",
    "| engine_url | string | The URL of the published pipeline engine in the edge registry. |\n",
    "| pipeline_url | string | The URL of the published pipeline in the edge registry. |\n",
    "| created_by | string | The email address of the user that published the pipeline.\n",
    "| Created At | DateTime | When the published pipeline was created. |\n",
    "| Updated At | DateTime | When the published pipeline was updated. |\n",
    "\n",
    "### List Publishes from a Pipeline Exercise\n",
    "\n",
    "List all of the publishes from our pipeline.  For example, if our pipeline is `my_pipeline`, then we would list all publishes from the pipeline with the following:\n",
    "\n",
    "```python\n",
    "my_pipeline.publishes()\n",
    "```"
   ]
  },
  {
   "cell_type": "code",
   "execution_count": 10,
   "id": "31001c99",
   "metadata": {},
   "outputs": [
    {
     "data": {
      "text/html": [
       "<table><tr><th>id</th><th>pipeline_version_name</th><th>engine_url</th><th>pipeline_url</th><th>created_by</th><th>created_at</th><th>updated_at</th></tr><tr><td>18</td><td>42cb257d-3d21-4b71-9645-74919b4c862f</td><td><a href='https://ghcr.io/wallaroolabs/doc-samples/engines/proxy/wallaroo/ghcr.io/wallaroolabs/fitzroy-mini:v2024.1.0-main-4963'>ghcr.io/wallaroolabs/doc-samples/engines/proxy/wallaroo/ghcr.io/wallaroolabs/fitzroy-mini:v2024.1.0-main-4963</a></td><td><a href='https://ghcr.io/wallaroolabs/doc-samples/pipelines/houseprice-estimator:42cb257d-3d21-4b71-9645-74919b4c862f'>ghcr.io/wallaroolabs/doc-samples/pipelines/houseprice-estimator:42cb257d-3d21-4b71-9645-74919b4c862f</a></td><td>john.hummel@wallaroo.ai</td><td>2024-24-Apr 16:27:58</td><td>2024-24-Apr 16:27:58</td></tr></table>"
      ],
      "text/plain": [
       "[PipelinePublish(created_at=datetime.datetime(2024, 4, 24, 16, 27, 58, 227199, tzinfo=tzutc()), docker_run_variables={}, engine_config={'engine': {'resources': {'limits': {'cpu': 1.0, 'memory': '512Mi'}, 'requests': {'cpu': 1.0, 'memory': '512Mi'}, 'arch': 'x86', 'accel': 'none', 'gpu': False}}, 'engineAux': {'images': {}, 'autoscale': {'type': 'none'}}}, id=18, pipeline_name='houseprice-estimator', pipeline_version_id=67, replaces=[], status='Published', updated_at=datetime.datetime(2024, 4, 24, 16, 27, 58, 227199, tzinfo=tzutc()), user_images=[], created_by='76b893ff-5c30-4f01-bd9e-9579a20fc4ea', created_on_version='2024.1.0', edge_bundles=<wallaroo.wallaroo_ml_ops_api_client.types.Unset object at 0x127b227f0>, engine_url='ghcr.io/wallaroolabs/doc-samples/engines/proxy/wallaroo/ghcr.io/wallaroolabs/fitzroy-mini:v2024.1.0-main-4963', error=None, helm={'reference': 'ghcr.io/wallaroolabs/doc-samples/charts@sha256:19dd28fb102d068af5f3bfaff3c3b149ee18ff900bb064d50447fa2a1e78996a', 'chart': 'ghcr.io/wallaroolabs/doc-samples/charts/houseprice-estimator', 'version': '0.0.1-42cb257d-3d21-4b71-9645-74919b4c862f', 'values': {}}, pipeline_url='ghcr.io/wallaroolabs/doc-samples/pipelines/houseprice-estimator:42cb257d-3d21-4b71-9645-74919b4c862f', pipeline_version_name='42cb257d-3d21-4b71-9645-74919b4c862f', additional_properties={})]"
      ]
     },
     "execution_count": 10,
     "metadata": {},
     "output_type": "execute_result"
    }
   ],
   "source": [
    "pipeline.publishes()"
   ]
  },
  {
   "cell_type": "markdown",
   "id": "94d3669d-b3b4-4747-8ded-e8585f38a6e5",
   "metadata": {},
   "source": [
    "## Congratulations!\n",
    "\n",
    "You have now \n",
    "\n",
    "* Created a workspace and set it as the current workspace.\n",
    "* Uploaded an ONNX model.\n",
    "* Created a Wallaroo pipeline, and set the most recent version of the uploaded model as a pipeline step.\n",
    "* Successfully send data to your pipeline for inference through the SDK and through an API call.\n"
   ]
  },
  {
   "cell_type": "markdown",
   "id": "55ecfb5f",
   "metadata": {},
   "source": [
    "## DevOps - Pipeline Edge Deployment\n",
    "\n",
    "Once a pipeline is deployed to the Edge Registry service, it can be deployed in environments such as Docker, Kubernetes, or similar container running services by a DevOps engineer.  Docker Run and Helm Install templates are provided as part of the pipeline publish display from the Wallaroo SDK."
   ]
  },
  {
   "cell_type": "markdown",
   "id": "44605c62",
   "metadata": {},
   "source": [
    "## Edge Deployed Pipeline API Endpoints\n",
    "\n",
    "Once deployed, we can check the pipelines and models available.  We'll use a `curl` command, but any HTTP based request will work the same way.\n",
    "\n",
    "### Pipelines Endpoints\n",
    "\n",
    "The endpoint `/pipelines` returns:\n",
    "\n",
    "* **id** (*String*):  The name of the pipeline.\n",
    "* **status** (*String*):  The status as either `Running`, or `Error` if there are any issues.\n",
    "\n",
    "For this example, the deployment is made on a machine called `testboy.local`.  Replace this URL with the URL of you edge deployment.\n",
    "\n",
    "#### Pipelines Endpoints Exercise\n",
    "\n",
    "Use the following `curl` command to view the pipeline data.  For example, if the pipeline was deployed on `localhost`, then the command would be:\n",
    "\n",
    "```bash\n",
    "!curl locahost:8080/pipelines\n",
    "```"
   ]
  },
  {
   "cell_type": "code",
   "execution_count": 14,
   "id": "b35de3f3",
   "metadata": {},
   "outputs": [
    {
     "name": "stdout",
     "output_type": "stream",
     "text": [
      "{\"pipelines\":[{\"id\":\"houseprice-estimator\",\"status\":\"Running\"}]}"
     ]
    }
   ],
   "source": [
    "# blank space to run the command - replace testboy.local with the host\n",
    "\n",
    "!curl testboy.local:8080/pipelines"
   ]
  },
  {
   "cell_type": "markdown",
   "id": "7d814f93",
   "metadata": {},
   "source": [
    "### Models Endpoints\n",
    "\n",
    "The endpoint `/models` returns a List of models with the following fields:\n",
    "\n",
    "* **name** (*String*): The model name.\n",
    "* **sha** (*String*): The sha hash value of the ML model.\n",
    "* **status** (*String*):  The status of either Running or Error if there are any issues.\n",
    "* **version** (*String*):  The model version.  This matches the version designation used by Wallaroo to track model versions in UUID format.\n",
    "\n",
    "#### Models Endpoints Exercise\n",
    "\n",
    "Use the following `curl` command to view the models data.  For example, if the pipeline was deployed on `localhost`, then the command would be:\n",
    "\n",
    "```bash\n",
    "!curl locahost:8080/models\n",
    "```"
   ]
  },
  {
   "cell_type": "code",
   "execution_count": 15,
   "id": "c78b877f",
   "metadata": {},
   "outputs": [
    {
     "name": "stdout",
     "output_type": "stream",
     "text": [
      "{\"models\":[{\"name\":\"house-price-prime\",\"sha\":\"31e92d6ccb27b041a324a7ac22cf95d9d6cc3aa7e8263a229f7c4aec4938657c\",\"status\":\"Running\",\"version\":\"e49c245b-be7b-48a6-a6b8-93ac4c1fe69a\"}]}"
     ]
    }
   ],
   "source": [
    "# blank space to run the command - replace testboy.local with the host\n",
    "\n",
    "!curl testboy.local:8080/models"
   ]
  },
  {
   "cell_type": "markdown",
   "id": "edc16183",
   "metadata": {},
   "source": [
    "### Edge Deployed Inference\n",
    "\n",
    "The inference endpoint takes the following pattern:\n",
    "\n",
    "* `/pipelines/{pipeline-name}`:  The `pipeline-name` is the same as returned from the [`/pipelines`](#list-pipelines) endpoint as `id`.\n",
    "\n",
    "Wallaroo inference endpoint URLs accept the following data inputs through the `Content-Type` header:\n",
    "\n",
    "* `Content-Type: application/vnd.apache.arrow.file`: For Apache Arrow tables.\n",
    "* `Content-Type: application/json; format=pandas-records`: For pandas DataFrame in record format.\n",
    "\n",
    "It returns a `application/json; format=pandas-records` - the same pandas record we've been working with.\n",
    "\n",
    "### Edge Deployed Inference Exercise\n",
    "\n",
    "Perform an inference on the deployed pipeline using `curl`.  This command will look like this:\n",
    "\n",
    "```bash\n",
    "!curl -X POST localhost:8080/pipelines/{YOUR PIPELINE NAME} -H \"Content-Type: application/json; format=pandas-records\" --data @../data/singleton.df.json\n",
    "```"
   ]
  },
  {
   "cell_type": "code",
   "execution_count": 16,
   "id": "5bbdbe00",
   "metadata": {},
   "outputs": [
    {
     "name": "stdout",
     "output_type": "stream",
     "text": [
      "[{\"check_failures\":[],\"elapsed\":[120996489,42784927],\"model_name\":\"house-price-prime\",\"model_version\":\"e49c245b-be7b-48a6-a6b8-93ac4c1fe69a\",\"original_data\":null,\"outputs\":[{\"Float\":{\"data\":[2176827.0],\"dim\":[1,1],\"v\":1}}],\"pipeline_name\":\"houseprice-estimator\",\"shadow_data\":{},\"time\":1694628519169}]"
     ]
    }
   ],
   "source": [
    "!curl -X POST testboy.local:8080/pipelines/houseprice-estimator -H \"Content-Type: application/json; format=pandas-records\" --data @../data/singleton.df.json"
   ]
  }
 ],
 "metadata": {
  "kernelspec": {
   "display_name": "wallaroosdk.2024.1",
   "language": "python",
   "name": "wallaroosdk.2024.1"
  },
  "language_info": {
   "codemirror_mode": {
    "name": "ipython",
    "version": 3
   },
   "file_extension": ".py",
   "mimetype": "text/x-python",
   "name": "python",
   "nbconvert_exporter": "python",
   "pygments_lexer": "ipython3",
   "version": "3.8.19"
  }
 },
 "nbformat": 4,
 "nbformat_minor": 5
}
