{
 "cells": [
  {
   "attachments": {},
   "cell_type": "markdown",
   "metadata": {},
   "source": [
    "# Workshop Notebook 5: Automation with Wallaroo Connections\n",
    "\n",
    "Wallaroo Connections are definitions set by MLOps engineers that are used by other Wallaroo users for connection information to a data source.\n",
    "\n",
    "This provides MLOps engineers a method of creating and updating connection information for data stores:  databases, Kafka topics, etc.  Wallaroo Connections are composed of three main parts:\n",
    "\n",
    "* Name:  The unique name of the connection.\n",
    "* Type:  A user defined string that designates the type of connection.  This is used to organize connections.\n",
    "* Details:  Details are a JSON object containing the information needed to make the connection.  This can include data sources, authentication tokens, etc.\n",
    "\n",
    "Wallaroo Connections are only used to store the connection information used by other processes to create and use external connections.  The user still has to provide the libraries and other elements to actually make and use the conneciton.\n",
    "\n",
    "The primary advantage is Wallaroo connections allow scripts and other code to retrieve the connection details directly from their Wallaroo instance, then refer to those connection details.  They don't need to know what those details actually - they can refer to them in their code to make their code more flexible.\n",
    "\n",
    "For this step, we will use a Google BigQuery dataset to retrieve the inference information, predict the next month of sales, then store those predictions into another table.  This will use the Wallaroo Connection feature to create a Connection, assign it to our workspace, then perform our inferences by using the Connection details to connect to the BigQuery dataset and tables.\n",
    "\n",
    "## Prerequisites\n",
    "\n",
    "* A Wallaroo instance version 2023.2.1 or greater.\n",
    "\n",
    "## References\n",
    "\n",
    "* [Wallaroo SDK Essentials Guide: Model Uploads and Registrations: Python Models](https://docs.wallaroo.ai/wallaroo-developer-guides/wallaroo-sdk-guides/wallaroo-sdk-essentials-guide/wallaroo-sdk-model-uploads/wallaroo-sdk-model-upload-python/)\n",
    "* [Wallaroo SDK Essentials Guide: Pipeline Management](https://docs.wallaroo.ai/wallaroo-developer-guides/wallaroo-sdk-guides/wallaroo-sdk-essentials-guide/wallaroo-sdk-essentials-pipelines/wallaroo-sdk-essentials-pipeline/)\n",
    "* [Wallaroo SDK Essentials Guide: Data Connections Management](https://docs.wallaroo.ai/wallaroo-developer-guides/wallaroo-sdk-guides/wallaroo-sdk-essentials-guide/wallaroo-sdk-essentials-dataconnections/)"
   ]
  },
  {
   "attachments": {},
   "cell_type": "markdown",
   "metadata": {},
   "source": [
    "## Statsmodel Forecast Connection Steps\n",
    "\n",
    "### Import Libraries\n",
    "\n",
    "The first step is to import the libraries that we will need."
   ]
  },
  {
   "cell_type": "code",
   "execution_count": null,
   "metadata": {},
   "outputs": [],
   "source": [
    "import json\n",
    "import os\n",
    "import datetime\n",
    "\n",
    "import wallaroo\n",
    "from wallaroo.object import EntityNotFoundError\n",
    "from wallaroo.framework import Framework\n",
    "\n",
    "# used to display dataframe information without truncating\n",
    "from IPython.display import display\n",
    "import pandas as pd\n",
    "import numpy as np\n",
    "\n",
    "pd.set_option('display.max_colwidth', None)\n",
    "\n",
    "import time\n",
    "import pyarrow as pa"
   ]
  },
  {
   "cell_type": "code",
   "execution_count": null,
   "metadata": {},
   "outputs": [],
   "source": [
    "## convenience functions from the previous notebooks\n",
    "## these functions assume your connection to wallaroo is called wl\n",
    "\n",
    "# return the workspace called <name>, or create it if it does not exist.\n",
    "# this function assumes your connection to wallaroo is called wl\n",
    "def get_workspace(name):\n",
    "    workspace = None\n",
    "    for ws in wl.list_workspaces():\n",
    "        if ws.name() == name:\n",
    "            workspace= ws\n",
    "    if(workspace == None):\n",
    "        workspace = wl.create_workspace(name)\n",
    "    return workspace\n",
    "\n",
    "\n",
    "# pull a single datum from a data frame \n",
    "# and convert it to the format the model expects\n",
    "def get_singleton(df, i):\n",
    "    singleton = df.iloc[i,:].to_numpy().tolist()\n",
    "    sdict = {'tensor': [singleton]}\n",
    "    return pd.DataFrame.from_dict(sdict)\n",
    "\n",
    "\n",
    "# pull a batch of data from a data frame\n",
    "# and convert to the format the model expects\n",
    "def get_batch(df, first=0, nrows=1):\n",
    "    last = first + nrows\n",
    "    batch = df.iloc[first:last, :].to_numpy().tolist()\n",
    "    return pd.DataFrame.from_dict({'tensor': batch})\n",
    "\n",
    "# Translated a column from a dataframe into a single array\n",
    "# used for the Statsmodel forecast model\n",
    "\n",
    "def get_singleton_forecast(df, field):\n",
    "    singleton = pd.DataFrame({field: [df[field].values.tolist()]})\n",
    "    return singleton\n",
    "\n",
    "\n",
    "# Get the most recent version of a model in the workspace\n",
    "# Assumes that the most recent version is the first in the list of versions.\n",
    "# wl.get_current_workspace().models() returns a list of models in the current workspace\n",
    "\n",
    "def get_model(mname):\n",
    "    modellist = wl.get_current_workspace().models()\n",
    "    model = [m.versions()[-1] for m in modellist if m.name() == mname]\n",
    "    if len(model) <= 0:\n",
    "        raise KeyError(f\"model {mname} not found in this workspace\")\n",
    "    return model[0]\n",
    "\n",
    "# get a pipeline by name in the workspace\n",
    "def get_pipeline(pname):\n",
    "    plist = wl.get_current_workspace().pipelines()\n",
    "    pipeline = [p for p in plist if p.name() == pname]\n",
    "    if len(pipeline) <= 0:\n",
    "        raise KeyError(f\"pipeline {pname} not found in this workspace\")\n",
    "    return pipeline[0]"
   ]
  },
  {
   "attachments": {},
   "cell_type": "markdown",
   "metadata": {},
   "source": [
    "### Connect to the Wallaroo Instance\n",
    "\n",
    "The first step is to connect to Wallaroo through the Wallaroo client.  The Python library is included in the Wallaroo install and available through the Jupyter Hub interface provided with your Wallaroo environment.\n",
    "\n",
    "This is accomplished using the `wallaroo.Client()` command, which provides a URL to grant the SDK permission to your specific Wallaroo environment.  When displayed, enter the URL into a browser and confirm permissions.  Store the connection into a variable that can be referenced later.\n",
    "\n",
    "If logging into the Wallaroo instance through the internal JupyterHub service, use `wl = wallaroo.Client()`.  For more information on Wallaroo Client settings, see the [Client Connection guide](https://docs.wallaroo.ai/wallaroo-developer-guides/wallaroo-sdk-guides/wallaroo-sdk-essentials-guide/wallaroo-sdk-essentials-client/)."
   ]
  },
  {
   "cell_type": "code",
   "execution_count": null,
   "metadata": {},
   "outputs": [],
   "source": [
    "# Space to login to the Wallaroo instance"
   ]
  },
  {
   "attachments": {},
   "cell_type": "markdown",
   "metadata": {},
   "source": [
    "### Set Configurations\n",
    "\n",
    "The following will set the workspace, model name, and pipeline that will be used for this example.  If the workspace or pipeline already exist, then they will assigned for use in this example.  If they do not exist, they will be created based on the names listed below.\n",
    "\n",
    "Workspace names must be unique.  To allow this tutorial to run in the same Wallaroo instance for multiple users, set the `suffix` variable or share the workspace with other users.\n",
    "\n",
    "#### Set Configurations References\n",
    "\n",
    "* [Wallaroo SDK Essentials Guide: Workspace Management](https://docs.wallaroo.ai/wallaroo-developer-guides/wallaroo-sdk-guides/wallaroo-sdk-essentials-guide/wallaroo-sdk-essentials-workspace/)\n",
    "* [Wallaroo SDK Essentials Guide: Pipeline Management](https://docs.wallaroo.ai/wallaroo-developer-guides/wallaroo-sdk-guides/wallaroo-sdk-essentials-guide/wallaroo-sdk-essentials-pipelines/wallaroo-sdk-essentials-pipeline/)"
   ]
  },
  {
   "cell_type": "code",
   "execution_count": null,
   "metadata": {},
   "outputs": [],
   "source": [
    "# retrieve the workspace, pipeline and model\n"
   ]
  },
  {
   "attachments": {},
   "cell_type": "markdown",
   "metadata": {},
   "source": [
    "### Deploy the Pipeline\n",
    "\n",
    "Let's set the model step to our single model pipeline, and perform a sample inference with our current data."
   ]
  },
  {
   "cell_type": "code",
   "execution_count": null,
   "metadata": {},
   "outputs": [],
   "source": [
    "# Set pipeline step and deploy\n"
   ]
  },
  {
   "cell_type": "code",
   "execution_count": null,
   "metadata": {},
   "outputs": [],
   "source": [
    "# sample inference from previous code here\n"
   ]
  },
  {
   "attachments": {},
   "cell_type": "markdown",
   "metadata": {},
   "source": [
    "### Create the Connection\n",
    "\n",
    "For this demonstration, the connection set to a specific file on a GitHub repository.  The connection details can be anything that can be stored in JSON:  connection URLs, tokens, etc.\n",
    "\n",
    "This connection will set a URL to pull a file from GitHub, then use the file contents to perform an inference.\n",
    "\n",
    "Wallaroo connections are created through the Wallaroo Client `create_connection(name, type, details)` method.  See the [Wallaroo SDK Essentials Guide: Data Connections Management guide](https://docs.wallaroo.ai/wallaroo-developer-guides/wallaroo-sdk-guides/wallaroo-sdk-essentials-guide/wallaroo-sdk-essentials-dataconnections/) for full details.\n",
    "\n",
    "Note that connection names must be unique across the Wallaroo instance - if needed, use random characters at the end to make sure your connection doesn't have the same name as a previously created connection.\n",
    "\n",
    "Here's an example connection used to retrieve the same CSV file used in `./data/test_data.csv`:  https://raw.githubusercontent.com/WallarooLabs/Workshops/main/Linear%20Regression/Real%20Estate/data/test_data.csv"
   ]
  },
  {
   "cell_type": "code",
   "execution_count": null,
   "metadata": {},
   "outputs": [],
   "source": [
    "# set the connection information for other steps\n",
    "# suffix is used to create a unique data connection\n"
   ]
  },
  {
   "cell_type": "markdown",
   "metadata": {},
   "source": [
    "### List Connections\n",
    "\n",
    "Connections for the entire Wallaroo instance are listed with Wallaroo Client `list_connections()` method."
   ]
  },
  {
   "cell_type": "code",
   "execution_count": null,
   "metadata": {},
   "outputs": [],
   "source": [
    "# list the connections here\n"
   ]
  },
  {
   "cell_type": "markdown",
   "metadata": {},
   "source": [
    "### Get Connection by Name\n",
    "\n",
    "To retrieve a previosly created conneciton, we can assign it to a variable with the method Wallaroo `Client.get_connection(connection_name)`.  Then we can display the connection itself.  Notice that when displaying a connection, the `details` section will be hidden, but they are retrieved with `connection.details()`.  Here's an example:\n",
    "\n",
    "```python\n",
    "myconnection = client.get_connection(\"My amazing connection\")\n",
    "display(myconnection)\n",
    "display(myconnection.details()\n",
    "```\n",
    "\n",
    "Use that code to retrieve your new connection."
   ]
  },
  {
   "cell_type": "code",
   "execution_count": null,
   "metadata": {},
   "outputs": [],
   "source": [
    "# get the connection by name\n"
   ]
  },
  {
   "attachments": {},
   "cell_type": "markdown",
   "metadata": {},
   "source": [
    "### Add Connection to Workspace\n",
    "\n",
    "We'll now add the connection to our workspace so it can be retrieved by other workspace users.  The method Workspace `add_connection(connection_name)` adds a Data Connection to a workspace.  The method Workspace `list_connections()` displays a list of connections attached to the workspace."
   ]
  },
  {
   "cell_type": "code",
   "execution_count": null,
   "metadata": {},
   "outputs": [],
   "source": [
    "# Add connection to a workspace and list the workspace connections"
   ]
  },
  {
   "attachments": {},
   "cell_type": "markdown",
   "metadata": {},
   "source": [
    "### Retrieve Connection from Workspace\n",
    "\n",
    "To simulate a data scientist's procedural flow, we'll now retrieve the connection from the workspace.  Specific connections are retrieved by specifying their position in the returned list.\n",
    "\n",
    "For example, if we have two connections in a workspace and we want the second one, we can assign it to a variable with `list_connections[1]`.\n",
    "\n",
    "Create a new variable and retrieve the connection we just assigned to the workspace."
   ]
  },
  {
   "cell_type": "code",
   "execution_count": null,
   "metadata": {},
   "outputs": [],
   "source": [
    "# Retrieve the connection from the workspace with the workspace list_connections method"
   ]
  },
  {
   "attachments": {},
   "cell_type": "markdown",
   "metadata": {},
   "source": [
    "### Run Inference with Connection\n",
    "\n",
    "We'll now retrieve sample data through the Wallaroo connection, and perform a sample inference.  The connection details are retrieved through the Connection `details()` method.  Use them to retrieve the CSV file and convert it to a DataFrame, and use it with our sample model.\n",
    "\n",
    "Or create a new connection with your own data.  Here's some sample code for retrieving a CSV file from a URL.\n",
    "\n",
    "```python\n",
    "response = requests.get('https://myurl.com/csvsample.csv')\n",
    "\n",
    "csv_text = response.text\n",
    "csv_new = csv_text.replace('\\\\n', '\\n')\n",
    "\n",
    "from io import StringIO\n",
    "csvStringIO = StringIO(csv_new)\n",
    "df = pd.read_csv(csvStringIO)\n",
    "```"
   ]
  },
  {
   "cell_type": "code",
   "execution_count": null,
   "metadata": {},
   "outputs": [],
   "source": [
    "# Use the connection details to retrieve the data file and perform an inference from it"
   ]
  },
  {
   "attachments": {},
   "cell_type": "markdown",
   "metadata": {},
   "source": [
    "You have now walked through setting up a basic assay and running it over historical data.\n",
    "\n",
    "## Congratulations!\n",
    "In this workshop you have\n",
    "* Deployed a single step house price prediction pipeline and sent data to it.\n",
    "* Create a new Wallaroo connection\n",
    "* Assigned the connection to a workspace\n",
    "* Retrieved the connection from the workspace\n",
    "* Used the data connection to retrieve information from outside of Wallaroo, and use it for an inference\n",
    "\n",
    "Great job! \n",
    "\n",
    "### Cleaning up.\n",
    "\n",
    "Now that the workshop is complete, don't forget to undeploy your pipeline to free up the resources."
   ]
  },
  {
   "cell_type": "code",
   "execution_count": null,
   "metadata": {},
   "outputs": [],
   "source": [
    "# undeploy the pipeline\n",
    "\n"
   ]
  }
 ],
 "metadata": {
  "kernelspec": {
   "display_name": "Python 3 (ipykernel)",
   "language": "python",
   "name": "python3"
  },
  "language_info": {
   "codemirror_mode": {
    "name": "ipython",
    "version": 3
   },
   "file_extension": ".py",
   "mimetype": "text/x-python",
   "name": "python",
   "nbconvert_exporter": "python",
   "pygments_lexer": "ipython3",
   "version": "3.8.17"
  },
  "vscode": {
   "interpreter": {
    "hash": "7dda4bf3640b7fafcd1648658b879b4cc9f6ba6084e8fb356fdaaa1a461d1690"
   }
  }
 },
 "nbformat": 4,
 "nbformat_minor": 4
}
