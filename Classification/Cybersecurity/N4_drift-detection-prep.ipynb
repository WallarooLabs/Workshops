{
 "cells": [
  {
   "cell_type": "markdown",
   "metadata": {},
   "source": [
    "## Model Drift Detection Preparation\n",
    "\n",
    "This notebook is used to create inference data for the drift detection notebooks.  The plan is to run these an hour or a day before so the workshop participants can use them for their training.\n",
    "\n",
    "This notebook will have the bare minimum necessary for the training.  The rest will be part of the N4_drift_detection.ipynb notebook to actually demonstrate using assays for drift detection.\n",
    "\n",
    "Because this is a preparation notebook, it is recommended that only the workspace/pipelines/model names are changed to execute this notebook."
   ]
  },
  {
   "cell_type": "markdown",
   "metadata": {},
   "source": [
    "## Steps\n",
    "\n",
    "* Load the workspace, pipeline, and model versions.\n",
    "* Perform sample inferences to:\n",
    "  * Set the baseline\n",
    "  * Perform \"normal\" inferences.\n",
    "  * Perform inferences that should trigger alerts.\n",
    "\n",
    "### Import Libraries\n",
    "\n",
    "The first step will be to import our libraries, and set variables used through this tutorial."
   ]
  },
  {
   "cell_type": "code",
   "execution_count": 1,
   "metadata": {},
   "outputs": [],
   "source": [
    "import wallaroo\n",
    "from wallaroo.object import EntityNotFoundError\n",
    "from wallaroo.framework import Framework\n",
    "\n",
    "from IPython.display import display\n",
    "\n",
    "# used to display DataFrame information without truncating\n",
    "from IPython.display import display\n",
    "import pandas as pd\n",
    "pd.set_option('display.max_colwidth', None)\n",
    "\n",
    "import datetime\n",
    "import time\n",
    "\n",
    "\n",
    "workspace_name = 'workshop-workspace-john-05'\n",
    "main_pipeline_name = 'houseprice-estimator'\n",
    "model_name_control = 'house-price-prime'\n",
    "\n",
    "# ignoring warnings for demonstration\n",
    "import warnings\n",
    "warnings.filterwarnings('ignore')\n",
    "\n",
    "# used to display DataFrame information without truncating\n",
    "from IPython.display import display\n",
    "import pandas as pd\n",
    "pd.set_option('display.max_colwidth', None)"
   ]
  },
  {
   "cell_type": "markdown",
   "metadata": {},
   "source": [
    "### Connect to the Wallaroo Instance\n",
    "\n",
    "The first step is to connect to Wallaroo through the Wallaroo client.  The Python library is included in the Wallaroo install and available through the Jupyter Hub interface provided with your Wallaroo environment.\n",
    "\n",
    "This is accomplished using the `wallaroo.Client()` command, which provides a URL to grant the SDK permission to your specific Wallaroo environment.  When displayed, enter the URL into a browser and confirm permissions.  Store the connection into a variable that can be referenced later.\n",
    "\n",
    "If logging into the Wallaroo instance through the internal JupyterHub service, use `wl = wallaroo.Client()`.  For more information on Wallaroo Client settings, see the [Client Connection guide](https://docs.wallaroo.ai/wallaroo-developer-guides/wallaroo-sdk-guides/wallaroo-sdk-essentials-guide/wallaroo-sdk-essentials-client/)."
   ]
  },
  {
   "cell_type": "code",
   "execution_count": 2,
   "metadata": {},
   "outputs": [],
   "source": [
    "# Login through local Wallaroo instance\n",
    "\n",
    "wl = wallaroo.Client()"
   ]
  },
  {
   "cell_type": "markdown",
   "metadata": {},
   "source": [
    "### Retrieve Workspace, Pipeline, and Models\n",
    "\n",
    "Retrieve the workspace, pipeline and model from notebook N1_deploy_a_model.ipynb."
   ]
  },
  {
   "cell_type": "code",
   "execution_count": 3,
   "metadata": {},
   "outputs": [
    {
     "data": {
      "text/plain": [
       "{'name': 'workshop-workspace-john-cybersecurity', 'id': 14, 'archived': False, 'created_by': '76b893ff-5c30-4f01-bd9e-9579a20fc4ea', 'created_at': '2024-05-01T16:30:01.177583+00:00', 'models': [{'name': 'aloha-prime', 'versions': 1, 'owner_id': '\"\"', 'last_update_time': datetime.datetime(2024, 5, 1, 16, 30, 43, 651533, tzinfo=tzutc()), 'created_at': datetime.datetime(2024, 5, 1, 16, 30, 43, 651533, tzinfo=tzutc())}, {'name': 'aloha-challenger', 'versions': 1, 'owner_id': '\"\"', 'last_update_time': datetime.datetime(2024, 5, 1, 16, 38, 56, 600586, tzinfo=tzutc()), 'created_at': datetime.datetime(2024, 5, 1, 16, 38, 56, 600586, tzinfo=tzutc())}], 'pipelines': [{'name': 'aloha-fraud-detector', 'create_time': datetime.datetime(2024, 5, 1, 16, 30, 53, 995114, tzinfo=tzutc()), 'definition': '[]'}]}"
      ]
     },
     "metadata": {},
     "output_type": "display_data"
    },
    {
     "data": {
      "text/html": [
       "<table>\n",
       "        <tr>\n",
       "          <td>Name</td>\n",
       "          <td>aloha-prime</td>\n",
       "        </tr>\n",
       "        <tr>\n",
       "          <td>Version</td>\n",
       "          <td>c719bc50-f83f-4c79-b4af-f66395a8da04</td>\n",
       "        </tr>\n",
       "        <tr>\n",
       "          <td>File Name</td>\n",
       "          <td>aloha-cnn-lstm.zip</td>\n",
       "        </tr>\n",
       "        <tr>\n",
       "          <td>SHA</td>\n",
       "          <td>fd998cd5e4964bbbb4f8d29d245a8ac67df81b62be767afbceb96a03d1a01520</td>\n",
       "        </tr>\n",
       "        <tr>\n",
       "          <td>Status</td>\n",
       "          <td>ready</td>\n",
       "        </tr>\n",
       "        <tr>\n",
       "          <td>Image Path</td>\n",
       "          <td>None</td>\n",
       "        </tr>\n",
       "        <tr>\n",
       "          <td>Architecture</td>\n",
       "          <td>x86</td>\n",
       "        </tr>\n",
       "        <tr>\n",
       "          <td>Acceleration</td>\n",
       "          <td>none</td>\n",
       "        </tr>\n",
       "        <tr>\n",
       "          <td>Updated At</td>\n",
       "          <td>2024-01-May 16:30:43</td>\n",
       "        </tr>\n",
       "      </table>"
      ],
      "text/plain": [
       "{'name': 'aloha-prime', 'version': 'c719bc50-f83f-4c79-b4af-f66395a8da04', 'file_name': 'aloha-cnn-lstm.zip', 'image_path': None, 'arch': 'x86', 'accel': 'none', 'last_update_time': datetime.datetime(2024, 5, 1, 16, 30, 43, 651533, tzinfo=tzutc())}"
      ]
     },
     "metadata": {},
     "output_type": "display_data"
    },
    {
     "data": {
      "text/html": [
       "<table><tr><th>name</th> <td>aloha-fraud-detector</td></tr><tr><th>created</th> <td>2024-05-01 16:30:53.995114+00:00</td></tr><tr><th>last_updated</th> <td>2024-05-01 19:08:00.658437+00:00</td></tr><tr><th>deployed</th> <td>True</td></tr><tr><th>arch</th> <td>x86</td></tr><tr><th>accel</th> <td>none</td></tr><tr><th>tags</th> <td></td></tr><tr><th>versions</th> <td>41b9260e-21a8-4f16-ad56-c6267d3bae93, 46bdd5a3-fc22-41b7-b1ea-8287c99c241e, 28f5443a-ff67-4f4f-bfc3-f3f95f3c6f83, 435b73f7-76a1-4514-bd41-2cb94d3e78ff, 551242a7-fe4c-4a61-a4c7-e7fcc97509dc, d22eb0d2-9cff-4c5f-a851-10b1a19d8c44, 262909e9-8779-4c56-a994-725ddd0b58c8, 4cdf8e11-1b9c-44ab-a16d-abb054b5e9fe, 6b3529b1-1ff1-454b-8896-460c8c90d667</td></tr><tr><th>steps</th> <td>aloha-prime</td></tr><tr><th>published</th> <td>False</td></tr></table>"
      ],
      "text/plain": [
       "{'name': 'aloha-fraud-detector', 'create_time': datetime.datetime(2024, 5, 1, 16, 30, 53, 995114, tzinfo=tzutc()), 'definition': '[]'}"
      ]
     },
     "metadata": {},
     "output_type": "display_data"
    }
   ],
   "source": [
    "# retrieve the previous workspace, model, and pipeline version\n",
    "\n",
    "workspace_name = \"workshop-workspace-john-cybersecurity\"\n",
    "\n",
    "workspace = wl.get_workspace(name=workspace_name)\n",
    "\n",
    "# set your current workspace to the workspace that you just created\n",
    "wl.set_current_workspace(workspace)\n",
    "\n",
    "# optionally, examine your current workspace\n",
    "wl.get_current_workspace()\n",
    "\n",
    "model_name = 'aloha-prime'\n",
    "\n",
    "prime_model_version = wl.get_model(model_name)\n",
    "\n",
    "pipeline_name = 'aloha-fraud-detector'\n",
    "\n",
    "pipeline = wl.get_pipeline(pipeline_name)\n",
    "\n",
    "display(workspace)\n",
    "display(prime_model_version)\n",
    "display(pipeline)\n"
   ]
  },
  {
   "cell_type": "markdown",
   "metadata": {},
   "source": [
    "### Deploy Pipeline\n",
    "\n",
    "Deploy the pipeline with the model version."
   ]
  },
  {
   "cell_type": "code",
   "execution_count": 4,
   "metadata": {},
   "outputs": [
    {
     "data": {
      "text/html": [
       "<table><tr><th>name</th> <td>aloha-fraud-detector</td></tr><tr><th>created</th> <td>2024-05-01 16:30:53.995114+00:00</td></tr><tr><th>last_updated</th> <td>2024-05-01 19:20:24.682678+00:00</td></tr><tr><th>deployed</th> <td>True</td></tr><tr><th>arch</th> <td>x86</td></tr><tr><th>accel</th> <td>none</td></tr><tr><th>tags</th> <td></td></tr><tr><th>versions</th> <td>ea59aae6-1565-4321-9086-7f8dd2a8e1c2, 41b9260e-21a8-4f16-ad56-c6267d3bae93, 46bdd5a3-fc22-41b7-b1ea-8287c99c241e, 28f5443a-ff67-4f4f-bfc3-f3f95f3c6f83, 435b73f7-76a1-4514-bd41-2cb94d3e78ff, 551242a7-fe4c-4a61-a4c7-e7fcc97509dc, d22eb0d2-9cff-4c5f-a851-10b1a19d8c44, 262909e9-8779-4c56-a994-725ddd0b58c8, 4cdf8e11-1b9c-44ab-a16d-abb054b5e9fe, 6b3529b1-1ff1-454b-8896-460c8c90d667</td></tr><tr><th>steps</th> <td>aloha-prime</td></tr><tr><th>published</th> <td>False</td></tr></table>"
      ],
      "text/plain": [
       "{'name': 'aloha-fraud-detector', 'create_time': datetime.datetime(2024, 5, 1, 16, 30, 53, 995114, tzinfo=tzutc()), 'definition': \"[{'ModelInference': {'models': [{'name': 'aloha-prime', 'version': 'c719bc50-f83f-4c79-b4af-f66395a8da04', 'sha': 'fd998cd5e4964bbbb4f8d29d245a8ac67df81b62be767afbceb96a03d1a01520'}]}}]\"}"
      ]
     },
     "execution_count": 4,
     "metadata": {},
     "output_type": "execute_result"
    }
   ],
   "source": [
    "pipeline.clear()\n",
    "pipeline.add_model_step(prime_model_version)\n",
    "\n",
    "deploy_config = wallaroo.DeploymentConfigBuilder().replica_count(1).cpus(0.5).memory(\"1Gi\").build()\n",
    "pipeline.deploy(deployment_config=deploy_config)"
   ]
  },
  {
   "cell_type": "markdown",
   "metadata": {},
   "source": [
    "### Generate Sample Data\n",
    "\n",
    "Before creating the assays, we must generate data for the assays to build from.\n",
    "\n",
    "For this example, we will:\n",
    "\n",
    "* Perform sample inferences based on lower priced houses and use that as our baseline.\n",
    "* Generate inferences from specific set of high priced houses create inference outputs that will be outside the baseline.  This is used in later steps to demonstrate baseline comparison against assay analyses."
   ]
  },
  {
   "cell_type": "markdown",
   "metadata": {},
   "source": [
    "#### Inference Results History Generation\n",
    "\n",
    "To start the demonstration, we'll create a baseline of values from houses with small estimated prices and set that as our baseline.\n",
    "\n",
    "We will save the beginning and end periods of our baseline data to the variables `assay_baseline_start` and `assay_baseline_end`."
   ]
  },
  {
   "cell_type": "code",
   "execution_count": 5,
   "metadata": {},
   "outputs": [],
   "source": [
    "baseline_data = pd.read_json('../data/aloha_baseline.df.json')\n",
    "assay_data = pd.read_json('../data/aloha_assay.df.json')\n",
    "\n",
    "baseline_size = 500\n",
    "\n",
    "# Where the baseline data will start\n",
    "assay_baseline_start = datetime.datetime.now()\n",
    "\n",
    "# These inputs will be random samples of small priced houses.  Around 30,000 is a good number\n",
    "baseline_inference_set = baseline_data.sample(baseline_size, replace=True).reset_index(drop=True)\n",
    "\n",
    "# Wait 60 seconds to set this data apart from the rest\n",
    "time.sleep(60)\n",
    "small_results = pipeline.infer(baseline_inference_set)\n",
    "\n",
    "# Set the baseline end\n",
    "\n",
    "assay_baseline_end = datetime.datetime.now()"
   ]
  },
  {
   "cell_type": "markdown",
   "metadata": {},
   "source": [
    "#### Generate Numpy Baseline Values\n",
    "\n",
    "This process generates a numpy array of the inference results used as baseline data in later steps."
   ]
  },
  {
   "cell_type": "code",
   "execution_count": 8,
   "metadata": {},
   "outputs": [],
   "source": [
    "# get the numpy values\n",
    "\n",
    "# set the results to a non-array value\n",
    "small_results_baseline_df = small_results.copy()\n",
    "small_results_baseline_df['cryptolocker']=small_results['out.cryptolocker'].map(lambda x: x[0])\n",
    "small_results_baseline_df\n",
    "\n",
    "# set the numpy array\n",
    "small_results_baseline = small_results_baseline_df['cryptolocker'].to_numpy()"
   ]
  },
  {
   "cell_type": "markdown",
   "metadata": {},
   "source": [
    "#### Assay Test Data\n",
    "\n",
    "The following will generate inference data for us to test against the assay baseline.  For this, we will add in house data that generate higher house prices than the baseline data we used earlier.\n",
    "\n",
    "This process should take 6 minutes to generate the historical data we'll later use in our assays.  We store the DateTime `assay_window_start` to determine where to start out assay analyses."
   ]
  },
  {
   "cell_type": "code",
   "execution_count": 9,
   "metadata": {},
   "outputs": [],
   "source": [
    "# Get a spread of results\n",
    "\n",
    "# # Set the start for our assay window period.\n",
    "assay_window_start = datetime.datetime.now()\n",
    "\n",
    "time.sleep(65)\n",
    "inference_size = 1000\n",
    "\n",
    "# Get a spread of values\n",
    "\n",
    "baseline_inference_set = assay_data.sample(inference_size, replace=True).reset_index(drop=True)\n",
    "\n",
    "pipeline.infer(baseline_inference_set)\n",
    "\n",
    "time.sleep(65)"
   ]
  },
  {
   "cell_type": "markdown",
   "metadata": {},
   "source": [
    "### Undeploy Main Pipeline\n",
    "\n",
    "With the examples and tutorial complete, we will undeploy the main pipeline and return the resources back to the Wallaroo instance."
   ]
  },
  {
   "cell_type": "code",
   "execution_count": 10,
   "metadata": {},
   "outputs": [
    {
     "data": {
      "text/html": [
       "<table><tr><th>name</th> <td>aloha-fraud-detector</td></tr><tr><th>created</th> <td>2024-05-01 16:30:53.995114+00:00</td></tr><tr><th>last_updated</th> <td>2024-05-01 19:20:24.682678+00:00</td></tr><tr><th>deployed</th> <td>False</td></tr><tr><th>arch</th> <td>x86</td></tr><tr><th>accel</th> <td>none</td></tr><tr><th>tags</th> <td></td></tr><tr><th>versions</th> <td>ea59aae6-1565-4321-9086-7f8dd2a8e1c2, 41b9260e-21a8-4f16-ad56-c6267d3bae93, 46bdd5a3-fc22-41b7-b1ea-8287c99c241e, 28f5443a-ff67-4f4f-bfc3-f3f95f3c6f83, 435b73f7-76a1-4514-bd41-2cb94d3e78ff, 551242a7-fe4c-4a61-a4c7-e7fcc97509dc, d22eb0d2-9cff-4c5f-a851-10b1a19d8c44, 262909e9-8779-4c56-a994-725ddd0b58c8, 4cdf8e11-1b9c-44ab-a16d-abb054b5e9fe, 6b3529b1-1ff1-454b-8896-460c8c90d667</td></tr><tr><th>steps</th> <td>aloha-prime</td></tr><tr><th>published</th> <td>False</td></tr></table>"
      ],
      "text/plain": [
       "{'name': 'aloha-fraud-detector', 'create_time': datetime.datetime(2024, 5, 1, 16, 30, 53, 995114, tzinfo=tzutc()), 'definition': \"[{'ModelInference': {'models': [{'name': 'aloha-prime', 'version': 'c719bc50-f83f-4c79-b4af-f66395a8da04', 'sha': 'fd998cd5e4964bbbb4f8d29d245a8ac67df81b62be767afbceb96a03d1a01520'}]}}]\"}"
      ]
     },
     "execution_count": 10,
     "metadata": {},
     "output_type": "execute_result"
    }
   ],
   "source": [
    "pipeline.undeploy()"
   ]
  },
  {
   "cell_type": "markdown",
   "metadata": {},
   "source": [
    "### Store the Assay Values\n",
    "\n",
    "We will store the following into a location configuration file:\n",
    "\n",
    "* `small_results_baseline`:  Used to create the baseline from the numpy values from sample inferences.\n",
    "* `assay_baseline_start`: When to start the baseline from the inference history.\n",
    "* `assay_baseline_end`: When to end the baseline from the inference history.\n",
    "* `assay_window_start`: When to start the assay window period for assay samples."
   ]
  },
  {
   "cell_type": "code",
   "execution_count": 11,
   "metadata": {},
   "outputs": [],
   "source": [
    "# skip this step if the file is already there\n",
    "\n",
    "import numpy\n",
    "\n",
    "numpy.save('./small_results_baseline.npy', small_results_baseline)"
   ]
  },
  {
   "cell_type": "code",
   "execution_count": 12,
   "metadata": {},
   "outputs": [
    {
     "data": {
      "text/plain": [
       "array([1.38411885e-02, 6.98903700e-02, 1.72902760e-01, 1.01371060e-01,\n",
       "       1.18515120e-02, 3.29993070e-02, 6.35678300e-02, 2.04431410e-02,\n",
       "       5.54976280e-02, 3.33689700e-02, 1.63933440e-01, 5.01484130e-02,\n",
       "       9.13416500e-02, 1.93939230e-02, 1.30328190e-02, 1.59948200e-01,\n",
       "       1.50059490e-02, 1.80134130e-01, 3.50623620e-03, 1.64611250e-02,\n",
       "       4.29595300e-02, 1.50780880e-02, 1.43549200e-01, 4.56962830e-03,\n",
       "       4.97932730e-02, 1.64257660e-01, 7.37149900e-02, 1.10372186e-01,\n",
       "       1.68252210e-02, 8.52306000e-02, 3.29359550e-02, 5.03419380e-02,\n",
       "       1.25163240e-01, 2.78586650e-02, 6.16877850e-03, 3.07482650e-02,\n",
       "       2.27204800e-02, 6.45729100e-02, 7.57607000e-02, 7.08777550e-03,\n",
       "       2.97230650e-02, 3.59103600e-02, 2.30605320e-02, 3.27331540e-02,\n",
       "       1.86745990e-01, 1.29913540e-02, 2.54665330e-02, 2.75201000e-02,\n",
       "       7.10707060e-03, 1.50722850e-01, 9.01008800e-02, 8.99820400e-02,\n",
       "       7.66398000e-04, 5.31407200e-02, 2.59052660e-02, 1.35844560e-01,\n",
       "       7.88279400e-03, 5.74785550e-02, 8.55128600e-02, 5.78838800e-03,\n",
       "       2.18456070e-02, 5.83127900e-02, 2.48722880e-02, 1.82142520e-02,\n",
       "       1.09350510e-01, 1.35561020e-02, 2.56826020e-02, 8.15486300e-02,\n",
       "       1.07193470e-01, 5.25884630e-02, 2.97664270e-03, 8.46283100e-03,\n",
       "       1.77558360e-01, 1.15131140e-02, 5.15763100e-02, 1.02688690e-02,\n",
       "       5.88536800e-02, 9.13388360e-02, 1.10681920e-02, 2.77703160e-02,\n",
       "       8.27124600e-03, 1.56994830e-01, 2.44069840e-02, 1.74694250e-02,\n",
       "       2.52948650e-03, 9.49505400e-03, 3.74419600e-02, 4.55613100e-02,\n",
       "       1.00706150e-02, 1.94774100e-02, 8.64558800e-03, 1.46801350e-01,\n",
       "       6.16716670e-02, 3.59286930e-02, 1.74182860e-01, 3.98783400e-02,\n",
       "       8.39603400e-02, 1.86577480e-01, 3.10761230e-03, 2.68125720e-02,\n",
       "       3.47353400e-02, 8.27692450e-02, 4.44800260e-02, 2.22439900e-02,\n",
       "       1.17242046e-01, 2.17619300e-03, 2.33667050e-02, 9.22291800e-04,\n",
       "       1.30676000e-03, 1.74263750e-02, 8.23086900e-03, 3.31561830e-03,\n",
       "       1.40119060e-01, 3.40707700e-02, 1.34876130e-02, 1.53026670e-01,\n",
       "       9.71889200e-02, 3.00213380e-02, 1.41497640e-01, 4.11387160e-03,\n",
       "       3.07076800e-02, 1.87213120e-01, 1.64854140e-02, 4.16542250e-02,\n",
       "       5.99254400e-02, 1.58361840e-01, 3.89646200e-02, 1.49028840e-02,\n",
       "       4.76679650e-02, 2.93277000e-02, 4.38593500e-02, 1.97974700e-03,\n",
       "       1.70390160e-02, 5.22396640e-02, 1.10602520e-02, 5.39108300e-03,\n",
       "       3.91753170e-02, 8.27682000e-02, 9.94242450e-03, 1.46346750e-01,\n",
       "       8.59485400e-02, 9.37004300e-03, 8.70854700e-02, 4.70293760e-02,\n",
       "       6.21358450e-02, 5.19265720e-02, 1.32552570e-02, 1.45563920e-02,\n",
       "       1.25547020e-01, 1.62168720e-02, 1.29899140e-01, 5.90517200e-02,\n",
       "       3.54841130e-02, 7.22223000e-02, 1.50737540e-01, 5.79327500e-03,\n",
       "       1.25484630e-01, 9.66135700e-02, 5.91832250e-02, 1.44371690e-02,\n",
       "       1.46466660e-01, 6.93768200e-03, 6.80450200e-02, 6.41044500e-03,\n",
       "       4.56792560e-02, 3.10506040e-02, 1.20614630e-01, 5.36099820e-02,\n",
       "       1.52909660e-03, 2.07377340e-02, 4.58794970e-03, 4.73935700e-03,\n",
       "       1.76518340e-01, 9.28278500e-03, 3.82321900e-02, 4.40731920e-03,\n",
       "       5.01983540e-02, 1.05953574e-01, 2.72795390e-02, 4.92523500e-03,\n",
       "       1.44624720e-02, 8.99027850e-03, 1.86023160e-01, 1.02547220e-02,\n",
       "       5.44555440e-03, 1.37948830e-02, 5.22396640e-02, 5.94832470e-03,\n",
       "       1.20436795e-01, 1.42605490e-02, 4.72300540e-02, 8.29395300e-02,\n",
       "       7.83373600e-03, 2.65637820e-02, 7.86642100e-03, 7.26907200e-03,\n",
       "       3.16277930e-02, 6.01660900e-03, 7.76602000e-03, 9.64844000e-02,\n",
       "       4.96464040e-03, 3.26802700e-03, 8.09673600e-02, 5.59866060e-03,\n",
       "       1.54808040e-02, 1.45334890e-02, 9.02044600e-03, 1.32668100e-01,\n",
       "       2.63142470e-02, 4.80901040e-02, 2.15990520e-02, 2.39113660e-02,\n",
       "       1.39197770e-02, 9.58271300e-02, 6.62867200e-02, 3.84855800e-02,\n",
       "       1.08147375e-01, 2.00037820e-03, 2.25819180e-02, 1.91687330e-01,\n",
       "       1.74825820e-02, 1.83839470e-01, 6.33939900e-03, 3.38803870e-02,\n",
       "       1.58901410e-01, 3.48141400e-03, 9.66674400e-02, 5.17018100e-03,\n",
       "       7.85653300e-03, 2.36946880e-02, 3.39801100e-02, 3.62642100e-02,\n",
       "       3.84961070e-02, 4.90643040e-03, 1.59728740e-03, 2.35600790e-02,\n",
       "       2.21027550e-02, 1.02316390e-02, 8.18040100e-03, 2.31594610e-02,\n",
       "       1.23900205e-01, 1.84543120e-03, 4.69775270e-02, 6.39349700e-02,\n",
       "       1.01578660e-02, 9.28876850e-02, 2.30481060e-03, 5.61872720e-02,\n",
       "       8.70758950e-03, 4.70962560e-02, 1.18207335e-01, 9.12116840e-02,\n",
       "       1.75370350e-02, 6.32652300e-03, 2.89774760e-02, 1.16218135e-01,\n",
       "       1.86825600e-02, 5.02174100e-03, 1.16046160e-01, 1.37497130e-01,\n",
       "       4.10481300e-03, 1.66790410e-02, 4.09364750e-03, 4.55811100e-02,\n",
       "       1.94109320e-02, 4.71559130e-02, 9.25871360e-02, 2.85627100e-02,\n",
       "       1.38995500e-01, 1.85749950e-01, 7.89931300e-02, 3.32346220e-02,\n",
       "       1.17254730e-02, 3.19854360e-02, 1.47787870e-01, 1.85417570e-02,\n",
       "       1.01933580e-02, 3.39885760e-02, 1.11831340e-01, 1.08295410e-03,\n",
       "       1.43812500e-01, 1.95146400e-01, 2.47166960e-02, 1.14282250e-01,\n",
       "       2.29466990e-02, 1.41030460e-01, 9.14114860e-02, 8.80805550e-02,\n",
       "       7.73094300e-03, 1.76356500e-01, 1.04407705e-01, 1.81357900e-02,\n",
       "       1.12586450e-02, 1.94578220e-01, 2.84287900e-02, 2.16221810e-02,\n",
       "       3.69168630e-02, 5.78838800e-03, 6.94113100e-02, 1.14240160e-01,\n",
       "       3.32645550e-02, 5.59242370e-02, 1.44821050e-01, 7.05835900e-02,\n",
       "       3.56951730e-02, 8.61230400e-02, 1.66330620e-01, 1.31818800e-01,\n",
       "       1.85409670e-02, 4.88343830e-03, 2.08539240e-02, 2.73829980e-03,\n",
       "       6.26096000e-02, 1.53563490e-02, 4.71109560e-02, 5.58597970e-03,\n",
       "       1.33812340e-01, 1.80868190e-02, 6.72935900e-02, 1.00287960e-01,\n",
       "       3.82798900e-02, 6.79309700e-03, 6.14267330e-02, 3.11686170e-02,\n",
       "       1.19035440e-01, 7.07995800e-02, 4.31257340e-02, 1.53811920e-02,\n",
       "       5.80739800e-02, 5.21259870e-02, 8.71385450e-03, 1.11940150e-01,\n",
       "       1.16627075e-01, 1.11630490e-01, 1.11695080e-01, 7.45863800e-05,\n",
       "       3.69427260e-03, 6.19374030e-02, 1.37062800e-02, 9.59035700e-04,\n",
       "       5.05744220e-02, 8.51463800e-02, 9.98307400e-02, 9.25409200e-03,\n",
       "       4.05967350e-02, 6.32675500e-02, 6.53976050e-02, 6.16523060e-03,\n",
       "       1.15123490e-02, 1.42405820e-02, 1.06156826e-01, 3.53979950e-02,\n",
       "       1.71599180e-01, 1.24943240e-02, 2.50083990e-02, 2.42647620e-02,\n",
       "       6.63617250e-02, 4.58676500e-03, 1.51891440e-01, 1.54267520e-02,\n",
       "       1.36224690e-02, 1.42364620e-01, 1.66309100e-02, 3.41719130e-02,\n",
       "       5.48537930e-02, 9.35613400e-03, 2.86029580e-02, 6.51544900e-03,\n",
       "       6.36362660e-02, 1.17464720e-01, 4.57605720e-02, 3.78032540e-03,\n",
       "       1.98746250e-02, 6.44662200e-02, 7.63675500e-02, 1.43812500e-01,\n",
       "       3.39511100e-02, 1.51270720e-01, 2.13156320e-02, 1.42593690e-02,\n",
       "       5.05189520e-02, 1.33675690e-02, 1.57063030e-02, 2.97409900e-02,\n",
       "       7.39630500e-02, 1.52623190e-02, 4.87300570e-02, 2.08271000e-03,\n",
       "       4.08358400e-03, 4.05166860e-03, 6.70003800e-03, 1.17731570e-01,\n",
       "       2.12120190e-02, 5.51563800e-02, 6.24075230e-02, 1.39067210e-02,\n",
       "       5.65910640e-02, 2.59743020e-02, 7.90192200e-02, 3.95232630e-02,\n",
       "       3.70051260e-02, 9.54685600e-03, 3.08228060e-02, 1.77661910e-01,\n",
       "       1.36665450e-01, 9.70385600e-02, 4.00257000e-02, 7.79701630e-03,\n",
       "       1.40410330e-01, 4.43394500e-02, 5.88602130e-02, 5.49641700e-03,\n",
       "       6.60768240e-03, 3.82705700e-03, 3.17071600e-02, 1.69518010e-02,\n",
       "       2.29757430e-02, 4.07151470e-02, 7.14481800e-02, 1.46181140e-01,\n",
       "       3.90153500e-02, 4.34549600e-03, 5.52976800e-03, 1.30328190e-02,\n",
       "       1.07495030e-02, 2.31704250e-02, 5.75540100e-03, 5.52719720e-02,\n",
       "       1.30861410e-02, 6.69540700e-02, 4.79600840e-02, 3.29008030e-02,\n",
       "       2.11389330e-02, 2.23866400e-02, 6.13834500e-05, 1.15114376e-01,\n",
       "       9.96227200e-02, 3.17312500e-02, 1.23500920e-02, 4.17530350e-02,\n",
       "       6.21513300e-02, 1.39439380e-02, 1.32357245e-02, 3.43569100e-02,\n",
       "       3.77594260e-03, 1.39851150e-01, 2.93206440e-02, 7.36732860e-02,\n",
       "       8.25936700e-03, 7.51185040e-02, 1.60548720e-02, 8.11753050e-02,\n",
       "       5.29028900e-02, 3.11605390e-02, 8.67323500e-03, 1.58319680e-02,\n",
       "       4.16296900e-03, 2.86411900e-02, 1.33027030e-02, 5.34343980e-02,\n",
       "       1.27165710e-02, 3.63482530e-02, 1.26039830e-02, 9.25015960e-02,\n",
       "       4.01699730e-03, 7.81137300e-02, 1.77701410e-01, 4.73120920e-02,\n",
       "       9.91035100e-02, 2.80917210e-02, 4.03374950e-03, 1.61084440e-02,\n",
       "       1.62963120e-01, 1.23026505e-01, 2.00015230e-02, 1.38884040e-02,\n",
       "       9.45581900e-03, 1.63274310e-02, 9.15808400e-02, 1.92165020e-02,\n",
       "       1.07956840e-02, 3.10963280e-02, 2.36851500e-02, 1.48576450e-01,\n",
       "       7.22223000e-02, 4.50184900e-03, 1.42279750e-02, 1.94049210e-03,\n",
       "       1.63249390e-01, 7.09095200e-02, 1.09045880e-01, 4.73470460e-02,\n",
       "       1.31590250e-01, 4.57807930e-02, 1.38165750e-02, 8.64240800e-02,\n",
       "       1.42364620e-01, 1.53426050e-02, 1.00781200e-01, 4.37252600e-03])"
      ]
     },
     "execution_count": 12,
     "metadata": {},
     "output_type": "execute_result"
    }
   ],
   "source": [
    "baseline_numpy = numpy.load('./small_results_baseline.npy')\n",
    "baseline_numpy"
   ]
  },
  {
   "cell_type": "code",
   "execution_count": 13,
   "metadata": {},
   "outputs": [
    {
     "data": {
      "text/plain": [
       "datetime.datetime(2024, 5, 1, 13, 20, 32, 870761)"
      ]
     },
     "execution_count": 13,
     "metadata": {},
     "output_type": "execute_result"
    }
   ],
   "source": [
    "with open('./assay_baseline_start', 'w') as file:\n",
    "    file.write(assay_baseline_start.strftime(\"%d-%b-%Y (%H:%M:%S.%f)\"))\n",
    "assay_baseline_start"
   ]
  },
  {
   "cell_type": "code",
   "execution_count": 14,
   "metadata": {},
   "outputs": [
    {
     "data": {
      "text/plain": [
       "datetime.datetime(2024, 5, 1, 13, 21, 34, 718837)"
      ]
     },
     "execution_count": 14,
     "metadata": {},
     "output_type": "execute_result"
    }
   ],
   "source": [
    "with open('./assay_baseline_end', 'w') as file:\n",
    "    file.write(assay_baseline_end.strftime(\"%d-%b-%Y (%H:%M:%S.%f)\"))\n",
    "assay_baseline_end"
   ]
  },
  {
   "cell_type": "code",
   "execution_count": 15,
   "metadata": {},
   "outputs": [
    {
     "data": {
      "text/plain": [
       "datetime.datetime(2024, 5, 1, 13, 27, 1, 25108)"
      ]
     },
     "execution_count": 15,
     "metadata": {},
     "output_type": "execute_result"
    }
   ],
   "source": [
    "with open('./assay_window_start', 'w') as file:\n",
    "    file.write(assay_window_start.strftime(\"%d-%b-%Y (%H:%M:%S.%f)\"))\n",
    "assay_window_start"
   ]
  },
  {
   "cell_type": "code",
   "execution_count": 16,
   "metadata": {},
   "outputs": [
    {
     "data": {
      "text/plain": [
       "datetime.datetime(2024, 5, 1, 13, 20, 32, 870761)"
      ]
     },
     "execution_count": 16,
     "metadata": {},
     "output_type": "execute_result"
    }
   ],
   "source": [
    "# read the assay baseline start datetime\n",
    "\n",
    "with open('./assay_baseline_start', 'r') as file:\n",
    "    assay_baseline_start_test = datetime.datetime.strptime(file.read(), \"%d-%b-%Y (%H:%M:%S.%f)\")\n",
    "assay_baseline_start_test"
   ]
  },
  {
   "cell_type": "code",
   "execution_count": 17,
   "metadata": {},
   "outputs": [
    {
     "data": {
      "text/plain": [
       "datetime.datetime(2024, 5, 1, 13, 21, 34, 718837)"
      ]
     },
     "execution_count": 17,
     "metadata": {},
     "output_type": "execute_result"
    }
   ],
   "source": [
    "# read the assay baseline end datetime\n",
    "\n",
    "with open('./assay_baseline_end', 'r') as file:\n",
    "    assay_baseline_end_test = datetime.datetime.strptime(file.read(), \"%d-%b-%Y (%H:%M:%S.%f)\")\n",
    "assay_baseline_end_test"
   ]
  },
  {
   "cell_type": "code",
   "execution_count": 18,
   "metadata": {},
   "outputs": [
    {
     "data": {
      "text/plain": [
       "datetime.datetime(2024, 5, 1, 13, 27, 1, 25108)"
      ]
     },
     "execution_count": 18,
     "metadata": {},
     "output_type": "execute_result"
    }
   ],
   "source": [
    "# read the assay window start datetime\n",
    "\n",
    "with open('./assay_window_start', 'r') as file:\n",
    "    assay_window_start_test = datetime.datetime.strptime(file.read(), \"%d-%b-%Y (%H:%M:%S.%f)\")\n",
    "assay_window_start_test"
   ]
  },
  {
   "cell_type": "code",
   "execution_count": null,
   "metadata": {},
   "outputs": [],
   "source": []
  }
 ],
 "metadata": {
  "kernelspec": {
   "display_name": "wallaroosdk.2024.1",
   "language": "python",
   "name": "wallaroosdk.2024.1"
  },
  "language_info": {
   "codemirror_mode": {
    "name": "ipython",
    "version": 3
   },
   "file_extension": ".py",
   "mimetype": "text/x-python",
   "name": "python",
   "nbconvert_exporter": "python",
   "pygments_lexer": "ipython3",
   "version": "3.8.19"
  },
  "vscode": {
   "interpreter": {
    "hash": "7dda4bf3640b7fafcd1648658b879b4cc9f6ba6084e8fb356fdaaa1a461d1690"
   }
  }
 },
 "nbformat": 4,
 "nbformat_minor": 4
}
