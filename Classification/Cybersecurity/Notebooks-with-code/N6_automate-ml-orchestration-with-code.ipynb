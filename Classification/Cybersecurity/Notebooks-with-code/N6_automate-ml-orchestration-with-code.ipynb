{
 "cells": [
  {
   "cell_type": "markdown",
   "metadata": {},
   "source": [
    "# Workshop Notebook 4: Automation with ML Workload Orchestrations\n",
    "\n",
    "Wallaroo provides Data Connections and ML Workload Orchestrations to provide organizations with a method of creating and managing automated tasks that can either be run on demand or a regular schedule.\n",
    "\n",
    "## Prerequisites\n",
    "\n",
    "* A Wallaroo instance version 2023.2.1 or greater.\n",
    "\n",
    "## References\n",
    "\n",
    "* [Wallaroo SDK Essentials Guide: Model Uploads and Registrations: Python Models](https://docs.wallaroo.ai/wallaroo-developer-guides/wallaroo-sdk-guides/wallaroo-sdk-essentials-guide/wallaroo-sdk-model-uploads/wallaroo-sdk-model-upload-python/)\n",
    "* [Wallaroo SDK Essentials Guide: Pipeline Management](https://docs.wallaroo.ai/wallaroo-developer-guides/wallaroo-sdk-guides/wallaroo-sdk-essentials-guide/wallaroo-sdk-essentials-pipelines/wallaroo-sdk-essentials-pipeline/)\n",
    "* [Wallaroo SDK Essentials Guide: ML Workload Orchestration](https://docs.wallaroo.ai/wallaroo-developer-guides/wallaroo-sdk-guides/wallaroo-sdk-essentials-guide/wallaroo-sdk-essentials-ml-workload-orchestration/)"
   ]
  },
  {
   "cell_type": "markdown",
   "metadata": {},
   "source": [
    "## Orchestrations, Taks, and Tasks Runs\n",
    "\n",
    "We've details how Wallaroo Connections work.  Now we'll use Orchestrations, Tasks, and Task Runs.\n",
    "\n",
    "| Item | Description |\n",
    "|---|---|\n",
    "| Orchestration | ML Workload orchestration allows data scientists and ML Engineers to automate and scale production ML workflows in Wallaroo to ensure a tight feedback loop and continuous tuning of models from training to production. Wallaroo platform users (data scientists or ML Engineers) have the ability to deploy, automate and scale recurring batch production ML workloads that can ingest data from predefined data sources to run inferences in Wallaroo, chain pipelines, and send inference results to predefined destinations to analyze model insights and assess business outcomes. |\n",
    "| Task | An implementation of an Orchestration.  Tasks can be either `Run Once`:  They run once and upon completion, stop. `Run Scheduled`: The task runs whenever a specific `cron` like schedule is reached.  Scheduled tasks will run until the `kill` command is issued. |\n",
    "| Task Run | The execusion of a task.  For `Run Once` tasks, there will be only one `Run Task`.  A `Run Scheduled` tasks will have multiple tasks, one for every time the schedule parameter is met.  Task Runs have their own log files that can be examined to track progress and results. |"
   ]
  },
  {
   "cell_type": "markdown",
   "metadata": {},
   "source": [
    "## Preliminaries\n",
    "\n",
    "In the blocks below we will preload some required libraries.\n",
    "\n",
    "For convenience, the following `helper functions` are defined to retrieve previously created workspaces, models, and pipelines:\n",
    "\n",
    "* `get_workspace(name, client)`: This takes in the name and the Wallaroo client being used in this session, and returns the workspace matching `name`.  If no workspaces are found matching the name, raises a `KeyError` and returns `None`.\n",
    "* `get_model_version(model_name, workspace)`: Retrieves the most recent model version from the model matching the `model_name` within the provided `workspace`.  If no model matches that name, raises a `KeyError` and returns `None`.\n",
    "* `get_pipeline(pipeline_name, workspace)`: Retrieves the most pipeline from the workspace matching the `pipeline_name` within the provided `workspace`.  If no model matches that name, raises a `KeyError` and returns `None`."
   ]
  },
  {
   "cell_type": "code",
   "execution_count": 1,
   "metadata": {},
   "outputs": [],
   "source": [
    "import json\n",
    "import os\n",
    "import datetime\n",
    "\n",
    "import wallaroo\n",
    "from wallaroo.object import EntityNotFoundError\n",
    "from wallaroo.framework import Framework\n",
    "\n",
    "# used to display dataframe information without truncating\n",
    "from IPython.display import display\n",
    "import pandas as pd\n",
    "import numpy as np\n",
    "\n",
    "pd.set_option('display.max_colwidth', None)\n",
    "\n",
    "import time\n",
    "import pyarrow as pa"
   ]
  },
  {
   "cell_type": "markdown",
   "metadata": {},
   "source": [
    "### Connect to the Wallaroo Instance\n",
    "\n",
    "The first step is to connect to Wallaroo through the Wallaroo client.  The Python library is included in the Wallaroo install and available through the Jupyter Hub interface provided with your Wallaroo environment.\n",
    "\n",
    "This is accomplished using the `wallaroo.Client()` command, which provides a URL to grant the SDK permission to your specific Wallaroo environment.  When displayed, enter the URL into a browser and confirm permissions.  Store the connection into a variable that can be referenced later.\n",
    "\n",
    "If logging into the Wallaroo instance through the internal JupyterHub service, use `wl = wallaroo.Client()`.  For more information on Wallaroo Client settings, see the [Client Connection guide](https://docs.wallaroo.ai/wallaroo-developer-guides/wallaroo-sdk-guides/wallaroo-sdk-essentials-guide/wallaroo-sdk-essentials-client/)."
   ]
  },
  {
   "cell_type": "code",
   "execution_count": 2,
   "metadata": {},
   "outputs": [],
   "source": [
    "## blank space to log in \n",
    "\n",
    "wl = wallaroo.Client()"
   ]
  },
  {
   "cell_type": "markdown",
   "metadata": {},
   "source": [
    "### Set Configurations\n",
    "\n",
    "Set the workspace, pipeline, and model used from Notebook 1.  The helper functions will make this task easier.\n",
    "\n",
    "#### Set Configurations References\n",
    "\n",
    "* [Wallaroo SDK Essentials Guide: Workspace Management](https://docs.wallaroo.ai/wallaroo-developer-guides/wallaroo-sdk-guides/wallaroo-sdk-essentials-guide/wallaroo-sdk-essentials-workspace/)\n",
    "* [Wallaroo SDK Essentials Guide: Pipeline Management](https://docs.wallaroo.ai/wallaroo-developer-guides/wallaroo-sdk-guides/wallaroo-sdk-essentials-guide/wallaroo-sdk-essentials-pipelines/wallaroo-sdk-essentials-pipeline/)"
   ]
  },
  {
   "cell_type": "code",
   "execution_count": 3,
   "metadata": {},
   "outputs": [
    {
     "data": {
      "text/plain": [
       "{'name': 'workshop-workspace-john-cybersecurity', 'id': 14, 'archived': False, 'created_by': '76b893ff-5c30-4f01-bd9e-9579a20fc4ea', 'created_at': '2024-05-01T16:30:01.177583+00:00', 'models': [{'name': 'aloha-prime', 'versions': 1, 'owner_id': '\"\"', 'last_update_time': datetime.datetime(2024, 5, 1, 16, 30, 43, 651533, tzinfo=tzutc()), 'created_at': datetime.datetime(2024, 5, 1, 16, 30, 43, 651533, tzinfo=tzutc())}, {'name': 'aloha-challenger', 'versions': 1, 'owner_id': '\"\"', 'last_update_time': datetime.datetime(2024, 5, 1, 16, 38, 56, 600586, tzinfo=tzutc()), 'created_at': datetime.datetime(2024, 5, 1, 16, 38, 56, 600586, tzinfo=tzutc())}], 'pipelines': [{'name': 'aloha-fraud-detector', 'create_time': datetime.datetime(2024, 5, 1, 16, 30, 53, 995114, tzinfo=tzutc()), 'definition': '[]'}]}"
      ]
     },
     "metadata": {},
     "output_type": "display_data"
    },
    {
     "data": {
      "text/html": [
       "<table>\n",
       "        <tr>\n",
       "          <td>Name</td>\n",
       "          <td>aloha-prime</td>\n",
       "        </tr>\n",
       "        <tr>\n",
       "          <td>Version</td>\n",
       "          <td>c719bc50-f83f-4c79-b4af-f66395a8da04</td>\n",
       "        </tr>\n",
       "        <tr>\n",
       "          <td>File Name</td>\n",
       "          <td>aloha-cnn-lstm.zip</td>\n",
       "        </tr>\n",
       "        <tr>\n",
       "          <td>SHA</td>\n",
       "          <td>fd998cd5e4964bbbb4f8d29d245a8ac67df81b62be767afbceb96a03d1a01520</td>\n",
       "        </tr>\n",
       "        <tr>\n",
       "          <td>Status</td>\n",
       "          <td>ready</td>\n",
       "        </tr>\n",
       "        <tr>\n",
       "          <td>Image Path</td>\n",
       "          <td>None</td>\n",
       "        </tr>\n",
       "        <tr>\n",
       "          <td>Architecture</td>\n",
       "          <td>x86</td>\n",
       "        </tr>\n",
       "        <tr>\n",
       "          <td>Acceleration</td>\n",
       "          <td>none</td>\n",
       "        </tr>\n",
       "        <tr>\n",
       "          <td>Updated At</td>\n",
       "          <td>2024-01-May 16:30:43</td>\n",
       "        </tr>\n",
       "      </table>"
      ],
      "text/plain": [
       "{'name': 'aloha-prime', 'version': 'c719bc50-f83f-4c79-b4af-f66395a8da04', 'file_name': 'aloha-cnn-lstm.zip', 'image_path': None, 'arch': 'x86', 'accel': 'none', 'last_update_time': datetime.datetime(2024, 5, 1, 16, 30, 43, 651533, tzinfo=tzutc())}"
      ]
     },
     "metadata": {},
     "output_type": "display_data"
    },
    {
     "data": {
      "text/html": [
       "<table><tr><th>name</th> <td>aloha-fraud-detector</td></tr><tr><th>created</th> <td>2024-05-01 16:30:53.995114+00:00</td></tr><tr><th>last_updated</th> <td>2024-05-01 20:03:01.505745+00:00</td></tr><tr><th>deployed</th> <td>False</td></tr><tr><th>arch</th> <td>x86</td></tr><tr><th>accel</th> <td>none</td></tr><tr><th>tags</th> <td></td></tr><tr><th>versions</th> <td>8ede9ff5-e42a-404c-b248-fb4c4efd687d, 958397f7-1d3f-472c-8654-21283b8d6d85, ea59aae6-1565-4321-9086-7f8dd2a8e1c2, 41b9260e-21a8-4f16-ad56-c6267d3bae93, 46bdd5a3-fc22-41b7-b1ea-8287c99c241e, 28f5443a-ff67-4f4f-bfc3-f3f95f3c6f83, 435b73f7-76a1-4514-bd41-2cb94d3e78ff, 551242a7-fe4c-4a61-a4c7-e7fcc97509dc, d22eb0d2-9cff-4c5f-a851-10b1a19d8c44, 262909e9-8779-4c56-a994-725ddd0b58c8, 4cdf8e11-1b9c-44ab-a16d-abb054b5e9fe, 6b3529b1-1ff1-454b-8896-460c8c90d667</td></tr><tr><th>steps</th> <td>aloha-prime</td></tr><tr><th>published</th> <td>False</td></tr></table>"
      ],
      "text/plain": [
       "{'name': 'aloha-fraud-detector', 'create_time': datetime.datetime(2024, 5, 1, 16, 30, 53, 995114, tzinfo=tzutc()), 'definition': '[]'}"
      ]
     },
     "metadata": {},
     "output_type": "display_data"
    }
   ],
   "source": [
    "# retrieve the previous workspace, model, and pipeline version\n",
    "\n",
    "workspace_name = \"workshop-workspace-john-cybersecurity\"\n",
    "\n",
    "workspace = wl.get_workspace(name=workspace_name)\n",
    "\n",
    "# set your current workspace to the workspace that you just created\n",
    "wl.set_current_workspace(workspace)\n",
    "\n",
    "# optionally, examine your current workspace\n",
    "wl.get_current_workspace()\n",
    "\n",
    "model_name = 'aloha-prime'\n",
    "\n",
    "prime_model_version = wl.get_model(model_name)\n",
    "\n",
    "pipeline_name = 'aloha-fraud-detector'\n",
    "\n",
    "pipeline = wl.get_pipeline(pipeline_name)\n",
    "\n",
    "display(workspace)\n",
    "display(prime_model_version)\n",
    "display(pipeline)\n"
   ]
  },
  {
   "cell_type": "markdown",
   "metadata": {},
   "source": [
    "## Deploy the Pipeline with the Model Version Step\n",
    "\n",
    "As per the other workshops:\n",
    "\n",
    "1. Clear the pipeline of all steps.\n",
    "1. Add the model version as a pipeline step.\n",
    "1. Deploy the pipeline with the following deployment configuration:\n",
    "\n",
    "```python\n",
    "deploy_config = wallaroo.DeploymentConfigBuilder().replica_count(1).cpus(0.5).memory(\"1Gi\").build()\n",
    "```"
   ]
  },
  {
   "cell_type": "code",
   "execution_count": 4,
   "metadata": {},
   "outputs": [
    {
     "data": {
      "text/html": [
       "<table><tr><th>name</th> <td>aloha-fraud-detector</td></tr><tr><th>created</th> <td>2024-05-01 16:30:53.995114+00:00</td></tr><tr><th>last_updated</th> <td>2024-05-01 20:27:46.871582+00:00</td></tr><tr><th>deployed</th> <td>True</td></tr><tr><th>arch</th> <td>x86</td></tr><tr><th>accel</th> <td>none</td></tr><tr><th>tags</th> <td></td></tr><tr><th>versions</th> <td>6a137f96-72dd-448e-9206-b28334b02b8f, 8ede9ff5-e42a-404c-b248-fb4c4efd687d, 958397f7-1d3f-472c-8654-21283b8d6d85, ea59aae6-1565-4321-9086-7f8dd2a8e1c2, 41b9260e-21a8-4f16-ad56-c6267d3bae93, 46bdd5a3-fc22-41b7-b1ea-8287c99c241e, 28f5443a-ff67-4f4f-bfc3-f3f95f3c6f83, 435b73f7-76a1-4514-bd41-2cb94d3e78ff, 551242a7-fe4c-4a61-a4c7-e7fcc97509dc, d22eb0d2-9cff-4c5f-a851-10b1a19d8c44, 262909e9-8779-4c56-a994-725ddd0b58c8, 4cdf8e11-1b9c-44ab-a16d-abb054b5e9fe, 6b3529b1-1ff1-454b-8896-460c8c90d667</td></tr><tr><th>steps</th> <td>aloha-prime</td></tr><tr><th>published</th> <td>False</td></tr></table>"
      ],
      "text/plain": [
       "{'name': 'aloha-fraud-detector', 'create_time': datetime.datetime(2024, 5, 1, 16, 30, 53, 995114, tzinfo=tzutc()), 'definition': \"[{'ModelInference': {'models': [{'name': 'aloha-prime', 'version': 'c719bc50-f83f-4c79-b4af-f66395a8da04', 'sha': 'fd998cd5e4964bbbb4f8d29d245a8ac67df81b62be767afbceb96a03d1a01520'}]}}]\"}"
      ]
     },
     "execution_count": 4,
     "metadata": {},
     "output_type": "execute_result"
    }
   ],
   "source": [
    "deploy_config = wallaroo.DeploymentConfigBuilder().replica_count(1).cpus(0.5).memory(\"1Gi\").build()\n",
    "pipeline.deploy(deployment_config=deploy_config)"
   ]
  },
  {
   "cell_type": "markdown",
   "metadata": {},
   "source": [
    "### Sample Inference\n",
    "\n",
    "Verify the pipeline is deployed properly with a sample inference with the file `./data/test_data.df.json`."
   ]
  },
  {
   "cell_type": "code",
   "execution_count": 5,
   "metadata": {},
   "outputs": [
    {
     "data": {
      "text/html": [
       "<div>\n",
       "<style scoped>\n",
       "    .dataframe tbody tr th:only-of-type {\n",
       "        vertical-align: middle;\n",
       "    }\n",
       "\n",
       "    .dataframe tbody tr th {\n",
       "        vertical-align: top;\n",
       "    }\n",
       "\n",
       "    .dataframe thead th {\n",
       "        text-align: right;\n",
       "    }\n",
       "</style>\n",
       "<table border=\"1\" class=\"dataframe\">\n",
       "  <thead>\n",
       "    <tr style=\"text-align: right;\">\n",
       "      <th></th>\n",
       "      <th>time</th>\n",
       "      <th>in.text_input</th>\n",
       "      <th>out.banjori</th>\n",
       "      <th>out.corebot</th>\n",
       "      <th>out.cryptolocker</th>\n",
       "      <th>out.dircrypt</th>\n",
       "      <th>out.gozi</th>\n",
       "      <th>out.kraken</th>\n",
       "      <th>out.locky</th>\n",
       "      <th>out.main</th>\n",
       "      <th>out.matsnu</th>\n",
       "      <th>out.pykspa</th>\n",
       "      <th>out.qakbot</th>\n",
       "      <th>out.ramdo</th>\n",
       "      <th>out.ramnit</th>\n",
       "      <th>out.simda</th>\n",
       "      <th>out.suppobox</th>\n",
       "      <th>anomaly.count</th>\n",
       "    </tr>\n",
       "  </thead>\n",
       "  <tbody>\n",
       "    <tr>\n",
       "      <th>0</th>\n",
       "      <td>2024-05-01 20:28:06.155</td>\n",
       "      <td>[0, 0, 0, 0, 0, 0, 0, 0, 0, 0, 0, 0, 0, 0, 0, 0, 0, 0, 0, 0, 0, 0, 0, 0, 0, 0, 0, 0, 0, 0, 0, 0, 0, 0, 0, 0, 0, 0, 0, 0, 28, 16, 32, 23, 29, 32, 30, 19, 26, 17]</td>\n",
       "      <td>[0.0015195814]</td>\n",
       "      <td>[0.98291475]</td>\n",
       "      <td>[0.012099549]</td>\n",
       "      <td>[4.7591115e-05]</td>\n",
       "      <td>[2.0289312e-05]</td>\n",
       "      <td>[0.00031977257]</td>\n",
       "      <td>[0.011029262]</td>\n",
       "      <td>[0.997564]</td>\n",
       "      <td>[0.010341609]</td>\n",
       "      <td>[0.008038961]</td>\n",
       "      <td>[0.016155047]</td>\n",
       "      <td>[0.00623623]</td>\n",
       "      <td>[0.0009985747]</td>\n",
       "      <td>[1.7933434e-26]</td>\n",
       "      <td>[1.388995e-27]</td>\n",
       "      <td>0</td>\n",
       "    </tr>\n",
       "    <tr>\n",
       "      <th>1</th>\n",
       "      <td>2024-05-01 20:28:06.155</td>\n",
       "      <td>[0, 0, 0, 0, 0, 0, 0, 0, 0, 0, 0, 0, 0, 0, 0, 0, 0, 0, 0, 0, 0, 0, 0, 0, 0, 0, 0, 0, 0, 0, 0, 0, 0, 0, 0, 0, 0, 0, 15, 27, 31, 29, 28, 15, 33, 29, 12, 36, 31, 12]</td>\n",
       "      <td>[2.837503e-05]</td>\n",
       "      <td>[1.2753118e-05]</td>\n",
       "      <td>[0.025435215]</td>\n",
       "      <td>[6.150966e-10]</td>\n",
       "      <td>[2.321774e-10]</td>\n",
       "      <td>[0.051351104]</td>\n",
       "      <td>[0.022038758]</td>\n",
       "      <td>[0.9885122]</td>\n",
       "      <td>[0.023624167]</td>\n",
       "      <td>[0.017496044]</td>\n",
       "      <td>[0.07612714]</td>\n",
       "      <td>[0.018284446]</td>\n",
       "      <td>[0.00016227343]</td>\n",
       "      <td>[2.9736e-26]</td>\n",
       "      <td>[6.570557e-23]</td>\n",
       "      <td>0</td>\n",
       "    </tr>\n",
       "    <tr>\n",
       "      <th>2</th>\n",
       "      <td>2024-05-01 20:28:06.155</td>\n",
       "      <td>[0, 0, 0, 0, 0, 0, 0, 0, 0, 0, 0, 0, 0, 0, 0, 0, 0, 0, 0, 0, 0, 0, 0, 0, 0, 0, 0, 0, 0, 0, 0, 0, 0, 0, 0, 0, 0, 0, 0, 0, 0, 26, 25, 21, 16, 22, 20, 19, 19, 28]</td>\n",
       "      <td>[3.0770573e-07]</td>\n",
       "      <td>[4.86675e-05]</td>\n",
       "      <td>[0.036468606]</td>\n",
       "      <td>[2.0693407e-15]</td>\n",
       "      <td>[7.2607375e-18]</td>\n",
       "      <td>[0.09667879]</td>\n",
       "      <td>[0.073321395]</td>\n",
       "      <td>[0.9993358]</td>\n",
       "      <td>[0.0913113]</td>\n",
       "      <td>[0.0527945]</td>\n",
       "      <td>[2.7352993e-07]</td>\n",
       "      <td>[0.041695543]</td>\n",
       "      <td>[0.052203804]</td>\n",
       "      <td>[4.6102867e-37]</td>\n",
       "      <td>[3.6129874e-29]</td>\n",
       "      <td>0</td>\n",
       "    </tr>\n",
       "    <tr>\n",
       "      <th>3</th>\n",
       "      <td>2024-05-01 20:28:06.155</td>\n",
       "      <td>[0, 0, 0, 0, 0, 0, 0, 0, 0, 0, 0, 0, 0, 0, 0, 0, 0, 0, 0, 0, 0, 0, 0, 0, 0, 0, 0, 0, 0, 0, 0, 0, 0, 0, 0, 0, 36, 20, 22, 18, 32, 15, 12, 33, 17, 31, 14, 14, 27, 18]</td>\n",
       "      <td>[8.8228285e-13]</td>\n",
       "      <td>[3.5226062e-06]</td>\n",
       "      <td>[0.100503676]</td>\n",
       "      <td>[1.6081854e-09]</td>\n",
       "      <td>[3.923381e-17]</td>\n",
       "      <td>[0.15465459]</td>\n",
       "      <td>[0.24250229]</td>\n",
       "      <td>[0.99999857]</td>\n",
       "      <td>[0.25655058]</td>\n",
       "      <td>[0.13984609]</td>\n",
       "      <td>[2.9986824e-05]</td>\n",
       "      <td>[0.16115357]</td>\n",
       "      <td>[0.038542073]</td>\n",
       "      <td>[2.5434677e-31]</td>\n",
       "      <td>[5.6750776e-37]</td>\n",
       "      <td>0</td>\n",
       "    </tr>\n",
       "    <tr>\n",
       "      <th>4</th>\n",
       "      <td>2024-05-01 20:28:06.155</td>\n",
       "      <td>[0, 0, 0, 0, 0, 0, 0, 0, 0, 0, 0, 0, 0, 0, 0, 0, 0, 0, 0, 0, 0, 0, 0, 0, 0, 0, 0, 0, 0, 0, 0, 0, 0, 0, 0, 0, 0, 24, 22, 12, 30, 24, 13, 19, 25, 36, 28, 13, 12, 13]</td>\n",
       "      <td>[5.4870607e-06]</td>\n",
       "      <td>[0.0029785605]</td>\n",
       "      <td>[0.0143616935]</td>\n",
       "      <td>[1.9806076e-10]</td>\n",
       "      <td>[3.051769e-10]</td>\n",
       "      <td>[0.014699642]</td>\n",
       "      <td>[0.03709711]</td>\n",
       "      <td>[0.9984837]</td>\n",
       "      <td>[0.036889926]</td>\n",
       "      <td>[0.021504985]</td>\n",
       "      <td>[0.0007605833]</td>\n",
       "      <td>[0.017085439]</td>\n",
       "      <td>[0.0009147275]</td>\n",
       "      <td>[0.0]</td>\n",
       "      <td>[8.360769e-30]</td>\n",
       "      <td>0</td>\n",
       "    </tr>\n",
       "    <tr>\n",
       "      <th>...</th>\n",
       "      <td>...</td>\n",
       "      <td>...</td>\n",
       "      <td>...</td>\n",
       "      <td>...</td>\n",
       "      <td>...</td>\n",
       "      <td>...</td>\n",
       "      <td>...</td>\n",
       "      <td>...</td>\n",
       "      <td>...</td>\n",
       "      <td>...</td>\n",
       "      <td>...</td>\n",
       "      <td>...</td>\n",
       "      <td>...</td>\n",
       "      <td>...</td>\n",
       "      <td>...</td>\n",
       "      <td>...</td>\n",
       "      <td>...</td>\n",
       "      <td>...</td>\n",
       "    </tr>\n",
       "    <tr>\n",
       "      <th>995</th>\n",
       "      <td>2024-05-01 20:28:06.155</td>\n",
       "      <td>[0, 0, 0, 0, 0, 0, 0, 0, 0, 0, 0, 0, 0, 0, 0, 0, 0, 0, 0, 0, 0, 0, 0, 0, 0, 0, 0, 0, 0, 0, 0, 0, 0, 0, 22, 31, 35, 13, 14, 25, 23, 14, 21, 20, 32, 14, 32, 29, 16, 33]</td>\n",
       "      <td>[2.0416806e-12]</td>\n",
       "      <td>[7.744161e-09]</td>\n",
       "      <td>[0.011983096]</td>\n",
       "      <td>[8.3120476e-08]</td>\n",
       "      <td>[7.3397146e-14]</td>\n",
       "      <td>[0.123229906]</td>\n",
       "      <td>[0.07365251]</td>\n",
       "      <td>[0.9999754]</td>\n",
       "      <td>[0.10082034]</td>\n",
       "      <td>[0.057467848]</td>\n",
       "      <td>[0.00017084264]</td>\n",
       "      <td>[0.07321706]</td>\n",
       "      <td>[0.0018467624]</td>\n",
       "      <td>[3.284046e-36]</td>\n",
       "      <td>[0.0]</td>\n",
       "      <td>0</td>\n",
       "    </tr>\n",
       "    <tr>\n",
       "      <th>996</th>\n",
       "      <td>2024-05-01 20:28:06.155</td>\n",
       "      <td>[0, 0, 0, 0, 0, 0, 0, 0, 0, 0, 0, 0, 0, 0, 0, 0, 0, 0, 0, 0, 0, 0, 0, 0, 0, 0, 0, 0, 0, 0, 0, 0, 0, 0, 0, 0, 0, 0, 0, 0, 0, 25, 20, 29, 23, 14, 12, 27, 35, 34]</td>\n",
       "      <td>[5.5039258e-11]</td>\n",
       "      <td>[2.5695294e-07]</td>\n",
       "      <td>[0.10195666]</td>\n",
       "      <td>[6.0391613e-07]</td>\n",
       "      <td>[5.471229e-18]</td>\n",
       "      <td>[0.031199494]</td>\n",
       "      <td>[0.15874198]</td>\n",
       "      <td>[0.9999727]</td>\n",
       "      <td>[0.10557272]</td>\n",
       "      <td>[0.060710385]</td>\n",
       "      <td>[1.0149461e-07]</td>\n",
       "      <td>[0.034435842]</td>\n",
       "      <td>[0.25794983]</td>\n",
       "      <td>[8.326947e-27]</td>\n",
       "      <td>[4.358661e-21]</td>\n",
       "      <td>0</td>\n",
       "    </tr>\n",
       "    <tr>\n",
       "      <th>997</th>\n",
       "      <td>2024-05-01 20:28:06.155</td>\n",
       "      <td>[0, 0, 0, 0, 0, 0, 0, 0, 0, 0, 0, 0, 0, 0, 0, 0, 0, 0, 0, 0, 0, 0, 0, 0, 0, 0, 0, 0, 0, 0, 0, 0, 0, 0, 0, 0, 0, 0, 0, 0, 0, 0, 16, 28, 19, 19, 28, 15, 12, 18]</td>\n",
       "      <td>[0.011286308]</td>\n",
       "      <td>[0.06214513]</td>\n",
       "      <td>[0.09424207]</td>\n",
       "      <td>[6.8554013e-16]</td>\n",
       "      <td>[0.0031474212]</td>\n",
       "      <td>[0.013521446]</td>\n",
       "      <td>[0.0521531]</td>\n",
       "      <td>[0.66066873]</td>\n",
       "      <td>[0.039717037]</td>\n",
       "      <td>[0.026172414]</td>\n",
       "      <td>[0.015154914]</td>\n",
       "      <td>[0.019907918]</td>\n",
       "      <td>[0.040248252]</td>\n",
       "      <td>[9.4758866e-27]</td>\n",
       "      <td>[1.1339277e-21]</td>\n",
       "      <td>0</td>\n",
       "    </tr>\n",
       "    <tr>\n",
       "      <th>998</th>\n",
       "      <td>2024-05-01 20:28:06.155</td>\n",
       "      <td>[0, 0, 0, 0, 0, 0, 0, 0, 0, 0, 0, 0, 0, 0, 0, 0, 0, 0, 0, 0, 0, 0, 0, 0, 0, 0, 0, 0, 0, 0, 0, 0, 0, 0, 0, 0, 0, 0, 0, 0, 0, 0, 29, 12, 19, 35, 16, 35, 27, 16]</td>\n",
       "      <td>[5.6315566e-06]</td>\n",
       "      <td>[3.3642746e-06]</td>\n",
       "      <td>[0.13612257]</td>\n",
       "      <td>[5.6732154e-11]</td>\n",
       "      <td>[2.7730684e-08]</td>\n",
       "      <td>[0.0025221605]</td>\n",
       "      <td>[0.05455697]</td>\n",
       "      <td>[0.9998954]</td>\n",
       "      <td>[0.03288219]</td>\n",
       "      <td>[0.021166842]</td>\n",
       "      <td>[0.000873619]</td>\n",
       "      <td>[0.016495932]</td>\n",
       "      <td>[0.014340238]</td>\n",
       "      <td>[1.683203e-30]</td>\n",
       "      <td>[4.5956004e-25]</td>\n",
       "      <td>0</td>\n",
       "    </tr>\n",
       "    <tr>\n",
       "      <th>999</th>\n",
       "      <td>2024-05-01 20:28:06.155</td>\n",
       "      <td>[0, 0, 0, 0, 0, 0, 0, 0, 0, 0, 0, 0, 0, 0, 0, 0, 0, 0, 0, 0, 0, 0, 0, 0, 0, 0, 0, 0, 0, 0, 0, 0, 25, 12, 28, 30, 19, 34, 26, 18, 31, 25, 13, 29, 17, 24, 29, 14, 36, 13]</td>\n",
       "      <td>[1.3068625e-12]</td>\n",
       "      <td>[1.1029468e-09]</td>\n",
       "      <td>[0.014839977]</td>\n",
       "      <td>[2.2757316e-08]</td>\n",
       "      <td>[8.438438e-15]</td>\n",
       "      <td>[0.30495816]</td>\n",
       "      <td>[0.11627986]</td>\n",
       "      <td>[0.99999803]</td>\n",
       "      <td>[0.14364219]</td>\n",
       "      <td>[0.10407086]</td>\n",
       "      <td>[6.763152e-07]</td>\n",
       "      <td>[0.12739345]</td>\n",
       "      <td>[0.007844242]</td>\n",
       "      <td>[2.8263536e-35]</td>\n",
       "      <td>[0.0]</td>\n",
       "      <td>0</td>\n",
       "    </tr>\n",
       "  </tbody>\n",
       "</table>\n",
       "<p>1000 rows × 18 columns</p>\n",
       "</div>"
      ],
      "text/plain": [
       "                       time  \\\n",
       "0   2024-05-01 20:28:06.155   \n",
       "1   2024-05-01 20:28:06.155   \n",
       "2   2024-05-01 20:28:06.155   \n",
       "3   2024-05-01 20:28:06.155   \n",
       "4   2024-05-01 20:28:06.155   \n",
       "..                      ...   \n",
       "995 2024-05-01 20:28:06.155   \n",
       "996 2024-05-01 20:28:06.155   \n",
       "997 2024-05-01 20:28:06.155   \n",
       "998 2024-05-01 20:28:06.155   \n",
       "999 2024-05-01 20:28:06.155   \n",
       "\n",
       "                                                                                                                                                                in.text_input  \\\n",
       "0            [0, 0, 0, 0, 0, 0, 0, 0, 0, 0, 0, 0, 0, 0, 0, 0, 0, 0, 0, 0, 0, 0, 0, 0, 0, 0, 0, 0, 0, 0, 0, 0, 0, 0, 0, 0, 0, 0, 0, 0, 28, 16, 32, 23, 29, 32, 30, 19, 26, 17]   \n",
       "1          [0, 0, 0, 0, 0, 0, 0, 0, 0, 0, 0, 0, 0, 0, 0, 0, 0, 0, 0, 0, 0, 0, 0, 0, 0, 0, 0, 0, 0, 0, 0, 0, 0, 0, 0, 0, 0, 0, 15, 27, 31, 29, 28, 15, 33, 29, 12, 36, 31, 12]   \n",
       "2             [0, 0, 0, 0, 0, 0, 0, 0, 0, 0, 0, 0, 0, 0, 0, 0, 0, 0, 0, 0, 0, 0, 0, 0, 0, 0, 0, 0, 0, 0, 0, 0, 0, 0, 0, 0, 0, 0, 0, 0, 0, 26, 25, 21, 16, 22, 20, 19, 19, 28]   \n",
       "3        [0, 0, 0, 0, 0, 0, 0, 0, 0, 0, 0, 0, 0, 0, 0, 0, 0, 0, 0, 0, 0, 0, 0, 0, 0, 0, 0, 0, 0, 0, 0, 0, 0, 0, 0, 0, 36, 20, 22, 18, 32, 15, 12, 33, 17, 31, 14, 14, 27, 18]   \n",
       "4         [0, 0, 0, 0, 0, 0, 0, 0, 0, 0, 0, 0, 0, 0, 0, 0, 0, 0, 0, 0, 0, 0, 0, 0, 0, 0, 0, 0, 0, 0, 0, 0, 0, 0, 0, 0, 0, 24, 22, 12, 30, 24, 13, 19, 25, 36, 28, 13, 12, 13]   \n",
       "..                                                                                                                                                                        ...   \n",
       "995    [0, 0, 0, 0, 0, 0, 0, 0, 0, 0, 0, 0, 0, 0, 0, 0, 0, 0, 0, 0, 0, 0, 0, 0, 0, 0, 0, 0, 0, 0, 0, 0, 0, 0, 22, 31, 35, 13, 14, 25, 23, 14, 21, 20, 32, 14, 32, 29, 16, 33]   \n",
       "996           [0, 0, 0, 0, 0, 0, 0, 0, 0, 0, 0, 0, 0, 0, 0, 0, 0, 0, 0, 0, 0, 0, 0, 0, 0, 0, 0, 0, 0, 0, 0, 0, 0, 0, 0, 0, 0, 0, 0, 0, 0, 25, 20, 29, 23, 14, 12, 27, 35, 34]   \n",
       "997            [0, 0, 0, 0, 0, 0, 0, 0, 0, 0, 0, 0, 0, 0, 0, 0, 0, 0, 0, 0, 0, 0, 0, 0, 0, 0, 0, 0, 0, 0, 0, 0, 0, 0, 0, 0, 0, 0, 0, 0, 0, 0, 16, 28, 19, 19, 28, 15, 12, 18]   \n",
       "998            [0, 0, 0, 0, 0, 0, 0, 0, 0, 0, 0, 0, 0, 0, 0, 0, 0, 0, 0, 0, 0, 0, 0, 0, 0, 0, 0, 0, 0, 0, 0, 0, 0, 0, 0, 0, 0, 0, 0, 0, 0, 0, 29, 12, 19, 35, 16, 35, 27, 16]   \n",
       "999  [0, 0, 0, 0, 0, 0, 0, 0, 0, 0, 0, 0, 0, 0, 0, 0, 0, 0, 0, 0, 0, 0, 0, 0, 0, 0, 0, 0, 0, 0, 0, 0, 25, 12, 28, 30, 19, 34, 26, 18, 31, 25, 13, 29, 17, 24, 29, 14, 36, 13]   \n",
       "\n",
       "         out.banjori      out.corebot out.cryptolocker     out.dircrypt  \\\n",
       "0     [0.0015195814]     [0.98291475]    [0.012099549]  [4.7591115e-05]   \n",
       "1     [2.837503e-05]  [1.2753118e-05]    [0.025435215]   [6.150966e-10]   \n",
       "2    [3.0770573e-07]    [4.86675e-05]    [0.036468606]  [2.0693407e-15]   \n",
       "3    [8.8228285e-13]  [3.5226062e-06]    [0.100503676]  [1.6081854e-09]   \n",
       "4    [5.4870607e-06]   [0.0029785605]   [0.0143616935]  [1.9806076e-10]   \n",
       "..               ...              ...              ...              ...   \n",
       "995  [2.0416806e-12]   [7.744161e-09]    [0.011983096]  [8.3120476e-08]   \n",
       "996  [5.5039258e-11]  [2.5695294e-07]     [0.10195666]  [6.0391613e-07]   \n",
       "997    [0.011286308]     [0.06214513]     [0.09424207]  [6.8554013e-16]   \n",
       "998  [5.6315566e-06]  [3.3642746e-06]     [0.13612257]  [5.6732154e-11]   \n",
       "999  [1.3068625e-12]  [1.1029468e-09]    [0.014839977]  [2.2757316e-08]   \n",
       "\n",
       "            out.gozi       out.kraken      out.locky      out.main  \\\n",
       "0    [2.0289312e-05]  [0.00031977257]  [0.011029262]    [0.997564]   \n",
       "1     [2.321774e-10]    [0.051351104]  [0.022038758]   [0.9885122]   \n",
       "2    [7.2607375e-18]     [0.09667879]  [0.073321395]   [0.9993358]   \n",
       "3     [3.923381e-17]     [0.15465459]   [0.24250229]  [0.99999857]   \n",
       "4     [3.051769e-10]    [0.014699642]   [0.03709711]   [0.9984837]   \n",
       "..               ...              ...            ...           ...   \n",
       "995  [7.3397146e-14]    [0.123229906]   [0.07365251]   [0.9999754]   \n",
       "996   [5.471229e-18]    [0.031199494]   [0.15874198]   [0.9999727]   \n",
       "997   [0.0031474212]    [0.013521446]    [0.0521531]  [0.66066873]   \n",
       "998  [2.7730684e-08]   [0.0025221605]   [0.05455697]   [0.9998954]   \n",
       "999   [8.438438e-15]     [0.30495816]   [0.11627986]  [0.99999803]   \n",
       "\n",
       "        out.matsnu     out.pykspa       out.qakbot      out.ramdo  \\\n",
       "0    [0.010341609]  [0.008038961]    [0.016155047]   [0.00623623]   \n",
       "1    [0.023624167]  [0.017496044]     [0.07612714]  [0.018284446]   \n",
       "2      [0.0913113]    [0.0527945]  [2.7352993e-07]  [0.041695543]   \n",
       "3     [0.25655058]   [0.13984609]  [2.9986824e-05]   [0.16115357]   \n",
       "4    [0.036889926]  [0.021504985]   [0.0007605833]  [0.017085439]   \n",
       "..             ...            ...              ...            ...   \n",
       "995   [0.10082034]  [0.057467848]  [0.00017084264]   [0.07321706]   \n",
       "996   [0.10557272]  [0.060710385]  [1.0149461e-07]  [0.034435842]   \n",
       "997  [0.039717037]  [0.026172414]    [0.015154914]  [0.019907918]   \n",
       "998   [0.03288219]  [0.021166842]    [0.000873619]  [0.016495932]   \n",
       "999   [0.14364219]   [0.10407086]   [6.763152e-07]   [0.12739345]   \n",
       "\n",
       "          out.ramnit        out.simda     out.suppobox  anomaly.count  \n",
       "0     [0.0009985747]  [1.7933434e-26]   [1.388995e-27]              0  \n",
       "1    [0.00016227343]     [2.9736e-26]   [6.570557e-23]              0  \n",
       "2      [0.052203804]  [4.6102867e-37]  [3.6129874e-29]              0  \n",
       "3      [0.038542073]  [2.5434677e-31]  [5.6750776e-37]              0  \n",
       "4     [0.0009147275]            [0.0]   [8.360769e-30]              0  \n",
       "..               ...              ...              ...            ...  \n",
       "995   [0.0018467624]   [3.284046e-36]            [0.0]              0  \n",
       "996     [0.25794983]   [8.326947e-27]   [4.358661e-21]              0  \n",
       "997    [0.040248252]  [9.4758866e-27]  [1.1339277e-21]              0  \n",
       "998    [0.014340238]   [1.683203e-30]  [4.5956004e-25]              0  \n",
       "999    [0.007844242]  [2.8263536e-35]            [0.0]              0  \n",
       "\n",
       "[1000 rows x 18 columns]"
      ]
     },
     "execution_count": 5,
     "metadata": {},
     "output_type": "execute_result"
    }
   ],
   "source": [
    "# sample inference from previous code here\n",
    "\n",
    "pipeline.infer_from_file('../data/data-1k.df.json')"
   ]
  },
  {
   "cell_type": "markdown",
   "metadata": {},
   "source": [
    "## Sample Orchestration\n",
    "\n",
    "The orchestration that will automate this process is `./orchestration/real-estate-orchestration.zip`.  The files used are stored in the directory `/orchestration/real-estate-orchestration`, created with the command:\n",
    "\n",
    "`zip -r real-estate-orchestration.zip real-estate-orchestration/*`.\n",
    "\n",
    "This contains the following:\n",
    "\n",
    "* `requirements.txt`:  The Python requirements file to specify the following libraries used.  For this example, that will be empty since we will be using the \n",
    "* `main.py`: The entry file that uses a deployed pipeline and performs an inference request against it visible from its log files.\n",
    "* `data/`: Inference data sources.\n",
    "\n",
    "The `main.py` script performs a workspace and pipeline retrieval, then an inference against the inference input file.\n",
    "\n",
    "```python\n",
    "import wallaroo\n",
    "from wallaroo.object import EntityNotFoundError\n",
    "import pandas as pd\n",
    "\n",
    "wl = wallaroo.Client()\n",
    "\n",
    "# get the arguments\n",
    "arguments = wl.task_args()\n",
    "\n",
    "if \"workspace_name\" in arguments:\n",
    "    workspace_name = arguments['workspace_name']\n",
    "else:\n",
    "    workspace_name=\"workshop-workspace-john\"\n",
    "\n",
    "if \"pipeline_name\" in arguments:\n",
    "    pipeline_name = arguments['pipeline_name']\n",
    "else:\n",
    "    pipeline_name=\"aloha-prime\"\n",
    "\n",
    "\n",
    "print(f\"Workspace: {workspace_name}\")\n",
    "workspace = wl.get_workspace(workspace_name)\n",
    "\n",
    "wl.set_current_workspace(workspace)\n",
    "print(workspace)\n",
    "\n",
    "# the pipeline is assumed to be deployed\n",
    "print(f\"Pipeline: {pipeline_name}\")\n",
    "pipeline = wl.get_pipeline(pipeline_name, workspace)\n",
    "print(pipeline)\n",
    "\n",
    "print(pipeline.status())\n",
    "\n",
    "inference_result = pipeline.infer_from_file('./data/data-1k.df.json')\n",
    "print(inference_result)\n",
    "\n",
    "\n",
    "```\n",
    "\n",
    "A few things to go over here.  You'll notice this is almost the exact procedures we've been following so far:  we get a workspace and pipeline, pull data from a CSV file, and perform an inference off the data.\n",
    "\n",
    "This script assumes that the pipeline has already been deployed, and also includes this part:\n",
    "\n",
    "`arguments = wl.task_args()`\n",
    "\n",
    "This allows us to pass arguments into a Task created from an Orchestration, so we can specify a different workspace, pipeline, or any other arguments we construct.  This allows orchestrations to be very flexible.\n",
    "\n",
    "Also, notice that it refers to a specific file:\n",
    "\n",
    "`inference_result = pipeline.infer_file_file('./data/test_data.df.json')`\n",
    "\n",
    "In the `forecast-orchestration` directory is the `data` directory with our sample CSV file.  Orchestrations can include additional artifacts.  We could have used a Wallaroo Connection instead, and we encourage you to try that if you want."
   ]
  },
  {
   "cell_type": "markdown",
   "metadata": {},
   "source": [
    "## Upload Orchestration\n",
    "\n",
    "Orchestrations are uploaded with the Wallaroo client `upload_orchestration(path)` method with the following parameters.\n",
    "\n",
    "| Parameter | Type | Description |\n",
    "| --- | --- | ---|\n",
    "| **path** | string (Required) | The path to the ZIP file to be uploaded. |\n",
    "\n",
    "Once uploaded, the deployment will be prepared and any requirements will be downloaded and installed.  A typical orchestration upload looks like this:\n",
    "\n",
    "```python\n",
    "my_orchestration = wl.upload_orchestration(path-to-zip-file)\n",
    "```\n",
    "\n",
    "### Upload Orchestration Exercise\n",
    "\n",
    "Try uploading our orchestration from `./forecast-orchestration/forecast-orchestration.zip` - or make your own and upload it.\n",
    "\n",
    "Once uploaded, you can check the status with the `status()`.  If using the orchestration example above, that would be `my_orchestration.status()`  This is handy to make into a loop to check the status until is shows `ready`.\n",
    "\n",
    "Here's an example of uploading the Orchestration file, then a loop that will keep checking the status every 5 seconds until it returns `ready`.\n",
    "\n",
    "```python\n",
    "orchestration = wl.upload_orchestration(name=\"my real example\", path=\"./orchestration/real-estate-orchestration.zip\")\n",
    "\n",
    "while orchestration.status() != 'ready':\n",
    "    print(orchestration.status())\n",
    "    time.sleep(5)\n",
    "```\n"
   ]
  },
  {
   "cell_type": "code",
   "execution_count": 29,
   "metadata": {},
   "outputs": [
    {
     "name": "stdout",
     "output_type": "stream",
     "text": [
      "pending_packaging\n",
      "pending_packaging\n",
      "packaging\n",
      "packaging\n",
      "packaging\n",
      "packaging\n",
      "packaging\n",
      "packaging\n",
      "packaging\n",
      "packaging\n"
     ]
    }
   ],
   "source": [
    "orchestration = wl.upload_orchestration(name=\"cybersecurity-john-sample\", \n",
    "                                        path=\"../orchestration/cybersecurity-orchestration.zip\")\n",
    "\n",
    "while orchestration.status() != 'ready':\n",
    "    print(orchestration.status())\n",
    "    time.sleep(5)"
   ]
  },
  {
   "cell_type": "markdown",
   "metadata": {},
   "source": [
    "## List Orchestrations\n",
    "\n",
    "Orchestrations are listed with the Wallaroo Client `list_orchestrations()` method.  Orchestrations can be retrieved to a variable by allocated their position in the array - for example:  `orchestration = wl.list_orchestrations()[0]` would return the first orchestration on the list.\n",
    "\n",
    "### List Orchestrations Exercise\n",
    "\n",
    "List all of the orchestrations in your Wallaroo instance.  For example, if your client is saved to `wl`, here's some code that would work.\n",
    "\n",
    "```python\n",
    "wl.list_orchestrations()\n",
    "```"
   ]
  },
  {
   "cell_type": "code",
   "execution_count": 30,
   "metadata": {},
   "outputs": [
    {
     "data": {
      "text/html": [
       "<table><tr><th>id</th><th>name</th><th>status</th><th>filename</th><th>sha</th><th>created at</th><th>updated at</th></tr><tr><td>b347e2b8-2029-4918-b10e-88130f8b4da7</td><td>cybersecurity jch</td><td>ready</td><td>cybersecurity-orchestration.zip</td><td>9631c1...dd42aa</td><td>2024-01-May 20:32:14</td><td>2024-01-May 20:33:05</td></tr><tr><td>d3165b5f-02b6-49b2-a481-bc19b45e736b</td><td>cybersecurity-john</td><td>ready</td><td>cybersecurity-orchestration.zip</td><td>9631c1...dd42aa</td><td>2024-01-May 20:37:39</td><td>2024-01-May 20:38:28</td></tr><tr><td>54d61445-1001-4747-b1bf-3d1f333ff725</td><td>cybersecurity-john-sample</td><td>ready</td><td>cybersecurity-orchestration.zip</td><td>f90818...8772a5</td><td>2024-01-May 20:42:36</td><td>2024-01-May 20:43:25</td></tr></table>"
      ],
      "text/plain": [
       "[<wallaroo.orchestration.Orchestration at 0x16a270970>,\n",
       " <wallaroo.orchestration.Orchestration at 0x16a260be0>,\n",
       " <wallaroo.orchestration.Orchestration at 0x16a2603a0>]"
      ]
     },
     "execution_count": 30,
     "metadata": {},
     "output_type": "execute_result"
    }
   ],
   "source": [
    "# list orchestration here\n",
    "\n",
    "wl.list_orchestrations()"
   ]
  },
  {
   "cell_type": "markdown",
   "metadata": {},
   "source": [
    "## Retrieve Orchestration from List\n",
    "\n",
    "The command `wallaroo.client.list_orchestrations()` returns a List of orchestrations.  We can assign any of the orchestrations in the list to a variable, then use that for other commands.\n",
    "\n",
    "## Retrieve Orchestration from List Exercise\n",
    "\n",
    "Use the `list_orchestrations` command and store the orchestration we just uploaded.\n",
    "\n",
    "Here's some sample code to get you started that stores the last orchestration in the list to the variable `orchestration_from_list`.\n",
    "\n",
    "```python\n",
    "orchestration_from_list = wl.list_orchestrations()[-1]\n",
    "```"
   ]
  },
  {
   "cell_type": "code",
   "execution_count": 31,
   "metadata": {},
   "outputs": [
    {
     "data": {
      "text/html": [
       "\n",
       "        <table>\n",
       "          <tr>\n",
       "            <th>Field</th>\n",
       "            <th>Value</th>\n",
       "          </tr>\n",
       "          <tr>\n",
       "            <td>ID</td><td>54d61445-1001-4747-b1bf-3d1f333ff725</td>\n",
       "          </tr>\n",
       "          <tr>\n",
       "            <td>Name</td><td>cybersecurity-john-sample</td>\n",
       "          </tr>\n",
       "          <tr>\n",
       "            <td>File Name</td><td>cybersecurity-orchestration.zip</td>\n",
       "          </tr>\n",
       "          <tr>\n",
       "            <td>SHA</td><td>f9081889579ff91a51d4f1d3ec34bfa8633b6deadd65c7828970151a258772a5</td>\n",
       "          </tr>\n",
       "          <tr>\n",
       "            <td>Status</td><td>ready</td>\n",
       "          </tr>\n",
       "          <tr>\n",
       "            <td>Created At</td><td>2024-01-May 20:42:36</td>\n",
       "          </tr>\n",
       "          <tr>\n",
       "            <td>Updated At</td><td>2024-01-May 20:43:25</td>\n",
       "          </tr>\n",
       "        </table>\n",
       "        "
      ],
      "text/plain": [
       "<wallaroo.orchestration.Orchestration at 0x16a40bd60>"
      ]
     },
     "execution_count": 31,
     "metadata": {},
     "output_type": "execute_result"
    }
   ],
   "source": [
    "# retrieve the orchestration from the list\n",
    "\n",
    "orchestration_from_list = wl.list_orchestrations()[-1]\n",
    "orchestration_from_list"
   ]
  },
  {
   "cell_type": "markdown",
   "metadata": {},
   "source": [
    "## Create Run Once Task from Orchestration\n",
    "\n",
    "The orchestration is now ready to be implemented as a Wallaroo Task.  We'll just run it once as an example.  This specific Orchestration that creates the Task assumes that the pipeline is deployed, and accepts the arguments:\n",
    "\n",
    "* workspace_name\n",
    "* pipeline_name\n",
    "\n",
    "Tasks are either Run Once, or Run Scheduled.  We create a new task from the Orchestration with either `run_once(task_name, json_args, timeout)` or with `run_scheduled(name, timeout,schedule,json_args)`.  The schedule is based on the Kubernetes cron scheduler.  For example:\n",
    "\n",
    "```python\n",
    "schedule={'42 * * * *'}\n",
    "```\n",
    "\n",
    "Runs every 42 minutes and contains the answer to life, the universe, and everything.\n",
    "\n",
    "Creating a scheduled task might be:\n",
    "\n",
    "```python\n",
    "task_scheduled = orchestration.run_scheduled(name=\"schedule example\", \n",
    "                                             timeout=600, \n",
    "                                             schedule=schedule, \n",
    "                                             json_args={\"workspace_name\": workspace_name, \n",
    "                                                        \"pipeline_name\": pipeline_name})\n",
    "```\n",
    "\n",
    "\n",
    "### Create Run Once Task from Orchestration Exercise\n",
    "\n",
    "Using the uploaded orchestration, create a Run Once task using your workspace and pipeline names as the `json_args`.  Here's an example using the variables set above.\n",
    "\n",
    "```python\n",
    "task = orchestration.run_once(name=\"real estate task\", \n",
    "                              json_args={\"workspace_name\":workspace_name,\n",
    "                                         \"pipeline_name\":pipeline_name}\n",
    "                              )\n",
    "```"
   ]
  },
  {
   "cell_type": "code",
   "execution_count": 32,
   "metadata": {},
   "outputs": [],
   "source": [
    "# create your task here\n",
    "\n",
    "task = orchestration.run_once(name=\"real estate task\", \n",
    "                              json_args={\"workspace_name\":workspace_name,\n",
    "                                         \"pipeline_name\":pipeline_name\n",
    "                                         }\n",
    "                              )"
   ]
  },
  {
   "cell_type": "markdown",
   "metadata": {},
   "source": [
    "## Monitor Task Run with Task Status\n",
    "\n",
    "The Task is the **schedule** to execute the instructions within the orchestration.  The actual execution of the task is the **task run**.  A Run Once task will create one Task Run, while a Run Scheduled task will generate a new Task Run each time the schedule pattern is set.\n",
    "\n",
    "The status task is viewed with the task `status()` command, where it is either `pending` (no tasks runs are generated yet), or `started` (a task run has been started).\n",
    "\n",
    "## Monitor Task Run with Task Status Example\n",
    "\n",
    "We'll monitor the run first with it's status with the `Task.status()` command.\n",
    "\n",
    "Get the status of the task, and once it is `started` proceed to the next step.  Try doing it as a `while` loop if you feel confident.  Here's some sample code where the task was saved to the variable `task`.\n",
    "\n",
    "```python\n",
    "task.status\n",
    "```\n",
    "\n",
    "Or as a loop pausing ever 5 seconds until the task status is `started`.\n",
    "\n",
    "```python\n",
    "while task.status() != \"started\":\n",
    "    display(task.status())\n",
    "    time.sleep(5)\n",
    "```\n"
   ]
  },
  {
   "cell_type": "code",
   "execution_count": 33,
   "metadata": {},
   "outputs": [
    {
     "data": {
      "text/plain": [
       "'pending'"
      ]
     },
     "metadata": {},
     "output_type": "display_data"
    }
   ],
   "source": [
    "while task.status() != \"started\":\n",
    "    display(task.status())\n",
    "    time.sleep(5)"
   ]
  },
  {
   "cell_type": "markdown",
   "metadata": {},
   "source": [
    "## List Tasks\n",
    "\n",
    "The Wallaroo client `list_tasks` method returns a list of tasks, and shows the the last task run status.\n",
    "\n",
    "### List Tasks Exercise\n",
    "\n",
    "List the tasks in your Wallaroo instance.  For example, if your Wallaroo client is stored as `wl`, this would show your tasks.\n",
    "\n",
    "```python\n",
    "wl.list_tasks()\n",
    "```"
   ]
  },
  {
   "cell_type": "code",
   "execution_count": 34,
   "metadata": {},
   "outputs": [
    {
     "data": {
      "text/html": [
       "<table><tr><th>id</th><th>name</th><th>last run status</th><th>type</th><th>active</th><th>schedule</th><th>created at</th><th>updated at</th></tr><tr><td>fea6316c-77a0-4a63-abdf-1c872d55353a</td><td>real estate task</td><td>running</td><td>Temporary Run</td><td>True</td><td>-</td><td>2024-01-May 20:43:31</td><td>2024-01-May 20:43:37</td></tr><tr><td>012f55ec-11af-4ae5-b980-63298be2eaf7</td><td>real estate task</td><td>failure</td><td>Temporary Run</td><td>True</td><td>-</td><td>2024-01-May 20:38:33</td><td>2024-01-May 20:38:39</td></tr><tr><td>c9ca8499-0cc2-4546-bebe-e99a0de3b1e5</td><td>real estate task</td><td>failure</td><td>Temporary Run</td><td>True</td><td>-</td><td>2024-01-May 20:33:49</td><td>2024-01-May 20:33:55</td></tr></table>"
      ],
      "text/plain": [
       "[<wallaroo.task.Task at 0x16a44ad60>,\n",
       " <wallaroo.task.Task at 0x16a44adc0>,\n",
       " <wallaroo.task.Task at 0x16a44ae20>]"
      ]
     },
     "execution_count": 34,
     "metadata": {},
     "output_type": "execute_result"
    }
   ],
   "source": [
    "# empty space to list tasks\n",
    "\n",
    "wl.list_tasks()"
   ]
  },
  {
   "cell_type": "markdown",
   "metadata": {},
   "source": [
    "## Display Task Run Results\n",
    "\n",
    "The Task Run is the implementation of the task - the actual running of the script and it's results.  Tasks that are Run Once will only have one Task Run, while a Task set to Run Scheduled will have a Task Run for each time the task is executed.  Each Task Run has its own set of logs and results that are monitored through the Task Run `logs()` method.\n",
    "\n",
    "First, get the Task Run - this is the actual execution of a Task.  The Task is the **scheduled** run of an Orchestration.  The Task Run is the **implementation** of a scheduled Task.  A Run Once Task while generate one Task Run, while a Scheduled Task generated a new Task Run every time the schedule pattern is met until the Task is killed.\n",
    "\n",
    "We retrieve the task runs with the Task `last_runs()` method, and assign a single Task Run to a variable by selecting it with the list with `last_runs()[index]`.  If you only have one Task Run from a Task, then you can just set the `index` to 0.\n",
    "\n",
    "### Display Task Run Results Exercise\n",
    "\n",
    "Retrieve the task run for our generated task, then start checking the logs for our task run.  It may take longer than 30 seconds to launch the task, so be prepared to the command multiple times until is it displayed.  Store the task into a variable for later use.\n",
    "\n",
    "Here's a code sample where the task was saved to the variable `task`.\n",
    "\n",
    "```python\n",
    "task_run = task.last_runs()[0]\n",
    "task_run\n",
    "```\n",
    "\n"
   ]
  },
  {
   "cell_type": "code",
   "execution_count": 38,
   "metadata": {},
   "outputs": [
    {
     "data": {
      "text/html": [
       "\n",
       "            <table>\n",
       "              <tr><th>Field</th><th>Value</th></tr>\n",
       "              <tr><td>Task</td><td>fea6316c-77a0-4a63-abdf-1c872d55353a</td></tr>\n",
       "              <tr><td>Pod ID</td><td>107dd2f8-7e3c-4cbe-b072-3ed0d95a9222</td></tr>\n",
       "              <tr><td>Status</td><td>success</td></tr>\n",
       "              <tr><td>Created At</td><td>2024-01-May 20:43:34</td></tr>\n",
       "              <tr><td>Updated At</td><td>2024-01-May 20:43:34</td></tr>\n",
       "            </table>\n",
       "            "
      ],
      "text/plain": [
       "<wallaroo.task_run.TaskRun at 0x300b658b0>"
      ]
     },
     "execution_count": 38,
     "metadata": {},
     "output_type": "execute_result"
    }
   ],
   "source": [
    "task_run = task.last_runs()[0]\n",
    "task_run"
   ]
  },
  {
   "cell_type": "markdown",
   "metadata": {},
   "source": [
    "The Task Run Status is checked with the `_status` method.  This lets you know if there was a failure or if it ran successfully.  If it didn't, you can still get the task run logs to find out why."
   ]
  },
  {
   "cell_type": "code",
   "execution_count": 39,
   "metadata": {},
   "outputs": [
    {
     "data": {
      "text/plain": [
       "'success'"
      ]
     },
     "execution_count": 39,
     "metadata": {},
     "output_type": "execute_result"
    }
   ],
   "source": [
    "task_run._status"
   ]
  },
  {
   "cell_type": "markdown",
   "metadata": {},
   "source": [
    "## Retrieve Task Run Logs\n",
    "\n",
    "The Task Run logs are retrieved with the Wallaroo task runs `log()`, and shows the outputs of the results.  This is why it's useful to have `print` commands in your code to track what it's doing.\n",
    "\n",
    "### Retrieve Task Run Logs Exercise\n",
    "\n",
    "Take the task run and display the logs.  It may take a few minutes for the logs to show up, so you may need to refresh the code below a few times.  Here's a quick example of some code.\n",
    "\n",
    "```python\n",
    "task_run.logs()\n",
    "```"
   ]
  },
  {
   "cell_type": "code",
   "execution_count": 40,
   "metadata": {},
   "outputs": [
    {
     "data": {
      "text/html": [
       "<pre><code>2024-01-May 20:43:44 Workspace: workshop-workspace-john-cybersecurity\n",
       "2024-01-May 20:43:44 {'name': 'workshop-workspace-john-cybersecurity', 'id': 14, 'archived': False, 'created_by': '76b893ff-5c30-4f01-bd9e-9579a20fc4ea', 'created_at': '2024-05-01T16:30:01.177583+00:00', 'models': [{'name': 'aloha-prime', 'versions': 1, 'owner_id': '\"\"', 'last_update_time': datetime.datetime(2024, 5, 1, 16, 30, 43, 651533, tzinfo=tzutc()), 'created_at': datetime.datetime(2024, 5, 1, 16, 30, 43, 651533, tzinfo=tzutc())}, {'name': 'aloha-challenger', 'versions': 1, 'owner_id': '\"\"', 'last_update_time': datetime.datetime(2024, 5, 1, 16, 38, 56, 600586, tzinfo=tzutc()), 'created_at': datetime.datetime(2024, 5, 1, 16, 38, 56, 600586, tzinfo=tzutc())}], 'pipelines': [{'name': 'aloha-fraud-detector', 'create_time': datetime.datetime(2024, 5, 1, 16, 30, 53, 995114, tzinfo=tzutc()), 'definition': '[]'}]}\n",
       "2024-01-May 20:43:44 Pipeline: aloha-fraud-detector\n",
       "2024-01-May 20:43:44 {'name': 'aloha-fraud-detector', 'create_time': datetime.datetime(2024, 5, 1, 16, 30, 53, 995114, tzinfo=tzutc()), 'definition': '[]'}\n",
       "2024-01-May 20:43:44 {'status': 'Running', 'details': [], 'engines': [{'ip': '10.28.3.118', 'name': 'engine-65c5dfd799-9sm4n', 'status': 'Running', 'reason': None, 'details': [], 'pipeline_statuses': {'pipelines': [{'id': 'aloha-fraud-detector', 'status': 'Running', 'version': '6a137f96-72dd-448e-9206-b28334b02b8f'}]}, 'model_statuses': {'models': [{'name': 'aloha-prime', 'sha': 'fd998cd5e4964bbbb4f8d29d245a8ac67df81b62be767afbceb96a03d1a01520', 'status': 'Running', 'version': 'c719bc50-f83f-4c79-b4af-f66395a8da04'}]}}], 'engine_lbs': [{'ip': '10.28.2.121', 'name': 'engine-lb-d7cc8fc9c-q9dzh', 'status': 'Running', 'reason': None, 'details': []}], 'sidekicks': []}\n",
       "2024-01-May 20:43:44                        time  ... anomaly.count\n",
       "2024-01-May 20:43:44 0   2024-05-01 20:43:41.349  ...             0\n",
       "2024-01-May 20:43:44 1   2024-05-01 20:43:41.349  ...             0\n",
       "2024-01-May 20:43:44 2   2024-05-01 20:43:41.349  ...             0\n",
       "2024-01-May 20:43:44 3   2024-05-01 20:43:41.349  ...             0\n",
       "2024-01-May 20:43:44 4   2024-05-01 20:43:41.349  ...             0\n",
       "2024-01-May 20:43:44 ..                      ...  ...           ...\n",
       "2024-01-May 20:43:44 995 2024-05-01 20:43:41.349  ...             0\n",
       "2024-01-May 20:43:44 996 2024-05-01 20:43:41.349  ...             0\n",
       "2024-01-May 20:43:44 997 2024-05-01 20:43:41.349  ...             0\n",
       "2024-01-May 20:43:44 998 2024-05-01 20:43:41.349  ...             0\n",
       "2024-01-May 20:43:44 999 2024-05-01 20:43:41.349  ...             0\n",
       "2024-01-May 20:43:44 \n",
       "2024-01-May 20:43:44 [1000 rows x 18 columns]</code></pre>"
      ],
      "text/plain": [
       "['2024-05-01T20:43:44.018590163Z stdout F Workspace: workshop-workspace-john-cybersecurity',\n",
       " '2024-05-01T20:43:44.018686723Z stdout F {\\'name\\': \\'workshop-workspace-john-cybersecurity\\', \\'id\\': 14, \\'archived\\': False, \\'created_by\\': \\'76b893ff-5c30-4f01-bd9e-9579a20fc4ea\\', \\'created_at\\': \\'2024-05-01T16:30:01.177583+00:00\\', \\'models\\': [{\\'name\\': \\'aloha-prime\\', \\'versions\\': 1, \\'owner_id\\': \\'\"\"\\', \\'last_update_time\\': datetime.datetime(2024, 5, 1, 16, 30, 43, 651533, tzinfo=tzutc()), \\'created_at\\': datetime.datetime(2024, 5, 1, 16, 30, 43, 651533, tzinfo=tzutc())}, {\\'name\\': \\'aloha-challenger\\', \\'versions\\': 1, \\'owner_id\\': \\'\"\"\\', \\'last_update_time\\': datetime.datetime(2024, 5, 1, 16, 38, 56, 600586, tzinfo=tzutc()), \\'created_at\\': datetime.datetime(2024, 5, 1, 16, 38, 56, 600586, tzinfo=tzutc())}], \\'pipelines\\': [{\\'name\\': \\'aloha-fraud-detector\\', \\'create_time\\': datetime.datetime(2024, 5, 1, 16, 30, 53, 995114, tzinfo=tzutc()), \\'definition\\': \\'[]\\'}]}',\n",
       " '2024-05-01T20:43:44.018746513Z stdout F Pipeline: aloha-fraud-detector',\n",
       " \"2024-05-01T20:43:44.018755333Z stdout F {'name': 'aloha-fraud-detector', 'create_time': datetime.datetime(2024, 5, 1, 16, 30, 53, 995114, tzinfo=tzutc()), 'definition': '[]'}\",\n",
       " \"2024-05-01T20:43:44.018763583Z stdout F {'status': 'Running', 'details': [], 'engines': [{'ip': '10.28.3.118', 'name': 'engine-65c5dfd799-9sm4n', 'status': 'Running', 'reason': None, 'details': [], 'pipeline_statuses': {'pipelines': [{'id': 'aloha-fraud-detector', 'status': 'Running', 'version': '6a137f96-72dd-448e-9206-b28334b02b8f'}]}, 'model_statuses': {'models': [{'name': 'aloha-prime', 'sha': 'fd998cd5e4964bbbb4f8d29d245a8ac67df81b62be767afbceb96a03d1a01520', 'status': 'Running', 'version': 'c719bc50-f83f-4c79-b4af-f66395a8da04'}]}}], 'engine_lbs': [{'ip': '10.28.2.121', 'name': 'engine-lb-d7cc8fc9c-q9dzh', 'status': 'Running', 'reason': None, 'details': []}], 'sidekicks': []}\",\n",
       " '2024-05-01T20:43:44.018768953Z stdout F                        time  ... anomaly.count',\n",
       " '2024-05-01T20:43:44.018773003Z stdout F 0   2024-05-01 20:43:41.349  ...             0',\n",
       " '2024-05-01T20:43:44.018775493Z stdout F 1   2024-05-01 20:43:41.349  ...             0',\n",
       " '2024-05-01T20:43:44.018778423Z stdout F 2   2024-05-01 20:43:41.349  ...             0',\n",
       " '2024-05-01T20:43:44.018781083Z stdout F 3   2024-05-01 20:43:41.349  ...             0',\n",
       " '2024-05-01T20:43:44.018783583Z stdout F 4   2024-05-01 20:43:41.349  ...             0',\n",
       " '2024-05-01T20:43:44.018786303Z stdout F ..                      ...  ...           ...',\n",
       " '2024-05-01T20:43:44.018789723Z stdout F 995 2024-05-01 20:43:41.349  ...             0',\n",
       " '2024-05-01T20:43:44.018792233Z stdout F 996 2024-05-01 20:43:41.349  ...             0',\n",
       " '2024-05-01T20:43:44.018795033Z stdout F 997 2024-05-01 20:43:41.349  ...             0',\n",
       " '2024-05-01T20:43:44.018797413Z stdout F 998 2024-05-01 20:43:41.349  ...             0',\n",
       " '2024-05-01T20:43:44.018800613Z stdout F 999 2024-05-01 20:43:41.349  ...             0',\n",
       " '2024-05-01T20:43:44.018807853Z stdout F ',\n",
       " '2024-05-01T20:43:44.018811973Z stdout F [1000 rows x 18 columns]']"
      ]
     },
     "execution_count": 40,
     "metadata": {},
     "output_type": "execute_result"
    }
   ],
   "source": [
    "task_run.logs()"
   ]
  },
  {
   "cell_type": "markdown",
   "metadata": {},
   "source": [
    "You have now walked through setting up a basic assay and running it over historical data.\n",
    "\n",
    "## Congratulations!\n",
    "In this workshop you have\n",
    "* Deployed a single step house price prediction pipeline and sent data to it.\n",
    "* Uploaded an ML Orchestration into Wallaroo.\n",
    "* Created a Run Once Task from the Orchestration.\n",
    "* Viewed the Task Run's status generated from the Task.\n",
    "* Viewed the Task Run's logs.\n",
    "\n",
    "Great job! \n",
    "\n",
    "### Cleaning up.\n",
    "\n",
    "Now that the workshop is complete, don't forget to undeploy your pipeline to free up the resources."
   ]
  },
  {
   "cell_type": "code",
   "execution_count": 41,
   "metadata": {},
   "outputs": [
    {
     "data": {
      "text/html": [
       "<table><tr><th>name</th> <td>aloha-fraud-detector</td></tr><tr><th>created</th> <td>2024-05-01 16:30:53.995114+00:00</td></tr><tr><th>last_updated</th> <td>2024-05-01 20:27:46.871582+00:00</td></tr><tr><th>deployed</th> <td>False</td></tr><tr><th>arch</th> <td>x86</td></tr><tr><th>accel</th> <td>none</td></tr><tr><th>tags</th> <td></td></tr><tr><th>versions</th> <td>6a137f96-72dd-448e-9206-b28334b02b8f, 8ede9ff5-e42a-404c-b248-fb4c4efd687d, 958397f7-1d3f-472c-8654-21283b8d6d85, ea59aae6-1565-4321-9086-7f8dd2a8e1c2, 41b9260e-21a8-4f16-ad56-c6267d3bae93, 46bdd5a3-fc22-41b7-b1ea-8287c99c241e, 28f5443a-ff67-4f4f-bfc3-f3f95f3c6f83, 435b73f7-76a1-4514-bd41-2cb94d3e78ff, 551242a7-fe4c-4a61-a4c7-e7fcc97509dc, d22eb0d2-9cff-4c5f-a851-10b1a19d8c44, 262909e9-8779-4c56-a994-725ddd0b58c8, 4cdf8e11-1b9c-44ab-a16d-abb054b5e9fe, 6b3529b1-1ff1-454b-8896-460c8c90d667</td></tr><tr><th>steps</th> <td>aloha-prime</td></tr><tr><th>published</th> <td>False</td></tr></table>"
      ],
      "text/plain": [
       "{'name': 'aloha-fraud-detector', 'create_time': datetime.datetime(2024, 5, 1, 16, 30, 53, 995114, tzinfo=tzutc()), 'definition': \"[{'ModelInference': {'models': [{'name': 'aloha-prime', 'version': 'c719bc50-f83f-4c79-b4af-f66395a8da04', 'sha': 'fd998cd5e4964bbbb4f8d29d245a8ac67df81b62be767afbceb96a03d1a01520'}]}}]\"}"
      ]
     },
     "execution_count": 41,
     "metadata": {},
     "output_type": "execute_result"
    }
   ],
   "source": [
    "pipeline.undeploy()"
   ]
  }
 ],
 "metadata": {
  "kernelspec": {
   "display_name": "wallaroosdk.2024.1",
   "language": "python",
   "name": "wallaroosdk.2024.1"
  },
  "language_info": {
   "codemirror_mode": {
    "name": "ipython",
    "version": 3
   },
   "file_extension": ".py",
   "mimetype": "text/x-python",
   "name": "python",
   "nbconvert_exporter": "python",
   "pygments_lexer": "ipython3",
   "version": "3.8.19"
  },
  "vscode": {
   "interpreter": {
    "hash": "7dda4bf3640b7fafcd1648658b879b4cc9f6ba6084e8fb356fdaaa1a461d1690"
   }
  }
 },
 "nbformat": 4,
 "nbformat_minor": 4
}
