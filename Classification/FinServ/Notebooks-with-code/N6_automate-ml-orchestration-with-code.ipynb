{
 "cells": [
  {
   "cell_type": "markdown",
   "metadata": {},
   "source": [
    "# Workshop Notebook 4: Automation with ML Workload Orchestrations\n",
    "\n",
    "Wallaroo provides Data Connections and ML Workload Orchestrations to provide organizations with a method of creating and managing automated tasks that can either be run on demand or a regular schedule.\n",
    "\n",
    "## Prerequisites\n",
    "\n",
    "* A Wallaroo instance version 2023.2.1 or greater.\n",
    "\n",
    "## References\n",
    "\n",
    "* [Wallaroo SDK Essentials Guide: Model Uploads and Registrations: Python Models](https://docs.wallaroo.ai/wallaroo-developer-guides/wallaroo-sdk-guides/wallaroo-sdk-essentials-guide/wallaroo-sdk-model-uploads/wallaroo-sdk-model-upload-python/)\n",
    "* [Wallaroo SDK Essentials Guide: Pipeline Management](https://docs.wallaroo.ai/wallaroo-developer-guides/wallaroo-sdk-guides/wallaroo-sdk-essentials-guide/wallaroo-sdk-essentials-pipelines/wallaroo-sdk-essentials-pipeline/)\n",
    "* [Wallaroo SDK Essentials Guide: ML Workload Orchestration](https://docs.wallaroo.ai/wallaroo-developer-guides/wallaroo-sdk-guides/wallaroo-sdk-essentials-guide/wallaroo-sdk-essentials-ml-workload-orchestration/)"
   ]
  },
  {
   "cell_type": "markdown",
   "metadata": {},
   "source": [
    "## Orchestrations, Taks, and Tasks Runs\n",
    "\n",
    "We've details how Wallaroo Connections work.  Now we'll use Orchestrations, Tasks, and Task Runs.\n",
    "\n",
    "| Item | Description |\n",
    "|---|---|\n",
    "| Orchestration | ML Workload orchestration allows data scientists and ML Engineers to automate and scale production ML workflows in Wallaroo to ensure a tight feedback loop and continuous tuning of models from training to production. Wallaroo platform users (data scientists or ML Engineers) have the ability to deploy, automate and scale recurring batch production ML workloads that can ingest data from predefined data sources to run inferences in Wallaroo, chain pipelines, and send inference results to predefined destinations to analyze model insights and assess business outcomes. |\n",
    "| Task | An implementation of an Orchestration.  Tasks can be either `Run Once`:  They run once and upon completion, stop. `Run Scheduled`: The task runs whenever a specific `cron` like schedule is reached.  Scheduled tasks will run until the `kill` command is issued. |\n",
    "| Task Run | The execusion of a task.  For `Run Once` tasks, there will be only one `Run Task`.  A `Run Scheduled` tasks will have multiple tasks, one for every time the schedule parameter is met.  Task Runs have their own log files that can be examined to track progress and results. |"
   ]
  },
  {
   "cell_type": "markdown",
   "metadata": {},
   "source": [
    "## Preliminaries\n",
    "\n",
    "In the blocks below we will preload some required libraries.\n",
    "\n",
    "For convenience, the following `helper functions` are defined to retrieve previously created workspaces, models, and pipelines:\n",
    "\n",
    "* `get_workspace(name, client)`: This takes in the name and the Wallaroo client being used in this session, and returns the workspace matching `name`.  If no workspaces are found matching the name, raises a `KeyError` and returns `None`.\n",
    "* `get_model_version(model_name, workspace)`: Retrieves the most recent model version from the model matching the `model_name` within the provided `workspace`.  If no model matches that name, raises a `KeyError` and returns `None`.\n",
    "* `get_pipeline(pipeline_name, workspace)`: Retrieves the most pipeline from the workspace matching the `pipeline_name` within the provided `workspace`.  If no model matches that name, raises a `KeyError` and returns `None`."
   ]
  },
  {
   "cell_type": "code",
   "execution_count": 1,
   "metadata": {},
   "outputs": [],
   "source": [
    "import json\n",
    "import os\n",
    "import datetime\n",
    "\n",
    "import wallaroo\n",
    "from wallaroo.object import EntityNotFoundError\n",
    "from wallaroo.framework import Framework\n",
    "\n",
    "# used to display dataframe information without truncating\n",
    "from IPython.display import display\n",
    "import pandas as pd\n",
    "import numpy as np\n",
    "\n",
    "pd.set_option('display.max_colwidth', None)\n",
    "\n",
    "import time\n",
    "import pyarrow as pa"
   ]
  },
  {
   "cell_type": "markdown",
   "metadata": {},
   "source": [
    "### Connect to the Wallaroo Instance\n",
    "\n",
    "The first step is to connect to Wallaroo through the Wallaroo client.  The Python library is included in the Wallaroo install and available through the Jupyter Hub interface provided with your Wallaroo environment.\n",
    "\n",
    "This is accomplished using the `wallaroo.Client()` command, which provides a URL to grant the SDK permission to your specific Wallaroo environment.  When displayed, enter the URL into a browser and confirm permissions.  Store the connection into a variable that can be referenced later.\n",
    "\n",
    "If logging into the Wallaroo instance through the internal JupyterHub service, use `wl = wallaroo.Client()`.  For more information on Wallaroo Client settings, see the [Client Connection guide](https://docs.wallaroo.ai/wallaroo-developer-guides/wallaroo-sdk-guides/wallaroo-sdk-essentials-guide/wallaroo-sdk-essentials-client/)."
   ]
  },
  {
   "cell_type": "code",
   "execution_count": 2,
   "metadata": {},
   "outputs": [],
   "source": [
    "## blank space to log in \n",
    "\n",
    "wl = wallaroo.Client()"
   ]
  },
  {
   "cell_type": "markdown",
   "metadata": {},
   "source": [
    "### Set Configurations\n",
    "\n",
    "Set the workspace, pipeline, and model used from Notebook 1.  The helper functions will make this task easier.\n",
    "\n",
    "#### Set Configurations References\n",
    "\n",
    "* [Wallaroo SDK Essentials Guide: Workspace Management](https://docs.wallaroo.ai/wallaroo-developer-guides/wallaroo-sdk-guides/wallaroo-sdk-essentials-guide/wallaroo-sdk-essentials-workspace/)\n",
    "* [Wallaroo SDK Essentials Guide: Pipeline Management](https://docs.wallaroo.ai/wallaroo-developer-guides/wallaroo-sdk-guides/wallaroo-sdk-essentials-guide/wallaroo-sdk-essentials-pipelines/wallaroo-sdk-essentials-pipeline/)"
   ]
  },
  {
   "cell_type": "code",
   "execution_count": 3,
   "metadata": {},
   "outputs": [
    {
     "data": {
      "text/plain": [
       "{'name': 'workshop-finserv-jch', 'id': 17, 'archived': False, 'created_by': '76b893ff-5c30-4f01-bd9e-9579a20fc4ea', 'created_at': '2024-05-02T17:29:32.171308+00:00', 'models': [{'name': 'classification-finserv-prime', 'versions': 1, 'owner_id': '\"\"', 'last_update_time': datetime.datetime(2024, 5, 2, 17, 29, 51, 439254, tzinfo=tzutc()), 'created_at': datetime.datetime(2024, 5, 2, 17, 29, 51, 439254, tzinfo=tzutc())}, {'name': 'ccfraud-xgboost-version', 'versions': 1, 'owner_id': '\"\"', 'last_update_time': datetime.datetime(2024, 5, 2, 17, 35, 25, 337258, tzinfo=tzutc()), 'created_at': datetime.datetime(2024, 5, 2, 17, 35, 25, 337258, tzinfo=tzutc())}], 'pipelines': [{'name': 'ccfraud-detector', 'create_time': datetime.datetime(2024, 5, 2, 17, 29, 52, 836622, tzinfo=tzutc()), 'definition': '[]'}]}"
      ]
     },
     "metadata": {},
     "output_type": "display_data"
    },
    {
     "data": {
      "text/html": [
       "<table>\n",
       "        <tr>\n",
       "          <td>Name</td>\n",
       "          <td>classification-finserv-prime</td>\n",
       "        </tr>\n",
       "        <tr>\n",
       "          <td>Version</td>\n",
       "          <td>b3cfc328-5c34-4417-ba1a-6a1f57889de1</td>\n",
       "        </tr>\n",
       "        <tr>\n",
       "          <td>File Name</td>\n",
       "          <td>keras_ccfraud.onnx</td>\n",
       "        </tr>\n",
       "        <tr>\n",
       "          <td>SHA</td>\n",
       "          <td>bc85ce596945f876256f41515c7501c399fd97ebcb9ab3dd41bf03f8937b4507</td>\n",
       "        </tr>\n",
       "        <tr>\n",
       "          <td>Status</td>\n",
       "          <td>ready</td>\n",
       "        </tr>\n",
       "        <tr>\n",
       "          <td>Image Path</td>\n",
       "          <td>None</td>\n",
       "        </tr>\n",
       "        <tr>\n",
       "          <td>Architecture</td>\n",
       "          <td>x86</td>\n",
       "        </tr>\n",
       "        <tr>\n",
       "          <td>Acceleration</td>\n",
       "          <td>none</td>\n",
       "        </tr>\n",
       "        <tr>\n",
       "          <td>Updated At</td>\n",
       "          <td>2024-02-May 17:29:51</td>\n",
       "        </tr>\n",
       "      </table>"
      ],
      "text/plain": [
       "{'name': 'classification-finserv-prime', 'version': 'b3cfc328-5c34-4417-ba1a-6a1f57889de1', 'file_name': 'keras_ccfraud.onnx', 'image_path': None, 'arch': 'x86', 'accel': 'none', 'last_update_time': datetime.datetime(2024, 5, 2, 17, 29, 51, 439254, tzinfo=tzutc())}"
      ]
     },
     "metadata": {},
     "output_type": "display_data"
    },
    {
     "data": {
      "text/html": [
       "<table><tr><th>name</th> <td>ccfraud-detector</td></tr><tr><th>created</th> <td>2024-05-02 17:29:52.836622+00:00</td></tr><tr><th>last_updated</th> <td>2024-05-02 20:24:25.022700+00:00</td></tr><tr><th>deployed</th> <td>False</td></tr><tr><th>arch</th> <td>x86</td></tr><tr><th>accel</th> <td>none</td></tr><tr><th>tags</th> <td></td></tr><tr><th>versions</th> <td>b1d6fc1a-4e6d-4752-a83c-c51bf7c5e947, 22ce9caf-5dd3-4840-8f2b-b764e6755566, 7bac27b7-f83c-46a3-918b-c3073a45a277, ef50af82-0cb6-4011-b72e-24c8203ab54f, 23aa5642-a6da-4b6c-8957-52255b062f85, f2b94285-7943-47c3-bc87-b2eedbdb29d1, 9c3b890e-75a9-4c62-bffa-206a1c63f5ae, fb8818a8-0646-4a1d-a0d4-fe6ee21a174d, 4143c5bf-b205-46c1-a5a2-25b556ed8935, 695a84ce-474c-4515-9670-f238d1ef48ad, f9e0b805-5dfc-465f-894e-4cd6a9f91d53, dabc98a0-bc83-4ab7-9cff-f9e846e1b0bd</td></tr><tr><th>steps</th> <td>classification-finserv-prime</td></tr><tr><th>published</th> <td>False</td></tr></table>"
      ],
      "text/plain": [
       "{'name': 'ccfraud-detector', 'create_time': datetime.datetime(2024, 5, 2, 17, 29, 52, 836622, tzinfo=tzutc()), 'definition': '[]'}"
      ]
     },
     "metadata": {},
     "output_type": "display_data"
    }
   ],
   "source": [
    "## blank space to log in \n",
    "\n",
    "wl = wallaroo.Client()\n",
    "\n",
    "# retrieve the previous workspace, model, and pipeline version\n",
    "\n",
    "workspace_name = \"workshop-finserv-jch\"\n",
    "\n",
    "workspace = wl.get_workspace(name=workspace_name)\n",
    "\n",
    "# set your current workspace to the workspace that you just created\n",
    "wl.set_current_workspace(workspace)\n",
    "\n",
    "# optionally, examine your current workspace\n",
    "wl.get_current_workspace()\n",
    "\n",
    "model_name = 'classification-finserv-prime'\n",
    "\n",
    "prime_model_version = wl.get_model(model_name)\n",
    "\n",
    "pipeline_name = 'ccfraud-detector'\n",
    "\n",
    "pipeline = wl.get_pipeline(pipeline_name)\n",
    "\n",
    "display(workspace)\n",
    "display(prime_model_version)\n",
    "display(pipeline)\n"
   ]
  },
  {
   "cell_type": "markdown",
   "metadata": {},
   "source": [
    "## Deploy the Pipeline with the Model Version Step\n",
    "\n",
    "As per the other workshops:\n",
    "\n",
    "1. Clear the pipeline of all steps.\n",
    "1. Add the model version as a pipeline step.\n",
    "1. Deploy the pipeline with the following deployment configuration:\n",
    "\n",
    "```python\n",
    "deploy_config = wallaroo.DeploymentConfigBuilder().replica_count(1).cpus(0.5).memory(\"1Gi\").build()\n",
    "```"
   ]
  },
  {
   "cell_type": "code",
   "execution_count": 4,
   "metadata": {},
   "outputs": [
    {
     "data": {
      "text/html": [
       "<table><tr><th>name</th> <td>ccfraud-detector</td></tr><tr><th>created</th> <td>2024-05-02 17:29:52.836622+00:00</td></tr><tr><th>last_updated</th> <td>2024-05-02 20:39:10.251531+00:00</td></tr><tr><th>deployed</th> <td>True</td></tr><tr><th>arch</th> <td>x86</td></tr><tr><th>accel</th> <td>none</td></tr><tr><th>tags</th> <td></td></tr><tr><th>versions</th> <td>f6964c57-82b0-4d88-bf74-f863f169478f, b1d6fc1a-4e6d-4752-a83c-c51bf7c5e947, 22ce9caf-5dd3-4840-8f2b-b764e6755566, 7bac27b7-f83c-46a3-918b-c3073a45a277, ef50af82-0cb6-4011-b72e-24c8203ab54f, 23aa5642-a6da-4b6c-8957-52255b062f85, f2b94285-7943-47c3-bc87-b2eedbdb29d1, 9c3b890e-75a9-4c62-bffa-206a1c63f5ae, fb8818a8-0646-4a1d-a0d4-fe6ee21a174d, 4143c5bf-b205-46c1-a5a2-25b556ed8935, 695a84ce-474c-4515-9670-f238d1ef48ad, f9e0b805-5dfc-465f-894e-4cd6a9f91d53, dabc98a0-bc83-4ab7-9cff-f9e846e1b0bd</td></tr><tr><th>steps</th> <td>classification-finserv-prime</td></tr><tr><th>published</th> <td>False</td></tr></table>"
      ],
      "text/plain": [
       "{'name': 'ccfraud-detector', 'create_time': datetime.datetime(2024, 5, 2, 17, 29, 52, 836622, tzinfo=tzutc()), 'definition': \"[{'ModelInference': {'models': [{'name': 'classification-finserv-prime', 'version': 'b3cfc328-5c34-4417-ba1a-6a1f57889de1', 'sha': 'bc85ce596945f876256f41515c7501c399fd97ebcb9ab3dd41bf03f8937b4507'}]}}]\"}"
      ]
     },
     "execution_count": 4,
     "metadata": {},
     "output_type": "execute_result"
    }
   ],
   "source": [
    "deploy_config = wallaroo.DeploymentConfigBuilder().replica_count(1).cpus(0.5).memory(\"1Gi\").build()\n",
    "pipeline.deploy(deployment_config=deploy_config)"
   ]
  },
  {
   "cell_type": "markdown",
   "metadata": {},
   "source": [
    "### Sample Inference\n",
    "\n",
    "Verify the pipeline is deployed properly with a sample inference with the file `./data/test_data.df.json`."
   ]
  },
  {
   "cell_type": "code",
   "execution_count": 5,
   "metadata": {},
   "outputs": [
    {
     "data": {
      "text/html": [
       "<div>\n",
       "<style scoped>\n",
       "    .dataframe tbody tr th:only-of-type {\n",
       "        vertical-align: middle;\n",
       "    }\n",
       "\n",
       "    .dataframe tbody tr th {\n",
       "        vertical-align: top;\n",
       "    }\n",
       "\n",
       "    .dataframe thead th {\n",
       "        text-align: right;\n",
       "    }\n",
       "</style>\n",
       "<table border=\"1\" class=\"dataframe\">\n",
       "  <thead>\n",
       "    <tr style=\"text-align: right;\">\n",
       "      <th></th>\n",
       "      <th>time</th>\n",
       "      <th>in.tensor</th>\n",
       "      <th>out.dense_1</th>\n",
       "      <th>anomaly.count</th>\n",
       "    </tr>\n",
       "  </thead>\n",
       "  <tbody>\n",
       "    <tr>\n",
       "      <th>0</th>\n",
       "      <td>2024-05-02 20:39:31.313</td>\n",
       "      <td>[-1.0603297501, 2.3544967095, -3.5638788326, 5.1387348926, -1.2308457019, -0.7687824608, -3.5881228109, 1.8880837663, -3.2789674274, -3.9563254554, 4.0993439118, -5.6539176395, -0.8775733373, -9.131571192, -0.6093537873, -3.7480276773, -5.0309125017, -0.8748149526, 1.9870535692, 0.7005485718, 0.9204422758, -0.1041491809, 0.3229564351, -0.7418141657, 0.0384120159, 1.0993439146, 1.2603409756, -0.1466244739, -1.4463212439]</td>\n",
       "      <td>[0.99300325]</td>\n",
       "      <td>0</td>\n",
       "    </tr>\n",
       "    <tr>\n",
       "      <th>1</th>\n",
       "      <td>2024-05-02 20:39:31.313</td>\n",
       "      <td>[-1.0603297501, 2.3544967095, -3.5638788326, 5.1387348926, -1.2308457019, -0.7687824608, -3.5881228109, 1.8880837663, -3.2789674274, -3.9563254554, 4.0993439118, -5.6539176395, -0.8775733373, -9.131571192, -0.6093537873, -3.7480276773, -5.0309125017, -0.8748149526, 1.9870535692, 0.7005485718, 0.9204422758, -0.1041491809, 0.3229564351, -0.7418141657, 0.0384120159, 1.0993439146, 1.2603409756, -0.1466244739, -1.4463212439]</td>\n",
       "      <td>[0.99300325]</td>\n",
       "      <td>0</td>\n",
       "    </tr>\n",
       "    <tr>\n",
       "      <th>2</th>\n",
       "      <td>2024-05-02 20:39:31.313</td>\n",
       "      <td>[-1.0603297501, 2.3544967095, -3.5638788326, 5.1387348926, -1.2308457019, -0.7687824608, -3.5881228109, 1.8880837663, -3.2789674274, -3.9563254554, 4.0993439118, -5.6539176395, -0.8775733373, -9.131571192, -0.6093537873, -3.7480276773, -5.0309125017, -0.8748149526, 1.9870535692, 0.7005485718, 0.9204422758, -0.1041491809, 0.3229564351, -0.7418141657, 0.0384120159, 1.0993439146, 1.2603409756, -0.1466244739, -1.4463212439]</td>\n",
       "      <td>[0.99300325]</td>\n",
       "      <td>0</td>\n",
       "    </tr>\n",
       "    <tr>\n",
       "      <th>3</th>\n",
       "      <td>2024-05-02 20:39:31.313</td>\n",
       "      <td>[-1.0603297501, 2.3544967095, -3.5638788326, 5.1387348926, -1.2308457019, -0.7687824608, -3.5881228109, 1.8880837663, -3.2789674274, -3.9563254554, 4.0993439118, -5.6539176395, -0.8775733373, -9.131571192, -0.6093537873, -3.7480276773, -5.0309125017, -0.8748149526, 1.9870535692, 0.7005485718, 0.9204422758, -0.1041491809, 0.3229564351, -0.7418141657, 0.0384120159, 1.0993439146, 1.2603409756, -0.1466244739, -1.4463212439]</td>\n",
       "      <td>[0.99300325]</td>\n",
       "      <td>0</td>\n",
       "    </tr>\n",
       "    <tr>\n",
       "      <th>4</th>\n",
       "      <td>2024-05-02 20:39:31.313</td>\n",
       "      <td>[0.5817662108, 0.097881551, 0.1546819424, 0.4754101949, -0.1978862306, -0.4504344854, 0.0166540447, -0.0256070551, 0.0920561602, -0.2783917153, 0.0593299441, -0.0196585416, -0.4225083157, -0.1217538877, 1.5473094894, 0.2391622864, 0.3553974881, -0.7685165301, -0.7000849355, -0.1190043285, -0.3450517133, -1.1065114108, 0.2523411195, 0.0209441826, 0.2199267436, 0.2540689265, -0.0450225094, 0.1086773898, 0.2547179311]</td>\n",
       "      <td>[0.0010916889]</td>\n",
       "      <td>0</td>\n",
       "    </tr>\n",
       "    <tr>\n",
       "      <th>...</th>\n",
       "      <td>...</td>\n",
       "      <td>...</td>\n",
       "      <td>...</td>\n",
       "      <td>...</td>\n",
       "    </tr>\n",
       "    <tr>\n",
       "      <th>996</th>\n",
       "      <td>2024-05-02 20:39:31.313</td>\n",
       "      <td>[1.052355506, -0.7602601059, -0.3124601687, -0.5580714587, -0.6198353331, 0.6635428464, -1.2171685083, 0.3144529308, 0.2360632058, 0.878209955, -0.5518803042, -0.2781328417, -0.5675947058, -0.0982688053, 0.1475098349, -0.3097481612, -1.0898892231, 2.804466934, -0.4211447753, -0.7315488305, -0.5311840374, -0.9053830525, 0.5382443229, -0.68327623, -1.1848642272, 0.9872236995, -0.0260721428, -0.1405966468, 0.0759031399]</td>\n",
       "      <td>[0.00011596084]</td>\n",
       "      <td>0</td>\n",
       "    </tr>\n",
       "    <tr>\n",
       "      <th>997</th>\n",
       "      <td>2024-05-02 20:39:31.313</td>\n",
       "      <td>[-0.8464537996, -0.7608807925, 2.186072883, -0.1614362994, -0.4069378894, 0.734079177, -0.4611705734, 0.4751492626, 1.4952832213, -0.9349105827, -0.7654272171, 0.4362793613, -0.6623354486, -1.5326388376, -1.4311992842, -1.0573215483, 0.9304904478, -1.2836000946, -1.079419331, 0.7138847264, 0.2710369668, 1.1943291742, 0.2527110226, 0.3107779567, 0.4219366694, 2.4854295825, 0.1754876037, -0.2362979978, 0.9979986569]</td>\n",
       "      <td>[0.0002785325]</td>\n",
       "      <td>0</td>\n",
       "    </tr>\n",
       "    <tr>\n",
       "      <th>998</th>\n",
       "      <td>2024-05-02 20:39:31.313</td>\n",
       "      <td>[1.0046377125, 0.0343666504, -1.3512533246, 0.4160460291, 0.5910548281, -0.8187740907, 0.5840864966, -0.447623496, 1.1193896296, -0.1156579903, 0.1298919303, -2.6410683948, 1.1658091033, 2.3607999565, -0.4265055896, -0.4862102299, 0.5102253659, -0.3384745171, -0.4081285365, -0.199414607, 0.0151691668, 0.2644673476, -0.0483547565, 0.9869714364, 0.629627219, 0.8990505678, -0.3731273846, -0.2166148809, 0.6374669208]</td>\n",
       "      <td>[0.0011070371]</td>\n",
       "      <td>0</td>\n",
       "    </tr>\n",
       "    <tr>\n",
       "      <th>999</th>\n",
       "      <td>2024-05-02 20:39:31.313</td>\n",
       "      <td>[0.4951101913, -0.2499369449, 0.4553345161, 0.9242750451, -0.3643510229, 0.602688482, -0.3785553207, 0.3170957153, 0.7368986387, -0.1195106678, 0.4017042912, 0.7371143425, -1.2229791154, 0.0061993212, -1.3541149574, -0.5839052891, 0.1648461272, -0.1527212037, 0.2456232399, -0.1432012313, -0.0383696111, 0.0865420131, -0.284099885, -0.5027591867, 1.1117147574, -0.5666540195, 0.121220185, 0.0667640208, 0.6583281816]</td>\n",
       "      <td>[0.0008533001]</td>\n",
       "      <td>0</td>\n",
       "    </tr>\n",
       "    <tr>\n",
       "      <th>1000</th>\n",
       "      <td>2024-05-02 20:39:31.313</td>\n",
       "      <td>[0.6118805301, 0.1726081102, 0.4310545502, 0.5032148221, -0.2746663262, -0.464798859, -0.1098384885, -0.0978937224, 0.9820529526, -0.2237381949, 2.3315375168, -1.5852745605, 1.6050692254, 1.9720759474, -0.4217479714, 0.5348796175, 0.0875849983, 0.3280840192, -0.0394716814, -0.1796805095, -0.4955020407, -1.1889449446, 0.246698494, 0.4185131811, 0.3026018698, 0.0812114542, -0.1557850823, 0.0171892918, -0.7236631158]</td>\n",
       "      <td>[0.0012498498]</td>\n",
       "      <td>0</td>\n",
       "    </tr>\n",
       "  </tbody>\n",
       "</table>\n",
       "<p>1001 rows × 4 columns</p>\n",
       "</div>"
      ],
      "text/plain": [
       "                        time  \\\n",
       "0    2024-05-02 20:39:31.313   \n",
       "1    2024-05-02 20:39:31.313   \n",
       "2    2024-05-02 20:39:31.313   \n",
       "3    2024-05-02 20:39:31.313   \n",
       "4    2024-05-02 20:39:31.313   \n",
       "...                      ...   \n",
       "996  2024-05-02 20:39:31.313   \n",
       "997  2024-05-02 20:39:31.313   \n",
       "998  2024-05-02 20:39:31.313   \n",
       "999  2024-05-02 20:39:31.313   \n",
       "1000 2024-05-02 20:39:31.313   \n",
       "\n",
       "                                                                                                                                                                                                                                                                                                                                                                                                                                    in.tensor  \\\n",
       "0     [-1.0603297501, 2.3544967095, -3.5638788326, 5.1387348926, -1.2308457019, -0.7687824608, -3.5881228109, 1.8880837663, -3.2789674274, -3.9563254554, 4.0993439118, -5.6539176395, -0.8775733373, -9.131571192, -0.6093537873, -3.7480276773, -5.0309125017, -0.8748149526, 1.9870535692, 0.7005485718, 0.9204422758, -0.1041491809, 0.3229564351, -0.7418141657, 0.0384120159, 1.0993439146, 1.2603409756, -0.1466244739, -1.4463212439]   \n",
       "1     [-1.0603297501, 2.3544967095, -3.5638788326, 5.1387348926, -1.2308457019, -0.7687824608, -3.5881228109, 1.8880837663, -3.2789674274, -3.9563254554, 4.0993439118, -5.6539176395, -0.8775733373, -9.131571192, -0.6093537873, -3.7480276773, -5.0309125017, -0.8748149526, 1.9870535692, 0.7005485718, 0.9204422758, -0.1041491809, 0.3229564351, -0.7418141657, 0.0384120159, 1.0993439146, 1.2603409756, -0.1466244739, -1.4463212439]   \n",
       "2     [-1.0603297501, 2.3544967095, -3.5638788326, 5.1387348926, -1.2308457019, -0.7687824608, -3.5881228109, 1.8880837663, -3.2789674274, -3.9563254554, 4.0993439118, -5.6539176395, -0.8775733373, -9.131571192, -0.6093537873, -3.7480276773, -5.0309125017, -0.8748149526, 1.9870535692, 0.7005485718, 0.9204422758, -0.1041491809, 0.3229564351, -0.7418141657, 0.0384120159, 1.0993439146, 1.2603409756, -0.1466244739, -1.4463212439]   \n",
       "3     [-1.0603297501, 2.3544967095, -3.5638788326, 5.1387348926, -1.2308457019, -0.7687824608, -3.5881228109, 1.8880837663, -3.2789674274, -3.9563254554, 4.0993439118, -5.6539176395, -0.8775733373, -9.131571192, -0.6093537873, -3.7480276773, -5.0309125017, -0.8748149526, 1.9870535692, 0.7005485718, 0.9204422758, -0.1041491809, 0.3229564351, -0.7418141657, 0.0384120159, 1.0993439146, 1.2603409756, -0.1466244739, -1.4463212439]   \n",
       "4          [0.5817662108, 0.097881551, 0.1546819424, 0.4754101949, -0.1978862306, -0.4504344854, 0.0166540447, -0.0256070551, 0.0920561602, -0.2783917153, 0.0593299441, -0.0196585416, -0.4225083157, -0.1217538877, 1.5473094894, 0.2391622864, 0.3553974881, -0.7685165301, -0.7000849355, -0.1190043285, -0.3450517133, -1.1065114108, 0.2523411195, 0.0209441826, 0.2199267436, 0.2540689265, -0.0450225094, 0.1086773898, 0.2547179311]   \n",
       "...                                                                                                                                                                                                                                                                                                                                                                                                                                       ...   \n",
       "996      [1.052355506, -0.7602601059, -0.3124601687, -0.5580714587, -0.6198353331, 0.6635428464, -1.2171685083, 0.3144529308, 0.2360632058, 0.878209955, -0.5518803042, -0.2781328417, -0.5675947058, -0.0982688053, 0.1475098349, -0.3097481612, -1.0898892231, 2.804466934, -0.4211447753, -0.7315488305, -0.5311840374, -0.9053830525, 0.5382443229, -0.68327623, -1.1848642272, 0.9872236995, -0.0260721428, -0.1405966468, 0.0759031399]   \n",
       "997         [-0.8464537996, -0.7608807925, 2.186072883, -0.1614362994, -0.4069378894, 0.734079177, -0.4611705734, 0.4751492626, 1.4952832213, -0.9349105827, -0.7654272171, 0.4362793613, -0.6623354486, -1.5326388376, -1.4311992842, -1.0573215483, 0.9304904478, -1.2836000946, -1.079419331, 0.7138847264, 0.2710369668, 1.1943291742, 0.2527110226, 0.3107779567, 0.4219366694, 2.4854295825, 0.1754876037, -0.2362979978, 0.9979986569]   \n",
       "998          [1.0046377125, 0.0343666504, -1.3512533246, 0.4160460291, 0.5910548281, -0.8187740907, 0.5840864966, -0.447623496, 1.1193896296, -0.1156579903, 0.1298919303, -2.6410683948, 1.1658091033, 2.3607999565, -0.4265055896, -0.4862102299, 0.5102253659, -0.3384745171, -0.4081285365, -0.199414607, 0.0151691668, 0.2644673476, -0.0483547565, 0.9869714364, 0.629627219, 0.8990505678, -0.3731273846, -0.2166148809, 0.6374669208]   \n",
       "999          [0.4951101913, -0.2499369449, 0.4553345161, 0.9242750451, -0.3643510229, 0.602688482, -0.3785553207, 0.3170957153, 0.7368986387, -0.1195106678, 0.4017042912, 0.7371143425, -1.2229791154, 0.0061993212, -1.3541149574, -0.5839052891, 0.1648461272, -0.1527212037, 0.2456232399, -0.1432012313, -0.0383696111, 0.0865420131, -0.284099885, -0.5027591867, 1.1117147574, -0.5666540195, 0.121220185, 0.0667640208, 0.6583281816]   \n",
       "1000        [0.6118805301, 0.1726081102, 0.4310545502, 0.5032148221, -0.2746663262, -0.464798859, -0.1098384885, -0.0978937224, 0.9820529526, -0.2237381949, 2.3315375168, -1.5852745605, 1.6050692254, 1.9720759474, -0.4217479714, 0.5348796175, 0.0875849983, 0.3280840192, -0.0394716814, -0.1796805095, -0.4955020407, -1.1889449446, 0.246698494, 0.4185131811, 0.3026018698, 0.0812114542, -0.1557850823, 0.0171892918, -0.7236631158]   \n",
       "\n",
       "          out.dense_1  anomaly.count  \n",
       "0        [0.99300325]              0  \n",
       "1        [0.99300325]              0  \n",
       "2        [0.99300325]              0  \n",
       "3        [0.99300325]              0  \n",
       "4      [0.0010916889]              0  \n",
       "...               ...            ...  \n",
       "996   [0.00011596084]              0  \n",
       "997    [0.0002785325]              0  \n",
       "998    [0.0011070371]              0  \n",
       "999    [0.0008533001]              0  \n",
       "1000   [0.0012498498]              0  \n",
       "\n",
       "[1001 rows x 4 columns]"
      ]
     },
     "execution_count": 5,
     "metadata": {},
     "output_type": "execute_result"
    }
   ],
   "source": [
    "# sample inference from previous code here\n",
    "\n",
    "pipeline.infer_from_file('../data/cc_data_1k.df.json')"
   ]
  },
  {
   "cell_type": "markdown",
   "metadata": {},
   "source": [
    "## Sample Orchestration\n",
    "\n",
    "The orchestration that will automate this process is `./orchestration/real-estate-orchestration.zip`.  The files used are stored in the directory `/orchestration/real-estate-orchestration`, created with the command:\n",
    "\n",
    "`zip -r real-estate-orchestration.zip real-estate-orchestration/*`.\n",
    "\n",
    "This contains the following:\n",
    "\n",
    "* `requirements.txt`:  The Python requirements file to specify the following libraries used.  For this example, that will be empty since we will be using the \n",
    "* `main.py`: The entry file that uses a deployed pipeline and performs an inference request against it visible from its log files.\n",
    "* `data/`: Inference data sources.\n",
    "\n",
    "The `main.py` script performs a workspace and pipeline retrieval, then an inference against the inference input file.\n",
    "\n",
    "```python\n",
    "import wallaroo\n",
    "from wallaroo.object import EntityNotFoundError\n",
    "import pandas as pd\n",
    "\n",
    "wl = wallaroo.Client()\n",
    "\n",
    "# get the arguments\n",
    "arguments = wl.task_args()\n",
    "\n",
    "if \"workspace_name\" in arguments:\n",
    "    workspace_name = arguments['workspace_name']\n",
    "else:\n",
    "    workspace_name=\"workshop-workspace-john\"\n",
    "\n",
    "if \"pipeline_name\" in arguments:\n",
    "    pipeline_name = arguments['pipeline_name']\n",
    "else:\n",
    "    pipeline_name=\"aloha-prime\"\n",
    "\n",
    "\n",
    "print(f\"Workspace: {workspace_name}\")\n",
    "workspace = wl.get_workspace(workspace_name)\n",
    "\n",
    "wl.set_current_workspace(workspace)\n",
    "print(workspace)\n",
    "\n",
    "# the pipeline is assumed to be deployed\n",
    "print(f\"Pipeline: {pipeline_name}\")\n",
    "pipeline = wl.get_pipeline(pipeline_name, workspace)\n",
    "print(pipeline)\n",
    "\n",
    "print(pipeline.status())\n",
    "\n",
    "inference_result = pipeline.infer_from_file('./data/data-1k.df.json')\n",
    "print(inference_result)\n",
    "\n",
    "\n",
    "```\n",
    "\n",
    "A few things to go over here.  You'll notice this is almost the exact procedures we've been following so far:  we get a workspace and pipeline, pull data from a CSV file, and perform an inference off the data.\n",
    "\n",
    "This script assumes that the pipeline has already been deployed, and also includes this part:\n",
    "\n",
    "`arguments = wl.task_args()`\n",
    "\n",
    "This allows us to pass arguments into a Task created from an Orchestration, so we can specify a different workspace, pipeline, or any other arguments we construct.  This allows orchestrations to be very flexible.\n",
    "\n",
    "Also, notice that it refers to a specific file:\n",
    "\n",
    "`inference_result = pipeline.infer_file_file('./data/test_data.df.json')`\n",
    "\n",
    "In the `forecast-orchestration` directory is the `data` directory with our sample CSV file.  Orchestrations can include additional artifacts.  We could have used a Wallaroo Connection instead, and we encourage you to try that if you want."
   ]
  },
  {
   "cell_type": "markdown",
   "metadata": {},
   "source": [
    "## Upload Orchestration\n",
    "\n",
    "Orchestrations are uploaded with the Wallaroo client `upload_orchestration(path)` method with the following parameters.\n",
    "\n",
    "| Parameter | Type | Description |\n",
    "| --- | --- | ---|\n",
    "| **path** | string (Required) | The path to the ZIP file to be uploaded. |\n",
    "\n",
    "Once uploaded, the deployment will be prepared and any requirements will be downloaded and installed.  A typical orchestration upload looks like this:\n",
    "\n",
    "```python\n",
    "my_orchestration = wl.upload_orchestration(path-to-zip-file)\n",
    "```\n",
    "\n",
    "### Upload Orchestration Exercise\n",
    "\n",
    "Try uploading our orchestration from `./forecast-orchestration/forecast-orchestration.zip` - or make your own and upload it.\n",
    "\n",
    "Once uploaded, you can check the status with the `status()`.  If using the orchestration example above, that would be `my_orchestration.status()`  This is handy to make into a loop to check the status until is shows `ready`.\n",
    "\n",
    "Here's an example of uploading the Orchestration file, then a loop that will keep checking the status every 5 seconds until it returns `ready`.\n",
    "\n",
    "```python\n",
    "orchestration = wl.upload_orchestration(name=\"my real example\", path=\"./orchestration/real-estate-orchestration.zip\")\n",
    "\n",
    "while orchestration.status() != 'ready':\n",
    "    print(orchestration.status())\n",
    "    time.sleep(5)\n",
    "```\n"
   ]
  },
  {
   "cell_type": "code",
   "execution_count": 7,
   "metadata": {},
   "outputs": [
    {
     "name": "stdout",
     "output_type": "stream",
     "text": [
      "pending_packaging\n",
      "pending_packaging\n",
      "packaging\n",
      "packaging\n",
      "packaging\n",
      "packaging\n",
      "packaging\n",
      "packaging\n",
      "packaging\n",
      "packaging\n"
     ]
    }
   ],
   "source": [
    "orchestration = wl.upload_orchestration(name=\"finserv-john-sample\", \n",
    "                                        path=\"../orchestration/finserv-orchestration.zip\")\n",
    "\n",
    "while orchestration.status() != 'ready':\n",
    "    print(orchestration.status())\n",
    "    time.sleep(5)"
   ]
  },
  {
   "cell_type": "markdown",
   "metadata": {},
   "source": [
    "## List Orchestrations\n",
    "\n",
    "Orchestrations are listed with the Wallaroo Client `list_orchestrations()` method.  Orchestrations can be retrieved to a variable by allocated their position in the array - for example:  `orchestration = wl.list_orchestrations()[0]` would return the first orchestration on the list.\n",
    "\n",
    "### List Orchestrations Exercise\n",
    "\n",
    "List all of the orchestrations in your Wallaroo instance.  For example, if your client is saved to `wl`, here's some code that would work.\n",
    "\n",
    "```python\n",
    "wl.list_orchestrations()\n",
    "```"
   ]
  },
  {
   "cell_type": "code",
   "execution_count": 8,
   "metadata": {},
   "outputs": [
    {
     "data": {
      "text/html": [
       "<table><tr><th>id</th><th>name</th><th>status</th><th>filename</th><th>sha</th><th>created at</th><th>updated at</th></tr><tr><td>2a5e199a-3566-49ae-8741-d8b162b041a8</td><td>finserv-john-sample</td><td>ready</td><td>finserv-orchestration.zip</td><td>cb2d6c...f474fb</td><td>2024-02-May 20:40:08</td><td>2024-02-May 20:41:01</td></tr></table>"
      ],
      "text/plain": [
       "[<wallaroo.orchestration.Orchestration at 0x16057c0d0>]"
      ]
     },
     "execution_count": 8,
     "metadata": {},
     "output_type": "execute_result"
    }
   ],
   "source": [
    "# list orchestration here\n",
    "\n",
    "wl.list_orchestrations()"
   ]
  },
  {
   "cell_type": "markdown",
   "metadata": {},
   "source": [
    "## Retrieve Orchestration from List\n",
    "\n",
    "The command `wallaroo.client.list_orchestrations()` returns a List of orchestrations.  We can assign any of the orchestrations in the list to a variable, then use that for other commands.\n",
    "\n",
    "## Retrieve Orchestration from List Exercise\n",
    "\n",
    "Use the `list_orchestrations` command and store the orchestration we just uploaded.\n",
    "\n",
    "Here's some sample code to get you started that stores the last orchestration in the list to the variable `orchestration_from_list`.\n",
    "\n",
    "```python\n",
    "orchestration_from_list = wl.list_orchestrations()[-1]\n",
    "```"
   ]
  },
  {
   "cell_type": "code",
   "execution_count": 9,
   "metadata": {},
   "outputs": [
    {
     "data": {
      "text/html": [
       "\n",
       "        <table>\n",
       "          <tr>\n",
       "            <th>Field</th>\n",
       "            <th>Value</th>\n",
       "          </tr>\n",
       "          <tr>\n",
       "            <td>ID</td><td>2a5e199a-3566-49ae-8741-d8b162b041a8</td>\n",
       "          </tr>\n",
       "          <tr>\n",
       "            <td>Name</td><td>finserv-john-sample</td>\n",
       "          </tr>\n",
       "          <tr>\n",
       "            <td>File Name</td><td>finserv-orchestration.zip</td>\n",
       "          </tr>\n",
       "          <tr>\n",
       "            <td>SHA</td><td>cb2d6cd2514cbc9a1ce93630bafebc6ee0e40af1a505eebdfa1ff87d72f474fb</td>\n",
       "          </tr>\n",
       "          <tr>\n",
       "            <td>Status</td><td>ready</td>\n",
       "          </tr>\n",
       "          <tr>\n",
       "            <td>Created At</td><td>2024-02-May 20:40:08</td>\n",
       "          </tr>\n",
       "          <tr>\n",
       "            <td>Updated At</td><td>2024-02-May 20:41:01</td>\n",
       "          </tr>\n",
       "        </table>\n",
       "        "
      ],
      "text/plain": [
       "<wallaroo.orchestration.Orchestration at 0x1605b07c0>"
      ]
     },
     "execution_count": 9,
     "metadata": {},
     "output_type": "execute_result"
    }
   ],
   "source": [
    "# retrieve the orchestration from the list\n",
    "\n",
    "orchestration_from_list = wl.list_orchestrations()[-1]\n",
    "orchestration_from_list"
   ]
  },
  {
   "cell_type": "markdown",
   "metadata": {},
   "source": [
    "## Create Run Once Task from Orchestration\n",
    "\n",
    "The orchestration is now ready to be implemented as a Wallaroo Task.  We'll just run it once as an example.  This specific Orchestration that creates the Task assumes that the pipeline is deployed, and accepts the arguments:\n",
    "\n",
    "* workspace_name\n",
    "* pipeline_name\n",
    "\n",
    "Tasks are either Run Once, or Run Scheduled.  We create a new task from the Orchestration with either `run_once(task_name, json_args, timeout)` or with `run_scheduled(name, timeout,schedule,json_args)`.  The schedule is based on the Kubernetes cron scheduler.  For example:\n",
    "\n",
    "```python\n",
    "schedule={'42 * * * *'}\n",
    "```\n",
    "\n",
    "Runs every 42 minutes and contains the answer to life, the universe, and everything.\n",
    "\n",
    "Creating a scheduled task might be:\n",
    "\n",
    "```python\n",
    "task_scheduled = orchestration.run_scheduled(name=\"schedule example\", \n",
    "                                             timeout=600, \n",
    "                                             schedule=schedule, \n",
    "                                             json_args={\"workspace_name\": workspace_name, \n",
    "                                                        \"pipeline_name\": pipeline_name})\n",
    "```\n",
    "\n",
    "\n",
    "### Create Run Once Task from Orchestration Exercise\n",
    "\n",
    "Using the uploaded orchestration, create a Run Once task using your workspace and pipeline names as the `json_args`.  Here's an example using the variables set above.\n",
    "\n",
    "```python\n",
    "task = orchestration.run_once(name=\"real estate task\", \n",
    "                              json_args={\"workspace_name\":workspace_name,\n",
    "                                         \"pipeline_name\":pipeline_name}\n",
    "                              )\n",
    "```"
   ]
  },
  {
   "cell_type": "code",
   "execution_count": 10,
   "metadata": {},
   "outputs": [],
   "source": [
    "# create your task here\n",
    "\n",
    "task = orchestration.run_once(name=\"real estate task\", \n",
    "                              json_args={\"workspace_name\":workspace_name,\n",
    "                                         \"pipeline_name\":pipeline_name\n",
    "                                         }\n",
    "                              )"
   ]
  },
  {
   "cell_type": "markdown",
   "metadata": {},
   "source": [
    "## Monitor Task Run with Task Status\n",
    "\n",
    "The Task is the **schedule** to execute the instructions within the orchestration.  The actual execution of the task is the **task run**.  A Run Once task will create one Task Run, while a Run Scheduled task will generate a new Task Run each time the schedule pattern is set.\n",
    "\n",
    "The status task is viewed with the task `status()` command, where it is either `pending` (no tasks runs are generated yet), or `started` (a task run has been started).\n",
    "\n",
    "## Monitor Task Run with Task Status Example\n",
    "\n",
    "We'll monitor the run first with it's status with the `Task.status()` command.\n",
    "\n",
    "Get the status of the task, and once it is `started` proceed to the next step.  Try doing it as a `while` loop if you feel confident.  Here's some sample code where the task was saved to the variable `task`.\n",
    "\n",
    "```python\n",
    "task.status\n",
    "```\n",
    "\n",
    "Or as a loop pausing ever 5 seconds until the task status is `started`.\n",
    "\n",
    "```python\n",
    "while task.status() != \"started\":\n",
    "    display(task.status())\n",
    "    time.sleep(5)\n",
    "```\n"
   ]
  },
  {
   "cell_type": "code",
   "execution_count": 11,
   "metadata": {},
   "outputs": [
    {
     "data": {
      "text/plain": [
       "'pending'"
      ]
     },
     "metadata": {},
     "output_type": "display_data"
    }
   ],
   "source": [
    "while task.status() != \"started\":\n",
    "    display(task.status())\n",
    "    time.sleep(5)"
   ]
  },
  {
   "cell_type": "markdown",
   "metadata": {},
   "source": [
    "## List Tasks\n",
    "\n",
    "The Wallaroo client `list_tasks` method returns a list of tasks, and shows the the last task run status.\n",
    "\n",
    "### List Tasks Exercise\n",
    "\n",
    "List the tasks in your Wallaroo instance.  For example, if your Wallaroo client is stored as `wl`, this would show your tasks.\n",
    "\n",
    "```python\n",
    "wl.list_tasks()\n",
    "```"
   ]
  },
  {
   "cell_type": "code",
   "execution_count": 12,
   "metadata": {},
   "outputs": [
    {
     "data": {
      "text/html": [
       "<table><tr><th>id</th><th>name</th><th>last run status</th><th>type</th><th>active</th><th>schedule</th><th>created at</th><th>updated at</th></tr><tr><td>3651f37a-a9db-4bdb-ab73-0deee4fc7f66</td><td>real estate task</td><td>success</td><td>Temporary Run</td><td>True</td><td>-</td><td>2024-02-May 20:42:06</td><td>2024-02-May 20:42:11</td></tr></table>"
      ],
      "text/plain": [
       "[<wallaroo.task.Task at 0x16b0b8e20>]"
      ]
     },
     "execution_count": 12,
     "metadata": {},
     "output_type": "execute_result"
    }
   ],
   "source": [
    "# empty space to list tasks\n",
    "\n",
    "wl.list_tasks()"
   ]
  },
  {
   "cell_type": "markdown",
   "metadata": {},
   "source": [
    "## Display Task Run Results\n",
    "\n",
    "The Task Run is the implementation of the task - the actual running of the script and it's results.  Tasks that are Run Once will only have one Task Run, while a Task set to Run Scheduled will have a Task Run for each time the task is executed.  Each Task Run has its own set of logs and results that are monitored through the Task Run `logs()` method.\n",
    "\n",
    "First, get the Task Run - this is the actual execution of a Task.  The Task is the **scheduled** run of an Orchestration.  The Task Run is the **implementation** of a scheduled Task.  A Run Once Task while generate one Task Run, while a Scheduled Task generated a new Task Run every time the schedule pattern is met until the Task is killed.\n",
    "\n",
    "We retrieve the task runs with the Task `last_runs()` method, and assign a single Task Run to a variable by selecting it with the list with `last_runs()[index]`.  If you only have one Task Run from a Task, then you can just set the `index` to 0.\n",
    "\n",
    "### Display Task Run Results Exercise\n",
    "\n",
    "Retrieve the task run for our generated task, then start checking the logs for our task run.  It may take longer than 30 seconds to launch the task, so be prepared to the command multiple times until is it displayed.  Store the task into a variable for later use.\n",
    "\n",
    "Here's a code sample where the task was saved to the variable `task`.\n",
    "\n",
    "```python\n",
    "task_run = task.last_runs()[0]\n",
    "task_run\n",
    "```\n",
    "\n"
   ]
  },
  {
   "cell_type": "code",
   "execution_count": 13,
   "metadata": {},
   "outputs": [
    {
     "data": {
      "text/html": [
       "\n",
       "            <table>\n",
       "              <tr><th>Field</th><th>Value</th></tr>\n",
       "              <tr><td>Task</td><td>3651f37a-a9db-4bdb-ab73-0deee4fc7f66</td></tr>\n",
       "              <tr><td>Pod ID</td><td>bd07affd-5cf6-40e2-9ff2-71efdb3fbf72</td></tr>\n",
       "              <tr><td>Status</td><td>success</td></tr>\n",
       "              <tr><td>Created At</td><td>2024-02-May 20:42:08</td></tr>\n",
       "              <tr><td>Updated At</td><td>2024-02-May 20:42:08</td></tr>\n",
       "            </table>\n",
       "            "
      ],
      "text/plain": [
       "<wallaroo.task_run.TaskRun at 0x16b00ffd0>"
      ]
     },
     "execution_count": 13,
     "metadata": {},
     "output_type": "execute_result"
    }
   ],
   "source": [
    "task_run = task.last_runs()[0]\n",
    "task_run"
   ]
  },
  {
   "cell_type": "markdown",
   "metadata": {},
   "source": [
    "The Task Run Status is checked with the `_status` method.  This lets you know if there was a failure or if it ran successfully.  If it didn't, you can still get the task run logs to find out why."
   ]
  },
  {
   "cell_type": "code",
   "execution_count": 14,
   "metadata": {},
   "outputs": [
    {
     "data": {
      "text/plain": [
       "'success'"
      ]
     },
     "execution_count": 14,
     "metadata": {},
     "output_type": "execute_result"
    }
   ],
   "source": [
    "task_run._status"
   ]
  },
  {
   "cell_type": "markdown",
   "metadata": {},
   "source": [
    "## Retrieve Task Run Logs\n",
    "\n",
    "The Task Run logs are retrieved with the Wallaroo task runs `log()`, and shows the outputs of the results.  This is why it's useful to have `print` commands in your code to track what it's doing.\n",
    "\n",
    "### Retrieve Task Run Logs Exercise\n",
    "\n",
    "Take the task run and display the logs.  It may take a few minutes for the logs to show up, so you may need to refresh the code below a few times.  Here's a quick example of some code.\n",
    "\n",
    "```python\n",
    "task_run.logs()\n",
    "```"
   ]
  },
  {
   "cell_type": "code",
   "execution_count": 18,
   "metadata": {},
   "outputs": [
    {
     "data": {
      "text/html": [
       "<pre><code>2024-02-May 20:42:16 Workspace: workshop-finserv-jch\n",
       "2024-02-May 20:42:16 {'name': 'workshop-finserv-jch', 'id': 17, 'archived': False, 'created_by': '76b893ff-5c30-4f01-bd9e-9579a20fc4ea', 'created_at': '2024-05-02T17:29:32.171308+00:00', 'models': [{'name': 'classification-finserv-prime', 'versions': 1, 'owner_id': '\"\"', 'last_update_time': datetime.datetime(2024, 5, 2, 17, 29, 51, 439254, tzinfo=tzutc()), 'created_at': datetime.datetime(2024, 5, 2, 17, 29, 51, 439254, tzinfo=tzutc())}, {'name': 'ccfraud-xgboost-version', 'versions': 1, 'owner_id': '\"\"', 'last_update_time': datetime.datetime(2024, 5, 2, 17, 35, 25, 337258, tzinfo=tzutc()), 'created_at': datetime.datetime(2024, 5, 2, 17, 35, 25, 337258, tzinfo=tzutc())}], 'pipelines': [{'name': 'ccfraud-detector', 'create_time': datetime.datetime(2024, 5, 2, 17, 29, 52, 836622, tzinfo=tzutc()), 'definition': '[]'}]}\n",
       "2024-02-May 20:42:16 {'name': 'ccfraud-detector', 'create_time': datetime.datetime(2024, 5, 2, 17, 29, 52, 836622, tzinfo=tzutc()), 'definition': '[]'}\n",
       "2024-02-May 20:42:16 Pipeline: ccfraud-detector\n",
       "2024-02-May 20:42:16                         time  ... anomaly.count\n",
       "2024-02-May 20:42:16 0    2024-05-02 20:42:16.794  ...             0\n",
       "2024-02-May 20:42:16 {'status': 'Running', 'details': [], 'engines': [{'ip': '10.28.3.133', 'name': 'engine-7f57859c49-2ljvp', 'status': 'Running', 'reason': None, 'details': [], 'pipeline_statuses': {'pipelines': [{'id': 'ccfraud-detector', 'status': 'Running', 'version': 'f6964c57-82b0-4d88-bf74-f863f169478f'}]}, 'model_statuses': {'models': [{'name': 'classification-finserv-prime', 'sha': 'bc85ce596945f876256f41515c7501c399fd97ebcb9ab3dd41bf03f8937b4507', 'status': 'Running', 'version': 'b3cfc328-5c34-4417-ba1a-6a1f57889de1'}]}}], 'engine_lbs': [{'ip': '10.28.3.132', 'name': 'engine-lb-d7cc8fc9c-kmg9f', 'status': 'Running', 'reason': None, 'details': []}], 'sidekicks': []}\n",
       "2024-02-May 20:42:16 1    2024-05-02 20:42:16.794  ...             0\n",
       "2024-02-May 20:42:16 2    2024-05-02 20:42:16.794  ...             0\n",
       "2024-02-May 20:42:16 ...                      ...  ...           ...\n",
       "2024-02-May 20:42:16 4    2024-05-02 20:42:16.794  ...             0\n",
       "2024-02-May 20:42:16 3    2024-05-02 20:42:16.794  ...             0\n",
       "2024-02-May 20:42:16 996  2024-05-02 20:42:16.794  ...             0\n",
       "2024-02-May 20:42:16 998  2024-05-02 20:42:16.794  ...             0\n",
       "2024-02-May 20:42:16 997  2024-05-02 20:42:16.794  ...             0\n",
       "2024-02-May 20:42:16 999  2024-05-02 20:42:16.794  ...             0\n",
       "2024-02-May 20:42:16 1000 2024-05-02 20:42:16.794  ...             0\n",
       "2024-02-May 20:42:16 \n",
       "2024-02-May 20:42:16 [1001 rows x 4 columns]</code></pre>"
      ],
      "text/plain": [
       "['2024-05-02T20:42:16.830852076Z stdout F Workspace: workshop-finserv-jch',\n",
       " '2024-05-02T20:42:16.830944886Z stdout F {\\'name\\': \\'workshop-finserv-jch\\', \\'id\\': 17, \\'archived\\': False, \\'created_by\\': \\'76b893ff-5c30-4f01-bd9e-9579a20fc4ea\\', \\'created_at\\': \\'2024-05-02T17:29:32.171308+00:00\\', \\'models\\': [{\\'name\\': \\'classification-finserv-prime\\', \\'versions\\': 1, \\'owner_id\\': \\'\"\"\\', \\'last_update_time\\': datetime.datetime(2024, 5, 2, 17, 29, 51, 439254, tzinfo=tzutc()), \\'created_at\\': datetime.datetime(2024, 5, 2, 17, 29, 51, 439254, tzinfo=tzutc())}, {\\'name\\': \\'ccfraud-xgboost-version\\', \\'versions\\': 1, \\'owner_id\\': \\'\"\"\\', \\'last_update_time\\': datetime.datetime(2024, 5, 2, 17, 35, 25, 337258, tzinfo=tzutc()), \\'created_at\\': datetime.datetime(2024, 5, 2, 17, 35, 25, 337258, tzinfo=tzutc())}], \\'pipelines\\': [{\\'name\\': \\'ccfraud-detector\\', \\'create_time\\': datetime.datetime(2024, 5, 2, 17, 29, 52, 836622, tzinfo=tzutc()), \\'definition\\': \\'[]\\'}]}',\n",
       " \"2024-05-02T20:42:16.830954906Z stdout F {'name': 'ccfraud-detector', 'create_time': datetime.datetime(2024, 5, 2, 17, 29, 52, 836622, tzinfo=tzutc()), 'definition': '[]'}\",\n",
       " '2024-05-02T20:42:16.830951366Z stdout F Pipeline: ccfraud-detector',\n",
       " '2024-05-02T20:42:16.830963106Z stdout F                         time  ... anomaly.count',\n",
       " '2024-05-02T20:42:16.830968206Z stdout F 0    2024-05-02 20:42:16.794  ...             0',\n",
       " \"2024-05-02T20:42:16.830960006Z stdout F {'status': 'Running', 'details': [], 'engines': [{'ip': '10.28.3.133', 'name': 'engine-7f57859c49-2ljvp', 'status': 'Running', 'reason': None, 'details': [], 'pipeline_statuses': {'pipelines': [{'id': 'ccfraud-detector', 'status': 'Running', 'version': 'f6964c57-82b0-4d88-bf74-f863f169478f'}]}, 'model_statuses': {'models': [{'name': 'classification-finserv-prime', 'sha': 'bc85ce596945f876256f41515c7501c399fd97ebcb9ab3dd41bf03f8937b4507', 'status': 'Running', 'version': 'b3cfc328-5c34-4417-ba1a-6a1f57889de1'}]}}], 'engine_lbs': [{'ip': '10.28.3.132', 'name': 'engine-lb-d7cc8fc9c-kmg9f', 'status': 'Running', 'reason': None, 'details': []}], 'sidekicks': []}\",\n",
       " '2024-05-02T20:42:16.830971326Z stdout F 1    2024-05-02 20:42:16.794  ...             0',\n",
       " '2024-05-02T20:42:16.830973356Z stdout F 2    2024-05-02 20:42:16.794  ...             0',\n",
       " '2024-05-02T20:42:16.830979666Z stdout F ...                      ...  ...           ...',\n",
       " '2024-05-02T20:42:16.830977666Z stdout F 4    2024-05-02 20:42:16.794  ...             0',\n",
       " '2024-05-02T20:42:16.830975326Z stdout F 3    2024-05-02 20:42:16.794  ...             0',\n",
       " '2024-05-02T20:42:16.830981636Z stdout F 996  2024-05-02 20:42:16.794  ...             0',\n",
       " '2024-05-02T20:42:16.830986066Z stdout F 998  2024-05-02 20:42:16.794  ...             0',\n",
       " '2024-05-02T20:42:16.830983686Z stdout F 997  2024-05-02 20:42:16.794  ...             0',\n",
       " '2024-05-02T20:42:16.830988106Z stdout F 999  2024-05-02 20:42:16.794  ...             0',\n",
       " '2024-05-02T20:42:16.830990066Z stdout F 1000 2024-05-02 20:42:16.794  ...             0',\n",
       " '2024-05-02T20:42:16.830991916Z stdout F ',\n",
       " '2024-05-02T20:42:16.830994936Z stdout F [1001 rows x 4 columns]']"
      ]
     },
     "execution_count": 18,
     "metadata": {},
     "output_type": "execute_result"
    }
   ],
   "source": [
    "task_run.logs()"
   ]
  },
  {
   "cell_type": "markdown",
   "metadata": {},
   "source": [
    "You have now walked through setting up a basic assay and running it over historical data.\n",
    "\n",
    "## Congratulations!\n",
    "In this workshop you have\n",
    "* Deployed a single step house price prediction pipeline and sent data to it.\n",
    "* Uploaded an ML Orchestration into Wallaroo.\n",
    "* Created a Run Once Task from the Orchestration.\n",
    "* Viewed the Task Run's status generated from the Task.\n",
    "* Viewed the Task Run's logs.\n",
    "\n",
    "Great job! \n",
    "\n",
    "### Cleaning up.\n",
    "\n",
    "Now that the workshop is complete, don't forget to undeploy your pipeline to free up the resources."
   ]
  },
  {
   "cell_type": "code",
   "execution_count": 19,
   "metadata": {},
   "outputs": [
    {
     "data": {
      "text/html": [
       "<table><tr><th>name</th> <td>ccfraud-detector</td></tr><tr><th>created</th> <td>2024-05-02 17:29:52.836622+00:00</td></tr><tr><th>last_updated</th> <td>2024-05-02 20:39:10.251531+00:00</td></tr><tr><th>deployed</th> <td>False</td></tr><tr><th>arch</th> <td>x86</td></tr><tr><th>accel</th> <td>none</td></tr><tr><th>tags</th> <td></td></tr><tr><th>versions</th> <td>f6964c57-82b0-4d88-bf74-f863f169478f, b1d6fc1a-4e6d-4752-a83c-c51bf7c5e947, 22ce9caf-5dd3-4840-8f2b-b764e6755566, 7bac27b7-f83c-46a3-918b-c3073a45a277, ef50af82-0cb6-4011-b72e-24c8203ab54f, 23aa5642-a6da-4b6c-8957-52255b062f85, f2b94285-7943-47c3-bc87-b2eedbdb29d1, 9c3b890e-75a9-4c62-bffa-206a1c63f5ae, fb8818a8-0646-4a1d-a0d4-fe6ee21a174d, 4143c5bf-b205-46c1-a5a2-25b556ed8935, 695a84ce-474c-4515-9670-f238d1ef48ad, f9e0b805-5dfc-465f-894e-4cd6a9f91d53, dabc98a0-bc83-4ab7-9cff-f9e846e1b0bd</td></tr><tr><th>steps</th> <td>classification-finserv-prime</td></tr><tr><th>published</th> <td>False</td></tr></table>"
      ],
      "text/plain": [
       "{'name': 'ccfraud-detector', 'create_time': datetime.datetime(2024, 5, 2, 17, 29, 52, 836622, tzinfo=tzutc()), 'definition': \"[{'ModelInference': {'models': [{'name': 'classification-finserv-prime', 'version': 'b3cfc328-5c34-4417-ba1a-6a1f57889de1', 'sha': 'bc85ce596945f876256f41515c7501c399fd97ebcb9ab3dd41bf03f8937b4507'}]}}]\"}"
      ]
     },
     "execution_count": 19,
     "metadata": {},
     "output_type": "execute_result"
    }
   ],
   "source": [
    "pipeline.undeploy()"
   ]
  }
 ],
 "metadata": {
  "kernelspec": {
   "display_name": "wallaroosdk.2024.1",
   "language": "python",
   "name": "wallaroosdk.2024.1"
  },
  "language_info": {
   "codemirror_mode": {
    "name": "ipython",
    "version": 3
   },
   "file_extension": ".py",
   "mimetype": "text/x-python",
   "name": "python",
   "nbconvert_exporter": "python",
   "pygments_lexer": "ipython3",
   "version": "3.8.19"
  },
  "vscode": {
   "interpreter": {
    "hash": "7dda4bf3640b7fafcd1648658b879b4cc9f6ba6084e8fb356fdaaa1a461d1690"
   }
  }
 },
 "nbformat": 4,
 "nbformat_minor": 4
}
