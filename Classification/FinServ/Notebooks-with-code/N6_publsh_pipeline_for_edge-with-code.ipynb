{
 "cells": [
  {
   "cell_type": "markdown",
   "id": "842531aa-4f9f-41fc-884e-8bce107a19ee",
   "metadata": {},
   "source": [
    "# Workshop Notebook 6: Deploy Pipeline to Edge Devices\n",
    "\n",
    "For this workshop, we will take a Wallaroo pipeline and publish it to an Open Container (OCI) Registry.  The registry details are stored in the Wallaroo instance as the Edge Registry.  \n",
    "\n",
    "In this set of exercises, you will:\n",
    "\n",
    "1. Use a pre-trained model and deploy it to Wallaroo.\n",
    "1. Perform sample inferences.\n",
    "1. Publish the pipeline to the Edge Registry.\n",
    "1. See the steps to deploy the published pipeline to an Edge device and perform inferences through it.\n",
    "\n",
    "Deployment to the Edge allows data scientists to work in Wallaroo to test their models in Wallaroo, then once satisfied with the results publish those pipelines.  DevOps engineers then take those published pipeline details from the Edge registry and deploy them into Docker and Kubernetes environments.\n",
    "\n",
    "This workshop will demonstrate the following concepts:\n",
    "\n",
    "* [Wallaroo Workspaces](https://docs.wallaroo.ai/wallaroo-developer-guides/wallaroo-sdk-guides/wallaroo-sdk-essentials-guide/wallaroo-sdk-essentials-workspace/):  Workspaces are environments were users upload models, create pipelines and other artifacts.  The workspace should be considered the fundamental area where work is done.  Workspaces are shared with other users to give them access to the same models, pipelines, etc.\n",
    "* [Wallaroo Model Upload and Registration](https://docs.wallaroo.ai/wallaroo-developer-guides/wallaroo-sdk-guides/wallaroo-sdk-essentials-guide/wallaroo-sdk-model-uploads/): ML Models are uploaded to Wallaroo through the SDK or the MLOps API to a **workspace**.  ML models include default runtimes (ONNX, Python Step, and TensorFlow) that are run directly through the Wallaroo engine, and containerized runtimes (Hugging Face, PyTorch, etc) that are run through in a container through the Wallaroo engine.\n",
    "* [Wallaroo Pipelines](https://docs.wallaroo.ai/wallaroo-developer-guides/wallaroo-sdk-guides/wallaroo-sdk-essentials-guide/wallaroo-sdk-essentials-pipelines/): Pipelines are used to deploy models for inferencing.  Each model is a **pipeline step** in a pipelines, where the inputs of the previous step are fed into the next.  Pipeline steps can be ML models, Python scripts, or Arbitrary Python (these contain necessary models and artifacts for running a model).\n",
    "* [Pipeline Edge Publication](https://docs.wallaroo.ai/20230300/wallaroo-developer-guides/wallaroo-sdk-guides/wallaroo-sdk-essentials-guide/wallaroo-sdk-essentials-pipelines/wallaroo-sdk-essentials-pipeline-publication/): How to publish a Wallaroo pipeline to an OCI registry, then deploy that pipeline into other environments.\n",
    "\n",
    "For this tutorial, we will be providing pre-trained models in ONNX format, and have connected a sample Edge Registry to our Wallaroo instance.\n",
    "\n",
    "For more Wallaroo procedures, see the [Wallaroo Documentation site](https://docs.wallaroo.ai)."
   ]
  },
  {
   "cell_type": "markdown",
   "id": "1d1390c8",
   "metadata": {},
   "source": [
    "## Preliminaries\n",
    "\n",
    "In the blocks below we will preload some required libraries.\n",
    "\n",
    "For convenience, the following `helper functions` are defined to retrieve previously created workspaces, models, and pipelines:\n",
    "\n",
    "* `get_workspace(name, client)`: This takes in the name and the Wallaroo client being used in this session, and returns the workspace matching `name`.  If no workspaces are found matching the name, raises a `KeyError` and returns `None`.\n",
    "* `get_model_version(model_name, workspace)`: Retrieves the most recent model version from the model matching the `model_name` within the provided `workspace`.  If no model matches that name, raises a `KeyError` and returns `None`.\n",
    "* `get_pipeline(pipeline_name, workspace)`: Retrieves the most pipeline from the workspace matching the `pipeline_name` within the provided `workspace`.  If no model matches that name, raises a `KeyError` and returns `None`."
   ]
  },
  {
   "cell_type": "code",
   "execution_count": 1,
   "id": "bb03a96b-3d13-4d5e-9aee-99913d9a37ab",
   "metadata": {},
   "outputs": [],
   "source": [
    "import json\n",
    "import os\n",
    "import datetime\n",
    "\n",
    "import wallaroo\n",
    "from wallaroo.object import EntityNotFoundError\n",
    "from wallaroo.framework import Framework\n",
    "\n",
    "# used to display dataframe information without truncating\n",
    "from IPython.display import display\n",
    "import pandas as pd\n",
    "import numpy as np\n",
    "\n",
    "pd.set_option('display.max_colwidth', None)\n",
    "\n",
    "import time\n",
    "import pyarrow as pa"
   ]
  },
  {
   "cell_type": "code",
   "execution_count": 2,
   "id": "4b0953cd",
   "metadata": {},
   "outputs": [],
   "source": [
    "## convenience functions from the previous notebooks\n",
    "\n",
    "# return the workspace called <name> through the Wallaroo client.\n",
    "def get_workspace(name, client):\n",
    "    workspace = None\n",
    "    for ws in client.list_workspaces():\n",
    "        if ws.name() == name:\n",
    "            workspace= ws\n",
    "            return workspace\n",
    "    # if no workspaces were found\n",
    "    if workspace==None:\n",
    "        raise KeyError(f\"Workspace {name} was not found.\")\n",
    "    return workspace\n",
    "\n",
    "\n",
    "# returns the most recent model version in a workspace for the matching `model_name`\n",
    "def get_model_version(model_name, workspace):\n",
    "    modellist = workspace.models()\n",
    "    model_version = [m.versions()[-1] for m in modellist if m.name() == model_name]\n",
    "    # if no models match, return None\n",
    "    if len(modellist) <= 0:\n",
    "        raise KeyError(f\"Model {mname} not found in this workspace\")\n",
    "        return None\n",
    "    return model_version[0]\n",
    "\n",
    "# get a pipeline by name in the workspace\n",
    "def get_pipeline(pipeline_name, workspace):\n",
    "    plist = workspace.pipelines()\n",
    "    pipeline = [p for p in plist if p.name() == pipeline_name]\n",
    "    if len(pipeline) <= 0:\n",
    "        raise KeyError(f\"Pipeline {pipeline_name} not found in this workspace\")\n",
    "        return None\n",
    "    return pipeline[0]\n"
   ]
  },
  {
   "cell_type": "markdown",
   "id": "a74c5788-1b13-44b5-9f2c-82fdc531df78",
   "metadata": {},
   "source": [
    "### Connect to the Wallaroo Instance\n",
    "\n",
    "The first step is to connect to Wallaroo through the Wallaroo client.  The Python library is included in the Wallaroo install and available through the Jupyter Hub interface provided with your Wallaroo environment.\n",
    "\n",
    "This is accomplished using the `wallaroo.Client()` command, which provides a URL to grant the SDK permission to your specific Wallaroo environment.  When displayed, enter the URL into a browser and confirm permissions.  Store the connection into a variable that can be referenced later.\n",
    "\n",
    "If logging into the Wallaroo instance through the internal JupyterHub service, use `wl = wallaroo.Client()`.  For more information on Wallaroo Client settings, see the [Client Connection guide](https://docs.wallaroo.ai/wallaroo-developer-guides/wallaroo-sdk-guides/wallaroo-sdk-essentials-guide/wallaroo-sdk-essentials-client/)."
   ]
  },
  {
   "cell_type": "code",
   "execution_count": 3,
   "id": "5f89932e",
   "metadata": {},
   "outputs": [
    {
     "name": "stdout",
     "output_type": "stream",
     "text": [
      "Please log into the following URL in a web browser:\n",
      "\n",
      "\thttps://doc-test.keycloak.wallaroocommunity.ninja/auth/realms/master/device?user_code=RKQX-UTUK\n",
      "\n",
      "Login successful!\n"
     ]
    }
   ],
   "source": [
    "## blank space to log in \n",
    "\n",
    "wl = wallaroo.Client()\n",
    "\n",
    "wallarooPrefix = \"doc-test.\"\n",
    "wallarooSuffix = \"wallaroocommunity.ninja\"\n",
    "\n",
    "wl = wallaroo.Client(api_endpoint=f\"https://{wallarooPrefix}api.{wallarooSuffix}\", \n",
    "                    auth_endpoint=f\"https://{wallarooPrefix}keycloak.{wallarooSuffix}\", \n",
    "                    auth_type=\"sso\")"
   ]
  },
  {
   "cell_type": "markdown",
   "id": "abf1e30d",
   "metadata": {},
   "source": [
    "### Set Configurations\n",
    "\n",
    "Set the workspace, pipeline, and model used from Notebook 1.  The helper functions will make this task easier.\n",
    "\n",
    "#### Set Configurations References\n",
    "\n",
    "* [Wallaroo SDK Essentials Guide: Workspace Management](https://docs.wallaroo.ai/wallaroo-developer-guides/wallaroo-sdk-guides/wallaroo-sdk-essentials-guide/wallaroo-sdk-essentials-workspace/)\n",
    "* [Wallaroo SDK Essentials Guide: Pipeline Management](https://docs.wallaroo.ai/wallaroo-developer-guides/wallaroo-sdk-guides/wallaroo-sdk-essentials-guide/wallaroo-sdk-essentials-pipelines/wallaroo-sdk-essentials-pipeline/)"
   ]
  },
  {
   "cell_type": "code",
   "execution_count": 5,
   "id": "8192998c",
   "metadata": {},
   "outputs": [
    {
     "data": {
      "text/plain": [
       "{'name': 'workshop-finserv-john', 'id': 18, 'archived': False, 'created_by': 'aa707604-ec80-495a-a9a1-87774c8086d5', 'created_at': '2023-09-14T19:31:38.546173+00:00', 'models': [{'name': 'classification-finserv-prime', 'versions': 1, 'owner_id': '\"\"', 'last_update_time': datetime.datetime(2023, 9, 14, 19, 33, 57, 279211, tzinfo=tzutc()), 'created_at': datetime.datetime(2023, 9, 14, 19, 33, 57, 279211, tzinfo=tzutc())}], 'pipelines': [{'name': 'ccfraud-detector', 'create_time': datetime.datetime(2023, 9, 14, 19, 33, 59, 591629, tzinfo=tzutc()), 'definition': '[]'}]}"
      ]
     },
     "metadata": {},
     "output_type": "display_data"
    },
    {
     "data": {
      "text/html": [
       "<table>\n",
       "        <tr>\n",
       "          <td>Name</td>\n",
       "          <td>classification-finserv-prime</td>\n",
       "        </tr>\n",
       "        <tr>\n",
       "          <td>Version</td>\n",
       "          <td>3ec4ae77-3f47-41e2-a09b-96342d5391d7</td>\n",
       "        </tr>\n",
       "        <tr>\n",
       "          <td>File Name</td>\n",
       "          <td>keras_ccfraud.onnx</td>\n",
       "        </tr>\n",
       "        <tr>\n",
       "          <td>SHA</td>\n",
       "          <td>bc85ce596945f876256f41515c7501c399fd97ebcb9ab3dd41bf03f8937b4507</td>\n",
       "        </tr>\n",
       "        <tr>\n",
       "          <td>Status</td>\n",
       "          <td>ready</td>\n",
       "        </tr>\n",
       "        <tr>\n",
       "          <td>Image Path</td>\n",
       "          <td>None</td>\n",
       "        </tr>\n",
       "        <tr>\n",
       "          <td>Updated At</td>\n",
       "          <td>2023-14-Sep 19:33:57</td>\n",
       "        </tr>\n",
       "      </table>"
      ],
      "text/plain": [
       "{'name': 'classification-finserv-prime', 'version': '3ec4ae77-3f47-41e2-a09b-96342d5391d7', 'file_name': 'keras_ccfraud.onnx', 'image_path': None, 'last_update_time': datetime.datetime(2023, 9, 14, 19, 33, 57, 279211, tzinfo=tzutc())}"
      ]
     },
     "metadata": {},
     "output_type": "display_data"
    },
    {
     "data": {
      "text/html": [
       "<table><tr><th>name</th> <td>ccfraud-detector</td></tr><tr><th>created</th> <td>2023-09-14 19:33:59.591629+00:00</td></tr><tr><th>last_updated</th> <td>2023-09-14 19:34:03.151791+00:00</td></tr><tr><th>deployed</th> <td>False</td></tr><tr><th>tags</th> <td></td></tr><tr><th>versions</th> <td>f4c1031b-a4cb-4e05-863d-4785c4003525, bd4206ed-074d-4903-969f-790560490cc0</td></tr><tr><th>steps</th> <td>classification-finserv-prime</td></tr><tr><th>published</th> <td>False</td></tr></table>"
      ],
      "text/plain": [
       "{'name': 'ccfraud-detector', 'create_time': datetime.datetime(2023, 9, 14, 19, 33, 59, 591629, tzinfo=tzutc()), 'definition': '[]'}"
      ]
     },
     "metadata": {},
     "output_type": "display_data"
    }
   ],
   "source": [
    "# retrieve the previous workspace, model, and pipeline version\n",
    "\n",
    "workspace_name = \"workshop-finserv-john\"\n",
    "\n",
    "workspace = get_workspace(workspace_name, wl)\n",
    "\n",
    "# set your current workspace to the workspace that you just created\n",
    "wl.set_current_workspace(workspace)\n",
    "\n",
    "# optionally, examine your current workspace\n",
    "wl.get_current_workspace()\n",
    "\n",
    "model_name = 'classification-finserv-prime'\n",
    "\n",
    "prime_model_version = get_model_version(model_name, workspace)\n",
    "\n",
    "pipeline_name = 'ccfraud-detector'\n",
    "\n",
    "pipeline = get_pipeline(pipeline_name, workspace)\n",
    "\n",
    "display(workspace)\n",
    "display(prime_model_version)\n",
    "display(pipeline)\n"
   ]
  },
  {
   "cell_type": "markdown",
   "id": "e27e9fc3",
   "metadata": {},
   "source": [
    "## Deploy the Pipeline with the Model Version Step\n",
    "\n",
    "As per the other workshops:\n",
    "\n",
    "1. Clear the pipeline of all steps.\n",
    "1. Add the model version as a pipeline step.\n",
    "1. Deploy the pipeline with the following deployment configuration:\n",
    "\n",
    "```python\n",
    "deploy_config = wallaroo.DeploymentConfigBuilder().replica_count(1).cpus(0.5).memory(\"1Gi\").build()\n",
    "```"
   ]
  },
  {
   "cell_type": "code",
   "execution_count": 6,
   "id": "3727ad65",
   "metadata": {},
   "outputs": [
    {
     "data": {
      "text/html": [
       "<table><tr><th>name</th> <td>ccfraud-detector</td></tr><tr><th>created</th> <td>2023-09-14 19:33:59.591629+00:00</td></tr><tr><th>last_updated</th> <td>2023-09-14 19:35:35.116133+00:00</td></tr><tr><th>deployed</th> <td>True</td></tr><tr><th>tags</th> <td></td></tr><tr><th>versions</th> <td>8382ef80-bc41-4cdd-8599-62f4bd4aeac5, f4c1031b-a4cb-4e05-863d-4785c4003525, bd4206ed-074d-4903-969f-790560490cc0</td></tr><tr><th>steps</th> <td>classification-finserv-prime</td></tr><tr><th>published</th> <td>False</td></tr></table>"
      ],
      "text/plain": [
       "{'name': 'ccfraud-detector', 'create_time': datetime.datetime(2023, 9, 14, 19, 33, 59, 591629, tzinfo=tzutc()), 'definition': \"[{'ModelInference': {'models': [{'name': 'classification-finserv-prime', 'version': '3ec4ae77-3f47-41e2-a09b-96342d5391d7', 'sha': 'bc85ce596945f876256f41515c7501c399fd97ebcb9ab3dd41bf03f8937b4507'}]}}]\"}"
      ]
     },
     "execution_count": 6,
     "metadata": {},
     "output_type": "execute_result"
    }
   ],
   "source": [
    "pipeline.clear()\n",
    "pipeline.add_model_step(prime_model_version)\n",
    "\n",
    "deploy_config = wallaroo.DeploymentConfigBuilder().replica_count(1).cpus(0.5).memory(\"1Gi\").build()\n",
    "pipeline.deploy(deployment_config=deploy_config)"
   ]
  },
  {
   "cell_type": "markdown",
   "id": "824c932d",
   "metadata": {},
   "source": [
    "### Sample Inference\n",
    "\n",
    "Verify the pipeline is deployed properly with a sample inference with the file `./data/test_data.df.json`."
   ]
  },
  {
   "cell_type": "code",
   "execution_count": 7,
   "id": "bcb9cc81",
   "metadata": {},
   "outputs": [
    {
     "data": {
      "text/html": [
       "<div>\n",
       "<style scoped>\n",
       "    .dataframe tbody tr th:only-of-type {\n",
       "        vertical-align: middle;\n",
       "    }\n",
       "\n",
       "    .dataframe tbody tr th {\n",
       "        vertical-align: top;\n",
       "    }\n",
       "\n",
       "    .dataframe thead th {\n",
       "        text-align: right;\n",
       "    }\n",
       "</style>\n",
       "<table border=\"1\" class=\"dataframe\">\n",
       "  <thead>\n",
       "    <tr style=\"text-align: right;\">\n",
       "      <th></th>\n",
       "      <th>time</th>\n",
       "      <th>in.tensor</th>\n",
       "      <th>out.dense_1</th>\n",
       "      <th>check_failures</th>\n",
       "    </tr>\n",
       "  </thead>\n",
       "  <tbody>\n",
       "    <tr>\n",
       "      <th>0</th>\n",
       "      <td>2023-09-14 19:35:52.911</td>\n",
       "      <td>[-1.0603297501, 2.3544967095, -3.5638788326, 5.1387348926, -1.2308457019, -0.7687824608, -3.5881228109, 1.8880837663, -3.2789674274, -3.9563254554, 4.0993439118, -5.6539176395, -0.8775733373, -9.131571192, -0.6093537873, -3.7480276773, -5.0309125017, -0.8748149526, 1.9870535692, 0.7005485718, 0.9204422758, -0.1041491809, 0.3229564351, -0.7418141657, 0.0384120159, 1.0993439146, 1.2603409756, -0.1466244739, -1.4463212439]</td>\n",
       "      <td>[0.99300325]</td>\n",
       "      <td>0</td>\n",
       "    </tr>\n",
       "    <tr>\n",
       "      <th>1</th>\n",
       "      <td>2023-09-14 19:35:52.911</td>\n",
       "      <td>[-1.0603297501, 2.3544967095, -3.5638788326, 5.1387348926, -1.2308457019, -0.7687824608, -3.5881228109, 1.8880837663, -3.2789674274, -3.9563254554, 4.0993439118, -5.6539176395, -0.8775733373, -9.131571192, -0.6093537873, -3.7480276773, -5.0309125017, -0.8748149526, 1.9870535692, 0.7005485718, 0.9204422758, -0.1041491809, 0.3229564351, -0.7418141657, 0.0384120159, 1.0993439146, 1.2603409756, -0.1466244739, -1.4463212439]</td>\n",
       "      <td>[0.99300325]</td>\n",
       "      <td>0</td>\n",
       "    </tr>\n",
       "    <tr>\n",
       "      <th>2</th>\n",
       "      <td>2023-09-14 19:35:52.911</td>\n",
       "      <td>[-1.0603297501, 2.3544967095, -3.5638788326, 5.1387348926, -1.2308457019, -0.7687824608, -3.5881228109, 1.8880837663, -3.2789674274, -3.9563254554, 4.0993439118, -5.6539176395, -0.8775733373, -9.131571192, -0.6093537873, -3.7480276773, -5.0309125017, -0.8748149526, 1.9870535692, 0.7005485718, 0.9204422758, -0.1041491809, 0.3229564351, -0.7418141657, 0.0384120159, 1.0993439146, 1.2603409756, -0.1466244739, -1.4463212439]</td>\n",
       "      <td>[0.99300325]</td>\n",
       "      <td>0</td>\n",
       "    </tr>\n",
       "    <tr>\n",
       "      <th>3</th>\n",
       "      <td>2023-09-14 19:35:52.911</td>\n",
       "      <td>[-1.0603297501, 2.3544967095, -3.5638788326, 5.1387348926, -1.2308457019, -0.7687824608, -3.5881228109, 1.8880837663, -3.2789674274, -3.9563254554, 4.0993439118, -5.6539176395, -0.8775733373, -9.131571192, -0.6093537873, -3.7480276773, -5.0309125017, -0.8748149526, 1.9870535692, 0.7005485718, 0.9204422758, -0.1041491809, 0.3229564351, -0.7418141657, 0.0384120159, 1.0993439146, 1.2603409756, -0.1466244739, -1.4463212439]</td>\n",
       "      <td>[0.99300325]</td>\n",
       "      <td>0</td>\n",
       "    </tr>\n",
       "    <tr>\n",
       "      <th>4</th>\n",
       "      <td>2023-09-14 19:35:52.911</td>\n",
       "      <td>[0.5817662108, 0.097881551, 0.1546819424, 0.4754101949, -0.1978862306, -0.4504344854, 0.0166540447, -0.0256070551, 0.0920561602, -0.2783917153, 0.0593299441, -0.0196585416, -0.4225083157, -0.1217538877, 1.5473094894, 0.2391622864, 0.3553974881, -0.7685165301, -0.7000849355, -0.1190043285, -0.3450517133, -1.1065114108, 0.2523411195, 0.0209441826, 0.2199267436, 0.2540689265, -0.0450225094, 0.1086773898, 0.2547179311]</td>\n",
       "      <td>[0.0010916889]</td>\n",
       "      <td>0</td>\n",
       "    </tr>\n",
       "    <tr>\n",
       "      <th>...</th>\n",
       "      <td>...</td>\n",
       "      <td>...</td>\n",
       "      <td>...</td>\n",
       "      <td>...</td>\n",
       "    </tr>\n",
       "    <tr>\n",
       "      <th>996</th>\n",
       "      <td>2023-09-14 19:35:52.911</td>\n",
       "      <td>[1.052355506, -0.7602601059, -0.3124601687, -0.5580714587, -0.6198353331, 0.6635428464, -1.2171685083, 0.3144529308, 0.2360632058, 0.878209955, -0.5518803042, -0.2781328417, -0.5675947058, -0.0982688053, 0.1475098349, -0.3097481612, -1.0898892231, 2.804466934, -0.4211447753, -0.7315488305, -0.5311840374, -0.9053830525, 0.5382443229, -0.68327623, -1.1848642272, 0.9872236995, -0.0260721428, -0.1405966468, 0.0759031399]</td>\n",
       "      <td>[0.00011596084]</td>\n",
       "      <td>0</td>\n",
       "    </tr>\n",
       "    <tr>\n",
       "      <th>997</th>\n",
       "      <td>2023-09-14 19:35:52.911</td>\n",
       "      <td>[-0.8464537996, -0.7608807925, 2.186072883, -0.1614362994, -0.4069378894, 0.734079177, -0.4611705734, 0.4751492626, 1.4952832213, -0.9349105827, -0.7654272171, 0.4362793613, -0.6623354486, -1.5326388376, -1.4311992842, -1.0573215483, 0.9304904478, -1.2836000946, -1.079419331, 0.7138847264, 0.2710369668, 1.1943291742, 0.2527110226, 0.3107779567, 0.4219366694, 2.4854295825, 0.1754876037, -0.2362979978, 0.9979986569]</td>\n",
       "      <td>[0.0002785325]</td>\n",
       "      <td>0</td>\n",
       "    </tr>\n",
       "    <tr>\n",
       "      <th>998</th>\n",
       "      <td>2023-09-14 19:35:52.911</td>\n",
       "      <td>[1.0046377125, 0.0343666504, -1.3512533246, 0.4160460291, 0.5910548281, -0.8187740907, 0.5840864966, -0.447623496, 1.1193896296, -0.1156579903, 0.1298919303, -2.6410683948, 1.1658091033, 2.3607999565, -0.4265055896, -0.4862102299, 0.5102253659, -0.3384745171, -0.4081285365, -0.199414607, 0.0151691668, 0.2644673476, -0.0483547565, 0.9869714364, 0.629627219, 0.8990505678, -0.3731273846, -0.2166148809, 0.6374669208]</td>\n",
       "      <td>[0.0011070371]</td>\n",
       "      <td>0</td>\n",
       "    </tr>\n",
       "    <tr>\n",
       "      <th>999</th>\n",
       "      <td>2023-09-14 19:35:52.911</td>\n",
       "      <td>[0.4951101913, -0.2499369449, 0.4553345161, 0.9242750451, -0.3643510229, 0.602688482, -0.3785553207, 0.3170957153, 0.7368986387, -0.1195106678, 0.4017042912, 0.7371143425, -1.2229791154, 0.0061993212, -1.3541149574, -0.5839052891, 0.1648461272, -0.1527212037, 0.2456232399, -0.1432012313, -0.0383696111, 0.0865420131, -0.284099885, -0.5027591867, 1.1117147574, -0.5666540195, 0.121220185, 0.0667640208, 0.6583281816]</td>\n",
       "      <td>[0.0008533001]</td>\n",
       "      <td>0</td>\n",
       "    </tr>\n",
       "    <tr>\n",
       "      <th>1000</th>\n",
       "      <td>2023-09-14 19:35:52.911</td>\n",
       "      <td>[0.6118805301, 0.1726081102, 0.4310545502, 0.5032148221, -0.2746663262, -0.464798859, -0.1098384885, -0.0978937224, 0.9820529526, -0.2237381949, 2.3315375168, -1.5852745605, 1.6050692254, 1.9720759474, -0.4217479714, 0.5348796175, 0.0875849983, 0.3280840192, -0.0394716814, -0.1796805095, -0.4955020407, -1.1889449446, 0.246698494, 0.4185131811, 0.3026018698, 0.0812114542, -0.1557850823, 0.0171892918, -0.7236631158]</td>\n",
       "      <td>[0.0012498498]</td>\n",
       "      <td>0</td>\n",
       "    </tr>\n",
       "  </tbody>\n",
       "</table>\n",
       "<p>1001 rows × 4 columns</p>\n",
       "</div>"
      ],
      "text/plain": [
       "                        time  \\\n",
       "0    2023-09-14 19:35:52.911   \n",
       "1    2023-09-14 19:35:52.911   \n",
       "2    2023-09-14 19:35:52.911   \n",
       "3    2023-09-14 19:35:52.911   \n",
       "4    2023-09-14 19:35:52.911   \n",
       "...                      ...   \n",
       "996  2023-09-14 19:35:52.911   \n",
       "997  2023-09-14 19:35:52.911   \n",
       "998  2023-09-14 19:35:52.911   \n",
       "999  2023-09-14 19:35:52.911   \n",
       "1000 2023-09-14 19:35:52.911   \n",
       "\n",
       "                                                                                                                                                                                                                                                                                                                                                                                                                                    in.tensor  \\\n",
       "0     [-1.0603297501, 2.3544967095, -3.5638788326, 5.1387348926, -1.2308457019, -0.7687824608, -3.5881228109, 1.8880837663, -3.2789674274, -3.9563254554, 4.0993439118, -5.6539176395, -0.8775733373, -9.131571192, -0.6093537873, -3.7480276773, -5.0309125017, -0.8748149526, 1.9870535692, 0.7005485718, 0.9204422758, -0.1041491809, 0.3229564351, -0.7418141657, 0.0384120159, 1.0993439146, 1.2603409756, -0.1466244739, -1.4463212439]   \n",
       "1     [-1.0603297501, 2.3544967095, -3.5638788326, 5.1387348926, -1.2308457019, -0.7687824608, -3.5881228109, 1.8880837663, -3.2789674274, -3.9563254554, 4.0993439118, -5.6539176395, -0.8775733373, -9.131571192, -0.6093537873, -3.7480276773, -5.0309125017, -0.8748149526, 1.9870535692, 0.7005485718, 0.9204422758, -0.1041491809, 0.3229564351, -0.7418141657, 0.0384120159, 1.0993439146, 1.2603409756, -0.1466244739, -1.4463212439]   \n",
       "2     [-1.0603297501, 2.3544967095, -3.5638788326, 5.1387348926, -1.2308457019, -0.7687824608, -3.5881228109, 1.8880837663, -3.2789674274, -3.9563254554, 4.0993439118, -5.6539176395, -0.8775733373, -9.131571192, -0.6093537873, -3.7480276773, -5.0309125017, -0.8748149526, 1.9870535692, 0.7005485718, 0.9204422758, -0.1041491809, 0.3229564351, -0.7418141657, 0.0384120159, 1.0993439146, 1.2603409756, -0.1466244739, -1.4463212439]   \n",
       "3     [-1.0603297501, 2.3544967095, -3.5638788326, 5.1387348926, -1.2308457019, -0.7687824608, -3.5881228109, 1.8880837663, -3.2789674274, -3.9563254554, 4.0993439118, -5.6539176395, -0.8775733373, -9.131571192, -0.6093537873, -3.7480276773, -5.0309125017, -0.8748149526, 1.9870535692, 0.7005485718, 0.9204422758, -0.1041491809, 0.3229564351, -0.7418141657, 0.0384120159, 1.0993439146, 1.2603409756, -0.1466244739, -1.4463212439]   \n",
       "4          [0.5817662108, 0.097881551, 0.1546819424, 0.4754101949, -0.1978862306, -0.4504344854, 0.0166540447, -0.0256070551, 0.0920561602, -0.2783917153, 0.0593299441, -0.0196585416, -0.4225083157, -0.1217538877, 1.5473094894, 0.2391622864, 0.3553974881, -0.7685165301, -0.7000849355, -0.1190043285, -0.3450517133, -1.1065114108, 0.2523411195, 0.0209441826, 0.2199267436, 0.2540689265, -0.0450225094, 0.1086773898, 0.2547179311]   \n",
       "...                                                                                                                                                                                                                                                                                                                                                                                                                                       ...   \n",
       "996      [1.052355506, -0.7602601059, -0.3124601687, -0.5580714587, -0.6198353331, 0.6635428464, -1.2171685083, 0.3144529308, 0.2360632058, 0.878209955, -0.5518803042, -0.2781328417, -0.5675947058, -0.0982688053, 0.1475098349, -0.3097481612, -1.0898892231, 2.804466934, -0.4211447753, -0.7315488305, -0.5311840374, -0.9053830525, 0.5382443229, -0.68327623, -1.1848642272, 0.9872236995, -0.0260721428, -0.1405966468, 0.0759031399]   \n",
       "997         [-0.8464537996, -0.7608807925, 2.186072883, -0.1614362994, -0.4069378894, 0.734079177, -0.4611705734, 0.4751492626, 1.4952832213, -0.9349105827, -0.7654272171, 0.4362793613, -0.6623354486, -1.5326388376, -1.4311992842, -1.0573215483, 0.9304904478, -1.2836000946, -1.079419331, 0.7138847264, 0.2710369668, 1.1943291742, 0.2527110226, 0.3107779567, 0.4219366694, 2.4854295825, 0.1754876037, -0.2362979978, 0.9979986569]   \n",
       "998          [1.0046377125, 0.0343666504, -1.3512533246, 0.4160460291, 0.5910548281, -0.8187740907, 0.5840864966, -0.447623496, 1.1193896296, -0.1156579903, 0.1298919303, -2.6410683948, 1.1658091033, 2.3607999565, -0.4265055896, -0.4862102299, 0.5102253659, -0.3384745171, -0.4081285365, -0.199414607, 0.0151691668, 0.2644673476, -0.0483547565, 0.9869714364, 0.629627219, 0.8990505678, -0.3731273846, -0.2166148809, 0.6374669208]   \n",
       "999          [0.4951101913, -0.2499369449, 0.4553345161, 0.9242750451, -0.3643510229, 0.602688482, -0.3785553207, 0.3170957153, 0.7368986387, -0.1195106678, 0.4017042912, 0.7371143425, -1.2229791154, 0.0061993212, -1.3541149574, -0.5839052891, 0.1648461272, -0.1527212037, 0.2456232399, -0.1432012313, -0.0383696111, 0.0865420131, -0.284099885, -0.5027591867, 1.1117147574, -0.5666540195, 0.121220185, 0.0667640208, 0.6583281816]   \n",
       "1000        [0.6118805301, 0.1726081102, 0.4310545502, 0.5032148221, -0.2746663262, -0.464798859, -0.1098384885, -0.0978937224, 0.9820529526, -0.2237381949, 2.3315375168, -1.5852745605, 1.6050692254, 1.9720759474, -0.4217479714, 0.5348796175, 0.0875849983, 0.3280840192, -0.0394716814, -0.1796805095, -0.4955020407, -1.1889449446, 0.246698494, 0.4185131811, 0.3026018698, 0.0812114542, -0.1557850823, 0.0171892918, -0.7236631158]   \n",
       "\n",
       "          out.dense_1  check_failures  \n",
       "0        [0.99300325]               0  \n",
       "1        [0.99300325]               0  \n",
       "2        [0.99300325]               0  \n",
       "3        [0.99300325]               0  \n",
       "4      [0.0010916889]               0  \n",
       "...               ...             ...  \n",
       "996   [0.00011596084]               0  \n",
       "997    [0.0002785325]               0  \n",
       "998    [0.0011070371]               0  \n",
       "999    [0.0008533001]               0  \n",
       "1000   [0.0012498498]               0  \n",
       "\n",
       "[1001 rows x 4 columns]"
      ]
     },
     "execution_count": 7,
     "metadata": {},
     "output_type": "execute_result"
    }
   ],
   "source": [
    "# sample inference from previous code here\n",
    "\n",
    "pipeline.infer_from_file('../data/cc_data_1k.df.json')"
   ]
  },
  {
   "cell_type": "markdown",
   "id": "3d8cfeaa-acae-4c99-bd81-c9164945943e",
   "metadata": {},
   "source": [
    "## Undeploying Your Pipeline\n",
    "\n",
    "You should always undeploy your pipelines when you are done with them, or don't need them for a while. This releases the resources that the pipeline is using for other processes to use. You can always redeploy the pipeline when you need it again. As a reminder, here are the commands to deploy and undeploy a pipeline:\n",
    "\n",
    "```python\n",
    "\n",
    "# \"turn off\" the pipeline and releaase its resources\n",
    "my_pipeline.undeploy()\n",
    "```"
   ]
  },
  {
   "cell_type": "code",
   "execution_count": 9,
   "id": "b44a754b",
   "metadata": {},
   "outputs": [
    {
     "data": {
      "text/html": [
       "<table><tr><th>name</th> <td>ccfraud-detector</td></tr><tr><th>created</th> <td>2023-09-14 19:33:59.591629+00:00</td></tr><tr><th>last_updated</th> <td>2023-09-14 19:35:35.116133+00:00</td></tr><tr><th>deployed</th> <td>False</td></tr><tr><th>tags</th> <td></td></tr><tr><th>versions</th> <td>8382ef80-bc41-4cdd-8599-62f4bd4aeac5, f4c1031b-a4cb-4e05-863d-4785c4003525, bd4206ed-074d-4903-969f-790560490cc0</td></tr><tr><th>steps</th> <td>classification-finserv-prime</td></tr><tr><th>published</th> <td>False</td></tr></table>"
      ],
      "text/plain": [
       "{'name': 'ccfraud-detector', 'create_time': datetime.datetime(2023, 9, 14, 19, 33, 59, 591629, tzinfo=tzutc()), 'definition': \"[{'ModelInference': {'models': [{'name': 'classification-finserv-prime', 'version': '3ec4ae77-3f47-41e2-a09b-96342d5391d7', 'sha': 'bc85ce596945f876256f41515c7501c399fd97ebcb9ab3dd41bf03f8937b4507'}]}}]\"}"
      ]
     },
     "execution_count": 9,
     "metadata": {},
     "output_type": "execute_result"
    }
   ],
   "source": [
    "# blank space to undeploy the pipeline\n",
    "pipeline.undeploy()"
   ]
  },
  {
   "cell_type": "markdown",
   "id": "aad9ceb5",
   "metadata": {},
   "source": [
    "## Publish the Pipeline for Edge Deployment\n",
    "\n",
    "It worked! For a demo, we'll take working once as \"tested\". So now that we've tested our pipeline, we are ready to publish it for edge deployment.\n",
    "\n",
    "Publishing it means assembling all of the configuration files and model assets and pushing them to an Open Container Initiative (OCI) repository set in the Wallaroo instance as the Edge Registry service.  DevOps engineers then retrieve that image and deploy it through Docker, Kubernetes, or similar deployments.\n",
    "\n",
    "See [Edge Deployment Registry Guide](https://staging.docs.wallaroo.ai/wallaroo-operations-guide/wallaroo-configuration/wallaroo-edge-deployment/) for details on adding an OCI Registry Service to Wallaroo as the Edge Deployment Registry.\n",
    "\n",
    "This is done through the SDK command `wallaroo.pipeline.publish(deployment_config)` which has the following parameters and returns.\n",
    "\n",
    "#### Publish a Pipeline Parameters\n",
    "\n",
    "The `publish` method takes the following parameters.  The containerized pipeline will be pushed to the Edge registry service with the model, pipeline configurations, and other artifacts needed to deploy the pipeline.\n",
    "\n",
    "| Parameter | Type | Description |\n",
    "|---|---|---|\n",
    "| `deployment_config` | `wallaroo.deployment_config.DeploymentConfig` (*Optional*) | Sets the pipeline deployment configuration.  For example:    For more information on pipeline deployment configuration, see the [Wallaroo SDK Essentials Guide: Pipeline Deployment Configuration](https://docs.wallaroo.ai/wallaroo-developer-guides/wallaroo-sdk-guides/wallaroo-sdk-essentials-guide/wallaroo-sdk-essentials-pipelines/wallaroo-sdk-essentials-pipeline-deployment-config/).\n",
    "\n",
    "#### Publish a Pipeline Returns\n",
    "\n",
    "| Field | Type | Description |\n",
    "|---|---|---|\n",
    "| id | integer | Numerical Wallaroo id of the published pipeline. |\n",
    "| pipeline version id | integer | Numerical Wallaroo id of the pipeline version published. |\n",
    "| status | string | The status of the pipeline publication.  Values include:  <ul><li>PendingPublish: The pipeline publication is about to be uploaded or is in the process of being uploaded.</li><li>Published:  The pipeline is published and ready for use.</li></ul> |\n",
    "| Engine URL | string | The URL of the published pipeline engine in the edge registry. |\n",
    "| Pipeline URL | string | The URL of the published pipeline in the edge registry. |\n",
    "| Helm Chart URL | string | The URL of the helm chart for the published pipeline in the edge registry. |\n",
    "| Helm Chart Reference | string | The help chart reference. |\n",
    "| Helm Chart Version | string | The version of the Helm Chart of the published pipeline.  This is also used as the Docker tag. |\n",
    "| Engine Config | `wallaroo.deployment_config.DeploymentConfig` | The pipeline configuration included with the published pipeline. |\n",
    "| Created At | DateTime | When the published pipeline was created. |\n",
    "| Updated At | DateTime | When the published pipeline was updated. |\n",
    "\n",
    "### Publish the Pipeline for Edge Deployment Exercise\n",
    "\n",
    "We will now publish the pipeline to our Edge Deployment Registry with the `pipeline.publish(deployment_config)` command.  `deployment_config` is an optional field that specifies the pipeline deployment.  This can be overridden by the DevOps engineer during deployment.\n",
    "\n",
    "In this example, assuming that the pipeline was saved to the variable `my_pipeline`, we would publish it to the Edge Registry already stored in the Wallaroo instance and store the pipeline publish to the variable `my_pub` with the following command:\n",
    "\n",
    "```python\n",
    "my_pub=pipeline.publish(deploy_config)\n",
    "# display the publish\n",
    "my_pub\n",
    "```\n"
   ]
  },
  {
   "cell_type": "code",
   "execution_count": 10,
   "id": "574281a8-9d8b-4588-b82a-acd3dcf37bdc",
   "metadata": {},
   "outputs": [
    {
     "name": "stdout",
     "output_type": "stream",
     "text": [
      "Waiting for pipeline publish... It may take up to 600 sec.\n",
      "Pipeline is Publishing...Published.\n"
     ]
    },
    {
     "data": {
      "text/html": [
       "\n",
       "          <table>\n",
       "              <tr><td>ID</td><td>21</td></tr>\n",
       "              <tr><td>Pipeline Version</td><td>abd20cfc-4de1-4c5f-943b-3fff3dc3f640</td></tr>\n",
       "              <tr><td>Status</td><td>Published</td></tr>\n",
       "              <tr><td>Engine URL</td><td><a href='https://ghcr.io/wallaroolabs/doc-samples/engines/proxy/wallaroo/ghcr.io/wallaroolabs/standalone-mini:v2023.3.0-3798'>ghcr.io/wallaroolabs/doc-samples/engines/proxy/wallaroo/ghcr.io/wallaroolabs/standalone-mini:v2023.3.0-3798</a></td></tr>\n",
       "              <tr><td>Pipeline URL</td><td><a href='https://ghcr.io/wallaroolabs/doc-samples/pipelines/ccfraud-detector:abd20cfc-4de1-4c5f-943b-3fff3dc3f640'>ghcr.io/wallaroolabs/doc-samples/pipelines/ccfraud-detector:abd20cfc-4de1-4c5f-943b-3fff3dc3f640</a></td></tr>\n",
       "              <tr><td>Helm Chart URL</td><td><a href='https://ghcr.io/wallaroolabs/doc-samples/charts/ccfraud-detector'>ghcr.io/wallaroolabs/doc-samples/charts/ccfraud-detector</a></td></tr>\n",
       "              <tr><td>Helm Chart Reference</td><td>ghcr.io/wallaroolabs/doc-samples/charts@sha256:5242fed8c0804f07709d803832c41f0b85f189d6f9fc516e4833dd1357c4c1c4</td></tr>\n",
       "              <tr><td>Helm Chart Version</td><td>0.0.1-abd20cfc-4de1-4c5f-943b-3fff3dc3f640</td></tr>\n",
       "              <tr><td>Engine Config</td><td>{'engine': {'resources': {'limits': {'cpu': 1.0, 'memory': '512Mi'}, 'requests': {'cpu': 1.0, 'memory': '512Mi'}}}, 'engineAux': {'images': {}}, 'enginelb': {'resources': {'limits': {'cpu': 1.0, 'memory': '512Mi'}, 'requests': {'cpu': 1.0, 'memory': '512Mi'}}}}</td></tr>\n",
       "              <tr><td>User Images</td><td>[]</td></tr>\n",
       "              <tr><td>Created By</td><td>john.hummel@wallaroo.ai</td></tr>\n",
       "              <tr><td>Created At</td><td>2023-09-14 19:37:02.106773+00:00</td></tr>\n",
       "              <tr><td>Updated At</td><td>2023-09-14 19:37:02.106773+00:00</td></tr>\n",
       "          </table>\n",
       "        "
      ],
      "text/plain": [
       "PipelinePublish(created_at=datetime.datetime(2023, 9, 14, 19, 37, 2, 106773, tzinfo=tzutc()), engine_config={'engine': {'resources': {'limits': {'cpu': 1.0, 'memory': '512Mi'}, 'requests': {'cpu': 1.0, 'memory': '512Mi'}}}, 'engineAux': {'images': {}}, 'enginelb': {'resources': {'limits': {'cpu': 1.0, 'memory': '512Mi'}, 'requests': {'cpu': 1.0, 'memory': '512Mi'}}}}, id=21, pipeline_version_id=89, status='Published', updated_at=datetime.datetime(2023, 9, 14, 19, 37, 2, 106773, tzinfo=tzutc()), user_images=[], created_by='aa707604-ec80-495a-a9a1-87774c8086d5', engine_url='ghcr.io/wallaroolabs/doc-samples/engines/proxy/wallaroo/ghcr.io/wallaroolabs/standalone-mini:v2023.3.0-3798', error=None, helm={'reference': 'ghcr.io/wallaroolabs/doc-samples/charts@sha256:5242fed8c0804f07709d803832c41f0b85f189d6f9fc516e4833dd1357c4c1c4', 'chart': 'ghcr.io/wallaroolabs/doc-samples/charts/ccfraud-detector', 'version': '0.0.1-abd20cfc-4de1-4c5f-943b-3fff3dc3f640'}, pipeline_url='ghcr.io/wallaroolabs/doc-samples/pipelines/ccfraud-detector:abd20cfc-4de1-4c5f-943b-3fff3dc3f640', pipeline_version_name='abd20cfc-4de1-4c5f-943b-3fff3dc3f640', additional_properties={})"
      ]
     },
     "execution_count": 10,
     "metadata": {},
     "output_type": "execute_result"
    }
   ],
   "source": [
    "## blank space to publish the pipeline\n",
    "\n",
    "my_pub=pipeline.publish(deploy_config)\n",
    "# display the publish\n",
    "my_pub\n"
   ]
  },
  {
   "cell_type": "markdown",
   "id": "04131fe1",
   "metadata": {},
   "source": [
    "## List Published Pipelines\n",
    "\n",
    "The method `wallaroo.client.list_pipelines()` shows a list of all pipelines in the Wallaroo instance, and includes the `published` field that indicates whether the pipeline was published to the registry (`True`), or has not yet been published (`False`).\n",
    "\n",
    "### List Published Pipelines Exercise\n",
    "\n",
    "List all pipelines and see which ones are published or not.  For example, if your client was saved to the variable `wl`, then the following will list the pipelines and display which ones are published.\n",
    "\n",
    "```python\n",
    "wl.list_pipelines()\n",
    "```"
   ]
  },
  {
   "cell_type": "code",
   "execution_count": 11,
   "id": "791c656e",
   "metadata": {},
   "outputs": [
    {
     "data": {
      "text/html": [
       "<table><tr><th>name</th><th>created</th><th>last_updated</th><th>deployed</th><th>tags</th><th>versions</th><th>steps</th><th>published</th></tr><tr><td>ccfraud-detector</td><td>2023-14-Sep 19:33:59</td><td>2023-14-Sep 19:37:00</td><td>False</td><td></td><td>abd20cfc-4de1-4c5f-943b-3fff3dc3f640, 8382ef80-bc41-4cdd-8599-62f4bd4aeac5, f4c1031b-a4cb-4e05-863d-4785c4003525, bd4206ed-074d-4903-969f-790560490cc0</td><td>classification-finserv-prime</td><td>True</td></tr><tr><td>houseprice-estimator</td><td>2023-13-Sep 17:19:35</td><td>2023-13-Sep 17:55:35</td><td>False</td><td></td><td>be3749d3-9f84-44bf-8354-bfcda725d6da, c586f765-b67a-402c-9d84-712ad0d1dc2d, e09b3751-cbbf-4dac-9415-0a4eb469211e, 3b9fbaf9-030a-49d4-b58b-ed20440a8ddf, 7909607d-af4f-4c55-87ae-6413e3b851da, 8d81e28b-a881-4f3f-8a56-09871bf24c84, 81d22f24-4161-441f-ae66-027f2852cc1f, d77fc33f-d830-4e43-9f60-53ee07fb153e</td><td>house-price-prime</td><td>True</td></tr><tr><td>houseprice-estimator</td><td>2023-13-Sep 17:16:11</td><td>2023-13-Sep 17:16:14</td><td>False</td><td></td><td>59bbbcbf-5704-4cdf-9619-7251582fc6e5, 03c05d03-20aa-45d5-9830-c0c8f5ba3447</td><td>resnet-50</td><td>False</td></tr><tr><td>housing-pipe</td><td>2023-12-Sep 17:35:52</td><td>2023-12-Sep 17:40:44</td><td>False</td><td></td><td>05d941bb-6547-4608-be5d-4515388d205c, d957ce8d-9d70-477e-bc03-d58b70cd047a, ba8a411e-9318-4ba5-95f5-22c22be8c064, ab42a8de-3551-4551-bc36-9a71d323f81c</td><td>preprocess</td><td>False</td></tr><tr><td>python-step-demo-pipeline</td><td>2023-12-Sep 16:39:26</td><td>2023-12-Sep 16:39:48</td><td>False</td><td></td><td>eacb9246-3416-471c-a9e0-c70867db2144, 1a940a29-ff1c-4ca3-9920-1cedf3416777, 2d4683bb-669e-4a00-b562-582629500fa1</td><td>house-price-sample</td><td>False</td></tr><tr><td>houseprice-estimator</td><td>2023-11-Sep 18:54:03</td><td>2023-11-Sep 21:27:00</td><td>False</td><td></td><td>342f4605-9467-460e-866f-1b74e6e863d1, 47a5fb9f-2456-4132-abea-88a3147c4446, 8df7f3a0-4531-4a28-a757-51d8064b3ead, 4dbd5738-2847-4623-be31-12216ee17b37, b076d650-3c58-462c-acf7-cf04896012e3, 4bfcf67e-6887-4294-b54b-b0fb4369f801, 9d57c76e-3c3c-45f2-967e-4d24a8705de3, 92f2b4f3-494b-4d69-895f-9e767ac1869d, 6de0fcdc-5457-49d2-8f3d-58faa9024f29, ff68e2c7-77cd-4d17-b2df-0a2dd719c1cf, 88d4f659-4b5b-4e44-b0cc-134a6f5efa81, 4d4bdc85-c53e-4fe2-a3fa-1d0467cc9dee, 6d06d1e6-1351-44cd-a123-d47dc7aade25, cdeb5c90-2139-43b3-b1f3-69d3718d6fea, c85b49cc-2b89-4695-800b-ab1c15ce436e, f024be99-ea10-455f-a65a-28050dca7bbe, 7923eb8f-cc16-4b85-9233-a2f206e930a2, 6fbd6236-c642-4f07-8a47-17c6569f57f6, 7bdf459e-72db-4ea9-81bc-97f184caa403, 91bd39e1-acd6-4e96-85a9-8eaabebe7da0</td><td>house-price-prime</td><td>False</td></tr><tr><td>demandcurvepipeline</td><td>2023-11-Sep 18:28:08</td><td>2023-11-Sep 18:28:14</td><td>False</td><td></td><td>cf1e4357-c98c-490d-822f-8c252a43ff99, 6e7452b9-1464-488b-9a28-85ff765f18d6</td><td>curve-preprocess</td><td>False</td></tr><tr><td>edge-cv-retail</td><td>2023-08-Sep 19:09:06</td><td>2023-08-Sep 19:19:11</td><td>False</td><td></td><td>28986e69-0fb2-429d-8a36-08c0609d40cf, be34623f-b651-4331-b0d6-bebb058437ae, d575f835-4f71-4fd3-a7c0-d01cfd624368, c4bb5321-7578-491b-a14b-42209450aee8, 77367cd0-16ea-459b-b27c-407c7f05b542, e31fdf85-e2ac-4264-8175-22e61efceb40</td><td>mobilenet</td><td>True</td></tr><tr><td>edgebiolabspipeline</td><td>2023-08-Sep 18:50:52</td><td>2023-08-Sep 19:02:06</td><td>False</td><td></td><td>b411c8aa-8368-484f-a615-d2a2bce634ca, 0321956b-098c-47eb-8f4c-3bd90e443f2d, 88bcc7a5-d618-4c72-90e5-651f1e252db9, d2425979-98ac-468c-83db-dd4f542e7217, 59a163a3-e9c7-4213-88bf-d732bcae7dbd, d608aa0f-4961-496f-b57c-ce02299b4e39, bf426f14-e3c4-4450-81d4-e833026505a9, b56f68b5-ae1d-49dc-b640-c964b10b117f, 951e4096-b3d7-426d-9eee-2b763d4a0558, e36b6b52-5652-440e-b856-89e42782b62f, 46ad2f62-987f-459d-8283-f495300647fa, 9c283c94-0ecd-4160-998e-b462d03008e1, 78b125a9-5311-46e7-adc8-5794f9ca29f0</td><td>edgebiolabsmodel</td><td>True</td></tr><tr><td>edge-cv-demo</td><td>2023-08-Sep 18:25:24</td><td>2023-08-Sep 18:37:14</td><td>False</td><td></td><td>69a912fb-47da-4049-98d5-aa024e7d66b2, 482fc033-00a6-42e7-b359-90611b76f74d, 32805f9a-40eb-4366-b444-635ab466ef76, b412ff15-c87b-46ea-8d96-48868b7867f0, aaf2c947-af26-4b0e-9819-f8aca5657017, 7ad0a22c-6472-4390-8f33-a8b3eccc7877, c73bbf20-8fe3-4714-be5e-e35773fe4779, fc431a83-22dc-43db-8610-cde3095af584</td><td>resnet-50</td><td>True</td></tr><tr><td>edge-pipeline</td><td>2023-08-Sep 17:30:28</td><td>2023-08-Sep 18:21:00</td><td>False</td><td></td><td>2d8f9e1d-dc65-4e90-a5ce-ee619162d8cd, 1ea2d089-1127-464d-a980-e087d1f052e2</td><td>ccfraud</td><td>True</td></tr><tr><td>edge-pipeline</td><td>2023-08-Sep 17:24:44</td><td>2023-12-Sep 16:17:59</td><td>False</td><td></td><td>072f59a2-177c-44a6-8304-f1896e91b051, 55bb733e-cf49-4dea-87b0-79d561c3891e, 3d217006-de8f-435d-a50e-f498cc489ad8, 66ed071a-1b3c-4a90-b9a2-91891387c81b, 02679ba1-a2d0-47bb-83cb-4ccdcd340b23, 873582f4-4b39-4a69-a2b9-536a0e29927c, 079cf5a1-7e95-4cb7-ae40-381b538371db</td><td>ccfraud</td><td>True</td></tr><tr><td>edge-pipeline-classification-cybersecurity</td><td>2023-08-Sep 15:40:28</td><td>2023-08-Sep 15:45:22</td><td>False</td><td></td><td>60222730-4fb5-4179-b8bf-fa53762fecd1, 86040216-0bbb-4715-b08f-da461857c515, 34204277-bdbd-4ae2-9ce9-86dabe4be5f5, 729ccaa2-41b5-4c8f-89f4-fe1e98f2b303, 216bb86b-f6e8-498f-b8a5-020347355715</td><td>aloha</td><td>True</td></tr><tr><td>edge-pipeline</td><td>2023-08-Sep 15:36:03</td><td>2023-08-Sep 15:36:03</td><td>False</td><td></td><td>83b49e9e-f43d-4459-bb2a-7fa144352307, 73a5d31f-75f5-42c4-9a9d-3ee524113b6c</td><td>aloha</td><td>False</td></tr><tr><td>vgg16-clustering-pipeline</td><td>2023-08-Sep 14:52:44</td><td>2023-08-Sep 14:56:09</td><td>False</td><td></td><td>50d6586a-0661-4f26-802d-c71da2ceea2e, d94e44b3-7ff6-4138-8b76-be1795cb6690, 8d2a8143-2255-408a-bd09-e3008a5bde0b</td><td>vgg16-clustering</td><td>True</td></tr></table>"
      ],
      "text/plain": [
       "[{'name': 'ccfraud-detector', 'create_time': datetime.datetime(2023, 9, 14, 19, 33, 59, 591629, tzinfo=tzutc()), 'definition': '[]'},\n",
       " {'name': 'houseprice-estimator', 'create_time': datetime.datetime(2023, 9, 13, 17, 19, 35, 321223, tzinfo=tzutc()), 'definition': '[]'},\n",
       " {'name': 'houseprice-estimator', 'create_time': datetime.datetime(2023, 9, 13, 17, 16, 11, 107604, tzinfo=tzutc()), 'definition': '[]'},\n",
       " {'name': 'housing-pipe', 'create_time': datetime.datetime(2023, 9, 12, 17, 35, 52, 273091, tzinfo=tzutc()), 'definition': '[]'},\n",
       " {'name': 'python-step-demo-pipeline', 'create_time': datetime.datetime(2023, 9, 12, 16, 39, 26, 301183, tzinfo=tzutc()), 'definition': '[]'},\n",
       " {'name': 'houseprice-estimator', 'create_time': datetime.datetime(2023, 9, 11, 18, 54, 3, 604291, tzinfo=tzutc()), 'definition': '[]'},\n",
       " {'name': 'demandcurvepipeline', 'create_time': datetime.datetime(2023, 9, 11, 18, 28, 8, 36841, tzinfo=tzutc()), 'definition': '[]'},\n",
       " {'name': 'edge-cv-retail', 'create_time': datetime.datetime(2023, 9, 8, 19, 9, 6, 222449, tzinfo=tzutc()), 'definition': '[]'},\n",
       " {'name': 'edgebiolabspipeline', 'create_time': datetime.datetime(2023, 9, 8, 18, 50, 52, 714306, tzinfo=tzutc()), 'definition': '[]'},\n",
       " {'name': 'edge-cv-demo', 'create_time': datetime.datetime(2023, 9, 8, 18, 25, 24, 382997, tzinfo=tzutc()), 'definition': '[]'},\n",
       " {'name': 'edge-pipeline', 'create_time': datetime.datetime(2023, 9, 8, 17, 30, 28, 893020, tzinfo=tzutc()), 'definition': '[]'},\n",
       " {'name': 'edge-pipeline', 'create_time': datetime.datetime(2023, 9, 8, 17, 24, 44, 975233, tzinfo=tzutc()), 'definition': '[]'},\n",
       " {'name': 'edge-pipeline-classification-cybersecurity', 'create_time': datetime.datetime(2023, 9, 8, 15, 40, 28, 303398, tzinfo=tzutc()), 'definition': '[]'},\n",
       " {'name': 'edge-pipeline', 'create_time': datetime.datetime(2023, 9, 8, 15, 36, 3, 731971, tzinfo=tzutc()), 'definition': '[]'},\n",
       " {'name': 'vgg16-clustering-pipeline', 'create_time': datetime.datetime(2023, 9, 8, 14, 52, 44, 325178, tzinfo=tzutc()), 'definition': '[]'}]"
      ]
     },
     "execution_count": 11,
     "metadata": {},
     "output_type": "execute_result"
    }
   ],
   "source": [
    "# list the pipelines and view which are published\n",
    "\n",
    "wl.list_pipelines()"
   ]
  },
  {
   "cell_type": "markdown",
   "id": "fb75748e",
   "metadata": {},
   "source": [
    "## List Publishes from a Pipeline\n",
    "\n",
    "All publishes created from a pipeline are displayed with the `wallaroo.pipeline.publishes` method.  The `pipeline_version_id` is used to know what version of the pipeline was used in that specific publish.  This allows for pipelines to be updated over time, and newer versions to be sent and tracked to the Edge Deployment Registry service.\n",
    "\n",
    "### List Publishes Parameters\n",
    "\n",
    "N/A\n",
    "\n",
    "### List Publishes Returns\n",
    "\n",
    "A List of the following fields:\n",
    "\n",
    "| Field | Type | Description |\n",
    "|---|---|---|\n",
    "| id | integer | Numerical Wallaroo id of the published pipeline. |\n",
    "| pipeline_version_id | integer | Numerical Wallaroo id of the pipeline version published. |\n",
    "| engine_url | string | The URL of the published pipeline engine in the edge registry. |\n",
    "| pipeline_url | string | The URL of the published pipeline in the edge registry. |\n",
    "| created_by | string | The email address of the user that published the pipeline.\n",
    "| Created At | DateTime | When the published pipeline was created. |\n",
    "| Updated At | DateTime | When the published pipeline was updated. |\n",
    "\n",
    "### List Publishes from a Pipeline Exercise\n",
    "\n",
    "List all of the publishes from our pipeline.  For example, if our pipeline is `my_pipeline`, then we would list all publishes from the pipeline with the following:\n",
    "\n",
    "```python\n",
    "my_pipeline.publishes()\n",
    "```"
   ]
  },
  {
   "cell_type": "code",
   "execution_count": 12,
   "id": "31001c99",
   "metadata": {},
   "outputs": [
    {
     "data": {
      "text/html": [
       "<table><tr><th>id</th><th>pipeline_version_name</th><th>engine_url</th><th>pipeline_url</th><th>created_by</th><th>created_at</th><th>updated_at</th></tr><tr><td>21</td><td>abd20cfc-4de1-4c5f-943b-3fff3dc3f640</td><td><a href='https://ghcr.io/wallaroolabs/doc-samples/engines/proxy/wallaroo/ghcr.io/wallaroolabs/standalone-mini:v2023.3.0-3798'>ghcr.io/wallaroolabs/doc-samples/engines/proxy/wallaroo/ghcr.io/wallaroolabs/standalone-mini:v2023.3.0-3798</a></td><td><a href='https://ghcr.io/wallaroolabs/doc-samples/pipelines/ccfraud-detector:abd20cfc-4de1-4c5f-943b-3fff3dc3f640'>ghcr.io/wallaroolabs/doc-samples/pipelines/ccfraud-detector:abd20cfc-4de1-4c5f-943b-3fff3dc3f640</a></td><td>john.hummel@wallaroo.ai</td><td>2023-14-Sep 19:37:02</td><td>2023-14-Sep 19:37:02</td></tr></table>"
      ],
      "text/plain": [
       "[PipelinePublish(created_at=datetime.datetime(2023, 9, 14, 19, 37, 2, 106773, tzinfo=tzutc()), engine_config={'engine': {'resources': {'limits': {'cpu': 1.0, 'memory': '512Mi'}, 'requests': {'cpu': 1.0, 'memory': '512Mi'}}}, 'enginelb': {'resources': {'limits': {'cpu': 1.0, 'memory': '512Mi'}, 'requests': {'cpu': 1.0, 'memory': '512Mi'}}}, 'engineAux': {'images': {}}}, id=21, pipeline_version_id=89, status='Published', updated_at=datetime.datetime(2023, 9, 14, 19, 37, 2, 106773, tzinfo=tzutc()), user_images=[], created_by='aa707604-ec80-495a-a9a1-87774c8086d5', engine_url='ghcr.io/wallaroolabs/doc-samples/engines/proxy/wallaroo/ghcr.io/wallaroolabs/standalone-mini:v2023.3.0-3798', error=None, helm={'reference': 'ghcr.io/wallaroolabs/doc-samples/charts@sha256:5242fed8c0804f07709d803832c41f0b85f189d6f9fc516e4833dd1357c4c1c4', 'chart': 'ghcr.io/wallaroolabs/doc-samples/charts/ccfraud-detector', 'version': '0.0.1-abd20cfc-4de1-4c5f-943b-3fff3dc3f640'}, pipeline_url='ghcr.io/wallaroolabs/doc-samples/pipelines/ccfraud-detector:abd20cfc-4de1-4c5f-943b-3fff3dc3f640', pipeline_version_name='abd20cfc-4de1-4c5f-943b-3fff3dc3f640', additional_properties={})]"
      ]
     },
     "execution_count": 12,
     "metadata": {},
     "output_type": "execute_result"
    }
   ],
   "source": [
    "pipeline.publishes()"
   ]
  },
  {
   "cell_type": "markdown",
   "id": "94d3669d-b3b4-4747-8ded-e8585f38a6e5",
   "metadata": {},
   "source": [
    "## Congratulations!\n",
    "\n",
    "You have now \n",
    "\n",
    "* Created a workspace and set it as the current workspace.\n",
    "* Uploaded an ONNX model.\n",
    "* Created a Wallaroo pipeline, and set the most recent version of the uploaded model as a pipeline step.\n",
    "* Successfully send data to your pipeline for inference through the SDK and through an API call.\n"
   ]
  },
  {
   "cell_type": "markdown",
   "id": "55ecfb5f",
   "metadata": {},
   "source": [
    "## DevOps - Pipeline Edge Deployment\n",
    "\n",
    "Once a pipeline is deployed to the Edge Registry service, it can be deployed in environments such as Docker, Kubernetes, or similar container running services by a DevOps engineer.\n",
    "\n",
    "### Docker Deployment\n",
    "\n",
    "First, the DevOps engineer must authenticate to the same OCI Registry service used for the Wallaroo Edge Deployment registry.\n",
    "\n",
    "For more details, check with the documentation on your artifact service.  The following are provided for the three major cloud services:\n",
    "\n",
    "* [Set up authentication for Docker](https://cloud.google.com/artifact-registry/docs/docker/authentication)\n",
    "* [Authenticate with an Azure container registry](https://learn.microsoft.com/en-us/azure/container-registry/container-registry-authentication?tabs=azure-cli)\n",
    "* [Authenticating Amazon ECR Repositories for Docker CLI with Credential Helper](https://aws.amazon.com/blogs/compute/authenticating-amazon-ecr-repositories-for-docker-cli-with-credential-helper/)\n",
    "\n",
    "For the deployment, the engine URL is specified with the following environmental variables:\n",
    "\n",
    "```bash\n",
    "{published engine url}\n",
    "-e DEBUG=true -e OCI_REGISTRY={your registry server} \\\n",
    "-e CONFIG_CPUS=4 \\ # optional number of CPUs to use\n",
    "-e OCI_USERNAME={registry username} \\\n",
    "-e OCI_PASSWORD={registry token here} \\\n",
    "-e PIPELINE_URL={published pipeline url}\n",
    "```\n",
    "\n",
    "#### Docker Deployment Example\n",
    "\n",
    "Using our sample environment, here's sample deployment using Docker with a computer vision ML model, the same used in the [Wallaroo Use Case Tutorials Computer Vision: Retail](https://docs.wallaroo.ai/wallaroo-use-case-tutorials/wallaroo-use-case-computer-vision/use-case-computer-vision-retail/) tutorials.\n",
    "\n",
    "```bash\n",
    "docker run -p 8080:8080 \\\n",
    "    -e DEBUG=true -e OCI_REGISTRY={your registry server} \\\n",
    "    -e CONFIG_CPUS=4 \\\n",
    "    -e OCI_USERNAME=oauth2accesstoken \\\n",
    "    -e OCI_PASSWORD={registry token here} \\\n",
    "    -e PIPELINE_URL={your registry server}/pipelines/edge-cv-retail:bf70eaf7-8c11-4b46-b751-916a43b1a555 \\\n",
    "    {your registry server}/engine:v2023.3.0-main-3707\n",
    "```\n",
    "\n",
    "### Docker Compose Deployment\n",
    "\n",
    "For users who prefer to use `docker compose`, the following sample `compose.yaml` file is used to launch the Wallaroo Edge pipeline.  This is the same used in the [Wallaroo Use Case Tutorials Computer Vision: Retail](https://docs.wallaroo.ai/wallaroo-use-case-tutorials/wallaroo-use-case-computer-vision/use-case-computer-vision-retail/) tutorials.\n",
    "\n",
    "```yml\n",
    "services:\n",
    "  engine:\n",
    "    image: {Your Engine URL}\n",
    "    ports:\n",
    "      - 8080:8080\n",
    "    environment:\n",
    "      PIPELINE_URL: {Your Pipeline URL}\n",
    "      OCI_REGISTRY: {Your Edge Registry URL}\n",
    "      OCI_USERNAME:  {Your Registry Username}\n",
    "      OCI_PASSWORD: {Your Token or Password}\n",
    "      CONFIG_CPUS: 4\n",
    "```\n",
    "\n",
    "For example:\n",
    "\n",
    "```yml\n",
    "services:\n",
    "  engine:\n",
    "    image: sample-registry.com/engine:v2023.3.0-main-3707\n",
    "    ports:\n",
    "      - 8080:8080\n",
    "    environment:\n",
    "      PIPELINE_URL: sample-registry.com/pipelines/edge-cv-retail:bf70eaf7-8c11-4b46-b751-916a43b1a555\n",
    "      OCI_REGISTRY: sample-registry.com\n",
    "      OCI_USERNAME:  _json_key_base64\n",
    "      OCI_PASSWORD: abc123\n",
    "      CONFIG_CPUS: 4\n",
    "```\n",
    "\n",
    "#### Docker Compose Deployment Example\n",
    "\n",
    "The deployment and undeployment is then just a simple `docker compose up` and `docker compose down`.  The following shows an example of deploying the Wallaroo edge pipeline using `docker compose`.\n",
    "\n",
    "```bash\n",
    "docker compose up\n",
    "[+] Running 1/1\n",
    " ✔ Container cv_data-engine-1  Recreated                                                                                                                                                                 0.5s\n",
    "Attaching to cv_data-engine-1\n",
    "cv_data-engine-1  | Wallaroo Engine - Standalone mode\n",
    "cv_data-engine-1  | Login Succeeded\n",
    "cv_data-engine-1  | Fetching manifest and config for pipeline: sample-registry.com/pipelines/edge-cv-retail:bf70eaf7-8c11-4b46-b751-916a43b1a555\n",
    "cv_data-engine-1  | Fetching model layers\n",
    "cv_data-engine-1  | digest: sha256:c6c8869645962e7711132a7e17aced2ac0f60dcdc2c7faa79b2de73847a87984\n",
    "cv_data-engine-1  |   filename: c6c8869645962e7711132a7e17aced2ac0f60dcdc2c7faa79b2de73847a87984\n",
    "cv_data-engine-1  |   name: resnet-50\n",
    "cv_data-engine-1  |   type: model\n",
    "cv_data-engine-1  |   runtime: onnx\n",
    "cv_data-engine-1  |   version: 693e19b5-0dc7-4afb-9922-e3f7feefe66d\n",
    "cv_data-engine-1  |\n",
    "cv_data-engine-1  | Fetched\n",
    "cv_data-engine-1  | Starting engine\n",
    "cv_data-engine-1  | Looking for preexisting `yaml` files in //modelconfigs\n",
    "cv_data-engine-1  | Looking for preexisting `yaml` files in //pipelines\n",
    "```\n",
    "\n",
    "### Helm Deployment\n",
    "\n",
    "Published pipelines can be deployed through the use of helm charts.\n",
    "\n",
    "Helm deployments take up to two steps - the first step is in retrieving the required `values.yaml` and making updates to override.\n",
    "\n",
    "1. Pull the helm charts from the published pipeline.  The two fields are the Helm Chart URL and the Helm Chart version to specify the OCI .    This typically takes the format of:\n",
    "\n",
    "  ```bash\n",
    "  helm pull oci://{published.helm_chart_url} --version {published.helm_chart_version}\n",
    "  ```\n",
    "\n",
    "1. Extract the `tgz` file and copy the `values.yaml` and copy the values used to edit engine allocations, etc.  The following are **required** for the deployment to run:\n",
    "\n",
    "  ```yml\n",
    "  ociRegistry:\n",
    "    registry: {your registry service}\n",
    "    username:  {registry username here}\n",
    "    password: {registry token here}\n",
    "  ```\n",
    "\n",
    "  Store this into another file, suc as `local-values.yaml`.\n",
    "\n",
    "1. Create the namespace to deploy the pipeline to.  For example, the namespace `wallaroo-edge-pipeline` would be:\n",
    "\n",
    "  ```bash\n",
    "  kubectl create -n wallaroo-edge-pipeline\n",
    "  ```\n",
    "\n",
    "1. Deploy the `helm` installation with `helm install` through one of the following options:\n",
    "    1. Specify the `tgz` file that was downloaded and the local values file.  For example:\n",
    "\n",
    "        ```bash\n",
    "        helm install --namespace {namespace} --values {local values file} {helm install name} {tgz path}\n",
    "        ```\n",
    "\n",
    "    1. Specify the expended directory from the downloaded `tgz` file.\n",
    "\n",
    "        ```bash\n",
    "        helm install --namespace {namespace} --values {local values file} {helm install name} {helm directory path}\n",
    "        ```\n",
    "\n",
    "    1. Specify the Helm Pipeline Helm Chart and the Pipeline Helm Version.\n",
    "\n",
    "        ```bash\n",
    "        helm install --namespace {namespace} --values {local values file} {helm install name} oci://{published.helm_chart_url} --version {published.helm_chart_version}\n",
    "        ```\n",
    "\n",
    "1. Once deployed, the DevOps engineer will have to forward the appropriate ports to the `svc/engine-svc` service in the specific pipeline.  For example, using `kubectl port-forward` to the namespace `ccfraud` that would be:\n",
    "\n",
    "    ```bash\n",
    "    kubectl port-forward svc/engine-svc -n ccfraud01 8080 --address 0.0.0.0`\n",
    "    ```\n",
    "\n",
    "The following code segment generates a `docker run` template based on the previously published pipeline, assuming our publish was listed as `my_pub`."
   ]
  },
  {
   "cell_type": "code",
   "execution_count": 13,
   "id": "3f13ce16",
   "metadata": {},
   "outputs": [
    {
     "name": "stdout",
     "output_type": "stream",
     "text": [
      "\n",
      "docker run -p 8080:8080 \\\n",
      "    -e DEBUG=true -e OCI_REGISTRY=$REGISTRYURL \\\n",
      "    -e CONFIG_CPUS=4 \\\n",
      "    -e OCI_USERNAME=$REGISTRYUSERNAME \\\n",
      "    -e OCI_PASSWORD=$REGISTRYPASSWORD \\\n",
      "    -e PIPELINE_URL=ghcr.io/wallaroolabs/doc-samples/pipelines/ccfraud-detector:abd20cfc-4de1-4c5f-943b-3fff3dc3f640 \\\n",
      "    ghcr.io/wallaroolabs/doc-samples/engines/proxy/wallaroo/ghcr.io/wallaroolabs/standalone-mini:v2023.3.0-3798\n",
      "\n"
     ]
    }
   ],
   "source": [
    "docker_deploy = f'''\n",
    "docker run -p 8080:8080 \\\\\n",
    "    -e DEBUG=true -e OCI_REGISTRY=$REGISTRYURL \\\\\n",
    "    -e CONFIG_CPUS=4 \\\\\n",
    "    -e OCI_USERNAME=$REGISTRYUSERNAME \\\\\n",
    "    -e OCI_PASSWORD=$REGISTRYPASSWORD \\\\\n",
    "    -e PIPELINE_URL={my_pub.pipeline_url} \\\\\n",
    "    {my_pub.engine_url}\n",
    "'''\n",
    "\n",
    "print(docker_deploy)"
   ]
  },
  {
   "cell_type": "markdown",
   "id": "241aa8bc",
   "metadata": {},
   "source": [
    "### Docker Compose Deployment Exercise\n",
    "\n",
    "Use the `docker compose up` command on your own `compose.yaml` using the sample above, replacing the `OCI_USERNAME` and `OCI_PASSWORD` with the values provided by your instructor."
   ]
  },
  {
   "cell_type": "markdown",
   "id": "44605c62",
   "metadata": {},
   "source": [
    "## Edge Deployed Pipeline API Endpoints\n",
    "\n",
    "Once deployed, we can check the pipelines and models available.  We'll use a `curl` command, but any HTTP based request will work the same way.\n",
    "\n",
    "### Pipelines Endpoints\n",
    "\n",
    "The endpoint `/pipelines` returns:\n",
    "\n",
    "* **id** (*String*):  The name of the pipeline.\n",
    "* **status** (*String*):  The status as either `Running`, or `Error` if there are any issues.\n",
    "\n",
    "For this example, the deployment is made on a machine called `testboy.local`.  Replace this URL with the URL of you edge deployment.\n",
    "\n",
    "#### Pipelines Endpoints Exercise\n",
    "\n",
    "Use the following `curl` command to view the pipeline data.  For example, if the pipeline was deployed on `localhost`, then the command would be:\n",
    "\n",
    "```bash\n",
    "!curl locahost:8080/pipelines\n",
    "```"
   ]
  },
  {
   "cell_type": "code",
   "execution_count": 14,
   "id": "b35de3f3",
   "metadata": {},
   "outputs": [
    {
     "name": "stdout",
     "output_type": "stream",
     "text": [
      "{\"pipelines\":[{\"id\":\"ccfraud-detector\",\"status\":\"Running\"}]}"
     ]
    }
   ],
   "source": [
    "# blank space to run the command - replace testboy.local with the host\n",
    "\n",
    "!curl testboy.local:8080/pipelines"
   ]
  },
  {
   "cell_type": "markdown",
   "id": "7d814f93",
   "metadata": {},
   "source": [
    "### Models Endpoints\n",
    "\n",
    "The endpoint `/models` returns a List of models with the following fields:\n",
    "\n",
    "* **name** (*String*): The model name.\n",
    "* **sha** (*String*): The sha hash value of the ML model.\n",
    "* **status** (*String*):  The status of either Running or Error if there are any issues.\n",
    "* **version** (*String*):  The model version.  This matches the version designation used by Wallaroo to track model versions in UUID format.\n",
    "\n",
    "#### Models Endpoints Exercise\n",
    "\n",
    "Use the following `curl` command to view the models data.  For example, if the pipeline was deployed on `localhost`, then the command would be:\n",
    "\n",
    "```bash\n",
    "!curl locahost:8080/models\n",
    "```"
   ]
  },
  {
   "cell_type": "code",
   "execution_count": 15,
   "id": "c78b877f",
   "metadata": {},
   "outputs": [
    {
     "name": "stdout",
     "output_type": "stream",
     "text": [
      "{\"models\":[{\"name\":\"classification-finserv-prime\",\"sha\":\"bc85ce596945f876256f41515c7501c399fd97ebcb9ab3dd41bf03f8937b4507\",\"status\":\"Running\",\"version\":\"3ec4ae77-3f47-41e2-a09b-96342d5391d7\"}]}"
     ]
    }
   ],
   "source": [
    "# blank space to run the command - replace testboy.local with the host\n",
    "\n",
    "!curl testboy.local:8080/models"
   ]
  },
  {
   "cell_type": "markdown",
   "id": "edc16183",
   "metadata": {},
   "source": [
    "### Edge Deployed Inference\n",
    "\n",
    "The inference endpoint takes the following pattern:\n",
    "\n",
    "* `/pipelines/{pipeline-name}`:  The `pipeline-name` is the same as returned from the [`/pipelines`](#list-pipelines) endpoint as `id`.\n",
    "\n",
    "Wallaroo inference endpoint URLs accept the following data inputs through the `Content-Type` header:\n",
    "\n",
    "* `Content-Type: application/vnd.apache.arrow.file`: For Apache Arrow tables.\n",
    "* `Content-Type: application/json; format=pandas-records`: For pandas DataFrame in record format.\n",
    "\n",
    "It returns a `application/json; format=pandas-records` - the same pandas record we've been working with.\n",
    "\n",
    "### Edge Deployed Inference Exercise\n",
    "\n",
    "Perform an inference on the deployed pipeline using `curl`.  This command will look like this:\n",
    "\n",
    "```bash\n",
    "!curl -X POST localhost:8080/pipelines/{YOUR PIPELINE NAME} -H \"Content-Type: application/json; format=pandas-records\" --data @./data/singleton.df.json\n",
    "```"
   ]
  },
  {
   "cell_type": "code",
   "execution_count": 16,
   "id": "5bbdbe00",
   "metadata": {},
   "outputs": [
    {
     "name": "stdout",
     "output_type": "stream",
     "text": [
      "[{\"check_failures\":[],\"elapsed\":[35121435,8198087],\"model_name\":\"classification-finserv-prime\",\"model_version\":\"3ec4ae77-3f47-41e2-a09b-96342d5391d7\",\"original_data\":null,\"outputs\":[{\"Float\":{\"data\":[0.993003249168396,0.993003249168396,0.993003249168396,0.993003249168396,0.001091688871383667,0.00047266483306884766,0.0008217096328735352,0.0011294782161712646,0.0018743574619293213,0.0011520087718963623,0.0016568303108215332,0.0010267198085784912,0.00019043684005737305,0.0003236532211303711,0.0006218552589416504,0.00033929944038391113,0.0009412467479705811,0.0004061460494995117,0.00014156103134155273,0.0006403028964996338,0.0008019506931304932,0.0011220276355743408,0.0007892251014709473,0.00040519237518310547,0.0008138120174407959,0.00046765804290771484,0.00020697712898254395,0.0007166266441345215,0.0007742643356323242,0.0007204711437225342,0.0011078417301177979,0.00034046173095703125,0.0009812712669372559,0.00014293193817138672,0.00011792778968811035,0.0006335675716400146,0.001365959644317627,0.00021669268608093262,0.000998079776763916,0.0012673139572143555,0.001107543706893921,0.00041285157203674316,0.0005500912666320801,0.0004780590534210205,0.0008250772953033447,0.0004512965679168701,0.001212477684020996,0.0007885098457336426,0.00010386109352111816,0.0003814697265625,0.00033721327781677246,0.000610053539276123,0.00044989585876464844,0.0010098516941070557,0.000517427921295166,0.000212937593460083,0.0035973191261291504,0.00019824504852294922,0.0012329518795013428,0.0007190406322479248,0.0002110302448272705,0.0007276833057403564,0.00014591217041015625,0.00046566128730773926,0.00006631016731262207,0.0002733170986175537,0.0005731582641601562,0.0013138651847839355,0.0008817017078399658,0.0009045302867889404,0.0008565187454223633,0.00035372376441955566,0.0004754066467285156,0.0009534657001495361,0.001532047986984253,0.0005040764808654785,0.0009527802467346191,0.0014761388301849365,0.0019688308238983154,0.000186920166015625,0.001497894525527954,0.0009764730930328369,0.00016763806343078613,0.00037729740142822266,0.0010609626770019531,0.0003279447555541992,0.0007766485214233398,0.0007284581661224365,0.0003705024719238281,0.0007018744945526123,0.0004532933235168457,0.00020772218704223633,0.0009835362434387207,0.0008764863014221191,0.0007189810276031494,0.00012177228927612305,0.0005405545234680176,0.00003084540367126465,0.0007120668888092041,0.0017395317554473877,0.0005328357219696045,0.00022161006927490234,0.0018556714057922363,0.0007133781909942627,0.001019597053527832,0.0005419552326202393,0.00031384825706481934,0.0006339848041534424,0.00026103854179382324,0.00017133355140686035,0.0014289617538452148,0.0012334585189819336,0.00022864341735839844,0.0002333223819732666,0.0015328526496887207,0.0004856884479522705,0.00044089555740356445,0.0008994340896606445,0.000279158353805542,0.0018437504768371582,0.0006955265998840332,0.00033926963806152344,0.0002180635929107666,0.0005668699741363525,0.0009489655494689941,0.0004347562789916992,0.0005276203155517578,0.00012317299842834473,0.00002613663673400879,0.0008692145347595215,0.001297086477279663,0.0001391768455505371,0.0005213022232055664,0.00013825297355651855,0.00002893805503845215,0.0017323493957519531,0.000854790210723877,0.0015102624893188477,0.0006158947944641113,0.0008177459239959717,0.0011470615863800049,0.0011638402938842773,0.0006669163703918457,0.00041496753692626953,0.0013764500617980957,0.00047448277473449707,0.00001868605613708496,0.0009013116359710693,0.00045552849769592285,0.00014528632164001465,0.0015679597854614258,0.0014259815216064453,0.0005336999893188477,0.00044471025466918945,0.0007849037647247314,0.0010034739971160889,0.00018477439880371094,0.0002136528491973877,0.0008807480335235596,0.0010824799537658691,0.000538557767868042,1.0,0.0006880760192871094,0.00026342272758483887,0.00003820657730102539,0.0009269118309020996,0.0014551877975463867,0.0007180571556091309,0.00015214085578918457,0.00054129958152771,0.0009803175926208496,0.0006777942180633545,0.0005795955657958984,0.000391542911529541,0.0006445646286010742,0.0006419718265533447,0.0004417896270751953,0.001062840223312378,0.00034886598587036133,0.00011011958122253418,0.00024890899658203125,0.0006057024002075195,0.0005120635032653809,0.00030812621116638184,0.0013527870178222656,0.00047281384468078613,0.00030753016471862793,0.00039702653884887695,0.0005206167697906494,0.0008906126022338867,0.0011567175388336182,0.0004016757011413574,0.0002535879611968994,0.00014010071754455566,0.0010996460914611816,0.0005270838737487793,0.0013700425624847412,0.0001983642578125,0.00022867321968078613,0.0008878111839294434,0.000054210424423217773,0.0009695291519165039,0.0007616877555847168,0.0001685619354248047,0.0003758370876312256,0.0006545782089233398,0.0004398524761199951,0.0008372664451599121,0.0003184676170349121,0.000322878360748291,0.0011650025844573975,0.000504225492477417,0.0008207857608795166,0.0003351271152496338,0.0005262494087219238,0.0003078579902648926,0.00019049644470214844,0.00038358569145202637,0.00028777122497558594,0.0006084442138671875,0.0003859102725982666,0.0004291832447052002,0.0007180273532867432,0.0006108582019805908,0.0012479722499847412,0.0006485879421234131,0.00022363662719726562,0.0004672110080718994,0.000383228063583374,0.00013658404350280762,0.0011299848556518555,0.0004878044128417969,0.0006315708160400391,0.0003540217876434326,0.00039830803871154785,0.0003286004066467285,0.0004710555076599121,0.00043705105781555176,0.00018170475959777832,0.0005193948745727539,0.00030156970024108887,0.0003199577331542969,0.0003331899642944336,0.00011730194091796875,0.0010690391063690186,0.0004858970642089844,0.0008229315280914307,0.0004919171333312988,0.00037288665771484375,0.0001493692398071289,0.0014097094535827637,0.0009227097034454346,0.0002155005931854248,0.00011473894119262695,0.00041347742080688477,0.00005358457565307617,0.00038999319076538086,0.0008949935436248779,0.00019502639770507812,0.0006000995635986328,0.0006956160068511963,0.0002231895923614502,0.00009080767631530762,0.0006427168846130371,0.0004222989082336426,0.0007724761962890625,0.0006104707717895508,0.0006687939167022705,0.0002613663673400879,0.00027626752853393555,0.0004964768886566162,0.0008097589015960693,0.0003069937229156494,0.0003863871097564697,0.000805288553237915,0.00018277764320373535,0.0006191134452819824,0.0012585222721099854,0.0010904967784881592,0.0011484026908874512,0.0009151697158813477,0.0001645982265472412,0.0008835196495056152,0.00020891427993774414,0.001007765531539917,0.0016985833644866943,0.0008464157581329346,0.00013497471809387207,0.00016888976097106934,0.0005103051662445068,0.0007017552852630615,0.00046557188034057617,0.00016838312149047852,0.00021070241928100586,0.0020957589149475098,0.0004934966564178467,0.000522226095199585,0.0004464685916900635,0.00007978081703186035,0.00049591064453125,0.0007916092872619629,0.001434415578842163,0.0007250308990478516,0.001469254493713379,0.0005410909652709961,0.00029852986335754395,0.000444263219833374,0.000029802322387695312,0.0007537305355072021,0.0007074475288391113,0.0011213421821594238,0.0005080699920654297,0.0010908842086791992,0.0007744133472442627,0.0006935000419616699,0.0006053447723388672,0.0004000663757324219,0.0008761882781982422,0.00014442205429077148,0.00017440319061279297,0.0015468001365661621,0.000834733247756958,0.00030735135078430176,0.0004406273365020752,0.0006451904773712158,0.00039836764335632324,0.0003426671028137207,0.00039064884185791016,0.0005856752395629883,0.001767873764038086,0.0005460977554321289,0.00039818882942199707,0.0001112520694732666,0.0006007850170135498,0.00007426738739013672,0.0005415678024291992,0.0003936588764190674,0.0006169676780700684,0.001237630844116211,0.0007250010967254639,0.0003097653388977051,0.000361025333404541,0.0007661879062652588,0.0006550252437591553,0.0008719563484191895,0.00017783045768737793,0.0007470250129699707,0.0003643929958343506,0.0004101693630218506,0.0004318058490753174,0.00011411309242248535,0.00023496150970458984,0.0019234418869018555,0.0008293688297271729,0.0006003975868225098,0.0008085668087005615,0.00036534667015075684,0.0009166896343231201,0.00021272897720336914,0.0011282861232757568,0.0007756650447845459,0.00043401122093200684,0.0003643929958343506,0.0014618337154388428,0.0008354783058166504,0.00026419758796691895,0.00011146068572998047,0.00020998716354370117,0.00017461180686950684,0.0008112192153930664,0.0013223588466644287,0.0011811256408691406,0.0002111196517944336,0.0013509094715118408,0.0004321634769439697,0.0012961924076080322,0.0005611777305603027,0.0006057024002075195,0.0004405677318572998,0.0005385279655456543,0.0005044043064117432,0.0004495084285736084,0.00024172663688659668,0.0008964836597442627,0.0011978447437286377,0.0007336735725402832,0.0003612339496612549,0.0006502270698547363,0.00013634562492370605,0.0000750124454498291,0.0005666613578796387,0.00031182169914245605,0.0008134841918945312,0.00024241209030151367,0.0009528100490570068,0.0004356801509857178,0.0009435415267944336,0.0001398026943206787,0.000021904706954956055,0.000605463981628418,0.0004017353057861328,0.0005245804786682129,0.0003624260425567627,0.00035759806632995605,0.0010498762130737305,0.0007755160331726074,0.00026360154151916504,0.001140296459197998,0.0004304051399230957,0.000580132007598877,0.0006535947322845459,0.0004951059818267822,0.0007699728012084961,0.000260770320892334,0.0011840462684631348,0.0008533000946044922,0.001967400312423706,0.0007493197917938232,0.000701606273651123,0.0002454519271850586,0.00004526972770690918,0.0013814866542816162,0.0010278522968292236,0.001966714859008789,0.003344714641571045,0.0003390312194824219,0.0002810359001159668,0.0003809928894042969,0.0007309615612030029,0.001780867576599121,0.0008928477764129639,0.0002512335777282715,0.00023099780082702637,0.00026085972785949707,0.0005907714366912842,0.0011236071586608887,0.0004923045635223389,0.0011188685894012451,0.000033736228942871094,0.000815659761428833,0.0015555322170257568,0.00034502148628234863,0.0012376904487609863,0.00025275349617004395,0.00034037232398986816,0.0017074644565582275,0.0018909871578216553,0.0009830892086029053,0.0010647177696228027,0.0009202063083648682,0.0007230043411254883,0.003057420253753662,0.000010162591934204102,0.000931859016418457,0.0003484785556793213,0.00080910325050354,0.0008720159530639648,0.0001640617847442627,0.0002982020378112793,0.0003230273723602295,0.00044527649879455566,0.001210927963256836,0.0009072721004486084,0.0007838606834411621,0.00026613473892211914,0.0009756386280059814,0.0007287263870239258,0.0004067718982696533,0.000394672155380249,0.0002339780330657959,0.0002550780773162842,0.000523686408996582,0.0008802115917205811,0.000713735818862915,0.002372235059738159,0.0010553300380706787,0.0005319416522979736,0.001450657844543457,0.0005265176296234131,0.00036600232124328613,0.0008723437786102295,0.0006901919841766357,0.0001175999641418457,0.00021961331367492676,0.0012022554874420166,0.00014036893844604492,0.00022962689399719238,0.0011632442474365234,0.0003917813301086426,0.00024563074111938477,0.0003854036331176758,0.0004520714282989502,0.0005069971084594727,0.0002897679805755615,0.0007766783237457275,0.0005280673503875732,0.0011228322982788086,0.0005704760551452637,0.00008133053779602051,0.0008333921432495117,0.0007880628108978271,0.0004507601261138916,0.0003572404384613037,0.00023546814918518066,0.0005203783512115479,0.00042811036109924316,0.00006341934204101562,0.0004862844944000244,0.0007455646991729736,0.00023949146270751953,0.0005601644515991211,0.0006278455257415771,0.002398550510406494,0.0005902647972106934,0.0004703104496002197,0.000835418701171875,0.0006292164325714111,0.0013194382190704346,0.0007500648498535156,0.0006937384605407715,0.0006899535655975342,0.0003108382225036621,0.0014453232288360596,0.0007471740245819092,0.0007601380348205566,0.0000540614128112793,0.0011913180351257324,0.00013130903244018555,0.000814586877822876,0.0013000071048736572,0.0008209943771362305,0.0002472102642059326,0.00007453560829162598,0.003778398036956787,0.0008495450019836426,0.0005970001220703125,0.0012193918228149414,0.00002276897430419922,0.0007411837577819824,0.0009199976921081543,0.00020253658294677734,0.00080147385597229,0.0007227063179016113,0.0012639164924621582,0.0004931986331939697,0.0006515085697174072,0.00015473365783691406,0.0005467832088470459,0.00045052170753479004,0.00029796361923217773,0.001000821590423584,0.0017042458057403564,0.0011821985244750977,0.00012892484664916992,0.0005047917366027832,0.0011223256587982178,0.0008645355701446533,0.0002415776252746582,0.00018447637557983398,0.0003362596035003662,0.00011655688285827637,0.0011199712753295898,0.00022092461585998535,0.0002008676528930664,0.0007910728454589844,0.00017631053924560547,0.0015962421894073486,0.0008339285850524902,0.0006878077983856201,0.001112222671508789,0.0005952417850494385,0.0003427863121032715,0.0006614029407501221,0.001322627067565918,0.0005146563053131104,0.00004824995994567871,0.00046452879905700684,0.0003368556499481201,0.0012190043926239014,0.00046455860137939453,0.0009738504886627197,0.00035002827644348145,0.00039589405059814453,0.000307619571685791,0.0005711615085601807,0.0005376338958740234,0.0001920461654663086,0.0009895861148834229,0.0007052123546600342,0.0005137920379638672,0.00035962462425231934,0.0007860660552978516,0.000491708517074585,0.00007635354995727539,0.00026789307594299316,0.0019146502017974854,0.0006752610206604004,0.0008069276809692383,0.0004373788833618164,0.0007348060607910156,0.00010257959365844727,0.0003650486469268799,0.001430898904800415,0.0011163949966430664,0.0005064606666564941,0.0006780624389648438,0.0007084012031555176,0.0005066394805908203,0.0005592107772827148,0.0007954835891723633,0.000926285982131958,0.0006126761436462402,0.0003502964973449707,0.000958859920501709,0.0002881288528442383,0.00016897916793823242,0.0006831586360931396,0.0003865659236907959,0.00016203522682189941,0.0008713304996490479,0.0004932284355163574,0.0004909336566925049,0.00022536516189575195,0.0009913146495819092,0.0002721548080444336,0.00008744001388549805,0.0006993114948272705,0.0010588765144348145,0.0009733438491821289,0.0006800591945648193,0.0002625584602355957,0.0006255805492401123,0.00024187564849853516,0.0002522468566894531,0.0008753836154937744,0.0002613067626953125,0.0005331039428710938,0.0002490878105163574,0.0001704394817352295,0.00031509995460510254,0.0015914440155029297,0.00025537610054016113,0.0000807344913482666,0.0008647739887237549,0.0004987716674804688,0.001710742712020874,0.0013418197631835938,0.00037536025047302246,0.0003878176212310791,0.0005452334880828857,0.0007519721984863281,0.0008081197738647461,0.000502467155456543,0.0003039240837097168,0.0005827546119689941,0.0006529092788696289,0.0010212063789367676,0.00034746527671813965,0.0008154213428497314,0.00038063526153564453,0.0005306899547576904,0.00025406479835510254,0.00018146634101867676,0.0013905465602874756,0.0006494820117950439,0.0006037354469299316,0.0014120042324066162,0.00041112303733825684,0.00040650367736816406,0.0005333423614501953,0.0007215738296508789,0.0001367330551147461,0.0003502070903778076,0.0009997785091400146,0.0008716285228729248,0.0005594789981842041,0.000410228967666626,0.0001429915428161621,0.0003579556941986084,0.0011880695819854736,0.0003827214241027832,0.0012142062187194824,0.0005961358547210693,0.000471651554107666,0.0006967782974243164,0.00037926435470581055,0.0003273487091064453,0.0016745328903198242,0.0003102719783782959,0.0010521411895751953,0.00003841519355773926,0.0004825592041015625,0.0009035468101501465,0.0009154081344604492,0.0009016096591949463,0.0011216700077056885,0.0002802610397338867,0.0007374584674835205,0.0005075931549072266,0.0006051957607269287,0.0005790889263153076,0.00032085180282592773,0.00042501091957092285,0.0007457137107849121,0.0006720125675201416,0.0003052949905395508,0.0006992816925048828,0.0003927946090698242,0.00024440884590148926,0.0001997053623199463,0.0002860724925994873,0.000585019588470459,0.00021448731422424316,0.000881195068359375,0.0004405081272125244,0.0008642077445983887,0.0005924403667449951,0.0007340312004089355,0.0004509389400482178,0.0008679628372192383,0.00037926435470581055,0.0008240938186645508,0.0007452666759490967,0.00033849477767944336,0.0011382997035980225,0.0003623068332672119,0.0002282559871673584,0.0005411803722381592,0.001323312520980835,0.0009799599647521973,0.0008512735366821289,0.0007756352424621582,0.0003809928894042969,0.00017562508583068848,0.0005088448524475098,0.00014969706535339355,0.00009685754776000977,0.0016102492809295654,0.0003826320171356201,0.0013871490955352783,0.00020483136177062988,0.0011193156242370605,0.0008026957511901855,0.00047454237937927246,0.0005080103874206543,0.0012269020080566406,0.00022527575492858887,0.00020378828048706055,0.0004162788391113281,0.0008330047130584717,0.000024050474166870117,0.0006586611270904541,0.000383526086807251,0.00040608644485473633,0.00040709972381591797,0.00020489096641540527,0.0006171464920043945,0.0012582242488861084,0.0004496574401855469,0.0005507469177246094,0.0008178949356079102,0.001517951488494873,0.00017982721328735352,0.000568687915802002,0.001766800880432129,0.0002658367156982422,0.000822216272354126,0.0004229545593261719,0.00025528669357299805,0.0004892349243164062,0.000771939754486084,0.0010519325733184814,0.0010221898555755615,0.0000908970832824707,0.0008391737937927246,0.00022780895233154297,0.0007468760013580322,0.0007697641849517822,0.0019667446613311768,0.0012534558773040771,0.0001010596752166748,0.0005205869674682617,0.0002041459083557129,0.0006001889705657959,0.0009807944297790527,0.000767141580581665,0.00038120150566101074,0.0002471506595611572,0.00038233399391174316,0.00037872791290283203,0.0007638931274414062,0.00029391050338745117,0.0008871853351593018,0.0004890561103820801,0.0015825629234313965,0.0005756914615631104,0.0003350973129272461,0.00026857852935791016,0.0010086894035339355,0.00048220157623291016,0.00024381279945373535,0.00006434321403503418,0.000020682811737060547,0.0003471970558166504,0.00022557377815246582,0.0002627372741699219,0.0003419220447540283,0.000281602144241333,0.0012967884540557861,0.0011523962020874023,0.0004177987575531006,0.0010204315185546875,0.0010258853435516357,0.0011347532272338867,0.00038436055183410645,0.0009618997573852539,0.00035199522972106934,0.000282973051071167,0.00024309754371643066,0.0001265406608581543,0.00006946921348571777,0.00015616416931152344,0.0014993548393249512,0.0006575882434844971,0.0003606081008911133,0.0023556947708129883,0.0007058978080749512,0.0014238357543945312,0.0007699429988861084,0.0008679032325744629,0.00018492341041564941,0.0007839500904083252,0.0009354352951049805,0.00027167797088623047,0.0009218454360961914,0.00035691261291503906,0.0005003809928894043,0.0004172325134277344,0.0011021196842193604,0.0010276734828948975,0.0006104707717895508,0.00045561790466308594,0.0006892085075378418,0.0004885494709014893,0.0004724562168121338,0.001522064208984375,0.0005326271057128906,0.00010651350021362305,0.0002598762512207031,0.0013784170150756836,0.0004596710205078125,0.0003192126750946045,0.0009370148181915283,0.0006310641765594482,0.0005830228328704834,0.00036329030990600586,0.0009173750877380371,0.0006718039512634277,0.00003796815872192383,0.00077781081199646,0.00033274292945861816,0.0001729726791381836,0.0008949339389801025,0.00026357173919677734,0.000757366418838501,0.0007928907871246338,0.0012267529964447021,0.0013829469680786133,0.0005187392234802246,0.0003561079502105713,0.000646054744720459,0.001015990972518921,0.0015155971050262451,0.0002993941307067871,0.00013318657875061035,0.0008256733417510986,0.0005404055118560791,0.0003667771816253662,0.0005891323089599609,0.0007394552230834961,0.0010330379009246826,0.0007327795028686523,0.0001760423183441162,0.0001805126667022705,0.0011722445487976074,0.00023120641708374023,0.00046622753143310547,0.0005017220973968506,0.00037470459938049316,0.0007470846176147461,0.00034102797508239746,0.0018736720085144043,0.0007473528385162354,0.0008576810359954834,0.0012683570384979248,0.0005511641502380371,0.0008003413677215576,0.0002823770046234131,0.0006742775440216064,0.0006029307842254639,0.00045618414878845215,0.00017344951629638672,0.0012264251708984375,0.001613914966583252,0.0009235143661499023,0.00029850006103515625,0.0003133118152618408,0.00010135769844055176,0.0004534423351287842,0.00031444430351257324,0.0007798373699188232,0.00038126111030578613,0.00026619434356689453,0.000617682933807373,0.0006511211395263672,0.0008475780487060547,1.519918441772461e-6,0.0002251267433166504,0.0002655982971191406,0.0005814731121063232,0.001587003469467163,0.00012886524200439453,0.000906139612197876,0.0006060898303985596,0.0004534125328063965,0.0005573630332946777,0.001411139965057373,0.0007226467132568359,0.0007477104663848877,0.0007035136222839355,0.00022074580192565918,0.0014317333698272705,0.0018418431282043457,0.00010865926742553711,0.0008140206336975098,0.0005422532558441162,0.00045371055603027344,0.0006635785102844238,0.0006209909915924072,0.0005052685737609863,0.0005816519260406494,0.9873101711273193,0.0006915628910064697,0.0007537007331848145,0.00029602646827697754,0.00020524859428405762,0.0011404454708099365,0.0007368624210357666,0.0002035200595855713,0.00048407912254333496,0.00041028857231140137,3.3676624298095703e-6,0.0004755854606628418,0.000834733247756958,0.0003497898578643799,0.0012320280075073242,0.0005603432655334473,0.0003822147846221924,0.0009741783142089844,0.0003153085708618164,0.0008485913276672363,0.0035923421382904053,0.00045371055603027344,0.0012863576412200928,0.000866323709487915,0.00007393956184387207,0.0012035071849822998,0.00018787384033203125,0.00031045079231262207,0.0004418790340423584,0.0001100003719329834,0.0006164610385894775,2.7120113372802734e-6,0.0007382631301879883,0.00021120905876159668,0.00043717026710510254,0.0018209218978881836,0.00035813450813293457,0.00024771690368652344,0.0005538463592529297,0.0003204941749572754,0.0013484358787536621,0.0010192394256591797,0.0020678043365478516,0.00020268559455871582,0.00033402442932128906,0.00022429227828979492,0.00023245811462402344,0.00013360381126403809,0.0005823671817779541,0.0003317594528198242,0.0003043711185455322,0.0013128221035003662,0.0008148550987243652,0.0005481243133544922,0.0001258552074432373,0.00011596083641052246,0.0002785325050354004,0.00110703706741333,0.0008533000946044922,0.001249849796295166],\"dim\":[1001,1],\"v\":1}}],\"pipeline_name\":\"ccfraud-detector\",\"shadow_data\":{},\"time\":1694720463170}]"
     ]
    }
   ],
   "source": [
    "!curl -X POST testboy.local:8080/pipelines/ccfraud-detector -H \"Content-Type: application/json; format=pandas-records\" --data @../data/cc_data_1k.df.json"
   ]
  }
 ],
 "metadata": {
  "kernelspec": {
   "display_name": "Python 3 (ipykernel)",
   "language": "python",
   "name": "python3"
  },
  "language_info": {
   "codemirror_mode": {
    "name": "ipython",
    "version": 3
   },
   "file_extension": ".py",
   "mimetype": "text/x-python",
   "name": "python",
   "nbconvert_exporter": "python",
   "pygments_lexer": "ipython3",
   "version": "3.8.17"
  }
 },
 "nbformat": 4,
 "nbformat_minor": 5
}
