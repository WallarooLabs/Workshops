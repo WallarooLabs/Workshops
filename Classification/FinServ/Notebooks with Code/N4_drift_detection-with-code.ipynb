{
 "cells": [
  {
   "cell_type": "markdown",
   "id": "6540f10a-6e1c-44ba-b344-0a476491dce6",
   "metadata": {},
   "source": [
    "# Workshop Notebook 4: Observability Part 2 - Drift Detection\n",
    "\n",
    "In the previous notebook you learned how to add simple validation rules to a pipeline, to monitor whether outputs (or inputs) stray out of some expected range. In this notebook, you will monitor the *distribution* of the pipeline's predictions to see if the model, or the environment that it runs it, has changed.\n",
    "\n",
    "\n",
    "## Preliminaries\n",
    "\n",
    "In the blocks below we will preload some required libraries; we will also redefine some of the convenience functions that you saw in the previous notebooks.\n",
    "\n",
    "After that, you should log into Wallaroo and set your working environment to the workspace that you created for this workshop. Please refer to Notebook 1 to refresh yourself on how to log in and set your working environment to the appropriate workspace."
   ]
  },
  {
   "cell_type": "code",
   "execution_count": 1,
   "id": "09d0f316-7000-467e-b5d2-1a1c4e18d490",
   "metadata": {},
   "outputs": [],
   "source": [
    "# preload needed libraries \n",
    "\n",
    "import wallaroo\n",
    "from wallaroo.object import EntityNotFoundError\n",
    "\n",
    "from IPython.display import display\n",
    "\n",
    "# used to display DataFrame information without truncating\n",
    "from IPython.display import display\n",
    "import pandas as pd\n",
    "pd.set_option('display.max_colwidth', None)\n",
    "\n",
    "import json\n",
    "import datetime\n",
    "import time\n",
    "\n",
    "# used for unique connection names\n",
    "\n",
    "import string\n",
    "import random"
   ]
  },
  {
   "cell_type": "code",
   "execution_count": 3,
   "id": "202c19cb-2b9b-4baf-bbf1-9fcfc47b4339",
   "metadata": {},
   "outputs": [],
   "source": [
    "## convenience functions from the previous notebooks\n",
    "## these functions assume your connection to wallaroo is called wl\n",
    "\n",
    "# return the workspace called <name>, or create it if it does not exist.\n",
    "# this function assumes your connection to wallaroo is called wl\n",
    "def get_workspace(name):\n",
    "    workspace = None\n",
    "    for ws in wl.list_workspaces():\n",
    "        if ws.name() == name:\n",
    "            workspace= ws\n",
    "    if(workspace == None):\n",
    "        workspace = wl.create_workspace(name)\n",
    "    return workspace\n",
    "\n",
    "\n",
    "# pull a single datum from a data frame \n",
    "# and convert it to the format the model expects\n",
    "def get_singleton(df, i):\n",
    "    singleton = df.iloc[i,:].to_numpy().tolist()\n",
    "    sdict = {'tensor': [singleton]}\n",
    "    return pd.DataFrame.from_dict(sdict)\n",
    "\n",
    "\n",
    "# pull a batch of data from a data frame\n",
    "# and convert to the format the model expects\n",
    "def get_batch(df, first=0, nrows=1):\n",
    "    last = first + nrows\n",
    "    batch = df.iloc[first:last, :].to_numpy().tolist()\n",
    "    return pd.DataFrame.from_dict({'tensor': batch})\n",
    "\n",
    "\n",
    "# Get the most recent version of a model in the workspace\n",
    "# Assumes that the most recent version is the first in the list of versions.\n",
    "# wl.get_current_workspace().models() returns a list of models in the current workspace\n",
    "\n",
    "def get_model(mname):\n",
    "    modellist = wl.get_current_workspace().models()\n",
    "    model = [m.versions()[-1] for m in modellist if m.name() == mname]\n",
    "    if len(model) <= 0:\n",
    "        raise KeyError(f\"model {mname} not found in this workspace\")\n",
    "    return model[0]\n",
    "\n",
    "# get a pipeline by name in the workspace\n",
    "def get_pipeline(pname):\n",
    "    plist = wl.get_current_workspace().pipelines()\n",
    "    pipeline = [p for p in plist if p.name() == pname]\n",
    "    if len(pipeline) <= 0:\n",
    "        raise KeyError(f\"pipeline {pname} not found in this workspace\")\n",
    "    return pipeline[0]"
   ]
  },
  {
   "cell_type": "code",
   "execution_count": 4,
   "id": "92ca3872-038b-4851-bee2-069799ac0cfb",
   "metadata": {},
   "outputs": [
    {
     "data": {
      "text/plain": [
       "{'name': 'classification-finserv-jch', 'id': 21, 'archived': False, 'created_by': '0a36fba2-ad42-441b-9a8c-bac8c68d13fa', 'created_at': '2023-08-07T16:26:26.779098+00:00', 'models': [{'name': 'ccfraud-model-keras', 'versions': 2, 'owner_id': '\"\"', 'last_update_time': datetime.datetime(2023, 8, 7, 16, 28, 46, 566311, tzinfo=tzutc()), 'created_at': datetime.datetime(2023, 8, 7, 16, 26, 36, 806125, tzinfo=tzutc())}, {'name': 'ccfraud-model-xgboost', 'versions': 1, 'owner_id': '\"\"', 'last_update_time': datetime.datetime(2023, 8, 7, 17, 20, 51, 978426, tzinfo=tzutc()), 'created_at': datetime.datetime(2023, 8, 7, 17, 20, 51, 978426, tzinfo=tzutc())}], 'pipelines': [{'name': 'finserv-ccfraud', 'create_time': datetime.datetime(2023, 8, 7, 16, 26, 37, 485326, tzinfo=tzutc()), 'definition': '[]'}]}"
      ]
     },
     "execution_count": 4,
     "metadata": {},
     "output_type": "execute_result"
    }
   ],
   "source": [
    "## blank space to log in and go to correct workspace\n",
    "\n",
    "wl = wallaroo.Client()\n",
    "\n",
    "wallarooPrefix = \"doc-test.\"\n",
    "wallarooSuffix = \"wallaroocommunity.ninja\"\n",
    "\n",
    "wl = wallaroo.Client(api_endpoint=f\"https://{wallarooPrefix}api.{wallarooSuffix}\", \n",
    "                    auth_endpoint=f\"https://{wallarooPrefix}keycloak.{wallarooSuffix}\", \n",
    "                    auth_type=\"sso\")\n",
    "\n",
    "workspace_name = \"classification-finserv-jch\"\n",
    "\n",
    "workspace = get_workspace(workspace_name)\n",
    "\n",
    "# set your current workspace to the workspace that you just created\n",
    "wl.set_current_workspace(workspace)\n",
    "\n",
    "# optionally, examine your current workspace\n",
    "wl.get_current_workspace()\n"
   ]
  },
  {
   "cell_type": "markdown",
   "id": "2e76d00f-4a25-4c8f-b144-105305a64e6b",
   "metadata": {},
   "source": [
    "## Monitoring for Drift: Shift Happens. \n",
    "\n",
    "In machine learning, you use data and known answers to train a model to make predictions for new previously unseen data. You do this with the assumption that the future unseen data will be similar to the data used during training: the future will look somewhat like the past.\n",
    "But the conditions that existed when a model was created, trained and tested can change over time, due to various factors.\n",
    "\n",
    "A good model should be robust to some amount of change in the environment; however, if the environment changes too much, your models may no longer be making the correct decisions. This situation is known as concept drift; too much drift can obsolete your models, requiring periodic retraining.\n",
    "\n",
    "Let's consider the example we've been working on: credit card fraud prediction.  You may start to notice a large number of transactions that that aren't coming across as fraudulent compared to historical baselines.\n",
    "\n",
    "Such a change could be due to many factors: a change in interest rates; the appearance or disappearance of major sources of employment; changes in travel patterns. Whatever the cause, detecting such a change quickly is crucial, so that the business can react quickly in the appropriate manner, whether that means simply retraining the model on fresher data, or a pivot in business strategy.\n",
    "\n",
    "In Wallaroo you can monitor your housing model for signs of drift through the model monitoring and insight capability called Assays. Assays help you track changes in the environment that your model operates within, which can affect the model’s outcome. It does this by tracking the model’s predictions and/or the data coming into the model against an **established baseline**. If the distribution of monitored values in the current observation window differs too much from the baseline distribution, the assay will flag it. The figure below shows an example of a running scheduled assay.\n",
    "\n",
    "\n",
    "![](https://docs.wallaroo.ai/images/current/wallaroo-tutorials/wallaroo-tutorial-features/wallaroo-model-insights-reference_files/wallaroo-model-insights-reference_35_0.png)\n",
    "\n",
    "**Figure:** A daily assay that's been running for a month. The dots represent the difference between the distribution of values in the daily observation window, and the baseline. When that difference exceeds the specified threshold (indicated by a red dot) an alert is set.\n",
    "\n",
    "This next set of exercises will walk you through setting up an assay to monitor the predictions of your house price model, in order to detect drift.\n",
    "\n",
    "### NOTE\n",
    "\n",
    "An assay is a monitoring process that typically runs over an extended, ongoing period of time. For example, one might set up an assay that every day monitors the previous 24 hours' worth of predictions and compares it to a baseline. For the purposes of these exercises, we'll be compressing processes what normally would take hours or days into minutes.\n",
    "\n",
    "<hr/>\n",
    "\n",
    "#### Exercise Prep: Create some datasets for demonstrating assays\n",
    "\n",
    "Because assays are designed to detect changes in distributions, let's try to set up data with different distributions to test with. Take your financial transaction data and create two sets: a set with lower prices, and a set with higher prices. You can split however you choose.\n",
    "\n",
    "The idea is we will pretend that the set of transactions less likely to trigger fraud warnings versus a set that is known to have a high likelihood of being evaluated as fraudulent.\n",
    "\n",
    "* If you are using the pre-provided models to do these exercises, you can use the provided data sets `cc_data_low_confidence.df.json` and `cc_data_high_confidence.df.json`.  This is to establish our baseline as a set of known values, so the higher prices will trigger our assay alerts.\n",
    "\n",
    "```\n",
    "low_fraud_data = pd.read_json('../data/cc_data_low_confidence.df.json')\n",
    "high_fraud_data = pd.read_json('../data/cc_data_high_confidence.df.json')\n",
    "```\n",
    "\n",
    "Note that the data in these files are already in the form expected by the models, so you don't need to use the `get_singleton` or `get_batch` convenience functions to infer.\n",
    "\n",
    "At the end of this exercise, you should have two sets of data to demonstrate assays. In the discussion below, we'll refer to these sets as `low_fraud_data` and `high_fraud_data`.\n"
   ]
  },
  {
   "cell_type": "code",
   "execution_count": null,
   "id": "6ee896af",
   "metadata": {},
   "outputs": [],
   "source": [
    "# let's start with this - get the 10k of inferences.\n",
    "# then split them into those < 0.25, and those > 0.75\n",
    "\n"
   ]
  },
  {
   "cell_type": "code",
   "execution_count": 23,
   "id": "cf51b466-4fdb-4d73-9ebb-42707e05a05f",
   "metadata": {},
   "outputs": [],
   "source": [
    "# blank spot to split or download data\n",
    "\n",
    "low_fraud_data = pd.read_json('../data/cc_data_low_confidence.df.json')\n",
    "high_fraud_data = pd.read_json('../data/cc_data_high_confidence.df.json')\n"
   ]
  },
  {
   "cell_type": "markdown",
   "id": "229d9256-c7a0-4a3b-bef9-da8717e62fbf",
   "metadata": {},
   "source": [
    "We will use this data to set up some \"historical data\" in the house price prediction pipeline that you build in the assay exercises.\n"
   ]
  },
  {
   "cell_type": "markdown",
   "id": "27a15433-71c3-4dc3-88cb-7765b19d6018",
   "metadata": {},
   "source": [
    "## Setting up a baseline for the assay\n",
    "\n",
    "In order to know whether the distribution of your model's predictions have changed, you need a baseline to compare them to. This baseline should represent how you expect the model to behave at the time it was trained. This might be approximated by the distribution of the model's predictions over some \"typical\" period of time. For example, we might collect the predictions of our model over the first few days after it's been deployed. For these exercises, we'll compress that to a few minutes. Currently, to set up a wallaroo assay the pipeline must have been running for some period of time, and the assumption is that this period of time is \"typical\", and that the distributions of the inputs and the outputs of the model during this period of time are \"typical.\"\n",
    "\n",
    "#### Exercise Prep: Run some inferences and set some time stamps\n",
    "\n",
    "Here, we simulate having a pipeline that's been running for a long enough period of time to set up an assay.\n",
    "\n",
    "To send enough data through the pipeline to create assays, you execute something like the following code (using the appropriate names for your pipelines and models). Note that this step will take a little while, because of  the `sleep` interval.\n",
    "\n",
    "You will need the timestamps `baseline_start`, and `baseline_end`, for the next exercises.\n",
    "\n",
    "```\n",
    "# get your pipeline (in this example named \"mypipeline\")\n",
    "\n",
    "pipeline = get_pipeline(\"mypipeline\")\n",
    "pipeline.deploy()\n",
    "\n",
    "## Run some baseline data\n",
    "# Where the baseline data will start\n",
    "baseline_start = datetime.datetime.now()\n",
    "\n",
    "# the number of samples we'll use for the baseline\n",
    "nsample = 500\n",
    "\n",
    "# Wait 30 seconds to set this data apart from the rest\n",
    "# then send the data in batch\n",
    "time.sleep(30)\n",
    "\n",
    "# get a sample\n",
    "lowprice_data_sample = lowprice_data.sample(nsample, replace=True).reset_index(drop=True)\n",
    "pipeline.infer(lowprice_data_sample)\n",
    "\n",
    "# Set the baseline end\n",
    "baseline_end = datetime.datetime.now()\n",
    "\n",
    "```"
   ]
  },
  {
   "cell_type": "code",
   "execution_count": 5,
   "id": "87a48216-1a79-48f3-af81-b640d5a4b7ce",
   "metadata": {},
   "outputs": [
    {
     "data": {
      "text/html": [
       "<table><tr><th>name</th> <td>finserv-ccfraud</td></tr><tr><th>created</th> <td>2023-08-07 16:26:37.485326+00:00</td></tr><tr><th>last_updated</th> <td>2023-08-07 17:55:48.136182+00:00</td></tr><tr><th>deployed</th> <td>True</td></tr><tr><th>tags</th> <td></td></tr><tr><th>versions</th> <td>af6809a9-088f-47e5-88a4-2005599fde7a, 095ef880-06f0-45d5-bfef-ac4e11d2b06c, f9004ecd-7a8c-4963-bebc-e40d1cde357c, 2513faec-2385-4733-a42d-56a8ae38761a, 10e495af-9b23-4973-913e-4cdebca73461, 782b9edc-d42a-4984-90ca-3bdf35922b87, e80d21a4-21c2-46b8-85d4-6652bbac9506, 8ff48a62-fd9d-43f5-ba3f-11a7f1bcc474, 36faf126-dac5-419d-b0b1-7d7b698b587e, 230d585a-52db-476d-ab28-7b4baed9d023, 192f92e9-9a97-4339-8c1d-f89541ff2cef, 5d2d9c84-13c2-4e35-a41f-ec3c4e8d297b, 41927bef-d8fb-49ee-914e-d106ffc304b3</td></tr><tr><th>steps</th> <td>ccfraud-model-keras</td></tr></table>"
      ],
      "text/plain": [
       "{'name': 'finserv-ccfraud', 'create_time': datetime.datetime(2023, 8, 7, 16, 26, 37, 485326, tzinfo=tzutc()), 'definition': \"[{'ModelInference': {'models': [{'name': 'ccfraud-model-keras', 'version': '53dbee25-2e64-4acf-8f5b-44feab1de488', 'sha': 'bc85ce596945f876256f41515c7501c399fd97ebcb9ab3dd41bf03f8937b4507'}]}}]\"}"
      ]
     },
     "execution_count": 5,
     "metadata": {},
     "output_type": "execute_result"
    }
   ],
   "source": [
    "# blank space to get pipeline and set up baseline data\n",
    "\n",
    "pipeline = get_pipeline('finserv-ccfraud')\n",
    "\n",
    "ccfraud_keras_model = get_model('ccfraud-model-keras')\n",
    "\n",
    "pipeline.deploy()\n"
   ]
  },
  {
   "cell_type": "markdown",
   "id": "630f32da-6601-44fd-bf8c-c7df850f7b77",
   "metadata": {},
   "source": [
    "Before setting up an assay on this pipeline's output, we may want to look at the distribution of the predictions over our selected baseline period. To do that, we'll create an *assay_builder* that specifies the pipeline, the model in the pipeline, and the baseline period.. We'll also specify that we want to look at the output of the model, which in the example code is named `variable`, and would appear as `out.variable` in the logs.\n",
    "\n",
    "```\n",
    "\n",
    "# print out one of the logs to get the name of the output variable\n",
    "display(pipeline.logs(limit=1))\n",
    "\n",
    "# get the model name directly off the pipeline (you could just hard code this, if you know the name)\n",
    "\n",
    "model_name = pipeline.model_configs()[0].model().name()\n",
    "\n",
    "assay_builder = ( wl.build_assay(assay_name, pipeline, model_name, \n",
    "                     baseline_start, baseline_end)\n",
    "                    .add_iopath(\"output variable 0\") ) # specify that we are looking at the first output of the output variable \"variable\"\n",
    "```\n",
    "\n",
    "where `baseline_start` and `baseline_end` are the beginning and end of the baseline periods as `datetime.datetime` objects. \n",
    "\n",
    "You can then examine the distribution of `variable` over the baseline period:\n",
    "\n",
    "```\n",
    "assay_builder.baseline_histogram()\n",
    "```\n",
    "\n",
    "\n",
    "<hr/>\n",
    "\n",
    "#### Exercise: Create an assay builder and set a baseline\n",
    "\n",
    "Create an assay builder to monitor the output of your house price pipeline. The baseline period should be from `baseline_start` to `baseline_end`. \n",
    "\n",
    "* You will need to know the name of your output variable, and the name of the model in the pipeline.\n",
    "\n",
    "Examine the baseline distribution.\n"
   ]
  },
  {
   "cell_type": "code",
   "execution_count": 24,
   "id": "b1c8c723-9b10-4839-a330-1c78d0f4e145",
   "metadata": {},
   "outputs": [
    {
     "name": "stderr",
     "output_type": "stream",
     "text": [
      "Warning: There are more logs available. Please set a larger limit or request a file using export_logs."
     ]
    },
    {
     "data": {
      "text/html": [
       "<div>\n",
       "<style scoped>\n",
       "    .dataframe tbody tr th:only-of-type {\n",
       "        vertical-align: middle;\n",
       "    }\n",
       "\n",
       "    .dataframe tbody tr th {\n",
       "        vertical-align: top;\n",
       "    }\n",
       "\n",
       "    .dataframe thead th {\n",
       "        text-align: right;\n",
       "    }\n",
       "</style>\n",
       "<table border=\"1\" class=\"dataframe\">\n",
       "  <thead>\n",
       "    <tr style=\"text-align: right;\">\n",
       "      <th></th>\n",
       "      <th>time</th>\n",
       "      <th>in.tensor</th>\n",
       "      <th>out.dense_1</th>\n",
       "      <th>check_failures</th>\n",
       "    </tr>\n",
       "  </thead>\n",
       "  <tbody>\n",
       "    <tr>\n",
       "      <th>0</th>\n",
       "      <td>2023-08-07 17:11:21.172</td>\n",
       "      <td>[[0.5817662108, 0.097881551, 0.1546819424, 0.4754101949, -0.1978862306, -0.4504344854, 0.0166540447, -0.0256070551, 0.0920561602, -0.2783917153, 0.0593299441, -0.0196585416, -0.4225083157, -0.1217538877, 1.5473094894, 0.2391622864, 0.3553974881, -0.7685165301, -0.7000849355, -0.1190043285, -0.3450517133, -1.1065114108, 0.2523411195, 0.0209441826, 0.2199267436, 0.2540689265, -0.0450225094, 0.1086773898, 0.2547179311]]</td>\n",
       "      <td>[0.0010916889]</td>\n",
       "      <td>0</td>\n",
       "    </tr>\n",
       "  </tbody>\n",
       "</table>\n",
       "</div>"
      ],
      "text/plain": [
       "                     time  \\\n",
       "0 2023-08-07 17:11:21.172   \n",
       "\n",
       "                                                                                                                                                                                                                                                                                                                                                                                                                              in.tensor  \\\n",
       "0  [[0.5817662108, 0.097881551, 0.1546819424, 0.4754101949, -0.1978862306, -0.4504344854, 0.0166540447, -0.0256070551, 0.0920561602, -0.2783917153, 0.0593299441, -0.0196585416, -0.4225083157, -0.1217538877, 1.5473094894, 0.2391622864, 0.3553974881, -0.7685165301, -0.7000849355, -0.1190043285, -0.3450517133, -1.1065114108, 0.2523411195, 0.0209441826, 0.2199267436, 0.2540689265, -0.0450225094, 0.1086773898, 0.2547179311]]   \n",
       "\n",
       "      out.dense_1  check_failures  \n",
       "0  [0.0010916889]               0  "
      ]
     },
     "metadata": {},
     "output_type": "display_data"
    },
    {
     "data": {
      "text/plain": [
       "'ccfraud-model-keras'"
      ]
     },
     "metadata": {},
     "output_type": "display_data"
    },
    {
     "data": {
      "image/png": "[encoded data removed]",
      "text/plain": [
       "<Figure size 640x480 with 1 Axes>"
      ]
     },
     "metadata": {},
     "output_type": "display_data"
    }
   ],
   "source": [
    "## Blank space to create an assay builder and examine the baseline distribution\n",
    "\n",
    "display(pipeline.logs(limit=1))\n",
    "model_name = pipeline.model_configs()[0].model().name()\n",
    "display(model_name)\n",
    "\n",
    "import datetime\n",
    "import time\n",
    "baseline_start = datetime.datetime.now()\n",
    "time.sleep(5)\n",
    "\n",
    "pipeline.infer(low_fraud_data)\n",
    "\n",
    "time.sleep(5)\n",
    "\n",
    "baseline_end = datetime.datetime.now()\n",
    "\n",
    "assay_builder = ( wl.build_assay('sample finserv assay', pipeline, model_name, \n",
    "                     baseline_start, baseline_end)\n",
    "                    .add_iopath(\"output dense_1 0\") )\n",
    "\n",
    "assay_builder.baseline_histogram()\n",
    "\n"
   ]
  },
  {
   "cell_type": "markdown",
   "id": "bfdafee0-e6eb-4306-a498-3d816a8a2600",
   "metadata": {},
   "source": [
    "An assay should detect if the distribution of model predictions changes from the above distribution over regularly sampled observation windows. This is called *drift*.\n",
    "\n",
    "To show drift, we'll run more data through the pipeline -- first some data drawn from the same distribution as the baseline (`lowprice_data`). Then, we will gradually introduce more data from a different distribution (`highprice_data`). We should see the difference between the baseline distribution and the distribution in the observation window increase.\n",
    "\n",
    "To set up the data, you should do something like the below. It will take a while to run, because of all the `sleep` intervals.\n",
    "\n",
    "You will need the `assay_window_end` for a later exercise.\n",
    "\n",
    "**IMPORTANT NOTE**:  To generate the data for the assay, this process may take 4-5 minutes.  Because the shortest period of time for an assay window is 1 minute, the intervals of inference data are spaced to fall within that time period.\n",
    "\n",
    "```\n",
    "# Set the start for our assay window period.\n",
    "assay_window_start = datetime.datetime.now()\n",
    "\n",
    "# Run a set of house values, spread across a \"longer\" period of time\n",
    "\n",
    "# run \"typical\" data\n",
    "for x in range(4):\n",
    "    pipeline.infer(low_fraud_data.sample(2*nsample, replace=True).reset_index(drop=True))\n",
    "    time.sleep(25)\n",
    "    \n",
    "# run a mix\n",
    "for x in range(3):\n",
    "    pipeline.infer(low_fraud_data.sample(nsample, replace=True).reset_index(drop=True))\n",
    "    pipeline.infer(high_fraud_data.sample(nsample, replace=True).reset_index(drop=True))\n",
    "    time.sleep(25)\n",
    "    \n",
    "# high price houses dominate the sample\n",
    "for x in range(3):\n",
    "    pipeline.infer(high_fraud_data.sample(2*nsample, replace=True).reset_index(drop=True))\n",
    "    time.sleep(25)\n",
    "\n",
    "# End our assay window period\n",
    "assay_window_end = datetime.datetime.now()\n",
    "```\n",
    "\n",
    "<hr/>\n",
    "\n",
    "#### Exercise Prep: Run some inferences and set some time stamps\n",
    "\n",
    "Run more data through the pipeline, manifesting a drift, like the example above. It may around 10 minutes depending on how you stagger the inferences.\n"
   ]
  },
  {
   "cell_type": "code",
   "execution_count": 26,
   "id": "071843f2-e2e6-4fd2-80dd-1b862f08e899",
   "metadata": {},
   "outputs": [],
   "source": [
    "## Blank space to run more data\n",
    "\n",
    "assay_window_start = datetime.datetime.now()\n",
    "\n",
    "# Run a set of house values, spread across a \"longer\" period of time\n",
    "\n",
    "nsample = 500\n",
    "\n",
    "# run \"typical\" data\n",
    "for x in range(4):\n",
    "    pipeline.infer(df.sample(2*nsample, replace=True).reset_index(drop=True))\n",
    "    time.sleep(25)\n",
    "    \n",
    "# run a mix\n",
    "for x in range(3):\n",
    "    pipeline.infer(low_fraud_data.sample(nsample, replace=True).reset_index(drop=True))\n",
    "    pipeline.infer(high_fraud_data.sample(nsample, replace=True).reset_index(drop=True))\n",
    "    time.sleep(25)\n",
    "    \n",
    "# high price houses dominate the sample\n",
    "for x in range(3):\n",
    "    pipeline.infer(high_fraud_data.sample(2*nsample, replace=True).reset_index(drop=True))\n",
    "    time.sleep(25)\n",
    "\n",
    "# End our assay window period\n",
    "assay_window_end = datetime.datetime.now()\n"
   ]
  },
  {
   "cell_type": "markdown",
   "id": "51133baa-e0c8-41ca-a781-fdab6e1de4d9",
   "metadata": {},
   "source": [
    "## Defining the Assay Parameters\n",
    "\n",
    "Now we're finally ready to set up an assay!\n",
    "\n",
    "### The Observation Window\n",
    "\n",
    "Once a baseline period has been established, you must define the window of observations that will be compared to the baseline. For instance, you might want to set up an assay that runs *every 12 hours*, collects the *previous 24 hours' predictions* and compares the distribution of predictions within that 24 hour window to the baseline. To set such a comparison up would look like this:\n",
    "\n",
    "```\n",
    "assay_builder.window_builder().add_width(hours=24).add_interval(hours=12)\n",
    "```\n",
    "\n",
    "In other words **_width_** is the width of the observation window, and **_interval_** is how often an assay (comparison) is run. The default value of *width* is 24 hours; the default value of *interval* is to set it equal to *width*. The units can be specified in one of: `minutes`, `hours`, `days`, `weeks`.\n",
    "\n",
    "\n",
    "### The Comparison Threshold\n",
    "Given an observation window and a baseline distribution, an assay computes the distribution of predictions in the observation window. It then calculates the \"difference\" (or \"distance\") between the observed distribution and the baseline distribution. For the assay's default distance metric (which we will use here), a good starting threshold is 0.1. Since a different value may work best for a specific situation, you can try interactive assay runs on historical data to find a good threshold, as we do in these exercises.\n",
    "\n",
    "To set the assay threshold for the assays to 0.1:\n",
    "\n",
    "```\n",
    "assay_builder.add_alert_threshold(0.1)\n",
    "```\n",
    "\n",
    "### Running an Assay on Historical Data\n",
    "\n",
    "In this exercise, you will build an **interactive assay** over historical data. To do this, you need an end time (`endtime`). \n",
    "\n",
    "Depending on the historical history, the window and interval may need adjusting.  If using the previously generated information, an interval window as short as 1 minute may be useful.\n",
    "\n",
    "Assuming you have an assay builder with the appropriate window parameters and threshold set, you can do an interactive run and look at the results would look like this.\n",
    "\n",
    "```\n",
    "# set the end of the interactive run\n",
    "assay_builder.add_run_until(endtime)\n",
    "\n",
    "# set the window\n",
    "\n",
    "assay_builder.window_builder().add_width(hours=24).add_interval(hours=12)\n",
    "\n",
    "assay_results = assay_builder.build().interactive_run()\n",
    "df = assay_results.to_dataframe() # to return the results as a table\n",
    "assay_results.chart_scores() # to plot the run\n",
    "```\n",
    "\n",
    "\n",
    "<hr/>\n",
    "\n",
    "#### Exercise: Create an interactive assay\n",
    "\n",
    "Use the assay_builder you created in the previous exercise to set up an interactive assay. \n",
    "* The assay should run every minute, on a window that is a minute wide. \n",
    "* Set the alert threshold to 0.1.  \n",
    "* You can use `assay_window_end` (or a later timestamp) as the end of the interactive run.\n",
    "\n",
    "Examine the assay results. Do you see any drift?\n",
    "\n",
    "To try other ways of examining the assay results, see the [\"Interactive Assay Runs\" section of the Model Insights tutorial](https://docs.wallaroo.ai/wallaroo-tutorials/wallaroo-tutorial-features/wallaroo-model-insights/#interactive-assay-runs).\n"
   ]
  },
  {
   "cell_type": "code",
   "execution_count": 27,
   "id": "920ede66-5919-4293-9297-7c1a06fef34b",
   "metadata": {},
   "outputs": [
    {
     "data": {
      "image/png": "[encoded data removed]",
      "text/plain": [
       "<Figure size 640x480 with 1 Axes>"
      ]
     },
     "metadata": {},
     "output_type": "display_data"
    }
   ],
   "source": [
    "# blank space for setting assay parameters, creating and examining an interactive assay\n",
    "\n",
    "# set the end of the interactive run\n",
    "assay_builder.add_run_until(assay_window_end)\n",
    "\n",
    "# doing minutes to get our previous values in\n",
    "assay_builder.window_builder().add_width(minutes=1).add_interval(minutes=1)\n",
    "assay_builder.add_alert_threshold(0.1)\n",
    "assay_results = assay_builder.build().interactive_run()\n",
    "df = assay_results.to_dataframe() # to return the results as a table\n",
    "assay_results.chart_scores() # to plot the run\n",
    "\n"
   ]
  },
  {
   "cell_type": "markdown",
   "id": "7ac0b634-2824-4ae3-a5cf-a15c548a7af2",
   "metadata": {},
   "source": [
    "### Scheduling an Assay to run on ongoing data\n",
    "\n",
    "(We won't be doing an exercise here, this is for future reference).\n",
    "\n",
    "Once you are satisfied with the parameters you have set, you can schedule an assay to run regularly .\n",
    "\n",
    "```\n",
    "# create a fresh assay builder with the correct parameters\n",
    "assay_builder = ( wl.build_assay(assay_name, pipeline, model_name, \n",
    "                     baseline_start, baseline_end)\n",
    "                    .add_iopath(\"output variable 0\") )\n",
    "\n",
    "# this assay runs every 24 hours on a 24 hour window\n",
    "assay_builder.window_builder().add_width(hours=24)\n",
    "assay_builder.add_alert_threshold(0.1)\n",
    "\n",
    "# now schedule the assay\n",
    "assay_id = assay_builder.upload()\n",
    "```\n",
    "\n",
    "You can use the assay id later to get the assay results."
   ]
  },
  {
   "cell_type": "markdown",
   "id": "d6179b95-b0bc-4057-80ee-aa8d543f40ac",
   "metadata": {},
   "source": [
    "You have now walked through setting up a basic assay and running it over historical data.\n",
    "\n",
    "## Congratulations!\n",
    "In this workshop you have:\n",
    "\n",
    "* Deployed a single step financial transaction classification pipeline and sent data to it.\n",
    "* Compared two financial transaction classification models in an A/B test\n",
    "* Compared two financial transaction classification models in a shadow deployment.\n",
    "* Swapped the \"winner\" of the comparisons into the financial transaction classification pipeline.\n",
    "* Set validation rules on the pipeline.\n",
    "* Set up an assay on the pipeline to monitor for drift in its predictions.\n",
    "\n",
    "Great job! \n",
    "\n",
    "### Cleaning up.\n",
    "\n",
    "Now that the workshop is complete, don't forget to undeploy your pipeline to free up the resources.\n"
   ]
  },
  {
   "cell_type": "code",
   "execution_count": 28,
   "id": "a64a5223-b9f6-4891-ab93-00c113b578ff",
   "metadata": {},
   "outputs": [
    {
     "data": {
      "text/html": [
       "<table><tr><th>name</th> <td>finserv-ccfraud</td></tr><tr><th>created</th> <td>2023-08-07 16:26:37.485326+00:00</td></tr><tr><th>last_updated</th> <td>2023-08-07 18:11:00.015882+00:00</td></tr><tr><th>deployed</th> <td>False</td></tr><tr><th>tags</th> <td></td></tr><tr><th>versions</th> <td>405d7b12-309e-44a1-968c-744f765b42a2, a665ba59-bc76-4a87-a836-4dd65da8b115, af6809a9-088f-47e5-88a4-2005599fde7a, 095ef880-06f0-45d5-bfef-ac4e11d2b06c, f9004ecd-7a8c-4963-bebc-e40d1cde357c, 2513faec-2385-4733-a42d-56a8ae38761a, 10e495af-9b23-4973-913e-4cdebca73461, 782b9edc-d42a-4984-90ca-3bdf35922b87, e80d21a4-21c2-46b8-85d4-6652bbac9506, 8ff48a62-fd9d-43f5-ba3f-11a7f1bcc474, 36faf126-dac5-419d-b0b1-7d7b698b587e, 230d585a-52db-476d-ab28-7b4baed9d023, 192f92e9-9a97-4339-8c1d-f89541ff2cef, 5d2d9c84-13c2-4e35-a41f-ec3c4e8d297b, 41927bef-d8fb-49ee-914e-d106ffc304b3</td></tr><tr><th>steps</th> <td>ccfraud-model-keras</td></tr></table>"
      ],
      "text/plain": [
       "{'name': 'finserv-ccfraud', 'create_time': datetime.datetime(2023, 8, 7, 16, 26, 37, 485326, tzinfo=tzutc()), 'definition': \"[{'ModelInference': {'models': [{'name': 'ccfraud-model-keras', 'version': '53dbee25-2e64-4acf-8f5b-44feab1de488', 'sha': 'bc85ce596945f876256f41515c7501c399fd97ebcb9ab3dd41bf03f8937b4507'}]}}]\"}"
      ]
     },
     "execution_count": 28,
     "metadata": {},
     "output_type": "execute_result"
    }
   ],
   "source": [
    "# blank space to undeploy your pipeline\n",
    "\n",
    "pipeline.undeploy()\n",
    "\n"
   ]
  },
  {
   "cell_type": "code",
   "execution_count": null,
   "id": "41e3f265",
   "metadata": {},
   "outputs": [],
   "source": []
  }
 ],
 "metadata": {
  "kernelspec": {
   "display_name": "Python 3 (ipykernel)",
   "language": "python",
   "name": "python3"
  },
  "language_info": {
   "codemirror_mode": {
    "name": "ipython",
    "version": 3
   },
   "file_extension": ".py",
   "mimetype": "text/x-python",
   "name": "python",
   "nbconvert_exporter": "python",
   "pygments_lexer": "ipython3",
   "version": "3.8.17"
  }
 },
 "nbformat": 4,
 "nbformat_minor": 5
}
