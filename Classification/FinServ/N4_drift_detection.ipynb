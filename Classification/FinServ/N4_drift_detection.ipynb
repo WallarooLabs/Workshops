{
 "cells": [
  {
   "cell_type": "markdown",
   "id": "6540f10a-6e1c-44ba-b344-0a476491dce6",
   "metadata": {},
   "source": [
    "# Workshop Notebook 4: Observability Part 2 - Drift Detection\n",
    "\n",
    "In the previous notebook you learned how to add simple validation rules to a pipeline, to monitor whether outputs (or inputs) stray out of some expected range. In this notebook, you will monitor the *distribution* of the pipeline's predictions to see if the model, or the environment that it runs it, has changed.\n",
    "\n",
    "## Preliminaries\n",
    "\n",
    "In the blocks below we will preload some required libraries."
   ]
  },
  {
   "cell_type": "code",
   "execution_count": 3,
   "id": "09d0f316-7000-467e-b5d2-1a1c4e18d490",
   "metadata": {},
   "outputs": [],
   "source": [
    "# preload needed libraries \n",
    "\n",
    "import wallaroo\n",
    "from wallaroo.object import EntityNotFoundError\n",
    "\n",
    "from IPython.display import display\n",
    "\n",
    "# used to display DataFrame information without truncating\n",
    "from IPython.display import display\n",
    "import pandas as pd\n",
    "pd.set_option('display.max_colwidth', None)\n",
    "\n",
    "import json\n",
    "import datetime\n",
    "import time\n",
    "\n",
    "# used for unique connection names\n",
    "\n",
    "import string\n",
    "import random"
   ]
  },
  {
   "cell_type": "markdown",
   "id": "b5414c3f",
   "metadata": {},
   "source": [
    "## Login to Wallaroo\n",
    "\n",
    "Retrieve the previous workspace, model versions, and pipelines used in the previous notebook."
   ]
  },
  {
   "cell_type": "code",
   "execution_count": 4,
   "id": "92ca3872-038b-4851-bee2-069799ac0cfb",
   "metadata": {},
   "outputs": [
    {
     "data": {
      "text/plain": [
       "{'name': 'workshop-finserv-john', 'id': 11, 'archived': False, 'created_by': '94016008-4e0e-45bc-b2c6-d6f06236b4f5', 'created_at': '2024-09-05T16:18:31.258882+00:00', 'models': [{'name': 'classification-finserv-prime', 'versions': 3, 'owner_id': '\"\"', 'last_update_time': datetime.datetime(2024, 9, 5, 16, 48, 18, 348992, tzinfo=tzutc()), 'created_at': datetime.datetime(2024, 9, 5, 16, 18, 42, 470017, tzinfo=tzutc())}, {'name': 'ccfraud-xgboost-version', 'versions': 3, 'owner_id': '\"\"', 'last_update_time': datetime.datetime(2024, 9, 5, 16, 53, 34, 714217, tzinfo=tzutc()), 'created_at': datetime.datetime(2024, 9, 5, 16, 32, 28, 543534, tzinfo=tzutc())}], 'pipelines': [{'name': 'assay-demonstration-tutorial', 'create_time': datetime.datetime(2024, 9, 5, 16, 18, 46, 604658, tzinfo=tzutc()), 'definition': '[]'}, {'name': 'ccfraud-detector', 'create_time': datetime.datetime(2024, 9, 5, 16, 18, 43, 626892, tzinfo=tzutc()), 'definition': '[]'}]}"
      ]
     },
     "metadata": {},
     "output_type": "display_data"
    },
    {
     "data": {
      "text/html": [
       "<table>\n",
       "        <tr>\n",
       "          <td>Name</td>\n",
       "          <td>classification-finserv-prime</td>\n",
       "        </tr>\n",
       "        <tr>\n",
       "          <td>Version</td>\n",
       "          <td>24761304-0cb3-40e7-9462-d2a454637152</td>\n",
       "        </tr>\n",
       "        <tr>\n",
       "          <td>File Name</td>\n",
       "          <td>keras_ccfraud.onnx</td>\n",
       "        </tr>\n",
       "        <tr>\n",
       "          <td>SHA</td>\n",
       "          <td>bc85ce596945f876256f41515c7501c399fd97ebcb9ab3dd41bf03f8937b4507</td>\n",
       "        </tr>\n",
       "        <tr>\n",
       "          <td>Status</td>\n",
       "          <td>ready</td>\n",
       "        </tr>\n",
       "        <tr>\n",
       "          <td>Image Path</td>\n",
       "          <td>None</td>\n",
       "        </tr>\n",
       "        <tr>\n",
       "          <td>Architecture</td>\n",
       "          <td>x86</td>\n",
       "        </tr>\n",
       "        <tr>\n",
       "          <td>Acceleration</td>\n",
       "          <td>none</td>\n",
       "        </tr>\n",
       "        <tr>\n",
       "          <td>Updated At</td>\n",
       "          <td>2024-05-Sep 16:48:18</td>\n",
       "        </tr>\n",
       "        <tr>\n",
       "          <td>Workspace id</td>\n",
       "          <td>11</td>\n",
       "        </tr>\n",
       "        <tr>\n",
       "          <td>Workspace name</td>\n",
       "          <td>workshop-finserv-john</td>\n",
       "        </tr>\n",
       "      </table>"
      ],
      "text/plain": [
       "{'name': 'classification-finserv-prime', 'version': '24761304-0cb3-40e7-9462-d2a454637152', 'file_name': 'keras_ccfraud.onnx', 'image_path': None, 'arch': 'x86', 'accel': 'none', 'last_update_time': datetime.datetime(2024, 9, 5, 16, 48, 18, 348992, tzinfo=tzutc())}"
      ]
     },
     "metadata": {},
     "output_type": "display_data"
    },
    {
     "data": {
      "text/html": [
       "<table><tr><th>name</th> <td>ccfraud-detector</td></tr><tr><th>created</th> <td>2024-09-05 16:18:43.626892+00:00</td></tr><tr><th>last_updated</th> <td>2024-09-05 17:37:49.045951+00:00</td></tr><tr><th>deployed</th> <td>False</td></tr><tr><th>workspace_id</th> <td>11</td></tr><tr><th>workspace_name</th> <td>workshop-finserv-john</td></tr><tr><th>arch</th> <td>x86</td></tr><tr><th>accel</th> <td>none</td></tr><tr><th>tags</th> <td></td></tr><tr><th>versions</th> <td>93b4dd36-5e02-440d-931c-80198d1ee48a, 252d1e6f-35a5-420a-9590-d08cd76943a7, cb026715-9ced-40bb-9108-333b88c9de64, e90c10e3-ab38-43a8-a315-fb4250c09b21, 583e7a6a-3a7a-4420-abd0-c91e346a874d, cbfc4951-4d2c-41cb-89c7-934ac5bd2cbf, 32ab9ef6-2ac4-4d92-a46e-5d5c286af48c, 410d43d4-e698-4747-bbd1-cb62afee258a, 9edcf6f6-660d-470d-b8f0-24f54a335e8f, cd63b4fa-6549-41b4-af8f-576b1f0ef8b3, ff2d47a5-47c8-4fcb-8709-e95b3d0d4340, 8e74290b-4cb6-43a5-9b27-8431643438fd</td></tr><tr><th>steps</th> <td>classification-finserv-prime</td></tr><tr><th>published</th> <td>False</td></tr></table>"
      ],
      "text/plain": [
       "{'name': 'ccfraud-detector', 'create_time': datetime.datetime(2024, 9, 5, 16, 18, 43, 626892, tzinfo=tzutc()), 'definition': '[]'}"
      ]
     },
     "metadata": {},
     "output_type": "display_data"
    }
   ],
   "source": [
    "## blank space to log in \n",
    "\n",
    "wl = wallaroo.Client()\n",
    "# retrieve the previous workspace, model, and pipeline version\n",
    "\n",
    "workspace_name = \"workshop-finserv-john\"\n",
    "\n",
    "workspace = wl.get_workspace(workspace_name)\n",
    "\n",
    "# set your current workspace to the workspace that you just created\n",
    "wl.set_current_workspace(workspace)\n",
    "\n",
    "# optionally, examine your current workspace\n",
    "wl.get_current_workspace()\n",
    "\n",
    "model_name = 'classification-finserv-prime'\n",
    "\n",
    "prime_model_version = wl.get_model(model_name)\n",
    "\n",
    "pipeline_name = 'ccfraud-detector'\n",
    "\n",
    "pipeline = wl.get_pipeline(pipeline_name)\n",
    "\n",
    "display(workspace)\n",
    "display(prime_model_version)\n",
    "display(pipeline)\n"
   ]
  },
  {
   "cell_type": "markdown",
   "id": "7a8ae0c7",
   "metadata": {},
   "source": [
    "Set up the pipeline with the single model step as was done in notebook 1, then deploy it."
   ]
  },
  {
   "cell_type": "code",
   "execution_count": null,
   "id": "d02ad6db",
   "metadata": {},
   "outputs": [
    {
     "data": {
      "text/html": [
       "<table><tr><th>name</th> <td>ccfraud-detector</td></tr><tr><th>created</th> <td>2024-09-05 16:18:43.626892+00:00</td></tr><tr><th>last_updated</th> <td>2024-09-05 17:41:14.081888+00:00</td></tr><tr><th>deployed</th> <td>True</td></tr><tr><th>workspace_id</th> <td>11</td></tr><tr><th>workspace_name</th> <td>workshop-finserv-john</td></tr><tr><th>arch</th> <td>x86</td></tr><tr><th>accel</th> <td>none</td></tr><tr><th>tags</th> <td></td></tr><tr><th>versions</th> <td>9f9fc75d-9297-4de5-9962-1cd46e5006df, 93b4dd36-5e02-440d-931c-80198d1ee48a, 252d1e6f-35a5-420a-9590-d08cd76943a7, cb026715-9ced-40bb-9108-333b88c9de64, e90c10e3-ab38-43a8-a315-fb4250c09b21, 583e7a6a-3a7a-4420-abd0-c91e346a874d, cbfc4951-4d2c-41cb-89c7-934ac5bd2cbf, 32ab9ef6-2ac4-4d92-a46e-5d5c286af48c, 410d43d4-e698-4747-bbd1-cb62afee258a, 9edcf6f6-660d-470d-b8f0-24f54a335e8f, cd63b4fa-6549-41b4-af8f-576b1f0ef8b3, ff2d47a5-47c8-4fcb-8709-e95b3d0d4340, 8e74290b-4cb6-43a5-9b27-8431643438fd</td></tr><tr><th>steps</th> <td>classification-finserv-prime</td></tr><tr><th>published</th> <td>False</td></tr></table>"
      ],
      "text/plain": [
       "{'name': 'ccfraud-detector', 'create_time': datetime.datetime(2024, 9, 5, 16, 18, 43, 626892, tzinfo=tzutc()), 'definition': \"[{'ModelInference': {'models': [{'name': 'classification-finserv-prime', 'version': '24761304-0cb3-40e7-9462-d2a454637152', 'sha': 'bc85ce596945f876256f41515c7501c399fd97ebcb9ab3dd41bf03f8937b4507'}]}}]\"}"
      ]
     },
     "execution_count": 5,
     "metadata": {},
     "output_type": "execute_result"
    }
   ],
   "source": [
    "# deploy pipeline here\n",
    "\n",
    "pipeline.clear()\n",
    "pipeline.add_model_step(prime_model_version)\n",
    "\n",
    "deploy_config = wallaroo.DeploymentConfigBuilder().replica_count(1).cpus(0.5).memory(\"1Gi\").build()\n",
    "pipeline.deploy(deployment_config=deploy_config)"
   ]
  },
  {
   "cell_type": "markdown",
   "id": "2e76d00f-4a25-4c8f-b144-105305a64e6b",
   "metadata": {},
   "source": [
    "## Monitoring for Drift: Shift Happens. \n",
    "\n",
    "In machine learning, you use data and known answers to train a model to make predictions for new previously unseen data. You do this with the assumption that the future unseen data will be similar to the data used during training: the future will look somewhat like the past.\n",
    "But the conditions that existed when a model was created, trained and tested can change over time, due to various factors.\n",
    "\n",
    "A good model should be robust to some amount of change in the environment; however, if the environment changes too much, your models may no longer be making the correct decisions. This situation is known as concept drift; too much drift can obsolete your models, requiring periodic retraining.\n",
    "\n",
    "Let's consider the example we've been working on: home sale price prediction. You may notice over time that there has been a change in the mix of properties in the listings portfolio: for example a dramatic increase or decrease in expensive properties (or more precisely, properties that the model thinks are expensive)\n",
    "\n",
    "Such a change could be due to many factors: a change in interest rates; the appearance or disappearance of major sources of employment; new housing developments opening up in the area. Whatever the cause, detecting such a change quickly is crucial, so that the business can react quickly in the appropriate manner, whether that means simply retraining the model on fresher data, or a pivot in business strategy.\n",
    "\n",
    "In Wallaroo you can monitor your housing model for signs of drift through the model monitoring and insight capability called Assays. Assays help you track changes in the environment that your model operates within, which can affect the model’s outcome. It does this by tracking the model’s predictions and/or the data coming into the model against an **established baseline**. If the distribution of monitored values in the current observation window differs too much from the baseline distribution, the assay will flag it. The figure below shows an example of a running scheduled assay.\n",
    "\n",
    "\n",
    "![](https://docs.wallaroo.ai/images/current/wallaroo-tutorials/wallaroo-tutorial-features/wallaroo-model-insights-reference_files/wallaroo-model-insights-reference_35_0.png)\n",
    "\n",
    "**Figure:** A daily assay that's been running for a month. The dots represent the difference between the distribution of values in the daily observation window, and the baseline. When that difference exceeds the specified threshold (indicated by a red dot) an alert is set.\n",
    "\n",
    "This next set of exercises will walk you through setting up an assay to monitor the predictions of your house price model, in order to detect drift.\n",
    "\n",
    "### NOTE\n",
    "\n",
    "An assay is a monitoring process that typically runs over an extended, ongoing period of time. For example, one might set up an assay that every day monitors the previous 24 hours' worth of predictions and compares it to a baseline. For the purposes of these exercises, we'll be compressing processes what normally would take hours or days into minutes.\n",
    "\n",
    "<hr/>\n",
    "\n",
    "### Assay DataSet Exercise\n",
    "\n",
    "Because assays are designed to detect changes in distributions, let's try to set up data with different distributions to test with. Take your houseprice data and create two sets: a set with lower prices, and a set with higher prices. You can split however you choose.\n",
    "\n",
    "The idea is we will pretend that the set of lower priced houses represent the \"typical\" mix of houses in the housing portfolio at the time you set your baseline; you will introduce the higher priced houses later, to represent an environmental change when more expensive houses suddenly enter the market.\n",
    "\n",
    "* If you are using the pre-provided models to do these exercises, you can use the provided data sets `lowprice.df.json` and `highprice.df.json`.  This is to establish our baseline as a set of known values, so the higher prices will trigger our assay alerts.\n",
    "\n",
    "```python\n",
    "lowprice_data = pd.read_json('./data/lowprice.df.json')\n",
    "highprice_data = pd.read_json('./data/highprice.df.json')\n",
    "```\n",
    "\n",
    "Note that the data in these files are already in the form expected by the models, so you don't need to use the `get_singleton` or `get_batch` convenience functions to infer.\n",
    "\n",
    "At the end of this exercise, you should have two sets of data to demonstrate assays. In the discussion below, we'll refer to these sets as `lowprice_data` and `highprice_data`.\n"
   ]
  },
  {
   "cell_type": "code",
   "execution_count": 6,
   "id": "cf51b466-4fdb-4d73-9ebb-42707e05a05f",
   "metadata": {},
   "outputs": [],
   "source": [
    "# blank spot to split or download data\n",
    "\n",
    "lowprice_data = pd.read_json('../data/cc_data_high_confidence.df.json')\n",
    "highprice_data = pd.read_json('../data/cc_data_low_confidence.df.json')\n"
   ]
  },
  {
   "cell_type": "markdown",
   "id": "229d9256-c7a0-4a3b-bef9-da8717e62fbf",
   "metadata": {},
   "source": [
    "We will use this data to set up some \"historical data\" in the house price prediction pipeline that you build in the assay exercises.\n"
   ]
  },
  {
   "cell_type": "markdown",
   "id": "27a15433-71c3-4dc3-88cb-7765b19d6018",
   "metadata": {},
   "source": [
    "## Set Assay Baseline\n",
    "\n",
    "In order to know whether the distribution of your model's predictions have changed, you need a baseline to compare them to. This baseline should represent how you expect the model to behave at the time it was trained. This might be approximated by the distribution of the model's predictions over some \"typical\" period of time. For example, we might collect the predictions of our model over the first few days after it's been deployed. For these exercises, we'll compress that to a few minutes. Currently, to set up a wallaroo assay the pipeline must have been running for some period of time, and the assumption is that this period of time is \"typical\", and that the distributions of the inputs and the outputs of the model during this period of time are \"typical.\"\n",
    "\n",
    "### Set Assay Baseline Data Exercise\n",
    "\n",
    "Here, we simulate having a pipeline that's been running for a long enough period of time to set up an assay.\n",
    "\n",
    "To send enough data through the pipeline to create assays, you execute something like the following code (using the appropriate names for your pipelines and models). Note that this step will take a little while, because of  the `sleep` interval.\n",
    "\n",
    "You will need the timestamps `baseline_start`, and `baseline_end`, for the next exercises.\n",
    "\n",
    "```python\n",
    "# get your pipeline (in this example named \"mypipeline\")\n",
    "\n",
    "pipeline = get_pipeline(\"mypipeline\")\n",
    "pipeline.deploy()\n",
    "\n",
    "## Run some baseline data\n",
    "# Where the baseline data will start\n",
    "baseline_start = datetime.datetime.now()\n",
    "\n",
    "# the number of samples we'll use for the baseline\n",
    "nsample = 500\n",
    "\n",
    "# Wait 30 seconds to set this data apart from the rest\n",
    "# then send the data in batch\n",
    "time.sleep(30)\n",
    "\n",
    "# get a sample\n",
    "lowprice_data_sample = lowprice_data.sample(nsample, replace=True).reset_index(drop=True)\n",
    "pipeline.infer(lowprice_data_sample)\n",
    "\n",
    "# Set the baseline end\n",
    "baseline_end = datetime.datetime.now()\n",
    "\n",
    "```"
   ]
  },
  {
   "cell_type": "markdown",
   "id": "630f32da-6601-44fd-bf8c-c7df850f7b77",
   "metadata": {},
   "source": [
    "## Create Assay Builder and Set Baseline\n",
    "\n",
    "Before setting up an assay on this pipeline's output, we may want to look at the distribution of the predictions over our selected baseline period. To do that, we'll create an *assay_builder* that specifies the pipeline, the model in the pipeline, and the baseline period.. We'll also specify that we want to look at the output of the model, which in the example code is named `variable`, and would appear as `out.variable` in the logs.\n",
    "\n",
    "```python\n",
    "# print out one of the logs to get the name of the output variable\n",
    "display(pipeline.logs(limit=1))\n",
    "\n",
    "# get the model name directly off the pipeline (you could just hard code this, if you know the name)\n",
    "\n",
    "model_name = pipeline.model_configs()[0].model().name()\n",
    "\n",
    "assay_builder = ( wl.build_assay(assay_name, pipeline, model_name, \n",
    "                     baseline_start, baseline_end)\n",
    "                    .add_iopath(\"output variable 0\") ) # specify that we are looking at the first output of the output variable \"variable\"\n",
    "```\n",
    "\n",
    "where `baseline_start` and `baseline_end` are the beginning and end of the baseline periods as `datetime.datetime` objects. \n",
    "\n",
    "You can then examine the distribution of `variable` over the baseline period:\n",
    "\n",
    "```python\n",
    "assay_builder.baseline_histogram()\n",
    "```\n",
    "\n",
    "\n",
    "### Create Assay Builder and Set Baseline Exercise\n",
    "\n",
    "Create an assay builder to monitor the output of your house price pipeline. The baseline period should be from `baseline_start` to `baseline_end`. \n",
    "\n",
    "* You will need to know the name of your output variable, and the name of the model in the pipeline.\n",
    "\n",
    "Here's an example.\n",
    "\n",
    "```python\n",
    "## Blank space to create an assay builder and examine the baseline distribution\n",
    "\n",
    "import datetime\n",
    "import time\n",
    "baseline_start = datetime.datetime.now()\n",
    "time.sleep(5)\n",
    "\n",
    "pipeline.infer(lowprice_data)\n",
    "\n",
    "time.sleep(5)\n",
    "\n",
    "baseline_end = datetime.datetime.now()\n",
    "\n",
    "assay_builder = wl.build_assay(assay_name=\"finserv sample assay john\", \n",
    "                                          pipeline=pipeline, \n",
    "                                          iopath=\"output dense_1 0\",\n",
    "                                          baseline_start=baseline_start, \n",
    "                                          baseline_end=baseline_end)\n",
    "\n",
    "\n",
    "assay_builder.baseline_histogram()\n",
    "```\n"
   ]
  },
  {
   "cell_type": "code",
   "execution_count": 8,
   "id": "b1c8c723-9b10-4839-a330-1c78d0f4e145",
   "metadata": {},
   "outputs": [
    {
     "data": {
      "image/png": "[encoded data removed]",
      "text/plain": [
       "<Figure size 640x480 with 1 Axes>"
      ]
     },
     "metadata": {},
     "output_type": "display_data"
    }
   ],
   "source": [
    "## Blank space to create an assay builder and examine the baseline distribution\n",
    "\n",
    "import datetime\n",
    "import time\n",
    "baseline_start = datetime.datetime.now()\n",
    "time.sleep(5)\n",
    "\n",
    "pipeline.infer(lowprice_data)\n",
    "\n",
    "time.sleep(5)\n",
    "\n",
    "baseline_end = datetime.datetime.now()\n",
    "\n",
    "assay_builder = wl.build_assay(assay_name=\"finserv sample assay john\", \n",
    "                                          pipeline=pipeline, \n",
    "                                          iopath=\"output dense_1 0\",\n",
    "                                          baseline_start=baseline_start, \n",
    "                                          baseline_end=baseline_end)\n",
    "\n",
    "\n",
    "assay_builder.baseline_histogram()"
   ]
  },
  {
   "cell_type": "markdown",
   "id": "bfdafee0-e6eb-4306-a498-3d816a8a2600",
   "metadata": {},
   "source": [
    "## Assay Windows\n",
    "\n",
    "An assay should detect if the distribution of model predictions changes from the above distribution over regularly sampled observation windows. This is called *drift*.\n",
    "\n",
    "To show drift, we'll run more data through the pipeline -- first some data drawn from the same distribution as the baseline (`lowprice_data`). Then, we will gradually introduce more data from a different distribution (`highprice_data`). We should see the difference between the baseline distribution and the distribution in the observation window increase.\n",
    "\n",
    "To set up the data, you should do something like the below. It will take a while to run, because of all the `sleep` intervals.\n",
    "\n",
    "You will need the `assay_window_end` for a later exercise.\n",
    "\n",
    "**IMPORTANT NOTE**:  To generate the data for the assay, this process may take 4-5 minutes.  Because the shortest period of time for an assay window is 1 minute, the intervals of inference data are spaced to fall within that time period.\n",
    "\n",
    "```python\n",
    "# Set the start for our assay window period.\n",
    "assay_window_start = datetime.datetime.now()\n",
    "\n",
    "# Run a set of house values, spread across a \"longer\" period of time\n",
    "\n",
    "# run \"typical\" data\n",
    "for x in range(4):\n",
    "    pipeline.infer(lowprice_data.sample(2*nsample, replace=True).reset_index(drop=True))\n",
    "    time.sleep(25)\n",
    "    \n",
    "# run a mix\n",
    "for x in range(3):\n",
    "    pipeline.infer(lowprice_data.sample(nsample, replace=True).reset_index(drop=True))\n",
    "    pipeline.infer(highprice_data.sample(nsample, replace=True).reset_index(drop=True))\n",
    "    time.sleep(25)\n",
    "    \n",
    "# high price houses dominate the sample\n",
    "for x in range(3):\n",
    "    pipeline.infer(highprice_data.sample(2*nsample, replace=True).reset_index(drop=True))\n",
    "    time.sleep(25)\n",
    "\n",
    "# End our assay window period\n",
    "assay_window_end = datetime.datetime.now()\n",
    "```\n",
    "\n",
    "## Assay Windows Exercise\n",
    "\n",
    "Run more data through the pipeline, manifesting a drift, like the example above. It may around 10 minutes depending on how you stagger the inferences.\n",
    "\n",
    "Here's an example of some code to use:\n",
    "\n",
    "```python\n",
    "## Blank space to run more data\n",
    "\n",
    "assay_window_start = datetime.datetime.now()\n",
    "\n",
    "# Run a set of house values, spread across a \"longer\" period of time\n",
    "\n",
    "nsample = 500\n",
    "\n",
    "# run \"typical\" data\n",
    "for x in range(4):\n",
    "    pipeline.infer(lowprice_data.sample(2*nsample, replace=True).reset_index(drop=True))\n",
    "    time.sleep(25)\n",
    "    \n",
    "# run a mix\n",
    "for x in range(3):\n",
    "    pipeline.infer(lowprice_data.sample(nsample, replace=True).reset_index(drop=True))\n",
    "    pipeline.infer(highprice_data.sample(nsample, replace=True).reset_index(drop=True))\n",
    "    time.sleep(25)\n",
    "    \n",
    "# high price houses dominate the sample\n",
    "for x in range(3):\n",
    "    pipeline.infer(highprice_data.sample(2*nsample, replace=True).reset_index(drop=True))\n",
    "    time.sleep(25)\n",
    "\n",
    "# End our assay window period\n",
    "assay_window_end = datetime.datetime.now()\n",
    "```\n"
   ]
  },
  {
   "cell_type": "code",
   "execution_count": 9,
   "id": "071843f2-e2e6-4fd2-80dd-1b862f08e899",
   "metadata": {},
   "outputs": [],
   "source": [
    "## Blank space to run more data\n",
    "\n",
    "assay_window_start = datetime.datetime.now()\n",
    "\n",
    "# Run a set of house values, spread across a \"longer\" period of time\n",
    "\n",
    "nsample = 500\n",
    "\n",
    "# run \"typical\" data\n",
    "for x in range(4):\n",
    "    pipeline.infer(lowprice_data.sample(2*nsample, replace=True).reset_index(drop=True))\n",
    "    time.sleep(25)\n",
    "    \n",
    "# run a mix\n",
    "for x in range(3):\n",
    "    pipeline.infer(lowprice_data.sample(nsample, replace=True).reset_index(drop=True))\n",
    "    pipeline.infer(highprice_data.sample(nsample, replace=True).reset_index(drop=True))\n",
    "    time.sleep(25)\n",
    "    \n",
    "# run atypical dominate the sample\n",
    "for x in range(3):\n",
    "    pipeline.infer(highprice_data.sample(2*nsample, replace=True).reset_index(drop=True))\n",
    "    time.sleep(25)\n",
    "\n",
    "# run \"typical\" data\n",
    "for x in range(4):\n",
    "    pipeline.infer(lowprice_data.sample(2*nsample, replace=True).reset_index(drop=True))\n",
    "    time.sleep(25)\n",
    "\n",
    "# End our assay window period\n",
    "assay_window_end = datetime.datetime.now()\n"
   ]
  },
  {
   "cell_type": "markdown",
   "id": "51133baa-e0c8-41ca-a781-fdab6e1de4d9",
   "metadata": {},
   "source": [
    "## Define Assay Parameters\n",
    "\n",
    "Now we're finally ready to set up an assay!\n",
    "\n",
    "### The Observation Window\n",
    "\n",
    "Once a baseline period has been established, you must define the window of observations that will be compared to the baseline. For instance, you might want to set up an assay that runs *every 12 hours*, collects the *previous 24 hours' predictions* and compares the distribution of predictions within that 24 hour window to the baseline. To set such a comparison up would look like this:\n",
    "\n",
    "```python\n",
    "assay_builder.window_builder().add_width(hours=24).add_interval(hours=12)\n",
    "```\n",
    "\n",
    "In other words **_width_** is the width of the observation window, and **_interval_** is how often an assay (comparison) is run. The default value of *width* is 24 hours; the default value of *interval* is to set it equal to *width*. The units can be specified in one of: `minutes`, `hours`, `days`, `weeks`.\n",
    "\n",
    "### The Comparison Threshold\n",
    "Given an observation window and a baseline distribution, an assay computes the distribution of predictions in the observation window. It then calculates the \"difference\" (or \"distance\") between the observed distribution and the baseline distribution. For the assay's default distance metric (which we will use here), a good starting threshold is 0.1. Since a different value may work best for a specific situation, you can try interactive assay runs on historical data to find a good threshold, as we do in these exercises.\n",
    "\n",
    "To set the assay threshold for the assays to 0.1:\n",
    "\n",
    "```python\n",
    "assay_builder.add_alert_threshold(0.1)\n",
    "```\n",
    "\n",
    "### Running an Assay on Historical Data\n",
    "\n",
    "In this exercise, you will build an **interactive assay** over historical data. To do this, you need an end time (`endtime`). \n",
    "\n",
    "Depending on the historical history, the window and interval may need adjusting.  If using the previously generated information, an interval window as short as 1 minute may be useful.\n",
    "\n",
    "Assuming you have an assay builder with the appropriate window parameters and threshold set, you can do an interactive run and look at the results would look like this.\n",
    "\n",
    "```python\n",
    "# set the end of the interactive run\n",
    "assay_builder.add_run_until(endtime)\n",
    "\n",
    "# set the window\n",
    "\n",
    "assay_builder.window_builder().add_width(hours=24).add_interval(hours=12)\n",
    "\n",
    "assay_results = assay_builder.build().interactive_run()\n",
    "df = assay_results.to_dataframe() # to return the results as a table\n",
    "assay_results.chart_scores() # to plot the run\n",
    "```\n",
    "\n",
    "### Define Assay Parameters Exercise\n",
    "\n",
    "Use the assay_builder you created in the previous exercise to set up an interactive assay. \n",
    "* The assay should run every minute, on a window that is a minute wide. \n",
    "* Set the alert threshold to 0.1.  \n",
    "* You can use `assay_window_end` (or a later timestamp) as the end of the interactive run.\n",
    "\n",
    "Examine the assay results. Do you see any drift?\n",
    "\n",
    "To try other ways of examining the assay results, see the [\"Interactive Assay Runs\" section of the Model Insights tutorial](https://docs.wallaroo.ai/wallaroo-tutorials/wallaroo-tutorial-features/wallaroo-model-insights/#interactive-assay-runs).\n",
    "\n",
    "Here's some code to use.\n",
    "\n",
    "```python\n",
    "# blank space for setting assay parameters, creating and examining an interactive assay\n",
    "\n",
    "# set the end of the interactive run\n",
    "assay_builder.add_run_until(assay_window_end)\n",
    "\n",
    "# doing minutes to get our previous values in\n",
    "assay_builder.window_builder().add_width(minutes=1).add_interval(minutes=1)\n",
    "assay_builder.add_alert_threshold(0.1)\n",
    "assay_results = assay_builder.build().interactive_run()\n",
    "df = assay_results.to_dataframe() # to return the results as a table\n",
    "assay_results.chart_scores() # to plot the run\n",
    "```\n"
   ]
  },
  {
   "cell_type": "code",
   "execution_count": 11,
   "id": "920ede66-5919-4293-9297-7c1a06fef34b",
   "metadata": {},
   "outputs": [
    {
     "data": {
      "image/png": "[encoded data removed]",
      "text/plain": [
       "<Figure size 640x480 with 1 Axes>"
      ]
     },
     "metadata": {},
     "output_type": "display_data"
    }
   ],
   "source": [
    "# blank space for setting assay parameters, creating and examining an interactive assay\n",
    "\n",
    "# set the end of the interactive run\n",
    "assay_builder.add_run_until(assay_window_end)\n",
    "\n",
    "# doing minutes to get our previous values in\n",
    "assay_builder.window_builder().add_width(minutes=1).add_interval(minutes=1).add_start(assay_window_start)\n",
    "assay_builder.add_alert_threshold(0.1)\n",
    "assay_results = assay_builder.build().interactive_run()\n",
    "df = assay_results.to_dataframe() # to return the results as a table\n",
    "assay_results.chart_scores() # to plot the run\n",
    "\n"
   ]
  },
  {
   "cell_type": "markdown",
   "id": "7ac0b634-2824-4ae3-a5cf-a15c548a7af2",
   "metadata": {},
   "source": [
    "## Schedule an Assay for Ongoing Data\n",
    "\n",
    "(We won't be doing an exercise here, this is for future reference).\n",
    "\n",
    "Once you are satisfied with the parameters you have set, you can schedule an assay to run regularly .\n",
    "\n",
    "```python\n",
    "# create a fresh assay builder with the correct parameters\n",
    "assay_builder = ( wl.build_assay(assay_name, pipeline, model_name, \n",
    "                     baseline_start, baseline_end)\n",
    "                    .add_iopath(\"output variable 0\") )\n",
    "\n",
    "# this assay runs every 24 hours on a 24 hour window\n",
    "assay_builder.window_builder().add_width(hours=24)\n",
    "assay_builder.add_alert_threshold(0.1)\n",
    "\n",
    "# now schedule the assay\n",
    "assay_id = assay_builder.upload()\n",
    "```\n",
    "\n",
    "You can use the assay id later to get the assay results."
   ]
  },
  {
   "cell_type": "markdown",
   "id": "c643514e",
   "metadata": {},
   "source": [
    "## Cleaning up.\n",
    "\n",
    "Now that the workshop is complete, don't forget to undeploy your pipeline to free up the resources.\n"
   ]
  },
  {
   "cell_type": "code",
   "execution_count": 12,
   "id": "371b9334",
   "metadata": {},
   "outputs": [
    {
     "data": {
      "text/html": [
       "<table><tr><th>name</th> <td>ccfraud-detector</td></tr><tr><th>created</th> <td>2024-09-05 16:18:43.626892+00:00</td></tr><tr><th>last_updated</th> <td>2024-09-05 17:41:14.081888+00:00</td></tr><tr><th>deployed</th> <td>False</td></tr><tr><th>workspace_id</th> <td>11</td></tr><tr><th>workspace_name</th> <td>workshop-finserv-john</td></tr><tr><th>arch</th> <td>x86</td></tr><tr><th>accel</th> <td>none</td></tr><tr><th>tags</th> <td></td></tr><tr><th>versions</th> <td>9f9fc75d-9297-4de5-9962-1cd46e5006df, 93b4dd36-5e02-440d-931c-80198d1ee48a, 252d1e6f-35a5-420a-9590-d08cd76943a7, cb026715-9ced-40bb-9108-333b88c9de64, e90c10e3-ab38-43a8-a315-fb4250c09b21, 583e7a6a-3a7a-4420-abd0-c91e346a874d, cbfc4951-4d2c-41cb-89c7-934ac5bd2cbf, 32ab9ef6-2ac4-4d92-a46e-5d5c286af48c, 410d43d4-e698-4747-bbd1-cb62afee258a, 9edcf6f6-660d-470d-b8f0-24f54a335e8f, cd63b4fa-6549-41b4-af8f-576b1f0ef8b3, ff2d47a5-47c8-4fcb-8709-e95b3d0d4340, 8e74290b-4cb6-43a5-9b27-8431643438fd</td></tr><tr><th>steps</th> <td>classification-finserv-prime</td></tr><tr><th>published</th> <td>False</td></tr></table>"
      ],
      "text/plain": [
       "{'name': 'ccfraud-detector', 'create_time': datetime.datetime(2024, 9, 5, 16, 18, 43, 626892, tzinfo=tzutc()), 'definition': \"[{'ModelInference': {'models': [{'name': 'classification-finserv-prime', 'version': '24761304-0cb3-40e7-9462-d2a454637152', 'sha': 'bc85ce596945f876256f41515c7501c399fd97ebcb9ab3dd41bf03f8937b4507'}]}}]\"}"
      ]
     },
     "execution_count": 12,
     "metadata": {},
     "output_type": "execute_result"
    }
   ],
   "source": [
    "# blank space to undeploy your pipeline\n",
    "\n",
    "pipeline.undeploy()\n",
    "\n"
   ]
  },
  {
   "cell_type": "markdown",
   "id": "d6179b95-b0bc-4057-80ee-aa8d543f40ac",
   "metadata": {},
   "source": [
    "You have now walked through setting up a basic assay and running it over historical data.\n",
    "\n",
    "## Congratulations!\n",
    "\n",
    "In this workshop you have\n",
    "* Deployed a single step house price prediction pipeline and sent data to it.\n",
    "* Compared two house price prediction models in an A/B test\n",
    "* Compared two house price prediction models in a shadow deployment.\n",
    "* Swapped the \"winner\" of the comparisons into the house price prediction pipeline.\n",
    "* Set validation rules on the pipeline.\n",
    "* Set up an assay on the pipeline to monitor for drift in its predictions.\n",
    "\n",
    "Great job!"
   ]
  }
 ],
 "metadata": {
  "kernelspec": {
   "display_name": "wallaroosdk2024.2",
   "language": "python",
   "name": "python3"
  },
  "language_info": {
   "codemirror_mode": {
    "name": "ipython",
    "version": 3
   },
   "file_extension": ".py",
   "mimetype": "text/x-python",
   "name": "python",
   "nbconvert_exporter": "python",
   "pygments_lexer": "ipython3",
   "version": "3.8.20"
  }
 },
 "nbformat": 4,
 "nbformat_minor": 5
}
