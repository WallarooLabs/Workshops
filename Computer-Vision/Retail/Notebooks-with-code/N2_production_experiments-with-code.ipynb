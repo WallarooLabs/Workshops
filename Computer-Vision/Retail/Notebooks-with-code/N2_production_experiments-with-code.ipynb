{
 "cells": [
  {
   "cell_type": "markdown",
   "id": "7d3757d4-9096-48d0-a0b3-ee52a1855d32",
   "metadata": {},
   "source": [
    "# Workshop Notebook 2: Vetting a Model With Production Experiments\n",
    "\n",
    "So far, we've discussed practices and methods for transitioning an ML model and related artifacts from development to production. However, just the act of pushing a model into production is not the only consideration. In many situations, it's important to vet a model's performance in the real world before fully activating it. Real world vetting can surface issues that may not have arisen during the development stage, when models are only checked using hold-out data.\n",
    "\n",
    "In this notebook, you will learn about two kinds of production ML model validation methods: A/B testing and Shadow Deployments. A/B tests and other types of experimentation are part of the ML lifecycle. The ability to quickly experiment and test new models in the real world helps data scientists to continually learn, innovate, and improve AI-driven decision processes.\n",
    "\n",
    "## Prerequisites\n",
    "\n",
    "This notebook assumes that you have completed Notebook 1 \"Deploy a Model\", and that at this point you have:\n",
    "\n",
    "* Created and worked with a Workspace.\n",
    "* Uploaded ML Models and worked with Wallaroo Model Versions.\n",
    "* Created a Wallaroo Pipeline, added model versions as pipeline steps, and deployed the pipeline.\n",
    "* Performed sample inferences and undeployed the pipeline.\n",
    "\n",
    "The same workspace, models, and pipelines will be used for this notebook."
   ]
  },
  {
   "cell_type": "markdown",
   "id": "87581d25-ce36-498d-9051-6f0585a51387",
   "metadata": {},
   "source": [
    "## Preliminaries\n",
    "\n",
    "In the blocks below we will preload some required libraries.\n"
   ]
  },
  {
   "cell_type": "code",
   "execution_count": 3,
   "id": "01e8e99c-63f5-4c26-9d51-11b5ff134327",
   "metadata": {},
   "outputs": [],
   "source": [
    "# preload needed libraries \n",
    "\n",
    "import wallaroo\n",
    "from wallaroo.object import EntityNotFoundError\n",
    "from wallaroo.framework import Framework\n",
    "from IPython.display import display\n",
    "from IPython.display import Image\n",
    "import pandas as pd\n",
    "import json\n",
    "import datetime\n",
    "import time\n",
    "import cv2\n",
    "import matplotlib.pyplot as plt\n",
    "import string\n",
    "import random\n",
    "import pyarrow as pa\n",
    "import sys\n",
    "import asyncio\n",
    "pd.set_option('display.max_colwidth', None)\n",
    "\n",
    "import sys\n",
    " \n",
    "# setting path - only needed when running this from the `with-code` folder.\n",
    "sys.path.append('../')\n",
    "\n",
    "import utils\n",
    "\n",
    "import time\n"
   ]
  },
  {
   "cell_type": "markdown",
   "id": "c2b76b8f",
   "metadata": {},
   "source": [
    "### Pre-exercise\n",
    "\n",
    "If needed, log into Wallaroo and go to the workspace, pipeline, and most recent model version from the ones that you created in the previous notebook. Please refer to Notebook 1 to refresh yourself on how to log in and set your working environment to the appropriate workspace."
   ]
  },
  {
   "cell_type": "code",
   "execution_count": 5,
   "id": "25618e30-3fc9-4cc2-81f5-9c864aad4afb",
   "metadata": {},
   "outputs": [
    {
     "data": {
      "text/plain": [
       "{'name': 'workshop-workspace-john-cv', 'id': 13, 'archived': False, 'created_by': 'john.hansarick@wallaroo.ai', 'created_at': '2024-11-04T21:08:24.55981+00:00', 'models': [{'name': 'cv-pixel-intensity', 'versions': 4, 'owner_id': '\"\"', 'last_update_time': datetime.datetime(2024, 11, 6, 16, 8, 33, 942644, tzinfo=tzutc()), 'created_at': datetime.datetime(2024, 11, 5, 20, 38, 55, 258098, tzinfo=tzutc())}, {'name': 'mobilenet', 'versions': 2, 'owner_id': '\"\"', 'last_update_time': datetime.datetime(2024, 11, 6, 17, 10, 14, 651037, tzinfo=tzutc()), 'created_at': datetime.datetime(2024, 11, 4, 21, 9, 40, 313224, tzinfo=tzutc())}, {'name': 'cv-post-process-drift-detection', 'versions': 1, 'owner_id': '\"\"', 'last_update_time': datetime.datetime(2024, 11, 6, 17, 10, 16, 758351, tzinfo=tzutc()), 'created_at': datetime.datetime(2024, 11, 6, 17, 10, 16, 758351, tzinfo=tzutc())}], 'pipelines': [{'name': 'cv-retail-observe', 'create_time': datetime.datetime(2024, 11, 5, 20, 35, 25, 831787, tzinfo=tzutc()), 'definition': '[]'}, {'name': 'cv-assays-demo', 'create_time': datetime.datetime(2024, 11, 5, 21, 52, 48, 545484, tzinfo=tzutc()), 'definition': '[]'}, {'name': 'cv-retail', 'create_time': datetime.datetime(2024, 11, 4, 21, 10, 5, 287786, tzinfo=tzutc()), 'definition': '[]'}]}"
      ]
     },
     "metadata": {},
     "output_type": "display_data"
    },
    {
     "data": {
      "text/html": [
       "<table><tr><th>name</th> <td>cv-retail</td></tr><tr><th>created</th> <td>2024-11-04 21:10:05.287786+00:00</td></tr><tr><th>last_updated</th> <td>2024-11-06 17:10:42.759997+00:00</td></tr><tr><th>deployed</th> <td>False</td></tr><tr><th>workspace_id</th> <td>13</td></tr><tr><th>workspace_name</th> <td>workshop-workspace-john-cv</td></tr><tr><th>arch</th> <td>x86</td></tr><tr><th>accel</th> <td>none</td></tr><tr><th>tags</th> <td></td></tr><tr><th>versions</th> <td>d8be019e-2b7c-4c52-9e41-101b20ab0c2a, dd5e2f8a-e436-4b35-b2fb-189f6059dacc, 5a0772da-cde1-4fea-afc4-16313fcaa229, 7686f3ea-3781-4a95-aa4c-e99e46b9c47c, 4df9df54-6d12-4577-a970-f544128d0575</td></tr><tr><th>steps</th> <td>mobilenet</td></tr><tr><th>published</th> <td>False</td></tr></table>"
      ],
      "text/plain": [
       "{'name': 'cv-retail', 'create_time': datetime.datetime(2024, 11, 4, 21, 10, 5, 287786, tzinfo=tzutc()), 'definition': '[]'}"
      ]
     },
     "metadata": {},
     "output_type": "display_data"
    },
    {
     "data": {
      "text/html": [
       "<table>\n",
       "        <tr>\n",
       "          <td>Name</td>\n",
       "          <td>mobilenet</td>\n",
       "        </tr>\n",
       "        <tr>\n",
       "          <td>Version</td>\n",
       "          <td>d15d8b9d-9d98-4aa7-8545-ac915862146e</td>\n",
       "        </tr>\n",
       "        <tr>\n",
       "          <td>File Name</td>\n",
       "          <td>mobilenet.pt.onnx</td>\n",
       "        </tr>\n",
       "        <tr>\n",
       "          <td>SHA</td>\n",
       "          <td>9044c970ee061cc47e0c77e20b05e884be37f2a20aa9c0c3ce1993dbd486a830</td>\n",
       "        </tr>\n",
       "        <tr>\n",
       "          <td>Status</td>\n",
       "          <td>ready</td>\n",
       "        </tr>\n",
       "        <tr>\n",
       "          <td>Image Path</td>\n",
       "          <td>None</td>\n",
       "        </tr>\n",
       "        <tr>\n",
       "          <td>Architecture</td>\n",
       "          <td>x86</td>\n",
       "        </tr>\n",
       "        <tr>\n",
       "          <td>Acceleration</td>\n",
       "          <td>none</td>\n",
       "        </tr>\n",
       "        <tr>\n",
       "          <td>Updated At</td>\n",
       "          <td>2024-06-Nov 17:10:14</td>\n",
       "        </tr>\n",
       "        <tr>\n",
       "          <td>Workspace id</td>\n",
       "          <td>13</td>\n",
       "        </tr>\n",
       "        <tr>\n",
       "          <td>Workspace name</td>\n",
       "          <td>workshop-workspace-john-cv</td>\n",
       "        </tr>\n",
       "      </table>"
      ],
      "text/plain": [
       "{'name': 'mobilenet', 'version': 'd15d8b9d-9d98-4aa7-8545-ac915862146e', 'file_name': 'mobilenet.pt.onnx', 'image_path': None, 'arch': 'x86', 'accel': 'none', 'last_update_time': datetime.datetime(2024, 11, 6, 17, 10, 14, 651037, tzinfo=tzutc())}"
      ]
     },
     "metadata": {},
     "output_type": "display_data"
    },
    {
     "data": {
      "text/html": [
       "<table>\n",
       "        <tr>\n",
       "          <td>Name</td>\n",
       "          <td>cv-post-process-drift-detection</td>\n",
       "        </tr>\n",
       "        <tr>\n",
       "          <td>Version</td>\n",
       "          <td>a335c538-bccf-40b9-b9a4-9296f03e6eb1</td>\n",
       "        </tr>\n",
       "        <tr>\n",
       "          <td>File Name</td>\n",
       "          <td>post-process-drift-detection.zip</td>\n",
       "        </tr>\n",
       "        <tr>\n",
       "          <td>SHA</td>\n",
       "          <td>eefc55277b091dd90c45704ff51bbd68dbc0f0f7e686930c5409a606659cefcc</td>\n",
       "        </tr>\n",
       "        <tr>\n",
       "          <td>Status</td>\n",
       "          <td>ready</td>\n",
       "        </tr>\n",
       "        <tr>\n",
       "          <td>Image Path</td>\n",
       "          <td>proxy.replicated.com/proxy/wallaroo/ghcr.io/wallaroolabs/mac-deploy:v2024.2.0-5761</td>\n",
       "        </tr>\n",
       "        <tr>\n",
       "          <td>Architecture</td>\n",
       "          <td>x86</td>\n",
       "        </tr>\n",
       "        <tr>\n",
       "          <td>Acceleration</td>\n",
       "          <td>none</td>\n",
       "        </tr>\n",
       "        <tr>\n",
       "          <td>Updated At</td>\n",
       "          <td>2024-06-Nov 17:10:37</td>\n",
       "        </tr>\n",
       "        <tr>\n",
       "          <td>Workspace id</td>\n",
       "          <td>13</td>\n",
       "        </tr>\n",
       "        <tr>\n",
       "          <td>Workspace name</td>\n",
       "          <td>workshop-workspace-john-cv</td>\n",
       "        </tr>\n",
       "      </table>"
      ],
      "text/plain": [
       "{'name': 'cv-post-process-drift-detection', 'version': 'a335c538-bccf-40b9-b9a4-9296f03e6eb1', 'file_name': 'post-process-drift-detection.zip', 'image_path': 'proxy.replicated.com/proxy/wallaroo/ghcr.io/wallaroolabs/mac-deploy:v2024.2.0-5761', 'arch': 'x86', 'accel': 'none', 'last_update_time': datetime.datetime(2024, 11, 6, 17, 10, 37, 438401, tzinfo=tzutc())}"
      ]
     },
     "metadata": {},
     "output_type": "display_data"
    }
   ],
   "source": [
    "## blank space to log in \n",
    "\n",
    "wl = wallaroo.Client()\n",
    "\n",
    "# retrieve the previous workspace, model, and pipeline version\n",
    "\n",
    "workspace_name = 'workshop-workspace-john-cv'\n",
    "\n",
    "workspace = wl.get_workspace(workspace_name)\n",
    "\n",
    "# set your current workspace to the workspace that you just created\n",
    "wl.set_current_workspace(workspace)\n",
    "\n",
    "# optionally, examine your current workspace\n",
    "wl.get_current_workspace()\n",
    "\n",
    "model_name = 'mobilenet'\n",
    "\n",
    "prime_model_version = wl.get_model(model_name)\n",
    "\n",
    "module_post_process_model = wl.get_model(\"cv-post-process-drift-detection\")\n",
    "\n",
    "pipeline_name = 'cv-retail'\n",
    "\n",
    "pipeline = wl.get_pipeline(pipeline_name)\n",
    "\n",
    "# display the workspace, pipeline and model version\n",
    "display(workspace)\n",
    "display(pipeline)\n",
    "display(prime_model_version)\n",
    "display(module_post_process_model)"
   ]
  },
  {
   "cell_type": "markdown",
   "id": "5b6e0cbc",
   "metadata": {},
   "source": [
    "## Upload Challenger Models\n",
    "\n",
    "Multiple models can be uploaded to a Wallaroo workspace and deployed in a Pipeline as a `pipeline step`.  These can include pre or post processing Python steps, models that take in different input and output types, or ML models that are of totally different frameworks.\n",
    "\n",
    "For this module, we will are focuses on different models that have the same input and outputs that are compared to each other to find the \"best\" model to use.  Before we start, we'll upload another set of models that were pre-trained to provide house prices.  In 'Deploy a Model' we used the file `xgb_model.onnx` as our model.\n",
    "\n",
    "For this exercise, we will ignore the post-processing step so we can show the various examples without it.\n",
    "\n",
    "### Upload Challenger Models Exercise\n",
    "\n",
    "Upload to the workspace set in the steps above the challenger models.  The following is an example of uploading the Resnet50 model.\n",
    "\n",
    "Because image size may vary from one image to the next, converting the image to a tensor array may have a different shape from one image to the next.  For example, a 640x480 image produces an array of `[640][480][3]` for 640 rows with 480 columns each, and each pixel has 3 possible color values.\n",
    "\n",
    "Because the tensor array size may change from image to image, the model upload sets the model's batch configuration to `batch_config=\"single\"`.  See the Wallaroo [Data Schema Definitions](https://docs.wallaroo.ai/wallaroo-developer-guides/wallaroo-developer-helper-guides/wallaroo-data-schema-guide/) for more details.\n",
    "\n",
    "```python\n",
    "cv_resnet_version = (wl.upload_model('resnet50',\n",
    "                                    '../models/frcnn-resnet.pt.onnx',\n",
    "                                    framework=wallaroo.framework.Framework.ONNX)\n",
    "                                    .configure(tensor_fields=[\"tensor\"],\n",
    "                                               batch_config=\"single\"\n",
    "                                               )\n",
    "                    )\n",
    "```"
   ]
  },
  {
   "cell_type": "code",
   "execution_count": null,
   "id": "19ddaad7",
   "metadata": {},
   "outputs": [],
   "source": [
    "## blank space to upload the resnet50 model\n",
    "\n",
    "cv_resnet_version = (wl.upload_model('resnet50',\n",
    "                                    '../models/frcnn-resnet.pt.onnx',\n",
    "                                    framework=wallaroo.framework.Framework.ONNX)\n",
    "                                    .configure(tensor_fields=[\"tensor\"],\n",
    "                                               batch_config=\"single\"\n",
    "                                               )\n",
    "                    )"
   ]
  },
  {
   "cell_type": "code",
   "execution_count": 7,
   "id": "c5824795",
   "metadata": {},
   "outputs": [
    {
     "data": {
      "text/html": [
       "<table>\n",
       "        <tr>\n",
       "          <td>Name</td>\n",
       "          <td>resnet50</td>\n",
       "        </tr>\n",
       "        <tr>\n",
       "          <td>Version</td>\n",
       "          <td>ed3e02f8-4fbe-4e18-96dc-cd0cba7b1e79</td>\n",
       "        </tr>\n",
       "        <tr>\n",
       "          <td>File Name</td>\n",
       "          <td>frcnn-resnet.pt.onnx</td>\n",
       "        </tr>\n",
       "        <tr>\n",
       "          <td>SHA</td>\n",
       "          <td>43326e50af639105c81372346fb9ddf453fea0fe46648b2053c375360d9c1647</td>\n",
       "        </tr>\n",
       "        <tr>\n",
       "          <td>Status</td>\n",
       "          <td>ready</td>\n",
       "        </tr>\n",
       "        <tr>\n",
       "          <td>Image Path</td>\n",
       "          <td>None</td>\n",
       "        </tr>\n",
       "        <tr>\n",
       "          <td>Architecture</td>\n",
       "          <td>x86</td>\n",
       "        </tr>\n",
       "        <tr>\n",
       "          <td>Acceleration</td>\n",
       "          <td>none</td>\n",
       "        </tr>\n",
       "        <tr>\n",
       "          <td>Updated At</td>\n",
       "          <td>2024-06-Nov 17:17:30</td>\n",
       "        </tr>\n",
       "        <tr>\n",
       "          <td>Workspace id</td>\n",
       "          <td>13</td>\n",
       "        </tr>\n",
       "        <tr>\n",
       "          <td>Workspace name</td>\n",
       "          <td>workshop-workspace-john-cv</td>\n",
       "        </tr>\n",
       "      </table>"
      ],
      "text/plain": [
       "{'name': 'resnet50', 'version': 'ed3e02f8-4fbe-4e18-96dc-cd0cba7b1e79', 'file_name': 'frcnn-resnet.pt.onnx', 'image_path': None, 'arch': 'x86', 'accel': 'none', 'last_update_time': datetime.datetime(2024, 11, 6, 17, 17, 30, 467944, tzinfo=tzutc())}"
      ]
     },
     "metadata": {},
     "output_type": "display_data"
    }
   ],
   "source": [
    "display(cv_resnet_version)"
   ]
  },
  {
   "cell_type": "markdown",
   "id": "f795f5bb-b8e8-4826-932e-a2a4dd8204b2",
   "metadata": {},
   "source": [
    "## A/B Pipeline Steps\n",
    "\n",
    "An [A/B test](https://en.wikipedia.org/wiki/A/B_testing), also called a controlled experiment or a randomized control trial, is a statistical method of determining which of a set of variants is the best. A/B tests allow organizations and policy-makers to make smarter, data-driven decisions that are less dependent on guesswork.\n",
    "\n",
    "In the simplest version of an A/B test, subjects are randomly assigned to either the **_control group_** (group A) or the **_treatment group_** (group B). Subjects in the treatment group receive the treatment (such as a new medicine, a special offer, or a new web page design) while the control group proceeds as normal without the treatment. Data is then collected on the outcomes and used to study the effects of the treatment.\n",
    "\n",
    "In data science, A/B tests are often used to choose between two or more candidate models in production, by measuring which model performs best in the real world. In this formulation, the control is often an existing model that is currently in production, sometimes called the **_champion_**. The treatment is a new model being considered to replace the old one. This new model is sometimes called the **_challenger_**. In our discussion, we'll use the terms *champion* and *challenger*, rather than *control* and *treatment*.\n",
    "\n",
    "When data is sent to a Wallaroo A/B test pipeline for inference, each datum is randomly sent to either the champion or challenger. After enough data has been sent to collect statistics on all the models in the A/B test pipeline, then those outcomes can be analyzed to determine the difference (if any) in the performance of the champion and challenger. Usually, the purpose of an A/B test is to decide whether or not to replace the champion with the challenger.\n",
    "\n",
    "Keep in mind that in machine learning, the terms experiments and trials also often refer to the process of finding a training configuration that works best for the problem at hand (this is sometimes called hyperparameter optimization). In this guide, we will use the term experiment to refer to the use of A/B tests to compare the performance of different models in production.\n",
    "\n",
    "There are a number of considerations to designing an A/B test; you can check out the article [*The What, Why, and How of A/B Testing*](https://wallarooai.medium.com/the-what-why-and-how-of-a-b-testing-64471847cd7e) for more details. In these exercises, we will concentrate on the deployment aspects.  You will need a champion model and  at least one challenger model. You also need to decide on a data split: for example 50-50 between the champion and challenger, or a 2:1 ratio between champion and challenger (two-thirds of the data to the champion, one-third to the challenger).\n",
    "\n",
    "As an example of creating an A/B test deployment, suppose you have a champion model called \"champion\", that you have been running in a one-step pipeline called \"pipeline\". You now want to compare it to a challenger model called \"challenger\". For your A/B test, you will send two-thirds of the data to the champion, and the other third to the challenger. Both models have already been uploaded.\n",
    "\n",
    "A/B pipeline steps are created with one of the two following commands:\n",
    "\n",
    "* `wallaroo.pipeline.add_random_split([(weight1, model1), (weight2, model2)...])`: Create a new A/B Pipeline Step with the provided models and weights.\n",
    "* `wallaroo.pipeline.replace_with_random_split(index, [(weight1, model1), (weight2, model2)...])`: Replace an existing Pipeline step with an A/B pipeline step at the specified index.\n",
    "\n",
    "For A/B testing, pipeline steps are **added** or **replace** an existing step.\n",
    "\n",
    "To **add** a A/B testing step use the Pipeline `add_random_split` method with the following parameters:\n",
    "\n",
    "| Parameter | Type | Description |\n",
    "| --- | --- | ---|\n",
    "| **champion_weight** | Float (Required) | The weight for the champion model. |\n",
    "| **champion_model** | Wallaroo.Model (Required) | The uploaded champion model. |\n",
    "| **challenger_weight** | Float (Required) | The weight of the challenger model. |\n",
    "| **challenger_model** | Wallaroo.Model (Required) | The uploaded challenger model. |\n",
    "| **hash_key** | String(Optional) | A key used instead of a random number for model selection.  This must be between 0.0 and 1.0. |\n",
    "\n",
    "\n",
    "Note that multiple challenger models with different weights can be added as the random split step.\n",
    "\n",
    "In this example, a pipeline will be built with a 2:1 weighted ratio between the champion and a single challenger model.\n",
    "\n",
    "```python\n",
    "pipeline.add_random_split([(2, control), (1, challenger)]))\n",
    "```\n",
    "\n",
    "To **replace** an existing pipeline step with an A/B testing step use the Pipeline `replace_with_random_split` method.\n",
    "\n",
    "| Parameter | Type | Description |\n",
    "| --- | --- | ---|\n",
    "| **index** | Integer (Required) | The pipeline step being replaced. |\n",
    "| **champion_weight** | Float (Required) | The weight for the champion model. |\n",
    "| **champion_model** | Wallaroo.Model (Required) | The uploaded champion model. |\n",
    "| **challenger_weight** | Float (Required) | The weight of the challenger model. |\n",
    "| **challenger_model** | Wallaroo.Model (Required) | The uploaded challenger model. |\n",
    "| **hash_key** | String(Optional) | A key used instead of a random number for model selection.  This must be between 0.0 and 1.0. |\n",
    "\n",
    "This example replaces the first pipeline step with a 2:1 champion to challenger radio.\n",
    "\n",
    "```python\n",
    "pipeline.replace_with_random_split(0,[(2, control), (1, challenger)]))\n",
    "```\n",
    "\n",
    "In either case, the random split will randomly send inference data to one model based on the weighted ratio.  As more inferences are performed, the ratio between the champion and challengers will align more and more to the ratio specified.\n",
    "\n",
    "Reference:  [Wallaroo SDK Essentials Guide: Pipeline Management A/B Testing](https://docs.wallaroo.ai/wallaroo-developer-guides/wallaroo-sdk-guides/wallaroo-sdk-essentials-guide/wallaroo-sdk-essentials-pipeline/#ab-testing).\n",
    "\n",
    "Each model receives inputs that are approximately proportional to the weight it is assigned. For example, with two models having weights 1 and 1, each will receive roughly equal amounts of inference inputs. If the weights were changed to 1 and 2, the models would receive roughly 33% and 66% respectively instead.\n",
    "\n",
    "When choosing the model to use, a random number between 0.0 and 1.0 is generated. The weighted inputs are mapped to that range, and the random input is then used to select the model to use. For example, for the two-models equal-weight case, a random key of 0.4 would route to the first model, 0.6 would route to the second.\n",
    "\n",
    "Models used for A/B pipeline steps should have the **same** inputs and outputs to accurately compare each other.\n",
    "\n",
    "Reference:  [Wallaroo SDK Essentials Guide: Pipeline Management](https://docs.wallaroo.ai/wallaroo-developer-guides/wallaroo-sdk-guides/wallaroo-sdk-essentials-guide/wallaroo-sdk-essentials-pipeline/).\n",
    "\n",
    "### A/B Pipeline Steps Exercise\n",
    "\n",
    "Create an A/B pipeline step with the uploaded model versions using the `wallaroo.pipeline.add_random_split` method.  Since we have 3 models, apply a 2:1:1 ratio to the control:challenger1:challenger2 models.  For this exercise, we will not use the post processing model we uploaded in the previous notebook.\n",
    "\n",
    "Since this pipeline was used in the previous notebook, use the `wallaroo.pipeline.clear()` method to clear all of the previous steps before adding the new one.  Recall that pipeline steps are not saved from the Notebook to the Wallaroo instance until the `wallaroo.pipeline.deploy(deployment_configuration)` method is applied.\n",
    "\n",
    "One done, deploy the pipeline with `deploy_config = wallaroo.DeploymentConfigBuilder().replica_count(1).cpus(0.5).memory(\"1Gi\").build()`.\n",
    "\n",
    "Here's an example of adding our A/B pipeline step and deploying it.\n",
    "\n",
    "```python\n",
    "pipeline.undeploy()\n",
    "pipeline.clear()\n",
    "pipeline.add_random_split([(2, prime_model_version), (1, cv_resnet_version)])\n",
    "\n",
    "deploy_config = wallaroo.DeploymentConfigBuilder().replica_count(2).cpus(1).memory(\"2Gi\").build()\n",
    "pipeline.deploy(deployment_config=deploy_config)\n",
    "```"
   ]
  },
  {
   "cell_type": "code",
   "execution_count": null,
   "id": "c593fdde",
   "metadata": {},
   "outputs": [],
   "source": [
    "# run this to set the deployment configuration\n",
    "\n",
    "deploy_config = wallaroo.DeploymentConfigBuilder().replica_count(2).cpus(1).memory(\"2Gi\").build()"
   ]
  },
  {
   "cell_type": "code",
   "execution_count": null,
   "id": "95b4590b",
   "metadata": {},
   "outputs": [
    {
     "data": {
      "text/html": [
       "<table><tr><th>name</th> <td>cv-retail</td></tr><tr><th>created</th> <td>2024-11-04 21:10:05.287786+00:00</td></tr><tr><th>last_updated</th> <td>2024-11-06 17:17:32.324401+00:00</td></tr><tr><th>deployed</th> <td>True</td></tr><tr><th>workspace_id</th> <td>13</td></tr><tr><th>workspace_name</th> <td>workshop-workspace-john-cv</td></tr><tr><th>arch</th> <td>x86</td></tr><tr><th>accel</th> <td>none</td></tr><tr><th>tags</th> <td></td></tr><tr><th>versions</th> <td>42c8d366-583d-44f4-ac4b-513103b5902c, d8be019e-2b7c-4c52-9e41-101b20ab0c2a, dd5e2f8a-e436-4b35-b2fb-189f6059dacc, 5a0772da-cde1-4fea-afc4-16313fcaa229, 7686f3ea-3781-4a95-aa4c-e99e46b9c47c, 4df9df54-6d12-4577-a970-f544128d0575</td></tr><tr><th>steps</th> <td>mobilenet</td></tr><tr><th>published</th> <td>False</td></tr></table>"
      ],
      "text/plain": [
       "{'name': 'cv-retail', 'create_time': datetime.datetime(2024, 11, 4, 21, 10, 5, 287786, tzinfo=tzutc()), 'definition': \"[{'RandomSplit': {'hash_key': None, 'weights': [{'model': {'name': 'mobilenet', 'version': 'd15d8b9d-9d98-4aa7-8545-ac915862146e', 'sha': '9044c970ee061cc47e0c77e20b05e884be37f2a20aa9c0c3ce1993dbd486a830'}, 'weight': 2}, {'model': {'name': 'resnet50', 'version': 'ed3e02f8-4fbe-4e18-96dc-cd0cba7b1e79', 'sha': '43326e50af639105c81372346fb9ddf453fea0fe46648b2053c375360d9c1647'}, 'weight': 1}]}}]\"}"
      ]
     },
     "execution_count": 8,
     "metadata": {},
     "output_type": "execute_result"
    }
   ],
   "source": [
    "## blank space to deploy the pipeline\n",
    "\n",
    "pipeline.undeploy()\n",
    "pipeline.clear()\n",
    "pipeline.add_random_split([(2, prime_model_version), (1, cv_resnet_version)])\n",
    "\n",
    "\n",
    "pipeline.deploy(deployment_config=deploy_config)"
   ]
  },
  {
   "cell_type": "markdown",
   "id": "16f7d416",
   "metadata": {},
   "source": [
    "The pipeline steps are displayed with the Pipeline `steps()` method.  This is used to verify the current **deployed** steps in the pipeline.\n",
    "\n",
    "* **IMPORTANT NOTE**: Verify that the pipeline is deployed before checking for pipeline steps.  Deploying the pipeline sets the steps into the Wallaroo system - until that happens, the steps only exist in the local system as *potential* steps."
   ]
  },
  {
   "cell_type": "code",
   "execution_count": null,
   "id": "90bbef0a",
   "metadata": {},
   "outputs": [
    {
     "data": {
      "text/plain": [
       "[{'RandomSplit': {'hash_key': None, 'weights': [{'model': {'name': 'mobilenet', 'version': 'd15d8b9d-9d98-4aa7-8545-ac915862146e', 'sha': '9044c970ee061cc47e0c77e20b05e884be37f2a20aa9c0c3ce1993dbd486a830'}, 'weight': 2}, {'model': {'name': 'resnet50', 'version': 'ed3e02f8-4fbe-4e18-96dc-cd0cba7b1e79', 'sha': '43326e50af639105c81372346fb9ddf453fea0fe46648b2053c375360d9c1647'}, 'weight': 1}]}}]"
      ]
     },
     "execution_count": 9,
     "metadata": {},
     "output_type": "execute_result"
    }
   ],
   "source": [
    "## blank space to get the current pipeline steps\n",
    "\n",
    "pipeline.steps()"
   ]
  },
  {
   "cell_type": "markdown",
   "id": "300a8d2a-58ee-44c5-b887-65f8da999fa3",
   "metadata": {},
   "source": [
    "## A/B Pipeline Inferences\n",
    "\n",
    "Inferences through pipelines that have A/B steps is the same any other pipeline:  use either `wallaroo.pipeline.infer(pandas record|Apache Arrow)` or `wallaroo.pipeline.infer_from_file(path)`.  The distinction is that inference data will randomly be assigned to one of the models in the A/B pipeline step based on the weighted ratio pattens.\n",
    "\n",
    "The output is the same as any other inference request, with one difference:  the `out._model_split` field that lists which model version was used for the model split step.  Here's an example:\n",
    "\n",
    "```python\n",
    "single_result = pipeline.infer_from_file('./data/singleton.df.json')\n",
    "display(single_result)\n",
    "```\n",
    "\n",
    "|&nbsp;|out._model_split|out.variable|\n",
    "|---|---|---|\n",
    "|0|[{\"name\":\"house-price-prime\",\"version\":\"69f344e6-2ab5-47e8-82a6-030e328c8d35\",\"sha\":\"31e92d6ccb27b041a324a7ac22cf95d9d6cc3aa7e8263a229f7c4aec4938657c\"}]|[2176827.0]|\n",
    "\n",
    "Please note that for batch inferences, the entire batch will be sent to the same model. So in order to verify that your pipeline is distributing inferences in the proportion you specified, you will need to send your queries one datum at a time.  This example has 4,000 rows of data submitted in one batch as an inference request.  Note that the same model is listed in the `out._model_split` field.\n",
    "\n",
    "```python\n",
    "multiple_result = pipeline.infer_from_file('../data/test_data.df.json')\n",
    "display(multiple_result.head(10).loc[:, ['out._model_split', 'out.variable']])\n",
    "```\n",
    "\n",
    "|&nbsp;|out._model_split|out.variable|\n",
    "|---|---|---|\n",
    "|0|[{\"name\":\"house-price-rf-model\",\"version\":\"616c2306-bf93-417b-9656-37bee6f14379\",\"sha\":\"e22a0831aafd9917f3cc87a15ed267797f80e2afa12ad7d8810ca58f173b8cc6\"}]|[718013.7]|\n",
    "|1|[{\"name\":\"house-price-rf-model\",\"version\":\"616c2306-bf93-417b-9656-37bee6f14379\",\"sha\":\"e22a0831aafd9917f3cc87a15ed267797f80e2afa12ad7d8810ca58f173b8cc6\"}]|[615094.6]|\n",
    "|2|[{\"name\":\"house-price-rf-model\",\"version\":\"616c2306-bf93-417b-9656-37bee6f14379\",\"sha\":\"e22a0831aafd9917f3cc87a15ed267797f80e2afa12ad7d8810ca58f173b8cc6\"}]|[448627.8]|\n",
    "|3|[{\"name\":\"house-price-rf-model\",\"version\":\"616c2306-bf93-417b-9656-37bee6f14379\",\"sha\":\"e22a0831aafd9917f3cc87a15ed267797f80e2afa12ad7d8810ca58f173b8cc6\"}]|[758714.3]|\n",
    "|4|[{\"name\":\"house-price-rf-model\",\"version\":\"616c2306-bf93-417b-9656-37bee6f14379\",\"sha\":\"e22a0831aafd9917f3cc87a15ed267797f80e2afa12ad7d8810ca58f173b8cc6\"}]|[513264.66]|\n",
    "|5|[{\"name\":\"house-price-rf-model\",\"version\":\"616c2306-bf93-417b-9656-37bee6f14379\",\"sha\":\"e22a0831aafd9917f3cc87a15ed267797f80e2afa12ad7d8810ca58f173b8cc6\"}]|[668287.94]|\n",
    "|6|[{\"name\":\"house-price-rf-model\",\"version\":\"616c2306-bf93-417b-9656-37bee6f14379\",\"sha\":\"e22a0831aafd9917f3cc87a15ed267797f80e2afa12ad7d8810ca58f173b8cc6\"}]|[1004846.56]|\n",
    "|7|[{\"name\":\"house-price-rf-model\",\"version\":\"616c2306-bf93-417b-9656-37bee6f14379\",\"sha\":\"e22a0831aafd9917f3cc87a15ed267797f80e2afa12ad7d8810ca58f173b8cc6\"}]|[684577.25]|\n",
    "|8|[{\"name\":\"house-price-rf-model\",\"version\":\"616c2306-bf93-417b-9656-37bee6f14379\",\"sha\":\"e22a0831aafd9917f3cc87a15ed267797f80e2afa12ad7d8810ca58f173b8cc6\"}]|[727898.25]|\n",
    "|9|[{\"name\":\"house-price-rf-model\",\"version\":\"616c2306-bf93-417b-9656-37bee6f14379\",\"sha\":\"e22a0831aafd9917f3cc87a15ed267797f80e2afa12ad7d8810ca58f173b8cc6\"}]|[559631.06]|\n",
    "\n",
    "To help with the next exercise, here is another convenience function you might find useful.  It takes the inference result and returns the model version used in the A/B Testing step.\n",
    "\n",
    "Run the cell block below before going on to the exercise."
   ]
  },
  {
   "cell_type": "code",
   "execution_count": null,
   "id": "41df523d-b4bd-441c-a1ac-364828879019",
   "metadata": {},
   "outputs": [],
   "source": [
    "# run this to derive which model was used for the inference request\n",
    "\n",
    "# get the names of the inferring models\n",
    "# from a dataframe of a/b test results\n",
    "def get_names(resultframe):\n",
    "    modelcol = resultframe['out._model_split']\n",
    "    jsonstrs = [mod[0]  for mod in modelcol]\n",
    "    return [json.loads(jstr)['model_version']['name'] for jstr in jsonstrs]"
   ]
  },
  {
   "cell_type": "markdown",
   "id": "a6ab4374",
   "metadata": {},
   "source": [
    "### A/B Pipeline Inferences Exercise\n",
    "\n",
    "Perform a set of inferences with the same data, and show the model version used for the A/B Testing step.  Here's an example.\n",
    "\n",
    "```python\n",
    "for x in range(10):\n",
    "    single_result = my_pipeline.infer_from_file('./data/singleton.df.json')\n",
    "    display(\"{single_result.loc[0, 'out.variable']}\")\n",
    "    display(get_names(single_result))\n",
    "```"
   ]
  },
  {
   "cell_type": "code",
   "execution_count": null,
   "id": "f6205bc1",
   "metadata": {},
   "outputs": [],
   "source": [
    "# run this to convert the image to dataframe\n",
    "\n",
    "width, height = 640, 480\n",
    "dfImage, resizedImage = utils.loadImageAndConvertToDataframe('../data/images/example/dairy_bottles.png', width, height)"
   ]
  },
  {
   "cell_type": "code",
   "execution_count": null,
   "id": "5bd82554",
   "metadata": {},
   "outputs": [
    {
     "data": {
      "text/plain": [
       "['mobilenet']"
      ]
     },
     "metadata": {},
     "output_type": "display_data"
    },
    {
     "data": {
      "text/plain": [
       "['resnet50']"
      ]
     },
     "metadata": {},
     "output_type": "display_data"
    },
    {
     "data": {
      "text/plain": [
       "['mobilenet']"
      ]
     },
     "metadata": {},
     "output_type": "display_data"
    },
    {
     "data": {
      "text/plain": [
       "['mobilenet']"
      ]
     },
     "metadata": {},
     "output_type": "display_data"
    },
    {
     "data": {
      "text/plain": [
       "['resnet50']"
      ]
     },
     "metadata": {},
     "output_type": "display_data"
    },
    {
     "data": {
      "text/plain": [
       "['mobilenet']"
      ]
     },
     "metadata": {},
     "output_type": "display_data"
    },
    {
     "data": {
      "text/plain": [
       "['mobilenet']"
      ]
     },
     "metadata": {},
     "output_type": "display_data"
    },
    {
     "data": {
      "text/plain": [
       "['mobilenet']"
      ]
     },
     "metadata": {},
     "output_type": "display_data"
    },
    {
     "data": {
      "text/plain": [
       "['mobilenet']"
      ]
     },
     "metadata": {},
     "output_type": "display_data"
    },
    {
     "data": {
      "text/plain": [
       "['resnet50']"
      ]
     },
     "metadata": {},
     "output_type": "display_data"
    }
   ],
   "source": [
    "## blank space to run an inference and see which model was used\n",
    "\n",
    "for x in range(10):\n",
    "    single_result = pipeline.infer(dfImage, timeout=300)\n",
    "    display(get_names(single_result))\n"
   ]
  },
  {
   "cell_type": "markdown",
   "id": "4b0d8f88-8cb0-464c-97f0-d4b087ecb6d9",
   "metadata": {},
   "source": [
    "## Shadow Deployments\n",
    "\n",
    "Another way to vet your new model is to set it up in a shadow deployment. With shadow deployments, all the models in the experiment pipeline get all the data, and all inferences are recorded. However, the pipeline returns only one \"official\" prediction: the one from default, or champion model.\n",
    "\n",
    "Shadow deployments are useful for \"sanity checking\" a model before it goes truly live. For example, you might have built a smaller, leaner version of an existing model using knowledge distillation or other model optimization techniques, as discussed [here](https://wallaroo.ai/how-to-accelerate-computer-vision-model-inference/). A shadow deployment of the new model alongside the original model can help ensure that the new model meets desired accuracy and performance requirements before it's put into production.\n",
    "\n",
    "As an example of creating a shadow deployment, suppose you have a champion model called \"champion\", that you have been running in a one-step pipeline called \"pipeline\". You now want to put a challenger model called \"challenger\" into a shadow deployment with the champion. Both models have already been uploaded. \n",
    "\n",
    "Shadow deployments can be **added** as a pipeline step, or **replace** an existing pipeline step.\n",
    "\n",
    "Shadow deployment steps are added with the `add_shadow_deploy(champion, [model2, model3,...])` method, where the `champion` is the model that the inference results will be returned.  The array of models listed after are the models where inference data is also submitted with their results displayed as as shadow inference results.\n",
    "\n",
    "Shadow deployment steps replace an existing pipeline step with the  `replace_with_shadow_deploy(index, champion, [model2, model3,...])` method.  The `index` is the step being replaced with pipeline steps starting at 0, and the `champion` is the model that the inference results will be returned.  The array of models listed after are the models where inference data is also submitted with their results displayed as as shadow inference results.\n",
    "\n",
    "Then creating a shadow deployment from a previously created (and deployed) pipeline could look something like this:\n",
    "\n",
    "```python\n",
    "# retrieve handles to the most recent versions \n",
    "# of the champion and challenger models\n",
    "# see the A/B test section for the definition of get_model()\n",
    "champion = get_model(\"champion\")\n",
    "challenger = get_model(\"challenger\")\n",
    "\n",
    "# get the existing pipeline and undeploy it\n",
    "# see the A/B test section for the definition of get_pipeline()\n",
    "pipeline = get_pipeline(\"pipeline\")\n",
    "pipeline.undeploy()\n",
    "\n",
    "# clear the pipeline and add a shadow deploy step\n",
    "pipeline.clear()\n",
    "pipeline.add_shadow_deploy(champion, [challenger])\n",
    "pipeline.deploy()\n",
    "```\n",
    "\n",
    "The above code clears the pipeline and adds a shadow deployment. The pipeline will still only return the inferences from the champion model, but it will also run the challenger model in parallel and log the inferences, so that you can compare what all the models do on the same inputs.\n",
    "\n",
    "You can add multiple challengers to a shadow deploy:\n",
    "\n",
    "```python\n",
    "pipeline.add_shadow_deploy(champion, [challenger01, challenger02])\n",
    "```\n",
    "\n",
    "You can also create a shadow deployment from scratch with a new pipeline.  This example just uses two models - one champion, one challenger.\n",
    "\n",
    "```python\n",
    "newpipeline = wl.build_pipeline(\"pipeline\")\n",
    "newpipeline.add_shadow_deploy(champion, [challenger])\n",
    "```\n",
    "\n",
    "### Shadow Deployments Exercise\n",
    "\n",
    "Use the champion and challenger models that you created in the previous exercises to create a shadow deployment. You can either create one from scratch, or reconfigure an existing pipeline.\n",
    "\n",
    "At the end of this exercise, you should have a shadow deployment running multiple models in parallel.\n",
    "\n",
    "Here's an example:\n",
    "\n",
    "```python\n",
    "pipeline.undeploy()\n",
    "\n",
    "pipeline.clear()\n",
    "pipeline.add_shadow_deploy(prime_model_version, \n",
    "                           [house_price_rf_model_version, \n",
    "                            house_price_gbr_model_version]\n",
    "                        )\n",
    "\n",
    "deploy_config = wallaroo.DeploymentConfigBuilder().replica_count(1).cpus(0.5).memory(\"1Gi\").build()\n",
    "pipeline.deploy(deployment_config=deploy_config)\n",
    "```"
   ]
  },
  {
   "cell_type": "code",
   "execution_count": null,
   "id": "6ec27c70-e858-405a-9ff1-1909c08bff4d",
   "metadata": {},
   "outputs": [
    {
     "data": {
      "text/html": [
       "<table><tr><th>name</th> <td>cv-retail</td></tr><tr><th>created</th> <td>2024-11-04 21:10:05.287786+00:00</td></tr><tr><th>last_updated</th> <td>2024-11-06 17:19:55.005755+00:00</td></tr><tr><th>deployed</th> <td>True</td></tr><tr><th>workspace_id</th> <td>13</td></tr><tr><th>workspace_name</th> <td>workshop-workspace-john-cv</td></tr><tr><th>arch</th> <td>x86</td></tr><tr><th>accel</th> <td>none</td></tr><tr><th>tags</th> <td></td></tr><tr><th>versions</th> <td>44ff0494-e30a-4a93-b5e3-4ce90b1b2368, 42c8d366-583d-44f4-ac4b-513103b5902c, d8be019e-2b7c-4c52-9e41-101b20ab0c2a, dd5e2f8a-e436-4b35-b2fb-189f6059dacc, 5a0772da-cde1-4fea-afc4-16313fcaa229, 7686f3ea-3781-4a95-aa4c-e99e46b9c47c, 4df9df54-6d12-4577-a970-f544128d0575</td></tr><tr><th>steps</th> <td>mobilenet</td></tr><tr><th>published</th> <td>False</td></tr></table>"
      ],
      "text/plain": [
       "{'name': 'cv-retail', 'create_time': datetime.datetime(2024, 11, 4, 21, 10, 5, 287786, tzinfo=tzutc()), 'definition': \"[{'ModelInference': {'models': [{'name': 'mobilenet', 'version': 'd15d8b9d-9d98-4aa7-8545-ac915862146e', 'sha': '9044c970ee061cc47e0c77e20b05e884be37f2a20aa9c0c3ce1993dbd486a830'}, {'name': 'resnet50', 'version': 'ed3e02f8-4fbe-4e18-96dc-cd0cba7b1e79', 'sha': '43326e50af639105c81372346fb9ddf453fea0fe46648b2053c375360d9c1647'}]}}, {'AuditResults': {'from': 1, 'to': None}}, {'MultiOut': {}}]\"}"
      ]
     },
     "execution_count": 13,
     "metadata": {},
     "output_type": "execute_result"
    }
   ],
   "source": [
    "## blank space to create a shadow deployment\n",
    "\n",
    "pipeline.undeploy()\n",
    "\n",
    "pipeline.clear()\n",
    "pipeline.add_shadow_deploy(prime_model_version, \n",
    "                           [cv_resnet_version]\n",
    "                        )\n",
    "\n",
    "deploy_config = wallaroo.DeploymentConfigBuilder().replica_count(1).cpus(1).memory(\"2Gi\").build()\n",
    "pipeline.deploy(deployment_config=deploy_config)"
   ]
  },
  {
   "cell_type": "markdown",
   "id": "95b93beb-72a8-4075-a70b-6e474ad60b53",
   "metadata": {},
   "source": [
    "## Shadow Deploy Inference\n",
    "\n",
    "Since a shadow deployment returns multiple predictions for a single datum, its inference result will look a little different from those of an A/B test or a single-step pipeline. The next exercise will show you how to examine all the inferences from all the models.\n",
    "\n",
    "Model outputs are listed by column based on the model’s outputs. The output data is set by the term out, followed by the name of the model. For the default model, this is out.{variable_name}, while the shadow deployed models are in the format out_{model name}.variable, where {model name} is the name of the shadow deployed model.\n",
    "\n",
    "Here's an example with the models `ccfraudrf` and `ccfraudxgb`.\n",
    "\n",
    "```python\n",
    "sample_data_file = './smoke_test.df.json'\n",
    "response = pipeline.infer_from_file(sample_data_file)\n",
    "```\n",
    "\n",
    "| | time | in.tensor | out.dense_1 | anomaly.count | out_ccfraudrf.variable | out_ccfraudxgb.variable\n",
    "|---|---|---|---|---|---|---|\n",
    "|0 | 2023-03-03 17:35:28.859 | [1.0678324729, 0.2177810266, -1.7115145262, 0.682285721, 1.0138553067, -0.4335000013, 0.7395859437, -0.2882839595, -0.447262688, 0.5146124988, 0.3791316964, 0.5190619748, -0.4904593222, 1.1656456469, -0.9776307444, -0.6322198963, -0.6891477694, 0.1783317857, 0.1397992467, -0.3554220649, 0.4394217877, 1.4588397512, -0.3886829615, 0.4353492889, 1.7420053483, -0.4434654615, -0.1515747891, -0.2668451725, -1.4549617756] | [0.0014974177] | 0 | [1.0] | [0.0005066991]\n",
    "\n",
    "### Shadow Deploy Inference Exercise\n",
    "\n",
    "Use the test data that from the previous exercise to send a single datum to the shadow deployment that you created in the previous exercise.  View the outputs from each of the shadow deployed models.\n",
    "\n",
    "```python\n",
    "single_result = pipeline.infer(dfImage)\n",
    "display(single_result.columns)\n",
    "display(single_result.loc[:, ['time', 'out.confidences', 'out_resnet50.confidences']])\n",
    "```"
   ]
  },
  {
   "cell_type": "code",
   "execution_count": null,
   "id": "40438710-16eb-4eee-9129-c3b1d6241db8",
   "metadata": {},
   "outputs": [
    {
     "data": {
      "text/plain": [
       "Index(['time', 'in.tensor', 'out.boxes', 'out.classes', 'out.confidences',\n",
       "       'out_resnet50.boxes', 'out_resnet50.classes',\n",
       "       'out_resnet50.confidences', 'anomaly.count'],\n",
       "      dtype='object')"
      ]
     },
     "metadata": {},
     "output_type": "display_data"
    },
    {
     "data": {
      "text/html": [
       "<div>\n",
       "<style scoped>\n",
       "    .dataframe tbody tr th:only-of-type {\n",
       "        vertical-align: middle;\n",
       "    }\n",
       "\n",
       "    .dataframe tbody tr th {\n",
       "        vertical-align: top;\n",
       "    }\n",
       "\n",
       "    .dataframe thead th {\n",
       "        text-align: right;\n",
       "    }\n",
       "</style>\n",
       "<table border=\"1\" class=\"dataframe\">\n",
       "  <thead>\n",
       "    <tr style=\"text-align: right;\">\n",
       "      <th></th>\n",
       "      <th>time</th>\n",
       "      <th>out.confidences</th>\n",
       "      <th>out_resnet50.confidences</th>\n",
       "    </tr>\n",
       "  </thead>\n",
       "  <tbody>\n",
       "    <tr>\n",
       "      <th>0</th>\n",
       "      <td>2024-11-06 17:20:14.133</td>\n",
       "      <td>[0.98649, 0.9011532, 0.60778517, 0.59223205, 0.5372905, 0.45131725, 0.43728545, 0.43094012, 0.4084839, 0.39185297, 0.3575915, 0.3181277, 0.26451308, 0.23062897, 0.20482065, 0.17462116, 0.1731389, 0.15999581, 0.14913803, 0.13664009, 0.13322681, 0.122187145, 0.121301256, 0.11956108, 0.11527808, 0.096163526, 0.08654825, 0.078407295, 0.07234078, 0.062820956, 0.052787986]</td>\n",
       "      <td>[0.99653566, 0.98834014, 0.9700247, 0.9696427, 0.96478057, 0.9603758, 0.954289, 0.94675404, 0.9465238, 0.9448496, 0.9361184, 0.9165347, 0.9133636, 0.8874812, 0.84405905, 0.8255258, 0.82326967, 0.81740046, 0.7956523, 0.786691, 0.77314925, 0.7519371, 0.7360916, 0.7009188, 0.69323534, 0.65077204, 0.6324361, 0.57877594, 0.50234777, 0.5016371, 0.44628528, 0.42804465, 0.4253792, 0.39086208, 0.3683642, 0.34732366, 0.32950637, 0.31053758, 0.29076344, 0.2855828, 0.26680017, 0.2630282, 0.25444356, 0.24568674, 0.23536639, 0.23322025, 0.2261301, 0.22483175, 0.22332409, 0.21443012, 0.20122276, 0.19754848, 0.19439594, 0.19083925, 0.18713945, 0.17646053, 0.16628958, 0.1632627, 0.14825232, 0.13694574, 0.12920633, 0.12815341, 0.12235768, 0.121289544, 0.11628082, 0.11498631, 0.11184822, 0.11016109, 0.10950601, 0.103915036, 0.10385681, 0.09757365, 0.096320644, 0.095576145, 0.09159923, 0.09062032, 0.08262369, 0.08223515, 0.079939224, 0.07989171, 0.07875854, 0.07820149, 0.07737921, 0.07690236, 0.075934514, 0.075033985, 0.07482603, 0.06898107, 0.06841154, 0.0676417, 0.06575051, 0.06490862, 0.061884128, 0.060101308, 0.05788736, 0.057176687, 0.05661653, 0.05601707, 0.054583132, 0.0536695]</td>\n",
       "    </tr>\n",
       "  </tbody>\n",
       "</table>\n",
       "</div>"
      ],
      "text/plain": [
       "                     time  \\\n",
       "0 2024-11-06 17:20:14.133   \n",
       "\n",
       "                                                                                                                                                                                                                                                                                                                                                                     out.confidences  \\\n",
       "0  [0.98649, 0.9011532, 0.60778517, 0.59223205, 0.5372905, 0.45131725, 0.43728545, 0.43094012, 0.4084839, 0.39185297, 0.3575915, 0.3181277, 0.26451308, 0.23062897, 0.20482065, 0.17462116, 0.1731389, 0.15999581, 0.14913803, 0.13664009, 0.13322681, 0.122187145, 0.121301256, 0.11956108, 0.11527808, 0.096163526, 0.08654825, 0.078407295, 0.07234078, 0.062820956, 0.052787986]   \n",
       "\n",
       "                                                                                                                                                                                                                                                                                                                                                                                                                                                                                                                                                                                                                                                                                                                                                                                                                                                                                                                                                                                                                                                                                                                                                                                                          out_resnet50.confidences  \n",
       "0  [0.99653566, 0.98834014, 0.9700247, 0.9696427, 0.96478057, 0.9603758, 0.954289, 0.94675404, 0.9465238, 0.9448496, 0.9361184, 0.9165347, 0.9133636, 0.8874812, 0.84405905, 0.8255258, 0.82326967, 0.81740046, 0.7956523, 0.786691, 0.77314925, 0.7519371, 0.7360916, 0.7009188, 0.69323534, 0.65077204, 0.6324361, 0.57877594, 0.50234777, 0.5016371, 0.44628528, 0.42804465, 0.4253792, 0.39086208, 0.3683642, 0.34732366, 0.32950637, 0.31053758, 0.29076344, 0.2855828, 0.26680017, 0.2630282, 0.25444356, 0.24568674, 0.23536639, 0.23322025, 0.2261301, 0.22483175, 0.22332409, 0.21443012, 0.20122276, 0.19754848, 0.19439594, 0.19083925, 0.18713945, 0.17646053, 0.16628958, 0.1632627, 0.14825232, 0.13694574, 0.12920633, 0.12815341, 0.12235768, 0.121289544, 0.11628082, 0.11498631, 0.11184822, 0.11016109, 0.10950601, 0.103915036, 0.10385681, 0.09757365, 0.096320644, 0.095576145, 0.09159923, 0.09062032, 0.08262369, 0.08223515, 0.079939224, 0.07989171, 0.07875854, 0.07820149, 0.07737921, 0.07690236, 0.075934514, 0.075033985, 0.07482603, 0.06898107, 0.06841154, 0.0676417, 0.06575051, 0.06490862, 0.061884128, 0.060101308, 0.05788736, 0.057176687, 0.05661653, 0.05601707, 0.054583132, 0.0536695]  "
      ]
     },
     "metadata": {},
     "output_type": "display_data"
    }
   ],
   "source": [
    "## blank space to send an inference and examine the result\n",
    "\n",
    "single_result = pipeline.infer(dfImage)\n",
    "display(single_result.columns)\n",
    "display(single_result.loc[:, ['time', 'out.confidences', 'out_resnet50.confidences']])"
   ]
  },
  {
   "cell_type": "markdown",
   "id": "0de32a40-5b54-45e7-af9e-c3b9525c4e61",
   "metadata": {},
   "source": [
    "## After the Experiment: Swapping in New Models\n",
    "\n",
    "You have seen two methods to validate models in production with test (challenger) models. \n",
    "The end result of an experiment is a decision about which model becomes the new champion. Let's say that you have been running the shadow deployment that you created in the previous exercise,  and you have decided that you want to replace the model \"champion\" with the model \"challenger\". To do this, you will clear all the steps out of the pipeline, and add only \"challenger\" back in.\n",
    "\n",
    "```python\n",
    "# retrieve a handle to the challenger model\n",
    "# see the A/B test section for the definition of get_model()\n",
    "challenger = get_model(\"challenger\")\n",
    "\n",
    "# get the existing pipeline and undeploy it\n",
    "# see the A/B test section for the definition of get_pipeline()\n",
    "pipeline = get_pipeline(\"pipeline\")\n",
    "pipeline.undeploy()\n",
    "\n",
    "# clear out all the steps and add the champion back in \n",
    "pipeline.clear() \n",
    "pipeline.add_model_step(challenger).deploy()\n",
    "```\n",
    "\n",
    "### After the Experiment: Swapping in New Models Exercise\n",
    "\n",
    "Pick one of your challenger models as the new champion, and reconfigure your shadow deployment back into a single-step pipeline with the new chosen model.\n",
    "\n",
    "* Run the test datum from the previous exercise through the reconfigured pipeline.\n",
    "* Compare the results to the results from the previous exercise.\n",
    "* Notice that the pipeline predictions are different from the old champion, and consistent with the new one.\n",
    "\n",
    "At the end of this exercise, you should have a single step pipeline, running a new model."
   ]
  },
  {
   "cell_type": "code",
   "execution_count": null,
   "id": "cf9d6835-8475-4cfd-a433-f470003673f2",
   "metadata": {},
   "outputs": [
    {
     "data": {
      "text/plain": [
       "0    [0.98649, 0.9011532, 0.60778517, 0.59223205, 0.5372905, 0.45131725, 0.43728545, 0.43094012, 0.4084839, 0.39185297, 0.3575915, 0.3181277, 0.26451308, 0.23062897, 0.20482065, 0.17462116, 0.1731389, 0.15999581, 0.14913803, 0.13664009, 0.13322681, 0.122187145, 0.121301256, 0.11956108, 0.11527808, 0.096163526, 0.08654825, 0.078407295, 0.07234078, 0.062820956, 0.052787986]\n",
       "Name: out.confidences, dtype: object"
      ]
     },
     "metadata": {},
     "output_type": "display_data"
    },
    {
     "data": {
      "text/plain": [
       "[{'ModelInference': {'models': [{'name': 'mobilenet', 'version': 'd15d8b9d-9d98-4aa7-8545-ac915862146e', 'sha': '9044c970ee061cc47e0c77e20b05e884be37f2a20aa9c0c3ce1993dbd486a830'}]}}]"
      ]
     },
     "metadata": {},
     "output_type": "display_data"
    }
   ],
   "source": [
    "## blank space to  - remove all steps, then redeploy with new champion model\n",
    "pipeline.undeploy()\n",
    "pipeline.clear()\n",
    "\n",
    "pipeline.add_model_step(prime_model_version)\n",
    "\n",
    "deploy_config = wallaroo.DeploymentConfigBuilder().replica_count(1).cpus(1).memory(\"2Gi\").build()\n",
    "pipeline.deploy(deployment_config=deploy_config)\n",
    "\n",
    "single_result = pipeline.infer(dfImage)\n",
    "display(single_result['out.confidences'])\n",
    "display(pipeline.steps())"
   ]
  },
  {
   "cell_type": "code",
   "execution_count": null,
   "id": "d1b49093",
   "metadata": {},
   "outputs": [
    {
     "data": {
      "text/plain": [
       "0    [0.99653566, 0.98834014, 0.9700247, 0.9696427, 0.96478057, 0.9603758, 0.954289, 0.94675404, 0.9465238, 0.9448496, 0.9361184, 0.9165347, 0.9133636, 0.8874812, 0.84405905, 0.8255258, 0.82326967, 0.81740046, 0.7956523, 0.786691, 0.77314925, 0.7519371, 0.7360916, 0.7009188, 0.69323534, 0.65077204, 0.6324361, 0.57877594, 0.50234777, 0.5016371, 0.44628528, 0.42804465, 0.4253792, 0.39086208, 0.3683642, 0.34732366, 0.32950637, 0.31053758, 0.29076344, 0.2855828, 0.26680017, 0.2630282, 0.25444356, 0.24568674, 0.23536639, 0.23322025, 0.2261301, 0.22483175, 0.22332409, 0.21443012, 0.20122276, 0.19754848, 0.19439594, 0.19083925, 0.18713945, 0.17646053, 0.16628958, 0.1632627, 0.14825232, 0.13694574, 0.12920633, 0.12815341, 0.12235768, 0.121289544, 0.11628082, 0.11498631, 0.11184822, 0.11016109, 0.10950601, 0.103915036, 0.10385681, 0.09757365, 0.096320644, 0.095576145, 0.09159923, 0.09062032, 0.08262369, 0.08223515, 0.079939224, 0.07989171, 0.07875854, 0.07820149, 0.07737921, 0.07690236, 0.075934514, 0.075033985, 0.07482603, 0.06898107, 0.06841154, 0.0676417, 0.06575051, 0.06490862, 0.061884128, 0.060101308, 0.05788736, 0.057176687, 0.05661653, 0.05601707, 0.054583132, 0.0536695]\n",
       "Name: out.confidences, dtype: object"
      ]
     },
     "metadata": {},
     "output_type": "display_data"
    },
    {
     "data": {
      "text/plain": [
       "[{'ModelInference': {'models': [{'name': 'resnet50', 'version': 'ed3e02f8-4fbe-4e18-96dc-cd0cba7b1e79', 'sha': '43326e50af639105c81372346fb9ddf453fea0fe46648b2053c375360d9c1647'}]}}]"
      ]
     },
     "metadata": {},
     "output_type": "display_data"
    }
   ],
   "source": [
    "## blank space to change the step and deploy **without undeploying**\n",
    "\n",
    "pipeline.clear()\n",
    "\n",
    "pipeline.add_model_step(cv_resnet_version)\n",
    "\n",
    "pipeline.deploy(deployment_config=deploy_config)\n",
    "\n",
    "# provide time for the swap to officially finish\n",
    "import time\n",
    "time.sleep(10)\n",
    "\n",
    "single_result = pipeline.infer(dfImage)\n",
    "display(single_result['out.confidences'])\n",
    "display(pipeline.steps())"
   ]
  },
  {
   "cell_type": "markdown",
   "id": "977e802c",
   "metadata": {},
   "source": [
    "### Cleaning up.\n",
    "\n",
    "At this point, if you are not continuing on to the next notebook, undeploy your pipeline(s) to give the resources back to the environment."
   ]
  },
  {
   "cell_type": "code",
   "execution_count": 19,
   "id": "15436251-ea58-4f5e-a861-0ffde818748e",
   "metadata": {},
   "outputs": [
    {
     "data": {
      "text/html": [
       "<table><tr><th>name</th> <td>cv-retail</td></tr><tr><th>created</th> <td>2024-11-04 21:10:05.287786+00:00</td></tr><tr><th>last_updated</th> <td>2024-11-06 17:24:36.733297+00:00</td></tr><tr><th>deployed</th> <td>False</td></tr><tr><th>workspace_id</th> <td>13</td></tr><tr><th>workspace_name</th> <td>workshop-workspace-john-cv</td></tr><tr><th>arch</th> <td>x86</td></tr><tr><th>accel</th> <td>none</td></tr><tr><th>tags</th> <td></td></tr><tr><th>versions</th> <td>1e8ec6fa-c8f3-4118-968b-0133cfc18a97, f410b97b-c1dd-4e23-99d9-e63410e100d6, 73d361a7-0b5f-4614-b513-61c141366e84, 4b41e45e-a917-4b48-9786-5e84d189afdd, 44ff0494-e30a-4a93-b5e3-4ce90b1b2368, 42c8d366-583d-44f4-ac4b-513103b5902c, d8be019e-2b7c-4c52-9e41-101b20ab0c2a, dd5e2f8a-e436-4b35-b2fb-189f6059dacc, 5a0772da-cde1-4fea-afc4-16313fcaa229, 7686f3ea-3781-4a95-aa4c-e99e46b9c47c, 4df9df54-6d12-4577-a970-f544128d0575</td></tr><tr><th>steps</th> <td>resnet50</td></tr><tr><th>published</th> <td>False</td></tr></table>"
      ],
      "text/plain": [
       "{'name': 'cv-retail', 'create_time': datetime.datetime(2024, 11, 4, 21, 10, 5, 287786, tzinfo=tzutc()), 'definition': \"[{'ModelInference': {'models': [{'name': 'resnet50', 'version': 'ed3e02f8-4fbe-4e18-96dc-cd0cba7b1e79', 'sha': '43326e50af639105c81372346fb9ddf453fea0fe46648b2053c375360d9c1647'}]}}]\"}"
      ]
     },
     "execution_count": 19,
     "metadata": {},
     "output_type": "execute_result"
    }
   ],
   "source": [
    "## blank space to undeploy the pipelines\n",
    "\n",
    "pipeline.undeploy()"
   ]
  },
  {
   "cell_type": "markdown",
   "id": "e3285520-c245-4f9b-8aac-6e7221456413",
   "metadata": {},
   "source": [
    "## Congratulations!\n",
    "\n",
    "You have now \n",
    "* successfully trained new challenger models for the house price prediction problem\n",
    "* compared your models using an A/B test\n",
    "* compared your models using a shadow deployment\n",
    "* replaced your old model for a new one in the house price prediction pipeline\n",
    "\n",
    "In the next notebook, you will learn how to monitor your production pipeline for \"anomalous\" or out-of-range behavior."
   ]
  }
 ],
 "metadata": {
  "kernelspec": {
   "display_name": "wallaroosdk2024.2",
   "language": "python",
   "name": "python3"
  },
  "language_info": {
   "codemirror_mode": {
    "name": "ipython",
    "version": 3
   },
   "file_extension": ".py",
   "mimetype": "text/x-python",
   "name": "python",
   "nbconvert_exporter": "python",
   "pygments_lexer": "ipython3",
   "version": "3.8.20"
  }
 },
 "nbformat": 4,
 "nbformat_minor": 5
}
