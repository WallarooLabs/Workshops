{
 "cells": [
  {
   "cell_type": "markdown",
   "metadata": {},
   "source": [
    "# Workshop Notebook 5: Automation with Wallaroo Connections\n",
    "\n",
    "Wallaroo Connections are definitions set by MLOps engineers that are used by other Wallaroo users for connection information to a data source.\n",
    "\n",
    "This provides MLOps engineers a method of creating and updating connection information for data stores:  databases, Kafka topics, etc.  Wallaroo Connections are composed of three main parts:\n",
    "\n",
    "* Name:  The unique name of the connection.\n",
    "* Type:  A user defined string that designates the type of connection.  This is used to organize connections.\n",
    "* Details:  Details are a JSON object containing the information needed to make the connection.  This can include data sources, authentication tokens, etc.\n",
    "\n",
    "Wallaroo Connections are only used to store the connection information used by other processes to create and use external connections.  The user still has to provide the libraries and other elements to actually make and use the conneciton.\n",
    "\n",
    "The primary advantage is Wallaroo connections allow scripts and other code to retrieve the connection details directly from their Wallaroo instance, then refer to those connection details.  They don't need to know what those details actually - they can refer to them in their code to make their code more flexible.\n",
    "\n",
    "For this step, we will use a Google BigQuery dataset to retrieve the inference information, predict the next month of sales, then store those predictions into another table.  This will use the Wallaroo Connection feature to create a Connection, assign it to our workspace, then perform our inferences by using the Connection details to connect to the BigQuery dataset and tables.\n",
    "\n",
    "## Prerequisites\n",
    "\n",
    "* A Wallaroo instance version 2023.2.1 or greater.\n",
    "\n",
    "## References\n",
    "\n",
    "* [Wallaroo SDK Essentials Guide: Model Uploads and Registrations: Python Models](https://docs.wallaroo.ai/wallaroo-developer-guides/wallaroo-sdk-guides/wallaroo-sdk-essentials-guide/wallaroo-sdk-model-uploads/wallaroo-sdk-model-upload-python/)\n",
    "* [Wallaroo SDK Essentials Guide: Pipeline Management](https://docs.wallaroo.ai/wallaroo-developer-guides/wallaroo-sdk-guides/wallaroo-sdk-essentials-guide/wallaroo-sdk-essentials-pipelines/wallaroo-sdk-essentials-pipeline/)\n",
    "* [Wallaroo SDK Essentials Guide: Data Connections Management](https://docs.wallaroo.ai/wallaroo-developer-guides/wallaroo-sdk-guides/wallaroo-sdk-essentials-guide/wallaroo-sdk-essentials-dataconnections/)"
   ]
  },
  {
   "cell_type": "markdown",
   "metadata": {},
   "source": [
    "## Preliminaries\n",
    "\n",
    "In the blocks below we will preload some required libraries."
   ]
  },
  {
   "cell_type": "code",
   "execution_count": 1,
   "metadata": {},
   "outputs": [],
   "source": [
    "import json\n",
    "import os\n",
    "import datetime\n",
    "\n",
    "import wallaroo\n",
    "from wallaroo.object import EntityNotFoundError\n",
    "from wallaroo.framework import Framework\n",
    "\n",
    "# used to display dataframe information without truncating\n",
    "from IPython.display import display\n",
    "import pandas as pd\n",
    "import numpy as np\n",
    "\n",
    "pd.set_option('display.max_colwidth', None)\n",
    "\n",
    "import time\n",
    "import pyarrow as pa"
   ]
  },
  {
   "cell_type": "markdown",
   "metadata": {},
   "source": [
    "## Login to Wallaroo\n",
    "\n",
    "Retrieve the previous workspace, model versions, and pipelines used in the previous notebook."
   ]
  },
  {
   "cell_type": "code",
   "execution_count": 2,
   "metadata": {},
   "outputs": [
    {
     "data": {
      "text/plain": [
       "{'name': 'workshop-workspace-forecast', 'id': 8, 'archived': False, 'created_by': 'fca5c4df-37ac-4a78-9602-dd09ca72bc60', 'created_at': '2024-10-29T20:52:00.744998+00:00', 'models': [{'name': 'forecast-control-model', 'versions': 3, 'owner_id': '\"\"', 'last_update_time': datetime.datetime(2024, 10, 29, 21, 35, 59, 4303, tzinfo=tzutc()), 'created_at': datetime.datetime(2024, 10, 29, 20, 54, 24, 314662, tzinfo=tzutc())}, {'name': 'forecast-alternate01-model', 'versions': 1, 'owner_id': '\"\"', 'last_update_time': datetime.datetime(2024, 10, 30, 19, 56, 17, 519779, tzinfo=tzutc()), 'created_at': datetime.datetime(2024, 10, 30, 19, 56, 17, 519779, tzinfo=tzutc())}, {'name': 'forecast-alternate02-model', 'versions': 1, 'owner_id': '\"\"', 'last_update_time': datetime.datetime(2024, 10, 30, 19, 56, 43, 83456, tzinfo=tzutc()), 'created_at': datetime.datetime(2024, 10, 30, 19, 56, 43, 83456, tzinfo=tzutc())}], 'pipelines': [{'name': 'rental-forecast', 'create_time': datetime.datetime(2024, 10, 29, 21, 0, 36, 927945, tzinfo=tzutc()), 'definition': '[]'}]}"
      ]
     },
     "metadata": {},
     "output_type": "display_data"
    },
    {
     "data": {
      "text/html": [
       "<table>\n",
       "        <tr>\n",
       "          <td>Name</td>\n",
       "          <td>forecast-control-model</td>\n",
       "        </tr>\n",
       "        <tr>\n",
       "          <td>Version</td>\n",
       "          <td>4c9a1678-cba3-4db9-97a5-883ce89a9a24</td>\n",
       "        </tr>\n",
       "        <tr>\n",
       "          <td>File Name</td>\n",
       "          <td>forecast_standard.zip</td>\n",
       "        </tr>\n",
       "        <tr>\n",
       "          <td>SHA</td>\n",
       "          <td>80b51818171dc1e64e61c3050a0815a68b4d14b1b37e1e18dac9e4719e074eb1</td>\n",
       "        </tr>\n",
       "        <tr>\n",
       "          <td>Status</td>\n",
       "          <td>ready</td>\n",
       "        </tr>\n",
       "        <tr>\n",
       "          <td>Image Path</td>\n",
       "          <td>proxy.replicated.com/proxy/wallaroo/ghcr.io/wallaroolabs/mac-deploy:v2024.2.0-5761</td>\n",
       "        </tr>\n",
       "        <tr>\n",
       "          <td>Architecture</td>\n",
       "          <td>x86</td>\n",
       "        </tr>\n",
       "        <tr>\n",
       "          <td>Acceleration</td>\n",
       "          <td>none</td>\n",
       "        </tr>\n",
       "        <tr>\n",
       "          <td>Updated At</td>\n",
       "          <td>2024-29-Oct 21:36:20</td>\n",
       "        </tr>\n",
       "        <tr>\n",
       "          <td>Workspace id</td>\n",
       "          <td>8</td>\n",
       "        </tr>\n",
       "        <tr>\n",
       "          <td>Workspace name</td>\n",
       "          <td>workshop-workspace-forecast</td>\n",
       "        </tr>\n",
       "      </table>"
      ],
      "text/plain": [
       "{'name': 'forecast-control-model', 'version': '4c9a1678-cba3-4db9-97a5-883ce89a9a24', 'file_name': 'forecast_standard.zip', 'image_path': 'proxy.replicated.com/proxy/wallaroo/ghcr.io/wallaroolabs/mac-deploy:v2024.2.0-5761', 'arch': 'x86', 'accel': 'none', 'last_update_time': datetime.datetime(2024, 10, 29, 21, 36, 20, 783561, tzinfo=tzutc())}"
      ]
     },
     "metadata": {},
     "output_type": "display_data"
    },
    {
     "data": {
      "text/html": [
       "<table><tr><th>name</th> <td>rental-forecast</td></tr><tr><th>created</th> <td>2024-10-29 21:00:36.927945+00:00</td></tr><tr><th>last_updated</th> <td>2024-10-30 20:43:23.101933+00:00</td></tr><tr><th>deployed</th> <td>False</td></tr><tr><th>workspace_id</th> <td>8</td></tr><tr><th>workspace_name</th> <td>workshop-workspace-forecast</td></tr><tr><th>arch</th> <td>x86</td></tr><tr><th>accel</th> <td>none</td></tr><tr><th>tags</th> <td></td></tr><tr><th>versions</th> <td>ceff9712-715b-41e6-a124-b174b62a9654, 0250f403-07c6-4b01-83bc-eebdc09bca22, 31b515bb-807f-4d64-b105-fc0ae6a582f2, 614a34e0-6024-4245-9919-1a85b7a1e5d2, 6a593faf-bea3-4f57-b9ec-5c1afe7f93a7, 4dce5be3-926c-419f-9868-3dbea7baf3c1, a601ce07-937c-436a-9735-0ac842173dfb, c0d16da5-5db7-4af1-95e4-cb0c316a4ef3, bd5eb43f-5a2b-493c-a04b-863dccccb55f, 89729096-6581-42b8-9b06-10d580d31e11, b98b86fb-5941-45b6-af5d-c33f80ba7986, aead5518-ffb2-4d18-8898-89575ba90a9f, a2a887c0-a91b-4af7-b579-506c79631fa4, b8ac836a-903b-4327-a4c9-5cc7fb382aa7, 3e18cd2d-c006-497b-a756-5ecc95aa8439, bd3f7d6a-e246-4456-98b9-35b90990b86d</td></tr><tr><th>steps</th> <td>forecast-control-model</td></tr><tr><th>published</th> <td>False</td></tr></table>"
      ],
      "text/plain": [
       "{'name': 'rental-forecast', 'create_time': datetime.datetime(2024, 10, 29, 21, 0, 36, 927945, tzinfo=tzutc()), 'definition': '[]'}"
      ]
     },
     "metadata": {},
     "output_type": "display_data"
    }
   ],
   "source": [
    "## blank space to log in \n",
    "\n",
    "wl = wallaroo.Client()\n",
    "\n",
    "# retrieve the previous workspace, model, and pipeline version\n",
    "\n",
    "workspace_name = 'workshop-workspace-forecast'\n",
    "\n",
    "workspace = wl.get_workspace(name=workspace_name, create_if_not_exist=True)\n",
    "\n",
    "# set your current workspace to the workspace that you just created\n",
    "wl.set_current_workspace(workspace)\n",
    "\n",
    "model_name = \"forecast-control-model\"\n",
    "\n",
    "prime_model_version = wl.get_model(model_name)\n",
    "\n",
    "pipeline_name = 'rental-forecast'\n",
    "\n",
    "pipeline = wl.get_pipeline(pipeline_name)\n",
    "\n",
    "# verify the workspace/pipeline/model\n",
    "\n",
    "display(wl.get_current_workspace())\n",
    "display(prime_model_version)\n",
    "display(pipeline)"
   ]
  },
  {
   "cell_type": "markdown",
   "metadata": {},
   "source": [
    "## Deploy the Pipeline with the Model Version Step\n",
    "\n",
    "As per the other workshops:\n",
    "\n",
    "1. Clear the pipeline of all steps.\n",
    "1. Add the model version as a pipeline step.\n",
    "1. Deploy the pipeline with the following deployment configuration:\n",
    "\n",
    "```python\n",
    "deploy_config = wallaroo.DeploymentConfigBuilder().replica_count(1).cpus(0.5).memory(\"1Gi\").build()\n",
    "```"
   ]
  },
  {
   "cell_type": "code",
   "execution_count": 3,
   "metadata": {},
   "outputs": [
    {
     "name": "stdout",
     "output_type": "stream",
     "text": [
      "Waiting for deployment - this will take up to 45s .............. ok\n"
     ]
    },
    {
     "data": {
      "text/html": [
       "<table><tr><th>name</th> <td>rental-forecast</td></tr><tr><th>created</th> <td>2024-10-29 21:00:36.927945+00:00</td></tr><tr><th>last_updated</th> <td>2024-10-30 20:48:14.837079+00:00</td></tr><tr><th>deployed</th> <td>True</td></tr><tr><th>workspace_id</th> <td>8</td></tr><tr><th>workspace_name</th> <td>workshop-workspace-forecast</td></tr><tr><th>arch</th> <td>x86</td></tr><tr><th>accel</th> <td>none</td></tr><tr><th>tags</th> <td></td></tr><tr><th>versions</th> <td>585ee8cd-2f5e-4a1e-bb0d-6c88e6d94d3e, ceff9712-715b-41e6-a124-b174b62a9654, 0250f403-07c6-4b01-83bc-eebdc09bca22, 31b515bb-807f-4d64-b105-fc0ae6a582f2, 614a34e0-6024-4245-9919-1a85b7a1e5d2, 6a593faf-bea3-4f57-b9ec-5c1afe7f93a7, 4dce5be3-926c-419f-9868-3dbea7baf3c1, a601ce07-937c-436a-9735-0ac842173dfb, c0d16da5-5db7-4af1-95e4-cb0c316a4ef3, bd5eb43f-5a2b-493c-a04b-863dccccb55f, 89729096-6581-42b8-9b06-10d580d31e11, b98b86fb-5941-45b6-af5d-c33f80ba7986, aead5518-ffb2-4d18-8898-89575ba90a9f, a2a887c0-a91b-4af7-b579-506c79631fa4, b8ac836a-903b-4327-a4c9-5cc7fb382aa7, 3e18cd2d-c006-497b-a756-5ecc95aa8439, bd3f7d6a-e246-4456-98b9-35b90990b86d</td></tr><tr><th>steps</th> <td>forecast-control-model</td></tr><tr><th>published</th> <td>False</td></tr></table>"
      ],
      "text/plain": [
       "{'name': 'rental-forecast', 'create_time': datetime.datetime(2024, 10, 29, 21, 0, 36, 927945, tzinfo=tzutc()), 'definition': \"[{'ModelInference': {'models': [{'name': 'forecast-control-model', 'version': '4c9a1678-cba3-4db9-97a5-883ce89a9a24', 'sha': '80b51818171dc1e64e61c3050a0815a68b4d14b1b37e1e18dac9e4719e074eb1'}]}}]\"}"
      ]
     },
     "execution_count": 3,
     "metadata": {},
     "output_type": "execute_result"
    }
   ],
   "source": [
    "pipeline.clear()\n",
    "pipeline.add_model_step(prime_model_version)\n",
    "\n",
    "deploy_config = wallaroo.DeploymentConfigBuilder().replica_count(1).cpus(0.5).memory(\"1Gi\").build()\n",
    "pipeline.deploy(deployment_config=deploy_config)"
   ]
  },
  {
   "cell_type": "markdown",
   "metadata": {},
   "source": [
    "## Create the Connection\n",
    "\n",
    "For this demonstration, the connection set to a specific file on a GitHub repository.  The connection details can be anything that can be stored in JSON:  connection URLs, tokens, etc.\n",
    "\n",
    "This connection will set a URL to pull a file from GitHub, then use the file contents to perform an inference.\n",
    "\n",
    "Wallaroo connections are created through the Wallaroo Client `create_connection(name, type, details)` method.  See the [Wallaroo SDK Essentials Guide: Data Connections Management guide](https://docs.wallaroo.ai/wallaroo-developer-guides/wallaroo-sdk-guides/wallaroo-sdk-essentials-guide/wallaroo-sdk-essentials-dataconnections/) for full details.\n",
    "\n",
    "Note that connection names must be unique across the Wallaroo instance - if needed, use random characters at the end to make sure your connection doesn't have the same name as a previously created connection.\n",
    "\n",
    "Here's an example connection used to retrieve the same CSV file used in `./data/testdata_standard.df.json`:  https://raw.githubusercontent.com/WallarooLabs/Workshops/main/Forecasting/Retail-CPG/data/testdata_standard.df.json\n",
    "\n",
    "### Create the Connection Exercise\n",
    "\n",
    "```python\n",
    "# set the connection information for other steps\n",
    "# suffix is used to create a unique data connection\n",
    "\n",
    "forecast_connection_input_name = f'forecast-sample-data'\n",
    "forecast_connection_input_type = \"HTTP\"\n",
    "forecast_connection_input_argument = { \n",
    "    \"url\": \"https://raw.githubusercontent.com/WallarooLabs/Workshops/main/Forecasting/Retail-CPG/data/testdata_standard.df.json\"\n",
    "    }\n",
    "\n",
    "\n",
    "wl.create_connection(forecast_connection_input_name, forecast_connection_input_type, forecast_connection_input_argument)\n",
    "```"
   ]
  },
  {
   "cell_type": "code",
   "execution_count": 20,
   "metadata": {},
   "outputs": [
    {
     "data": {
      "text/html": [
       "\n",
       "        <table>\n",
       "          <tr>\n",
       "            <th>Field</th>\n",
       "            <th>Value</th>\n",
       "          </tr>\n",
       "          <tr>\n",
       "            <td>Name</td><td>forecast-sample-connection</td>\n",
       "          </tr>\n",
       "          <tr>\n",
       "            <td>Connection Type</td><td>HTTP</td>\n",
       "          </tr>\n",
       "          <tr>\n",
       "            <td>Details</td><td>*****</td>\n",
       "          </tr>\n",
       "          <tr>\n",
       "            <td>Created At</td><td>2024-10-30T20:53:23.926727+00:00</td>\n",
       "          </tr>\n",
       "          <tr>\n",
       "            <td>Linked Workspaces</td><td>[]</td>\n",
       "          </tr>\n",
       "        </table>\n",
       "        "
      ],
      "text/plain": [
       "<wallaroo.connection.Connection at 0x78cd63594f10>"
      ]
     },
     "execution_count": 20,
     "metadata": {},
     "output_type": "execute_result"
    }
   ],
   "source": [
    "# set the connection information for other steps\n",
    "# suffix is used to create a unique data connection\n",
    "\n",
    "forecast_connection_input_name = f'forecast-sample-connection'\n",
    "forecast_connection_input_type = \"HTTP\"\n",
    "forecast_connection_input_argument = { \n",
    "    \"url\": \"https://raw.githubusercontent.com/WallarooLabs/Workshops/refs/heads/wallaroo-2024.2/Forecasting/Retail-CPG/data/testdata-standard.df.json\"\n",
    "    }\n",
    "\n",
    "\n",
    "wl.create_connection(forecast_connection_input_name, forecast_connection_input_type, forecast_connection_input_argument)"
   ]
  },
  {
   "cell_type": "markdown",
   "metadata": {},
   "source": [
    "## List Connections\n",
    "\n",
    "Connections for the entire Wallaroo instance are listed with Wallaroo Client `list_connections()` method.\n",
    "\n",
    "## List Connections Exercise\n",
    "\n",
    "Here's an example of listing the connections when the Wallaroo client is `wl`.\n",
    "\n",
    "```python\n",
    "wl.list_connections()\n",
    "```"
   ]
  },
  {
   "cell_type": "code",
   "execution_count": 21,
   "metadata": {},
   "outputs": [
    {
     "data": {
      "text/html": [
       "<table><tr><th>name</th><th>connection type</th><th>details</th><th>created at</th><th>linked workspaces</th></tr><tr><td>summary-sample-connection</td><td>HTTP</td><td>*****</td><td>2024-10-29T20:33:12.209391+00:00</td><td>['workshop-workspace-summarization']</td></tr><tr><td>forecast-sample-data</td><td>HTTP</td><td>*****</td><td>2024-10-30T20:48:30.452574+00:00</td><td>['workshop-workspace-forecast']</td></tr><tr><td>forecast-sample-connection</td><td>HTTP</td><td>*****</td><td>2024-10-30T20:53:23.926727+00:00</td><td>[]</td></tr></table>"
      ],
      "text/plain": [
       "[<wallaroo.connection.Connection at 0x78cd634d4eb0>,\n",
       " <wallaroo.connection.Connection at 0x78cd62a03880>,\n",
       " <wallaroo.connection.Connection at 0x78cd62a03610>]"
      ]
     },
     "execution_count": 21,
     "metadata": {},
     "output_type": "execute_result"
    }
   ],
   "source": [
    "# list the connections here\n",
    "\n",
    "wl.list_connections()"
   ]
  },
  {
   "cell_type": "markdown",
   "metadata": {},
   "source": [
    "## Get Connection by Name\n",
    "\n",
    "To retrieve a previosly created conneciton, we can assign it to a variable with the method Wallaroo `Client.get_connection(connection_name)`.  Then we can display the connection itself.  Notice that when displaying a connection, the `details` section will be hidden, but they are retrieved with `connection.details()`.  Here's an example:\n",
    "\n",
    "```python\n",
    "myconnection = client.get_connection(\"My amazing connection\")\n",
    "display(myconnection)\n",
    "display(myconnection.details()\n",
    "```\n",
    "\n",
    "Use that code to retrieve your new connection.\n",
    "\n",
    "### Get Connection by Name Example\n",
    "\n",
    "Here's an example based on the Wallaroo client saved as `wl`.\n",
    "\n",
    "```python\n",
    "wl.get_connection(forecast_connection_input_name)\n",
    "```"
   ]
  },
  {
   "cell_type": "code",
   "execution_count": 22,
   "metadata": {},
   "outputs": [
    {
     "data": {
      "text/html": [
       "\n",
       "        <table>\n",
       "          <tr>\n",
       "            <th>Field</th>\n",
       "            <th>Value</th>\n",
       "          </tr>\n",
       "          <tr>\n",
       "            <td>Name</td><td>forecast-sample-connection</td>\n",
       "          </tr>\n",
       "          <tr>\n",
       "            <td>Connection Type</td><td>HTTP</td>\n",
       "          </tr>\n",
       "          <tr>\n",
       "            <td>Details</td><td>*****</td>\n",
       "          </tr>\n",
       "          <tr>\n",
       "            <td>Created At</td><td>2024-10-30T20:53:23.926727+00:00</td>\n",
       "          </tr>\n",
       "          <tr>\n",
       "            <td>Linked Workspaces</td><td>[]</td>\n",
       "          </tr>\n",
       "        </table>\n",
       "        "
      ],
      "text/plain": [
       "<wallaroo.connection.Connection at 0x78cd629d82e0>"
      ]
     },
     "execution_count": 22,
     "metadata": {},
     "output_type": "execute_result"
    }
   ],
   "source": [
    "# get the connection by name\n",
    "\n",
    "this_connection = wl.get_connection(forecast_connection_input_name)\n",
    "this_connection"
   ]
  },
  {
   "cell_type": "markdown",
   "metadata": {},
   "source": [
    "## Add Connection to Workspace\n",
    "\n",
    "We'll now add the connection to our workspace so it can be retrieved by other workspace users.  The method Workspace `add_connection(connection_name)` adds a Data Connection to a workspace.  The method Workspace `list_connections()` displays a list of connections attached to the workspace.\n",
    "\n",
    "### Add Connection to Workspace Exercise\n",
    "\n",
    "Use the connection we just created, and add it to the sample workspace.  Here's a code example where the workspace is saved to the variable `workspace` and the connection is saved as `forecast_connection_input_name`.\n",
    "\n",
    "```python\n",
    "workspace.add_connection(forecast_connection_input_name)\n",
    "```"
   ]
  },
  {
   "cell_type": "code",
   "execution_count": 23,
   "metadata": {},
   "outputs": [
    {
     "data": {
      "text/html": [
       "<table><tr><th>name</th><th>connection type</th><th>details</th><th>created at</th><th>linked workspaces</th></tr><tr><td>forecast-sample-data</td><td>HTTP</td><td>*****</td><td>2024-10-30T20:48:30.452574+00:00</td><td>['workshop-workspace-forecast']</td></tr><tr><td>forecast-sample-connection</td><td>HTTP</td><td>*****</td><td>2024-10-30T20:53:23.926727+00:00</td><td>['workshop-workspace-forecast']</td></tr></table>"
      ],
      "text/plain": [
       "[<wallaroo.connection.Connection at 0x78cd62a03430>,\n",
       " <wallaroo.connection.Connection at 0x78cd629d87f0>]"
      ]
     },
     "execution_count": 23,
     "metadata": {},
     "output_type": "execute_result"
    }
   ],
   "source": [
    "workspace.add_connection(forecast_connection_input_name)\n",
    "workspace.list_connections()"
   ]
  },
  {
   "cell_type": "markdown",
   "metadata": {},
   "source": [
    "## Retrieve Connection from Workspace\n",
    "\n",
    "To simulate a data scientist's procedural flow, we'll now retrieve the connection from the workspace.  Specific connections are retrieved by specifying their position in the returned list.\n",
    "\n",
    "For example, if we have two connections in a workspace and we want the second one, we can assign it to a variable with `list_connections[1]`.\n",
    "\n",
    "Create a new variable and retrieve the connection we just assigned to the workspace.\n",
    "\n",
    "### Retrieve Connection from Workspace Exercise\n",
    "\n",
    "Retrieve the connection that was just associated with the workspace.  You'll use the `list_connections` method, then assign a variable to the connection.  Here's an example if the connection is the most recently one added to the workspace `workspace`.\n",
    "\n",
    "```python\n",
    "forecast_connection = workspace.list_connections()[-1]\n",
    "```"
   ]
  },
  {
   "cell_type": "code",
   "execution_count": 24,
   "metadata": {},
   "outputs": [
    {
     "data": {
      "text/html": [
       "\n",
       "        <table>\n",
       "          <tr>\n",
       "            <th>Field</th>\n",
       "            <th>Value</th>\n",
       "          </tr>\n",
       "          <tr>\n",
       "            <td>Name</td><td>forecast-sample-connection</td>\n",
       "          </tr>\n",
       "          <tr>\n",
       "            <td>Connection Type</td><td>HTTP</td>\n",
       "          </tr>\n",
       "          <tr>\n",
       "            <td>Details</td><td>*****</td>\n",
       "          </tr>\n",
       "          <tr>\n",
       "            <td>Created At</td><td>2024-10-30T20:53:23.926727+00:00</td>\n",
       "          </tr>\n",
       "          <tr>\n",
       "            <td>Linked Workspaces</td><td>['workshop-workspace-forecast']</td>\n",
       "          </tr>\n",
       "        </table>\n",
       "        "
      ],
      "text/plain": [
       "<wallaroo.connection.Connection at 0x78cd6284bc10>"
      ]
     },
     "metadata": {},
     "output_type": "display_data"
    }
   ],
   "source": [
    "forecast_connection = workspace.list_connections()[-1]\n",
    "display(forecast_connection)"
   ]
  },
  {
   "cell_type": "markdown",
   "metadata": {},
   "source": [
    "## Run Inference with Connection\n",
    "\n",
    "Connections can be used for different purposes:  uploading new models, engine configurations - any place that data is needed.  This exercise will use the data connection to perform an inference through our deployed pipeline.\n",
    "\n",
    "### Run Inference with Connection Exercise\n",
    "\n",
    "We'll now retrieve sample data through the Wallaroo connection, and perform a sample inference.  The connection details are retrieved through the Connection `details()` method.  Use them to retrieve the pandas record file and convert it to a DataFrame, and use it with our sample model.\n",
    "\n",
    "Here's a code example that uses the Python `requests` library to retrieve the file information, then turns it into a DataFrame for the inference request.\n",
    "\n",
    "```python\n",
    "display(forecast_connection.details()['url'])\n",
    "\n",
    "import requests\n",
    "\n",
    "response = requests.get(\n",
    "                    forecast_connection.details()['url']\n",
    "                )\n",
    "\n",
    "# display(response.json())\n",
    "\n",
    "df = pd.DataFrame(response.json())\n",
    "\n",
    "pipeline.infer(df)\n",
    "```"
   ]
  },
  {
   "cell_type": "code",
   "execution_count": 25,
   "metadata": {},
   "outputs": [
    {
     "data": {
      "text/plain": [
       "'https://raw.githubusercontent.com/WallarooLabs/Workshops/refs/heads/wallaroo-2024.2/Forecasting/Retail-CPG/data/testdata-standard.df.json'"
      ]
     },
     "metadata": {},
     "output_type": "display_data"
    },
    {
     "data": {
      "text/html": [
       "<div>\n",
       "<style scoped>\n",
       "    .dataframe tbody tr th:only-of-type {\n",
       "        vertical-align: middle;\n",
       "    }\n",
       "\n",
       "    .dataframe tbody tr th {\n",
       "        vertical-align: top;\n",
       "    }\n",
       "\n",
       "    .dataframe thead th {\n",
       "        text-align: right;\n",
       "    }\n",
       "</style>\n",
       "<table border=\"1\" class=\"dataframe\">\n",
       "  <thead>\n",
       "    <tr style=\"text-align: right;\">\n",
       "      <th></th>\n",
       "      <th>count</th>\n",
       "    </tr>\n",
       "  </thead>\n",
       "  <tbody>\n",
       "    <tr>\n",
       "      <th>0</th>\n",
       "      <td>[1526, 1550, 1708, 1005, 1623, 1712, 1530, 1605, 1538, 1746, 1472, 1589, 1913, 1815, 2115, 2475, 2927, 1635, 1812, 1107, 1450, 1917, 1807, 1461, 1969, 2402, 1446, 1851]</td>\n",
       "    </tr>\n",
       "  </tbody>\n",
       "</table>\n",
       "</div>"
      ],
      "text/plain": [
       "                                                                                                                                                                      count\n",
       "0  [1526, 1550, 1708, 1005, 1623, 1712, 1530, 1605, 1538, 1746, 1472, 1589, 1913, 1815, 2115, 2475, 2927, 1635, 1812, 1107, 1450, 1917, 1807, 1461, 1969, 2402, 1446, 1851]"
      ]
     },
     "metadata": {},
     "output_type": "display_data"
    },
    {
     "data": {
      "text/html": [
       "<div>\n",
       "<style scoped>\n",
       "    .dataframe tbody tr th:only-of-type {\n",
       "        vertical-align: middle;\n",
       "    }\n",
       "\n",
       "    .dataframe tbody tr th {\n",
       "        vertical-align: top;\n",
       "    }\n",
       "\n",
       "    .dataframe thead th {\n",
       "        text-align: right;\n",
       "    }\n",
       "</style>\n",
       "<table border=\"1\" class=\"dataframe\">\n",
       "  <thead>\n",
       "    <tr style=\"text-align: right;\">\n",
       "      <th></th>\n",
       "      <th>time</th>\n",
       "      <th>in.count</th>\n",
       "      <th>out.forecast</th>\n",
       "      <th>out.weekly_average</th>\n",
       "      <th>anomaly.count</th>\n",
       "    </tr>\n",
       "  </thead>\n",
       "  <tbody>\n",
       "    <tr>\n",
       "      <th>0</th>\n",
       "      <td>2024-10-30 20:53:41.226</td>\n",
       "      <td>[1526, 1550, 1708, 1005, 1623, 1712, 1530, 1605, 1538, 1746, 1472, 1589, 1913, 1815, 2115, 2475, 2927, 1635, 1812, 1107, 1450, 1917, 1807, 1461, 1969, 2402, 1446, 1851]</td>\n",
       "      <td>[1764, 1749, 1743, 1741, 1740, 1740, 1740]</td>\n",
       "      <td>1745.2858</td>\n",
       "      <td>0</td>\n",
       "    </tr>\n",
       "  </tbody>\n",
       "</table>\n",
       "</div>"
      ],
      "text/plain": [
       "                     time  \\\n",
       "0 2024-10-30 20:53:41.226   \n",
       "\n",
       "                                                                                                                                                                   in.count  \\\n",
       "0  [1526, 1550, 1708, 1005, 1623, 1712, 1530, 1605, 1538, 1746, 1472, 1589, 1913, 1815, 2115, 2475, 2927, 1635, 1812, 1107, 1450, 1917, 1807, 1461, 1969, 2402, 1446, 1851]   \n",
       "\n",
       "                                 out.forecast  out.weekly_average  \\\n",
       "0  [1764, 1749, 1743, 1741, 1740, 1740, 1740]           1745.2858   \n",
       "\n",
       "   anomaly.count  \n",
       "0              0  "
      ]
     },
     "metadata": {},
     "output_type": "display_data"
    }
   ],
   "source": [
    "display(forecast_connection.details()['url'])\n",
    "\n",
    "import requests\n",
    "\n",
    "response = requests.get(\n",
    "                    forecast_connection.details()['url']\n",
    "                )\n",
    "\n",
    "# display(response.json())\n",
    "\n",
    "df = pd.DataFrame(response.json())\n",
    "display(df)\n",
    "\n",
    "single_result = pipeline.infer(df)\n",
    "display(single_result)"
   ]
  },
  {
   "cell_type": "markdown",
   "metadata": {},
   "source": [
    "## Cleaning up.\n",
    "\n",
    "Now that the workshop is complete, don't forget to undeploy your pipeline to free up the resources."
   ]
  },
  {
   "cell_type": "code",
   "execution_count": 26,
   "metadata": {},
   "outputs": [
    {
     "name": "stdout",
     "output_type": "stream",
     "text": [
      "Waiting for undeployment - this will take up to 45s .................................... ok\n"
     ]
    },
    {
     "data": {
      "text/html": [
       "<table><tr><th>name</th> <td>rental-forecast</td></tr><tr><th>created</th> <td>2024-10-29 21:00:36.927945+00:00</td></tr><tr><th>last_updated</th> <td>2024-10-30 20:48:14.837079+00:00</td></tr><tr><th>deployed</th> <td>False</td></tr><tr><th>workspace_id</th> <td>8</td></tr><tr><th>workspace_name</th> <td>workshop-workspace-forecast</td></tr><tr><th>arch</th> <td>x86</td></tr><tr><th>accel</th> <td>none</td></tr><tr><th>tags</th> <td></td></tr><tr><th>versions</th> <td>585ee8cd-2f5e-4a1e-bb0d-6c88e6d94d3e, ceff9712-715b-41e6-a124-b174b62a9654, 0250f403-07c6-4b01-83bc-eebdc09bca22, 31b515bb-807f-4d64-b105-fc0ae6a582f2, 614a34e0-6024-4245-9919-1a85b7a1e5d2, 6a593faf-bea3-4f57-b9ec-5c1afe7f93a7, 4dce5be3-926c-419f-9868-3dbea7baf3c1, a601ce07-937c-436a-9735-0ac842173dfb, c0d16da5-5db7-4af1-95e4-cb0c316a4ef3, bd5eb43f-5a2b-493c-a04b-863dccccb55f, 89729096-6581-42b8-9b06-10d580d31e11, b98b86fb-5941-45b6-af5d-c33f80ba7986, aead5518-ffb2-4d18-8898-89575ba90a9f, a2a887c0-a91b-4af7-b579-506c79631fa4, b8ac836a-903b-4327-a4c9-5cc7fb382aa7, 3e18cd2d-c006-497b-a756-5ecc95aa8439, bd3f7d6a-e246-4456-98b9-35b90990b86d</td></tr><tr><th>steps</th> <td>forecast-control-model</td></tr><tr><th>published</th> <td>False</td></tr></table>"
      ],
      "text/plain": [
       "{'name': 'rental-forecast', 'create_time': datetime.datetime(2024, 10, 29, 21, 0, 36, 927945, tzinfo=tzutc()), 'definition': \"[{'ModelInference': {'models': [{'name': 'forecast-control-model', 'version': '4c9a1678-cba3-4db9-97a5-883ce89a9a24', 'sha': '80b51818171dc1e64e61c3050a0815a68b4d14b1b37e1e18dac9e4719e074eb1'}]}}]\"}"
      ]
     },
     "execution_count": 26,
     "metadata": {},
     "output_type": "execute_result"
    }
   ],
   "source": [
    "pipeline.undeploy()"
   ]
  },
  {
   "cell_type": "markdown",
   "metadata": {},
   "source": [
    "## Congratulations!\n",
    "\n",
    "In this workshop you have:\n",
    "\n",
    "* Deployed a single step house price prediction pipeline and sent data to it.\n",
    "* Create a new Wallaroo connection.\n",
    "* Assigned the connection to a workspace.\n",
    "* Retrieved the connection from the workspace.\n",
    "* Used the data connection to retrieve information from outside of Wallaroo, and use it for an inference.\n",
    "\n",
    "Great job!"
   ]
  }
 ],
 "metadata": {
  "kernelspec": {
   "display_name": "Python 3 (ipykernel)",
   "language": "python",
   "name": "python3"
  },
  "language_info": {
   "codemirror_mode": {
    "name": "ipython",
    "version": 3
   },
   "file_extension": ".py",
   "mimetype": "text/x-python",
   "name": "python",
   "nbconvert_exporter": "python",
   "pygments_lexer": "ipython3",
   "version": "3.9.13"
  },
  "vscode": {
   "interpreter": {
    "hash": "7dda4bf3640b7fafcd1648658b879b4cc9f6ba6084e8fb356fdaaa1a461d1690"
   }
  }
 },
 "nbformat": 4,
 "nbformat_minor": 4
}
