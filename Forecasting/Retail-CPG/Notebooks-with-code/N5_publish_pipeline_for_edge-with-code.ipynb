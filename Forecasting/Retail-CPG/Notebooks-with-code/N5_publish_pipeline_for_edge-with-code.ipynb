{
 "cells": [
  {
   "cell_type": "markdown",
   "id": "842531aa-4f9f-41fc-884e-8bce107a19ee",
   "metadata": {},
   "source": [
    "# Workshop Notebook 5: Deploy Pipeline to Edge Devices\n",
    "\n",
    "For this workshop, we will take a Wallaroo pipeline and publish it to an Open Container (OCI) Registry.  The registry details are stored in the Wallaroo instance as the Edge Registry.  \n",
    "\n",
    "In this set of exercises, you will:\n",
    "\n",
    "1. Use a pre-trained model and deploy it to Wallaroo.\n",
    "1. Perform sample inferences.\n",
    "1. Publish the pipeline to the Edge Registry.\n",
    "1. See the steps to deploy the published pipeline to an Edge device and perform inferences through it.\n",
    "\n",
    "Deployment to the Edge allows data scientists to work in Wallaroo to test their models in Wallaroo, then once satisfied with the results publish those pipelines.  DevOps engineers then take those published pipeline details from the Edge registry and deploy them into Docker and Kubernetes environments.\n",
    "\n",
    "This workshop will demonstrate the following concepts:\n",
    "\n",
    "* [Wallaroo Workspaces](https://docs.wallaroo.ai/wallaroo-developer-guides/wallaroo-sdk-guides/wallaroo-sdk-essentials-guide/wallaroo-sdk-essentials-workspace/):  Workspaces are environments were users upload models, create pipelines and other artifacts.  The workspace should be considered the fundamental area where work is done.  Workspaces are shared with other users to give them access to the same models, pipelines, etc.\n",
    "* [Wallaroo Model Upload and Registration](https://docs.wallaroo.ai/wallaroo-developer-guides/wallaroo-sdk-guides/wallaroo-sdk-essentials-guide/wallaroo-sdk-model-uploads/): ML Models are uploaded to Wallaroo through the SDK or the MLOps API to a **workspace**.  ML models include default runtimes (ONNX, Python Step, and TensorFlow) that are run directly through the Wallaroo engine, and containerized runtimes (Hugging Face, PyTorch, etc) that are run through in a container through the Wallaroo engine.\n",
    "* [Wallaroo Pipelines](https://docs.wallaroo.ai/wallaroo-developer-guides/wallaroo-sdk-guides/wallaroo-sdk-essentials-guide/wallaroo-sdk-essentials-pipelines/): Pipelines are used to deploy models for inferencing.  Each model is a **pipeline step** in a pipelines, where the inputs of the previous step are fed into the next.  Pipeline steps can be ML models, Python scripts, or Arbitrary Python (these contain necessary models and artifacts for running a model).\n",
    "* [Pipeline Edge Publication](https://docs.wallaroo.ai/20230300/wallaroo-developer-guides/wallaroo-sdk-guides/wallaroo-sdk-essentials-guide/wallaroo-sdk-essentials-pipelines/wallaroo-sdk-essentials-pipeline-publication/): How to publish a Wallaroo pipeline to an OCI registry, then deploy that pipeline into other environments.\n",
    "\n",
    "For this tutorial, we will be providing pre-trained models in ONNX format, and have connected a sample Edge Registry to our Wallaroo instance.\n",
    "\n",
    "For more Wallaroo procedures, see the [Wallaroo Documentation site](https://docs.wallaroo.ai)."
   ]
  },
  {
   "cell_type": "markdown",
   "id": "1d1390c8",
   "metadata": {},
   "source": [
    "## Preliminaries\n",
    "\n",
    "In the blocks below we will preload some required libraries.\n",
    "\n",
    "For convenience, the following `helper functions` are defined to retrieve previously created workspaces, models, and pipelines:\n",
    "\n",
    "* `get_workspace(name, client)`: This takes in the name and the Wallaroo client being used in this session, and returns the workspace matching `name`.  If no workspaces are found matching the name, raises a `KeyError` and returns `None`.\n",
    "* `get_model_version(model_name, workspace)`: Retrieves the most recent model version from the model matching the `model_name` within the provided `workspace`.  If no model matches that name, raises a `KeyError` and returns `None`.\n",
    "* `get_pipeline(pipeline_name, workspace)`: Retrieves the most pipeline from the workspace matching the `pipeline_name` within the provided `workspace`.  If no model matches that name, raises a `KeyError` and returns `None`."
   ]
  },
  {
   "cell_type": "code",
   "execution_count": 1,
   "id": "bb03a96b-3d13-4d5e-9aee-99913d9a37ab",
   "metadata": {},
   "outputs": [],
   "source": [
    "import json\n",
    "import os\n",
    "import datetime\n",
    "\n",
    "import wallaroo\n",
    "from wallaroo.object import EntityNotFoundError\n",
    "from wallaroo.framework import Framework\n",
    "\n",
    "# used to display dataframe information without truncating\n",
    "from IPython.display import display\n",
    "import pandas as pd\n",
    "import numpy as np\n",
    "\n",
    "pd.set_option('display.max_colwidth', None)\n",
    "\n",
    "import time\n",
    "import pyarrow as pa"
   ]
  },
  {
   "cell_type": "code",
   "execution_count": 2,
   "id": "4b0953cd",
   "metadata": {},
   "outputs": [],
   "source": [
    "## convenience functions from the previous notebooks\n",
    "\n",
    "# return the workspace called <name> through the Wallaroo client.\n",
    "def get_workspace(name, client):\n",
    "    workspace = None\n",
    "    for ws in client.list_workspaces():\n",
    "        if ws.name() == name:\n",
    "            workspace= ws\n",
    "            return workspace\n",
    "    # if no workspaces were found\n",
    "    if workspace==None:\n",
    "        raise KeyError(f\"Workspace {name} was not found.\")\n",
    "    return workspace\n",
    "\n",
    "\n",
    "# returns the most recent model version in a workspace for the matching `model_name`\n",
    "def get_model_version(model_name, workspace):\n",
    "    modellist = workspace.models()\n",
    "    model_version = [m.versions()[-1] for m in modellist if m.name() == model_name]\n",
    "    # if no models match, return None\n",
    "    if len(modellist) <= 0:\n",
    "        raise KeyError(f\"Model {mname} not found in this workspace\")\n",
    "        return None\n",
    "    return model_version[0]\n",
    "\n",
    "# get a pipeline by name in the workspace\n",
    "def get_pipeline(pipeline_name, workspace):\n",
    "    plist = workspace.pipelines()\n",
    "    pipeline = [p for p in plist if p.name() == pipeline_name]\n",
    "    if len(pipeline) <= 0:\n",
    "        raise KeyError(f\"Pipeline {pipeline_name} not found in this workspace\")\n",
    "        return None\n",
    "    return pipeline[0]\n"
   ]
  },
  {
   "cell_type": "markdown",
   "id": "a74c5788-1b13-44b5-9f2c-82fdc531df78",
   "metadata": {},
   "source": [
    "### Connect to the Wallaroo Instance\n",
    "\n",
    "The first step is to connect to Wallaroo through the Wallaroo client.  The Python library is included in the Wallaroo install and available through the Jupyter Hub interface provided with your Wallaroo environment.\n",
    "\n",
    "This is accomplished using the `wallaroo.Client()` command, which provides a URL to grant the SDK permission to your specific Wallaroo environment.  When displayed, enter the URL into a browser and confirm permissions.  Store the connection into a variable that can be referenced later.\n",
    "\n",
    "If logging into the Wallaroo instance through the internal JupyterHub service, use `wl = wallaroo.Client()`.  For more information on Wallaroo Client settings, see the [Client Connection guide](https://docs.wallaroo.ai/wallaroo-developer-guides/wallaroo-sdk-guides/wallaroo-sdk-essentials-guide/wallaroo-sdk-essentials-client/)."
   ]
  },
  {
   "cell_type": "code",
   "execution_count": 3,
   "id": "5f89932e",
   "metadata": {},
   "outputs": [],
   "source": [
    "## blank space to log in \n",
    "\n",
    "wl = wallaroo.Client()"
   ]
  },
  {
   "cell_type": "markdown",
   "id": "abf1e30d",
   "metadata": {},
   "source": [
    "### Set Configurations\n",
    "\n",
    "Set the workspace, pipeline, and model used from Notebook 1.  The helper functions will make this task easier.\n",
    "\n",
    "#### Set Configurations References\n",
    "\n",
    "* [Wallaroo SDK Essentials Guide: Workspace Management](https://docs.wallaroo.ai/wallaroo-developer-guides/wallaroo-sdk-guides/wallaroo-sdk-essentials-guide/wallaroo-sdk-essentials-workspace/)\n",
    "* [Wallaroo SDK Essentials Guide: Pipeline Management](https://docs.wallaroo.ai/wallaroo-developer-guides/wallaroo-sdk-guides/wallaroo-sdk-essentials-guide/wallaroo-sdk-essentials-pipelines/wallaroo-sdk-essentials-pipeline/)"
   ]
  },
  {
   "cell_type": "code",
   "execution_count": 4,
   "id": "8192998c",
   "metadata": {},
   "outputs": [
    {
     "data": {
      "text/plain": [
       "{'name': 'workshop-workspace-john-forecast-demo', 'id': 22, 'archived': False, 'created_by': '1394d144-06a0-4b6b-b2db-d7945810e39c', 'created_at': '2023-11-13T17:06:07.813719+00:00', 'models': [{'name': 'forecast-model-challenger-01', 'versions': 1, 'owner_id': '\"\"', 'last_update_time': datetime.datetime(2023, 11, 13, 20, 42, 8, 51724, tzinfo=tzutc()), 'created_at': datetime.datetime(2023, 11, 13, 20, 42, 8, 51724, tzinfo=tzutc())}, {'name': 'forecast-model-challenger-02', 'versions': 1, 'owner_id': '\"\"', 'last_update_time': datetime.datetime(2023, 11, 13, 20, 42, 9, 272465, tzinfo=tzutc()), 'created_at': datetime.datetime(2023, 11, 13, 20, 42, 9, 272465, tzinfo=tzutc())}, {'name': 'forecast-model', 'versions': 7, 'owner_id': '\"\"', 'last_update_time': datetime.datetime(2023, 11, 14, 16, 41, 7, 131843, tzinfo=tzutc()), 'created_at': datetime.datetime(2023, 11, 13, 17, 7, 26, 93495, tzinfo=tzutc())}], 'pipelines': [{'name': 'rental-forecast', 'create_time': datetime.datetime(2023, 11, 13, 17, 7, 28, 18163, tzinfo=tzutc()), 'definition': '[]'}]}"
      ]
     },
     "metadata": {},
     "output_type": "display_data"
    },
    {
     "data": {
      "text/html": [
       "<table><tr><th>name</th> <td>rental-forecast</td></tr><tr><th>created</th> <td>2023-11-13 17:07:28.018163+00:00</td></tr><tr><th>last_updated</th> <td>2023-11-14 20:13:39.445708+00:00</td></tr><tr><th>deployed</th> <td>False</td></tr><tr><th>arch</th> <td>None</td></tr><tr><th>tags</th> <td></td></tr><tr><th>versions</th> <td>eb9b38cb-6d37-4653-8b69-6cadf73e1905, 07570328-a944-4a1e-9c94-54ac74425dbe, c7bf00c5-dfe3-4dcd-b07a-b9c1254b6533, 2d597294-0588-41ec-8658-13d76f379658, eed77fa5-60aa-4ed5-a116-775c358e9aae, 4d57021d-70d0-40d7-8790-280e34087be1, 19f7d8e5-8227-45af-a186-cf9f05d0fdcb, 003809bc-0e60-409b-98db-d1bbf9b41170, 52bcc0e1-8962-4ea1-9806-6fcdbb83351d, 2ff4d42a-a9e3-4e2f-8136-f2905e78378f, 1525547a-7068-47ae-88b0-de0d67117998, ed1e809e-26a0-499e-93db-69cb87da0a8b, e97b3283-0856-4a89-89af-ba69e3a95e08, a3992425-bd73-4988-b42c-47c6e016288c, 7e43df46-2da3-4203-bf2a-ad16dfbf6ecc, 2a396c4c-45da-4620-92a0-a1b5973eb2c1, 94dd6ea2-ac9f-4477-ac6d-2972c8eefa93, 923e9499-ced4-4cda-af1d-1537d5352edc, 3430cf1b-1ece-4ca8-9b99-f71ed2faab32, 11ab670d-1eeb-4dd5-8f2f-d4e05f8bb403, 24a0f17d-8434-4da2-b784-b0a2bbad40f8, 3224a519-5caf-4de4-97bd-84fa95f9895a, 5cda6f54-cfde-4931-a873-4da4e141cea2, af62e7b2-8054-474d-a898-0384f1844e58, 3afd43f4-9d11-47c9-81da-2f65f0e916a0, 972c17d7-4524-4ae2-8ff8-683d3a8aee2a</td></tr><tr><th>steps</th> <td>forecast-model</td></tr><tr><th>published</th> <td>False</td></tr></table>"
      ],
      "text/plain": [
       "{'name': 'rental-forecast', 'create_time': datetime.datetime(2023, 11, 13, 17, 7, 28, 18163, tzinfo=tzutc()), 'definition': '[]'}"
      ]
     },
     "metadata": {},
     "output_type": "display_data"
    },
    {
     "data": {
      "text/html": [
       "<table>\n",
       "        <tr>\n",
       "          <td>Name</td>\n",
       "          <td>forecast-model</td>\n",
       "        </tr>\n",
       "        <tr>\n",
       "          <td>Version</td>\n",
       "          <td>92015e7a-4488-45fa-b41c-deaa21bdd3c7</td>\n",
       "        </tr>\n",
       "        <tr>\n",
       "          <td>File Name</td>\n",
       "          <td>forecast_standard.py</td>\n",
       "        </tr>\n",
       "        <tr>\n",
       "          <td>SHA</td>\n",
       "          <td>7db4bd047fc050a785633b1c110c0398bee5ded828397bc9a8c0ebab88a0ffcf</td>\n",
       "        </tr>\n",
       "        <tr>\n",
       "          <td>Status</td>\n",
       "          <td>ready</td>\n",
       "        </tr>\n",
       "        <tr>\n",
       "          <td>Image Path</td>\n",
       "          <td>None</td>\n",
       "        </tr>\n",
       "        <tr>\n",
       "          <td>Architecture</td>\n",
       "          <td>None</td>\n",
       "        </tr>\n",
       "        <tr>\n",
       "          <td>Updated At</td>\n",
       "          <td>2023-14-Nov 16:41:07</td>\n",
       "        </tr>\n",
       "      </table>"
      ],
      "text/plain": [
       "{'name': 'forecast-model', 'version': '92015e7a-4488-45fa-b41c-deaa21bdd3c7', 'file_name': 'forecast_standard.py', 'image_path': None, 'arch': None, 'last_update_time': datetime.datetime(2023, 11, 14, 16, 41, 7, 131843, tzinfo=tzutc())}"
      ]
     },
     "metadata": {},
     "output_type": "display_data"
    }
   ],
   "source": [
    "# retrieve the previous workspace, model, and pipeline version\n",
    "\n",
    "workspace_name = \"workshop-workspace-john-forecast-demo\"\n",
    "\n",
    "workspace = get_workspace(workspace_name, wl)\n",
    "\n",
    "# set your current workspace to the workspace that you just created\n",
    "wl.set_current_workspace(workspace)\n",
    "\n",
    "# examine your current workspace\n",
    "wl.get_current_workspace()\n",
    "\n",
    "model_name = 'forecast-model'\n",
    "\n",
    "prime_model_version = get_model_version(model_name, workspace)\n",
    "\n",
    "pipeline_name = 'rental-forecast'\n",
    "\n",
    "pipeline = get_pipeline(pipeline_name, workspace)\n",
    "\n",
    "# display the workspace, model, and pipeline\n",
    "\n",
    "display(wl.get_current_workspace())\n",
    "display(pipeline)\n",
    "display(prime_model_version)\n",
    "\n"
   ]
  },
  {
   "cell_type": "markdown",
   "id": "e27e9fc3",
   "metadata": {},
   "source": [
    "## Deploy the Pipeline with the Model Version Step\n",
    "\n",
    "As per the other workshops:\n",
    "\n",
    "1. Clear the pipeline of all steps.\n",
    "1. Add the model version as a pipeline step.\n",
    "1. Deploy the pipeline with the following deployment configuration:\n",
    "\n",
    "```python\n",
    "deploy_config = wallaroo.DeploymentConfigBuilder().replica_count(1).cpus(0.5).memory(\"1Gi\").build()\n",
    "```"
   ]
  },
  {
   "cell_type": "code",
   "execution_count": 5,
   "id": "3727ad65",
   "metadata": {},
   "outputs": [
    {
     "name": "stdout",
     "output_type": "stream",
     "text": [
      "Waiting for deployment - this will take up to 45s ............ ok\n"
     ]
    },
    {
     "data": {
      "text/html": [
       "<table><tr><th>name</th> <td>rental-forecast</td></tr><tr><th>created</th> <td>2023-11-13 17:07:28.018163+00:00</td></tr><tr><th>last_updated</th> <td>2023-11-14 20:25:39.582966+00:00</td></tr><tr><th>deployed</th> <td>True</td></tr><tr><th>arch</th> <td>None</td></tr><tr><th>tags</th> <td></td></tr><tr><th>versions</th> <td>df1688f3-e972-47cb-ab81-e7647e1e14ac, eb9b38cb-6d37-4653-8b69-6cadf73e1905, 07570328-a944-4a1e-9c94-54ac74425dbe, c7bf00c5-dfe3-4dcd-b07a-b9c1254b6533, 2d597294-0588-41ec-8658-13d76f379658, eed77fa5-60aa-4ed5-a116-775c358e9aae, 4d57021d-70d0-40d7-8790-280e34087be1, 19f7d8e5-8227-45af-a186-cf9f05d0fdcb, 003809bc-0e60-409b-98db-d1bbf9b41170, 52bcc0e1-8962-4ea1-9806-6fcdbb83351d, 2ff4d42a-a9e3-4e2f-8136-f2905e78378f, 1525547a-7068-47ae-88b0-de0d67117998, ed1e809e-26a0-499e-93db-69cb87da0a8b, e97b3283-0856-4a89-89af-ba69e3a95e08, a3992425-bd73-4988-b42c-47c6e016288c, 7e43df46-2da3-4203-bf2a-ad16dfbf6ecc, 2a396c4c-45da-4620-92a0-a1b5973eb2c1, 94dd6ea2-ac9f-4477-ac6d-2972c8eefa93, 923e9499-ced4-4cda-af1d-1537d5352edc, 3430cf1b-1ece-4ca8-9b99-f71ed2faab32, 11ab670d-1eeb-4dd5-8f2f-d4e05f8bb403, 24a0f17d-8434-4da2-b784-b0a2bbad40f8, 3224a519-5caf-4de4-97bd-84fa95f9895a, 5cda6f54-cfde-4931-a873-4da4e141cea2, af62e7b2-8054-474d-a898-0384f1844e58, 3afd43f4-9d11-47c9-81da-2f65f0e916a0, 972c17d7-4524-4ae2-8ff8-683d3a8aee2a</td></tr><tr><th>steps</th> <td>forecast-model</td></tr><tr><th>published</th> <td>False</td></tr></table>"
      ],
      "text/plain": [
       "{'name': 'rental-forecast', 'create_time': datetime.datetime(2023, 11, 13, 17, 7, 28, 18163, tzinfo=tzutc()), 'definition': \"[{'ModelInference': {'models': [{'name': 'forecast-model', 'version': '92015e7a-4488-45fa-b41c-deaa21bdd3c7', 'sha': '7db4bd047fc050a785633b1c110c0398bee5ded828397bc9a8c0ebab88a0ffcf'}]}}]\"}"
      ]
     },
     "execution_count": 5,
     "metadata": {},
     "output_type": "execute_result"
    }
   ],
   "source": [
    "pipeline.clear()\n",
    "pipeline.add_model_step(prime_model_version)\n",
    "\n",
    "deploy_config = wallaroo.DeploymentConfigBuilder().replica_count(1).cpus(0.5).memory(\"1Gi\").build()\n",
    "pipeline.deploy(deployment_config=deploy_config)"
   ]
  },
  {
   "cell_type": "markdown",
   "id": "824c932d",
   "metadata": {},
   "source": [
    "### Sample Inference\n",
    "\n",
    "Verify the pipeline is deployed properly with a sample inference with the file `./data/test_data.df.json`."
   ]
  },
  {
   "cell_type": "code",
   "execution_count": 6,
   "id": "bcb9cc81",
   "metadata": {},
   "outputs": [
    {
     "data": {
      "text/html": [
       "<div>\n",
       "<style scoped>\n",
       "    .dataframe tbody tr th:only-of-type {\n",
       "        vertical-align: middle;\n",
       "    }\n",
       "\n",
       "    .dataframe tbody tr th {\n",
       "        vertical-align: top;\n",
       "    }\n",
       "\n",
       "    .dataframe thead th {\n",
       "        text-align: right;\n",
       "    }\n",
       "</style>\n",
       "<table border=\"1\" class=\"dataframe\">\n",
       "  <thead>\n",
       "    <tr style=\"text-align: right;\">\n",
       "      <th></th>\n",
       "      <th>time</th>\n",
       "      <th>in.cnt</th>\n",
       "      <th>in.dteday</th>\n",
       "      <th>in.holiday</th>\n",
       "      <th>in.season</th>\n",
       "      <th>in.site_id</th>\n",
       "      <th>in.weekday</th>\n",
       "      <th>in.workingday</th>\n",
       "      <th>out.dteday</th>\n",
       "      <th>out.forecast</th>\n",
       "      <th>out.forecast_average</th>\n",
       "      <th>out.site_id</th>\n",
       "      <th>check_failures</th>\n",
       "    </tr>\n",
       "  </thead>\n",
       "  <tbody>\n",
       "    <tr>\n",
       "      <th>0</th>\n",
       "      <td>2023-11-14 20:25:54.486</td>\n",
       "      <td>[1240, 1551, 2324, 805, 1948, 1650, 913, 931, 1256, 1614, 1000, 1883, 1964, 2036, 2586, 3219, 3947, 1826, 1418, 723, 1281, 2564, 2181, 1539, 2059, 2428, 836, 1235, -1, -1, -1, -1, -1, -1, -1]</td>\n",
       "      <td>[2011-02-02, 2011-02-03, 2011-02-04, 2011-02-05, 2011-02-06, 2011-02-07, 2011-02-08, 2011-02-09, 2011-02-10, 2011-02-11, 2011-02-12, 2011-02-13, 2011-02-14, 2011-02-15, 2011-02-16, 2011-02-17, 2011-02-18, 2011-02-19, 2011-02-20, 2011-02-21, 2011-02-22, 2011-02-23, 2011-02-24, 2011-02-25, 2011-02-26, 2011-02-27, 2011-02-28, 2011-03-01, 2011-03-02, 2011-03-03, 2011-03-04, 2011-03-05, 2011-03-06, 2011-03-07, 2011-03-08]</td>\n",
       "      <td>[0, 0, 0, 0, 0, 0, 0, 0, 0, 0, 0, 0, 0, 0, 0, 0, 0, 0, 0, 1, 0, 0, 0, 0, 0, 0, 0, 0, 0, 0, 0, 0, 0, 0, 0]</td>\n",
       "      <td>[1, 1, 1, 1, 1, 1, 1, 1, 1, 1, 1, 1, 1, 1, 1, 1, 1, 1, 1, 1, 1, 1, 1, 1, 1, 1, 1, 1, 1, 1, 1, 1, 1, 1, 1]</td>\n",
       "      <td>[site0001, site0001, site0001, site0001, site0001, site0001, site0001, site0001, site0001, site0001, site0001, site0001, site0001, site0001, site0001, site0001, site0001, site0001, site0001, site0001, site0001, site0001, site0001, site0001, site0001, site0001, site0001, site0001, site0001, site0001, site0001, site0001, site0001, site0001, site0001]</td>\n",
       "      <td>[3, 4, 5, 6, 0, 1, 2, 3, 4, 5, 6, 0, 1, 2, 3, 4, 5, 6, 0, 1, 2, 3, 4, 5, 6, 0, 1, 2, 3, 4, 5, 6, 0, 1, 2]</td>\n",
       "      <td>[1, 1, 1, 0, 0, 1, 1, 1, 1, 1, 0, 0, 1, 1, 1, 1, 1, 0, 0, 0, 1, 1, 1, 1, 0, 0, 1, 1, 1, 1, 1, 0, 0, 1, 1]</td>\n",
       "      <td>[2011-03-02, 2011-03-03, 2011-03-04, 2011-03-05, 2011-03-06, 2011-03-07, 2011-03-08]</td>\n",
       "      <td>[2269, 1712, 1795, 1371, 1819, 2045, 1974]</td>\n",
       "      <td>[1855.0, 1855.0, 1855.0, 1855.0, 1855.0, 1855.0, 1855.0]</td>\n",
       "      <td>[site0001, site0001, site0001, site0001, site0001, site0001, site0001]</td>\n",
       "      <td>0</td>\n",
       "    </tr>\n",
       "  </tbody>\n",
       "</table>\n",
       "</div>"
      ],
      "text/plain": [
       "                     time  \\\n",
       "0 2023-11-14 20:25:54.486   \n",
       "\n",
       "                                                                                                                                                                                            in.cnt  \\\n",
       "0  [1240, 1551, 2324, 805, 1948, 1650, 913, 931, 1256, 1614, 1000, 1883, 1964, 2036, 2586, 3219, 3947, 1826, 1418, 723, 1281, 2564, 2181, 1539, 2059, 2428, 836, 1235, -1, -1, -1, -1, -1, -1, -1]   \n",
       "\n",
       "                                                                                                                                                                                                                                                                                                                                                                                                                              in.dteday  \\\n",
       "0  [2011-02-02, 2011-02-03, 2011-02-04, 2011-02-05, 2011-02-06, 2011-02-07, 2011-02-08, 2011-02-09, 2011-02-10, 2011-02-11, 2011-02-12, 2011-02-13, 2011-02-14, 2011-02-15, 2011-02-16, 2011-02-17, 2011-02-18, 2011-02-19, 2011-02-20, 2011-02-21, 2011-02-22, 2011-02-23, 2011-02-24, 2011-02-25, 2011-02-26, 2011-02-27, 2011-02-28, 2011-03-01, 2011-03-02, 2011-03-03, 2011-03-04, 2011-03-05, 2011-03-06, 2011-03-07, 2011-03-08]   \n",
       "\n",
       "                                                                                                  in.holiday  \\\n",
       "0  [0, 0, 0, 0, 0, 0, 0, 0, 0, 0, 0, 0, 0, 0, 0, 0, 0, 0, 0, 1, 0, 0, 0, 0, 0, 0, 0, 0, 0, 0, 0, 0, 0, 0, 0]   \n",
       "\n",
       "                                                                                                   in.season  \\\n",
       "0  [1, 1, 1, 1, 1, 1, 1, 1, 1, 1, 1, 1, 1, 1, 1, 1, 1, 1, 1, 1, 1, 1, 1, 1, 1, 1, 1, 1, 1, 1, 1, 1, 1, 1, 1]   \n",
       "\n",
       "                                                                                                                                                                                                                                                                                                                                                       in.site_id  \\\n",
       "0  [site0001, site0001, site0001, site0001, site0001, site0001, site0001, site0001, site0001, site0001, site0001, site0001, site0001, site0001, site0001, site0001, site0001, site0001, site0001, site0001, site0001, site0001, site0001, site0001, site0001, site0001, site0001, site0001, site0001, site0001, site0001, site0001, site0001, site0001, site0001]   \n",
       "\n",
       "                                                                                                  in.weekday  \\\n",
       "0  [3, 4, 5, 6, 0, 1, 2, 3, 4, 5, 6, 0, 1, 2, 3, 4, 5, 6, 0, 1, 2, 3, 4, 5, 6, 0, 1, 2, 3, 4, 5, 6, 0, 1, 2]   \n",
       "\n",
       "                                                                                               in.workingday  \\\n",
       "0  [1, 1, 1, 0, 0, 1, 1, 1, 1, 1, 0, 0, 1, 1, 1, 1, 1, 0, 0, 0, 1, 1, 1, 1, 0, 0, 1, 1, 1, 1, 1, 0, 0, 1, 1]   \n",
       "\n",
       "                                                                             out.dteday  \\\n",
       "0  [2011-03-02, 2011-03-03, 2011-03-04, 2011-03-05, 2011-03-06, 2011-03-07, 2011-03-08]   \n",
       "\n",
       "                                 out.forecast  \\\n",
       "0  [2269, 1712, 1795, 1371, 1819, 2045, 1974]   \n",
       "\n",
       "                                       out.forecast_average  \\\n",
       "0  [1855.0, 1855.0, 1855.0, 1855.0, 1855.0, 1855.0, 1855.0]   \n",
       "\n",
       "                                                              out.site_id  \\\n",
       "0  [site0001, site0001, site0001, site0001, site0001, site0001, site0001]   \n",
       "\n",
       "   check_failures  \n",
       "0               0  "
      ]
     },
     "metadata": {},
     "output_type": "display_data"
    }
   ],
   "source": [
    "# sample inference from previous code here\n",
    "\n",
    "single_result = pipeline.infer_from_file('../data/testdata-standard.df.json')\n",
    "display(single_result)"
   ]
  },
  {
   "cell_type": "markdown",
   "id": "3d8cfeaa-acae-4c99-bd81-c9164945943e",
   "metadata": {},
   "source": [
    "## Undeploying Your Pipeline\n",
    "\n",
    "You should always undeploy your pipelines when you are done with them, or don't need them for a while. This releases the resources that the pipeline is using for other processes to use. You can always redeploy the pipeline when you need it again. As a reminder, here are the commands to deploy and undeploy a pipeline:\n",
    "\n",
    "```python\n",
    "\n",
    "# \"turn off\" the pipeline and releaase its resources\n",
    "my_pipeline.undeploy()\n",
    "```"
   ]
  },
  {
   "cell_type": "code",
   "execution_count": 7,
   "id": "b44a754b",
   "metadata": {},
   "outputs": [
    {
     "name": "stdout",
     "output_type": "stream",
     "text": [
      "Waiting for undeployment - this will take up to 45s .................................... ok\n"
     ]
    },
    {
     "data": {
      "text/html": [
       "<table><tr><th>name</th> <td>rental-forecast</td></tr><tr><th>created</th> <td>2023-11-13 17:07:28.018163+00:00</td></tr><tr><th>last_updated</th> <td>2023-11-14 20:25:39.582966+00:00</td></tr><tr><th>deployed</th> <td>False</td></tr><tr><th>arch</th> <td>None</td></tr><tr><th>tags</th> <td></td></tr><tr><th>versions</th> <td>df1688f3-e972-47cb-ab81-e7647e1e14ac, eb9b38cb-6d37-4653-8b69-6cadf73e1905, 07570328-a944-4a1e-9c94-54ac74425dbe, c7bf00c5-dfe3-4dcd-b07a-b9c1254b6533, 2d597294-0588-41ec-8658-13d76f379658, eed77fa5-60aa-4ed5-a116-775c358e9aae, 4d57021d-70d0-40d7-8790-280e34087be1, 19f7d8e5-8227-45af-a186-cf9f05d0fdcb, 003809bc-0e60-409b-98db-d1bbf9b41170, 52bcc0e1-8962-4ea1-9806-6fcdbb83351d, 2ff4d42a-a9e3-4e2f-8136-f2905e78378f, 1525547a-7068-47ae-88b0-de0d67117998, ed1e809e-26a0-499e-93db-69cb87da0a8b, e97b3283-0856-4a89-89af-ba69e3a95e08, a3992425-bd73-4988-b42c-47c6e016288c, 7e43df46-2da3-4203-bf2a-ad16dfbf6ecc, 2a396c4c-45da-4620-92a0-a1b5973eb2c1, 94dd6ea2-ac9f-4477-ac6d-2972c8eefa93, 923e9499-ced4-4cda-af1d-1537d5352edc, 3430cf1b-1ece-4ca8-9b99-f71ed2faab32, 11ab670d-1eeb-4dd5-8f2f-d4e05f8bb403, 24a0f17d-8434-4da2-b784-b0a2bbad40f8, 3224a519-5caf-4de4-97bd-84fa95f9895a, 5cda6f54-cfde-4931-a873-4da4e141cea2, af62e7b2-8054-474d-a898-0384f1844e58, 3afd43f4-9d11-47c9-81da-2f65f0e916a0, 972c17d7-4524-4ae2-8ff8-683d3a8aee2a</td></tr><tr><th>steps</th> <td>forecast-model</td></tr><tr><th>published</th> <td>False</td></tr></table>"
      ],
      "text/plain": [
       "{'name': 'rental-forecast', 'create_time': datetime.datetime(2023, 11, 13, 17, 7, 28, 18163, tzinfo=tzutc()), 'definition': \"[{'ModelInference': {'models': [{'name': 'forecast-model', 'version': '92015e7a-4488-45fa-b41c-deaa21bdd3c7', 'sha': '7db4bd047fc050a785633b1c110c0398bee5ded828397bc9a8c0ebab88a0ffcf'}]}}]\"}"
      ]
     },
     "execution_count": 7,
     "metadata": {},
     "output_type": "execute_result"
    }
   ],
   "source": [
    "# blank space to undeploy the pipeline\n",
    "pipeline.undeploy()"
   ]
  },
  {
   "cell_type": "markdown",
   "id": "aad9ceb5",
   "metadata": {},
   "source": [
    "## Publish the Pipeline for Edge Deployment\n",
    "\n",
    "It worked! For a demo, we'll take working once as \"tested\". So now that we've tested our pipeline, we are ready to publish it for edge deployment.\n",
    "\n",
    "Publishing it means assembling all of the configuration files and model assets and pushing them to an Open Container Initiative (OCI) repository set in the Wallaroo instance as the Edge Registry service.  DevOps engineers then retrieve that image and deploy it through Docker, Kubernetes, or similar deployments.\n",
    "\n",
    "See [Edge Deployment Registry Guide](https://staging.docs.wallaroo.ai/wallaroo-operations-guide/wallaroo-configuration/wallaroo-edge-deployment/) for details on adding an OCI Registry Service to Wallaroo as the Edge Deployment Registry.\n",
    "\n",
    "This is done through the SDK command `wallaroo.pipeline.publish(deployment_config)` which has the following parameters and returns.\n",
    "\n",
    "#### Publish a Pipeline Parameters\n",
    "\n",
    "The `publish` method takes the following parameters.  The containerized pipeline will be pushed to the Edge registry service with the model, pipeline configurations, and other artifacts needed to deploy the pipeline.\n",
    "\n",
    "| Parameter | Type | Description |\n",
    "|---|---|---|\n",
    "| `deployment_config` | `wallaroo.deployment_config.DeploymentConfig` (*Optional*) | Sets the pipeline deployment configuration.  For example:    For more information on pipeline deployment configuration, see the [Wallaroo SDK Essentials Guide: Pipeline Deployment Configuration](https://docs.wallaroo.ai/wallaroo-developer-guides/wallaroo-sdk-guides/wallaroo-sdk-essentials-guide/wallaroo-sdk-essentials-pipelines/wallaroo-sdk-essentials-pipeline-deployment-config/).\n",
    "\n",
    "#### Publish a Pipeline Returns\n",
    "\n",
    "| Field | Type | Description |\n",
    "|---|---|---|\n",
    "| id | integer | Numerical Wallaroo id of the published pipeline. |\n",
    "| pipeline version id | integer | Numerical Wallaroo id of the pipeline version published. |\n",
    "| status | string | The status of the pipeline publication.  Values include:  <ul><li>PendingPublish: The pipeline publication is about to be uploaded or is in the process of being uploaded.</li><li>Published:  The pipeline is published and ready for use.</li></ul> |\n",
    "| Engine URL | string | The URL of the published pipeline engine in the edge registry. |\n",
    "| Pipeline URL | string | The URL of the published pipeline in the edge registry. |\n",
    "| Helm Chart URL | string | The URL of the helm chart for the published pipeline in the edge registry. |\n",
    "| Helm Chart Reference | string | The help chart reference. |\n",
    "| Helm Chart Version | string | The version of the Helm Chart of the published pipeline.  This is also used as the Docker tag. |\n",
    "| Engine Config | `wallaroo.deployment_config.DeploymentConfig` | The pipeline configuration included with the published pipeline. |\n",
    "| Created At | DateTime | When the published pipeline was created. |\n",
    "| Updated At | DateTime | When the published pipeline was updated. |\n",
    "\n",
    "### Publish the Pipeline for Edge Deployment Exercise\n",
    "\n",
    "We will now publish the pipeline to our Edge Deployment Registry with the `pipeline.publish(deployment_config)` command.  `deployment_config` is an optional field that specifies the pipeline deployment.  This can be overridden by the DevOps engineer during deployment.\n",
    "\n",
    "In this example, assuming that the pipeline was saved to the variable `my_pipeline`, we would publish it to the Edge Registry already stored in the Wallaroo instance and store the pipeline publish to the variable `my_pub` with the following command:\n",
    "\n",
    "```python\n",
    "my_pub=pipeline.publish(deploy_config)\n",
    "# display the publish\n",
    "my_pub\n",
    "```\n"
   ]
  },
  {
   "cell_type": "code",
   "execution_count": 8,
   "id": "574281a8-9d8b-4588-b82a-acd3dcf37bdc",
   "metadata": {},
   "outputs": [
    {
     "name": "stdout",
     "output_type": "stream",
     "text": [
      "Waiting for pipeline publish... It may take up to 600 sec.\n",
      "Pipeline is Publishing...Published.\n"
     ]
    },
    {
     "data": {
      "text/html": [
       "\n",
       "          <table>\n",
       "              <tr><td>ID</td><td>45</td></tr>\n",
       "              <tr><td>Pipeline Version</td><td>8b95d5e1-bad3-4193-b813-e80c73f38f3d</td></tr>\n",
       "              <tr><td>Status</td><td>Published</td></tr>\n",
       "              <tr><td>Engine URL</td><td><a href='https://ghcr.io/wallaroolabs/doc-samples/engines/proxy/wallaroo/ghcr.io/wallaroolabs/standalone-mini:v2023.4.0-main-4086'>ghcr.io/wallaroolabs/doc-samples/engines/proxy/wallaroo/ghcr.io/wallaroolabs/standalone-mini:v2023.4.0-main-4086</a></td></tr>\n",
       "              <tr><td>Pipeline URL</td><td><a href='https://ghcr.io/wallaroolabs/doc-samples/pipelines/rental-forecast:8b95d5e1-bad3-4193-b813-e80c73f38f3d'>ghcr.io/wallaroolabs/doc-samples/pipelines/rental-forecast:8b95d5e1-bad3-4193-b813-e80c73f38f3d</a></td></tr>\n",
       "              <tr><td>Helm Chart URL</td><td>oci://<a href='https://ghcr.io/wallaroolabs/doc-samples/charts/rental-forecast'>ghcr.io/wallaroolabs/doc-samples/charts/rental-forecast</a></td></tr>\n",
       "              <tr><td>Helm Chart Reference</td><td>ghcr.io/wallaroolabs/doc-samples/charts@sha256:5b6be5c550cc5111432223e40f9a98ac41c9ad49e0560cc61ac1a9859d1a9823</td></tr>\n",
       "              <tr><td>Helm Chart Version</td><td>0.0.1-8b95d5e1-bad3-4193-b813-e80c73f38f3d</td></tr>\n",
       "              <tr><td>Engine Config</td><td>{'engine': {'resources': {'limits': {'cpu': 1.0, 'memory': '512Mi'}, 'requests': {'cpu': 1.0, 'memory': '512Mi'}}}, 'engineAux': {'images': {}}, 'enginelb': {'resources': {'limits': {'cpu': 1.0, 'memory': '512Mi'}, 'requests': {'cpu': 1.0, 'memory': '512Mi'}}}}</td></tr>\n",
       "              <tr><td>User Images</td><td>[]</td></tr>\n",
       "              <tr><td>Created By</td><td>john.hummel@wallaroo.ai</td></tr>\n",
       "              <tr><td>Created At</td><td>2023-11-14 20:26:32.944432+00:00</td></tr>\n",
       "              <tr><td>Updated At</td><td>2023-11-14 20:26:32.944432+00:00</td></tr>\n",
       "              <tr><td>Docker Run Variables</td><td>{}</td></tr>\n",
       "          </table>\n",
       "        "
      ],
      "text/plain": [
       "PipelinePublish(created_at=datetime.datetime(2023, 11, 14, 20, 26, 32, 944432, tzinfo=tzutc()), docker_run_variables={}, engine_config={'engine': {'resources': {'limits': {'cpu': 1.0, 'memory': '512Mi'}, 'requests': {'cpu': 1.0, 'memory': '512Mi'}}}, 'engineAux': {'images': {}}, 'enginelb': {'resources': {'limits': {'cpu': 1.0, 'memory': '512Mi'}, 'requests': {'cpu': 1.0, 'memory': '512Mi'}}}}, id=45, pipeline_version_id=70, status='Published', updated_at=datetime.datetime(2023, 11, 14, 20, 26, 32, 944432, tzinfo=tzutc()), user_images=[], created_by='1394d144-06a0-4b6b-b2db-d7945810e39c', engine_url='ghcr.io/wallaroolabs/doc-samples/engines/proxy/wallaroo/ghcr.io/wallaroolabs/standalone-mini:v2023.4.0-main-4086', error=None, helm={'reference': 'ghcr.io/wallaroolabs/doc-samples/charts@sha256:5b6be5c550cc5111432223e40f9a98ac41c9ad49e0560cc61ac1a9859d1a9823', 'values': {}, 'chart': 'ghcr.io/wallaroolabs/doc-samples/charts/rental-forecast', 'version': '0.0.1-8b95d5e1-bad3-4193-b813-e80c73f38f3d'}, pipeline_url='ghcr.io/wallaroolabs/doc-samples/pipelines/rental-forecast:8b95d5e1-bad3-4193-b813-e80c73f38f3d', pipeline_version_name='8b95d5e1-bad3-4193-b813-e80c73f38f3d', additional_properties={})"
      ]
     },
     "execution_count": 8,
     "metadata": {},
     "output_type": "execute_result"
    }
   ],
   "source": [
    "## blank space to publish the pipeline\n",
    "\n",
    "my_pub=pipeline.publish(deploy_config)\n",
    "# display the publish\n",
    "my_pub\n"
   ]
  },
  {
   "cell_type": "markdown",
   "id": "04131fe1",
   "metadata": {},
   "source": [
    "## List Published Pipelines\n",
    "\n",
    "The method `wallaroo.client.list_pipelines()` shows a list of all pipelines in the Wallaroo instance, and includes the `published` field that indicates whether the pipeline was published to the registry (`True`), or has not yet been published (`False`).\n",
    "\n",
    "### List Published Pipelines Exercise\n",
    "\n",
    "List all pipelines and see which ones are published or not.  For example, if your client was saved to the variable `wl`, then the following will list the pipelines and display which ones are published.\n",
    "\n",
    "```python\n",
    "wl.list_pipelines()\n",
    "```"
   ]
  },
  {
   "cell_type": "code",
   "execution_count": 9,
   "id": "791c656e",
   "metadata": {},
   "outputs": [
    {
     "data": {
      "text/html": [
       "<table><tr><th>name</th><th>created</th><th>last_updated</th><th>deployed</th><th>arch</th><th>tags</th><th>versions</th><th>steps</th><th>published</th></tr><tr><td>rental-forecast</td><td>2023-13-Nov 17:07:28</td><td>2023-14-Nov 20:26:32</td><td>False</td><td>None</td><td></td><td>8b95d5e1-bad3-4193-b813-e80c73f38f3d, df1688f3-e972-47cb-ab81-e7647e1e14ac, eb9b38cb-6d37-4653-8b69-6cadf73e1905, 07570328-a944-4a1e-9c94-54ac74425dbe, c7bf00c5-dfe3-4dcd-b07a-b9c1254b6533, 2d597294-0588-41ec-8658-13d76f379658, eed77fa5-60aa-4ed5-a116-775c358e9aae, 4d57021d-70d0-40d7-8790-280e34087be1, 19f7d8e5-8227-45af-a186-cf9f05d0fdcb, 003809bc-0e60-409b-98db-d1bbf9b41170, 52bcc0e1-8962-4ea1-9806-6fcdbb83351d, 2ff4d42a-a9e3-4e2f-8136-f2905e78378f, 1525547a-7068-47ae-88b0-de0d67117998, ed1e809e-26a0-499e-93db-69cb87da0a8b, e97b3283-0856-4a89-89af-ba69e3a95e08, a3992425-bd73-4988-b42c-47c6e016288c, 7e43df46-2da3-4203-bf2a-ad16dfbf6ecc, 2a396c4c-45da-4620-92a0-a1b5973eb2c1, 94dd6ea2-ac9f-4477-ac6d-2972c8eefa93, 923e9499-ced4-4cda-af1d-1537d5352edc, 3430cf1b-1ece-4ca8-9b99-f71ed2faab32, 11ab670d-1eeb-4dd5-8f2f-d4e05f8bb403, 24a0f17d-8434-4da2-b784-b0a2bbad40f8, 3224a519-5caf-4de4-97bd-84fa95f9895a, 5cda6f54-cfde-4931-a873-4da4e141cea2, af62e7b2-8054-474d-a898-0384f1844e58, 3afd43f4-9d11-47c9-81da-2f65f0e916a0, 972c17d7-4524-4ae2-8ff8-683d3a8aee2a</td><td>forecast-model</td><td>True</td></tr><tr><td>rental-forecast</td><td>2023-13-Nov 16:47:38</td><td>2023-13-Nov 16:48:04</td><td>False</td><td>None</td><td></td><td>a454f88a-2c1d-4b18-8beb-d7641c5a6fb1, 2caf016a-3c8a-465e-a610-ad723459bf89</td><td>forecast-model</td><td>False</td></tr><tr><td>edge-hf-summarization</td><td>2023-13-Nov 15:39:10</td><td>2023-13-Nov 15:39:11</td><td>False</td><td>None</td><td></td><td>552b664b-f209-4ccc-ba06-63237769d80b, 0cfda7e4-82dc-4c9b-9eda-424d76bcdf2b</td><td>hf-summarization</td><td>False</td></tr><tr><td>simpleorchestrationpipeline</td><td>2023-01-Nov 18:51:08</td><td>2023-01-Nov 18:51:12</td><td>False</td><td>None</td><td></td><td>791733b7-e8a9-44ff-adbf-62ba9d834d37, cdcf7dae-2cc1-4dc8-90b6-5746d4e648cc</td><td>simpleorchestrationmodel</td><td>False</td></tr><tr><td>puaehotswappipeline</td><td>2023-31-Oct 19:51:30</td><td>2023-31-Oct 19:51:59</td><td>False</td><td>None</td><td></td><td>ecf69506-b73a-455d-83de-b81a5c815b36, 90a41e8d-2b33-445c-a8af-411840377674, b1e80203-be2b-4a78-9e24-3e56d5d10d21, 0f1ccb35-b6c4-4bf6-8467-2e1722c57eb8</td><td>puaehousingmodelcontrol</td><td>False</td></tr><tr><td>ccfraudpipeline</td><td>2023-31-Oct 19:44:45</td><td>2023-31-Oct 19:44:47</td><td>False</td><td>None</td><td></td><td>9c731f7a-3a8b-4d36-9817-7e3c610bdbf4, 68798c66-bd12-443e-9447-a5204ba84608</td><td>ccfraudmodel</td><td>False</td></tr><tr><td>gcpsdkpipeline</td><td>2023-31-Oct 19:17:22</td><td>2023-31-Oct 19:17:27</td><td>False</td><td>None</td><td></td><td>a203556a-2c53-4e9f-bd42-40ada28601aa, 142c882f-eda2-4baf-bce0-cec78dbe8b79</td><td>gcpsdkmodel</td><td>False</td></tr><tr><td>azuremlsdkpipeline</td><td>2023-31-Oct 19:09:26</td><td>2023-31-Oct 19:09:31</td><td>False</td><td>None</td><td></td><td>007a633c-2000-4fe8-8515-3c9f0f77ebc2, 5627c9e4-350f-4082-9ba8-fde1d0fd8d40</td><td>azuremlsdkmodel</td><td>False</td></tr><tr><td>sdkquickpipeline</td><td>2023-31-Oct 19:04:45</td><td>2023-31-Oct 19:18:32</td><td>False</td><td>None</td><td></td><td>6a2f41c0-678c-4512-8f54-261a173f51d2, 6b8f09e1-a424-4bbc-9cd6-8c5e5cf6169a, 6d23f8dc-2ce1-4bf6-88ec-ec2278534bbf, 5757db0a-1ae6-45f8-ae37-57fa3a37caab</td><td>sdkquickmodel</td><td>False</td></tr><tr><td>housepricesagapipeline</td><td>2023-31-Oct 17:31:28</td><td>2023-31-Oct 17:35:59</td><td>True</td><td>None</td><td></td><td>a9efef0d-87c8-4d47-9cf5-a673d8b786ca, c56c294e-9afa-49cc-9598-b7a6ef2085bc, ae710d8b-b67c-428c-9201-8248154e23f4</td><td>housepricesagacontrol</td><td>True</td></tr><tr><td>housepricesagapipeline</td><td>2023-31-Oct 17:22:42</td><td>2023-31-Oct 17:22:43</td><td>True</td><td>None</td><td></td><td>cc9c2778-f31f-4821-bbfa-fa2b61ad7893, 90702408-1796-4894-9821-a5457fcc5c16</td><td>housepricesagacontrol</td><td>True</td></tr><tr><td>housepricesagapipeline</td><td>2023-31-Oct 17:20:47</td><td>2023-31-Oct 17:29:56</td><td>False</td><td>None</td><td></td><td>7c4751a8-06e7-4d61-8f34-eb602bb7662c, 70dd90e4-b188-418c-b6a0-90069d75884c, 8eae916c-dc3c-4e5e-81cc-851ce14edf16, 3ecffda0-7ed3-43f9-98b7-3b65a35fea67</td><td>housepricesagacontrol</td><td>False</td></tr><tr><td>housepricesagapipeline</td><td>2023-31-Oct 17:15:24</td><td>2023-31-Oct 17:22:04</td><td>False</td><td>None</td><td></td><td>de33624a-47b9-4dc9-bfea-112120315c32, 2c843723-8a6a-4b58-aad4-97d80778f86a, 2e1d25b4-6db2-44f9-a56b-b81f36ac5765, ca07d647-20fa-4ba2-9fab-bcbfdf981322, caea112d-8615-4ffb-b343-445d9589e1f8, 63ab004e-c7c3-4f68-a1bf-fe87a445bbed, 16b0174d-a0d9-4b96-833f-bc2b44de39d7, 50e4d94a-2782-4bf8-a087-53f0dca31b79</td><td>housepricesagacontrol</td><td>False</td></tr><tr><td>housepricesagapipeline</td><td>2023-31-Oct 14:08:10</td><td>2023-31-Oct 16:00:26</td><td>False</td><td>None</td><td></td><td>3aba56d7-b023-48f2-b4ec-0dfe2ef961f7, 4af641f4-f86c-46e4-9bf2-cf37c4fed878, 3958b211-a868-4bb7-b8fb-268ac46e7e95, a18c26da-91fd-4a78-92ae-61aa7649335f, 2e4a2e28-4241-4b67-8568-e6b778b2cd1b</td><td>housepricesagacontrol</td><td>False</td></tr></table>"
      ],
      "text/plain": [
       "[{'name': 'rental-forecast', 'create_time': datetime.datetime(2023, 11, 13, 17, 7, 28, 18163, tzinfo=tzutc()), 'definition': '[]'},\n",
       " {'name': 'rental-forecast', 'create_time': datetime.datetime(2023, 11, 13, 16, 47, 38, 840170, tzinfo=tzutc()), 'definition': '[]'},\n",
       " {'name': 'edge-hf-summarization', 'create_time': datetime.datetime(2023, 11, 13, 15, 39, 10, 416741, tzinfo=tzutc()), 'definition': '[]'},\n",
       " {'name': 'simpleorchestrationpipeline', 'create_time': datetime.datetime(2023, 11, 1, 18, 51, 8, 923108, tzinfo=tzutc()), 'definition': '[]'},\n",
       " {'name': 'puaehotswappipeline', 'create_time': datetime.datetime(2023, 10, 31, 19, 51, 30, 785109, tzinfo=tzutc()), 'definition': '[]'},\n",
       " {'name': 'ccfraudpipeline', 'create_time': datetime.datetime(2023, 10, 31, 19, 44, 45, 28580, tzinfo=tzutc()), 'definition': '[]'},\n",
       " {'name': 'gcpsdkpipeline', 'create_time': datetime.datetime(2023, 10, 31, 19, 17, 22, 442746, tzinfo=tzutc()), 'definition': '[]'},\n",
       " {'name': 'azuremlsdkpipeline', 'create_time': datetime.datetime(2023, 10, 31, 19, 9, 26, 521240, tzinfo=tzutc()), 'definition': '[]'},\n",
       " {'name': 'sdkquickpipeline', 'create_time': datetime.datetime(2023, 10, 31, 19, 4, 45, 856204, tzinfo=tzutc()), 'definition': '[]'},\n",
       " {'name': 'housepricesagapipeline', 'create_time': datetime.datetime(2023, 10, 31, 17, 31, 28, 617608, tzinfo=tzutc()), 'definition': '[]'},\n",
       " {'name': 'housepricesagapipeline', 'create_time': datetime.datetime(2023, 10, 31, 17, 22, 42, 390067, tzinfo=tzutc()), 'definition': '[]'},\n",
       " {'name': 'housepricesagapipeline', 'create_time': datetime.datetime(2023, 10, 31, 17, 20, 47, 44704, tzinfo=tzutc()), 'definition': '[]'},\n",
       " {'name': 'housepricesagapipeline', 'create_time': datetime.datetime(2023, 10, 31, 17, 15, 24, 475631, tzinfo=tzutc()), 'definition': '[]'},\n",
       " {'name': 'housepricesagapipeline', 'create_time': datetime.datetime(2023, 10, 31, 14, 8, 10, 116394, tzinfo=tzutc()), 'definition': '[]'}]"
      ]
     },
     "execution_count": 9,
     "metadata": {},
     "output_type": "execute_result"
    }
   ],
   "source": [
    "# list the pipelines and view which are published\n",
    "\n",
    "wl.list_pipelines()"
   ]
  },
  {
   "cell_type": "markdown",
   "id": "fb75748e",
   "metadata": {},
   "source": [
    "## List Publishes from a Pipeline\n",
    "\n",
    "All publishes created from a pipeline are displayed with the `wallaroo.pipeline.publishes` method.  The `pipeline_version_id` is used to know what version of the pipeline was used in that specific publish.  This allows for pipelines to be updated over time, and newer versions to be sent and tracked to the Edge Deployment Registry service.\n",
    "\n",
    "### List Publishes Parameters\n",
    "\n",
    "N/A\n",
    "\n",
    "### List Publishes Returns\n",
    "\n",
    "A List of the following fields:\n",
    "\n",
    "| Field | Type | Description |\n",
    "|---|---|---|\n",
    "| id | integer | Numerical Wallaroo id of the published pipeline. |\n",
    "| pipeline_version_id | integer | Numerical Wallaroo id of the pipeline version published. |\n",
    "| engine_url | string | The URL of the published pipeline engine in the edge registry. |\n",
    "| pipeline_url | string | The URL of the published pipeline in the edge registry. |\n",
    "| created_by | string | The email address of the user that published the pipeline.\n",
    "| Created At | DateTime | When the published pipeline was created. |\n",
    "| Updated At | DateTime | When the published pipeline was updated. |\n",
    "\n",
    "### List Publishes from a Pipeline Exercise\n",
    "\n",
    "List all of the publishes from our pipeline.  For example, if our pipeline is `my_pipeline`, then we would list all publishes from the pipeline with the following:\n",
    "\n",
    "```python\n",
    "my_pipeline.publishes()\n",
    "```"
   ]
  },
  {
   "cell_type": "code",
   "execution_count": 10,
   "id": "31001c99",
   "metadata": {},
   "outputs": [
    {
     "data": {
      "text/html": [
       "<table><tr><th>id</th><th>pipeline_version_name</th><th>engine_url</th><th>pipeline_url</th><th>created_by</th><th>created_at</th><th>updated_at</th></tr><tr><td>45</td><td>8b95d5e1-bad3-4193-b813-e80c73f38f3d</td><td><a href='https://ghcr.io/wallaroolabs/doc-samples/engines/proxy/wallaroo/ghcr.io/wallaroolabs/standalone-mini:v2023.4.0-main-4086'>ghcr.io/wallaroolabs/doc-samples/engines/proxy/wallaroo/ghcr.io/wallaroolabs/standalone-mini:v2023.4.0-main-4086</a></td><td><a href='https://ghcr.io/wallaroolabs/doc-samples/pipelines/rental-forecast:8b95d5e1-bad3-4193-b813-e80c73f38f3d'>ghcr.io/wallaroolabs/doc-samples/pipelines/rental-forecast:8b95d5e1-bad3-4193-b813-e80c73f38f3d</a></td><td>john.hummel@wallaroo.ai</td><td>2023-14-Nov 20:26:32</td><td>2023-14-Nov 20:26:32</td></tr></table>"
      ],
      "text/plain": [
       "[PipelinePublish(created_at=datetime.datetime(2023, 11, 14, 20, 26, 32, 944432, tzinfo=tzutc()), docker_run_variables={}, engine_config={'engine': {'resources': {'limits': {'cpu': 1.0, 'memory': '512Mi'}, 'requests': {'cpu': 1.0, 'memory': '512Mi'}}}, 'enginelb': {'resources': {'limits': {'cpu': 1.0, 'memory': '512Mi'}, 'requests': {'cpu': 1.0, 'memory': '512Mi'}}}, 'engineAux': {'images': {}}}, id=45, pipeline_version_id=70, status='Published', updated_at=datetime.datetime(2023, 11, 14, 20, 26, 32, 944432, tzinfo=tzutc()), user_images=[], created_by='1394d144-06a0-4b6b-b2db-d7945810e39c', engine_url='ghcr.io/wallaroolabs/doc-samples/engines/proxy/wallaroo/ghcr.io/wallaroolabs/standalone-mini:v2023.4.0-main-4086', error=None, helm={'reference': 'ghcr.io/wallaroolabs/doc-samples/charts@sha256:5b6be5c550cc5111432223e40f9a98ac41c9ad49e0560cc61ac1a9859d1a9823', 'chart': 'ghcr.io/wallaroolabs/doc-samples/charts/rental-forecast', 'version': '0.0.1-8b95d5e1-bad3-4193-b813-e80c73f38f3d', 'values': {}}, pipeline_url='ghcr.io/wallaroolabs/doc-samples/pipelines/rental-forecast:8b95d5e1-bad3-4193-b813-e80c73f38f3d', pipeline_version_name='8b95d5e1-bad3-4193-b813-e80c73f38f3d', additional_properties={})]"
      ]
     },
     "execution_count": 10,
     "metadata": {},
     "output_type": "execute_result"
    }
   ],
   "source": [
    "pipeline.publishes()"
   ]
  },
  {
   "cell_type": "markdown",
   "id": "94d3669d-b3b4-4747-8ded-e8585f38a6e5",
   "metadata": {},
   "source": [
    "## Congratulations!\n",
    "\n",
    "You have now \n",
    "\n",
    "* Created a workspace and set it as the current workspace.\n",
    "* Uploaded an ONNX model.\n",
    "* Created a Wallaroo pipeline, and set the most recent version of the uploaded model as a pipeline step.\n",
    "* Successfully send data to your pipeline for inference through the SDK and through an API call.\n"
   ]
  },
  {
   "cell_type": "markdown",
   "id": "55ecfb5f",
   "metadata": {},
   "source": [
    "## DevOps - Pipeline Edge Deployment\n",
    "\n",
    "Once a pipeline is deployed to the Edge Registry service, it can be deployed in environments such as Docker, Kubernetes, or similar container running services by a DevOps engineer.\n",
    "\n",
    "### Docker Deployment\n",
    "\n",
    "First, the DevOps engineer must authenticate to the same OCI Registry service used for the Wallaroo Edge Deployment registry.\n",
    "\n",
    "For more details, check with the documentation on your artifact service.  The following are provided for the three major cloud services:\n",
    "\n",
    "* [Set up authentication for Docker](https://cloud.google.com/artifact-registry/docs/docker/authentication)\n",
    "* [Authenticate with an Azure container registry](https://learn.microsoft.com/en-us/azure/container-registry/container-registry-authentication?tabs=azure-cli)\n",
    "* [Authenticating Amazon ECR Repositories for Docker CLI with Credential Helper](https://aws.amazon.com/blogs/compute/authenticating-amazon-ecr-repositories-for-docker-cli-with-credential-helper/)\n",
    "\n",
    "For the deployment, the engine URL is specified with the following environmental variables:\n",
    "\n",
    "```bash\n",
    "{published engine url}\n",
    "-e DEBUG=true -e OCI_REGISTRY={your registry server} \\\n",
    "-e CONFIG_CPUS=4 \\ # optional number of CPUs to use\n",
    "-e OCI_USERNAME={registry username} \\\n",
    "-e OCI_PASSWORD={registry token here} \\\n",
    "-e PIPELINE_URL={published pipeline url}\n",
    "```\n",
    "\n",
    "#### Docker Deployment Example\n",
    "\n",
    "Using our sample environment, here's sample deployment using Docker with a computer vision ML model, the same used in the [Wallaroo Use Case Tutorials Computer Vision: Retail](https://docs.wallaroo.ai/wallaroo-use-case-tutorials/wallaroo-use-case-computer-vision/use-case-computer-vision-retail/) tutorials.\n",
    "\n",
    "```bash\n",
    "docker run -p 8080:8080 \\\n",
    "    -e DEBUG=true -e OCI_REGISTRY={your registry server} \\\n",
    "    -e CONFIG_CPUS=4 \\\n",
    "    -e OCI_USERNAME=oauth2accesstoken \\\n",
    "    -e OCI_PASSWORD={registry token here} \\\n",
    "    -e PIPELINE_URL={your registry server}/pipelines/edge-cv-retail:bf70eaf7-8c11-4b46-b751-916a43b1a555 \\\n",
    "    {your registry server}/engine:v2023.3.0-main-3707\n",
    "```\n",
    "\n",
    "### Docker Compose Deployment\n",
    "\n",
    "For users who prefer to use `docker compose`, the following sample `compose.yaml` file is used to launch the Wallaroo Edge pipeline.  This is the same used in the [Wallaroo Use Case Tutorials Computer Vision: Retail](https://docs.wallaroo.ai/wallaroo-use-case-tutorials/wallaroo-use-case-computer-vision/use-case-computer-vision-retail/) tutorials.\n",
    "\n",
    "```yml\n",
    "services:\n",
    "  engine:\n",
    "    image: {Your Engine URL}\n",
    "    ports:\n",
    "      - 8080:8080\n",
    "    environment:\n",
    "      PIPELINE_URL: {Your Pipeline URL}\n",
    "      OCI_REGISTRY: {Your Edge Registry URL}\n",
    "      OCI_USERNAME:  {Your Registry Username}\n",
    "      OCI_PASSWORD: {Your Token or Password}\n",
    "      CONFIG_CPUS: 4\n",
    "```\n",
    "\n",
    "For example:\n",
    "\n",
    "```yml\n",
    "services:\n",
    "  engine:\n",
    "    image: sample-registry.com/engine:v2023.3.0-main-3707\n",
    "    ports:\n",
    "      - 8080:8080\n",
    "    environment:\n",
    "      PIPELINE_URL: sample-registry.com/pipelines/edge-cv-retail:bf70eaf7-8c11-4b46-b751-916a43b1a555\n",
    "      OCI_REGISTRY: sample-registry.com\n",
    "      OCI_USERNAME:  _json_key_base64\n",
    "      OCI_PASSWORD: abc123\n",
    "      CONFIG_CPUS: 4\n",
    "```\n",
    "\n",
    "#### Docker Compose Deployment Example\n",
    "\n",
    "The deployment and undeployment is then just a simple `docker compose up` and `docker compose down`.  The following shows an example of deploying the Wallaroo edge pipeline using `docker compose`.\n",
    "\n",
    "```bash\n",
    "docker compose up\n",
    "[+] Running 1/1\n",
    " ✔ Container cv_data-engine-1  Recreated                                                                                                                                                                 0.5s\n",
    "Attaching to cv_data-engine-1\n",
    "cv_data-engine-1  | Wallaroo Engine - Standalone mode\n",
    "cv_data-engine-1  | Login Succeeded\n",
    "cv_data-engine-1  | Fetching manifest and config for pipeline: sample-registry.com/pipelines/edge-cv-retail:bf70eaf7-8c11-4b46-b751-916a43b1a555\n",
    "cv_data-engine-1  | Fetching model layers\n",
    "cv_data-engine-1  | digest: sha256:c6c8869645962e7711132a7e17aced2ac0f60dcdc2c7faa79b2de73847a87984\n",
    "cv_data-engine-1  |   filename: c6c8869645962e7711132a7e17aced2ac0f60dcdc2c7faa79b2de73847a87984\n",
    "cv_data-engine-1  |   name: resnet-50\n",
    "cv_data-engine-1  |   type: model\n",
    "cv_data-engine-1  |   runtime: onnx\n",
    "cv_data-engine-1  |   version: 693e19b5-0dc7-4afb-9922-e3f7feefe66d\n",
    "cv_data-engine-1  |\n",
    "cv_data-engine-1  | Fetched\n",
    "cv_data-engine-1  | Starting engine\n",
    "cv_data-engine-1  | Looking for preexisting `yaml` files in //modelconfigs\n",
    "cv_data-engine-1  | Looking for preexisting `yaml` files in //pipelines\n",
    "```\n",
    "\n",
    "### Helm Deployment\n",
    "\n",
    "Published pipelines can be deployed through the use of helm charts.\n",
    "\n",
    "Helm deployments take up to two steps - the first step is in retrieving the required `values.yaml` and making updates to override.\n",
    "\n",
    "1. Pull the helm charts from the published pipeline.  The two fields are the Helm Chart URL and the Helm Chart version to specify the OCI .    This typically takes the format of:\n",
    "\n",
    "  ```bash\n",
    "  helm pull oci://{published.helm_chart_url} --version {published.helm_chart_version}\n",
    "  ```\n",
    "\n",
    "1. Extract the `tgz` file and copy the `values.yaml` and copy the values used to edit engine allocations, etc.  The following are **required** for the deployment to run:\n",
    "\n",
    "  ```yml\n",
    "  ociRegistry:\n",
    "    registry: {your registry service}\n",
    "    username:  {registry username here}\n",
    "    password: {registry token here}\n",
    "  ```\n",
    "\n",
    "  Store this into another file, suc as `local-values.yaml`.\n",
    "\n",
    "1. Create the namespace to deploy the pipeline to.  For example, the namespace `wallaroo-edge-pipeline` would be:\n",
    "\n",
    "  ```bash\n",
    "  kubectl create -n wallaroo-edge-pipeline\n",
    "  ```\n",
    "\n",
    "1. Deploy the `helm` installation with `helm install` through one of the following options:\n",
    "    1. Specify the `tgz` file that was downloaded and the local values file.  For example:\n",
    "\n",
    "        ```bash\n",
    "        helm install --namespace {namespace} --values {local values file} {helm install name} {tgz path}\n",
    "        ```\n",
    "\n",
    "    1. Specify the expended directory from the downloaded `tgz` file.\n",
    "\n",
    "        ```bash\n",
    "        helm install --namespace {namespace} --values {local values file} {helm install name} {helm directory path}\n",
    "        ```\n",
    "\n",
    "    1. Specify the Helm Pipeline Helm Chart and the Pipeline Helm Version.\n",
    "\n",
    "        ```bash\n",
    "        helm install --namespace {namespace} --values {local values file} {helm install name} oci://{published.helm_chart_url} --version {published.helm_chart_version}\n",
    "        ```\n",
    "\n",
    "1. Once deployed, the DevOps engineer will have to forward the appropriate ports to the `svc/engine-svc` service in the specific pipeline.  For example, using `kubectl port-forward` to the namespace `ccfraud` that would be:\n",
    "\n",
    "    ```bash\n",
    "    kubectl port-forward svc/engine-svc -n ccfraud01 8080 --address 0.0.0.0`\n",
    "    ```\n",
    "\n",
    "The following code segment generates a `docker run` template based on the previously published pipeline, assuming our publish was listed as `my_pub`."
   ]
  },
  {
   "cell_type": "code",
   "execution_count": 11,
   "id": "3f13ce16",
   "metadata": {},
   "outputs": [
    {
     "name": "stdout",
     "output_type": "stream",
     "text": [
      "\n",
      "docker run -p 8080:8080 \\\n",
      "    -e DEBUG=true -e OCI_REGISTRY=$REGISTRYURL \\\n",
      "    -e CONFIG_CPUS=4 \\\n",
      "    -e OCI_USERNAME=$REGISTRYUSERNAME \\\n",
      "    -e OCI_PASSWORD=$REGISTRYPASSWORD \\\n",
      "    -e PIPELINE_URL=ghcr.io/wallaroolabs/doc-samples/pipelines/rental-forecast:8b95d5e1-bad3-4193-b813-e80c73f38f3d \\\n",
      "    ghcr.io/wallaroolabs/doc-samples/engines/proxy/wallaroo/ghcr.io/wallaroolabs/standalone-mini:v2023.4.0-main-4086\n",
      "\n"
     ]
    }
   ],
   "source": [
    "docker_deploy = f'''\n",
    "docker run -p 8080:8080 \\\\\n",
    "    -e DEBUG=true -e OCI_REGISTRY=$REGISTRYURL \\\\\n",
    "    -e CONFIG_CPUS=4 \\\\\n",
    "    -e OCI_USERNAME=$REGISTRYUSERNAME \\\\\n",
    "    -e OCI_PASSWORD=$REGISTRYPASSWORD \\\\\n",
    "    -e PIPELINE_URL={my_pub.pipeline_url} \\\\\n",
    "    {my_pub.engine_url}\n",
    "'''\n",
    "\n",
    "print(docker_deploy)"
   ]
  },
  {
   "cell_type": "markdown",
   "id": "241aa8bc",
   "metadata": {},
   "source": [
    "### Docker Compose Deployment Exercise\n",
    "\n",
    "Use the `docker compose up` command on your own `compose.yaml` using the sample above, replacing the `OCI_USERNAME` and `OCI_PASSWORD` with the values provided by your instructor."
   ]
  },
  {
   "cell_type": "markdown",
   "id": "44605c62",
   "metadata": {},
   "source": [
    "## Edge Deployed Pipeline API Endpoints\n",
    "\n",
    "Once deployed, we can check the pipelines and models available.  We'll use a `curl` command, but any HTTP based request will work the same way.\n",
    "\n",
    "### Pipelines Endpoints\n",
    "\n",
    "The endpoint `/pipelines` returns:\n",
    "\n",
    "* **id** (*String*):  The name of the pipeline.\n",
    "* **status** (*String*):  The status as either `Running`, or `Error` if there are any issues.\n",
    "\n",
    "For this example, the deployment is made on a machine called `testboy.local`.  Replace this URL with the URL of you edge deployment.\n",
    "\n",
    "#### Pipelines Endpoints Exercise\n",
    "\n",
    "Use the following `curl` command to view the pipeline data.  For example, if the pipeline was deployed on `localhost`, then the command would be:\n",
    "\n",
    "```bash\n",
    "!curl locahost:8080/pipelines\n",
    "```"
   ]
  },
  {
   "cell_type": "code",
   "execution_count": 1,
   "id": "b35de3f3",
   "metadata": {},
   "outputs": [
    {
     "name": "stdout",
     "output_type": "stream",
     "text": [
      "{\"pipelines\":[{\"id\":\"rental-forecast\",\"status\":\"Running\"}]}"
     ]
    }
   ],
   "source": [
    "# blank space to run the command - replace testboy.local with the host\n",
    "\n",
    "!curl localhost:8080/pipelines"
   ]
  },
  {
   "cell_type": "markdown",
   "id": "7d814f93",
   "metadata": {},
   "source": [
    "### Models Endpoints\n",
    "\n",
    "The endpoint `/models` returns a List of models with the following fields:\n",
    "\n",
    "* **name** (*String*): The model name.\n",
    "* **sha** (*String*): The sha hash value of the ML model.\n",
    "* **status** (*String*):  The status of either Running or Error if there are any issues.\n",
    "* **version** (*String*):  The model version.  This matches the version designation used by Wallaroo to track model versions in UUID format.\n",
    "\n",
    "#### Models Endpoints Exercise\n",
    "\n",
    "Use the following `curl` command to view the models data.  For example, if the pipeline was deployed on `localhost`, then the command would be:\n",
    "\n",
    "```bash\n",
    "!curl locahost:8080/models\n",
    "```"
   ]
  },
  {
   "cell_type": "code",
   "execution_count": 3,
   "id": "c78b877f",
   "metadata": {},
   "outputs": [
    {
     "name": "stdout",
     "output_type": "stream",
     "text": [
      "{\"models\":[{\"name\":\"forecast-model\",\"sha\":\"7db4bd047fc050a785633b1c110c0398bee5ded828397bc9a8c0ebab88a0ffcf\",\"status\":\"Running\",\"version\":\"92015e7a-4488-45fa-b41c-deaa21bdd3c7\"}]}"
     ]
    }
   ],
   "source": [
    "# blank space to run the command - replace testboy.local with the host\n",
    "\n",
    "!curl localhost:8080/models"
   ]
  },
  {
   "cell_type": "markdown",
   "id": "edc16183",
   "metadata": {},
   "source": [
    "### Edge Deployed Inference\n",
    "\n",
    "The inference endpoint takes the following pattern:\n",
    "\n",
    "* `/pipelines/{pipeline-name}`:  The `pipeline-name` is the same as returned from the [`/pipelines`](#list-pipelines) endpoint as `id`.\n",
    "\n",
    "Wallaroo inference endpoint URLs accept the following data inputs through the `Content-Type` header:\n",
    "\n",
    "* `Content-Type: application/vnd.apache.arrow.file`: For Apache Arrow tables.\n",
    "* `Content-Type: application/json; format=pandas-records`: For pandas DataFrame in record format.\n",
    "\n",
    "It returns a `application/json; format=pandas-records` - the same pandas record we've been working with.\n",
    "\n",
    "### Edge Deployed Inference Exercise\n",
    "\n",
    "Perform an inference on the deployed pipeline using `curl`.  This command will look like this:\n",
    "\n",
    "```bash\n",
    "!curl -X POST localhost:8080/pipelines/{YOUR PIPELINE NAME} -H \"Content-Type: application/json; format=pandas-records\" --data @../data/singleton.df.json\n",
    "```"
   ]
  },
  {
   "cell_type": "code",
   "execution_count": 9,
   "id": "5bbdbe00",
   "metadata": {},
   "outputs": [
    {
     "name": "stdout",
     "output_type": "stream",
     "text": [
      "[{\"time\":1699995389316,\"in\":{\"cnt\":[1240,1551,2324,805,1948,1650,913,931,1256,1614,1000,1883,1964,2036,2586,3219,3947,1826,1418,723,1281,2564,2181,1539,2059,2428,836,1235,-1,-1,-1,-1,-1,-1,-1],\"dteday\":[\"2011-02-02\",\"2011-02-03\",\"2011-02-04\",\"2011-02-05\",\"2011-02-06\",\"2011-02-07\",\"2011-02-08\",\"2011-02-09\",\"2011-02-10\",\"2011-02-11\",\"2011-02-12\",\"2011-02-13\",\"2011-02-14\",\"2011-02-15\",\"2011-02-16\",\"2011-02-17\",\"2011-02-18\",\"2011-02-19\",\"2011-02-20\",\"2011-02-21\",\"2011-02-22\",\"2011-02-23\",\"2011-02-24\",\"2011-02-25\",\"2011-02-26\",\"2011-02-27\",\"2011-02-28\",\"2011-03-01\",\"2011-03-02\",\"2011-03-03\",\"2011-03-04\",\"2011-03-05\",\"2011-03-06\",\"2011-03-07\",\"2011-03-08\"],\"holiday\":[0,0,0,0,0,0,0,0,0,0,0,0,0,0,0,0,0,0,0,1,0,0,0,0,0,0,0,0,0,0,0,0,0,0,0],\"season\":[1,1,1,1,1,1,1,1,1,1,1,1,1,1,1,1,1,1,1,1,1,1,1,1,1,1,1,1,1,1,1,1,1,1,1],\"site_id\":[\"site0001\",\"site0001\",\"site0001\",\"site0001\",\"site0001\",\"site0001\",\"site0001\",\"site0001\",\"site0001\",\"site0001\",\"site0001\",\"site0001\",\"site0001\",\"site0001\",\"site0001\",\"site0001\",\"site0001\",\"site0001\",\"site0001\",\"site0001\",\"site0001\",\"site0001\",\"site0001\",\"site0001\",\"site0001\",\"site0001\",\"site0001\",\"site0001\",\"site0001\",\"site0001\",\"site0001\",\"site0001\",\"site0001\",\"site0001\",\"site0001\"],\"weekday\":[3,4,5,6,0,1,2,3,4,5,6,0,1,2,3,4,5,6,0,1,2,3,4,5,6,0,1,2,3,4,5,6,0,1,2],\"workingday\":[1,1,1,0,0,1,1,1,1,1,0,0,1,1,1,1,1,0,0,0,1,1,1,1,0,0,1,1,1,1,1,0,0,1,1]},\"out\":{\"dteday\":[\"2011-03-02\",\"2011-03-03\",\"2011-03-04\",\"2011-03-05\",\"2011-03-06\",\"2011-03-07\",\"2011-03-08\"],\"forecast\":[2268,1710,1792,1367,1820,2045,1974],\"site_id\":[\"site0001\",\"site0001\",\"site0001\",\"site0001\",\"site0001\",\"site0001\",\"site0001\"]},\"check_failures\":[],\"metadata\":{\"last_model\":\"{\\\"model_name\\\":\\\"forecast-model\\\",\\\"model_sha\\\":\\\"c20eb6030db799709ab13534b3a23014e9427d094abff373795e6893efb1217b\\\"}\",\"pipeline_version\":\"\",\"elapsed\":[455438,274215657],\"dropped\":[],\"partition\":\"forecast-local-sample\"}}]"
     ]
    }
   ],
   "source": [
    "!curl -X POST localhost:8080/pipelines/rental-forecast \\\n",
    "    -H \"Content-Type: application/json; format=pandas-records\" \\\n",
    "     -H \"Accept:application/json; format=pandas-records\" \\\n",
    "    --data @../data/testdata-standard.df.json"
   ]
  }
 ],
 "metadata": {
  "kernelspec": {
   "display_name": "Python 3 (ipykernel)",
   "language": "python",
   "name": "python3"
  },
  "language_info": {
   "codemirror_mode": {
    "name": "ipython",
    "version": 3
   },
   "file_extension": ".py",
   "mimetype": "text/x-python",
   "name": "python",
   "nbconvert_exporter": "python",
   "pygments_lexer": "ipython3",
   "version": "3.8.18"
  }
 },
 "nbformat": 4,
 "nbformat_minor": 5
}
