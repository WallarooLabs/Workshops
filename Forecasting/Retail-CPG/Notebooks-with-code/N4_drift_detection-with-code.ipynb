{
 "cells": [
  {
   "cell_type": "markdown",
   "id": "6540f10a-6e1c-44ba-b344-0a476491dce6",
   "metadata": {},
   "source": [
    "# Workshop Notebook 4: Observability Part 2 - Drift Detection\n",
    "\n",
    "In the previous notebook you learned how to add simple validation rules to a pipeline, to monitor whether outputs (or inputs) stray out of some expected range. In this notebook, you will monitor the *distribution* of the pipeline's predictions to see if the model, or the environment that it runs it, has changed."
   ]
  },
  {
   "cell_type": "code",
   "execution_count": 1,
   "id": "09d0f316-7000-467e-b5d2-1a1c4e18d490",
   "metadata": {},
   "outputs": [],
   "source": [
    "# preload needed libraries \n",
    "\n",
    "import wallaroo\n",
    "from wallaroo.object import EntityNotFoundError\n",
    "\n",
    "from IPython.display import display\n",
    "\n",
    "# used to display DataFrame information without truncating\n",
    "from IPython.display import display\n",
    "import pandas as pd\n",
    "pd.set_option('display.max_colwidth', None)\n",
    "\n",
    "import json\n",
    "import datetime\n",
    "import time\n",
    "\n",
    "# used for unique connection names\n",
    "\n",
    "import string\n",
    "import random"
   ]
  },
  {
   "cell_type": "markdown",
   "id": "b5414c3f",
   "metadata": {},
   "source": [
    "## Login to Wallaroo\n",
    "\n",
    "Retrieve the previous workspace, model versions, and pipelines used in the previous notebook."
   ]
  },
  {
   "cell_type": "code",
   "execution_count": 2,
   "id": "92ca3872-038b-4851-bee2-069799ac0cfb",
   "metadata": {},
   "outputs": [
    {
     "data": {
      "text/plain": [
       "{'name': 'workshop-workspace-forecast', 'id': 8, 'archived': False, 'created_by': 'fca5c4df-37ac-4a78-9602-dd09ca72bc60', 'created_at': '2024-10-29T20:52:00.744998+00:00', 'models': [{'name': 'forecast-control-model', 'versions': 3, 'owner_id': '\"\"', 'last_update_time': datetime.datetime(2024, 10, 29, 21, 35, 59, 4303, tzinfo=tzutc()), 'created_at': datetime.datetime(2024, 10, 29, 20, 54, 24, 314662, tzinfo=tzutc())}, {'name': 'forecast-alternate01-model', 'versions': 1, 'owner_id': '\"\"', 'last_update_time': datetime.datetime(2024, 10, 30, 19, 56, 17, 519779, tzinfo=tzutc()), 'created_at': datetime.datetime(2024, 10, 30, 19, 56, 17, 519779, tzinfo=tzutc())}, {'name': 'forecast-alternate02-model', 'versions': 1, 'owner_id': '\"\"', 'last_update_time': datetime.datetime(2024, 10, 30, 19, 56, 43, 83456, tzinfo=tzutc()), 'created_at': datetime.datetime(2024, 10, 30, 19, 56, 43, 83456, tzinfo=tzutc())}], 'pipelines': [{'name': 'rental-forecast', 'create_time': datetime.datetime(2024, 10, 29, 21, 0, 36, 927945, tzinfo=tzutc()), 'definition': '[]'}]}"
      ]
     },
     "metadata": {},
     "output_type": "display_data"
    },
    {
     "data": {
      "text/html": [
       "<table>\n",
       "        <tr>\n",
       "          <td>Name</td>\n",
       "          <td>forecast-control-model</td>\n",
       "        </tr>\n",
       "        <tr>\n",
       "          <td>Version</td>\n",
       "          <td>4c9a1678-cba3-4db9-97a5-883ce89a9a24</td>\n",
       "        </tr>\n",
       "        <tr>\n",
       "          <td>File Name</td>\n",
       "          <td>forecast_standard.zip</td>\n",
       "        </tr>\n",
       "        <tr>\n",
       "          <td>SHA</td>\n",
       "          <td>80b51818171dc1e64e61c3050a0815a68b4d14b1b37e1e18dac9e4719e074eb1</td>\n",
       "        </tr>\n",
       "        <tr>\n",
       "          <td>Status</td>\n",
       "          <td>ready</td>\n",
       "        </tr>\n",
       "        <tr>\n",
       "          <td>Image Path</td>\n",
       "          <td>proxy.replicated.com/proxy/wallaroo/ghcr.io/wallaroolabs/mac-deploy:v2024.2.0-5761</td>\n",
       "        </tr>\n",
       "        <tr>\n",
       "          <td>Architecture</td>\n",
       "          <td>x86</td>\n",
       "        </tr>\n",
       "        <tr>\n",
       "          <td>Acceleration</td>\n",
       "          <td>none</td>\n",
       "        </tr>\n",
       "        <tr>\n",
       "          <td>Updated At</td>\n",
       "          <td>2024-29-Oct 21:36:20</td>\n",
       "        </tr>\n",
       "        <tr>\n",
       "          <td>Workspace id</td>\n",
       "          <td>8</td>\n",
       "        </tr>\n",
       "        <tr>\n",
       "          <td>Workspace name</td>\n",
       "          <td>workshop-workspace-forecast</td>\n",
       "        </tr>\n",
       "      </table>"
      ],
      "text/plain": [
       "{'name': 'forecast-control-model', 'version': '4c9a1678-cba3-4db9-97a5-883ce89a9a24', 'file_name': 'forecast_standard.zip', 'image_path': 'proxy.replicated.com/proxy/wallaroo/ghcr.io/wallaroolabs/mac-deploy:v2024.2.0-5761', 'arch': 'x86', 'accel': 'none', 'last_update_time': datetime.datetime(2024, 10, 29, 21, 36, 20, 783561, tzinfo=tzutc())}"
      ]
     },
     "metadata": {},
     "output_type": "display_data"
    },
    {
     "data": {
      "text/html": [
       "<table><tr><th>name</th> <td>rental-forecast</td></tr><tr><th>created</th> <td>2024-10-29 21:00:36.927945+00:00</td></tr><tr><th>last_updated</th> <td>2024-10-30 20:11:17.773417+00:00</td></tr><tr><th>deployed</th> <td>True</td></tr><tr><th>workspace_id</th> <td>8</td></tr><tr><th>workspace_name</th> <td>workshop-workspace-forecast</td></tr><tr><th>arch</th> <td>x86</td></tr><tr><th>accel</th> <td>none</td></tr><tr><th>tags</th> <td></td></tr><tr><th>versions</th> <td>c0d16da5-5db7-4af1-95e4-cb0c316a4ef3, bd5eb43f-5a2b-493c-a04b-863dccccb55f, 89729096-6581-42b8-9b06-10d580d31e11, b98b86fb-5941-45b6-af5d-c33f80ba7986, aead5518-ffb2-4d18-8898-89575ba90a9f, a2a887c0-a91b-4af7-b579-506c79631fa4, b8ac836a-903b-4327-a4c9-5cc7fb382aa7, 3e18cd2d-c006-497b-a756-5ecc95aa8439, bd3f7d6a-e246-4456-98b9-35b90990b86d</td></tr><tr><th>steps</th> <td>forecast-control-model</td></tr><tr><th>published</th> <td>False</td></tr></table>"
      ],
      "text/plain": [
       "{'name': 'rental-forecast', 'create_time': datetime.datetime(2024, 10, 29, 21, 0, 36, 927945, tzinfo=tzutc()), 'definition': '[]'}"
      ]
     },
     "metadata": {},
     "output_type": "display_data"
    }
   ],
   "source": [
    "## blank space to log in \n",
    "\n",
    "wl = wallaroo.Client()\n",
    "\n",
    "# retrieve the previous workspace, model, and pipeline version\n",
    "\n",
    "workspace_name = 'workshop-workspace-forecast'\n",
    "\n",
    "workspace = wl.get_workspace(name=workspace_name, create_if_not_exist=True)\n",
    "\n",
    "# set your current workspace to the workspace that you just created\n",
    "wl.set_current_workspace(workspace)\n",
    "\n",
    "model_name = \"forecast-control-model\"\n",
    "\n",
    "prime_model_version = wl.get_model(model_name)\n",
    "\n",
    "pipeline_name = 'rental-forecast'\n",
    "\n",
    "pipeline = wl.get_pipeline(pipeline_name)\n",
    "\n",
    "# verify the workspace/pipeline/model\n",
    "\n",
    "display(wl.get_current_workspace())\n",
    "display(prime_model_version)\n",
    "display(pipeline)"
   ]
  },
  {
   "cell_type": "markdown",
   "id": "7a8ae0c7",
   "metadata": {},
   "source": [
    "Set up the pipeline with the single model step as was done in notebook 1, then deploy it."
   ]
  },
  {
   "cell_type": "code",
   "execution_count": 3,
   "id": "d02ad6db",
   "metadata": {},
   "outputs": [
    {
     "name": "stdout",
     "output_type": "stream",
     "text": [
      " ok\n"
     ]
    },
    {
     "data": {
      "text/html": [
       "<table><tr><th>name</th> <td>rental-forecast</td></tr><tr><th>created</th> <td>2024-10-29 21:00:36.927945+00:00</td></tr><tr><th>last_updated</th> <td>2024-10-30 20:20:43.920831+00:00</td></tr><tr><th>deployed</th> <td>True</td></tr><tr><th>workspace_id</th> <td>8</td></tr><tr><th>workspace_name</th> <td>workshop-workspace-forecast</td></tr><tr><th>arch</th> <td>x86</td></tr><tr><th>accel</th> <td>none</td></tr><tr><th>tags</th> <td></td></tr><tr><th>versions</th> <td>a601ce07-937c-436a-9735-0ac842173dfb, c0d16da5-5db7-4af1-95e4-cb0c316a4ef3, bd5eb43f-5a2b-493c-a04b-863dccccb55f, 89729096-6581-42b8-9b06-10d580d31e11, b98b86fb-5941-45b6-af5d-c33f80ba7986, aead5518-ffb2-4d18-8898-89575ba90a9f, a2a887c0-a91b-4af7-b579-506c79631fa4, b8ac836a-903b-4327-a4c9-5cc7fb382aa7, 3e18cd2d-c006-497b-a756-5ecc95aa8439, bd3f7d6a-e246-4456-98b9-35b90990b86d</td></tr><tr><th>steps</th> <td>forecast-control-model</td></tr><tr><th>published</th> <td>False</td></tr></table>"
      ],
      "text/plain": [
       "{'name': 'rental-forecast', 'create_time': datetime.datetime(2024, 10, 29, 21, 0, 36, 927945, tzinfo=tzutc()), 'definition': \"[{'ModelInference': {'models': [{'name': 'forecast-control-model', 'version': '4c9a1678-cba3-4db9-97a5-883ce89a9a24', 'sha': '80b51818171dc1e64e61c3050a0815a68b4d14b1b37e1e18dac9e4719e074eb1'}]}}]\"}"
      ]
     },
     "execution_count": 3,
     "metadata": {},
     "output_type": "execute_result"
    }
   ],
   "source": [
    "pipeline.clear()\n",
    "pipeline.add_model_step(prime_model_version)\n",
    "\n",
    "deploy_config = wallaroo.DeploymentConfigBuilder().replica_count(1).cpus(0.5).memory(\"1Gi\").build()\n",
    "pipeline.deploy(deployment_config=deploy_config)"
   ]
  },
  {
   "cell_type": "markdown",
   "id": "2e76d00f-4a25-4c8f-b144-105305a64e6b",
   "metadata": {},
   "source": [
    "## Monitoring for Drift: Shift Happens. \n",
    "\n",
    "In machine learning, you use data and known answers to train a model to make predictions for new previously unseen data. You do this with the assumption that the future unseen data will be similar to the data used during training: the future will look somewhat like the past.\n",
    "But the conditions that existed when a model was created, trained and tested can change over time, due to various factors.\n",
    "\n",
    "A good model should be robust to some amount of change in the environment; however, if the environment changes too much, your models may no longer be making the correct decisions. This situation is known as concept drift; too much drift can obsolete your models, requiring periodic retraining.\n",
    "\n",
    "Let's consider the example we've been working on: home sale price prediction. You may notice over time that there has been a change in the mix of properties in the listings portfolio: for example a dramatic increase or decrease in expensive properties (or more precisely, properties that the model thinks are expensive)\n",
    "\n",
    "Such a change could be due to many factors: a change in interest rates; the appearance or disappearance of major sources of employment; new housing developments opening up in the area. Whatever the cause, detecting such a change quickly is crucial, so that the business can react quickly in the appropriate manner, whether that means simply retraining the model on fresher data, or a pivot in business strategy.\n",
    "\n",
    "In Wallaroo you can monitor your housing model for signs of drift through the model monitoring and insight capability called Assays. Assays help you track changes in the environment that your model operates within, which can affect the model’s outcome. It does this by tracking the model’s predictions and/or the data coming into the model against an **established baseline**. If the distribution of monitored values in the current observation window differs too much from the baseline distribution, the assay will flag it. The figure below shows an example of a running scheduled assay.\n",
    "\n",
    "![](https://docs.wallaroo.ai/images/current/wallaroo-tutorials/wallaroo-tutorial-features/wallaroo-model-insights-reference_files/wallaroo-model-insights-reference_35_0.png)\n",
    "\n",
    "**Figure:** A daily assay that's been running for a month. The dots represent the difference between the distribution of values in the daily observation window, and the baseline. When that difference exceeds the specified threshold (indicated by a red dot) an alert is set.\n",
    "\n",
    "This next set of exercises will walk you through setting up an assay to monitor the predictions of your house price model, in order to detect drift.\n",
    "\n",
    "### NOTE\n",
    "\n",
    "An assay is a monitoring process that typically runs over an extended, ongoing period of time. For example, one might set up an assay that every day monitors the previous 24 hours' worth of predictions and compares it to a baseline. For the purposes of these exercises, we'll be compressing processes what normally would take hours or days into minutes."
   ]
  },
  {
   "cell_type": "markdown",
   "id": "229d9256-c7a0-4a3b-bef9-da8717e62fbf",
   "metadata": {},
   "source": [
    "We will use this data to set up some \"historical data\" in the house price prediction pipeline that you build in the assay exercises.\n"
   ]
  },
  {
   "cell_type": "markdown",
   "id": "27a15433-71c3-4dc3-88cb-7765b19d6018",
   "metadata": {},
   "source": [
    "## Set Assay Baseline\n",
    "\n",
    "In order to know whether the distribution of your model's predictions have changed, you need a baseline to compare them to. This baseline should represent how you expect the model to behave at the time it was trained. This might be approximated by the distribution of the model's predictions over some \"typical\" period of time. For example, we might collect the predictions of our model over the first few days after it's been deployed. For these exercises, we'll compress that to a few minutes. Currently, to set up a wallaroo assay the pipeline must have been running for some period of time, and the assumption is that this period of time is \"typical\", and that the distributions of the inputs and the outputs of the model during this period of time are \"typical.\"\n",
    "\n",
    "### Set Assay Baseline Data Exercise\n",
    "\n",
    "Here, we simulate having a pipeline that's been running for a long enough period of time to set up an assay.\n",
    "\n",
    "To send enough data through the pipeline to create assays, you execute something like the following code (using the appropriate names for your pipelines and models). Note that this step will take a little while, because of  the `sleep` interval.\n",
    "\n",
    "You will need the timestamps `baseline_start`, and `baseline_end`, for the next exercises.\n",
    "\n",
    "```python\n",
    "# get your pipeline (in this example named \"mypipeline\")\n",
    "\n",
    "pipeline = get_pipeline(\"mypipeline\")\n",
    "pipeline.deploy()\n",
    "\n",
    "## Run some baseline data\n",
    "# Where the baseline data will start\n",
    "baseline_start = datetime.datetime.now()\n",
    "\n",
    "# the number of samples we'll use for the baseline\n",
    "nsample = 500\n",
    "\n",
    "# Wait 30 seconds to set this data apart from the rest\n",
    "# then send the data in batch\n",
    "time.sleep(30)\n",
    "\n",
    "# get a sample\n",
    "lowprice_data_sample = lowprice_data.sample(nsample, replace=True).reset_index(drop=True)\n",
    "pipeline.infer(lowprice_data_sample)\n",
    "\n",
    "# Set the baseline end\n",
    "baseline_end = datetime.datetime.now()\n",
    "\n",
    "```"
   ]
  },
  {
   "cell_type": "code",
   "execution_count": 7,
   "id": "064cf94e-8738-4579-bb23-5b272becf609",
   "metadata": {},
   "outputs": [],
   "source": [
    "from resources import simdb\n",
    "from resources import util\n",
    "\n",
    "def get_singleton_forecast(df, field):\n",
    "    singleton = pd.DataFrame({field: [df[field].values.tolist()]})\n",
    "    return singleton"
   ]
  },
  {
   "cell_type": "code",
   "execution_count": 8,
   "id": "c8c300c6",
   "metadata": {},
   "outputs": [
    {
     "data": {
      "text/html": [
       "<div>\n",
       "<style scoped>\n",
       "    .dataframe tbody tr th:only-of-type {\n",
       "        vertical-align: middle;\n",
       "    }\n",
       "\n",
       "    .dataframe tbody tr th {\n",
       "        vertical-align: top;\n",
       "    }\n",
       "\n",
       "    .dataframe thead th {\n",
       "        text-align: right;\n",
       "    }\n",
       "</style>\n",
       "<table border=\"1\" class=\"dataframe\">\n",
       "  <thead>\n",
       "    <tr style=\"text-align: right;\">\n",
       "      <th></th>\n",
       "      <th>time</th>\n",
       "      <th>in.count</th>\n",
       "      <th>out.forecast</th>\n",
       "      <th>out.weekly_average</th>\n",
       "      <th>anomaly.count</th>\n",
       "    </tr>\n",
       "  </thead>\n",
       "  <tbody>\n",
       "    <tr>\n",
       "      <th>0</th>\n",
       "      <td>2024-10-30 20:23:36.236</td>\n",
       "      <td>[1349, 1562, 1600, 1606, 1510, 959, 822, 1321, 1263, 1162, 1406, 1421, 1248, 1204, 1000, 683, 1650, 1927, 1543, 981, 986]</td>\n",
       "      <td>[1278, 1295, 1295, 1295, 1295, 1295, 1295]</td>\n",
       "      <td>1292.5714</td>\n",
       "      <td>0</td>\n",
       "    </tr>\n",
       "  </tbody>\n",
       "</table>\n",
       "</div>"
      ],
      "text/plain": [
       "                     time  \\\n",
       "0 2024-10-30 20:23:36.236   \n",
       "\n",
       "                                                                                                                    in.count  \\\n",
       "0  [1349, 1562, 1600, 1606, 1510, 959, 822, 1321, 1263, 1162, 1406, 1421, 1248, 1204, 1000, 683, 1650, 1927, 1543, 981, 986]   \n",
       "\n",
       "                                 out.forecast  out.weekly_average  \\\n",
       "0  [1278, 1295, 1295, 1295, 1295, 1295, 1295]           1292.5714   \n",
       "\n",
       "   anomaly.count  \n",
       "0              0  "
      ]
     },
     "metadata": {},
     "output_type": "display_data"
    }
   ],
   "source": [
    "# test inference\n",
    "\n",
    "sample_count = pd.read_csv('../data/test_data.csv')\n",
    "inference_df = get_singleton_forecast(sample_count.loc[2:22], 'count')\n",
    "\n",
    "results = pipeline.infer(inference_df)\n",
    "display(results)"
   ]
  },
  {
   "cell_type": "markdown",
   "id": "630f32da-6601-44fd-bf8c-c7df850f7b77",
   "metadata": {},
   "source": [
    "## Create Assay Builder and Set Baseline\n",
    "\n",
    "Before setting up an assay on this pipeline's output, we may want to look at the distribution of the predictions over our selected baseline period. To do that, we'll create an *assay_builder* that specifies the pipeline, the model in the pipeline, and the baseline period.. We'll also specify that we want to look at the output of the model, which in the example code is named `variable`, and would appear as `out.variable` in the logs.\n",
    "\n",
    "```python\n",
    "# print out one of the logs to get the name of the output variable\n",
    "display(pipeline.logs(limit=1))\n",
    "\n",
    "# get the model name directly off the pipeline (you could just hard code this, if you know the name)\n",
    "\n",
    "model_name = pipeline.model_configs()[0].model().name()\n",
    "\n",
    "assay_builder = ( wl.build_assay(assay_name, pipeline, model_name, \n",
    "                     baseline_start, baseline_end)\n",
    "                    .add_iopath(\"output variable 0\") ) # specify that we are looking at the first output of the output variable \"variable\"\n",
    "```\n",
    "\n",
    "where `baseline_start` and `baseline_end` are the beginning and end of the baseline periods as `datetime.datetime` objects. \n",
    "\n",
    "You can then examine the distribution of `variable` over the baseline period:\n",
    "\n",
    "```python\n",
    "assay_builder.baseline_histogram()\n",
    "```\n",
    "\n",
    "\n",
    "### Create Assay Builder and Set Baseline Exercise\n",
    "\n",
    "Create an assay builder to monitor the output of your house price pipeline. The baseline period should be from `baseline_start` to `baseline_end`. \n",
    "\n",
    "* You will need to know the name of your output variable, and the name of the model in the pipeline.\n",
    "\n",
    "Here's an example.\n",
    "\n",
    "```python\n",
    "import datetime\n",
    "import time\n",
    "baseline_start = datetime.datetime.now()\n",
    "time.sleep(5)\n",
    "\n",
    "pipeline.infer(lowprice_data)\n",
    "\n",
    "time.sleep(5)\n",
    "\n",
    "baseline_end = datetime.datetime.now()\n",
    "\n",
    "assay_builder = ( wl.build_assay('sample assay john', pipeline, model_name, \n",
    "                     baseline_start, baseline_end)\n",
    "                    .add_iopath(\"output variable 0\") )\n",
    "\n",
    "assay_builder.baseline_histogram()\n",
    "```\n"
   ]
  },
  {
   "cell_type": "code",
   "execution_count": 9,
   "id": "b1c8c723-9b10-4839-a330-1c78d0f4e145",
   "metadata": {},
   "outputs": [],
   "source": [
    "## Blank space to create an assay builder and examine the baseline distribution\n",
    "\n",
    "import datetime\n",
    "baseline_start = datetime.datetime.now()\n",
    "\n",
    "for i in range(30):\n",
    "    inference_df = get_singleton_forecast(sample_count.loc[i:i+30], 'count')\n",
    "    results = pipeline.infer(inference_df)\n",
    "\n",
    "baseline_end = datetime.datetime.now()\n"
   ]
  },
  {
   "cell_type": "code",
   "execution_count": 12,
   "id": "a3854606",
   "metadata": {},
   "outputs": [
    {
     "data": {
      "text/plain": [
       "datetime.datetime(2024, 10, 30, 20, 23, 45, 751598)"
      ]
     },
     "metadata": {},
     "output_type": "display_data"
    },
    {
     "data": {
      "text/plain": [
       "datetime.datetime(2024, 10, 30, 20, 23, 47, 843519)"
      ]
     },
     "metadata": {},
     "output_type": "display_data"
    },
    {
     "data": {
      "image/png": "[encoded data removed]",
      "text/plain": [
       "<Figure size 432x288 with 1 Axes>"
      ]
     },
     "metadata": {
      "needs_background": "light"
     },
     "output_type": "display_data"
    }
   ],
   "source": [
    "# now build the actual baseline\n",
    "\n",
    "display(baseline_start)\n",
    "display(baseline_end)\n",
    "\n",
    "assay_baseline_from_dates = wl.build_assay(assay_name=\"assays from date baseline forecast\", \n",
    "                                          pipeline=pipeline, \n",
    "                                          iopath=\"output weekly_average 0\",\n",
    "                                          baseline_start=baseline_start, \n",
    "                                          baseline_end=baseline_end)\n",
    "\n",
    "# create the baseline from the dates\n",
    "assay_config_from_dates = assay_baseline_from_dates.build()\n",
    "assay_results_from_dates = assay_config_from_dates.interactive_baseline_run()\n",
    "\n",
    "\n",
    "assay_baseline_from_dates.baseline_histogram()"
   ]
  },
  {
   "cell_type": "code",
   "execution_count": 14,
   "id": "3f11839b",
   "metadata": {},
   "outputs": [
    {
     "data": {
      "text/html": [
       "<div>\n",
       "<style scoped>\n",
       "    .dataframe tbody tr th:only-of-type {\n",
       "        vertical-align: middle;\n",
       "    }\n",
       "\n",
       "    .dataframe tbody tr th {\n",
       "        vertical-align: top;\n",
       "    }\n",
       "\n",
       "    .dataframe thead th {\n",
       "        text-align: right;\n",
       "    }\n",
       "</style>\n",
       "<table border=\"1\" class=\"dataframe\">\n",
       "  <thead>\n",
       "    <tr style=\"text-align: right;\">\n",
       "      <th></th>\n",
       "      <th>Baseline</th>\n",
       "    </tr>\n",
       "  </thead>\n",
       "  <tbody>\n",
       "    <tr>\n",
       "      <th>count</th>\n",
       "      <td>30</td>\n",
       "    </tr>\n",
       "    <tr>\n",
       "      <th>min</th>\n",
       "      <td>0.0</td>\n",
       "    </tr>\n",
       "    <tr>\n",
       "      <th>max</th>\n",
       "      <td>0.0</td>\n",
       "    </tr>\n",
       "    <tr>\n",
       "      <th>mean</th>\n",
       "      <td>0.0</td>\n",
       "    </tr>\n",
       "    <tr>\n",
       "      <th>median</th>\n",
       "      <td>0.0</td>\n",
       "    </tr>\n",
       "    <tr>\n",
       "      <th>std</th>\n",
       "      <td>0.0</td>\n",
       "    </tr>\n",
       "    <tr>\n",
       "      <th>start</th>\n",
       "      <td>2024-10-30T20:23:45.751598+00:00</td>\n",
       "    </tr>\n",
       "    <tr>\n",
       "      <th>end</th>\n",
       "      <td>2024-10-30T20:23:47.842598+00:00</td>\n",
       "    </tr>\n",
       "  </tbody>\n",
       "</table>\n",
       "</div>"
      ],
      "text/plain": [
       "                                Baseline\n",
       "count                                 30\n",
       "min                                  0.0\n",
       "max                                  0.0\n",
       "mean                                 0.0\n",
       "median                               0.0\n",
       "std                                  0.0\n",
       "start   2024-10-30T20:23:45.751598+00:00\n",
       "end     2024-10-30T20:23:47.842598+00:00"
      ]
     },
     "execution_count": 14,
     "metadata": {},
     "output_type": "execute_result"
    }
   ],
   "source": [
    "assay_results_from_dates.baseline_stats()"
   ]
  },
  {
   "cell_type": "markdown",
   "id": "bfdafee0-e6eb-4306-a498-3d816a8a2600",
   "metadata": {},
   "source": [
    "## Assay Windows\n",
    "\n",
    "An assay should detect if the distribution of model predictions changes from the above distribution over regularly sampled observation windows. This is called *drift*.\n",
    "\n",
    "To show drift, we'll run more data through the pipeline -- first some data drawn from the same distribution as the baseline (`lowprice_data`). Then, we will gradually introduce more data from a different distribution (`highprice_data`). We should see the difference between the baseline distribution and the distribution in the observation window increase.\n",
    "\n",
    "To set up the data, you should do something like the below. It will take a while to run, because of all the `sleep` intervals.\n",
    "\n",
    "You will need the `assay_window_end` for a later exercise.\n",
    "\n",
    "**IMPORTANT NOTE**:  To generate the data for the assay, this process may take 4-5 minutes.  Because the shortest period of time for an assay window is 1 minute, the intervals of inference data are spaced to fall within that time period.\n",
    "\n",
    "```python\n",
    "# Set the start for our assay window period.\n",
    "assay_window_start = datetime.datetime.now()\n",
    "\n",
    "# Run a set of house values, spread across a \"longer\" period of time\n",
    "\n",
    "# run \"typical\" data\n",
    "for x in range(4):\n",
    "    pipeline.infer(lowprice_data.sample(2*nsample, replace=True).reset_index(drop=True))\n",
    "    time.sleep(25)\n",
    "    \n",
    "# run a mix\n",
    "for x in range(3):\n",
    "    pipeline.infer(lowprice_data.sample(nsample, replace=True).reset_index(drop=True))\n",
    "    pipeline.infer(highprice_data.sample(nsample, replace=True).reset_index(drop=True))\n",
    "    time.sleep(25)\n",
    "    \n",
    "# high price houses dominate the sample\n",
    "for x in range(3):\n",
    "    pipeline.infer(highprice_data.sample(2*nsample, replace=True).reset_index(drop=True))\n",
    "    time.sleep(25)\n",
    "\n",
    "# End our assay window period\n",
    "assay_window_end = datetime.datetime.now()\n",
    "```\n",
    "\n",
    "## Assay Windows Exercise\n",
    "\n",
    "Run more data through the pipeline, manifesting a drift, like the example above. It may around 10 minutes depending on how you stagger the inferences.\n",
    "\n",
    "Here's an example of some code to use:\n",
    "\n",
    "```python\n",
    "## Blank space to run more data\n",
    "\n",
    "assay_window_start = datetime.datetime.now()\n",
    "\n",
    "# Run a set of house values, spread across a \"longer\" period of time\n",
    "\n",
    "nsample = 500\n",
    "\n",
    "# run \"typical\" data\n",
    "for x in range(4):\n",
    "    pipeline.infer(lowprice_data.sample(2*nsample, replace=True).reset_index(drop=True))\n",
    "    time.sleep(25)\n",
    "    \n",
    "# run a mix\n",
    "for x in range(3):\n",
    "    pipeline.infer(lowprice_data.sample(nsample, replace=True).reset_index(drop=True))\n",
    "    pipeline.infer(highprice_data.sample(nsample, replace=True).reset_index(drop=True))\n",
    "    time.sleep(25)\n",
    "    \n",
    "# high price houses dominate the sample\n",
    "for x in range(3):\n",
    "    pipeline.infer(highprice_data.sample(2*nsample, replace=True).reset_index(drop=True))\n",
    "    time.sleep(25)\n",
    "\n",
    "# End our assay window period\n",
    "assay_window_end = datetime.datetime.now()\n",
    "```\n"
   ]
  },
  {
   "cell_type": "code",
   "execution_count": 15,
   "id": "071843f2-e2e6-4fd2-80dd-1b862f08e899",
   "metadata": {},
   "outputs": [],
   "source": [
    "## Blank space to run more data\n",
    "\n",
    "assay_window_start = datetime.datetime.now()\n",
    "\n",
    "# run \"typical\" data\n",
    "for i in range(30):\n",
    "    inference_df = get_singleton_forecast(sample_count.loc[i:i+30], 'count')\n",
    "    results = pipeline.infer(inference_df)\n",
    "time.sleep(65)\n",
    "    \n",
    "# run the future\n",
    "for i in range(30):\n",
    "    inference_df = get_singleton_forecast(sample_count.loc[i+427:i+457], 'count')\n",
    "    results = pipeline.infer(inference_df)\n",
    "time.sleep(65)\n",
    "    \n",
    "\n",
    "# End our assay window period\n",
    "assay_window_end = datetime.datetime.now()\n"
   ]
  },
  {
   "cell_type": "markdown",
   "id": "51133baa-e0c8-41ca-a781-fdab6e1de4d9",
   "metadata": {},
   "source": [
    "## Define Assay Parameters\n",
    "\n",
    "Now we're finally ready to set up an assay!\n",
    "\n",
    "### The Observation Window\n",
    "\n",
    "Once a baseline period has been established, you must define the window of observations that will be compared to the baseline. For instance, you might want to set up an assay that runs *every 12 hours*, collects the *previous 24 hours' predictions* and compares the distribution of predictions within that 24 hour window to the baseline. To set such a comparison up would look like this:\n",
    "\n",
    "```python\n",
    "assay_builder.window_builder().add_width(hours=24).add_interval(hours=12)\n",
    "```\n",
    "\n",
    "In other words **_width_** is the width of the observation window, and **_interval_** is how often an assay (comparison) is run. The default value of *width* is 24 hours; the default value of *interval* is to set it equal to *width*. The units can be specified in one of: `minutes`, `hours`, `days`, `weeks`.\n",
    "\n",
    "### The Comparison Threshold\n",
    "Given an observation window and a baseline distribution, an assay computes the distribution of predictions in the observation window. It then calculates the \"difference\" (or \"distance\") between the observed distribution and the baseline distribution. For the assay's default distance metric (which we will use here), a good starting threshold is 0.1. Since a different value may work best for a specific situation, you can try interactive assay runs on historical data to find a good threshold, as we do in these exercises.\n",
    "\n",
    "To set the assay threshold for the assays to 0.1:\n",
    "\n",
    "```python\n",
    "assay_builder.add_alert_threshold(0.1)\n",
    "```\n",
    "\n",
    "### Running an Assay on Historical Data\n",
    "\n",
    "In this exercise, you will build an **interactive assay** over historical data. To do this, you need an end time (`endtime`). \n",
    "\n",
    "Depending on the historical history, the window and interval may need adjusting.  If using the previously generated information, an interval window as short as 1 minute may be useful.\n",
    "\n",
    "Assuming you have an assay builder with the appropriate window parameters and threshold set, you can do an interactive run and look at the results would look like this.\n",
    "\n",
    "```python\n",
    "# set the end of the interactive run\n",
    "assay_builder.add_run_until(endtime)\n",
    "\n",
    "# set the window\n",
    "\n",
    "assay_builder.window_builder().add_width(hours=24).add_interval(hours=12)\n",
    "\n",
    "assay_results = assay_builder.build().interactive_run()\n",
    "df = assay_results.to_dataframe() # to return the results as a table\n",
    "assay_results.chart_scores() # to plot the run\n",
    "```\n",
    "\n",
    "### Define Assay Parameters Exercise\n",
    "\n",
    "Use the assay_builder you created in the previous exercise to set up an interactive assay. \n",
    "* The assay should run every minute, on a window that is a minute wide. \n",
    "* Set the alert threshold to 0.1.  \n",
    "* You can use `assay_window_end` (or a later timestamp) as the end of the interactive run.\n",
    "\n",
    "Examine the assay results. Do you see any drift?\n",
    "\n",
    "To try other ways of examining the assay results, see the [\"Interactive Assay Runs\" section of the Model Insights tutorial](https://docs.wallaroo.ai/wallaroo-model-operations/wallaroo-model-operations-observe/wallaroo-pipeline-assays/).\n",
    "\n",
    "Here's some code to use.\n",
    "\n",
    "```python\n",
    "# blank space for setting assay parameters, creating and examining an interactive assay\n",
    "\n",
    "# set the end of the interactive run\n",
    "assay_builder.add_run_until(assay_window_end)\n",
    "\n",
    "# doing minutes to get our previous values in\n",
    "assay_builder.window_builder().add_width(minutes=1).add_interval(minutes=1)\n",
    "assay_builder.add_alert_threshold(0.1)\n",
    "assay_results = assay_builder.build().interactive_run()\n",
    "df = assay_results.to_dataframe() # to return the results as a table\n",
    "assay_results.chart_scores() # to plot the run\n",
    "```\n"
   ]
  },
  {
   "cell_type": "code",
   "execution_count": 19,
   "id": "920ede66-5919-4293-9297-7c1a06fef34b",
   "metadata": {},
   "outputs": [
    {
     "data": {
      "image/png": "[encoded data removed]",
      "text/plain": [
       "<Figure size 432x288 with 1 Axes>"
      ]
     },
     "metadata": {
      "needs_background": "light"
     },
     "output_type": "display_data"
    }
   ],
   "source": [
    "# Build the assay, based on the start and end of our baseline time, \n",
    "# and tracking the output variable index 0\n",
    "# Create the assay baseline\n",
    "assay_baseline = wl.build_assay(assay_name=\"assays from date baseline\", \n",
    "                                          pipeline=pipeline, \n",
    "                                          iopath=\"output weekly_average 0\",\n",
    "                                          baseline_start=baseline_start, \n",
    "                                          baseline_end=baseline_end)\n",
    "\n",
    "\n",
    "# Set the assay parameters\n",
    "\n",
    "# The end date to gather inference results\n",
    "assay_baseline.add_run_until(datetime.datetime.now())\n",
    "\n",
    "# Set the interval and window to one minute each, set the start date for gathering inference results\n",
    "assay_baseline.window_builder().add_width(minutes=1).add_interval(minutes=1).add_start(baseline_start)\n",
    "\n",
    "# build the assay configuration\n",
    "assay_config = assay_baseline.build()\n",
    "\n",
    "# perform an interactive run and collect inference data\n",
    "assay_results = assay_config.interactive_run()\n",
    "\n",
    "# Preview the assay analyses\n",
    "assay_results.chart_scores()"
   ]
  },
  {
   "cell_type": "markdown",
   "id": "7ac0b634-2824-4ae3-a5cf-a15c548a7af2",
   "metadata": {},
   "source": [
    "## Schedule an Assay for Ongoing Data\n",
    "\n",
    "(We won't be doing an exercise here, this is for future reference).\n",
    "\n",
    "Once you are satisfied with the parameters you have set, you can schedule an assay to run regularly .\n",
    "\n",
    "```python\n",
    "assay_baseline = wl.build_assay(assay_name=\"assays from date baseline\", \n",
    "                                          pipeline=pipeline, \n",
    "                                          iopath=\"output weekly_average 0\",\n",
    "                                          baseline_start=baseline_start, \n",
    "                                          baseline_end=baseline_end)\n",
    "\n",
    "\n",
    "# Set the assay parameters\n",
    "\n",
    "# The end date to gather inference results\n",
    "assay_baseline.add_run_until(datetime.datetime.now())\n",
    "\n",
    "# Set the interval and window to one minute each, set the start date for gathering inference results\n",
    "assay_baseline.window_builder().add_width(minutes=1).add_interval(minutes=1).add_start(baseline_start)\n",
    "\n",
    "# now schedule the assay\n",
    "assay_id = assay_baseline.upload()\n",
    "```\n",
    "\n",
    "You can use the assay id later to get the assay results."
   ]
  },
  {
   "cell_type": "markdown",
   "id": "c643514e",
   "metadata": {},
   "source": [
    "## Cleaning up.\n",
    "\n",
    "Now that the workshop is complete, don't forget to undeploy your pipeline to free up the resources.\n"
   ]
  },
  {
   "cell_type": "code",
   "execution_count": 20,
   "id": "371b9334",
   "metadata": {},
   "outputs": [
    {
     "name": "stdout",
     "output_type": "stream",
     "text": [
      "Waiting for undeployment - this will take up to 45s .................................... ok\n"
     ]
    },
    {
     "data": {
      "text/html": [
       "<table><tr><th>name</th> <td>rental-forecast</td></tr><tr><th>created</th> <td>2024-10-29 21:00:36.927945+00:00</td></tr><tr><th>last_updated</th> <td>2024-10-30 20:20:43.920831+00:00</td></tr><tr><th>deployed</th> <td>False</td></tr><tr><th>workspace_id</th> <td>8</td></tr><tr><th>workspace_name</th> <td>workshop-workspace-forecast</td></tr><tr><th>arch</th> <td>x86</td></tr><tr><th>accel</th> <td>none</td></tr><tr><th>tags</th> <td></td></tr><tr><th>versions</th> <td>a601ce07-937c-436a-9735-0ac842173dfb, c0d16da5-5db7-4af1-95e4-cb0c316a4ef3, bd5eb43f-5a2b-493c-a04b-863dccccb55f, 89729096-6581-42b8-9b06-10d580d31e11, b98b86fb-5941-45b6-af5d-c33f80ba7986, aead5518-ffb2-4d18-8898-89575ba90a9f, a2a887c0-a91b-4af7-b579-506c79631fa4, b8ac836a-903b-4327-a4c9-5cc7fb382aa7, 3e18cd2d-c006-497b-a756-5ecc95aa8439, bd3f7d6a-e246-4456-98b9-35b90990b86d</td></tr><tr><th>steps</th> <td>forecast-control-model</td></tr><tr><th>published</th> <td>False</td></tr></table>"
      ],
      "text/plain": [
       "{'name': 'rental-forecast', 'create_time': datetime.datetime(2024, 10, 29, 21, 0, 36, 927945, tzinfo=tzutc()), 'definition': \"[{'ModelInference': {'models': [{'name': 'forecast-control-model', 'version': '4c9a1678-cba3-4db9-97a5-883ce89a9a24', 'sha': '80b51818171dc1e64e61c3050a0815a68b4d14b1b37e1e18dac9e4719e074eb1'}]}}]\"}"
      ]
     },
     "execution_count": 20,
     "metadata": {},
     "output_type": "execute_result"
    }
   ],
   "source": [
    "# blank space to undeploy your pipeline\n",
    "\n",
    "pipeline.undeploy()\n"
   ]
  },
  {
   "cell_type": "markdown",
   "id": "d6179b95-b0bc-4057-80ee-aa8d543f40ac",
   "metadata": {},
   "source": [
    "You have now walked through setting up a basic assay and running it over historical data.\n",
    "\n",
    "## Congratulations!\n",
    "\n",
    "In this workshop you have\n",
    "* Deployed a single step house price prediction pipeline and sent data to it.\n",
    "* Compared two house price prediction models in an A/B test\n",
    "* Compared two house price prediction models in a shadow deployment.\n",
    "* Swapped the \"winner\" of the comparisons into the house price prediction pipeline.\n",
    "* Set validation rules on the pipeline.\n",
    "* Set up an assay on the pipeline to monitor for drift in its predictions.\n",
    "\n",
    "Great job!"
   ]
  }
 ],
 "metadata": {
  "kernelspec": {
   "display_name": "Python 3 (ipykernel)",
   "language": "python",
   "name": "python3"
  },
  "language_info": {
   "codemirror_mode": {
    "name": "ipython",
    "version": 3
   },
   "file_extension": ".py",
   "mimetype": "text/x-python",
   "name": "python",
   "nbconvert_exporter": "python",
   "pygments_lexer": "ipython3",
   "version": "3.9.13"
  }
 },
 "nbformat": 4,
 "nbformat_minor": 5
}
