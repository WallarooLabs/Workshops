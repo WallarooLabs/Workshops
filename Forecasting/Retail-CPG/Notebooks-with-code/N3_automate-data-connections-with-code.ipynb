{
 "cells": [
  {
   "attachments": {},
   "cell_type": "markdown",
   "metadata": {},
   "source": [
    "# Workshop Notebook 3: Automation with Wallaroo Connections\n",
    "\n",
    "Wallaroo Connections are definitions set by MLOps engineers that are used by other Wallaroo users for connection information to a data source.\n",
    "\n",
    "This provides MLOps engineers a method of creating and updating connection information for data stores:  databases, Kafka topics, etc.  Wallaroo Connections are composed of three main parts:\n",
    "\n",
    "* Name:  The unique name of the connection.\n",
    "* Type:  A user defined string that designates the type of connection.  This is used to organize connections.\n",
    "* Details:  Details are a JSON object containing the information needed to make the connection.  This can include data sources, authentication tokens, etc.\n",
    "\n",
    "Wallaroo Connections are only used to store the connection information used by other processes to create and use external connections.  The user still has to provide the libraries and other elements to actually make and use the conneciton.\n",
    "\n",
    "The primary advantage is Wallaroo connections allow scripts and other code to retrieve the connection details directly from their Wallaroo instance, then refer to those connection details.  They don't need to know what those details actually - they can refer to them in their code to make their code more flexible.\n",
    "\n",
    "For this step, we will use a Google BigQuery dataset to retrieve the inference information, predict the next month of sales, then store those predictions into another table.  This will use the Wallaroo Connection feature to create a Connection, assign it to our workspace, then perform our inferences by using the Connection details to connect to the BigQuery dataset and tables.\n",
    "\n",
    "## Prerequisites\n",
    "\n",
    "* A Wallaroo instance version 2023.2.1 or greater.\n",
    "\n",
    "## References\n",
    "\n",
    "* [Wallaroo SDK Essentials Guide: Model Uploads and Registrations: Python Models](https://docs.wallaroo.ai/wallaroo-developer-guides/wallaroo-sdk-guides/wallaroo-sdk-essentials-guide/wallaroo-sdk-model-uploads/wallaroo-sdk-model-upload-python/)\n",
    "* [Wallaroo SDK Essentials Guide: Pipeline Management](https://docs.wallaroo.ai/wallaroo-developer-guides/wallaroo-sdk-guides/wallaroo-sdk-essentials-guide/wallaroo-sdk-essentials-pipelines/wallaroo-sdk-essentials-pipeline/)\n",
    "* [Wallaroo SDK Essentials Guide: Data Connections Management](https://docs.wallaroo.ai/wallaroo-developer-guides/wallaroo-sdk-guides/wallaroo-sdk-essentials-guide/wallaroo-sdk-essentials-dataconnections/)"
   ]
  },
  {
   "attachments": {},
   "cell_type": "markdown",
   "metadata": {},
   "source": [
    "## Preliminaries\n",
    "\n",
    "In the blocks below we will preload some required libraries.\n",
    "\n",
    "For convenience, the following `helper functions` are defined to retrieve previously created workspaces, models, and pipelines:\n",
    "\n",
    "* `get_workspace(name, client)`: This takes in the name and the Wallaroo client being used in this session, and returns the workspace matching `name`.  If no workspaces are found matching the name, raises a `KeyError` and returns `None`.\n",
    "* `get_model_version(model_name, workspace)`: Retrieves the most recent model version from the model matching the `model_name` within the provided `workspace`.  If no model matches that name, raises a `KeyError` and returns `None`.\n",
    "* `get_pipeline(pipeline_name, workspace)`: Retrieves the most pipeline from the workspace matching the `pipeline_name` within the provided `workspace`.  If no model matches that name, raises a `KeyError` and returns `None`."
   ]
  },
  {
   "cell_type": "code",
   "execution_count": 1,
   "metadata": {},
   "outputs": [],
   "source": [
    "import json\n",
    "import os\n",
    "import datetime\n",
    "\n",
    "import wallaroo\n",
    "from wallaroo.object import EntityNotFoundError\n",
    "from wallaroo.framework import Framework\n",
    "\n",
    "# used to display dataframe information without truncating\n",
    "from IPython.display import display\n",
    "import pandas as pd\n",
    "import numpy as np\n",
    "\n",
    "pd.set_option('display.max_colwidth', None)\n",
    "\n",
    "import time\n",
    "import pyarrow as pa"
   ]
  },
  {
   "cell_type": "code",
   "execution_count": 2,
   "metadata": {},
   "outputs": [],
   "source": [
    "## convenience functions from the previous notebooks\n",
    "\n",
    "# return the workspace called <name> through the Wallaroo client.\n",
    "def get_workspace(name, client):\n",
    "    workspace = None\n",
    "    for ws in client.list_workspaces():\n",
    "        if ws.name() == name:\n",
    "            workspace= ws\n",
    "            return workspace\n",
    "    # if no workspaces were found\n",
    "    if workspace==None:\n",
    "        raise KeyError(f\"Workspace {name} was not found.\")\n",
    "    return workspace\n",
    "\n",
    "\n",
    "# returns the most recent model version in a workspace for the matching `model_name`\n",
    "def get_model_version(model_name, workspace):\n",
    "    modellist = workspace.models()\n",
    "    model_version = [m.versions()[-1] for m in modellist if m.name() == model_name]\n",
    "    # if no models match, return None\n",
    "    if len(modellist) <= 0:\n",
    "        raise KeyError(f\"Model {mname} not found in this workspace\")\n",
    "        return None\n",
    "    return model_version[0]\n",
    "\n",
    "# get a pipeline by name in the workspace\n",
    "def get_pipeline(pipeline_name, workspace):\n",
    "    plist = workspace.pipelines()\n",
    "    pipeline = [p for p in plist if p.name() == pipeline_name]\n",
    "    if len(pipeline) <= 0:\n",
    "        raise KeyError(f\"Pipeline {pipeline_name} not found in this workspace\")\n",
    "        return None\n",
    "    return pipeline[0]\n"
   ]
  },
  {
   "attachments": {},
   "cell_type": "markdown",
   "metadata": {},
   "source": [
    "### Connect to the Wallaroo Instance\n",
    "\n",
    "The first step is to connect to Wallaroo through the Wallaroo client.  The Python library is included in the Wallaroo install and available through the Jupyter Hub interface provided with your Wallaroo environment.\n",
    "\n",
    "This is accomplished using the `wallaroo.Client()` command, which provides a URL to grant the SDK permission to your specific Wallaroo environment.  When displayed, enter the URL into a browser and confirm permissions.  Store the connection into a variable that can be referenced later.\n",
    "\n",
    "If logging into the Wallaroo instance through the internal JupyterHub service, use `wl = wallaroo.Client()`.  For more information on Wallaroo Client settings, see the [Client Connection guide](https://docs.wallaroo.ai/wallaroo-developer-guides/wallaroo-sdk-guides/wallaroo-sdk-essentials-guide/wallaroo-sdk-essentials-client/)."
   ]
  },
  {
   "cell_type": "code",
   "execution_count": 3,
   "metadata": {},
   "outputs": [
    {
     "name": "stdout",
     "output_type": "stream",
     "text": [
      "Please log into the following URL in a web browser:\n",
      "\n",
      "\thttps://doc-test.keycloak.wallaroocommunity.ninja/auth/realms/master/device?user_code=THOD-BIPZ\n",
      "\n",
      "Login successful!\n"
     ]
    }
   ],
   "source": [
    "## blank space to log in \n",
    "\n",
    "wl = wallaroo.Client()\n",
    "\n",
    "wallarooPrefix = \"doc-test.\"\n",
    "wallarooSuffix = \"wallaroocommunity.ninja\"\n",
    "\n",
    "wl = wallaroo.Client(api_endpoint=f\"https://{wallarooPrefix}api.{wallarooSuffix}\", \n",
    "                    auth_endpoint=f\"https://{wallarooPrefix}keycloak.{wallarooSuffix}\", \n",
    "                    auth_type=\"sso\")"
   ]
  },
  {
   "attachments": {},
   "cell_type": "markdown",
   "metadata": {},
   "source": [
    "### Set Configurations\n",
    "\n",
    "Set the workspace, pipeline, and model used from Notebook 1.  The helper functions will make this task easier.\n",
    "\n",
    "#### Set Configurations References\n",
    "\n",
    "* [Wallaroo SDK Essentials Guide: Workspace Management](https://docs.wallaroo.ai/wallaroo-developer-guides/wallaroo-sdk-guides/wallaroo-sdk-essentials-guide/wallaroo-sdk-essentials-workspace/)\n",
    "* [Wallaroo SDK Essentials Guide: Pipeline Management](https://docs.wallaroo.ai/wallaroo-developer-guides/wallaroo-sdk-guides/wallaroo-sdk-essentials-guide/wallaroo-sdk-essentials-pipelines/wallaroo-sdk-essentials-pipeline/)"
   ]
  },
  {
   "cell_type": "code",
   "execution_count": 4,
   "metadata": {},
   "outputs": [
    {
     "data": {
      "text/plain": [
       "{'name': 'workshop-workspace-john-forecast-demo', 'id': 22, 'archived': False, 'created_by': '1394d144-06a0-4b6b-b2db-d7945810e39c', 'created_at': '2023-11-13T17:06:07.813719+00:00', 'models': [{'name': 'forecast-model', 'versions': 1, 'owner_id': '\"\"', 'last_update_time': datetime.datetime(2023, 11, 13, 17, 7, 26, 93495, tzinfo=tzutc()), 'created_at': datetime.datetime(2023, 11, 13, 17, 7, 26, 93495, tzinfo=tzutc())}, {'name': 'forecast-model-challenger-01', 'versions': 1, 'owner_id': '\"\"', 'last_update_time': datetime.datetime(2023, 11, 13, 20, 42, 8, 51724, tzinfo=tzutc()), 'created_at': datetime.datetime(2023, 11, 13, 20, 42, 8, 51724, tzinfo=tzutc())}, {'name': 'forecast-model-challenger-02', 'versions': 1, 'owner_id': '\"\"', 'last_update_time': datetime.datetime(2023, 11, 13, 20, 42, 9, 272465, tzinfo=tzutc()), 'created_at': datetime.datetime(2023, 11, 13, 20, 42, 9, 272465, tzinfo=tzutc())}], 'pipelines': [{'name': 'rental-forecast', 'create_time': datetime.datetime(2023, 11, 13, 17, 7, 28, 18163, tzinfo=tzutc()), 'definition': '[]'}]}"
      ]
     },
     "metadata": {},
     "output_type": "display_data"
    },
    {
     "data": {
      "text/html": [
       "<table><tr><th>name</th> <td>rental-forecast</td></tr><tr><th>created</th> <td>2023-11-13 17:07:28.018163+00:00</td></tr><tr><th>last_updated</th> <td>2023-11-13 21:26:14.769759+00:00</td></tr><tr><th>deployed</th> <td>False</td></tr><tr><th>arch</th> <td>None</td></tr><tr><th>tags</th> <td></td></tr><tr><th>versions</th> <td>2ff4d42a-a9e3-4e2f-8136-f2905e78378f, 1525547a-7068-47ae-88b0-de0d67117998, ed1e809e-26a0-499e-93db-69cb87da0a8b, e97b3283-0856-4a89-89af-ba69e3a95e08, a3992425-bd73-4988-b42c-47c6e016288c, 7e43df46-2da3-4203-bf2a-ad16dfbf6ecc, 2a396c4c-45da-4620-92a0-a1b5973eb2c1, 94dd6ea2-ac9f-4477-ac6d-2972c8eefa93, 923e9499-ced4-4cda-af1d-1537d5352edc, 3430cf1b-1ece-4ca8-9b99-f71ed2faab32, 11ab670d-1eeb-4dd5-8f2f-d4e05f8bb403, 24a0f17d-8434-4da2-b784-b0a2bbad40f8, 3224a519-5caf-4de4-97bd-84fa95f9895a, 5cda6f54-cfde-4931-a873-4da4e141cea2, af62e7b2-8054-474d-a898-0384f1844e58, 3afd43f4-9d11-47c9-81da-2f65f0e916a0, 972c17d7-4524-4ae2-8ff8-683d3a8aee2a</td></tr><tr><th>steps</th> <td>forecast-model</td></tr><tr><th>published</th> <td>False</td></tr></table>"
      ],
      "text/plain": [
       "{'name': 'rental-forecast', 'create_time': datetime.datetime(2023, 11, 13, 17, 7, 28, 18163, tzinfo=tzutc()), 'definition': '[]'}"
      ]
     },
     "metadata": {},
     "output_type": "display_data"
    },
    {
     "data": {
      "text/html": [
       "<table>\n",
       "        <tr>\n",
       "          <td>Name</td>\n",
       "          <td>forecast-model</td>\n",
       "        </tr>\n",
       "        <tr>\n",
       "          <td>Version</td>\n",
       "          <td>a5eadca7-f3fb-411b-be16-82bc1f6835a5</td>\n",
       "        </tr>\n",
       "        <tr>\n",
       "          <td>File Name</td>\n",
       "          <td>forecast.py</td>\n",
       "        </tr>\n",
       "        <tr>\n",
       "          <td>SHA</td>\n",
       "          <td>a4b28a832f7aab63f8cbae411cf1c739bb08cf25685f466219fbd757a7ddffea</td>\n",
       "        </tr>\n",
       "        <tr>\n",
       "          <td>Status</td>\n",
       "          <td>ready</td>\n",
       "        </tr>\n",
       "        <tr>\n",
       "          <td>Image Path</td>\n",
       "          <td>None</td>\n",
       "        </tr>\n",
       "        <tr>\n",
       "          <td>Architecture</td>\n",
       "          <td>None</td>\n",
       "        </tr>\n",
       "        <tr>\n",
       "          <td>Updated At</td>\n",
       "          <td>2023-13-Nov 17:07:26</td>\n",
       "        </tr>\n",
       "      </table>"
      ],
      "text/plain": [
       "{'name': 'forecast-model', 'version': 'a5eadca7-f3fb-411b-be16-82bc1f6835a5', 'file_name': 'forecast.py', 'image_path': None, 'arch': None, 'last_update_time': datetime.datetime(2023, 11, 13, 17, 7, 26, 93495, tzinfo=tzutc())}"
      ]
     },
     "metadata": {},
     "output_type": "display_data"
    }
   ],
   "source": [
    "## blank space to log in \n",
    "\n",
    "# retrieve the previous workspace, model, and pipeline version\n",
    "\n",
    "workspace_name = \"workshop-john-forecast-demo\"\n",
    "\n",
    "workspace = get_workspace(workspace_name, wl)\n",
    "\n",
    "# set your current workspace to the workspace that you just created\n",
    "wl.set_current_workspace(workspace)\n",
    "\n",
    "# examine your current workspace\n",
    "wl.get_current_workspace()\n",
    "\n",
    "model_name = 'forecast-model'\n",
    "\n",
    "prime_model_version = get_model_version(model_name, workspace)\n",
    "\n",
    "pipeline_name = 'rental-forecast'\n",
    "\n",
    "pipeline = get_pipeline(pipeline_name, workspace)\n",
    "\n",
    "# display the workspace, model, and pipeline\n",
    "\n",
    "display(wl.get_current_workspace())\n",
    "display(pipeline)\n",
    "display(prime_model_version)\n",
    "\n"
   ]
  },
  {
   "cell_type": "markdown",
   "metadata": {},
   "source": [
    "## Deploy the Pipeline with the Model Version Step\n",
    "\n",
    "As per the other workshops:\n",
    "\n",
    "1. Clear the pipeline of all steps.\n",
    "1. Add the model version as a pipeline step.\n",
    "1. Deploy the pipeline with the following deployment configuration:\n",
    "\n",
    "```python\n",
    "deploy_config = wallaroo.DeploymentConfigBuilder().replica_count(1).cpus(0.5).memory(\"1Gi\").build()\n",
    "```"
   ]
  },
  {
   "cell_type": "code",
   "execution_count": 5,
   "metadata": {},
   "outputs": [
    {
     "data": {
      "text/html": [
       "<table><tr><th>name</th> <td>rental-forecast</td></tr><tr><th>created</th> <td>2023-11-13 17:07:28.018163+00:00</td></tr><tr><th>last_updated</th> <td>2023-11-13 22:08:36.400306+00:00</td></tr><tr><th>deployed</th> <td>True</td></tr><tr><th>arch</th> <td>None</td></tr><tr><th>tags</th> <td></td></tr><tr><th>versions</th> <td>52bcc0e1-8962-4ea1-9806-6fcdbb83351d, 2ff4d42a-a9e3-4e2f-8136-f2905e78378f, 1525547a-7068-47ae-88b0-de0d67117998, ed1e809e-26a0-499e-93db-69cb87da0a8b, e97b3283-0856-4a89-89af-ba69e3a95e08, a3992425-bd73-4988-b42c-47c6e016288c, 7e43df46-2da3-4203-bf2a-ad16dfbf6ecc, 2a396c4c-45da-4620-92a0-a1b5973eb2c1, 94dd6ea2-ac9f-4477-ac6d-2972c8eefa93, 923e9499-ced4-4cda-af1d-1537d5352edc, 3430cf1b-1ece-4ca8-9b99-f71ed2faab32, 11ab670d-1eeb-4dd5-8f2f-d4e05f8bb403, 24a0f17d-8434-4da2-b784-b0a2bbad40f8, 3224a519-5caf-4de4-97bd-84fa95f9895a, 5cda6f54-cfde-4931-a873-4da4e141cea2, af62e7b2-8054-474d-a898-0384f1844e58, 3afd43f4-9d11-47c9-81da-2f65f0e916a0, 972c17d7-4524-4ae2-8ff8-683d3a8aee2a</td></tr><tr><th>steps</th> <td>forecast-model</td></tr><tr><th>published</th> <td>False</td></tr></table>"
      ],
      "text/plain": [
       "{'name': 'rental-forecast', 'create_time': datetime.datetime(2023, 11, 13, 17, 7, 28, 18163, tzinfo=tzutc()), 'definition': \"[{'ModelInference': {'models': [{'name': 'forecast-model', 'version': 'a5eadca7-f3fb-411b-be16-82bc1f6835a5', 'sha': 'a4b28a832f7aab63f8cbae411cf1c739bb08cf25685f466219fbd757a7ddffea'}]}}]\"}"
      ]
     },
     "execution_count": 5,
     "metadata": {},
     "output_type": "execute_result"
    }
   ],
   "source": [
    "pipeline.clear()\n",
    "pipeline.add_model_step(prime_model_version)\n",
    "\n",
    "deploy_config = wallaroo.DeploymentConfigBuilder().replica_count(1).cpus(0.5).memory(\"1Gi\").build()\n",
    "pipeline.deploy(deployment_config=deploy_config)"
   ]
  },
  {
   "attachments": {},
   "cell_type": "markdown",
   "metadata": {},
   "source": [
    "## Create the Connection\n",
    "\n",
    "For this demonstration, the connection set to a specific file on a GitHub repository.  The connection details can be anything that can be stored in JSON:  connection URLs, tokens, etc.\n",
    "\n",
    "This connection will set a URL to pull a file from GitHub, then use the file contents to perform an inference.\n",
    "\n",
    "Wallaroo connections are created through the Wallaroo Client `create_connection(name, type, details)` method.  See the [Wallaroo SDK Essentials Guide: Data Connections Management guide](https://docs.wallaroo.ai/wallaroo-developer-guides/wallaroo-sdk-guides/wallaroo-sdk-essentials-guide/wallaroo-sdk-essentials-dataconnections/) for full details.\n",
    "\n",
    "Note that connection names must be unique across the Wallaroo instance - if needed, use random characters at the end to make sure your connection doesn't have the same name as a previously created connection.\n",
    "\n",
    "Here's an example connection used to retrieve the same CSV file used in `./data/testdata_standard.df.json`:  https://raw.githubusercontent.com/WallarooLabs/Workshops/main/Forecasting/Retail-CPG/data/testdata_standard.df.json\n",
    "\n",
    "### Create the Connection Exercise\n",
    "\n",
    "```python\n",
    "# set the connection information for other steps\n",
    "# suffix is used to create a unique data connection\n",
    "\n",
    "forecast_connection_input_name = f'forecast-sample-data'\n",
    "forecast_connection_input_type = \"HTTP\"\n",
    "forecast_connection_input_argument = { \n",
    "    \"url\": \"https://raw.githubusercontent.com/WallarooLabs/Workshops/main/Forecasting/Retail-CPG/data/testdata_standard.df.json\"\n",
    "    }\n",
    "\n",
    "\n",
    "wl.create_connection(forecast_connection_input_name, forecast_connection_input_type, forecast_connection_input_argument)\n",
    "```"
   ]
  },
  {
   "cell_type": "code",
   "execution_count": 12,
   "metadata": {},
   "outputs": [
    {
     "data": {
      "text/html": [
       "<table><tr><th>name</th><th>connection type</th><th>details</th><th>created at</th><th>linked workspaces</th></tr><tr><td>external_inference_connection</td><td>HTTP</td><td>*****</td><td>2023-11-01T18:51:51.359898+00:00</td><td>['simpleorchestrationworkspace']</td></tr><tr><td>forecast-sample-data</td><td>HTTP</td><td>*****</td><td>2023-11-13T22:08:59.048998+00:00</td><td>['workshop-workspace-john-forecast-demo']</td></tr></table>"
      ],
      "text/plain": [
       "[<wallaroo.connection.Connection at 0x28420eaf0>,\n",
       " <wallaroo.connection.Connection at 0x28420eee0>]"
      ]
     },
     "execution_count": 12,
     "metadata": {},
     "output_type": "execute_result"
    }
   ],
   "source": [
    "wl.list_connections()"
   ]
  },
  {
   "cell_type": "code",
   "execution_count": 13,
   "metadata": {},
   "outputs": [
    {
     "data": {
      "text/html": [
       "\n",
       "        <table>\n",
       "          <tr>\n",
       "            <th>Field</th>\n",
       "            <th>Value</th>\n",
       "          </tr>\n",
       "          <tr>\n",
       "            <td>Name</td><td>forecast-sample-data-total</td>\n",
       "          </tr>\n",
       "          <tr>\n",
       "            <td>Connection Type</td><td>HTTP</td>\n",
       "          </tr>\n",
       "          <tr>\n",
       "            <td>Details</td><td>*****</td>\n",
       "          </tr>\n",
       "          <tr>\n",
       "            <td>Created At</td><td>2023-11-13T22:29:38.479076+00:00</td>\n",
       "          </tr>\n",
       "          <tr>\n",
       "            <td>Linked Workspaces</td><td>[]</td>\n",
       "          </tr>\n",
       "        </table>\n",
       "        "
      ],
      "text/plain": [
       "<wallaroo.connection.Connection at 0x284235550>"
      ]
     },
     "execution_count": 13,
     "metadata": {},
     "output_type": "execute_result"
    }
   ],
   "source": [
    "# set the connection information for other steps\n",
    "# suffix is used to create a unique data connection\n",
    "\n",
    "forecast_connection_input_name = f'forecast-sample-data-total'\n",
    "forecast_connection_input_type = \"HTTP\"\n",
    "forecast_connection_input_argument = { \n",
    "    \"url\": \"https://raw.githubusercontent.com/WallarooLabs/Workshops/20231113-forecast-updates/Forecasting/Retail-CPG/data/testdata-standard.df.json\"\n",
    "    }\n",
    "\n",
    "\n",
    "wl.create_connection(forecast_connection_input_name, forecast_connection_input_type, forecast_connection_input_argument)"
   ]
  },
  {
   "cell_type": "markdown",
   "metadata": {},
   "source": [
    "## List Connections\n",
    "\n",
    "Connections for the entire Wallaroo instance are listed with Wallaroo Client `list_connections()` method.\n",
    "\n",
    "## List Connections Exercise\n",
    "\n",
    "Here's an example of listing the connections when the Wallaroo client is `wl`.\n",
    "\n",
    "```python\n",
    "wl.list_connections()\n",
    "```"
   ]
  },
  {
   "cell_type": "code",
   "execution_count": 7,
   "metadata": {},
   "outputs": [
    {
     "data": {
      "text/html": [
       "<table><tr><th>name</th><th>connection type</th><th>details</th><th>created at</th><th>linked workspaces</th></tr><tr><td>external_inference_connection</td><td>HTTP</td><td>*****</td><td>2023-11-01T18:51:51.359898+00:00</td><td>['simpleorchestrationworkspace']</td></tr><tr><td>forecast-sample-data</td><td>HTTP</td><td>*****</td><td>2023-11-13T22:08:59.048998+00:00</td><td>[]</td></tr></table>"
      ],
      "text/plain": [
       "[<wallaroo.connection.Connection at 0x106c15220>,\n",
       " <wallaroo.connection.Connection at 0x106c15880>]"
      ]
     },
     "execution_count": 7,
     "metadata": {},
     "output_type": "execute_result"
    }
   ],
   "source": [
    "# list the connections here\n",
    "\n",
    "wl.list_connections()"
   ]
  },
  {
   "cell_type": "markdown",
   "metadata": {},
   "source": [
    "## Get Connection by Name\n",
    "\n",
    "To retrieve a previosly created conneciton, we can assign it to a variable with the method Wallaroo `Client.get_connection(connection_name)`.  Then we can display the connection itself.  Notice that when displaying a connection, the `details` section will be hidden, but they are retrieved with `connection.details()`.  Here's an example:\n",
    "\n",
    "```python\n",
    "myconnection = client.get_connection(\"My amazing connection\")\n",
    "display(myconnection)\n",
    "display(myconnection.details()\n",
    "```\n",
    "\n",
    "Use that code to retrieve your new connection.\n",
    "\n",
    "### Get Connection by Name Example\n",
    "\n",
    "Here's an example based on the Wallaroo client saved as `wl`.\n",
    "\n",
    "```python\n",
    "wl.get_connection(forecast_connection_input_name)\n",
    "```"
   ]
  },
  {
   "cell_type": "code",
   "execution_count": 14,
   "metadata": {},
   "outputs": [
    {
     "data": {
      "text/html": [
       "\n",
       "        <table>\n",
       "          <tr>\n",
       "            <th>Field</th>\n",
       "            <th>Value</th>\n",
       "          </tr>\n",
       "          <tr>\n",
       "            <td>Name</td><td>forecast-sample-data-total</td>\n",
       "          </tr>\n",
       "          <tr>\n",
       "            <td>Connection Type</td><td>HTTP</td>\n",
       "          </tr>\n",
       "          <tr>\n",
       "            <td>Details</td><td>*****</td>\n",
       "          </tr>\n",
       "          <tr>\n",
       "            <td>Created At</td><td>2023-11-13T22:29:38.479076+00:00</td>\n",
       "          </tr>\n",
       "          <tr>\n",
       "            <td>Linked Workspaces</td><td>[]</td>\n",
       "          </tr>\n",
       "        </table>\n",
       "        "
      ],
      "text/plain": [
       "<wallaroo.connection.Connection at 0x2841d4490>"
      ]
     },
     "execution_count": 14,
     "metadata": {},
     "output_type": "execute_result"
    }
   ],
   "source": [
    "# get the connection by name\n",
    "\n",
    "this_connection = wl.get_connection(forecast_connection_input_name)\n",
    "this_connection"
   ]
  },
  {
   "attachments": {},
   "cell_type": "markdown",
   "metadata": {},
   "source": [
    "## Add Connection to Workspace\n",
    "\n",
    "We'll now add the connection to our workspace so it can be retrieved by other workspace users.  The method Workspace `add_connection(connection_name)` adds a Data Connection to a workspace.  The method Workspace `list_connections()` displays a list of connections attached to the workspace.\n",
    "\n",
    "### Add Connection to Workspace Exercise\n",
    "\n",
    "Use the connection we just created, and add it to the sample workspace.  Here's a code example where the workspace is saved to the variable `workspace` and the connection is saved as `forecast_connection_input_name`.\n",
    "\n",
    "```python\n",
    "workspace.add_connection(forecast_connection_input_name)\n",
    "```"
   ]
  },
  {
   "cell_type": "code",
   "execution_count": 15,
   "metadata": {},
   "outputs": [
    {
     "data": {
      "text/html": [
       "<table><tr><th>name</th><th>connection type</th><th>details</th><th>created at</th><th>linked workspaces</th></tr><tr><td>forecast-sample-data</td><td>HTTP</td><td>*****</td><td>2023-11-13T22:08:59.048998+00:00</td><td>['workshop-workspace-john-forecast-demo']</td></tr><tr><td>forecast-sample-data-total</td><td>HTTP</td><td>*****</td><td>2023-11-13T22:29:38.479076+00:00</td><td>['workshop-workspace-john-forecast-demo']</td></tr></table>"
      ],
      "text/plain": [
       "[<wallaroo.connection.Connection at 0x2855efd30>,\n",
       " <wallaroo.connection.Connection at 0x2855efb50>]"
      ]
     },
     "execution_count": 15,
     "metadata": {},
     "output_type": "execute_result"
    }
   ],
   "source": [
    "workspace.add_connection(forecast_connection_input_name)\n",
    "workspace.list_connections()"
   ]
  },
  {
   "attachments": {},
   "cell_type": "markdown",
   "metadata": {},
   "source": [
    "## Retrieve Connection from Workspace\n",
    "\n",
    "To simulate a data scientist's procedural flow, we'll now retrieve the connection from the workspace.  Specific connections are retrieved by specifying their position in the returned list.\n",
    "\n",
    "For example, if we have two connections in a workspace and we want the second one, we can assign it to a variable with `list_connections[1]`.\n",
    "\n",
    "Create a new variable and retrieve the connection we just assigned to the workspace.\n",
    "\n",
    "### Retrieve Connection from Workspace Exercise\n",
    "\n",
    "Retrieve the connection that was just associated with the workspace.  You'll use the `list_connections` method, then assign a variable to the connection.  Here's an example if the connection is the most recently one added to the workspace `workspace`.\n",
    "\n",
    "```python\n",
    "forecast_connection = workspace.list_connections()[-1]\n",
    "```"
   ]
  },
  {
   "cell_type": "code",
   "execution_count": 17,
   "metadata": {},
   "outputs": [
    {
     "data": {
      "text/html": [
       "\n",
       "        <table>\n",
       "          <tr>\n",
       "            <th>Field</th>\n",
       "            <th>Value</th>\n",
       "          </tr>\n",
       "          <tr>\n",
       "            <td>Name</td><td>forecast-sample-data-total</td>\n",
       "          </tr>\n",
       "          <tr>\n",
       "            <td>Connection Type</td><td>HTTP</td>\n",
       "          </tr>\n",
       "          <tr>\n",
       "            <td>Details</td><td>*****</td>\n",
       "          </tr>\n",
       "          <tr>\n",
       "            <td>Created At</td><td>2023-11-13T22:29:38.479076+00:00</td>\n",
       "          </tr>\n",
       "          <tr>\n",
       "            <td>Linked Workspaces</td><td>['workshop-workspace-john-forecast-demo']</td>\n",
       "          </tr>\n",
       "        </table>\n",
       "        "
      ],
      "text/plain": [
       "<wallaroo.connection.Connection at 0x2855e92b0>"
      ]
     },
     "metadata": {},
     "output_type": "display_data"
    }
   ],
   "source": [
    "forecast_connection = workspace.list_connections()[-1]\n",
    "display(forecast_connection)"
   ]
  },
  {
   "attachments": {},
   "cell_type": "markdown",
   "metadata": {},
   "source": [
    "## Run Inference with Connection\n",
    "\n",
    "Connections can be used for different purposes:  uploading new models, engine configurations - any place that data is needed.  This exercise will use the data connection to perform an inference through our deployed pipeline.\n",
    "\n",
    "### Run Inference with Connection Exercise\n",
    "\n",
    "We'll now retrieve sample data through the Wallaroo connection, and perform a sample inference.  The connection details are retrieved through the Connection `details()` method.  Use them to retrieve the pandas record file and convert it to a DataFrame, and use it with our sample model.\n",
    "\n",
    "Here's a code example that uses the Python `requests` library to retrieve the file information, then turns it into a DataFrame for the inference request.\n",
    "\n",
    "```python\n",
    "display(forecast_connection.details()['url'])\n",
    "\n",
    "import requests\n",
    "\n",
    "response = requests.get(\n",
    "                    forecast_connection.details()['url']\n",
    "                )\n",
    "\n",
    "# display(response.json())\n",
    "\n",
    "df = pd.DataFrame(response.json())\n",
    "\n",
    "pipeline.infer(df)\n",
    "```"
   ]
  },
  {
   "cell_type": "code",
   "execution_count": 18,
   "metadata": {},
   "outputs": [
    {
     "data": {
      "text/plain": [
       "'https://raw.githubusercontent.com/WallarooLabs/Workshops/20231113-forecast-updates/Forecasting/Retail-CPG/data/testdata-standard.df.json'"
      ]
     },
     "metadata": {},
     "output_type": "display_data"
    },
    {
     "data": {
      "text/html": [
       "<div>\n",
       "<style scoped>\n",
       "    .dataframe tbody tr th:only-of-type {\n",
       "        vertical-align: middle;\n",
       "    }\n",
       "\n",
       "    .dataframe tbody tr th {\n",
       "        vertical-align: top;\n",
       "    }\n",
       "\n",
       "    .dataframe thead th {\n",
       "        text-align: right;\n",
       "    }\n",
       "</style>\n",
       "<table border=\"1\" class=\"dataframe\">\n",
       "  <thead>\n",
       "    <tr style=\"text-align: right;\">\n",
       "      <th></th>\n",
       "      <th>dteday</th>\n",
       "      <th>site_id</th>\n",
       "      <th>cnt</th>\n",
       "      <th>season</th>\n",
       "      <th>holiday</th>\n",
       "      <th>weekday</th>\n",
       "      <th>workingday</th>\n",
       "    </tr>\n",
       "  </thead>\n",
       "  <tbody>\n",
       "    <tr>\n",
       "      <th>0</th>\n",
       "      <td>[2011-02-02, 2011-02-03, 2011-02-04, 2011-02-05, 2011-02-06, 2011-02-07, 2011-02-08, 2011-02-09, 2011-02-10, 2011-02-11, 2011-02-12, 2011-02-13, 2011-02-14, 2011-02-15, 2011-02-16, 2011-02-17, 2011-02-18, 2011-02-19, 2011-02-20, 2011-02-21, 2011-02-22, 2011-02-23, 2011-02-24, 2011-02-25, 2011-02-26, 2011-02-27, 2011-02-28, 2011-03-01, 2011-03-02, 2011-03-03, 2011-03-04, 2011-03-05, 2011-03-06, 2011-03-07, 2011-03-08]</td>\n",
       "      <td>[site0001, site0001, site0001, site0001, site0001, site0001, site0001, site0001, site0001, site0001, site0001, site0001, site0001, site0001, site0001, site0001, site0001, site0001, site0001, site0001, site0001, site0001, site0001, site0001, site0001, site0001, site0001, site0001, site0001, site0001, site0001, site0001, site0001, site0001, site0001]</td>\n",
       "      <td>[1240, 1551, 2324, 805, 1948, 1650, 913, 931, 1256, 1614, 1000, 1883, 1964, 2036, 2586, 3219, 3947, 1826, 1418, 723, 1281, 2564, 2181, 1539, 2059, 2428, 836, 1235, -1, -1, -1, -1, -1, -1, -1]</td>\n",
       "      <td>[1, 1, 1, 1, 1, 1, 1, 1, 1, 1, 1, 1, 1, 1, 1, 1, 1, 1, 1, 1, 1, 1, 1, 1, 1, 1, 1, 1, 1, 1, 1, 1, 1, 1, 1]</td>\n",
       "      <td>[0, 0, 0, 0, 0, 0, 0, 0, 0, 0, 0, 0, 0, 0, 0, 0, 0, 0, 0, 1, 0, 0, 0, 0, 0, 0, 0, 0, 0, 0, 0, 0, 0, 0, 0]</td>\n",
       "      <td>[3, 4, 5, 6, 0, 1, 2, 3, 4, 5, 6, 0, 1, 2, 3, 4, 5, 6, 0, 1, 2, 3, 4, 5, 6, 0, 1, 2, 3, 4, 5, 6, 0, 1, 2]</td>\n",
       "      <td>[1, 1, 1, 0, 0, 1, 1, 1, 1, 1, 0, 0, 1, 1, 1, 1, 1, 0, 0, 0, 1, 1, 1, 1, 0, 0, 1, 1, 1, 1, 1, 0, 0, 1, 1]</td>\n",
       "    </tr>\n",
       "  </tbody>\n",
       "</table>\n",
       "</div>"
      ],
      "text/plain": [
       "                                                                                                                                                                                                                                                                                                                                                                                                                                 dteday  \\\n",
       "0  [2011-02-02, 2011-02-03, 2011-02-04, 2011-02-05, 2011-02-06, 2011-02-07, 2011-02-08, 2011-02-09, 2011-02-10, 2011-02-11, 2011-02-12, 2011-02-13, 2011-02-14, 2011-02-15, 2011-02-16, 2011-02-17, 2011-02-18, 2011-02-19, 2011-02-20, 2011-02-21, 2011-02-22, 2011-02-23, 2011-02-24, 2011-02-25, 2011-02-26, 2011-02-27, 2011-02-28, 2011-03-01, 2011-03-02, 2011-03-03, 2011-03-04, 2011-03-05, 2011-03-06, 2011-03-07, 2011-03-08]   \n",
       "\n",
       "                                                                                                                                                                                                                                                                                                                                                          site_id  \\\n",
       "0  [site0001, site0001, site0001, site0001, site0001, site0001, site0001, site0001, site0001, site0001, site0001, site0001, site0001, site0001, site0001, site0001, site0001, site0001, site0001, site0001, site0001, site0001, site0001, site0001, site0001, site0001, site0001, site0001, site0001, site0001, site0001, site0001, site0001, site0001, site0001]   \n",
       "\n",
       "                                                                                                                                                                                               cnt  \\\n",
       "0  [1240, 1551, 2324, 805, 1948, 1650, 913, 931, 1256, 1614, 1000, 1883, 1964, 2036, 2586, 3219, 3947, 1826, 1418, 723, 1281, 2564, 2181, 1539, 2059, 2428, 836, 1235, -1, -1, -1, -1, -1, -1, -1]   \n",
       "\n",
       "                                                                                                      season  \\\n",
       "0  [1, 1, 1, 1, 1, 1, 1, 1, 1, 1, 1, 1, 1, 1, 1, 1, 1, 1, 1, 1, 1, 1, 1, 1, 1, 1, 1, 1, 1, 1, 1, 1, 1, 1, 1]   \n",
       "\n",
       "                                                                                                     holiday  \\\n",
       "0  [0, 0, 0, 0, 0, 0, 0, 0, 0, 0, 0, 0, 0, 0, 0, 0, 0, 0, 0, 1, 0, 0, 0, 0, 0, 0, 0, 0, 0, 0, 0, 0, 0, 0, 0]   \n",
       "\n",
       "                                                                                                     weekday  \\\n",
       "0  [3, 4, 5, 6, 0, 1, 2, 3, 4, 5, 6, 0, 1, 2, 3, 4, 5, 6, 0, 1, 2, 3, 4, 5, 6, 0, 1, 2, 3, 4, 5, 6, 0, 1, 2]   \n",
       "\n",
       "                                                                                                  workingday  \n",
       "0  [1, 1, 1, 0, 0, 1, 1, 1, 1, 1, 0, 0, 1, 1, 1, 1, 1, 0, 0, 0, 1, 1, 1, 1, 0, 0, 1, 1, 1, 1, 1, 0, 0, 1, 1]  "
      ]
     },
     "metadata": {},
     "output_type": "display_data"
    },
    {
     "data": {
      "text/html": [
       "<div>\n",
       "<style scoped>\n",
       "    .dataframe tbody tr th:only-of-type {\n",
       "        vertical-align: middle;\n",
       "    }\n",
       "\n",
       "    .dataframe tbody tr th {\n",
       "        vertical-align: top;\n",
       "    }\n",
       "\n",
       "    .dataframe thead th {\n",
       "        text-align: right;\n",
       "    }\n",
       "</style>\n",
       "<table border=\"1\" class=\"dataframe\">\n",
       "  <thead>\n",
       "    <tr style=\"text-align: right;\">\n",
       "      <th></th>\n",
       "      <th>time</th>\n",
       "      <th>in.cnt</th>\n",
       "      <th>in.dteday</th>\n",
       "      <th>in.holiday</th>\n",
       "      <th>in.season</th>\n",
       "      <th>in.site_id</th>\n",
       "      <th>in.weekday</th>\n",
       "      <th>in.workingday</th>\n",
       "      <th>out.dteday</th>\n",
       "      <th>out.forecast</th>\n",
       "      <th>out.site_id</th>\n",
       "      <th>check_failures</th>\n",
       "    </tr>\n",
       "  </thead>\n",
       "  <tbody>\n",
       "    <tr>\n",
       "      <th>0</th>\n",
       "      <td>2023-11-13 22:30:25.767</td>\n",
       "      <td>[1240, 1551, 2324, 805, 1948, 1650, 913, 931, 1256, 1614, 1000, 1883, 1964, 2036, 2586, 3219, 3947, 1826, 1418, 723, 1281, 2564, 2181, 1539, 2059, 2428, 836, 1235, -1, -1, -1, -1, -1, -1, -1]</td>\n",
       "      <td>[2011-02-02, 2011-02-03, 2011-02-04, 2011-02-05, 2011-02-06, 2011-02-07, 2011-02-08, 2011-02-09, 2011-02-10, 2011-02-11, 2011-02-12, 2011-02-13, 2011-02-14, 2011-02-15, 2011-02-16, 2011-02-17, 2011-02-18, 2011-02-19, 2011-02-20, 2011-02-21, 2011-02-22, 2011-02-23, 2011-02-24, 2011-02-25, 2011-02-26, 2011-02-27, 2011-02-28, 2011-03-01, 2011-03-02, 2011-03-03, 2011-03-04, 2011-03-05, 2011-03-06, 2011-03-07, 2011-03-08]</td>\n",
       "      <td>[0, 0, 0, 0, 0, 0, 0, 0, 0, 0, 0, 0, 0, 0, 0, 0, 0, 0, 0, 1, 0, 0, 0, 0, 0, 0, 0, 0, 0, 0, 0, 0, 0, 0, 0]</td>\n",
       "      <td>[1, 1, 1, 1, 1, 1, 1, 1, 1, 1, 1, 1, 1, 1, 1, 1, 1, 1, 1, 1, 1, 1, 1, 1, 1, 1, 1, 1, 1, 1, 1, 1, 1, 1, 1]</td>\n",
       "      <td>[site0001, site0001, site0001, site0001, site0001, site0001, site0001, site0001, site0001, site0001, site0001, site0001, site0001, site0001, site0001, site0001, site0001, site0001, site0001, site0001, site0001, site0001, site0001, site0001, site0001, site0001, site0001, site0001, site0001, site0001, site0001, site0001, site0001, site0001, site0001]</td>\n",
       "      <td>[3, 4, 5, 6, 0, 1, 2, 3, 4, 5, 6, 0, 1, 2, 3, 4, 5, 6, 0, 1, 2, 3, 4, 5, 6, 0, 1, 2, 3, 4, 5, 6, 0, 1, 2]</td>\n",
       "      <td>[1, 1, 1, 0, 0, 1, 1, 1, 1, 1, 0, 0, 1, 1, 1, 1, 1, 0, 0, 0, 1, 1, 1, 1, 0, 0, 1, 1, 1, 1, 1, 0, 0, 1, 1]</td>\n",
       "      <td>[2011-03-02, 2011-03-03, 2011-03-04, 2011-03-05, 2011-03-06, 2011-03-07, 2011-03-08]</td>\n",
       "      <td>[2269, 1712, 1795, 1371, 1819, 2045, 1974]</td>\n",
       "      <td>[site0001, site0001, site0001, site0001, site0001, site0001, site0001]</td>\n",
       "      <td>0</td>\n",
       "    </tr>\n",
       "  </tbody>\n",
       "</table>\n",
       "</div>"
      ],
      "text/plain": [
       "                     time  \\\n",
       "0 2023-11-13 22:30:25.767   \n",
       "\n",
       "                                                                                                                                                                                            in.cnt  \\\n",
       "0  [1240, 1551, 2324, 805, 1948, 1650, 913, 931, 1256, 1614, 1000, 1883, 1964, 2036, 2586, 3219, 3947, 1826, 1418, 723, 1281, 2564, 2181, 1539, 2059, 2428, 836, 1235, -1, -1, -1, -1, -1, -1, -1]   \n",
       "\n",
       "                                                                                                                                                                                                                                                                                                                                                                                                                              in.dteday  \\\n",
       "0  [2011-02-02, 2011-02-03, 2011-02-04, 2011-02-05, 2011-02-06, 2011-02-07, 2011-02-08, 2011-02-09, 2011-02-10, 2011-02-11, 2011-02-12, 2011-02-13, 2011-02-14, 2011-02-15, 2011-02-16, 2011-02-17, 2011-02-18, 2011-02-19, 2011-02-20, 2011-02-21, 2011-02-22, 2011-02-23, 2011-02-24, 2011-02-25, 2011-02-26, 2011-02-27, 2011-02-28, 2011-03-01, 2011-03-02, 2011-03-03, 2011-03-04, 2011-03-05, 2011-03-06, 2011-03-07, 2011-03-08]   \n",
       "\n",
       "                                                                                                  in.holiday  \\\n",
       "0  [0, 0, 0, 0, 0, 0, 0, 0, 0, 0, 0, 0, 0, 0, 0, 0, 0, 0, 0, 1, 0, 0, 0, 0, 0, 0, 0, 0, 0, 0, 0, 0, 0, 0, 0]   \n",
       "\n",
       "                                                                                                   in.season  \\\n",
       "0  [1, 1, 1, 1, 1, 1, 1, 1, 1, 1, 1, 1, 1, 1, 1, 1, 1, 1, 1, 1, 1, 1, 1, 1, 1, 1, 1, 1, 1, 1, 1, 1, 1, 1, 1]   \n",
       "\n",
       "                                                                                                                                                                                                                                                                                                                                                       in.site_id  \\\n",
       "0  [site0001, site0001, site0001, site0001, site0001, site0001, site0001, site0001, site0001, site0001, site0001, site0001, site0001, site0001, site0001, site0001, site0001, site0001, site0001, site0001, site0001, site0001, site0001, site0001, site0001, site0001, site0001, site0001, site0001, site0001, site0001, site0001, site0001, site0001, site0001]   \n",
       "\n",
       "                                                                                                  in.weekday  \\\n",
       "0  [3, 4, 5, 6, 0, 1, 2, 3, 4, 5, 6, 0, 1, 2, 3, 4, 5, 6, 0, 1, 2, 3, 4, 5, 6, 0, 1, 2, 3, 4, 5, 6, 0, 1, 2]   \n",
       "\n",
       "                                                                                               in.workingday  \\\n",
       "0  [1, 1, 1, 0, 0, 1, 1, 1, 1, 1, 0, 0, 1, 1, 1, 1, 1, 0, 0, 0, 1, 1, 1, 1, 0, 0, 1, 1, 1, 1, 1, 0, 0, 1, 1]   \n",
       "\n",
       "                                                                             out.dteday  \\\n",
       "0  [2011-03-02, 2011-03-03, 2011-03-04, 2011-03-05, 2011-03-06, 2011-03-07, 2011-03-08]   \n",
       "\n",
       "                                 out.forecast  \\\n",
       "0  [2269, 1712, 1795, 1371, 1819, 2045, 1974]   \n",
       "\n",
       "                                                              out.site_id  \\\n",
       "0  [site0001, site0001, site0001, site0001, site0001, site0001, site0001]   \n",
       "\n",
       "   check_failures  \n",
       "0               0  "
      ]
     },
     "metadata": {},
     "output_type": "display_data"
    }
   ],
   "source": [
    "display(forecast_connection.details()['url'])\n",
    "\n",
    "import requests\n",
    "\n",
    "response = requests.get(\n",
    "                    forecast_connection.details()['url']\n",
    "                )\n",
    "\n",
    "# display(response.json())\n",
    "\n",
    "df = pd.DataFrame(response.json())\n",
    "display(df)\n",
    "\n",
    "single_result = pipeline.infer(df)\n",
    "display(single_result)"
   ]
  },
  {
   "cell_type": "markdown",
   "metadata": {},
   "source": [
    "## Cleaning up.\n",
    "\n",
    "Now that the workshop is complete, don't forget to undeploy your pipeline to free up the resources."
   ]
  },
  {
   "cell_type": "code",
   "execution_count": 19,
   "metadata": {},
   "outputs": [
    {
     "data": {
      "text/html": [
       "<table><tr><th>name</th> <td>rental-forecast</td></tr><tr><th>created</th> <td>2023-11-13 17:07:28.018163+00:00</td></tr><tr><th>last_updated</th> <td>2023-11-13 22:08:36.400306+00:00</td></tr><tr><th>deployed</th> <td>False</td></tr><tr><th>arch</th> <td>None</td></tr><tr><th>tags</th> <td></td></tr><tr><th>versions</th> <td>52bcc0e1-8962-4ea1-9806-6fcdbb83351d, 2ff4d42a-a9e3-4e2f-8136-f2905e78378f, 1525547a-7068-47ae-88b0-de0d67117998, ed1e809e-26a0-499e-93db-69cb87da0a8b, e97b3283-0856-4a89-89af-ba69e3a95e08, a3992425-bd73-4988-b42c-47c6e016288c, 7e43df46-2da3-4203-bf2a-ad16dfbf6ecc, 2a396c4c-45da-4620-92a0-a1b5973eb2c1, 94dd6ea2-ac9f-4477-ac6d-2972c8eefa93, 923e9499-ced4-4cda-af1d-1537d5352edc, 3430cf1b-1ece-4ca8-9b99-f71ed2faab32, 11ab670d-1eeb-4dd5-8f2f-d4e05f8bb403, 24a0f17d-8434-4da2-b784-b0a2bbad40f8, 3224a519-5caf-4de4-97bd-84fa95f9895a, 5cda6f54-cfde-4931-a873-4da4e141cea2, af62e7b2-8054-474d-a898-0384f1844e58, 3afd43f4-9d11-47c9-81da-2f65f0e916a0, 972c17d7-4524-4ae2-8ff8-683d3a8aee2a</td></tr><tr><th>steps</th> <td>forecast-model</td></tr><tr><th>published</th> <td>False</td></tr></table>"
      ],
      "text/plain": [
       "{'name': 'rental-forecast', 'create_time': datetime.datetime(2023, 11, 13, 17, 7, 28, 18163, tzinfo=tzutc()), 'definition': \"[{'ModelInference': {'models': [{'name': 'forecast-model', 'version': 'a5eadca7-f3fb-411b-be16-82bc1f6835a5', 'sha': 'a4b28a832f7aab63f8cbae411cf1c739bb08cf25685f466219fbd757a7ddffea'}]}}]\"}"
      ]
     },
     "execution_count": 19,
     "metadata": {},
     "output_type": "execute_result"
    }
   ],
   "source": [
    "pipeline.undeploy()"
   ]
  },
  {
   "attachments": {},
   "cell_type": "markdown",
   "metadata": {},
   "source": [
    "## Congratulations!\n",
    "\n",
    "In this workshop you have:\n",
    "\n",
    "* Deployed a single step house price prediction pipeline and sent data to it.\n",
    "* Create a new Wallaroo connection.\n",
    "* Assigned the connection to a workspace.\n",
    "* Retrieved the connection from the workspace.\n",
    "* Used the data connection to retrieve information from outside of Wallaroo, and use it for an inference.\n",
    "\n",
    "Great job!"
   ]
  }
 ],
 "metadata": {
  "kernelspec": {
   "display_name": "Python 3 (ipykernel)",
   "language": "python",
   "name": "python3"
  },
  "language_info": {
   "codemirror_mode": {
    "name": "ipython",
    "version": 3
   },
   "file_extension": ".py",
   "mimetype": "text/x-python",
   "name": "python",
   "nbconvert_exporter": "python",
   "pygments_lexer": "ipython3",
   "version": "3.8.18"
  },
  "vscode": {
   "interpreter": {
    "hash": "7dda4bf3640b7fafcd1648658b879b4cc9f6ba6084e8fb356fdaaa1a461d1690"
   }
  }
 },
 "nbformat": 4,
 "nbformat_minor": 4
}
