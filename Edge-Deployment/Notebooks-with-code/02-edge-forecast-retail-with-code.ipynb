{
 "cells": [
  {
   "cell_type": "markdown",
   "id": "a9af817c-9405-4359-a990-597e9fc392c8",
   "metadata": {},
   "source": [
    "## Forecast Retail Deployment in Wallaroo\n",
    "\n",
    "This tutorial demonstrates how to:\n",
    "\n",
    "* Deploy a Forecast Python trained model into a Wallaroo Ops server and perform inferences on it.\n",
    "* Publish the pipeline to the OCI registry configured in the Wallaroo Ops server.\n",
    "* Add an edge location to the Wallaroo pipeline publish.\n",
    "* Deploy the pipeline as a Wallaroo Server on an edge device through Docker, and display the inference logs submitted to the Wallaroo Ops server.\n",
    "\n",
    "Wallaroo Ops Center provides the ability to publish Wallaroo pipelines to an Open Continer Initative (OCI) compliant registry, then deploy those pipelines on edge devices as Docker container or Kubernetes pods.  See [Wallaroo SDK Essentials Guide: Pipeline Edge Publication](https://docs.wallaroo.ai/20230300/wallaroo-developer-guides/wallaroo-sdk-guides/wallaroo-sdk-essentials-guide/wallaroo-sdk-essentials-pipelines/wallaroo-sdk-essentials-pipeline-publication/) for full details.\n",
    "\n",
    "This demonstration will focus on deployment to the edge.\n",
    "\n",
    "## References\n",
    "\n",
    "* [Wallaroo Workspaces](https://docs.wallaroo.ai/wallaroo-developer-guides/wallaroo-sdk-guides/wallaroo-sdk-essentials-guide/wallaroo-sdk-essentials-workspace/):  Workspaces are environments were users upload models, create pipelines and other artifacts.  The workspace should be considered the fundamental area where work is done.  Workspaces are shared with other users to give them access to the same models, pipelines, etc.\n",
    "* [Wallaroo Model Upload and Registration](https://docs.wallaroo.ai/wallaroo-developer-guides/wallaroo-sdk-guides/wallaroo-sdk-essentials-guide/wallaroo-sdk-model-uploads/): ML Models are uploaded to Wallaroo through the SDK or the MLOps API to a **workspace**.  ML models include default runtimes (ONNX, Python Step, and TensorFlow) that are run directly through the Wallaroo engine, and containerized runtimes (Hugging Face, PyTorch, etc) that are run through in a container through the Wallaroo engine.\n",
    "* [Wallaroo Pipelines](https://docs.wallaroo.ai/wallaroo-developer-guides/wallaroo-sdk-guides/wallaroo-sdk-essentials-guide/wallaroo-sdk-essentials-pipelines/): Pipelines are used to deploy models for inferencing.  Each model is a **pipeline step** in a pipelines, where the inputs of the previous step are fed into the next.  Pipeline steps can be ML models, Python scripts, or Arbitrary Python (these contain necessary models and artifacts for running a model).\n",
    "* [Wallaroo SDK Essentials Guide: Pipeline Edge Publication](https://docs.wallaroo.ai/20230300/wallaroo-developer-guides/wallaroo-sdk-guides/wallaroo-sdk-essentials-guide/wallaroo-sdk-essentials-pipelines/wallaroo-sdk-essentials-pipeline-publication/): Details on publishing a Wallaroo pipeline to an OCI Registry and deploying it as a Wallaroo Server instance."
   ]
  },
  {
   "cell_type": "markdown",
   "id": "6b3f5194",
   "metadata": {},
   "source": [
    "## Data Scientist Steps\n",
    "\n",
    "The following details the steps a Data Scientist performs in uploading and verifying the model in a Wallaroo Ops server.\n",
    "\n",
    "### Load Libraries\n",
    "\n",
    "The first step is loading the required libraries including the [Wallaroo Python module](https://pypi.org/project/wallaroo/)."
   ]
  },
  {
   "cell_type": "code",
   "execution_count": 1,
   "id": "6c67d22b-7b4d-429f-a46f-2009dcdc8bff",
   "metadata": {},
   "outputs": [],
   "source": [
    "# Import Wallaroo Python SDK\n",
    "import wallaroo\n",
    "from wallaroo.object import EntityNotFoundError\n",
    "from wallaroo.framework import Framework\n",
    "\n",
    "# used to display DataFrame information without truncating\n",
    "from IPython.display import display\n",
    "import pandas as pd\n",
    "pd.set_option('display.max_colwidth', None)\n",
    "\n",
    "import pyarrow as pa\n"
   ]
  },
  {
   "cell_type": "markdown",
   "id": "e5dc575c",
   "metadata": {},
   "source": [
    "### Connect to the Wallaroo Instance through the User Interface\n",
    "\n",
    "The next step is to connect to Wallaroo through the Wallaroo client.  The Python library is included in the Wallaroo install and available through the Jupyter Hub interface provided with your Wallaroo environment.\n",
    "\n",
    "This is accomplished using the `wallaroo.Client()` command, which provides a URL to grant the SDK permission to your specific Wallaroo environment.  When displayed, enter the URL into a browser and confirm permissions.  Store the connection into a variable that can be referenced later.\n",
    "\n",
    "If logging into the Wallaroo instance through the internal JupyterHub service, use `wl = wallaroo.Client()`.  For more information on Wallaroo Client settings, see the [Client Connection guide](https://docs.wallaroo.ai/wallaroo-developer-guides/wallaroo-sdk-guides/wallaroo-sdk-essentials-guide/wallaroo-sdk-essentials-client/).\n",
    "\n",
    "#### Connect to the Wallaroo Instance Exercise\n",
    "\n",
    "Connect to the Wallaroo instance.  If connecting through the JupyterHub service, then only the `wallaroo.Client()` is required.  If connecting externally through the Wallaroo SDK, use the `wallaroo.client(api_endpoint, auth_endpoint)` method.\n",
    "\n",
    "Sample code:\n",
    "\n",
    "```python\n",
    "wl = wallaroo.Client()\n",
    "```"
   ]
  },
  {
   "cell_type": "code",
   "execution_count": 2,
   "id": "8e953882",
   "metadata": {},
   "outputs": [],
   "source": [
    "# connect to Wallaroo here\n",
    "\n",
    "wl = wallaroo.Client()"
   ]
  },
  {
   "cell_type": "markdown",
   "id": "792828a3",
   "metadata": {},
   "source": [
    "### Create a New Workspace\n",
    "\n",
    "We'll use the SDK below to create our workspace , assign as our **current workspace**, then display all of the workspaces we have at the moment.  We'll also set up variables for our models and pipelines down the road, so we have one spot to change names to whatever fits your organization's standards best.\n",
    "\n",
    "To allow this tutorial to be run by multiple users in the same Wallaroo instance, update suffix with your first and last name.  For example:\n",
    "\n",
    "```python\n",
    "suffix = 'lazel-geth'\n",
    "```\n",
    "\n",
    "#### Create a New Workspace Exercise\n",
    "\n",
    "Set the model name, file name, pipeline name, and workspace name.\n",
    "\n",
    "Sample code:\n",
    "\n",
    "```python\n",
    "suffix = ''\n",
    "\n",
    "model_name = 'retail-forecast'\n",
    "model_filename = './models/forecast/forecast_standard.py'\n",
    "pipeline_name = 'retail-forecast'\n",
    "workspace_name = f'retail-forecast-edge-demo{suffix}'\n",
    "```"
   ]
  },
  {
   "cell_type": "code",
   "execution_count": 3,
   "id": "b46821db-6e9d-4fed-91eb-9f082862aedf",
   "metadata": {},
   "outputs": [],
   "source": [
    "# set variables\n",
    "\n",
    "model_name = 'retail-forecast'\n",
    "model_filename = './models/forecast/forecast_standard.py'\n",
    "pipeline_name = 'retail-forecast'\n",
    "workspace_name = f'retail-forecast-edge-demo'\n"
   ]
  },
  {
   "cell_type": "markdown",
   "id": "cab6eef8",
   "metadata": {},
   "source": [
    "### Set the Current Workspace\n",
    "\n",
    "Set the current workspace where the models are uploaded to and pipelines created.\n",
    "\n",
    "* References\n",
    "  * [Wallaroo SDK Essentials Guide: Workspace Management](https://docs.wallaroo.ai/wallaroo-developer-guides/wallaroo-sdk-guides/wallaroo-sdk-essentials-guide/wallaroo-sdk-essentials-workspace/)\n",
    "\n",
    "#### Set the Current Workspace Exercise\n",
    "\n",
    "Setting the workspace is performed with the `wallaroo.client.set_current_workspace(workspace)` method.\n",
    "\n",
    "Sample code:\n",
    "\n",
    "```python\n",
    "workspace = get_workspace(workspace_name, client)\n",
    "wl.set_current_workspace(workspace)\n",
    "```"
   ]
  },
  {
   "cell_type": "code",
   "execution_count": 4,
   "id": "eec366f0",
   "metadata": {},
   "outputs": [
    {
     "data": {
      "text/plain": [
       "{'name': 'retail-forecast-edge-demojch', 'id': 9, 'archived': False, 'created_by': 'cd8fd063-62fb-48dc-9589-1de1b29d96a7', 'created_at': '2023-12-21T23:43:34.364199+00:00', 'models': [], 'pipelines': []}"
      ]
     },
     "execution_count": 4,
     "metadata": {},
     "output_type": "execute_result"
    }
   ],
   "source": [
    "workspace = wl.get_workspace(name=workspace_name, create_if_not_exist=True)\n",
    "wl.set_current_workspace(workspace)"
   ]
  },
  {
   "cell_type": "markdown",
   "id": "52ac1fe8",
   "metadata": {},
   "source": [
    "### Upload the Model\n",
    "\n",
    "When a model is uploaded to a Wallaroo cluster, it is optimized and packaged to make it ready to run as part of a pipeline. In many times, the Wallaroo Server can natively run a model without any Python overhead. In other cases, such as a Python script, a custom Python environment will be automatically generated. This is comparable to the process of \"containerizing\" a model by adding a small HTTP server and other wrapping around it.\n",
    "\n",
    "Our pretrained model is a Python script, which is specified in the `framework` parameter.  To properly receive and return inference results, we specify the input and output schemas in Apache Arrow format.\n",
    "\n",
    "* References\n",
    "  * [Wallaroo SDK Essentials Guide: Model Uploads and Registrations: Python Models](https://docs.wallaroo.ai/wallaroo-developer-guides/wallaroo-sdk-guides/wallaroo-sdk-essentials-guide/wallaroo-sdk-model-uploads/wallaroo-sdk-model-upload-python/)\n",
    "\n",
    "#### Upload the Model Exercise\n",
    "\n",
    "The model name and file name were set in the variables above.  Use them to upload the model.\n",
    "\n",
    "Sample code:\n",
    "\n",
    "```python\n",
    "# set the input and output schemas\n",
    "\n",
    "input_schema = pa.schema([\n",
    "    pa.field('count', pa.list_(pa.int64()))\n",
    "])\n",
    "\n",
    "output_schema = pa.schema([\n",
    "    pa.field('forecast', pa.list_(pa.int64())),\n",
    "    pa.field('weekly_average', pa.list_(pa.float64()))\n",
    "])\n",
    "\n",
    "# upload the models\n",
    "\n",
    "model_version = wl.upload_model('forecast-control-model', \n",
    "                './models/forecast/forecast_standard.py', \n",
    "                framework=Framework.PYTHON).configure(\n",
    "                \"python\", \n",
    "                input_schema=input_schema, \n",
    "                output_schema=output_schema\n",
    "                )\n",
    "```"
   ]
  },
  {
   "cell_type": "code",
   "execution_count": 6,
   "id": "e979eaa1-4391-4fce-b359-a6540d479524",
   "metadata": {},
   "outputs": [],
   "source": [
    "# Upload forecasting model\n",
    "\n",
    "# set the input and output schemas\n",
    "\n",
    "input_schema = pa.schema([\n",
    "    pa.field('count', pa.list_(pa.int64()))\n",
    "])\n",
    "\n",
    "output_schema = pa.schema([\n",
    "    pa.field('forecast', pa.list_(pa.int64())),\n",
    "    pa.field('weekly_average', pa.list_(pa.float64()))\n",
    "])\n",
    "\n",
    "# upload the models\n",
    "\n",
    "model_version = wl.upload_model('forecast-control-model', \n",
    "                '../models/forecast/forecast_standard.py', \n",
    "                framework=Framework.PYTHON).configure(\n",
    "                \"python\", \n",
    "                input_schema=input_schema, \n",
    "                output_schema=output_schema\n",
    "                )"
   ]
  },
  {
   "cell_type": "markdown",
   "id": "2d643623",
   "metadata": {},
   "source": [
    "### Pipeline Deployment Configuration\n",
    "\n",
    "For our pipeline we set the deployment configuration to set the resources the pipeline will be allocated from the Kubernetes cluster hosting the Wallaroo Ops instance. The Hugging Face model is deployed as a Containerized Runtime in Wallaroo, so the configuration specified the `sidekick` cpu and memory options.\n",
    "\n",
    "* References\n",
    "  * [Wallaroo SDK Essentials Guide: Pipeline Deployment Configuration](https://docs.wallaroo.ai/wallaroo-developer-guides/wallaroo-sdk-guides/wallaroo-sdk-essentials-guide/wallaroo-sdk-essentials-pipelines/wallaroo-sdk-essentials-pipeline-deployment-config/)\n",
    "\n",
    "#### Pipeline Deployment Configuration Exercise\n",
    "\n",
    "Use the deployment configuration below."
   ]
  },
  {
   "cell_type": "code",
   "execution_count": 7,
   "id": "89746b0d-80d9-418d-a127-a7a57aa3ca0a",
   "metadata": {},
   "outputs": [],
   "source": [
    "deploy_config = wallaroo.DeploymentConfigBuilder().replica_count(1).cpus(0.5).memory(\"1Gi\").build()"
   ]
  },
  {
   "cell_type": "markdown",
   "id": "1ac222ea",
   "metadata": {},
   "source": [
    "### Build and Deploy the Pipeline\n",
    "\n",
    "Now we build our pipeline and set our Yolo8 model as a pipeline step, then deploy the pipeline using the deployment configuration above.\n",
    "\n",
    "* References\n",
    "  * [Wallaroo SDK Essentials Guide: Pipeline Management](https://docs.wallaroo.ai/wallaroo-developer-guides/wallaroo-sdk-guides/wallaroo-sdk-essentials-guide/wallaroo-sdk-essentials-pipelines/wallaroo-sdk-essentials-pipeline/)\n",
    "\n",
    "#### Build and Deploy the Pipeline\n",
    "\n",
    "We'll do both commands in one step:\n",
    "\n",
    "* Build the pipeline with `wallaroo.client.build_pipeline`.\n",
    "* Set the model as a pipeline step with `wallaroo.pipeline.add_model_step(model)` method.\n",
    "\n",
    "Sample code:\n",
    "\n",
    "```python\n",
    "pipeline = wl.build_pipeline(pipeline_name) \\\n",
    "            .add_model_step(model_version)        \n",
    "```"
   ]
  },
  {
   "cell_type": "code",
   "execution_count": 8,
   "id": "161e46c8-5162-4ddb-9b93-c0ddaab908e4",
   "metadata": {},
   "outputs": [],
   "source": [
    "# build pipeline and set pipeline step\n",
    "\n",
    "pipeline = wl.build_pipeline(pipeline_name) \\\n",
    "            .add_model_step(model_version)        "
   ]
  },
  {
   "cell_type": "markdown",
   "id": "da24bb6d",
   "metadata": {},
   "source": [
    "### Deploy the Pipeline\n",
    "\n",
    "We deploy the pipeline with the `wallaroo.pipeline.deploy(deployment_config)` command, using the deployment configuration set up in previous steps.\n",
    "\n",
    "* References\n",
    "  * [Wallaroo SDK Essentials Guide: Pipeline Management](https://docs.wallaroo.ai/wallaroo-developer-guides/wallaroo-sdk-guides/wallaroo-sdk-essentials-guide/wallaroo-sdk-essentials-pipelines/wallaroo-sdk-essentials-pipeline/)\n",
    "\n",
    "#### Deploy the Pipeline Exercise\n",
    "\n",
    "Deploy the pipeline.\n",
    "\n",
    "Sample code:\n",
    "\n",
    "```python\n",
    "pipeline.deploy(deployment_config=deployment_config)\n",
    "```"
   ]
  },
  {
   "cell_type": "code",
   "execution_count": 20,
   "id": "3ed45709-945e-4e27-ad31-65a355d14fb0",
   "metadata": {},
   "outputs": [
    {
     "name": "stdout",
     "output_type": "stream",
     "text": [
      "Waiting for deployment - this will take up to 45s ............ ok\n"
     ]
    },
    {
     "data": {
      "text/html": [
       "<table><tr><th>name</th> <td>retail-forecast</td></tr><tr><th>created</th> <td>2023-12-21 23:43:41.769815+00:00</td></tr><tr><th>last_updated</th> <td>2023-12-21 23:45:03.750688+00:00</td></tr><tr><th>deployed</th> <td>True</td></tr><tr><th>arch</th> <td>None</td></tr><tr><th>tags</th> <td></td></tr><tr><th>versions</th> <td>1690529f-0a93-4375-b168-51ff4f29eaf3, 3384f6ae-3f54-4690-8495-8dce75aa4938, 88a28533-763b-4b9f-a9fb-785e9b0922ac, a795f848-b5c4-48bf-a3d9-b57e3645e675</td></tr><tr><th>steps</th> <td>forecast-control-model</td></tr><tr><th>published</th> <td>True</td></tr></table>"
      ],
      "text/plain": [
       "{'name': 'retail-forecast', 'create_time': datetime.datetime(2023, 12, 21, 23, 43, 41, 769815, tzinfo=tzutc()), 'definition': \"[{'ModelInference': {'models': [{'name': 'forecast-control-model', 'version': 'e3872af8-0c90-4886-a232-c6e37d546a4f', 'sha': '3cd2acdd1f513f46615be7aa5beac16f09903be851e91f20f6dcdead4a48faa0'}]}}]\"}"
      ]
     },
     "execution_count": 20,
     "metadata": {},
     "output_type": "execute_result"
    }
   ],
   "source": [
    "pipeline.deploy(deployment_config=deploy_config)"
   ]
  },
  {
   "cell_type": "markdown",
   "id": "ba758535",
   "metadata": {},
   "source": [
    "### Inference Request\n",
    "\n",
    "We submit the DataFrame to the pipeline using `wallaroo.pipeline.infer_from_file` and display the results.  We'll use both the Wallaroo SDK and the MLOps API.\n",
    "\n",
    "#### Inference Request Exercise\n",
    "\n",
    "Perform an inference request.  We'll generate our sample dataframe, then use it for the inference.\n",
    "\n",
    "Sample Code:\n",
    "\n",
    "```python\n",
    "single_result = pipeline.infer_from_file('./data/forecast/testdata-standard.df.json')\n",
    "display(single_result)\n",
    "```\n",
    "\n",
    "We'll then do the same through the Pipeline Inference URL through an API call.\n",
    "\n",
    "Sample Code:\n",
    "\n",
    "```python\n",
    "!curl {deploy_url} \\\n",
    "    -H \"Content-Type: application/json; format=pandas-records\" \\\n",
    "    -H \"Authorization: {wl.auth.auth_header()['Authorization']}\" \\\n",
    "    -H \"Accept:{headers['Accept']}\" \\\n",
    "     --data @./data/forecast/testdata-standard.df.json\n",
    "```"
   ]
  },
  {
   "cell_type": "code",
   "execution_count": 10,
   "id": "eeeda81a-5962-459f-ae38-02d19bea6ccc",
   "metadata": {},
   "outputs": [
    {
     "data": {
      "text/html": [
       "<div>\n",
       "<style scoped>\n",
       "    .dataframe tbody tr th:only-of-type {\n",
       "        vertical-align: middle;\n",
       "    }\n",
       "\n",
       "    .dataframe tbody tr th {\n",
       "        vertical-align: top;\n",
       "    }\n",
       "\n",
       "    .dataframe thead th {\n",
       "        text-align: right;\n",
       "    }\n",
       "</style>\n",
       "<table border=\"1\" class=\"dataframe\">\n",
       "  <thead>\n",
       "    <tr style=\"text-align: right;\">\n",
       "      <th></th>\n",
       "      <th>time</th>\n",
       "      <th>in.count</th>\n",
       "      <th>out.forecast</th>\n",
       "      <th>out.weekly_average</th>\n",
       "      <th>check_failures</th>\n",
       "    </tr>\n",
       "  </thead>\n",
       "  <tbody>\n",
       "    <tr>\n",
       "      <th>0</th>\n",
       "      <td>2023-12-21 23:43:56.822</td>\n",
       "      <td>[1526, 1550, 1708, 1005, 1623, 1712, 1530, 1605, 1538, 1746, 1472, 1589, 1913, 1815, 2115, 2475, 2927, 1635, 1812, 1107, 1450, 1917, 1807, 1461, 1969, 2402, 1446, 1851]</td>\n",
       "      <td>[1764, 1749, 1743, 1741, 1740, 1740, 1740]</td>\n",
       "      <td>[1745.2857142857142]</td>\n",
       "      <td>0</td>\n",
       "    </tr>\n",
       "  </tbody>\n",
       "</table>\n",
       "</div>"
      ],
      "text/plain": [
       "                     time  \\\n",
       "0 2023-12-21 23:43:56.822   \n",
       "\n",
       "                                                                                                                                                                   in.count  \\\n",
       "0  [1526, 1550, 1708, 1005, 1623, 1712, 1530, 1605, 1538, 1746, 1472, 1589, 1913, 1815, 2115, 2475, 2927, 1635, 1812, 1107, 1450, 1917, 1807, 1461, 1969, 2402, 1446, 1851]   \n",
       "\n",
       "                                 out.forecast    out.weekly_average  \\\n",
       "0  [1764, 1749, 1743, 1741, 1740, 1740, 1740]  [1745.2857142857142]   \n",
       "\n",
       "   check_failures  \n",
       "0               0  "
      ]
     },
     "metadata": {},
     "output_type": "display_data"
    }
   ],
   "source": [
    "single_result = pipeline.infer_from_file('../data/forecast/testdata-standard.df.json')\n",
    "display(single_result)"
   ]
  },
  {
   "cell_type": "code",
   "execution_count": 27,
   "id": "e38aff1b",
   "metadata": {},
   "outputs": [
    {
     "name": "stdout",
     "output_type": "stream",
     "text": [
      "[{\"time\":1703202421406,\"in\":{\"count\":[1526,1550,1708,1005,1623,1712,1530,1605,1538,1746,1472,1589,1913,1815,2115,2475,2927,1635,1812,1107,1450,1917,1807,1461,1969,2402,1446,1851]},\"out\":{\"forecast\":[1764,1749,1743,1741,1740,1740,1740],\"weekly_average\":[1745.2857142857142]},\"check_failures\":[],\"metadata\":{\"last_model\":\"{\\\"model_name\\\":\\\"forecast-control-model\\\",\\\"model_sha\\\":\\\"3cd2acdd1f513f46615be7aa5beac16f09903be851e91f20f6dcdead4a48faa0\\\"}\",\"pipeline_version\":\"1690529f-0a93-4375-b168-51ff4f29eaf3\",\"elapsed\":[145302,59714545],\"dropped\":[],\"partition\":\"engine-fc8856cb9-jd2tx\"}}]"
     ]
    }
   ],
   "source": [
    "# API inference here\n",
    "\n",
    "!curl {pipeline._deployment._url()} \\\n",
    "    -H \"Content-Type: application/json; format=pandas-records\" \\\n",
    "    -H \"Authorization: {wl.auth.auth_header()['Authorization']}\" \\\n",
    "     --data @../data/forecast/testdata-standard.df.json"
   ]
  },
  {
   "cell_type": "markdown",
   "id": "8d6846db",
   "metadata": {},
   "source": [
    "### Undeploy the Pipeline\n",
    "\n",
    "With the testing complete, we undeploy the pipeline and return the resources back to the cluster."
   ]
  },
  {
   "cell_type": "code",
   "execution_count": 28,
   "id": "e3996224-a76e-4be6-98cd-1ace05e5d2a0",
   "metadata": {},
   "outputs": [
    {
     "name": "stdout",
     "output_type": "stream",
     "text": [
      "Waiting for undeployment - this will take up to 45s .................................... ok\n"
     ]
    },
    {
     "data": {
      "text/html": [
       "<table><tr><th>name</th> <td>retail-forecast</td></tr><tr><th>created</th> <td>2023-12-21 23:43:41.769815+00:00</td></tr><tr><th>last_updated</th> <td>2023-12-21 23:45:03.750688+00:00</td></tr><tr><th>deployed</th> <td>False</td></tr><tr><th>arch</th> <td>None</td></tr><tr><th>tags</th> <td></td></tr><tr><th>versions</th> <td>1690529f-0a93-4375-b168-51ff4f29eaf3, 3384f6ae-3f54-4690-8495-8dce75aa4938, 88a28533-763b-4b9f-a9fb-785e9b0922ac, a795f848-b5c4-48bf-a3d9-b57e3645e675</td></tr><tr><th>steps</th> <td>forecast-control-model</td></tr><tr><th>published</th> <td>True</td></tr></table>"
      ],
      "text/plain": [
       "{'name': 'retail-forecast', 'create_time': datetime.datetime(2023, 12, 21, 23, 43, 41, 769815, tzinfo=tzutc()), 'definition': \"[{'ModelInference': {'models': [{'name': 'forecast-control-model', 'version': 'e3872af8-0c90-4886-a232-c6e37d546a4f', 'sha': '3cd2acdd1f513f46615be7aa5beac16f09903be851e91f20f6dcdead4a48faa0'}]}}]\"}"
      ]
     },
     "execution_count": 28,
     "metadata": {},
     "output_type": "execute_result"
    }
   ],
   "source": [
    "# undeploy the pipeline\n",
    "\n",
    "pipeline.undeploy()"
   ]
  },
  {
   "cell_type": "markdown",
   "id": "a95ca975",
   "metadata": {},
   "source": [
    "### Publish the Pipeline for Edge Deployment\n",
    "\n",
    "It worked! For a demo, we'll take working once as \"tested\". So now that we've tested our pipeline, we are ready to publish it for edge deployment.\n",
    "\n",
    "Publishing it means assembling all of the configuration files and model assets and pushing them to an Open Container Initiative (OCI) repository set in the Wallaroo instance as the Edge Registry service.  DevOps engineers then retrieve that image and deploy it through Docker, Kubernetes, or similar deployments.\n",
    "\n",
    "See [Edge Deployment Registry Guide](https://docs.wallaroo.ai/wallaroo-operations-guide/wallaroo-configuration/wallaroo-edge-deployment/) for details on adding an OCI Registry Service to Wallaroo as the Edge Deployment Registry.\n",
    "\n",
    "This is done through the SDK command `wallaroo.pipeline.publish(deployment_config)` which has the following parameters and returns.\n",
    "\n",
    "#### Publish a Pipeline Parameters\n",
    "\n",
    "The `publish` method takes the following parameters.  The containerized pipeline will be pushed to the Edge registry service with the model, pipeline configurations, and other artifacts needed to deploy the pipeline.\n",
    "\n",
    "| Parameter | Type | Description |\n",
    "|---|---|---|\n",
    "| `deployment_config` | `wallaroo.deployment_config.DeploymentConfig` (*Optional*) | Sets the pipeline deployment configuration.  For example:    For more information on pipeline deployment configuration, see the [Wallaroo SDK Essentials Guide: Pipeline Deployment Configuration](https://docs.wallaroo.ai/wallaroo-developer-guides/wallaroo-sdk-guides/wallaroo-sdk-essentials-guide/wallaroo-sdk-essentials-pipelines/wallaroo-sdk-essentials-pipeline-deployment-config/).\n",
    "\n",
    "#### Publish a Pipeline Returns\n",
    "\n",
    "| Field | Type | Description |\n",
    "|---|---|---|\n",
    "| id | integer | Numerical Wallaroo id of the published pipeline. |\n",
    "| pipeline version id | integer | Numerical Wallaroo id of the pipeline version published. |\n",
    "| status | string | The status of the pipeline publication.  Values include:  <ul><li>PendingPublish: The pipeline publication is about to be uploaded or is in the process of being uploaded.</li><li>Published:  The pipeline is published and ready for use.</li></ul> |\n",
    "| Engine URL | string | The URL of the published pipeline engine in the edge registry. |\n",
    "| Pipeline URL | string | The URL of the published pipeline in the edge registry. |\n",
    "| Helm Chart URL | string | The URL of the helm chart for the published pipeline in the edge registry. |\n",
    "| Helm Chart Reference | string | The help chart reference. |\n",
    "| Helm Chart Version | string | The version of the Helm Chart of the published pipeline.  This is also used as the Docker tag. |\n",
    "| Engine Config | `wallaroo.deployment_config.DeploymentConfig` | The pipeline configuration included with the published pipeline. |\n",
    "| Created At | DateTime | When the published pipeline was created. |\n",
    "| Updated At | DateTime | When the published pipeline was updated. |\n",
    "\n",
    "#### Publish Exercise\n",
    "\n",
    "We will now publish the pipeline to our Edge Deployment Registry with the `pipeline.publish(deployment_config)` command.  `deployment_config` is an optional field that specifies the pipeline deployment.  This can be overridden by the DevOps engineer during deployment.\n",
    "\n",
    "Save the publish to a variable for later use.\n",
    "\n",
    "Sample code:\n",
    "\n",
    "```python\n",
    "pub = pipeline.publish(deployment_config)\n",
    "pub\n",
    "```"
   ]
  },
  {
   "cell_type": "code",
   "execution_count": 29,
   "id": "e5da8795",
   "metadata": {},
   "outputs": [
    {
     "name": "stdout",
     "output_type": "stream",
     "text": [
      "Waiting for pipeline publish... It may take up to 600 sec.\n",
      "Pipeline is Publishing.........Published.\n"
     ]
    },
    {
     "data": {
      "text/html": [
       "\n",
       "          <table>\n",
       "              <tr><td>ID</td><td>6</td></tr>\n",
       "              <tr><td>Pipeline Version</td><td>3807c341-3ead-40a5-9ce8-41c71298259a</td></tr>\n",
       "              <tr><td>Status</td><td>Published</td></tr>\n",
       "              <tr><td>Engine URL</td><td><a href='https://ghcr.io/wallaroolabs/doc-samples/engines/proxy/wallaroo/ghcr.io/wallaroolabs/standalone-mini:v2024.1.0-main-4317'>ghcr.io/wallaroolabs/doc-samples/engines/proxy/wallaroo/ghcr.io/wallaroolabs/standalone-mini:v2024.1.0-main-4317</a></td></tr>\n",
       "              <tr><td>Pipeline URL</td><td><a href='https://ghcr.io/wallaroolabs/doc-samples/pipelines/retail-forecast:3807c341-3ead-40a5-9ce8-41c71298259a'>ghcr.io/wallaroolabs/doc-samples/pipelines/retail-forecast:3807c341-3ead-40a5-9ce8-41c71298259a</a></td></tr>\n",
       "              <tr><td>Helm Chart URL</td><td>oci://<a href='https://ghcr.io/wallaroolabs/doc-samples/charts/retail-forecast'>ghcr.io/wallaroolabs/doc-samples/charts/retail-forecast</a></td></tr>\n",
       "              <tr><td>Helm Chart Reference</td><td>ghcr.io/wallaroolabs/doc-samples/charts@sha256:56ac29d9caba9064610bf094958071f3e805eb7703d2c90bab8212cb41561a3a</td></tr>\n",
       "              <tr><td>Helm Chart Version</td><td>0.0.1-3807c341-3ead-40a5-9ce8-41c71298259a</td></tr>\n",
       "              <tr><td>Engine Config</td><td>{'engine': {'resources': {'limits': {'cpu': 1.0, 'memory': '512Mi'}, 'requests': {'cpu': 1.0, 'memory': '512Mi'}, 'arch': 'x86', 'gpu': False}}, 'engineAux': {'images': {}}, 'enginelb': {'resources': {'limits': {'cpu': 1.0, 'memory': '512Mi'}, 'requests': {'cpu': 1.0, 'memory': '512Mi'}, 'arch': 'x86', 'gpu': False}}}</td></tr>\n",
       "              <tr><td>User Images</td><td>[]</td></tr>\n",
       "              <tr><td>Created By</td><td>john.hummel@wallaroo.ai</td></tr>\n",
       "              <tr><td>Created At</td><td>2023-12-21 23:47:44.583123+00:00</td></tr>\n",
       "              <tr><td>Updated At</td><td>2023-12-21 23:47:44.583123+00:00</td></tr>\n",
       "              <tr>\n",
       "                  <td>Docker Run Command</td>\n",
       "                  <td>\n",
       "                      <table><tr><td>\n",
       "<pre style=\"text-align: left\">docker run \\\n",
       "    -e OCI_USERNAME=$OCI_USERNAME \\\n",
       "    -e OCI_PASSWORD=$OCI_PASSWORD \\\n",
       "    -e CONFIG_CPUS=1 ghcr.io/wallaroolabs/doc-samples/engines/proxy/wallaroo/ghcr.io/wallaroolabs/standalone-mini:v2024.1.0-main-4317</pre></td></tr></table>\n",
       "                      <br />\n",
       "                      <i>\n",
       "                          Note: Please set the <code>OCI_USERNAME</code>, and <code>OCI_PASSWORD</code> environment variables.\n",
       "                      </i>\n",
       "                  </td>\n",
       "              </tr>\n",
       "              <tr>\n",
       "                  <td>Helm Install Command</td>\n",
       "                  <td>\n",
       "                      <table><tr><td>\n",
       "<pre style=\"text-align: left\">helm install --atomic $HELM_INSTALL_NAME \\\n",
       "    oci://ghcr.io/wallaroolabs/doc-samples/charts/retail-forecast \\\n",
       "    --namespace $HELM_INSTALL_NAMESPACE \\\n",
       "    --version 0.0.1-3807c341-3ead-40a5-9ce8-41c71298259a \\\n",
       "    --set ociRegistry.username=$OCI_USERNAME \\\n",
       "    --set ociRegistry.password=$OCI_PASSWORD</pre></td></tr></table>\n",
       "                      <br />\n",
       "                      <i>\n",
       "                          Note: Please set the <code>HELM_INSTALL_NAME</code>, <code>HELM_INSTALL_NAMESPACE</code>,\n",
       "                          <code>OCI_USERNAME</code>, and <code>OCI_PASSWORD</code> environment variables.\n",
       "                      </i>\n",
       "                  </td>\n",
       "              </tr>\n",
       "              \n",
       "          </table>\n",
       "        "
      ],
      "text/plain": [
       "PipelinePublish(created_at=datetime.datetime(2023, 12, 21, 23, 47, 44, 583123, tzinfo=tzutc()), docker_run_variables={}, engine_config={'engine': {'resources': {'limits': {'cpu': 1.0, 'memory': '512Mi'}, 'requests': {'cpu': 1.0, 'memory': '512Mi'}, 'arch': 'x86', 'gpu': False}}, 'engineAux': {'images': {}}, 'enginelb': {'resources': {'limits': {'cpu': 1.0, 'memory': '512Mi'}, 'requests': {'cpu': 1.0, 'memory': '512Mi'}, 'arch': 'x86', 'gpu': False}}}, id=6, pipeline_version_id=20, status='Published', updated_at=datetime.datetime(2023, 12, 21, 23, 47, 44, 583123, tzinfo=tzutc()), user_images=[], created_by='cd8fd063-62fb-48dc-9589-1de1b29d96a7', edge_bundles=<wallaroo.wallaroo_ml_ops_api_client.types.Unset object at 0x7f61eb46f3a0>, engine_url='ghcr.io/wallaroolabs/doc-samples/engines/proxy/wallaroo/ghcr.io/wallaroolabs/standalone-mini:v2024.1.0-main-4317', error=None, helm={'reference': 'ghcr.io/wallaroolabs/doc-samples/charts@sha256:56ac29d9caba9064610bf094958071f3e805eb7703d2c90bab8212cb41561a3a', 'values': {}, 'chart': 'ghcr.io/wallaroolabs/doc-samples/charts/retail-forecast', 'version': '0.0.1-3807c341-3ead-40a5-9ce8-41c71298259a'}, pipeline_url='ghcr.io/wallaroolabs/doc-samples/pipelines/retail-forecast:3807c341-3ead-40a5-9ce8-41c71298259a', pipeline_version_name='3807c341-3ead-40a5-9ce8-41c71298259a', additional_properties={})"
      ]
     },
     "execution_count": 29,
     "metadata": {},
     "output_type": "execute_result"
    }
   ],
   "source": [
    "# create publish here\n",
    "\n",
    "pub = pipeline.publish(deploy_config)\n",
    "pub"
   ]
  },
  {
   "cell_type": "markdown",
   "id": "abed2630",
   "metadata": {},
   "source": [
    "### List Published Pipeline\n",
    "\n",
    "The method `wallaroo.client.list_pipelines()` shows a list of all pipelines in the Wallaroo instance, and includes the `published` field that indicates whether the pipeline was published to the registry (`True`), or has not yet been published (`False`).\n",
    "\n",
    "#### List Published Pipeline Exercise\n",
    "\n",
    "List the pipelines and verify which ones are published or not.\n",
    "\n",
    "Sample code:\n",
    "\n",
    "```python\n",
    "wl.list_pipelines()\n",
    "```"
   ]
  },
  {
   "cell_type": "code",
   "execution_count": 30,
   "id": "7a3319e2",
   "metadata": {},
   "outputs": [
    {
     "data": {
      "text/html": [
       "<table><tr><th>name</th><th>created</th><th>last_updated</th><th>deployed</th><th>arch</th><th>tags</th><th>versions</th><th>steps</th><th>published</th></tr><tr><td>llm-edge-summarization</td><td>2023-21-Dec 23:45:14</td><td>2023-21-Dec 23:46:42</td><td>False</td><td>None</td><td></td><td>46417358-169c-4d47-a420-2061a68e91ee, 0aedb1e9-56c9-447d-b8b5-ba5e291b443a, 61462622-b2db-44aa-883e-e54371b3cf23</td><td>llm-summarization</td><td>True</td></tr><tr><td>retail-forecast</td><td>2023-21-Dec 23:43:41</td><td>2023-21-Dec 23:47:43</td><td>False</td><td>None</td><td></td><td>3807c341-3ead-40a5-9ce8-41c71298259a, 1690529f-0a93-4375-b168-51ff4f29eaf3, 3384f6ae-3f54-4690-8495-8dce75aa4938, 88a28533-763b-4b9f-a9fb-785e9b0922ac, a795f848-b5c4-48bf-a3d9-b57e3645e675</td><td>forecast-control-model</td><td>True</td></tr><tr><td>yolo8demonstration</td><td>2023-21-Dec 17:51:41</td><td>2023-21-Dec 23:27:57</td><td>False</td><td>None</td><td></td><td>7ced7818-1af6-43d3-97ad-6759ae05851a, ffd59e32-7eca-4d3c-8271-e359e8131af9, 05fcc215-51bf-4377-be2e-9067fb7125f8, d61551be-94c6-421d-b682-075d9d38cf55, 0e08af33-99ec-4b8d-9cd4-e2e966c7d9b4, 6f5c722a-f5e3-4da7-aad1-33a5b5f2ffdb, b404b106-6387-43f4-b0ef-ebeb1acdcec0, ed9c763f-bbd0-4d93-b359-cafd0f03639f</td><td>yolov8n</td><td>True</td></tr><tr><td>edge-hf-summarization</td><td>2023-21-Dec 17:51:27</td><td>2023-21-Dec 20:23:34</td><td>False</td><td>None</td><td></td><td>02131366-6ca7-418a-bb1d-e8fed0240c1f, a440e392-73eb-4f5f-a049-1b081cad68b0, d86600fa-a49b-4a4c-9278-ccbed1ce0f06, ce2c843f-f0f8-4633-bb18-021d404acbae</td><td>hf-summarization</td><td>True</td></tr></table>"
      ],
      "text/plain": [
       "[{'name': 'llm-edge-summarization', 'create_time': datetime.datetime(2023, 12, 21, 23, 45, 14, 740638, tzinfo=tzutc()), 'definition': '[]'},\n",
       " {'name': 'retail-forecast', 'create_time': datetime.datetime(2023, 12, 21, 23, 43, 41, 769815, tzinfo=tzutc()), 'definition': '[]'},\n",
       " {'name': 'yolo8demonstration', 'create_time': datetime.datetime(2023, 12, 21, 17, 51, 41, 4898, tzinfo=tzutc()), 'definition': '[]'},\n",
       " {'name': 'edge-hf-summarization', 'create_time': datetime.datetime(2023, 12, 21, 17, 51, 27, 284532, tzinfo=tzutc()), 'definition': '[]'}]"
      ]
     },
     "execution_count": 30,
     "metadata": {},
     "output_type": "execute_result"
    }
   ],
   "source": [
    "# list pipelines\n",
    "\n",
    "wl.list_pipelines()"
   ]
  },
  {
   "cell_type": "markdown",
   "id": "177d9835",
   "metadata": {},
   "source": [
    "### List Publishes from a Pipeline\n",
    "\n",
    "All publishes created from a pipeline are displayed with the `wallaroo.pipeline.publishes` method.  The `pipeline_version_id` is used to know what version of the pipeline was used in that specific publish.  This allows for pipelines to be updated over time, and newer versions to be sent and tracked to the Edge Deployment Registry service.\n",
    "\n",
    "#### List Publishes Parameters\n",
    "\n",
    "N/A\n",
    "\n",
    "#### List Publishes Returns\n",
    "\n",
    "A List of the following fields:\n",
    "\n",
    "| Field | Type | Description |\n",
    "|---|---|---|\n",
    "| id | integer | Numerical Wallaroo id of the published pipeline. |\n",
    "| pipeline_version_id | integer | Numerical Wallaroo id of the pipeline version published. |\n",
    "| engine_url | string | The URL of the published pipeline engine in the edge registry. |\n",
    "| pipeline_url | string | The URL of the published pipeline in the edge registry. |\n",
    "| created_by | string | The email address of the user that published the pipeline.\n",
    "| Created At | DateTime | When the published pipeline was created. |\n",
    "| Updated At | DateTime | When the published pipeline was updated. |\n",
    "\n",
    "#### List Publishes from a Pipeline Exercise\n",
    "\n",
    "List the publishes from a pipeline.\n",
    "\n",
    "Sample code:\n",
    "\n",
    "```python\n",
    "pipeline.publishes()\n",
    "```"
   ]
  },
  {
   "cell_type": "code",
   "execution_count": 31,
   "id": "2a5c0f53",
   "metadata": {},
   "outputs": [
    {
     "data": {
      "text/html": [
       "<table><tr><th>id</th><th>pipeline_version_name</th><th>engine_url</th><th>pipeline_url</th><th>created_by</th><th>created_at</th><th>updated_at</th></tr><tr><td>4</td><td>3384f6ae-3f54-4690-8495-8dce75aa4938</td><td><a href='https://ghcr.io/wallaroolabs/doc-samples/engines/proxy/wallaroo/ghcr.io/wallaroolabs/standalone-mini:v2024.1.0-main-4317'>ghcr.io/wallaroolabs/doc-samples/engines/proxy/wallaroo/ghcr.io/wallaroolabs/standalone-mini:v2024.1.0-main-4317</a></td><td><a href='https://ghcr.io/wallaroolabs/doc-samples/pipelines/retail-forecast:3384f6ae-3f54-4690-8495-8dce75aa4938'>ghcr.io/wallaroolabs/doc-samples/pipelines/retail-forecast:3384f6ae-3f54-4690-8495-8dce75aa4938</a></td><td>john.hummel@wallaroo.ai</td><td>2023-21-Dec 23:44:36</td><td>2023-21-Dec 23:44:36</td></tr><tr><td>6</td><td>3807c341-3ead-40a5-9ce8-41c71298259a</td><td><a href='https://ghcr.io/wallaroolabs/doc-samples/engines/proxy/wallaroo/ghcr.io/wallaroolabs/standalone-mini:v2024.1.0-main-4317'>ghcr.io/wallaroolabs/doc-samples/engines/proxy/wallaroo/ghcr.io/wallaroolabs/standalone-mini:v2024.1.0-main-4317</a></td><td><a href='https://ghcr.io/wallaroolabs/doc-samples/pipelines/retail-forecast:3807c341-3ead-40a5-9ce8-41c71298259a'>ghcr.io/wallaroolabs/doc-samples/pipelines/retail-forecast:3807c341-3ead-40a5-9ce8-41c71298259a</a></td><td>john.hummel@wallaroo.ai</td><td>2023-21-Dec 23:47:44</td><td>2023-21-Dec 23:47:44</td></tr></table>"
      ],
      "text/plain": [
       "[PipelinePublish(created_at=datetime.datetime(2023, 12, 21, 23, 44, 36, 479652, tzinfo=tzutc()), docker_run_variables={}, engine_config={'engine': {'resources': {'limits': {'cpu': 1.0, 'memory': '512Mi'}, 'requests': {'cpu': 1.0, 'memory': '512Mi'}, 'arch': 'x86', 'gpu': False}}, 'enginelb': {'resources': {'limits': {'cpu': 1.0, 'memory': '512Mi'}, 'requests': {'cpu': 1.0, 'memory': '512Mi'}, 'arch': 'x86', 'gpu': False}}, 'engineAux': {'images': {}}}, id=4, pipeline_version_id=15, status='Published', updated_at=datetime.datetime(2023, 12, 21, 23, 44, 36, 479652, tzinfo=tzutc()), user_images=[], created_by='cd8fd063-62fb-48dc-9589-1de1b29d96a7', edge_bundles=<wallaroo.wallaroo_ml_ops_api_client.types.Unset object at 0x7f61eb46f3a0>, engine_url='ghcr.io/wallaroolabs/doc-samples/engines/proxy/wallaroo/ghcr.io/wallaroolabs/standalone-mini:v2024.1.0-main-4317', error=None, helm={'reference': 'ghcr.io/wallaroolabs/doc-samples/charts@sha256:63ee5d1e33b7e45592ba962874b21061c68a1ed9873f3a8fed44dc0a1180bbca', 'chart': 'ghcr.io/wallaroolabs/doc-samples/charts/retail-forecast', 'version': '0.0.1-3384f6ae-3f54-4690-8495-8dce75aa4938', 'values': {}}, pipeline_url='ghcr.io/wallaroolabs/doc-samples/pipelines/retail-forecast:3384f6ae-3f54-4690-8495-8dce75aa4938', pipeline_version_name='3384f6ae-3f54-4690-8495-8dce75aa4938', additional_properties={}),\n",
       " PipelinePublish(created_at=datetime.datetime(2023, 12, 21, 23, 47, 44, 583123, tzinfo=tzutc()), docker_run_variables={}, engine_config={'engine': {'resources': {'limits': {'cpu': 1.0, 'memory': '512Mi'}, 'requests': {'cpu': 1.0, 'memory': '512Mi'}, 'arch': 'x86', 'gpu': False}}, 'enginelb': {'resources': {'limits': {'cpu': 1.0, 'memory': '512Mi'}, 'requests': {'cpu': 1.0, 'memory': '512Mi'}, 'arch': 'x86', 'gpu': False}}, 'engineAux': {'images': {}}}, id=6, pipeline_version_id=20, status='Published', updated_at=datetime.datetime(2023, 12, 21, 23, 47, 44, 583123, tzinfo=tzutc()), user_images=[], created_by='cd8fd063-62fb-48dc-9589-1de1b29d96a7', edge_bundles=<wallaroo.wallaroo_ml_ops_api_client.types.Unset object at 0x7f61eb46f3a0>, engine_url='ghcr.io/wallaroolabs/doc-samples/engines/proxy/wallaroo/ghcr.io/wallaroolabs/standalone-mini:v2024.1.0-main-4317', error=None, helm={'reference': 'ghcr.io/wallaroolabs/doc-samples/charts@sha256:56ac29d9caba9064610bf094958071f3e805eb7703d2c90bab8212cb41561a3a', 'chart': 'ghcr.io/wallaroolabs/doc-samples/charts/retail-forecast', 'version': '0.0.1-3807c341-3ead-40a5-9ce8-41c71298259a', 'values': {}}, pipeline_url='ghcr.io/wallaroolabs/doc-samples/pipelines/retail-forecast:3807c341-3ead-40a5-9ce8-41c71298259a', pipeline_version_name='3807c341-3ead-40a5-9ce8-41c71298259a', additional_properties={})]"
      ]
     },
     "execution_count": 31,
     "metadata": {},
     "output_type": "execute_result"
    }
   ],
   "source": [
    "pipeline.publishes()"
   ]
  },
  {
   "cell_type": "markdown",
   "id": "c6ba8477",
   "metadata": {},
   "source": [
    "### Add Edge Location\n",
    "\n",
    "With the pipeline publish created, we can add an Edge Location.  This allows the edge deployment to upload its inference results back to the Wallaroo Ops location, which are then added to the pipeline the publish originated from.  These are added to the pipeline logs `partition` metadata.\n",
    "\n",
    "First we'll retrieve the pipeline logs for our current pipeline, and show the current pipeline logs metadata.\n",
    "\n",
    "#### Add Edge Location Exercise\n",
    "\n",
    "Display the log information with the `metadata.partition`, then add the edge location to the publish.  Note that edge names **must** be unique, so add your first and last name to the list.\n",
    "\n",
    "Sample code:\n",
    "\n",
    "```python\n",
    "logs = pipeline.logs(dataset=['time', 'out.output0', 'metadata'])\n",
    "display(logs.loc[:, ['time', 'metadata.partition']])\n",
    "\n",
    "first_last_name = '-Gale-Karlach'\n",
    "\n",
    "edge_name = f'edge-forecast-retail-demo{first_last_name}'\n",
    "\n",
    "edge_publish = pub.add_edge(edge_name)\n",
    "display(edge_publish)\n",
    "```\n"
   ]
  },
  {
   "cell_type": "code",
   "execution_count": 32,
   "id": "143b77ff",
   "metadata": {},
   "outputs": [
    {
     "data": {
      "text/html": [
       "<div>\n",
       "<style scoped>\n",
       "    .dataframe tbody tr th:only-of-type {\n",
       "        vertical-align: middle;\n",
       "    }\n",
       "\n",
       "    .dataframe tbody tr th {\n",
       "        vertical-align: top;\n",
       "    }\n",
       "\n",
       "    .dataframe thead th {\n",
       "        text-align: right;\n",
       "    }\n",
       "</style>\n",
       "<table border=\"1\" class=\"dataframe\">\n",
       "  <thead>\n",
       "    <tr style=\"text-align: right;\">\n",
       "      <th></th>\n",
       "      <th>time</th>\n",
       "      <th>out.weekly_average</th>\n",
       "      <th>metadata.partition</th>\n",
       "    </tr>\n",
       "  </thead>\n",
       "  <tbody>\n",
       "    <tr>\n",
       "      <th>0</th>\n",
       "      <td>2023-12-21 23:47:01.406</td>\n",
       "      <td>[1745.2857142857142]</td>\n",
       "      <td>engine-fc8856cb9-jd2tx</td>\n",
       "    </tr>\n",
       "    <tr>\n",
       "      <th>1</th>\n",
       "      <td>2023-12-21 23:43:56.822</td>\n",
       "      <td>[1745.2857142857142]</td>\n",
       "      <td>engine-5b4fbd45c8-6n4bf</td>\n",
       "    </tr>\n",
       "  </tbody>\n",
       "</table>\n",
       "</div>"
      ],
      "text/plain": [
       "                     time    out.weekly_average       metadata.partition\n",
       "0 2023-12-21 23:47:01.406  [1745.2857142857142]   engine-fc8856cb9-jd2tx\n",
       "1 2023-12-21 23:43:56.822  [1745.2857142857142]  engine-5b4fbd45c8-6n4bf"
      ]
     },
     "metadata": {},
     "output_type": "display_data"
    }
   ],
   "source": [
    "# get the log metadata\n",
    "\n",
    "logs = pipeline.logs(dataset=['time', 'out.weekly_average', 'metadata'])\n",
    "display(logs.loc[:, ['time', 'out.weekly_average', 'metadata.partition']])"
   ]
  },
  {
   "cell_type": "markdown",
   "id": "b31e6886",
   "metadata": {},
   "source": [
    "Now we'll add the edge location.\n",
    "\n",
    "For the edge name, set it to `firstname-lastname-edge-llm-summarization`."
   ]
  },
  {
   "cell_type": "code",
   "execution_count": 33,
   "id": "e64a5920",
   "metadata": {},
   "outputs": [
    {
     "data": {
      "text/html": [
       "\n",
       "          <table>\n",
       "              <tr><td>ID</td><td>4</td></tr>\n",
       "              <tr><td>Pipeline Version</td><td>3384f6ae-3f54-4690-8495-8dce75aa4938</td></tr>\n",
       "              <tr><td>Status</td><td>Published</td></tr>\n",
       "              <tr><td>Engine URL</td><td><a href='https://ghcr.io/wallaroolabs/doc-samples/engines/proxy/wallaroo/ghcr.io/wallaroolabs/standalone-mini:v2024.1.0-main-4317'>ghcr.io/wallaroolabs/doc-samples/engines/proxy/wallaroo/ghcr.io/wallaroolabs/standalone-mini:v2024.1.0-main-4317</a></td></tr>\n",
       "              <tr><td>Pipeline URL</td><td><a href='https://ghcr.io/wallaroolabs/doc-samples/pipelines/retail-forecast:3384f6ae-3f54-4690-8495-8dce75aa4938'>ghcr.io/wallaroolabs/doc-samples/pipelines/retail-forecast:3384f6ae-3f54-4690-8495-8dce75aa4938</a></td></tr>\n",
       "              <tr><td>Helm Chart URL</td><td>oci://<a href='https://ghcr.io/wallaroolabs/doc-samples/charts/retail-forecast'>ghcr.io/wallaroolabs/doc-samples/charts/retail-forecast</a></td></tr>\n",
       "              <tr><td>Helm Chart Reference</td><td>ghcr.io/wallaroolabs/doc-samples/charts@sha256:63ee5d1e33b7e45592ba962874b21061c68a1ed9873f3a8fed44dc0a1180bbca</td></tr>\n",
       "              <tr><td>Helm Chart Version</td><td>0.0.1-3384f6ae-3f54-4690-8495-8dce75aa4938</td></tr>\n",
       "              <tr><td>Engine Config</td><td>{'engine': {'resources': {'limits': {'cpu': 1.0, 'memory': '512Mi'}, 'requests': {'cpu': 1.0, 'memory': '512Mi'}, 'arch': 'x86', 'gpu': False}}, 'enginelb': {'resources': {'limits': {'cpu': 1.0, 'memory': '512Mi'}, 'requests': {'cpu': 1.0, 'memory': '512Mi'}, 'arch': 'x86', 'gpu': False}}, 'engineAux': {'images': {}}}</td></tr>\n",
       "              <tr><td>User Images</td><td>[]</td></tr>\n",
       "              <tr><td>Created By</td><td>john.hummel@wallaroo.ai</td></tr>\n",
       "              <tr><td>Created At</td><td>2023-12-21 23:44:36.479652+00:00</td></tr>\n",
       "              <tr><td>Updated At</td><td>2023-12-21 23:44:36.479652+00:00</td></tr>\n",
       "              <tr>\n",
       "                  <td>Docker Run Command</td>\n",
       "                  <td>\n",
       "                      <table><tr><td>\n",
       "<pre style=\"text-align: left\">docker run \\\n",
       "    -e OCI_USERNAME=$OCI_USERNAME \\\n",
       "    -e OCI_PASSWORD=$OCI_PASSWORD \\\n",
       "    -e CONFIG_CPUS=1 ghcr.io/wallaroolabs/doc-samples/engines/proxy/wallaroo/ghcr.io/wallaroolabs/standalone-mini:v2024.1.0-main-4317</pre></td></tr></table>\n",
       "                      <br />\n",
       "                      <i>\n",
       "                          Note: Please set the <code>OCI_USERNAME</code>, and <code>OCI_PASSWORD</code> environment variables.\n",
       "                      </i>\n",
       "                  </td>\n",
       "              </tr>\n",
       "              <tr>\n",
       "                  <td>Helm Install Command</td>\n",
       "                  <td>\n",
       "                      <table><tr><td>\n",
       "<pre style=\"text-align: left\">helm install --atomic $HELM_INSTALL_NAME \\\n",
       "    oci://ghcr.io/wallaroolabs/doc-samples/charts/retail-forecast \\\n",
       "    --namespace $HELM_INSTALL_NAMESPACE \\\n",
       "    --version 0.0.1-3384f6ae-3f54-4690-8495-8dce75aa4938 \\\n",
       "    --set ociRegistry.username=$OCI_USERNAME \\\n",
       "    --set ociRegistry.password=$OCI_PASSWORD</pre></td></tr></table>\n",
       "                      <br />\n",
       "                      <i>\n",
       "                          Note: Please set the <code>HELM_INSTALL_NAME</code>, <code>HELM_INSTALL_NAMESPACE</code>,\n",
       "                          <code>OCI_USERNAME</code>, and <code>OCI_PASSWORD</code> environment variables.\n",
       "                      </i>\n",
       "                  </td>\n",
       "              </tr>\n",
       "              \n",
       "          </table>\n",
       "        "
      ],
      "text/plain": [
       "PipelinePublish(created_at=datetime.datetime(2023, 12, 21, 23, 44, 36, 479652, tzinfo=tzutc()), docker_run_variables={}, engine_config={'engine': {'resources': {'limits': {'cpu': 1.0, 'memory': '512Mi'}, 'requests': {'cpu': 1.0, 'memory': '512Mi'}, 'arch': 'x86', 'gpu': False}}, 'enginelb': {'resources': {'limits': {'cpu': 1.0, 'memory': '512Mi'}, 'requests': {'cpu': 1.0, 'memory': '512Mi'}, 'arch': 'x86', 'gpu': False}}, 'engineAux': {'images': {}}}, id=4, pipeline_version_id=15, status='Published', updated_at=datetime.datetime(2023, 12, 21, 23, 44, 36, 479652, tzinfo=tzutc()), user_images=[], created_by='cd8fd063-62fb-48dc-9589-1de1b29d96a7', edge_bundles=<wallaroo.wallaroo_ml_ops_api_client.types.Unset object at 0x7f61eb46f3a0>, engine_url='ghcr.io/wallaroolabs/doc-samples/engines/proxy/wallaroo/ghcr.io/wallaroolabs/standalone-mini:v2024.1.0-main-4317', error=None, helm={'reference': 'ghcr.io/wallaroolabs/doc-samples/charts@sha256:63ee5d1e33b7e45592ba962874b21061c68a1ed9873f3a8fed44dc0a1180bbca', 'chart': 'ghcr.io/wallaroolabs/doc-samples/charts/retail-forecast', 'version': '0.0.1-3384f6ae-3f54-4690-8495-8dce75aa4938', 'values': {}}, pipeline_url='ghcr.io/wallaroolabs/doc-samples/pipelines/retail-forecast:3384f6ae-3f54-4690-8495-8dce75aa4938', pipeline_version_name='3384f6ae-3f54-4690-8495-8dce75aa4938', additional_properties={})"
      ]
     },
     "execution_count": 33,
     "metadata": {},
     "output_type": "execute_result"
    }
   ],
   "source": [
    "pub = pipeline.publishes()[0]\n",
    "pub"
   ]
  },
  {
   "cell_type": "code",
   "execution_count": 35,
   "id": "a81239ab",
   "metadata": {},
   "outputs": [
    {
     "data": {
      "text/html": [
       "\n",
       "          <table>\n",
       "              <tr><td>ID</td><td>4</td></tr>\n",
       "              <tr><td>Pipeline Version</td><td>3384f6ae-3f54-4690-8495-8dce75aa4938</td></tr>\n",
       "              <tr><td>Status</td><td>Published</td></tr>\n",
       "              <tr><td>Engine URL</td><td><a href='https://ghcr.io/wallaroolabs/doc-samples/engines/proxy/wallaroo/ghcr.io/wallaroolabs/standalone-mini:v2024.1.0-main-4317'>ghcr.io/wallaroolabs/doc-samples/engines/proxy/wallaroo/ghcr.io/wallaroolabs/standalone-mini:v2024.1.0-main-4317</a></td></tr>\n",
       "              <tr><td>Pipeline URL</td><td><a href='https://ghcr.io/wallaroolabs/doc-samples/pipelines/retail-forecast:3384f6ae-3f54-4690-8495-8dce75aa4938'>ghcr.io/wallaroolabs/doc-samples/pipelines/retail-forecast:3384f6ae-3f54-4690-8495-8dce75aa4938</a></td></tr>\n",
       "              <tr><td>Helm Chart URL</td><td>oci://<a href='https://ghcr.io/wallaroolabs/doc-samples/charts/retail-forecast'>ghcr.io/wallaroolabs/doc-samples/charts/retail-forecast</a></td></tr>\n",
       "              <tr><td>Helm Chart Reference</td><td>ghcr.io/wallaroolabs/doc-samples/charts@sha256:63ee5d1e33b7e45592ba962874b21061c68a1ed9873f3a8fed44dc0a1180bbca</td></tr>\n",
       "              <tr><td>Helm Chart Version</td><td>0.0.1-3384f6ae-3f54-4690-8495-8dce75aa4938</td></tr>\n",
       "              <tr><td>Engine Config</td><td>{'engine': {'resources': {'limits': {'cpu': 1.0, 'memory': '512Mi'}, 'requests': {'cpu': 1.0, 'memory': '512Mi'}, 'arch': 'x86', 'gpu': False}}, 'engineAux': {'images': {}}, 'enginelb': {'resources': {'limits': {'cpu': 1.0, 'memory': '512Mi'}, 'requests': {'cpu': 1.0, 'memory': '512Mi'}, 'arch': 'x86', 'gpu': False}}}</td></tr>\n",
       "              <tr><td>User Images</td><td>[]</td></tr>\n",
       "              <tr><td>Created By</td><td>john.hummel@wallaroo.ai</td></tr>\n",
       "              <tr><td>Created At</td><td>2023-12-21 23:44:36.479652+00:00</td></tr>\n",
       "              <tr><td>Updated At</td><td>2023-12-21 23:44:36.479652+00:00</td></tr>\n",
       "              <tr>\n",
       "                  <td>Docker Run Command</td>\n",
       "                  <td>\n",
       "                      <table><tr><td>\n",
       "<pre style=\"text-align: left\">docker run \\\n",
       "    -e OCI_USERNAME=$OCI_USERNAME \\\n",
       "    -e OCI_PASSWORD=$OCI_PASSWORD \\\n",
       "    -e EDGE_BUNDLE=ZXhwb3J0IEJVTkRMRV9WRVJTSU9OPTEKZXhwb3J0IENPTkZJR19DUFVTPTEKZXhwb3J0IEVER0VfTkFNRT1lZGdlLWZvcmVjYXN0LXJldGFpbC1kZW1vamNoCmV4cG9ydCBPUFNDRU5URVJfSE9TVD1kb2MtdGVzdC5lZGdlLndhbGxhcm9vY29tbXVuaXR5Lm5pbmphCmV4cG9ydCBQSVBFTElORV9VUkw9Z2hjci5pby93YWxsYXJvb2xhYnMvZG9jLXNhbXBsZXMvcGlwZWxpbmVzL3JldGFpbC1mb3JlY2FzdDozMzg0ZjZhZS0zZjU0LTQ2OTAtODQ5NS04ZGNlNzVhYTQ5MzgKZXhwb3J0IFdPUktTUEFDRV9JRD05CmV4cG9ydCBKT0lOX1RPS0VOPTA5YTE1ZGRmLTk1NzAtNGNhNC05ZmVjLTJhOTMwM2Q4ODQzMg== \\\n",
       "    -e CONFIG_CPUS=1 ghcr.io/wallaroolabs/doc-samples/engines/proxy/wallaroo/ghcr.io/wallaroolabs/standalone-mini:v2024.1.0-main-4317</pre></td></tr></table>\n",
       "                      <br />\n",
       "                      <i>\n",
       "                          Note: Please set the <code>OCI_USERNAME</code>, and <code>OCI_PASSWORD</code> environment variables.\n",
       "                      </i>\n",
       "                  </td>\n",
       "              </tr>\n",
       "              <tr>\n",
       "                  <td>Helm Install Command</td>\n",
       "                  <td>\n",
       "                      <table><tr><td>\n",
       "<pre style=\"text-align: left\">helm install --atomic $HELM_INSTALL_NAME \\\n",
       "    oci://ghcr.io/wallaroolabs/doc-samples/charts/retail-forecast \\\n",
       "    --namespace $HELM_INSTALL_NAMESPACE \\\n",
       "    --version 0.0.1-3384f6ae-3f54-4690-8495-8dce75aa4938 \\\n",
       "    --set ociRegistry.username=$OCI_USERNAME \\\n",
       "    --set ociRegistry.password=$OCI_PASSWORD \\\n",
       "    --set edgeBundle=ZXhwb3J0IEJVTkRMRV9WRVJTSU9OPTEKZXhwb3J0IENPTkZJR19DUFVTPTEKZXhwb3J0IEVER0VfTkFNRT1lZGdlLWZvcmVjYXN0LXJldGFpbC1kZW1vamNoCmV4cG9ydCBPUFNDRU5URVJfSE9TVD1kb2MtdGVzdC5lZGdlLndhbGxhcm9vY29tbXVuaXR5Lm5pbmphCmV4cG9ydCBQSVBFTElORV9VUkw9Z2hjci5pby93YWxsYXJvb2xhYnMvZG9jLXNhbXBsZXMvcGlwZWxpbmVzL3JldGFpbC1mb3JlY2FzdDozMzg0ZjZhZS0zZjU0LTQ2OTAtODQ5NS04ZGNlNzVhYTQ5MzgKZXhwb3J0IFdPUktTUEFDRV9JRD05CmV4cG9ydCBKT0lOX1RPS0VOPTA5YTE1ZGRmLTk1NzAtNGNhNC05ZmVjLTJhOTMwM2Q4ODQzMg==</pre></td></tr></table>\n",
       "                      <br />\n",
       "                      <i>\n",
       "                          Note: Please set the <code>HELM_INSTALL_NAME</code>, <code>HELM_INSTALL_NAMESPACE</code>,\n",
       "                          <code>OCI_USERNAME</code>, and <code>OCI_PASSWORD</code> environment variables.\n",
       "                      </i>\n",
       "                  </td>\n",
       "              </tr>\n",
       "              \n",
       "          </table>\n",
       "        "
      ],
      "text/plain": [
       "PipelinePublish(created_at=datetime.datetime(2023, 12, 21, 23, 44, 36, 479652, tzinfo=tzutc()), docker_run_variables={'EDGE_BUNDLE': 'ZXhwb3J0IEJVTkRMRV9WRVJTSU9OPTEKZXhwb3J0IENPTkZJR19DUFVTPTEKZXhwb3J0IEVER0VfTkFNRT1lZGdlLWZvcmVjYXN0LXJldGFpbC1kZW1vamNoCmV4cG9ydCBPUFNDRU5URVJfSE9TVD1kb2MtdGVzdC5lZGdlLndhbGxhcm9vY29tbXVuaXR5Lm5pbmphCmV4cG9ydCBQSVBFTElORV9VUkw9Z2hjci5pby93YWxsYXJvb2xhYnMvZG9jLXNhbXBsZXMvcGlwZWxpbmVzL3JldGFpbC1mb3JlY2FzdDozMzg0ZjZhZS0zZjU0LTQ2OTAtODQ5NS04ZGNlNzVhYTQ5MzgKZXhwb3J0IFdPUktTUEFDRV9JRD05CmV4cG9ydCBKT0lOX1RPS0VOPTA5YTE1ZGRmLTk1NzAtNGNhNC05ZmVjLTJhOTMwM2Q4ODQzMg=='}, engine_config={'engine': {'resources': {'limits': {'cpu': 1.0, 'memory': '512Mi'}, 'requests': {'cpu': 1.0, 'memory': '512Mi'}, 'arch': 'x86', 'gpu': False}}, 'engineAux': {'images': {}}, 'enginelb': {'resources': {'limits': {'cpu': 1.0, 'memory': '512Mi'}, 'requests': {'cpu': 1.0, 'memory': '512Mi'}, 'arch': 'x86', 'gpu': False}}}, id=4, pipeline_version_id=15, status='Published', updated_at=datetime.datetime(2023, 12, 21, 23, 44, 36, 479652, tzinfo=tzutc()), user_images=[], created_by='cd8fd063-62fb-48dc-9589-1de1b29d96a7', edge_bundles=<wallaroo.wallaroo_ml_ops_api_client.types.Unset object at 0x7f61eb46f3a0>, engine_url='ghcr.io/wallaroolabs/doc-samples/engines/proxy/wallaroo/ghcr.io/wallaroolabs/standalone-mini:v2024.1.0-main-4317', error=None, helm={'reference': 'ghcr.io/wallaroolabs/doc-samples/charts@sha256:63ee5d1e33b7e45592ba962874b21061c68a1ed9873f3a8fed44dc0a1180bbca', 'values': {'edgeBundle': 'ZXhwb3J0IEJVTkRMRV9WRVJTSU9OPTEKZXhwb3J0IENPTkZJR19DUFVTPTEKZXhwb3J0IEVER0VfTkFNRT1lZGdlLWZvcmVjYXN0LXJldGFpbC1kZW1vamNoCmV4cG9ydCBPUFNDRU5URVJfSE9TVD1kb2MtdGVzdC5lZGdlLndhbGxhcm9vY29tbXVuaXR5Lm5pbmphCmV4cG9ydCBQSVBFTElORV9VUkw9Z2hjci5pby93YWxsYXJvb2xhYnMvZG9jLXNhbXBsZXMvcGlwZWxpbmVzL3JldGFpbC1mb3JlY2FzdDozMzg0ZjZhZS0zZjU0LTQ2OTAtODQ5NS04ZGNlNzVhYTQ5MzgKZXhwb3J0IFdPUktTUEFDRV9JRD05CmV4cG9ydCBKT0lOX1RPS0VOPTA5YTE1ZGRmLTk1NzAtNGNhNC05ZmVjLTJhOTMwM2Q4ODQzMg=='}, 'chart': 'ghcr.io/wallaroolabs/doc-samples/charts/retail-forecast', 'version': '0.0.1-3384f6ae-3f54-4690-8495-8dce75aa4938'}, pipeline_url='ghcr.io/wallaroolabs/doc-samples/pipelines/retail-forecast:3384f6ae-3f54-4690-8495-8dce75aa4938', pipeline_version_name='3384f6ae-3f54-4690-8495-8dce75aa4938', additional_properties={})"
      ]
     },
     "metadata": {},
     "output_type": "display_data"
    }
   ],
   "source": [
    "# create the location\n",
    "\n",
    "edge_name = f'edge-forecast-retail-demo{suffix}'\n",
    "\n",
    "edge_publish = pub.add_edge(edge_name)\n",
    "display(edge_publish)"
   ]
  },
  {
   "cell_type": "markdown",
   "id": "987fbe62",
   "metadata": {},
   "source": [
    "## DevOps - Pipeline Edge Deployment\n",
    "\n",
    "Once a pipeline is deployed to the Edge Registry service, it can be deployed in environments such as Docker, Kubernetes, or similar container running services by a DevOps engineer.\n",
    "\n",
    "### Docker Deployment\n",
    "\n",
    "First, the DevOps engineer must authenticate to the same OCI Registry service used for the Wallaroo Edge Deployment registry.\n",
    "\n",
    "For more details, check with the documentation on your artifact service.  The following are provided for the three major cloud services:\n",
    "\n",
    "* [Set up authentication for Docker](https://cloud.google.com/artifact-registry/docs/docker/authentication)\n",
    "* [Authenticate with an Azure container registry](https://learn.microsoft.com/en-us/azure/container-registry/container-registry-authentication?tabs=azure-cli)\n",
    "* [Authenticating Amazon ECR Repositories for Docker CLI with Credential Helper](https://aws.amazon.com/blogs/compute/authenticating-amazon-ecr-repositories-for-docker-cli-with-credential-helper/)\n",
    "\n",
    "For the deployment, the engine URL is specified with the following environmental variables:\n",
    "\n",
    "* `DEBUG` (true|false): Whether to include debug output.\n",
    "* `OCI_REGISTRY`: The URL of the registry service.\n",
    "* `CONFIG_CPUS`: The number of CPUs to use.\n",
    "* `OCI_USERNAME`: The edge registry username.\n",
    "* `OCI_PASSWORD`:  The edge registry password or token.\n",
    "* `PIPELINE_URL`: The published pipeline URL.\n",
    "\n",
    "#### Docker Deployment Example\n",
    "\n",
    "Using our sample environment, here's sample deployment using Docker with a computer vision ML model, the same used in the [Wallaroo Use Case Tutorials Computer Vision: Retail](https://docs.wallaroo.ai/wallaroo-use-case-tutorials/wallaroo-use-case-computer-vision/use-case-computer-vision-retail/) tutorials.\n",
    "\n",
    "Note the use of the `-v ./data:/persist` option.  This will store the one time authentication token stored in the `EDGE_BUNDLE`\n",
    "\n",
    "```bash\n",
    "mkdir ./data\n",
    "\n",
    "docker run -p 8080:8080 \\\n",
    "    -v ./data:/persist \\\n",
    "    -e DEBUG=true -e OCI_REGISTRY={your registry server} \\\n",
    "    -e EDGE_BUNDLE={edge_publish.docker_run_variables['EDGE_BUNDLE']} \\\n",
    "    -e CONFIG_CPUS=4 \\\n",
    "    -e OCI_USERNAME=oauth2accesstoken \\\n",
    "    -e OCI_PASSWORD={registry token here} \\\n",
    "    -e PIPELINE_URL={your registry server}/pipelines/yolo8demonstration:bf70eaf7-8c11-4b46-b751-916a43b1a555 \\\n",
    "    {your registry server}/engine:v2023.3.0-main-3707\n",
    "```\n",
    "\n",
    "### Docker Compose Deployment\n",
    "\n",
    "For users who prefer to use `docker compose`, the following sample `compose.yaml` file is used to launch the Wallaroo Edge pipeline.  This is the same used in the [Wallaroo Use Case Tutorials Computer Vision: Retail](https://docs.wallaroo.ai/wallaroo-use-case-tutorials/wallaroo-use-case-computer-vision/use-case-computer-vision-retail/) tutorials.\n",
    "\n",
    "The `volumes` settings allows for persistent volumes to store the session information.  Without it, the one-time authentication token included in the `EDGE_BUNDLE` settings would have to be regenerated.\n",
    "\n",
    "```yml\n",
    "services:\n",
    "  engine:\n",
    "    image: {Your Engine URL}\n",
    "    volumes:\n",
    "      - ./data:/persist\n",
    "    ports:\n",
    "      - 8080:8080\n",
    "    environment:\n",
    "      EDGE_BUNDLE: abcdefg\n",
    "      PIPELINE_URL: {Your Pipeline URL}\n",
    "      OCI_REGISTRY: {Your Edge Registry URL}\n",
    "      OCI_USERNAME:  {Your Registry Username}\n",
    "      OCI_PASSWORD: {Your Token or Password}\n",
    "      CONFIG_CPUS: 4\n",
    "```\n",
    "\n",
    "For example:\n",
    "\n",
    "```yml\n",
    "services:\n",
    "  engine:\n",
    "    image: sample-registry.com/engine:v2023.3.0-main-3707\n",
    "    ports:\n",
    "      - 8080:8080\n",
    "    environment:\n",
    "      PIPELINE_URL: sample-registry.com/pipelines/yolo8demonstration:bf70eaf7-8c11-4b46-b751-916a43b1a555\n",
    "      OCI_REGISTRY: sample-registry.com\n",
    "      OCI_USERNAME:  _json_key_base64\n",
    "      OCI_PASSWORD: abc123\n",
    "      CONFIG_CPUS: 4\n",
    "```\n",
    "\n",
    "#### Docker Compose Deployment Example\n",
    "\n",
    "The deployment and undeployment is then just a simple `docker compose up` and `docker compose down`.  The following shows an example of deploying the Wallaroo edge pipeline using `docker compose`.\n",
    "\n",
    "```bash\n",
    "docker compose up\n",
    "[+] Running 1/1\n",
    " ✔ Container yolo8demonstration-engine-1  Recreated                                                                                                                                                                 0.5s\n",
    "Attaching to yolo8demonstration-engine-1\n",
    "yolo8demonstration-engine-1  | Wallaroo Engine - Standalone mode\n",
    "yolo8demonstration-engine-1  | Login Succeeded\n",
    "yolo8demonstration-engine-1  | Fetching manifest and config for pipeline: sample-registry.com/pipelines/yolo8demonstration:bf70eaf7-8c11-4b46-b751-916a43b1a555\n",
    "yolo8demonstration-engine-1  | Fetching model layers\n",
    "yolo8demonstration-engine-1  | digest: sha256:c6c8869645962e7711132a7e17aced2ac0f60dcdc2c7faa79b2de73847a87984\n",
    "yolo8demonstration-engine-1  |   filename: c6c8869645962e7711132a7e17aced2ac0f60dcdc2c7faa79b2de73847a87984\n",
    "yolo8demonstration-engine-1  |   name: yolov8n\n",
    "yolo8demonstration-engine-1  |   type: model\n",
    "yolo8demonstration-engine-1  |   runtime: onnx\n",
    "yolo8demonstration-engine-1  |   version: 693e19b5-0dc7-4afb-9922-e3f7feefe66d\n",
    "yolo8demonstration-engine-1  |\n",
    "yolo8demonstration-engine-1  | Fetched\n",
    "yolo8demonstration-engine-1  | Starting engine\n",
    "yolo8demonstration-engine-1  | Looking for preexisting `yaml` files in //modelconfigs\n",
    "yolo8demonstration-engine-1  | Looking for preexisting `yaml` files in //pipelines\n",
    "```\n",
    "\n",
    "### Helm Deployment\n",
    "\n",
    "Published pipelines can be deployed through the use of helm charts.\n",
    "\n",
    "Helm deployments take up to two steps - the first step is in retrieving the required `values.yaml` and making updates to override.\n",
    "\n",
    "Kubernetes provides persistent volume support, so no settings are required.\n",
    "\n",
    "1. Pull the helm charts from the published pipeline.  The two fields are the Helm Chart URL and the Helm Chart version to specify the OCI .    This typically takes the format of:\n",
    "\n",
    "  ```bash\n",
    "  helm pull oci://{published.helm_chart_url} --version {published.helm_chart_version}\n",
    "  ```\n",
    "\n",
    "1. Extract the `tgz` file and copy the `values.yaml` and copy the values used to edit engine allocations, etc.  The following are **required** for the deployment to run:\n",
    "\n",
    "  ```yml\n",
    "  ociRegistry:\n",
    "    registry: {your registry service}\n",
    "    username:  {registry username here}\n",
    "    password: {registry token here}\n",
    "  ```\n",
    "\n",
    "  Store this into another file, suc as `local-values.yaml`.\n",
    "\n",
    "1. Create the namespace to deploy the pipeline to.  For example, the namespace `wallaroo-edge-pipeline` would be:\n",
    "\n",
    "  ```bash\n",
    "  kubectl create -n wallaroo-edge-pipeline\n",
    "  ```\n",
    "\n",
    "1. Deploy the `helm` installation with `helm install` through one of the following options:\n",
    "    1. Specify the `tgz` file that was downloaded and the local values file.  For example:\n",
    "\n",
    "        ```bash\n",
    "        helm install --namespace {namespace} --values {local values file} {helm install name} {tgz path}\n",
    "        ```\n",
    "\n",
    "    1. Specify the expended directory from the downloaded `tgz` file.\n",
    "\n",
    "        ```bash\n",
    "        helm install --namespace {namespace} --values {local values file} {helm install name} {helm directory path}\n",
    "        ```\n",
    "\n",
    "    1. Specify the Helm Pipeline Helm Chart and the Pipeline Helm Version.\n",
    "\n",
    "        ```bash\n",
    "        helm install --namespace {namespace} --values {local values file} {helm install name} oci://{published.helm_chart_url} --version {published.helm_chart_version}\n",
    "        ```\n",
    "\n",
    "1. Once deployed, the DevOps engineer will have to forward the appropriate ports to the `svc/engine-svc` service in the specific pipeline.  For example, using `kubectl port-forward` to the namespace `ccfraud` that would be:\n",
    "\n",
    "    ```bash\n",
    "    kubectl port-forward svc/engine-svc -n ccfraud01 8080 --address 0.0.0.0`\n",
    "    ```\n",
    "\n",
    "### Docker Deployment Code Generation Exercise\n",
    "\n",
    "The following code segment generates a `docker run` template based on the previously published pipeline.  Replace the `$REGISTRYURL`, `$REGISTRYUSERNAME`, and `$REGISTRYPASSWORD` to match the OCI Registry being used."
   ]
  },
  {
   "cell_type": "code",
   "execution_count": 36,
   "id": "27e4d133",
   "metadata": {},
   "outputs": [
    {
     "name": "stdout",
     "output_type": "stream",
     "text": [
      "\n",
      "mkdir data\n",
      "docker run -p 8080:8080 \\\n",
      "    -v ./data:/persist \\\n",
      "    -e DEBUG=true \\\n",
      "    -e OCI_REGISTRY=$REGISTRYURL \\\n",
      "    -e EDGE_BUNDLE=ZXhwb3J0IEJVTkRMRV9WRVJTSU9OPTEKZXhwb3J0IENPTkZJR19DUFVTPTEKZXhwb3J0IEVER0VfTkFNRT1lZGdlLWZvcmVjYXN0LXJldGFpbC1kZW1vamNoCmV4cG9ydCBPUFNDRU5URVJfSE9TVD1kb2MtdGVzdC5lZGdlLndhbGxhcm9vY29tbXVuaXR5Lm5pbmphCmV4cG9ydCBQSVBFTElORV9VUkw9Z2hjci5pby93YWxsYXJvb2xhYnMvZG9jLXNhbXBsZXMvcGlwZWxpbmVzL3JldGFpbC1mb3JlY2FzdDozMzg0ZjZhZS0zZjU0LTQ2OTAtODQ5NS04ZGNlNzVhYTQ5MzgKZXhwb3J0IFdPUktTUEFDRV9JRD05CmV4cG9ydCBKT0lOX1RPS0VOPTA5YTE1ZGRmLTk1NzAtNGNhNC05ZmVjLTJhOTMwM2Q4ODQzMg== \\\n",
      "    -e CONFIG_CPUS=1 \\\n",
      "    -e OCI_USERNAME=$REGISTRYUSERNAME \\\n",
      "    -e OCI_PASSWORD=$REGISTRYPASSWORD \\\n",
      "    -e PIPELINE_URL=ghcr.io/wallaroolabs/doc-samples/pipelines/retail-forecast:3384f6ae-3f54-4690-8495-8dce75aa4938 \\\n",
      "    ghcr.io/wallaroolabs/doc-samples/engines/proxy/wallaroo/ghcr.io/wallaroolabs/standalone-mini:v2024.1.0-main-4317\n",
      "\n"
     ]
    }
   ],
   "source": [
    "docker_deploy = f'''\n",
    "mkdir data\n",
    "docker run -p 8080:8080 \\\\\n",
    "    -v ./data:/persist \\\\\n",
    "    -e DEBUG=true \\\\\n",
    "    -e OCI_REGISTRY=$REGISTRYURL \\\\\n",
    "    -e EDGE_BUNDLE={edge_publish.docker_run_variables['EDGE_BUNDLE']} \\\\\n",
    "    -e CONFIG_CPUS=1 \\\\\n",
    "    -e OCI_USERNAME=$REGISTRYUSERNAME \\\\\n",
    "    -e OCI_PASSWORD=$REGISTRYPASSWORD \\\\\n",
    "    -e PIPELINE_URL={edge_publish.pipeline_url} \\\\\n",
    "    {edge_publish.engine_url}\n",
    "'''\n",
    "\n",
    "print(docker_deploy)"
   ]
  },
  {
   "cell_type": "markdown",
   "id": "7f49b3f1",
   "metadata": {},
   "source": [
    "## Edge Deployed Pipeline API Endpoints\n",
    "\n",
    "Once deployed, we can check the pipelines and models available.  We'll use a `curl` command, but any HTTP based request will work the same way.\n",
    "\n",
    "The endpoint `/pipelines` returns:\n",
    "\n",
    "* **id** (*String*):  The name of the pipeline.\n",
    "* **status** (*String*):  The status as either `Running`, or `Error` if there are any issues.\n",
    "\n",
    "```bash\n",
    "curl localhost:8080/pipelines\n",
    "{\"pipelines\":[{\"id\":\"yolo8demonstration\",\"status\":\"Running\"}]}\n",
    "```\n",
    "\n",
    "The following example uses the host `localhost`.  Replace with your own host name of your Edge deployed pipeline."
   ]
  },
  {
   "cell_type": "code",
   "execution_count": 39,
   "id": "b9aac0fd",
   "metadata": {},
   "outputs": [
    {
     "name": "stdout",
     "output_type": "stream",
     "text": [
      "{\"pipelines\":[{\"id\":\"retail-forecast\",\"status\":\"Running\"}]}"
     ]
    }
   ],
   "source": [
    "!curl workshop-hf-summarizer-demo.eastus.cloudapp.azure.com:8081/pipelines"
   ]
  },
  {
   "cell_type": "markdown",
   "id": "9a236c21",
   "metadata": {},
   "source": [
    "The endpoint `/models` returns a List of models with the following fields:\n",
    "\n",
    "* **name** (*String*): The model name.\n",
    "* **sha** (*String*): The sha hash value of the ML model.\n",
    "* **status** (*String*):  The status of either Running or Error if there are any issues.\n",
    "* **version** (*String*):  The model version.  This matches the version designation used by Wallaroo to track model versions in UUID format.\n",
    "\n",
    "```bash\n",
    "{\"models\":[{\"name\":\"yolov8n\",\"sha\":\"3ed5cd199e0e6e419bd3d474cf74f2e378aacbf586e40f24d1f8c89c2c476a08\",\"status\":\"Running\",\"version\":\"7af40d06-d18f-4b3f-9dd3-0a15248f01c8\"}]}\n",
    "```\n",
    "\n",
    "The following example uses the host `localhost`.  Replace with your own host name of your Edge deployed pipeline."
   ]
  },
  {
   "cell_type": "code",
   "execution_count": 38,
   "id": "520f612d",
   "metadata": {},
   "outputs": [
    {
     "name": "stdout",
     "output_type": "stream",
     "text": [
      "{\"models\":[{\"name\":\"forecast-control-model\",\"version\":\"e3872af8-0c90-4886-a232-c6e37d546a4f\",\"sha\":\"3cd2acdd1f513f46615be7aa5beac16f09903be851e91f20f6dcdead4a48faa0\",\"status\":\"Running\"}]}"
     ]
    }
   ],
   "source": [
    "!curl workshop-hf-summarizer-demo.eastus.cloudapp.azure.com:8081/models"
   ]
  },
  {
   "cell_type": "markdown",
   "id": "9315ef4d",
   "metadata": {},
   "source": [
    "### Edge Inference Endpoint\n",
    "\n",
    "The inference endpoint takes the following pattern:\n",
    "\n",
    "* `/pipelines/{pipeline-name}`:  The `pipeline-name` is the same as returned from the [`/pipelines`](#list-pipelines) endpoint as `id`.\n",
    "\n",
    "Wallaroo inference endpoint URLs accept the following data inputs through the `Content-Type` header:\n",
    "\n",
    "* `Content-Type: application/vnd.apache.arrow.file`: For Apache Arrow tables.\n",
    "* `Content-Type: application/json; format=pandas-records`: For pandas DataFrame in record format.\n",
    "\n",
    "Once deployed, we can perform an inference through the deployment URL.\n",
    "\n",
    "The endpoint returns `Content-Type: application/json; format=pandas-records` by default with the following fields:\n",
    "\n",
    "* **check_failures** (*List[Integer]*): Whether any validation checks were triggered.  For more information, see [Wallaroo SDK Essentials Guide: Pipeline Management: Anomaly Testing](https://docs.wallaroo.ai/wallaroo-developer-guides/wallaroo-sdk-guides/wallaroo-sdk-essentials-guide/wallaroo-sdk-essentials-pipelines/wallaroo-sdk-essentials-pipeline/#anomaly-testing).\n",
    "* **elapsed** (*List[Integer]*): A list of time in nanoseconds for:\n",
    "  * [0] The time to serialize the input.\n",
    "  * [1...n] How long each step took.\n",
    "* **model_name** (*String*): The name of the model used.\n",
    "* **model_version** (*String*): The version of the model in UUID format.\n",
    "* **original_data**: The original input data.  Returns `null` if the input may be too long for a proper return.\n",
    "* **outputs** (*List*): The outputs of the inference result separated by data type, where each data type includes:\n",
    "  * **data**: The returned values.\n",
    "  * **dim** (*List[Integer]*): The dimension shape returned.\n",
    "  * **v** (*Integer*): The vector shape of the data.\n",
    "* **pipeline_name**  (*String*): The name of the pipeline.\n",
    "* **shadow_data**: Any shadow deployed data inferences in the same format as **outputs**.\n",
    "* **time** (*Integer*): The time since UNIX epoch.\n",
    "  \n",
    "Once deployed, we can perform an inference through the deployment URL.  We'll assume we're running the inference request through the localhost and submitting the local file `./data/dogbike.df.json`.  Note that our inference endpoint is `pipelines/yolo8demonstration` - the same as our pipeline name.\n",
    "\n",
    "The following example demonstrates sending an inference request to the edge deployed pipeline and storing the results in a pandas DataFrame in record format.  The results can then be exported to other processes to render the detected images or other use cases."
   ]
  },
  {
   "cell_type": "code",
   "execution_count": 41,
   "id": "d6aed32b",
   "metadata": {},
   "outputs": [
    {
     "name": "stdout",
     "output_type": "stream",
     "text": [
      "[{\"time\":1703202774133,\"in\":{\"count\":[1526,1550,1708,1005,1623,1712,1530,1605,1538,1746,1472,1589,1913,1815,2115,2475,2927,1635,1812,1107,1450,1917,1807,1461,1969,2402,1446,1851]},\"out\":{\"forecast\":[1764,1749,1743,1741,1740,1740,1740],\"weekly_average\":[1745.2857142857142]},\"check_failures\":[],\"metadata\":{\"last_model\":\"{\\\"model_name\\\":\\\"forecast-control-model\\\",\\\"model_sha\\\":\\\"3cd2acdd1f513f46615be7aa5beac16f09903be851e91f20f6dcdead4a48faa0\\\"}\",\"pipeline_version\":\"\",\"elapsed\":[125202,99733001],\"dropped\":[],\"partition\":\"edge-forecast-retail-demojch\"}}]"
     ]
    }
   ],
   "source": [
    "!curl workshop-hf-summarizer-demo.eastus.cloudapp.azure.com:8081/pipelines/retail-forecast \\\n",
    "    -H \"Content-Type: application/json; format=pandas-records\" \\\n",
    "    --data @../data/forecast/testdata-standard.df.json"
   ]
  },
  {
   "cell_type": "markdown",
   "id": "ceb00f4e",
   "metadata": {},
   "source": [
    "### Display Partition Logs\n",
    "\n",
    "To view the edge deployed pipeline logs, we can use `wallaroo.pipeline.export_logs` method to retrieve all of the recent logs from this pipeline, and show the edge inference results were sent with the edge name in the partition metadata.\n",
    "\n",
    "Sample code:\n",
    "\n",
    "```python\n",
    "# display log information here with partition\n",
    "\n",
    "pipeline.export_logs(directory='./logs/partition-edge-observability-forecasting',\n",
    "                     file_prefix='edge-logs',\n",
    "                     dataset=['time', 'metadata'])\n",
    "\n",
    "# display the partition only results\n",
    "\n",
    "df_logs = pd.read_json('./logs/partition-edge-observability-forecasting/edge-logs-1.json', \n",
    "                       orient=\"records\", \n",
    "                       lines=True)\n",
    "\n",
    "# display just the entries with out edge location\n",
    "display(df_logs[df_logs['metadata.partition']==edge_name].loc[:, ['time', 'metadata.partition']])\n",
    "\n",
    "```"
   ]
  },
  {
   "cell_type": "code",
   "execution_count": 42,
   "id": "17aee46e",
   "metadata": {},
   "outputs": [
    {
     "data": {
      "text/html": [
       "<div>\n",
       "<style scoped>\n",
       "    .dataframe tbody tr th:only-of-type {\n",
       "        vertical-align: middle;\n",
       "    }\n",
       "\n",
       "    .dataframe tbody tr th {\n",
       "        vertical-align: top;\n",
       "    }\n",
       "\n",
       "    .dataframe thead th {\n",
       "        text-align: right;\n",
       "    }\n",
       "</style>\n",
       "<table border=\"1\" class=\"dataframe\">\n",
       "  <thead>\n",
       "    <tr style=\"text-align: right;\">\n",
       "      <th></th>\n",
       "      <th>time</th>\n",
       "      <th>metadata.partition</th>\n",
       "    </tr>\n",
       "  </thead>\n",
       "  <tbody>\n",
       "    <tr>\n",
       "      <th>2</th>\n",
       "      <td>1703202774133</td>\n",
       "      <td>edge-forecast-retail-demojch</td>\n",
       "    </tr>\n",
       "  </tbody>\n",
       "</table>\n",
       "</div>"
      ],
      "text/plain": [
       "            time            metadata.partition\n",
       "2  1703202774133  edge-forecast-retail-demojch"
      ]
     },
     "metadata": {},
     "output_type": "display_data"
    }
   ],
   "source": [
    "# display log information here with partition\n",
    "\n",
    "pipeline.export_logs(directory='./logs/partition-edge-observability-forecasting',\n",
    "                     file_prefix='edge-logs',\n",
    "                     dataset=['time', 'metadata'])\n",
    "\n",
    "# display the partition only results\n",
    "\n",
    "df_logs = pd.read_json('./logs/partition-edge-observability-forecasting/edge-logs-1.json', \n",
    "                       orient=\"records\", \n",
    "                       lines=True)\n",
    "\n",
    "# display just the entries with out edge location\n",
    "display(df_logs[df_logs['metadata.partition']==edge_name].loc[:, ['time', 'metadata.partition']])\n"
   ]
  },
  {
   "cell_type": "code",
   "execution_count": null,
   "id": "3f5e47cb-8410-4d15-8879-f5c98031ea3e",
   "metadata": {},
   "outputs": [],
   "source": []
  }
 ],
 "metadata": {
  "kernelspec": {
   "display_name": "Python 3 (ipykernel)",
   "language": "python",
   "name": "python3"
  },
  "language_info": {
   "codemirror_mode": {
    "name": "ipython",
    "version": 3
   },
   "file_extension": ".py",
   "mimetype": "text/x-python",
   "name": "python",
   "nbconvert_exporter": "python",
   "pygments_lexer": "ipython3",
   "version": "3.9.13"
  }
 },
 "nbformat": 4,
 "nbformat_minor": 5
}
