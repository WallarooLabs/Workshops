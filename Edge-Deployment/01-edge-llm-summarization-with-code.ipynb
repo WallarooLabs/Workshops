{
 "cells": [
  {
   "cell_type": "markdown",
   "id": "a9af817c-9405-4359-a990-597e9fc392c8",
   "metadata": {},
   "source": [
    "## Large Language Model Summerization Deployment in Wallaroo\n",
    "\n",
    "The [Yolov8](https://github.com/ultralytics/ultralytics) computer vision model is used for fast recognition of objects in images.  This tutorial demonstrates how to:\n",
    "\n",
    "* Deploy a Hugging Face LLM Summarization pre-trained model into a Wallaroo Ops server and perform inferences on it.\n",
    "* Publish the pipeline to the OCI registry configured in the Wallaroo Ops server.\n",
    "* Add an edge location to the Wallaroo pipeline publish.\n",
    "* Deploy the pipeline as a Wallaroo Server on an edge device through Docker, and display the inference logs submitted to the Wallaroo Ops server.\n",
    "\n",
    "Wallaroo Ops Center provides the ability to publish Wallaroo pipelines to an Open Continer Initative (OCI) compliant registry, then deploy those pipelines on edge devices as Docker container or Kubernetes pods.  See [Wallaroo SDK Essentials Guide: Pipeline Edge Publication](https://docs.wallaroo.ai/20230300/wallaroo-developer-guides/wallaroo-sdk-guides/wallaroo-sdk-essentials-guide/wallaroo-sdk-essentials-pipelines/wallaroo-sdk-essentials-pipeline-publication/) for full details.\n",
    "\n",
    "This demonstration will focus on deployment to the edge.  The sample model is available at the following URL.  **This model should be downloaded and placed into the `./models/llm-summarization` folder before beginning this demonstration.**\n",
    "\n",
    "[model-auto-conversion_hugging-face_complex-pipelines_hf-summarisation-bart-large-samsun.zip (1.4 GB)](https://storage.googleapis.com/wallaroo-public-data/llm-models/model-auto-conversion_hugging-face_complex-pipelines_hf-summarisation-bart-large-samsun.zip)\n",
    "\n",
    "## References\n",
    "\n",
    "* [Wallaroo Workspaces](https://docs.wallaroo.ai/wallaroo-developer-guides/wallaroo-sdk-guides/wallaroo-sdk-essentials-guide/wallaroo-sdk-essentials-workspace/):  Workspaces are environments were users upload models, create pipelines and other artifacts.  The workspace should be considered the fundamental area where work is done.  Workspaces are shared with other users to give them access to the same models, pipelines, etc.\n",
    "* [Wallaroo Model Upload and Registration](https://docs.wallaroo.ai/wallaroo-developer-guides/wallaroo-sdk-guides/wallaroo-sdk-essentials-guide/wallaroo-sdk-model-uploads/): ML Models are uploaded to Wallaroo through the SDK or the MLOps API to a **workspace**.  ML models include default runtimes (ONNX, Python Step, and TensorFlow) that are run directly through the Wallaroo engine, and containerized runtimes (Hugging Face, PyTorch, etc) that are run through in a container through the Wallaroo engine.\n",
    "* [Wallaroo Pipelines](https://docs.wallaroo.ai/wallaroo-developer-guides/wallaroo-sdk-guides/wallaroo-sdk-essentials-guide/wallaroo-sdk-essentials-pipelines/): Pipelines are used to deploy models for inferencing.  Each model is a **pipeline step** in a pipelines, where the inputs of the previous step are fed into the next.  Pipeline steps can be ML models, Python scripts, or Arbitrary Python (these contain necessary models and artifacts for running a model).\n",
    "* [Wallaroo SDK Essentials Guide: Pipeline Edge Publication](https://docs.wallaroo.ai/20230300/wallaroo-developer-guides/wallaroo-sdk-guides/wallaroo-sdk-essentials-guide/wallaroo-sdk-essentials-pipelines/wallaroo-sdk-essentials-pipeline-publication/): Details on publishing a Wallaroo pipeline to an OCI Registry and deploying it as a Wallaroo Server instance."
   ]
  },
  {
   "cell_type": "markdown",
   "id": "6b3f5194",
   "metadata": {},
   "source": [
    "## Data Scientist Steps\n",
    "\n",
    "The following details the steps a Data Scientist performs in uploading and verifying the model in a Wallaroo Ops server.\n",
    "\n",
    "### Load Libraries\n",
    "\n",
    "The first step is loading the required libraries including the [Wallaroo Python module](https://pypi.org/project/wallaroo/)."
   ]
  },
  {
   "cell_type": "code",
   "execution_count": 8,
   "id": "6c67d22b-7b4d-429f-a46f-2009dcdc8bff",
   "metadata": {},
   "outputs": [],
   "source": [
    "# Import Wallaroo Python SDK\n",
    "import wallaroo\n",
    "from wallaroo.object import EntityNotFoundError\n",
    "from wallaroo.framework import Framework\n",
    "from CVDemoUtils import CVDemo\n",
    "from WallarooUtils import Util\n",
    "cvDemo = CVDemo()\n",
    "util = Util()\n",
    "\n",
    "# used to display DataFrame information without truncating\n",
    "from IPython.display import display\n",
    "import pandas as pd\n",
    "pd.set_option('display.max_colwidth', None)\n",
    "\n",
    "import pyarrow as pa\n"
   ]
  },
  {
   "cell_type": "markdown",
   "id": "e5dc575c",
   "metadata": {},
   "source": [
    "### Connect to the Wallaroo Instance through the User Interface\n",
    "\n",
    "The next step is to connect to Wallaroo through the Wallaroo client.  The Python library is included in the Wallaroo install and available through the Jupyter Hub interface provided with your Wallaroo environment.\n",
    "\n",
    "This is accomplished using the `wallaroo.Client()` command, which provides a URL to grant the SDK permission to your specific Wallaroo environment.  When displayed, enter the URL into a browser and confirm permissions.  Store the connection into a variable that can be referenced later.\n",
    "\n",
    "If logging into the Wallaroo instance through the internal JupyterHub service, use `wl = wallaroo.Client()`.  For more information on Wallaroo Client settings, see the [Client Connection guide](https://docs.wallaroo.ai/wallaroo-developer-guides/wallaroo-sdk-guides/wallaroo-sdk-essentials-guide/wallaroo-sdk-essentials-client/)."
   ]
  },
  {
   "cell_type": "code",
   "execution_count": 4,
   "id": "8e953882",
   "metadata": {},
   "outputs": [],
   "source": [
    "wl = wallaroo.Client()\n",
    "\n",
    "\n",
    "wallarooPrefix = \"doc-test.\"\n",
    "wallarooSuffix = \"wallaroocommunity.ninja\"\n",
    "\n",
    "wl = wallaroo.Client(api_endpoint=f\"https://{wallarooPrefix}api.{wallarooSuffix}\", \n",
    "                    auth_endpoint=f\"https://{wallarooPrefix}keycloak.{wallarooSuffix}\", \n",
    "                    auth_type=\"sso\")"
   ]
  },
  {
   "cell_type": "markdown",
   "id": "792828a3",
   "metadata": {},
   "source": [
    "### Create a New Workspace\n",
    "\n",
    "We'll use the SDK below to create our workspace , assign as our **current workspace**, then display all of the workspaces we have at the moment.  We'll also set up variables for our models and pipelines down the road, so we have one spot to change names to whatever fits your organization's standards best.\n",
    "\n",
    "To allow this tutorial to be run by multiple users in the same Wallaroo instance, update suffix with your first and last name.  For example:\n",
    "\n",
    "```python\n",
    "suffix = 'lazel-geth'\n",
    "```"
   ]
  },
  {
   "cell_type": "code",
   "execution_count": 5,
   "id": "b46821db-6e9d-4fed-91eb-9f082862aedf",
   "metadata": {},
   "outputs": [],
   "source": [
    "suffix = ''\n",
    "\n",
    "model_name = 'llm-summarization'\n",
    "model_filename = './models/llm-summarization/model-auto-conversion_hugging-face_complex-pipelines_hf-summarisation-bart-large-samsun.zip'\n",
    "pipeline_name = 'llm-edge-summarization'\n",
    "workspace_name = f'llm-edge-summarization{suffix}'\n"
   ]
  },
  {
   "cell_type": "code",
   "execution_count": 6,
   "id": "eec366f0",
   "metadata": {},
   "outputs": [
    {
     "data": {
      "text/plain": [
       "{'name': 'llm-edge-summarization', 'id': 14, 'archived': False, 'created_by': '12ea09d1-0f49-405e-bed1-27eb6d10fde4', 'created_at': '2023-12-05T16:44:39.385157+00:00', 'models': [], 'pipelines': []}"
      ]
     },
     "execution_count": 6,
     "metadata": {},
     "output_type": "execute_result"
    }
   ],
   "source": [
    "def get_workspace(name):\n",
    "    workspace = None\n",
    "    for ws in wl.list_workspaces():\n",
    "        if ws.name() == name:\n",
    "            workspace= ws\n",
    "    if(workspace == None):\n",
    "        workspace = wl.create_workspace(name)\n",
    "    return workspace\n",
    "\n",
    "workspace = get_workspace(workspace_name)\n",
    "wl.set_current_workspace(workspace)"
   ]
  },
  {
   "cell_type": "markdown",
   "id": "52ac1fe8",
   "metadata": {},
   "source": [
    "### Upload the Model\n",
    "\n",
    "When a model is uploaded to a Wallaroo cluster, it is optimized and packaged to make it ready to run as part of a pipeline. In many times, the Wallaroo Server can natively run a model without any Python overhead. In other cases, such as a Python script, a custom Python environment will be automatically generated. This is comparable to the process of \"containerizing\" a model by adding a small HTTP server and other wrapping around it.\n",
    "\n",
    "Our pretrained model is in the Hugging Face framework, which is specified in the `framework` parameter.  Hugging Face is a non-native runtime, which requires that the input and output schemas as specified during the model upload process.\n",
    "\n",
    "* References\n",
    "  * [Wallaroo SDK Essentials Guide: Model Uploads and Registrations: Hugging Face](https://docs.wallaroo.ai/wallaroo-developer-guides/wallaroo-sdk-guides/wallaroo-sdk-essentials-guide/wallaroo-sdk-model-uploads/wallaroo-sdk-model-upload-hugging-face/)"
   ]
  },
  {
   "cell_type": "code",
   "execution_count": 20,
   "id": "e979eaa1-4391-4fce-b359-a6540d479524",
   "metadata": {},
   "outputs": [
    {
     "name": "stdout",
     "output_type": "stream",
     "text": [
      "Waiting for model loading - this will take up to 10.0min.\n",
      "Model is pending loading to a container runtime.\n",
      "Model is attempting loading to a container runtime..........................................................incompatible\n",
      "\n",
      "ERROR!\n"
     ]
    },
    {
     "ename": "ModelConversionError",
     "evalue": "Model failed to convert: An error occured during model conversion.",
     "output_type": "error",
     "traceback": [
      "\u001b[0;31m---------------------------------------------------------------------------\u001b[0m",
      "\u001b[0;31mModelConversionError\u001b[0m                      Traceback (most recent call last)",
      "\u001b[1;32m/Users/johnhansarick/Storage/github/training/Workshops/Edge-Deployment/01-edge-llm-summarization-with-code.ipynb Cell 10\u001b[0m line \u001b[0;36m1\n\u001b[1;32m      <a href='vscode-notebook-cell:/Users/johnhansarick/Storage/github/training/Workshops/Edge-Deployment/01-edge-llm-summarization-with-code.ipynb#X12sZmlsZQ%3D%3D?line=2'>3</a>\u001b[0m input_schema \u001b[39m=\u001b[39m pa\u001b[39m.\u001b[39mschema([\n\u001b[1;32m      <a href='vscode-notebook-cell:/Users/johnhansarick/Storage/github/training/Workshops/Edge-Deployment/01-edge-llm-summarization-with-code.ipynb#X12sZmlsZQ%3D%3D?line=3'>4</a>\u001b[0m     pa\u001b[39m.\u001b[39mfield(\u001b[39m'\u001b[39m\u001b[39minputs\u001b[39m\u001b[39m'\u001b[39m, pa\u001b[39m.\u001b[39mstring()),\n\u001b[1;32m      <a href='vscode-notebook-cell:/Users/johnhansarick/Storage/github/training/Workshops/Edge-Deployment/01-edge-llm-summarization-with-code.ipynb#X12sZmlsZQ%3D%3D?line=4'>5</a>\u001b[0m     pa\u001b[39m.\u001b[39mfield(\u001b[39m'\u001b[39m\u001b[39mreturn_text\u001b[39m\u001b[39m'\u001b[39m, pa\u001b[39m.\u001b[39mbool_()),\n\u001b[0;32m   (...)\u001b[0m\n\u001b[1;32m      <a href='vscode-notebook-cell:/Users/johnhansarick/Storage/github/training/Workshops/Edge-Deployment/01-edge-llm-summarization-with-code.ipynb#X12sZmlsZQ%3D%3D?line=7'>8</a>\u001b[0m     \u001b[39m# pa.field('generate_kwargs', pa.map_(pa.string(), pa.null())), # dictionaries are not currently supported by the engine\u001b[39;00m\n\u001b[1;32m      <a href='vscode-notebook-cell:/Users/johnhansarick/Storage/github/training/Workshops/Edge-Deployment/01-edge-llm-summarization-with-code.ipynb#X12sZmlsZQ%3D%3D?line=8'>9</a>\u001b[0m ])\n\u001b[1;32m     <a href='vscode-notebook-cell:/Users/johnhansarick/Storage/github/training/Workshops/Edge-Deployment/01-edge-llm-summarization-with-code.ipynb#X12sZmlsZQ%3D%3D?line=10'>11</a>\u001b[0m output_schema \u001b[39m=\u001b[39m pa\u001b[39m.\u001b[39mschema([\n\u001b[1;32m     <a href='vscode-notebook-cell:/Users/johnhansarick/Storage/github/training/Workshops/Edge-Deployment/01-edge-llm-summarization-with-code.ipynb#X12sZmlsZQ%3D%3D?line=11'>12</a>\u001b[0m     pa\u001b[39m.\u001b[39mfield(\u001b[39m'\u001b[39m\u001b[39msummary_text\u001b[39m\u001b[39m'\u001b[39m, pa\u001b[39m.\u001b[39mstring()),\n\u001b[1;32m     <a href='vscode-notebook-cell:/Users/johnhansarick/Storage/github/training/Workshops/Edge-Deployment/01-edge-llm-summarization-with-code.ipynb#X12sZmlsZQ%3D%3D?line=12'>13</a>\u001b[0m ])\n\u001b[0;32m---> <a href='vscode-notebook-cell:/Users/johnhansarick/Storage/github/training/Workshops/Edge-Deployment/01-edge-llm-summarization-with-code.ipynb#X12sZmlsZQ%3D%3D?line=14'>15</a>\u001b[0m model \u001b[39m=\u001b[39m wl\u001b[39m.\u001b[39;49mupload_model(model_name, \n\u001b[1;32m     <a href='vscode-notebook-cell:/Users/johnhansarick/Storage/github/training/Workshops/Edge-Deployment/01-edge-llm-summarization-with-code.ipynb#X12sZmlsZQ%3D%3D?line=15'>16</a>\u001b[0m                         model_filename, \n\u001b[1;32m     <a href='vscode-notebook-cell:/Users/johnhansarick/Storage/github/training/Workshops/Edge-Deployment/01-edge-llm-summarization-with-code.ipynb#X12sZmlsZQ%3D%3D?line=16'>17</a>\u001b[0m                         framework\u001b[39m=\u001b[39;49mwallaroo\u001b[39m.\u001b[39;49mframework\u001b[39m.\u001b[39;49mFramework\u001b[39m.\u001b[39;49mHUGGING_FACE_SUMMARIZATION, \n\u001b[1;32m     <a href='vscode-notebook-cell:/Users/johnhansarick/Storage/github/training/Workshops/Edge-Deployment/01-edge-llm-summarization-with-code.ipynb#X12sZmlsZQ%3D%3D?line=17'>18</a>\u001b[0m                         input_schema\u001b[39m=\u001b[39;49minput_schema, \n\u001b[1;32m     <a href='vscode-notebook-cell:/Users/johnhansarick/Storage/github/training/Workshops/Edge-Deployment/01-edge-llm-summarization-with-code.ipynb#X12sZmlsZQ%3D%3D?line=18'>19</a>\u001b[0m                         output_schema\u001b[39m=\u001b[39;49moutput_schema\n\u001b[1;32m     <a href='vscode-notebook-cell:/Users/johnhansarick/Storage/github/training/Workshops/Edge-Deployment/01-edge-llm-summarization-with-code.ipynb#X12sZmlsZQ%3D%3D?line=19'>20</a>\u001b[0m                         )\n",
      "File \u001b[0;32m/opt/homebrew/anaconda3/envs/wallaroosdk.2023.4.0-test/lib/python3.8/site-packages/wallaroo/client.py:917\u001b[0m, in \u001b[0;36mClient.upload_model\u001b[0;34m(self, name, path, framework, input_schema, output_schema, convert_wait, arch)\u001b[0m\n\u001b[1;32m    911\u001b[0m payload[\u001b[39m\"\u001b[39m\u001b[39minput_schema\u001b[39m\u001b[39m\"\u001b[39m] \u001b[39m=\u001b[39m base64\u001b[39m.\u001b[39mb64encode(\n\u001b[1;32m    912\u001b[0m     \u001b[39mbytes\u001b[39m(input_schema\u001b[39m.\u001b[39mserialize())\n\u001b[1;32m    913\u001b[0m )\u001b[39m.\u001b[39mdecode(\u001b[39m\"\u001b[39m\u001b[39mutf8\u001b[39m\u001b[39m\"\u001b[39m)\n\u001b[1;32m    914\u001b[0m payload[\u001b[39m\"\u001b[39m\u001b[39moutput_schema\u001b[39m\u001b[39m\"\u001b[39m] \u001b[39m=\u001b[39m base64\u001b[39m.\u001b[39mb64encode(\n\u001b[1;32m    915\u001b[0m     \u001b[39mbytes\u001b[39m(output_schema\u001b[39m.\u001b[39mserialize())\n\u001b[1;32m    916\u001b[0m )\u001b[39m.\u001b[39mdecode(\u001b[39m\"\u001b[39m\u001b[39mutf8\u001b[39m\u001b[39m\"\u001b[39m)\n\u001b[0;32m--> 917\u001b[0m \u001b[39mreturn\u001b[39;00m \u001b[39mself\u001b[39;49m\u001b[39m.\u001b[39;49m_upload_model_via_models_service(\n\u001b[1;32m    918\u001b[0m     payload, (path\u001b[39m.\u001b[39;49mname, f), \u001b[39mTrue\u001b[39;49;00m, convert_wait\n\u001b[1;32m    919\u001b[0m )\n",
      "File \u001b[0;32m/opt/homebrew/anaconda3/envs/wallaroosdk.2023.4.0-test/lib/python3.8/site-packages/wallaroo/client.py:982\u001b[0m, in \u001b[0;36mClient._upload_model_via_models_service\u001b[0;34m(self, data, file_info, convert, convert_wait)\u001b[0m\n\u001b[1;32m    980\u001b[0m     \u001b[39mreturn\u001b[39;00m \u001b[39mself\u001b[39m\u001b[39m.\u001b[39m_get_configured_model_version(model)\n\u001b[1;32m    981\u001b[0m \u001b[39melse\u001b[39;00m:\n\u001b[0;32m--> 982\u001b[0m     \u001b[39mreturn\u001b[39;00m \u001b[39mself\u001b[39;49m\u001b[39m.\u001b[39;49m_wait_for_model(model)\n",
      "File \u001b[0;32m/opt/homebrew/anaconda3/envs/wallaroosdk.2023.4.0-test/lib/python3.8/site-packages/wallaroo/client.py:1017\u001b[0m, in \u001b[0;36mClient._wait_for_model\u001b[0;34m(self, model_version)\u001b[0m\n\u001b[1;32m   1015\u001b[0m     \u001b[39melif\u001b[39;00m status \u001b[39m==\u001b[39m ModelStatus\u001b[39m.\u001b[39mERROR:\n\u001b[1;32m   1016\u001b[0m         \u001b[39mprint\u001b[39m(\u001b[39m\"\u001b[39m\u001b[39mERROR!\u001b[39m\u001b[39m\"\u001b[39m)\n\u001b[0;32m-> 1017\u001b[0m         \u001b[39mraise\u001b[39;00m ModelConversionError(\n\u001b[1;32m   1018\u001b[0m             \u001b[39mf\u001b[39m\u001b[39m\"\u001b[39m\u001b[39mAn error occured during model conversion.\u001b[39m\u001b[39m\"\u001b[39m\n\u001b[1;32m   1019\u001b[0m         )\n\u001b[1;32m   1021\u001b[0m     \u001b[39mprint\u001b[39m(\u001b[39mf\u001b[39m\u001b[39m\"\u001b[39m\u001b[39mModel is \u001b[39m\u001b[39m{\u001b[39;00mmodel_status_to_string(status)\u001b[39m}\u001b[39;00m\u001b[39m\"\u001b[39m, end\u001b[39m=\u001b[39m\u001b[39m\"\u001b[39m\u001b[39m\"\u001b[39m)\n\u001b[1;32m   1023\u001b[0m \u001b[39m# marching dots\u001b[39;00m\n",
      "\u001b[0;31mModelConversionError\u001b[0m: Model failed to convert: An error occured during model conversion."
     ]
    }
   ],
   "source": [
    "# Upload Retrained LLM Summarization Model \n",
    "\n",
    "input_schema = pa.schema([\n",
    "    pa.field('inputs', pa.string()),\n",
    "    pa.field('return_text', pa.bool_()),\n",
    "    pa.field('return_tensors', pa.bool_()),\n",
    "    pa.field('clean_up_tokenization_spaces', pa.bool_()),\n",
    "    # pa.field('generate_kwargs', pa.map_(pa.string(), pa.null())), # dictionaries are not currently supported by the engine\n",
    "])\n",
    "\n",
    "output_schema = pa.schema([\n",
    "    pa.field('summary_text', pa.string()),\n",
    "])\n",
    "\n",
    "model = wl.upload_model(model_name, \n",
    "                        model_filename, \n",
    "                        framework=wallaroo.framework.Framework.HUGGING_FACE_SUMMARIZATION, \n",
    "                        input_schema=input_schema, \n",
    "                        output_schema=output_schema\n",
    "                        )"
   ]
  },
  {
   "cell_type": "markdown",
   "id": "2d643623",
   "metadata": {},
   "source": [
    "### Pipeline Deployment Configuration\n",
    "\n",
    "For our pipeline we set the deployment configuration to set the resources the pipeline will be allocated from the Kubernetes cluster hosting the Wallaroo Ops instance. The Hugging Face model is deployed as a Containerized Runtime in Wallaroo, so the configuration specified the `sidekick` cpu and memory options.\n",
    "\n",
    "* References\n",
    "  * [Wallaroo SDK Essentials Guide: Pipeline Deployment Configuration](https://docs.wallaroo.ai/wallaroo-developer-guides/wallaroo-sdk-guides/wallaroo-sdk-essentials-guide/wallaroo-sdk-essentials-pipelines/wallaroo-sdk-essentials-pipeline-deployment-config/)"
   ]
  },
  {
   "cell_type": "code",
   "execution_count": 16,
   "id": "89746b0d-80d9-418d-a127-a7a57aa3ca0a",
   "metadata": {},
   "outputs": [],
   "source": [
    "deployment_config = wallaroo.DeploymentConfigBuilder() \\\n",
    "    .cpus(0.25).memory('1Gi') \\\n",
    "    .sidekick_cpus(model, 4) \\\n",
    "    .sidekick_memory(model, \"8Gi\") \\\n",
    "    .build()"
   ]
  },
  {
   "cell_type": "markdown",
   "id": "1ac222ea",
   "metadata": {},
   "source": [
    "### Build and Deploy the Pipeline\n",
    "\n",
    "Now we build our pipeline and set our Yolo8 model as a pipeline step, then deploy the pipeline using the deployment configuration above.\n",
    "\n",
    "* References\n",
    "  * [Wallaroo SDK Essentials Guide: Pipeline Management](https://docs.wallaroo.ai/wallaroo-developer-guides/wallaroo-sdk-guides/wallaroo-sdk-essentials-guide/wallaroo-sdk-essentials-pipelines/wallaroo-sdk-essentials-pipeline/)"
   ]
  },
  {
   "cell_type": "code",
   "execution_count": 8,
   "id": "161e46c8-5162-4ddb-9b93-c0ddaab908e4",
   "metadata": {},
   "outputs": [],
   "source": [
    "pipeline = wl.build_pipeline(pipeline_name) \\\n",
    "            .add_model_step(model)        "
   ]
  },
  {
   "cell_type": "code",
   "execution_count": 9,
   "id": "3ed45709-945e-4e27-ad31-65a355d14fb0",
   "metadata": {},
   "outputs": [
    {
     "data": {
      "text/html": [
       "<table><tr><th>name</th> <td>yolo8demonstration</td></tr><tr><th>created</th> <td>2023-12-01 20:21:02.155185+00:00</td></tr><tr><th>last_updated</th> <td>2023-12-01 20:21:03.183260+00:00</td></tr><tr><th>deployed</th> <td>True</td></tr><tr><th>arch</th> <td>None</td></tr><tr><th>tags</th> <td></td></tr><tr><th>versions</th> <td>1db19303-1771-474b-a58e-f2a086de8775, b389042c-daf9-411f-ae26-a72915e6b394</td></tr><tr><th>steps</th> <td>yolov8n</td></tr><tr><th>published</th> <td>False</td></tr></table>"
      ],
      "text/plain": [
       "{'name': 'yolo8demonstration', 'create_time': datetime.datetime(2023, 12, 1, 20, 21, 2, 155185, tzinfo=tzutc()), 'definition': \"[{'ModelInference': {'models': [{'name': 'yolov8n', 'version': '0c65d297-3715-4391-8479-1e9bd797f67d', 'sha': '3ed5cd199e0e6e419bd3d474cf74f2e378aacbf586e40f24d1f8c89c2c476a08'}]}}]\"}"
      ]
     },
     "execution_count": 9,
     "metadata": {},
     "output_type": "execute_result"
    }
   ],
   "source": [
    "pipeline.deploy(deployment_config=deployment_config)"
   ]
  },
  {
   "cell_type": "markdown",
   "id": "ba758535",
   "metadata": {},
   "source": [
    "### Inference Request\n",
    "\n",
    "We submit the DataFrame to the pipeline using `wallaroo.pipeline.infer` and display the results.  We'll use both the Wallaroo SDK and the MLOps API."
   ]
  },
  {
   "cell_type": "code",
   "execution_count": 12,
   "id": "eeeda81a-5962-459f-ae38-02d19bea6ccc",
   "metadata": {},
   "outputs": [],
   "source": [
    "input_data = {\n",
    "        \"inputs\": [\"LinkedIn (/lɪŋktˈɪn/) is a business and employment-focused social media platform that works through websites and mobile apps. It launched on May 5, 2003. It is now owned by Microsoft. The platform is primarily used for professional networking and career development, and allows jobseekers to post their CVs and employers to post jobs. From 2015 most of the company's revenue came from selling access to information about its members to recruiters and sales professionals. Since December 2016, it has been a wholly owned subsidiary of Microsoft. As of March 2023, LinkedIn has more than 900 million registered members from over 200 countries and territories. LinkedIn allows members (both workers and employers) to create profiles and connect with each other in an online social network which may represent real-world professional relationships. Members can invite anyone (whether an existing member or not) to become a connection. LinkedIn can also be used to organize offline events, join groups, write articles, publish job postings, post photos and videos, and more\"], # required\n",
    "        \"return_text\": [True], # optional: using the defaults, similar to not passing this parameter\n",
    "        \"return_tensors\": [False], # optional: using the defaults, similar to not passing this parameter\n",
    "        \"clean_up_tokenization_spaces\": [False], # optional: using the defaults, similar to not passing this parameter\n",
    "}\n",
    "dataframe = pd.DataFrame(input_data)\n",
    "dataframe"
   ]
  },
  {
   "cell_type": "code",
   "execution_count": null,
   "metadata": {},
   "outputs": [],
   "source": [
    "deploy_url = pipeline._deployment._url()\n",
    "\n",
    "headers = wl.auth.auth_header()\n",
    "\n",
    "headers['Content-Type']='application/json; format=pandas-records'\n",
    "# headers['Content-Type']='application/json; format=pandas-records'\n",
    "headers['Accept']='application/json; format=pandas-records'\n"
   ]
  },
  {
   "cell_type": "code",
   "execution_count": null,
   "metadata": {},
   "outputs": [],
   "source": [
    "!curl -X POST {deploy_url} \\\n",
    "     -H \"Authorization:{headers['Authorization']}\" \\\n",
    "     -H \"Content-Type:{headers['Content-Type']}\" \\\n",
    "     -H \"Accept:{headers['Accept']}\" \\\n",
    "     --data {{ \\\n",
    "        \"inputs\": [\"LinkedIn (/lɪŋktˈɪn/) is a business and employment-focused social media platform that works through websites and mobile apps. It launched on May 5, 2003. It is now owned by Microsoft. The platform is primarily used for professional networking and career development, and allows jobseekers to post their CVs and employers to post jobs. From 2015 most of the company's revenue came from selling access to information about its members to recruiters and sales professionals. Since December 2016, it has been a wholly owned subsidiary of Microsoft. As of March 2023, LinkedIn has more than 900 million registered members from over 200 countries and territories. LinkedIn allows members (both workers and employers) to create profiles and connect with each other in an online social network which may represent real-world professional relationships. Members can invite anyone (whether an existing member or not) to become a connection. LinkedIn can also be used to organize offline events, join groups, write articles, publish job postings, post photos and videos, and more\"], # required \\\n",
    "        \"return_text\": [True], \\\n",
    "        \"return_tensors\": [False], \\\n",
    "        \"clean_up_tokenization_spaces\": [False], \\\n",
    "}}"
   ]
  },
  {
   "cell_type": "markdown",
   "metadata": {},
   "source": [
    "### Undeploy the Pipeline\n",
    "\n",
    "With the testing complete, we undeploy the pipeline and return the resources back to the cluster."
   ]
  },
  {
   "cell_type": "code",
   "execution_count": 14,
   "id": "e3996224-a76e-4be6-98cd-1ace05e5d2a0",
   "metadata": {},
   "outputs": [
    {
     "data": {
      "text/html": [
       "<table><tr><th>name</th> <td>yolo8demonstration</td></tr><tr><th>created</th> <td>2023-12-01 20:21:02.155185+00:00</td></tr><tr><th>last_updated</th> <td>2023-12-01 20:21:03.183260+00:00</td></tr><tr><th>deployed</th> <td>False</td></tr><tr><th>arch</th> <td>None</td></tr><tr><th>tags</th> <td></td></tr><tr><th>versions</th> <td>1db19303-1771-474b-a58e-f2a086de8775, b389042c-daf9-411f-ae26-a72915e6b394</td></tr><tr><th>steps</th> <td>yolov8n</td></tr><tr><th>published</th> <td>False</td></tr></table>"
      ],
      "text/plain": [
       "{'name': 'yolo8demonstration', 'create_time': datetime.datetime(2023, 12, 1, 20, 21, 2, 155185, tzinfo=tzutc()), 'definition': \"[{'ModelInference': {'models': [{'name': 'yolov8n', 'version': '0c65d297-3715-4391-8479-1e9bd797f67d', 'sha': '3ed5cd199e0e6e419bd3d474cf74f2e378aacbf586e40f24d1f8c89c2c476a08'}]}}]\"}"
      ]
     },
     "execution_count": 14,
     "metadata": {},
     "output_type": "execute_result"
    }
   ],
   "source": [
    "pipeline.undeploy()"
   ]
  },
  {
   "cell_type": "markdown",
   "id": "a95ca975",
   "metadata": {},
   "source": [
    "### Publish the Pipeline for Edge Deployment\n",
    "\n",
    "It worked! For a demo, we'll take working once as \"tested\". So now that we've tested our pipeline, we are ready to publish it for edge deployment.\n",
    "\n",
    "Publishing it means assembling all of the configuration files and model assets and pushing them to an Open Container Initiative (OCI) repository set in the Wallaroo instance as the Edge Registry service.  DevOps engineers then retrieve that image and deploy it through Docker, Kubernetes, or similar deployments.\n",
    "\n",
    "See [Edge Deployment Registry Guide](https://staging.docs.wallaroo.ai/wallaroo-operations-guide/wallaroo-configuration/wallaroo-edge-deployment/) for details on adding an OCI Registry Service to Wallaroo as the Edge Deployment Registry.\n",
    "\n",
    "This is done through the SDK command `wallaroo.pipeline.publish(deployment_config)` which has the following parameters and returns.\n",
    "\n",
    "#### Publish a Pipeline Parameters\n",
    "\n",
    "The `publish` method takes the following parameters.  The containerized pipeline will be pushed to the Edge registry service with the model, pipeline configurations, and other artifacts needed to deploy the pipeline.\n",
    "\n",
    "| Parameter | Type | Description |\n",
    "|---|---|---|\n",
    "| `deployment_config` | `wallaroo.deployment_config.DeploymentConfig` (*Optional*) | Sets the pipeline deployment configuration.  For example:    For more information on pipeline deployment configuration, see the [Wallaroo SDK Essentials Guide: Pipeline Deployment Configuration](https://docs.wallaroo.ai/wallaroo-developer-guides/wallaroo-sdk-guides/wallaroo-sdk-essentials-guide/wallaroo-sdk-essentials-pipelines/wallaroo-sdk-essentials-pipeline-deployment-config/).\n",
    "\n",
    "#### Publish a Pipeline Returns\n",
    "\n",
    "| Field | Type | Description |\n",
    "|---|---|---|\n",
    "| id | integer | Numerical Wallaroo id of the published pipeline. |\n",
    "| pipeline version id | integer | Numerical Wallaroo id of the pipeline version published. |\n",
    "| status | string | The status of the pipeline publication.  Values include:  <ul><li>PendingPublish: The pipeline publication is about to be uploaded or is in the process of being uploaded.</li><li>Published:  The pipeline is published and ready for use.</li></ul> |\n",
    "| Engine URL | string | The URL of the published pipeline engine in the edge registry. |\n",
    "| Pipeline URL | string | The URL of the published pipeline in the edge registry. |\n",
    "| Helm Chart URL | string | The URL of the helm chart for the published pipeline in the edge registry. |\n",
    "| Helm Chart Reference | string | The help chart reference. |\n",
    "| Helm Chart Version | string | The version of the Helm Chart of the published pipeline.  This is also used as the Docker tag. |\n",
    "| Engine Config | `wallaroo.deployment_config.DeploymentConfig` | The pipeline configuration included with the published pipeline. |\n",
    "| Created At | DateTime | When the published pipeline was created. |\n",
    "| Updated At | DateTime | When the published pipeline was updated. |\n",
    "\n",
    "### Publish Example\n",
    "\n",
    "We will now publish the pipeline to our Edge Deployment Registry with the `pipeline.publish(deployment_config)` command.  `deployment_config` is an optional field that specifies the pipeline deployment.  This can be overridden by the DevOps engineer during deployment."
   ]
  },
  {
   "cell_type": "code",
   "execution_count": 15,
   "id": "e5da8795",
   "metadata": {},
   "outputs": [
    {
     "name": "stdout",
     "output_type": "stream",
     "text": [
      "Waiting for pipeline publish... It may take up to 600 sec.\n",
      "Pipeline is Publishing...Published.\n"
     ]
    },
    {
     "data": {
      "text/html": [
       "\n",
       "          <table>\n",
       "              <tr><td>ID</td><td>5</td></tr>\n",
       "              <tr><td>Pipeline Version</td><td>20aa0865-fa95-46f3-8603-5ee0a6a2b804</td></tr>\n",
       "              <tr><td>Status</td><td>Published</td></tr>\n",
       "              <tr><td>Engine URL</td><td><a href='https://ghcr.io/wallaroolabs/doc-samples/engines/proxy/wallaroo/ghcr.io/wallaroolabs/standalone-mini:v2023.4.0-4103'>ghcr.io/wallaroolabs/doc-samples/engines/proxy/wallaroo/ghcr.io/wallaroolabs/standalone-mini:v2023.4.0-4103</a></td></tr>\n",
       "              <tr><td>Pipeline URL</td><td><a href='https://ghcr.io/wallaroolabs/doc-samples/pipelines/yolo8demonstration:20aa0865-fa95-46f3-8603-5ee0a6a2b804'>ghcr.io/wallaroolabs/doc-samples/pipelines/yolo8demonstration:20aa0865-fa95-46f3-8603-5ee0a6a2b804</a></td></tr>\n",
       "              <tr><td>Helm Chart URL</td><td>oci://<a href='https://ghcr.io/wallaroolabs/doc-samples/charts/yolo8demonstration'>ghcr.io/wallaroolabs/doc-samples/charts/yolo8demonstration</a></td></tr>\n",
       "              <tr><td>Helm Chart Reference</td><td>ghcr.io/wallaroolabs/doc-samples/charts@sha256:28a46664368530974131925f9d97802cf498d6cd8ea1d7b9b90a8c353b83ba34</td></tr>\n",
       "              <tr><td>Helm Chart Version</td><td>0.0.1-20aa0865-fa95-46f3-8603-5ee0a6a2b804</td></tr>\n",
       "              <tr><td>Engine Config</td><td>{'engine': {'resources': {'limits': {'cpu': 1.0, 'memory': '512Mi'}, 'requests': {'cpu': 1.0, 'memory': '512Mi'}}}, 'engineAux': {'images': {}}, 'enginelb': {'resources': {'limits': {'cpu': 1.0, 'memory': '512Mi'}, 'requests': {'cpu': 1.0, 'memory': '512Mi'}}}}</td></tr>\n",
       "              <tr><td>User Images</td><td>[]</td></tr>\n",
       "              <tr><td>Created By</td><td>john.hummel@wallaroo.ai</td></tr>\n",
       "              <tr><td>Created At</td><td>2023-12-01 20:27:45.865537+00:00</td></tr>\n",
       "              <tr><td>Updated At</td><td>2023-12-01 20:27:45.865537+00:00</td></tr>\n",
       "              <tr><td>Docker Run Variables</td><td>{}</td></tr>\n",
       "          </table>\n",
       "        "
      ],
      "text/plain": [
       "PipelinePublish(created_at=datetime.datetime(2023, 12, 1, 20, 27, 45, 865537, tzinfo=tzutc()), docker_run_variables={}, engine_config={'engine': {'resources': {'limits': {'cpu': 1.0, 'memory': '512Mi'}, 'requests': {'cpu': 1.0, 'memory': '512Mi'}}}, 'engineAux': {'images': {}}, 'enginelb': {'resources': {'limits': {'cpu': 1.0, 'memory': '512Mi'}, 'requests': {'cpu': 1.0, 'memory': '512Mi'}}}}, id=5, pipeline_version_id=38, status='Published', updated_at=datetime.datetime(2023, 12, 1, 20, 27, 45, 865537, tzinfo=tzutc()), user_images=[], created_by='12ea09d1-0f49-405e-bed1-27eb6d10fde4', engine_url='ghcr.io/wallaroolabs/doc-samples/engines/proxy/wallaroo/ghcr.io/wallaroolabs/standalone-mini:v2023.4.0-4103', error=None, helm={'reference': 'ghcr.io/wallaroolabs/doc-samples/charts@sha256:28a46664368530974131925f9d97802cf498d6cd8ea1d7b9b90a8c353b83ba34', 'values': {}, 'chart': 'ghcr.io/wallaroolabs/doc-samples/charts/yolo8demonstration', 'version': '0.0.1-20aa0865-fa95-46f3-8603-5ee0a6a2b804'}, pipeline_url='ghcr.io/wallaroolabs/doc-samples/pipelines/yolo8demonstration:20aa0865-fa95-46f3-8603-5ee0a6a2b804', pipeline_version_name='20aa0865-fa95-46f3-8603-5ee0a6a2b804', additional_properties={})"
      ]
     },
     "execution_count": 15,
     "metadata": {},
     "output_type": "execute_result"
    }
   ],
   "source": [
    "pub = pipeline.publish(deployment_config)\n",
    "pub"
   ]
  },
  {
   "cell_type": "markdown",
   "id": "abed2630",
   "metadata": {},
   "source": [
    "### List Published Pipeline\n",
    "\n",
    "The method `wallaroo.client.list_pipelines()` shows a list of all pipelines in the Wallaroo instance, and includes the `published` field that indicates whether the pipeline was published to the registry (`True`), or has not yet been published (`False`)."
   ]
  },
  {
   "cell_type": "code",
   "execution_count": 16,
   "id": "7a3319e2",
   "metadata": {},
   "outputs": [
    {
     "data": {
      "text/html": [
       "<table><tr><th>name</th><th>created</th><th>last_updated</th><th>deployed</th><th>arch</th><th>tags</th><th>versions</th><th>steps</th><th>published</th></tr><tr><td>yolo8demonstration</td><td>2023-01-Dec 20:21:02</td><td>2023-01-Dec 20:27:44</td><td>False</td><td>None</td><td></td><td>20aa0865-fa95-46f3-8603-5ee0a6a2b804, 1db19303-1771-474b-a58e-f2a086de8775, b389042c-daf9-411f-ae26-a72915e6b394</td><td>yolov8n</td><td>True</td></tr><tr><td>api-copied-pipeline-curl</td><td>2023-30-Nov 21:04:06</td><td>2023-30-Nov 21:04:06</td><td>(unknown)</td><td>None</td><td></td><td>e2def74f-2380-42d2-a1a7-98088b8fa821</td><td></td><td>False</td></tr><tr><td>api-pipeline-with-models</td><td>2023-30-Nov 18:42:05</td><td>2023-01-Dec 16:49:05</td><td>True</td><td>None</td><td></td><td>c0ce0803-ac28-4a6a-bcb8-1e7695571661, e351324e-1091-461e-b195-8574edc7a96e, 2ea87d3d-a921-4dd9-a744-05a444dba19e, 240c21aa-2935-4d58-a8af-92c9ac1e1451, 82148e63-3950-4ec4-99f7-b9a22212bfdf, 5d0326fa-6753-4252-bb56-3b2106a8c671, b862dae1-ef37-4674-895e-1777749739dd</td><td>api-sample-model</td><td>False</td></tr><tr><td>api-empty-pipeline</td><td>2023-30-Nov 18:21:20</td><td>2023-30-Nov 18:23:14</td><td>(unknown)</td><td>None</td><td></td><td>f6241f32-85a8-4ad8-9e71-da2763717811, c29a277a-10b9-48f9-a738-aafb296df8c2, 10a846f4-391e-45a1-be84-99271298b457</td><td></td><td>False</td></tr><tr><td>multi-io-example</td><td>2023-22-Nov 16:24:53</td><td>2023-22-Nov 16:26:59</td><td>False</td><td>None</td><td></td><td>2487574d-133e-4af3-91f2-31c456dbe215, 73c1b57d-3227-471a-8e9b-4a8af62188dd, c8fb97d9-50cd-475d-8f36-1d2290e4c585</td><td>onnx-multi-io-model</td><td>False</td></tr><tr><td>clip-demo</td><td>2023-20-Nov 18:57:55</td><td>2023-20-Nov 20:51:59</td><td>False</td><td>None</td><td></td><td>7a6168c2-f807-465f-a122-33fe7b5d8a3d, ff0e4846-f0f9-4fb0-bc06-d6daa21797bf</td><td>clip-vit</td><td>False</td></tr><tr><td>houseprice-estimation</td><td>2023-20-Nov 18:42:35</td><td>2023-21-Nov 17:17:30</td><td>True</td><td>None</td><td></td><td>8a02ab6e-8e45-4523-a42c-618970912d40, 1de7790e-937a-4b8d-85af-746a98ca6ad7, 2cf51c49-c009-4827-9054-bde836cb271c, 96b5ce06-582d-4c2c-b330-6c1d45eabba4</td><td>housepricesagacontrol</td><td>True</td></tr><tr><td>houseprice-estimator</td><td>2023-20-Nov 18:37:48</td><td>2023-20-Nov 18:37:49</td><td>False</td><td>None</td><td></td><td>5d8679bb-8ea6-4da7-a656-15f6f1382111, b296ae07-17f6-445c-89c1-a81ee07733ed</td><td>housepricesagacontrol</td><td>False</td></tr><tr><td>houseprice-edge-demo</td><td>2023-20-Nov 17:36:07</td><td>2023-20-Nov 18:36:24</td><td>False</td><td>None</td><td></td><td>a9b3a7fc-4a4c-472a-8b54-6b077365079f, 5a791514-9df5-465b-85f9-02cb767d1e87, b3e96c17-6bec-4f3b-8021-5cd509b176ce, 00fce650-b3c4-45c7-9389-facc54e35b63, 3514479c-0395-4c38-8384-9d2ef682bc26, 1800034b-1c5b-4fb5-a08e-936e7220b3cd, b3351906-617a-44fb-ac8a-63c23389f566</td><td>housepricesagacontrol</td><td>True</td></tr><tr><td>housepricesagapipeline</td><td>2023-20-Nov 16:09:37</td><td>2023-20-Nov 16:28:44</td><td>False</td><td>None</td><td></td><td>5c0922f0-7ea7-4cd2-93f3-a22016d93d3b, d341d7ad-1f1a-4ff5-818f-f28fdb60d4db, 8c23c383-2a90-4dcf-a440-a88b059e6ca6</td><td>housepricesagacontrol</td><td>True</td></tr><tr><td>mobilenetpipeline</td><td>2023-20-Nov 16:05:51</td><td>2023-20-Nov 16:08:12</td><td>False</td><td>None</td><td></td><td>1c2e4298-5c45-4f1c-885d-9b33b56eba5c, d6540df9-9516-4162-9ed8-0ad48862914b, cd1d7981-5ca2-4ee0-9267-6fd63d400d34</td><td>mobilenet</td><td>False</td></tr></table>"
      ],
      "text/plain": [
       "[{'name': 'yolo8demonstration', 'create_time': datetime.datetime(2023, 12, 1, 20, 21, 2, 155185, tzinfo=tzutc()), 'definition': '[]'},\n",
       " {'name': 'api-copied-pipeline-curl', 'create_time': datetime.datetime(2023, 11, 30, 21, 4, 6, 128408, tzinfo=tzutc()), 'definition': '[]'},\n",
       " {'name': 'api-pipeline-with-models', 'create_time': datetime.datetime(2023, 11, 30, 18, 42, 5, 800410, tzinfo=tzutc()), 'definition': '[]'},\n",
       " {'name': 'api-empty-pipeline', 'create_time': datetime.datetime(2023, 11, 30, 18, 21, 20, 790920, tzinfo=tzutc()), 'definition': '[]'},\n",
       " {'name': 'multi-io-example', 'create_time': datetime.datetime(2023, 11, 22, 16, 24, 53, 843958, tzinfo=tzutc()), 'definition': '[]'},\n",
       " {'name': 'clip-demo', 'create_time': datetime.datetime(2023, 11, 20, 18, 57, 55, 550690, tzinfo=tzutc()), 'definition': '[]'},\n",
       " {'name': 'houseprice-estimation', 'create_time': datetime.datetime(2023, 11, 20, 18, 42, 35, 686701, tzinfo=tzutc()), 'definition': '[]'},\n",
       " {'name': 'houseprice-estimator', 'create_time': datetime.datetime(2023, 11, 20, 18, 37, 48, 919405, tzinfo=tzutc()), 'definition': '[]'},\n",
       " {'name': 'houseprice-edge-demo', 'create_time': datetime.datetime(2023, 11, 20, 17, 36, 7, 529792, tzinfo=tzutc()), 'definition': '[]'},\n",
       " {'name': 'housepricesagapipeline', 'create_time': datetime.datetime(2023, 11, 20, 16, 9, 37, 476840, tzinfo=tzutc()), 'definition': '[]'},\n",
       " {'name': 'mobilenetpipeline', 'create_time': datetime.datetime(2023, 11, 20, 16, 5, 51, 88134, tzinfo=tzutc()), 'definition': '[]'}]"
      ]
     },
     "execution_count": 16,
     "metadata": {},
     "output_type": "execute_result"
    }
   ],
   "source": [
    "wl.list_pipelines()"
   ]
  },
  {
   "cell_type": "markdown",
   "id": "177d9835",
   "metadata": {},
   "source": [
    "### List Publishes from a Pipeline\n",
    "\n",
    "All publishes created from a pipeline are displayed with the `wallaroo.pipeline.publishes` method.  The `pipeline_version_id` is used to know what version of the pipeline was used in that specific publish.  This allows for pipelines to be updated over time, and newer versions to be sent and tracked to the Edge Deployment Registry service.\n",
    "\n",
    "#### List Publishes Parameters\n",
    "\n",
    "N/A\n",
    "\n",
    "#### List Publishes Returns\n",
    "\n",
    "A List of the following fields:\n",
    "\n",
    "| Field | Type | Description |\n",
    "|---|---|---|\n",
    "| id | integer | Numerical Wallaroo id of the published pipeline. |\n",
    "| pipeline_version_id | integer | Numerical Wallaroo id of the pipeline version published. |\n",
    "| engine_url | string | The URL of the published pipeline engine in the edge registry. |\n",
    "| pipeline_url | string | The URL of the published pipeline in the edge registry. |\n",
    "| created_by | string | The email address of the user that published the pipeline.\n",
    "| Created At | DateTime | When the published pipeline was created. |\n",
    "| Updated At | DateTime | When the published pipeline was updated. |"
   ]
  },
  {
   "cell_type": "code",
   "execution_count": 35,
   "id": "2a5c0f53",
   "metadata": {},
   "outputs": [
    {
     "data": {
      "text/html": [
       "<table><tr><th>id</th><th>pipeline_version_name</th><th>engine_url</th><th>pipeline_url</th><th>created_by</th><th>created_at</th><th>updated_at</th></tr><tr><td>5</td><td>20aa0865-fa95-46f3-8603-5ee0a6a2b804</td><td><a href='https://ghcr.io/wallaroolabs/doc-samples/engines/proxy/wallaroo/ghcr.io/wallaroolabs/standalone-mini:v2023.4.0-4103'>ghcr.io/wallaroolabs/doc-samples/engines/proxy/wallaroo/ghcr.io/wallaroolabs/standalone-mini:v2023.4.0-4103</a></td><td><a href='https://ghcr.io/wallaroolabs/doc-samples/pipelines/yolo8demonstration:20aa0865-fa95-46f3-8603-5ee0a6a2b804'>ghcr.io/wallaroolabs/doc-samples/pipelines/yolo8demonstration:20aa0865-fa95-46f3-8603-5ee0a6a2b804</a></td><td>john.hummel@wallaroo.ai</td><td>2023-01-Dec 20:27:45</td><td>2023-01-Dec 20:27:45</td></tr></table>"
      ],
      "text/plain": [
       "[PipelinePublish(created_at=datetime.datetime(2023, 12, 1, 20, 27, 45, 865537, tzinfo=tzutc()), docker_run_variables={}, engine_config={'engine': {'resources': {'limits': {'cpu': 1.0, 'memory': '512Mi'}, 'requests': {'cpu': 1.0, 'memory': '512Mi'}}}, 'enginelb': {'resources': {'limits': {'cpu': 1.0, 'memory': '512Mi'}, 'requests': {'cpu': 1.0, 'memory': '512Mi'}}}, 'engineAux': {'images': {}}}, id=5, pipeline_version_id=38, status='Published', updated_at=datetime.datetime(2023, 12, 1, 20, 27, 45, 865537, tzinfo=tzutc()), user_images=[], created_by='12ea09d1-0f49-405e-bed1-27eb6d10fde4', engine_url='ghcr.io/wallaroolabs/doc-samples/engines/proxy/wallaroo/ghcr.io/wallaroolabs/standalone-mini:v2023.4.0-4103', error=None, helm={'reference': 'ghcr.io/wallaroolabs/doc-samples/charts@sha256:28a46664368530974131925f9d97802cf498d6cd8ea1d7b9b90a8c353b83ba34', 'chart': 'ghcr.io/wallaroolabs/doc-samples/charts/yolo8demonstration', 'version': '0.0.1-20aa0865-fa95-46f3-8603-5ee0a6a2b804', 'values': {}}, pipeline_url='ghcr.io/wallaroolabs/doc-samples/pipelines/yolo8demonstration:20aa0865-fa95-46f3-8603-5ee0a6a2b804', pipeline_version_name='20aa0865-fa95-46f3-8603-5ee0a6a2b804', additional_properties={})]"
      ]
     },
     "execution_count": 35,
     "metadata": {},
     "output_type": "execute_result"
    }
   ],
   "source": [
    "pipeline.publishes()"
   ]
  },
  {
   "cell_type": "markdown",
   "metadata": {},
   "source": [
    "### Add Edge Location\n",
    "\n",
    "With the pipeline publish created, we can add an Edge Location.  This allows the edge deployment to upload its inference results back to the Wallaroo Ops location, which are then added to the pipeline the publish originated from.  These are added to the pipeline logs `partition` metadata.\n",
    "\n",
    "First we'll retrieve the pipeline logs for our current pipeline, and show the current pipeline logs metadata."
   ]
  },
  {
   "cell_type": "code",
   "execution_count": 26,
   "metadata": {},
   "outputs": [
    {
     "name": "stderr",
     "output_type": "stream",
     "text": [
      "Warning: The inference log is above the allowable limit and the following columns may have been suppressed for various rows in the logs: ['in.images']. To review the dropped columns for an individual inference’s suppressed data, include dataset=[\"metadata\"] in the log request.\n",
      "Warning: Pipeline log size limit exceeded. Please request logs using export_logs"
     ]
    },
    {
     "data": {
      "text/html": [
       "<div>\n",
       "<style scoped>\n",
       "    .dataframe tbody tr th:only-of-type {\n",
       "        vertical-align: middle;\n",
       "    }\n",
       "\n",
       "    .dataframe tbody tr th {\n",
       "        vertical-align: top;\n",
       "    }\n",
       "\n",
       "    .dataframe thead th {\n",
       "        text-align: right;\n",
       "    }\n",
       "</style>\n",
       "<table border=\"1\" class=\"dataframe\">\n",
       "  <thead>\n",
       "    <tr style=\"text-align: right;\">\n",
       "      <th></th>\n",
       "      <th>time</th>\n",
       "      <th>metadata.partition</th>\n",
       "    </tr>\n",
       "  </thead>\n",
       "  <tbody>\n",
       "    <tr>\n",
       "      <th>0</th>\n",
       "      <td>2023-12-01 20:25:53.267</td>\n",
       "      <td>engine-fbf4996b9-v2cwt</td>\n",
       "    </tr>\n",
       "  </tbody>\n",
       "</table>\n",
       "</div>"
      ],
      "text/plain": [
       "                     time      metadata.partition\n",
       "0 2023-12-01 20:25:53.267  engine-fbf4996b9-v2cwt"
      ]
     },
     "metadata": {},
     "output_type": "display_data"
    }
   ],
   "source": [
    "logs = pipeline.logs(dataset=['time', 'out.output0', 'metadata'])\n",
    "display(logs.loc[:, ['time', 'metadata.partition']])"
   ]
  },
  {
   "cell_type": "markdown",
   "metadata": {},
   "source": [
    "Now we'll add the edge location we'll deploy with the `wallaroo.???`\n",
    "\n",
    "For the edge name, set it to `firstname-lastname-edge-yolo`."
   ]
  },
  {
   "cell_type": "code",
   "execution_count": 46,
   "metadata": {},
   "outputs": [
    {
     "data": {
      "text/html": [
       "\n",
       "          <table>\n",
       "              <tr><td>ID</td><td>5</td></tr>\n",
       "              <tr><td>Pipeline Version</td><td>20aa0865-fa95-46f3-8603-5ee0a6a2b804</td></tr>\n",
       "              <tr><td>Status</td><td>Published</td></tr>\n",
       "              <tr><td>Engine URL</td><td><a href='https://ghcr.io/wallaroolabs/doc-samples/engines/proxy/wallaroo/ghcr.io/wallaroolabs/standalone-mini:v2023.4.0-4103'>ghcr.io/wallaroolabs/doc-samples/engines/proxy/wallaroo/ghcr.io/wallaroolabs/standalone-mini:v2023.4.0-4103</a></td></tr>\n",
       "              <tr><td>Pipeline URL</td><td><a href='https://ghcr.io/wallaroolabs/doc-samples/pipelines/yolo8demonstration:20aa0865-fa95-46f3-8603-5ee0a6a2b804'>ghcr.io/wallaroolabs/doc-samples/pipelines/yolo8demonstration:20aa0865-fa95-46f3-8603-5ee0a6a2b804</a></td></tr>\n",
       "              <tr><td>Helm Chart URL</td><td>oci://<a href='https://ghcr.io/wallaroolabs/doc-samples/charts/yolo8demonstration'>ghcr.io/wallaroolabs/doc-samples/charts/yolo8demonstration</a></td></tr>\n",
       "              <tr><td>Helm Chart Reference</td><td>ghcr.io/wallaroolabs/doc-samples/charts@sha256:28a46664368530974131925f9d97802cf498d6cd8ea1d7b9b90a8c353b83ba34</td></tr>\n",
       "              <tr><td>Helm Chart Version</td><td>0.0.1-20aa0865-fa95-46f3-8603-5ee0a6a2b804</td></tr>\n",
       "              <tr><td>Engine Config</td><td>{'engine': {'resources': {'limits': {'cpu': 1.0, 'memory': '512Mi'}, 'requests': {'cpu': 1.0, 'memory': '512Mi'}}}, 'engineAux': {'images': {}}, 'enginelb': {'resources': {'limits': {'cpu': 1.0, 'memory': '512Mi'}, 'requests': {'cpu': 1.0, 'memory': '512Mi'}}}}</td></tr>\n",
       "              <tr><td>User Images</td><td>[]</td></tr>\n",
       "              <tr><td>Created By</td><td>john.hummel@wallaroo.ai</td></tr>\n",
       "              <tr><td>Created At</td><td>2023-12-01 20:27:45.865537+00:00</td></tr>\n",
       "              <tr><td>Updated At</td><td>2023-12-01 20:27:45.865537+00:00</td></tr>\n",
       "              <tr><td>Docker Run Variables</td><td>{'EDGE_BUNDLE': 'ZXhwb3J0IEJVTkRMRV9WRVJTSU9OPTEKZXhwb3J0IEVER0VfTkFNRT15b2xvLWVkZ2UtZGVtbwpleHBvcnQgSk9JTl9UT0tFTj0xMjM2NWRjMC1lYWEzLTQ3ZTEtOTA3Yi0zNzVjYzRmM2Q0NDkKZXhwb3J0IE9QU0NFTlRFUl9IT1NUPWRvYy10ZXN0LmVkZ2Uud2FsbGFyb29jb21tdW5pdHkubmluamEKZXhwb3J0IFBJUEVMSU5FX1VSTD1naGNyLmlvL3dhbGxhcm9vbGFicy9kb2Mtc2FtcGxlcy9waXBlbGluZXMveW9sbzhkZW1vbnN0cmF0aW9uOjIwYWEwODY1LWZhOTUtNDZmMy04NjAzLTVlZTBhNmEyYjgwNApleHBvcnQgV09SS1NQQUNFX0lEPTEz'}</td></tr>\n",
       "          </table>\n",
       "        "
      ],
      "text/plain": [
       "PipelinePublish(created_at=datetime.datetime(2023, 12, 1, 20, 27, 45, 865537, tzinfo=tzutc()), docker_run_variables={'EDGE_BUNDLE': 'ZXhwb3J0IEJVTkRMRV9WRVJTSU9OPTEKZXhwb3J0IEVER0VfTkFNRT15b2xvLWVkZ2UtZGVtbwpleHBvcnQgSk9JTl9UT0tFTj0xMjM2NWRjMC1lYWEzLTQ3ZTEtOTA3Yi0zNzVjYzRmM2Q0NDkKZXhwb3J0IE9QU0NFTlRFUl9IT1NUPWRvYy10ZXN0LmVkZ2Uud2FsbGFyb29jb21tdW5pdHkubmluamEKZXhwb3J0IFBJUEVMSU5FX1VSTD1naGNyLmlvL3dhbGxhcm9vbGFicy9kb2Mtc2FtcGxlcy9waXBlbGluZXMveW9sbzhkZW1vbnN0cmF0aW9uOjIwYWEwODY1LWZhOTUtNDZmMy04NjAzLTVlZTBhNmEyYjgwNApleHBvcnQgV09SS1NQQUNFX0lEPTEz'}, engine_config={'engine': {'resources': {'limits': {'cpu': 1.0, 'memory': '512Mi'}, 'requests': {'cpu': 1.0, 'memory': '512Mi'}}}, 'engineAux': {'images': {}}, 'enginelb': {'resources': {'limits': {'cpu': 1.0, 'memory': '512Mi'}, 'requests': {'cpu': 1.0, 'memory': '512Mi'}}}}, id=5, pipeline_version_id=38, status='Published', updated_at=datetime.datetime(2023, 12, 1, 20, 27, 45, 865537, tzinfo=tzutc()), user_images=[], created_by='12ea09d1-0f49-405e-bed1-27eb6d10fde4', engine_url='ghcr.io/wallaroolabs/doc-samples/engines/proxy/wallaroo/ghcr.io/wallaroolabs/standalone-mini:v2023.4.0-4103', error=None, helm={'reference': 'ghcr.io/wallaroolabs/doc-samples/charts@sha256:28a46664368530974131925f9d97802cf498d6cd8ea1d7b9b90a8c353b83ba34', 'values': {'edgeBundle': 'ZXhwb3J0IEJVTkRMRV9WRVJTSU9OPTEKZXhwb3J0IEVER0VfTkFNRT15b2xvLWVkZ2UtZGVtbwpleHBvcnQgSk9JTl9UT0tFTj0xMjM2NWRjMC1lYWEzLTQ3ZTEtOTA3Yi0zNzVjYzRmM2Q0NDkKZXhwb3J0IE9QU0NFTlRFUl9IT1NUPWRvYy10ZXN0LmVkZ2Uud2FsbGFyb29jb21tdW5pdHkubmluamEKZXhwb3J0IFBJUEVMSU5FX1VSTD1naGNyLmlvL3dhbGxhcm9vbGFicy9kb2Mtc2FtcGxlcy9waXBlbGluZXMveW9sbzhkZW1vbnN0cmF0aW9uOjIwYWEwODY1LWZhOTUtNDZmMy04NjAzLTVlZTBhNmEyYjgwNApleHBvcnQgV09SS1NQQUNFX0lEPTEz'}, 'chart': 'ghcr.io/wallaroolabs/doc-samples/charts/yolo8demonstration', 'version': '0.0.1-20aa0865-fa95-46f3-8603-5ee0a6a2b804'}, pipeline_url='ghcr.io/wallaroolabs/doc-samples/pipelines/yolo8demonstration:20aa0865-fa95-46f3-8603-5ee0a6a2b804', pipeline_version_name='20aa0865-fa95-46f3-8603-5ee0a6a2b804', additional_properties={})"
      ]
     },
     "metadata": {},
     "output_type": "display_data"
    }
   ],
   "source": [
    "edge_name = 'yolo-edge-demo'\n",
    "\n",
    "edge_publish = pub.add_edge(edge_name)\n",
    "display(edge_publish)"
   ]
  },
  {
   "cell_type": "markdown",
   "id": "987fbe62",
   "metadata": {},
   "source": [
    "## DevOps - Pipeline Edge Deployment\n",
    "\n",
    "Once a pipeline is deployed to the Edge Registry service, it can be deployed in environments such as Docker, Kubernetes, or similar container running services by a DevOps engineer.\n",
    "\n",
    "### Docker Deployment\n",
    "\n",
    "First, the DevOps engineer must authenticate to the same OCI Registry service used for the Wallaroo Edge Deployment registry.\n",
    "\n",
    "For more details, check with the documentation on your artifact service.  The following are provided for the three major cloud services:\n",
    "\n",
    "* [Set up authentication for Docker](https://cloud.google.com/artifact-registry/docs/docker/authentication)\n",
    "* [Authenticate with an Azure container registry](https://learn.microsoft.com/en-us/azure/container-registry/container-registry-authentication?tabs=azure-cli)\n",
    "* [Authenticating Amazon ECR Repositories for Docker CLI with Credential Helper](https://aws.amazon.com/blogs/compute/authenticating-amazon-ecr-repositories-for-docker-cli-with-credential-helper/)\n",
    "\n",
    "For the deployment, the engine URL is specified with the following environmental variables:\n",
    "\n",
    "* `DEBUG` (true|false): Whether to include debug output.\n",
    "* `OCI_REGISTRY`: The URL of the registry service.\n",
    "* `CONFIG_CPUS`: The number of CPUs to use.\n",
    "* `OCI_USERNAME`: The edge registry username.\n",
    "* `OCI_PASSWORD`:  The edge registry password or token.\n",
    "* `PIPELINE_URL`: The published pipeline URL.\n",
    "\n",
    "#### Docker Deployment Example\n",
    "\n",
    "Using our sample environment, here's sample deployment using Docker with a computer vision ML model, the same used in the [Wallaroo Use Case Tutorials Computer Vision: Retail](https://docs.wallaroo.ai/wallaroo-use-case-tutorials/wallaroo-use-case-computer-vision/use-case-computer-vision-retail/) tutorials.\n",
    "\n",
    "Note the use of the `-v ./data:/persist` option.  This will store the one time authentication token stored in the `EDGE_BUNDLE`\n",
    "\n",
    "```bash\n",
    "mkdir ./data\n",
    "\n",
    "docker run -p 8080:8080 \\\n",
    "    -v ./data:/persist \\\n",
    "    -e DEBUG=true -e OCI_REGISTRY={your registry server} \\\n",
    "    -e EDGE_BUNDLE={edge_publish.docker_run_variables['EDGE_BUNDLE']} \\\n",
    "    -e CONFIG_CPUS=4 \\\n",
    "    -e OCI_USERNAME=oauth2accesstoken \\\n",
    "    -e OCI_PASSWORD={registry token here} \\\n",
    "    -e PIPELINE_URL={your registry server}/pipelines/yolo8demonstration:bf70eaf7-8c11-4b46-b751-916a43b1a555 \\\n",
    "    {your registry server}/engine:v2023.3.0-main-3707\n",
    "```\n",
    "\n",
    "### Docker Compose Deployment\n",
    "\n",
    "For users who prefer to use `docker compose`, the following sample `compose.yaml` file is used to launch the Wallaroo Edge pipeline.  This is the same used in the [Wallaroo Use Case Tutorials Computer Vision: Retail](https://docs.wallaroo.ai/wallaroo-use-case-tutorials/wallaroo-use-case-computer-vision/use-case-computer-vision-retail/) tutorials.\n",
    "\n",
    "The `volumes` settings allows for persistent volumes to store the session information.  Without it, the one-time authentication token included in the `EDGE_BUNDLE` settings would have to be regenerated.\n",
    "\n",
    "```yml\n",
    "services:\n",
    "  engine:\n",
    "    image: {Your Engine URL}\n",
    "    volumes:\n",
    "      - ./data:/persist\n",
    "    ports:\n",
    "      - 8080:8080\n",
    "    environment:\n",
    "      EDGE_BUNDLE: abcdefg\n",
    "      PIPELINE_URL: {Your Pipeline URL}\n",
    "      OCI_REGISTRY: {Your Edge Registry URL}\n",
    "      OCI_USERNAME:  {Your Registry Username}\n",
    "      OCI_PASSWORD: {Your Token or Password}\n",
    "      CONFIG_CPUS: 4\n",
    "```\n",
    "\n",
    "For example:\n",
    "\n",
    "```yml\n",
    "services:\n",
    "  engine:\n",
    "    image: sample-registry.com/engine:v2023.3.0-main-3707\n",
    "    ports:\n",
    "      - 8080:8080\n",
    "    environment:\n",
    "      PIPELINE_URL: sample-registry.com/pipelines/yolo8demonstration:bf70eaf7-8c11-4b46-b751-916a43b1a555\n",
    "      OCI_REGISTRY: sample-registry.com\n",
    "      OCI_USERNAME:  _json_key_base64\n",
    "      OCI_PASSWORD: abc123\n",
    "      CONFIG_CPUS: 4\n",
    "```\n",
    "\n",
    "#### Docker Compose Deployment Example\n",
    "\n",
    "The deployment and undeployment is then just a simple `docker compose up` and `docker compose down`.  The following shows an example of deploying the Wallaroo edge pipeline using `docker compose`.\n",
    "\n",
    "```bash\n",
    "docker compose up\n",
    "[+] Running 1/1\n",
    " ✔ Container yolo8demonstration-engine-1  Recreated                                                                                                                                                                 0.5s\n",
    "Attaching to yolo8demonstration-engine-1\n",
    "yolo8demonstration-engine-1  | Wallaroo Engine - Standalone mode\n",
    "yolo8demonstration-engine-1  | Login Succeeded\n",
    "yolo8demonstration-engine-1  | Fetching manifest and config for pipeline: sample-registry.com/pipelines/yolo8demonstration:bf70eaf7-8c11-4b46-b751-916a43b1a555\n",
    "yolo8demonstration-engine-1  | Fetching model layers\n",
    "yolo8demonstration-engine-1  | digest: sha256:c6c8869645962e7711132a7e17aced2ac0f60dcdc2c7faa79b2de73847a87984\n",
    "yolo8demonstration-engine-1  |   filename: c6c8869645962e7711132a7e17aced2ac0f60dcdc2c7faa79b2de73847a87984\n",
    "yolo8demonstration-engine-1  |   name: yolov8n\n",
    "yolo8demonstration-engine-1  |   type: model\n",
    "yolo8demonstration-engine-1  |   runtime: onnx\n",
    "yolo8demonstration-engine-1  |   version: 693e19b5-0dc7-4afb-9922-e3f7feefe66d\n",
    "yolo8demonstration-engine-1  |\n",
    "yolo8demonstration-engine-1  | Fetched\n",
    "yolo8demonstration-engine-1  | Starting engine\n",
    "yolo8demonstration-engine-1  | Looking for preexisting `yaml` files in //modelconfigs\n",
    "yolo8demonstration-engine-1  | Looking for preexisting `yaml` files in //pipelines\n",
    "```\n",
    "\n",
    "### Helm Deployment\n",
    "\n",
    "Published pipelines can be deployed through the use of helm charts.\n",
    "\n",
    "Helm deployments take up to two steps - the first step is in retrieving the required `values.yaml` and making updates to override.\n",
    "\n",
    "Kubernetes provides persistent volume support, so no settings are required.\n",
    "\n",
    "1. Pull the helm charts from the published pipeline.  The two fields are the Helm Chart URL and the Helm Chart version to specify the OCI .    This typically takes the format of:\n",
    "\n",
    "  ```bash\n",
    "  helm pull oci://{published.helm_chart_url} --version {published.helm_chart_version}\n",
    "  ```\n",
    "\n",
    "1. Extract the `tgz` file and copy the `values.yaml` and copy the values used to edit engine allocations, etc.  The following are **required** for the deployment to run:\n",
    "\n",
    "  ```yml\n",
    "  ociRegistry:\n",
    "    registry: {your registry service}\n",
    "    username:  {registry username here}\n",
    "    password: {registry token here}\n",
    "  ```\n",
    "\n",
    "  Store this into another file, suc as `local-values.yaml`.\n",
    "\n",
    "1. Create the namespace to deploy the pipeline to.  For example, the namespace `wallaroo-edge-pipeline` would be:\n",
    "\n",
    "  ```bash\n",
    "  kubectl create -n wallaroo-edge-pipeline\n",
    "  ```\n",
    "\n",
    "1. Deploy the `helm` installation with `helm install` through one of the following options:\n",
    "    1. Specify the `tgz` file that was downloaded and the local values file.  For example:\n",
    "\n",
    "        ```bash\n",
    "        helm install --namespace {namespace} --values {local values file} {helm install name} {tgz path}\n",
    "        ```\n",
    "\n",
    "    1. Specify the expended directory from the downloaded `tgz` file.\n",
    "\n",
    "        ```bash\n",
    "        helm install --namespace {namespace} --values {local values file} {helm install name} {helm directory path}\n",
    "        ```\n",
    "\n",
    "    1. Specify the Helm Pipeline Helm Chart and the Pipeline Helm Version.\n",
    "\n",
    "        ```bash\n",
    "        helm install --namespace {namespace} --values {local values file} {helm install name} oci://{published.helm_chart_url} --version {published.helm_chart_version}\n",
    "        ```\n",
    "\n",
    "1. Once deployed, the DevOps engineer will have to forward the appropriate ports to the `svc/engine-svc` service in the specific pipeline.  For example, using `kubectl port-forward` to the namespace `ccfraud` that would be:\n",
    "\n",
    "    ```bash\n",
    "    kubectl port-forward svc/engine-svc -n ccfraud01 8080 --address 0.0.0.0`\n",
    "    ```\n",
    "\n",
    "The following code segment generates a `docker run` template based on the previously published pipeline.  Replace the `$REGISTRYURL`, `$REGISTRYUSERNAME`, and `$REGISTRYPASSWORD` to match the OCI Registry being used."
   ]
  },
  {
   "cell_type": "code",
   "execution_count": 48,
   "id": "27e4d133",
   "metadata": {},
   "outputs": [
    {
     "name": "stdout",
     "output_type": "stream",
     "text": [
      "\n",
      "mkdir ./data && docker run -p 8080:8080 \\\n",
      "    -v ./data:/persist \\\n",
      "    -e DEBUG=true \\\n",
      "    -e OCI_REGISTRY=$REGISTRYURL \\\n",
      "    -e EDGE_BUNDLE=ZXhwb3J0IEJVTkRMRV9WRVJTSU9OPTEKZXhwb3J0IEVER0VfTkFNRT15b2xvLWVkZ2UtZGVtbwpleHBvcnQgSk9JTl9UT0tFTj0xMjM2NWRjMC1lYWEzLTQ3ZTEtOTA3Yi0zNzVjYzRmM2Q0NDkKZXhwb3J0IE9QU0NFTlRFUl9IT1NUPWRvYy10ZXN0LmVkZ2Uud2FsbGFyb29jb21tdW5pdHkubmluamEKZXhwb3J0IFBJUEVMSU5FX1VSTD1naGNyLmlvL3dhbGxhcm9vbGFicy9kb2Mtc2FtcGxlcy9waXBlbGluZXMveW9sbzhkZW1vbnN0cmF0aW9uOjIwYWEwODY1LWZhOTUtNDZmMy04NjAzLTVlZTBhNmEyYjgwNApleHBvcnQgV09SS1NQQUNFX0lEPTEz \\\n",
      "    -e CONFIG_CPUS=1 \\\n",
      "    -e OCI_USERNAME=$REGISTRYUSERNAME \\\n",
      "    -e OCI_PASSWORD=$REGISTRYPASSWORD \\\n",
      "    -e PIPELINE_URL=ghcr.io/wallaroolabs/doc-samples/pipelines/yolo8demonstration:20aa0865-fa95-46f3-8603-5ee0a6a2b804 \\\n",
      "    ghcr.io/wallaroolabs/doc-samples/engines/proxy/wallaroo/ghcr.io/wallaroolabs/standalone-mini:v2023.4.0-4103\n",
      "\n"
     ]
    }
   ],
   "source": [
    "docker_deploy = f'''\n",
    "mkdir ./data && \\\n",
    "docker run -p 8080:8080 \\\\\n",
    "    -v ./data:/persist \\\\\n",
    "    -e DEBUG=true \\\\\n",
    "    -e OCI_REGISTRY=$REGISTRYURL \\\\\n",
    "    -e EDGE_BUNDLE={edge_publish.docker_run_variables['EDGE_BUNDLE']} \\\\\n",
    "    -e CONFIG_CPUS=1 \\\\\n",
    "    -e OCI_USERNAME=$REGISTRYUSERNAME \\\\\n",
    "    -e OCI_PASSWORD=$REGISTRYPASSWORD \\\\\n",
    "    -e PIPELINE_URL={edge_publish.pipeline_url} \\\\\n",
    "    {edge_publish.engine_url}\n",
    "'''\n",
    "\n",
    "print(docker_deploy)"
   ]
  },
  {
   "cell_type": "markdown",
   "id": "7f49b3f1",
   "metadata": {},
   "source": [
    "## Edge Deployed Pipeline API Endpoints\n",
    "\n",
    "Once deployed, we can check the pipelines and models available.  We'll use a `curl` command, but any HTTP based request will work the same way.\n",
    "\n",
    "The endpoint `/pipelines` returns:\n",
    "\n",
    "* **id** (*String*):  The name of the pipeline.\n",
    "* **status** (*String*):  The status as either `Running`, or `Error` if there are any issues.\n",
    "\n",
    "```bash\n",
    "curl localhost:8080/pipelines\n",
    "{\"pipelines\":[{\"id\":\"yolo8demonstration\",\"status\":\"Running\"}]}\n",
    "```\n",
    "\n",
    "The following example uses the host `localhost`.  Replace with your own host name of your Edge deployed pipeline."
   ]
  },
  {
   "cell_type": "code",
   "execution_count": 51,
   "id": "b9aac0fd",
   "metadata": {},
   "outputs": [
    {
     "name": "stdout",
     "output_type": "stream",
     "text": [
      "{\"pipelines\":[{\"id\":\"yolo8demonstration\",\"status\":\"Running\"}]}"
     ]
    }
   ],
   "source": [
    "!curl testboy.local:8080/pipelines"
   ]
  },
  {
   "cell_type": "markdown",
   "id": "9a236c21",
   "metadata": {},
   "source": [
    "The endpoint `/models` returns a List of models with the following fields:\n",
    "\n",
    "* **name** (*String*): The model name.\n",
    "* **sha** (*String*): The sha hash value of the ML model.\n",
    "* **status** (*String*):  The status of either Running or Error if there are any issues.\n",
    "* **version** (*String*):  The model version.  This matches the version designation used by Wallaroo to track model versions in UUID format.\n",
    "\n",
    "```bash\n",
    "{\"models\":[{\"name\":\"yolov8n\",\"sha\":\"3ed5cd199e0e6e419bd3d474cf74f2e378aacbf586e40f24d1f8c89c2c476a08\",\"status\":\"Running\",\"version\":\"7af40d06-d18f-4b3f-9dd3-0a15248f01c8\"}]}\n",
    "```\n",
    "\n",
    "The following example uses the host `localhost`.  Replace with your own host name of your Edge deployed pipeline."
   ]
  },
  {
   "cell_type": "code",
   "execution_count": 52,
   "id": "520f612d",
   "metadata": {},
   "outputs": [
    {
     "name": "stdout",
     "output_type": "stream",
     "text": [
      "curl: (7) Failed to connect to localhost port 8080 after 2 ms: Couldn't connect to server\n"
     ]
    }
   ],
   "source": [
    "!curl localhost:8080/models"
   ]
  },
  {
   "cell_type": "markdown",
   "id": "9315ef4d",
   "metadata": {},
   "source": [
    "### Edge Inference Endpoint\n",
    "\n",
    "The inference endpoint takes the following pattern:\n",
    "\n",
    "* `/pipelines/{pipeline-name}`:  The `pipeline-name` is the same as returned from the [`/pipelines`](#list-pipelines) endpoint as `id`.\n",
    "\n",
    "Wallaroo inference endpoint URLs accept the following data inputs through the `Content-Type` header:\n",
    "\n",
    "* `Content-Type: application/vnd.apache.arrow.file`: For Apache Arrow tables.\n",
    "* `Content-Type: application/json; format=pandas-records`: For pandas DataFrame in record format.\n",
    "\n",
    "Once deployed, we can perform an inference through the deployment URL.\n",
    "\n",
    "The endpoint returns `Content-Type: application/json; format=pandas-records` by default with the following fields:\n",
    "\n",
    "* **check_failures** (*List[Integer]*): Whether any validation checks were triggered.  For more information, see [Wallaroo SDK Essentials Guide: Pipeline Management: Anomaly Testing](https://docs.wallaroo.ai/wallaroo-developer-guides/wallaroo-sdk-guides/wallaroo-sdk-essentials-guide/wallaroo-sdk-essentials-pipelines/wallaroo-sdk-essentials-pipeline/#anomaly-testing).\n",
    "* **elapsed** (*List[Integer]*): A list of time in nanoseconds for:\n",
    "  * [0] The time to serialize the input.\n",
    "  * [1...n] How long each step took.\n",
    "* **model_name** (*String*): The name of the model used.\n",
    "* **model_version** (*String*): The version of the model in UUID format.\n",
    "* **original_data**: The original input data.  Returns `null` if the input may be too long for a proper return.\n",
    "* **outputs** (*List*): The outputs of the inference result separated by data type, where each data type includes:\n",
    "  * **data**: The returned values.\n",
    "  * **dim** (*List[Integer]*): The dimension shape returned.\n",
    "  * **v** (*Integer*): The vector shape of the data.\n",
    "* **pipeline_name**  (*String*): The name of the pipeline.\n",
    "* **shadow_data**: Any shadow deployed data inferences in the same format as **outputs**.\n",
    "* **time** (*Integer*): The time since UNIX epoch.\n",
    "  \n",
    "Once deployed, we can perform an inference through the deployment URL.  We'll assume we're running the inference request through the localhost and submitting the local file `./data/dogbike.df.json`.  Note that our inference endpoint is `pipelines/yolo8demonstration` - the same as our pipeline name.\n",
    "\n",
    "The following example demonstrates sending an inference request to the edge deployed pipeline and storing the results in a pandas DataFrame in record format.  The results can then be exported to other processes to render the detected images or other use cases."
   ]
  },
  {
   "cell_type": "code",
   "execution_count": 55,
   "id": "f4289b33",
   "metadata": {},
   "outputs": [
    {
     "name": "stdout",
     "output_type": "stream",
     "text": [
      "  % Total    % Received % Xferd  Average Speed   Time    Time     Time  Current\n",
      "                                 Dload  Upload   Total   Spent    Left  Speed\n",
      "100 38.0M  100 22.9M  100 15.0M  12.9M  8701k  0:00:01  0:00:01 --:--:-- 21.4M\n"
     ]
    }
   ],
   "source": [
    "!curl -X POST testboy.local:8080/pipelines/yolo8demonstration \\\n",
    "    -H \"Content-Type: application/json; format=pandas-records\" \\\n",
    "    --data @./data/cv-yolo/dogbike.df.json > edge-results.df.json"
   ]
  }
 ],
 "metadata": {
  "kernelspec": {
   "display_name": "Python 3 (ipykernel)",
   "language": "python",
   "name": "python3"
  },
  "language_info": {
   "codemirror_mode": {
    "name": "ipython",
    "version": 3
   },
   "file_extension": ".py",
   "mimetype": "text/x-python",
   "name": "python",
   "nbconvert_exporter": "python",
   "pygments_lexer": "ipython3",
   "version": "3.8.18"
  }
 },
 "nbformat": 4,
 "nbformat_minor": 5
}
