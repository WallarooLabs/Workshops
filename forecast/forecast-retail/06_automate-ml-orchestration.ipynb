{
 "cells": [
  {
   "cell_type": "markdown",
   "metadata": {},
   "source": [
    "## Statsmodel Forecast with Wallaroo Features: ML Workload Orchestration\n",
    "\n",
    "Wallaroo provides Data Connections and ML Workload Orchestrations to provide organizations with a method of creating and managing automated tasks that can either be run on demand or a regular schedule.\n",
    "\n",
    "## Prerequisites\n",
    "\n",
    "* A Wallaroo instance version 2023.2.1 or greater.\n",
    "\n",
    "## References\n",
    "\n",
    "* [Wallaroo SDK Essentials Guide: Model Uploads and Registrations: Python Models](https://docs.wallaroo.ai/wallaroo-developer-guides/wallaroo-sdk-guides/wallaroo-sdk-essentials-guide/wallaroo-sdk-model-uploads/wallaroo-sdk-model-upload-python/)\n",
    "* [Wallaroo SDK Essentials Guide: Pipeline Management](https://docs.wallaroo.ai/wallaroo-developer-guides/wallaroo-sdk-guides/wallaroo-sdk-essentials-guide/wallaroo-sdk-essentials-pipelines/wallaroo-sdk-essentials-pipeline/)\n",
    "* [Wallaroo SDK Essentials Guide: ML Workload Orchestration](https://docs.wallaroo.ai/wallaroo-developer-guides/wallaroo-sdk-guides/wallaroo-sdk-essentials-guide/wallaroo-sdk-essentials-ml-workload-orchestration/)"
   ]
  },
  {
   "cell_type": "markdown",
   "metadata": {},
   "source": [
    "## Orchestrations, Taks, and Tasks Runs\n",
    "\n",
    "We've details how Wallaroo Connections work.  Now we'll use Orchestrations, Tasks, and Task Runs.\n",
    "\n",
    "| Item | Description |\n",
    "|---|---|\n",
    "| Orchestration | ML Workload orchestration allows data scientists and ML Engineers to automate and scale production ML workflows in Wallaroo to ensure a tight feedback loop and continuous tuning of models from training to production. Wallaroo platform users (data scientists or ML Engineers) have the ability to deploy, automate and scale recurring batch production ML workloads that can ingest data from predefined data sources to run inferences in Wallaroo, chain pipelines, and send inference results to predefined destinations to analyze model insights and assess business outcomes. |\n",
    "| Task | An implementation of an Orchestration.  Tasks can be either `Run Once`:  They run once and upon completion, stop. `Run Scheduled`: The task runs whenever a specific `cron` like schedule is reached.  Scheduled tasks will run until the `kill` command is issued. |\n",
    "| Task Run | The execusion of a task.  For `Run Once` tasks, there will be only one `Run Task`.  A `Run Scheduled` tasks will have multiple tasks, one for every time the schedule parameter is met.  Task Runs have their own log files that can be examined to track progress and results. |"
   ]
  },
  {
   "cell_type": "markdown",
   "metadata": {},
   "source": [
    "## Statsmodel Forecast Connection Steps\n",
    "\n",
    "### Import Libraries\n",
    "\n",
    "The first step is to import the libraries that we will need."
   ]
  },
  {
   "cell_type": "code",
   "execution_count": 1,
   "metadata": {},
   "outputs": [],
   "source": [
    "import json\n",
    "import os\n",
    "import datetime\n",
    "\n",
    "import wallaroo\n",
    "from wallaroo.object import EntityNotFoundError\n",
    "from wallaroo.framework import Framework\n",
    "\n",
    "# used to display dataframe information without truncating\n",
    "from IPython.display import display\n",
    "import pandas as pd\n",
    "import numpy as np\n",
    "\n",
    "from resources import simdb\n",
    "from resources import util\n",
    "\n",
    "pd.set_option('display.max_colwidth', None)\n",
    "\n",
    "import time"
   ]
  },
  {
   "cell_type": "code",
   "execution_count": 2,
   "metadata": {},
   "outputs": [
    {
     "data": {
      "text/plain": [
       "'2023.2.1+4a8b4317f'"
      ]
     },
     "metadata": {},
     "output_type": "display_data"
    }
   ],
   "source": [
    "display(wallaroo.__version__)"
   ]
  },
  {
   "cell_type": "markdown",
   "metadata": {},
   "source": [
    "### Connect to the Wallaroo Instance\n",
    "\n",
    "The first step is to connect to Wallaroo through the Wallaroo client.  The Python library is included in the Wallaroo install and available through the Jupyter Hub interface provided with your Wallaroo environment.\n",
    "\n",
    "This is accomplished using the `wallaroo.Client()` command, which provides a URL to grant the SDK permission to your specific Wallaroo environment.  When displayed, enter the URL into a browser and confirm permissions.  Store the connection into a variable that can be referenced later.\n",
    "\n",
    "If logging into the Wallaroo instance through the internal JupyterHub service, use `wl = wallaroo.Client()`.  For more information on Wallaroo Client settings, see the [Client Connection guide](https://docs.wallaroo.ai/wallaroo-developer-guides/wallaroo-sdk-guides/wallaroo-sdk-essentials-guide/wallaroo-sdk-essentials-client/)."
   ]
  },
  {
   "cell_type": "code",
   "execution_count": 3,
   "metadata": {},
   "outputs": [],
   "source": [
    "# Login through local Wallaroo instance\n",
    "\n",
    "wl = wallaroo.Client()\n",
    "\n",
    "# wallarooPrefix = \"doc-test.\"\n",
    "# wallarooSuffix = \"wallaroocommunity.ninja\"\n",
    "\n",
    "# wl = wallaroo.Client(api_endpoint=f\"https://{wallarooPrefix}api.{wallarooSuffix}\", \n",
    "#                     auth_endpoint=f\"https://{wallarooPrefix}keycloak.{wallarooSuffix}\", \n",
    "#                     auth_type=\"sso\")"
   ]
  },
  {
   "cell_type": "markdown",
   "metadata": {},
   "source": [
    "### Set Configurations\n",
    "\n",
    "The following will set the workspace, model name, and pipeline that will be used for this example.  If the workspace or pipeline already exist, then they will assigned for use in this example.  If they do not exist, they will be created based on the names listed below.\n",
    "\n",
    "Workspace names must be unique.  To allow this tutorial to run in the same Wallaroo instance for multiple users, set the `suffix` variable or share the workspace with other users.\n",
    "\n",
    "#### Set Configurations References\n",
    "\n",
    "* [Wallaroo SDK Essentials Guide: Workspace Management](https://docs.wallaroo.ai/wallaroo-developer-guides/wallaroo-sdk-guides/wallaroo-sdk-essentials-guide/wallaroo-sdk-essentials-workspace/)\n",
    "* [Wallaroo SDK Essentials Guide: Pipeline Management](https://docs.wallaroo.ai/wallaroo-developer-guides/wallaroo-sdk-guides/wallaroo-sdk-essentials-guide/wallaroo-sdk-essentials-pipelines/wallaroo-sdk-essentials-pipeline/)"
   ]
  },
  {
   "cell_type": "code",
   "execution_count": 4,
   "metadata": {},
   "outputs": [],
   "source": [
    "# used for unique connection names\n",
    "\n",
    "import string\n",
    "import random\n",
    "\n",
    "suffix= ''.join(random.choice(string.ascii_lowercase) for i in range(4))\n",
    "\n",
    "suffix='jch'\n",
    "\n",
    "workspace_name = f'forecast-model-workshop{suffix}'\n",
    "\n",
    "pipeline_name = f'forecast-workshop-pipeline{suffix}'"
   ]
  },
  {
   "cell_type": "markdown",
   "metadata": {},
   "source": [
    "### Set the Workspace and Pipeline\n",
    "\n",
    "The workspace will be either used or created if it does not exist, along with the pipeline.  The models uploaded in the Upload and Deploy tutorial are referenced in this step."
   ]
  },
  {
   "cell_type": "code",
   "execution_count": 5,
   "metadata": {},
   "outputs": [],
   "source": [
    "def get_workspace(name):\n",
    "    workspace = None\n",
    "    for ws in wl.list_workspaces():\n",
    "        if ws.name() == name:\n",
    "            workspace= ws\n",
    "    if(workspace == None):\n",
    "        workspace = wl.create_workspace(name)\n",
    "    return workspace\n",
    "\n",
    "def get_pipeline(name):\n",
    "    try:\n",
    "        pipeline = wl.pipelines_by_name(name)[0]\n",
    "    except EntityNotFoundError:\n",
    "        pipeline = wl.build_pipeline(name)\n",
    "    return pipeline\n",
    "\n",
    "workspace = get_workspace(workspace_name)\n",
    "\n",
    "wl.set_current_workspace(workspace)\n",
    "\n",
    "pipeline = get_pipeline(pipeline_name)\n",
    "\n",
    "# Get the most recent version of a model in the workspace\n",
    "# Assumes that the most recent version is the first in the list of versions.\n",
    "# wl.get_current_workspace().models() returns a list of models in the current workspace\n",
    "\n",
    "def get_model(mname):\n",
    "    modellist = wl.get_current_workspace().models()\n",
    "    model = [m.versions()[0] for m in modellist if m.name() == mname]\n",
    "    if len(model) <= 0:\n",
    "        raise KeyError(f\"model {mname} not found in this workspace\")\n",
    "    return model[0]\n",
    "\n",
    "# upload three models:  the control and two challengers\n",
    "\n",
    "control_model_name = 'forecast-control-model'\n",
    "challenger01_model_name = 'forecast-challenger01-model'\n",
    "challenger02_model_name = 'forecast-challenger02-model'\n",
    "\n",
    "# retrieve the models\n",
    "\n",
    "bike_day_model = get_model(control_model_name)\n",
    "\n",
    "challenger_model_01 = get_model(challenger01_model_name)\n",
    "\n",
    "challenger_model_02 = get_model(challenger02_model_name)"
   ]
  },
  {
   "cell_type": "markdown",
   "metadata": {},
   "source": [
    "### Deploy Pipeline\n",
    "\n",
    "The pipeline is already set witht the model.  For our demo we'll verify that it's deployed."
   ]
  },
  {
   "cell_type": "code",
   "execution_count": 6,
   "metadata": {},
   "outputs": [
    {
     "name": "stdout",
     "output_type": "stream",
     "text": [
      " ok\n",
      "Waiting for deployment - this will take up to 45s .................................. ok\n"
     ]
    },
    {
     "data": {
      "text/html": [
       "<table><tr><th>name</th> <td>forecast-workshop-pipelinejch</td></tr><tr><th>created</th> <td>2023-07-27 22:21:44.885259+00:00</td></tr><tr><th>last_updated</th> <td>2023-07-28 14:11:14.944205+00:00</td></tr><tr><th>deployed</th> <td>True</td></tr><tr><th>tags</th> <td></td></tr><tr><th>versions</th> <td>e8b4d830-0074-48e6-8cdf-06aa91fd0566, 241a692a-6e5a-4edf-9c29-40a45427a7ce, 79543398-96e3-447f-ab07-21f11a744bbc, 599118ef-5c01-4a49-9d78-2d60172c542b, cc9d20a1-8ae8-483f-a561-425440811a81</td></tr><tr><th>steps</th> <td>forecast-control-model</td></tr></table>"
      ],
      "text/plain": [
       "{'name': 'forecast-workshop-pipelinejch', 'create_time': datetime.datetime(2023, 7, 27, 22, 21, 44, 885259, tzinfo=tzutc()), 'definition': \"[{'ModelInference': {'models': [{'name': 'forecast-control-model', 'version': '0daa07c7-797d-429f-8a3b-7bba4f709da0', 'sha': '60156c8e9bad5b9fee1dfea2aeae05ca3f643f53b5b6d6a365e8e020c72af6ac'}]}}]\"}"
      ]
     },
     "execution_count": 6,
     "metadata": {},
     "output_type": "execute_result"
    }
   ],
   "source": [
    "# Set the deployment to allow for additional engines to run\n",
    "# Undeploy and clear the pipeline in case it was used in other demonstrations\n",
    "pipeline.undeploy()\n",
    "pipeline.clear()\n",
    "deploy_config = (wallaroo.DeploymentConfigBuilder()\n",
    "                        .replica_count(1)\n",
    "                        .replica_autoscale_min_max(minimum=2, maximum=5)\n",
    "                        .cpus(0.25)\n",
    "                        .memory(\"512Mi\")\n",
    "                        .build()\n",
    "                    )\n",
    "\n",
    "pipeline.add_model_step(bike_day_model)\n",
    "# pipeline.add_model_step(step)\n",
    "pipeline.deploy(deployment_config = deploy_config)"
   ]
  },
  {
   "cell_type": "markdown",
   "metadata": {},
   "source": [
    "### Forecast Sample Orchestration\n",
    "\n",
    "The orchestration that will automate this process is `./resources/forecast-orchestration.zip`.  The files used are stored in the directory `forecast-orchestration`, created with the command:\n",
    "\n",
    "`zip -r forecast-bigquery-connection.zip forecast-orchestration/`.\n",
    "\n",
    "This contains the following:\n",
    "\n",
    "* `requirements.txt`:  The Python requirements file to specify the following libraries used.  For this example, that will be empty since we will be using the \n",
    "* `main.py`: The entry file that uses a deployed pipeline and performs an inference request against it visible from its log files.\n",
    "* `data/testdata_dict.json`: An inference input file.\n",
    "\n",
    "The `main.py` script performs a workspace and pipeline retrieval, then an inference against the inference input file.\n",
    "\n",
    "```python\n",
    "import json\n",
    "import os\n",
    "\n",
    "\n",
    "import wallaroo\n",
    "from wallaroo.object import EntityNotFoundError\n",
    "from wallaroo.framework import Framework\n",
    "\n",
    "import pandas as pd\n",
    "import numpy as np\n",
    "\n",
    "pd.set_option('display.max_colwidth', None)\n",
    "\n",
    "wl = wallaroo.Client()\n",
    "\n",
    "# get the arguments\n",
    "arguments = wl.task_args()\n",
    "\n",
    "if \"workspace_name\" in arguments:\n",
    "    workspace_name = arguments['workspace_name']\n",
    "else:\n",
    "    workspace_name=\"multiple-replica-forecast-tutorial\"\n",
    "\n",
    "if \"pipeline_name\" in arguments:\n",
    "    pipeline_name = arguments['pipeline_name']\n",
    "else:\n",
    "    pipeline_name=\"bikedaypipe\"\n",
    "\n",
    "if \"bigquery_connection_input_name\" in arguments:\n",
    "    bigquery_connection_name = arguments['bigquery_connection_input_name']\n",
    "else:\n",
    "    bigquery_connection_name = \"statsmodel-bike-rentals\"\n",
    "\n",
    "print(bigquery_connection_name)\n",
    "def get_workspace(name):\n",
    "    workspace = None\n",
    "    for ws in wl.list_workspaces():\n",
    "        if ws.name() == name:\n",
    "            workspace= ws\n",
    "    return workspace\n",
    "\n",
    "def get_pipeline(name):\n",
    "    try:\n",
    "        pipeline = wl.pipelines_by_name(name)[0]\n",
    "    except EntityNotFoundError:\n",
    "        print(f\"Pipeline not found:{name}\")\n",
    "    return pipeline\n",
    "\n",
    "print(f\"Workspace: {workspace_name}\")\n",
    "workspace = get_workspace(workspace_name)\n",
    "\n",
    "wl.set_current_workspace(workspace)\n",
    "print(workspace)\n",
    "\n",
    "# the pipeline is assumed to be deployed\n",
    "print(f\"Pipeline: {pipeline_name}\")\n",
    "pipeline = get_pipeline(pipeline_name)\n",
    "print(pipeline)\n",
    "\n",
    "inferencedata = json.load(open(\"./data/testdata_dict.json\"))\n",
    "\n",
    "results = pipeline.infer(inferencedata)\n",
    "\n",
    "print(results)\n",
    "```\n",
    "\n",
    "This orchestration allows a user to specify the workspace, pipeline, and data connection.  As long as they all match the previous conditions, then the orchestration will run successfully."
   ]
  },
  {
   "cell_type": "markdown",
   "metadata": {},
   "source": [
    "### Upload the Orchestration\n",
    "\n",
    "Orchestrations are uploaded with the Wallaroo client `upload_orchestration(path)` method with the following parameters.\n",
    "\n",
    "| Parameter | Type | Description |\n",
    "| --- | --- | ---|\n",
    "| **path** | string (Required) | The path to the ZIP file to be uploaded. |\n",
    "\n",
    "Once uploaded, the deployment will be prepared and any requirements will be downloaded and installed.\n",
    "\n",
    "\n",
    "For this example, the orchestration `./bigquery_remote_inference/bigquery_remote_inference.zip` will be uploaded and saved to the variable `orchestration`.  Then we will loop until the uploaded orchestration's `status` displays `ready`."
   ]
  },
  {
   "cell_type": "code",
   "execution_count": 7,
   "metadata": {},
   "outputs": [
    {
     "data": {
      "text/plain": [
       "[{'forecast': [1764, 1749, 1743, 1741, 1740, 1740, 1740]}]"
      ]
     },
     "metadata": {},
     "output_type": "display_data"
    }
   ],
   "source": [
    "inferencedata = {\"count\": [1526, 1550, 1708, 1005, 1623, 1712, 1530, 1605, 1538, 1746, 1472, 1589, 1913, 1815, 2115, 2475, 2927, 1635, 1812, 1107, 1450, 1917, 1807, 1461, 1969, 2402, 1446, 1851]}\n",
    "\n",
    "results = pipeline.infer(inferencedata)\n",
    "\n",
    "display(results)"
   ]
  },
  {
   "cell_type": "code",
   "execution_count": 8,
   "metadata": {},
   "outputs": [
    {
     "data": {
      "text/html": [
       "<table><tr><th>name</th> <td>forecast-workshop-pipelinejch</td></tr><tr><th>created</th> <td>2023-07-27 22:21:44.885259+00:00</td></tr><tr><th>last_updated</th> <td>2023-07-28 14:11:14.944205+00:00</td></tr><tr><th>deployed</th> <td>True</td></tr><tr><th>tags</th> <td></td></tr><tr><th>versions</th> <td>e8b4d830-0074-48e6-8cdf-06aa91fd0566, 241a692a-6e5a-4edf-9c29-40a45427a7ce, 79543398-96e3-447f-ab07-21f11a744bbc, 599118ef-5c01-4a49-9d78-2d60172c542b, cc9d20a1-8ae8-483f-a561-425440811a81</td></tr><tr><th>steps</th> <td>forecast-control-model</td></tr></table>"
      ],
      "text/plain": [
       "{'name': 'forecast-workshop-pipelinejch', 'create_time': datetime.datetime(2023, 7, 27, 22, 21, 44, 885259, tzinfo=tzutc()), 'definition': \"[{'ModelInference': {'models': [{'name': 'forecast-control-model', 'version': '0daa07c7-797d-429f-8a3b-7bba4f709da0', 'sha': '60156c8e9bad5b9fee1dfea2aeae05ca3f643f53b5b6d6a365e8e020c72af6ac'}]}}]\"}"
      ]
     },
     "execution_count": 8,
     "metadata": {},
     "output_type": "execute_result"
    }
   ],
   "source": [
    "pipeline"
   ]
  },
  {
   "cell_type": "code",
   "execution_count": 9,
   "metadata": {},
   "outputs": [
    {
     "name": "stdout",
     "output_type": "stream",
     "text": [
      "pending_packaging\n",
      "pending_packaging\n",
      "packaging\n",
      "packaging\n",
      "packaging\n",
      "packaging\n",
      "packaging\n",
      "packaging\n",
      "packaging\n"
     ]
    }
   ],
   "source": [
    "orchestration = wl.upload_orchestration(name=\"statsmodel-orchestration 5\", path=\"./forecast-orchestration/forecast-orchestration.zip\")\n",
    "\n",
    "while orchestration.status() != 'ready':\n",
    "    print(orchestration.status())\n",
    "    time.sleep(5)"
   ]
  },
  {
   "cell_type": "code",
   "execution_count": 10,
   "metadata": {},
   "outputs": [
    {
     "data": {
      "text/html": [
       "<table><tr><th>id</th><th>name</th><th>status</th><th>filename</th><th>sha</th><th>created at</th><th>updated at</th></tr><tr><td>ba8b9703-6b07-4d2c-9354-ab3193383ec3</td><td>statsmodel-orchestration 2</td><td>ready</td><td>forecast-orchestration2.zip</td><td>33aa19...8f1c8e</td><td>2023-27-Jul 22:00:22</td><td>2023-27-Jul 22:01:07</td></tr><tr><td>6125c6e0-8f07-449f-8b83-5d83b5347f5d</td><td>statsmodel-orchestration</td><td>ready</td><td>remote_inference.zip</td><td>b4593d...d5a86f</td><td>2023-27-Jul 21:26:11</td><td>2023-27-Jul 21:26:55</td></tr><tr><td>91d80626-ce2c-47db-a672-1e8f48770603</td><td>statsmodel-orchestration 4</td><td>ready</td><td>forecast-orchestration.zip</td><td>5d0739...7f2dac</td><td>2023-27-Jul 23:11:19</td><td>2023-27-Jul 23:12:04</td></tr><tr><td>cb18d278-89a2-4f56-9259-4e652900049f</td><td>statsmodel-orchestration</td><td>ready</td><td>forecast-orchestration.zip</td><td>61e025...d51372</td><td>2023-27-Jul 21:34:44</td><td>2023-27-Jul 21:35:28</td></tr><tr><td>644269f7-4d98-47ab-b234-f9c6f5f4c700</td><td>statsmodel-orchestration 2</td><td>ready</td><td>forecast-orchestration.zip</td><td>ee4951...2ecb0d</td><td>2023-27-Jul 22:12:39</td><td>2023-27-Jul 22:13:28</td></tr><tr><td>ca1286b4-a950-41a4-b145-e3c5c8e6c8d0</td><td>statsmodel-orchestration</td><td>ready</td><td>forecast-orchestration.zip</td><td>3de617...1b8ef1</td><td>2023-27-Jul 21:41:20</td><td>2023-27-Jul 21:42:04</td></tr><tr><td>15b18a25-ce7b-48fe-996f-2a09e30d07bf</td><td>statsmodel-orchestration 2</td><td>ready</td><td>forecast-orchestration.zip</td><td>3de617...1b8ef1</td><td>2023-27-Jul 21:46:47</td><td>2023-27-Jul 21:47:31</td></tr><tr><td>6ee0602c-46b6-4184-b5b3-e63954c1b57d</td><td>statsmodel-orchestration</td><td>ready</td><td>forecast-orchestration.zip</td><td>6c2ba6...24d7c8</td><td>2023-28-Jul 13:53:19</td><td>2023-28-Jul 13:54:02</td></tr><tr><td>feba4749-bf4e-46f9-86e0-9796b5435988</td><td>statsmodel-orchestration 2</td><td>ready</td><td>forecast-orchestration.zip</td><td>e3bbb7...3a4c89</td><td>2023-27-Jul 22:17:37</td><td>2023-27-Jul 22:18:21</td></tr><tr><td>6d2337a6-d7c1-4959-9286-5e24802f0cd8</td><td>statsmodel-orchestration 2</td><td>ready</td><td>forecast-orchestration2.zip</td><td>87d3c8...c0039d</td><td>2023-27-Jul 21:53:35</td><td>2023-27-Jul 21:54:20</td></tr><tr><td>c43f9449-7f01-42fc-8758-f73acd20bbb6</td><td>statsmodel-orchestration 5</td><td>ready</td><td>forecast-orchestration.zip</td><td>da9b3c...cfdc47</td><td>2023-27-Jul 23:18:13</td><td>2023-27-Jul 23:18:57</td></tr><tr><td>836af1f3-487a-4c45-865a-02664b6d5217</td><td>statsmodel-orchestration 2</td><td>ready</td><td>forecast-orchestration2.zip</td><td>6fadd8...98b5d2</td><td>2023-27-Jul 21:57:38</td><td>2023-27-Jul 21:58:25</td></tr><tr><td>944814e5-9402-4ba1-bc51-8bcc17d58cef</td><td>statsmodel-orchestration 2</td><td>ready</td><td>forecast-orchestration.zip</td><td>e3bbb7...3a4c89</td><td>2023-27-Jul 22:26:02</td><td>2023-27-Jul 22:26:47</td></tr><tr><td>0734c7c2-5728-4abc-bc53-2f3aa1a05f7d</td><td>statsmodel-orchestration 3</td><td>ready</td><td>forecast-orchestration.zip</td><td>e3bbb7...3a4c89</td><td>2023-27-Jul 22:32:14</td><td>2023-27-Jul 22:32:58</td></tr><tr><td>06ee6a2e-5e22-4733-b9de-e2e5988e317d</td><td>statsmodel-orchestration 5</td><td>ready</td><td>forecast-orchestration.zip</td><td>6c2ba6...24d7c8</td><td>2023-27-Jul 23:31:51</td><td>2023-27-Jul 23:32:37</td></tr><tr><td>6bd107bd-01d3-4d7f-a930-c535d7b643c9</td><td>statsmodel-orchestration 2</td><td>ready</td><td>forecast-orchestration.zip</td><td>67cf6c...c82d6c</td><td>2023-28-Jul 14:05:32</td><td>2023-28-Jul 14:06:16</td></tr><tr><td>4b890b27-9541-488a-a155-d7b6b5d15eb4</td><td>statsmodel-orchestration</td><td>ready</td><td>forecast-orchestration.zip</td><td>6c2ba6...24d7c8</td><td>2023-28-Jul 13:46:48</td><td>2023-28-Jul 13:47:31</td></tr><tr><td>8c7e61f0-f010-4d43-a9b7-59c1c67dadc1</td><td>statsmodel-orchestration 5</td><td>ready</td><td>forecast-orchestration.zip</td><td>6c2ba6...24d7c8</td><td>2023-28-Jul 14:11:58</td><td>2023-28-Jul 14:12:43</td></tr></table>"
      ],
      "text/plain": [
       "[<wallaroo.orchestration.Orchestration at 0x7f99890d7400>,\n",
       " <wallaroo.orchestration.Orchestration at 0x7f99890d7d30>,\n",
       " <wallaroo.orchestration.Orchestration at 0x7f99890070d0>,\n",
       " <wallaroo.orchestration.Orchestration at 0x7f9989007130>,\n",
       " <wallaroo.orchestration.Orchestration at 0x7f99890071c0>,\n",
       " <wallaroo.orchestration.Orchestration at 0x7f9989007250>,\n",
       " <wallaroo.orchestration.Orchestration at 0x7f99890072e0>,\n",
       " <wallaroo.orchestration.Orchestration at 0x7f9989007370>,\n",
       " <wallaroo.orchestration.Orchestration at 0x7f9989007400>,\n",
       " <wallaroo.orchestration.Orchestration at 0x7f9989007490>,\n",
       " <wallaroo.orchestration.Orchestration at 0x7f9989007520>,\n",
       " <wallaroo.orchestration.Orchestration at 0x7f99890075b0>,\n",
       " <wallaroo.orchestration.Orchestration at 0x7f9989007640>,\n",
       " <wallaroo.orchestration.Orchestration at 0x7f99890076d0>,\n",
       " <wallaroo.orchestration.Orchestration at 0x7f9989007760>,\n",
       " <wallaroo.orchestration.Orchestration at 0x7f99890077f0>,\n",
       " <wallaroo.orchestration.Orchestration at 0x7f9989007880>,\n",
       " <wallaroo.orchestration.Orchestration at 0x7f9989007910>]"
      ]
     },
     "execution_count": 10,
     "metadata": {},
     "output_type": "execute_result"
    }
   ],
   "source": [
    "wl.list_orchestrations()"
   ]
  },
  {
   "cell_type": "code",
   "execution_count": 11,
   "metadata": {},
   "outputs": [
    {
     "data": {
      "text/html": [
       "\n",
       "        <table>\n",
       "          <tr>\n",
       "            <th>Field</th>\n",
       "            <th>Value</th>\n",
       "          </tr>\n",
       "          <tr>\n",
       "            <td>ID</td><td>8c7e61f0-f010-4d43-a9b7-59c1c67dadc1</td>\n",
       "          </tr>\n",
       "          <tr>\n",
       "            <td>Name</td><td>statsmodel-orchestration 5</td>\n",
       "          </tr>\n",
       "          <tr>\n",
       "            <td>File Name</td><td>forecast-orchestration.zip</td>\n",
       "          </tr>\n",
       "          <tr>\n",
       "            <td>SHA</td><td>6c2ba63ec44a66c2209a8ff4bd206e4a7ab3fdf1581f70e2e939b39f5a24d7c8</td>\n",
       "          </tr>\n",
       "          <tr>\n",
       "            <td>Status</td><td>ready</td>\n",
       "          </tr>\n",
       "          <tr>\n",
       "            <td>Created At</td><td>2023-28-Jul 14:11:58</td>\n",
       "          </tr>\n",
       "          <tr>\n",
       "            <td>Updated At</td><td>2023-28-Jul 14:12:43</td>\n",
       "          </tr>\n",
       "        </table>\n",
       "        "
      ],
      "text/plain": [
       "<wallaroo.orchestration.Orchestration at 0x7f998906ca30>"
      ]
     },
     "execution_count": 11,
     "metadata": {},
     "output_type": "execute_result"
    }
   ],
   "source": [
    "orchestration"
   ]
  },
  {
   "cell_type": "markdown",
   "metadata": {},
   "source": [
    "### Create the Task\n",
    "\n",
    "The orchestration is now ready to be implemented as a Wallaroo Task.  We'll just run it once as an example.  This specific Orchestration that creates the Task assumes that the pipeline is deployed, and accepts the arguments:\n",
    "\n",
    "* workspace_name\n",
    "* pipeline_name\n",
    "* bigquery_connection_name\n",
    "\n",
    "We'll supply the workspaces, pipeline and connection created in previous steps and stored in the initial variables above.  Verify these exist and match the existing workspace, pipeline and connection used in the previous notebooks in this series.\n",
    "\n",
    "Tasks are generated and run once with the Orchestration `run_once(name, json_args, timeout)` method.  Any arguments for the orchestration are passed in as a `Dict`.  If there are no arguments, then an empty set `{}` is passed."
   ]
  },
  {
   "cell_type": "code",
   "execution_count": 12,
   "metadata": {},
   "outputs": [
    {
     "data": {
      "text/plain": [
       "'forecast-workshop-pipelinejch'"
      ]
     },
     "execution_count": 12,
     "metadata": {},
     "output_type": "execute_result"
    }
   ],
   "source": [
    "pipeline_name"
   ]
  },
  {
   "cell_type": "code",
   "execution_count": 13,
   "metadata": {},
   "outputs": [],
   "source": [
    "task = orchestration.run_once(name=\"statsmodel single run 7\", json_args={\"workspace_name\":workspace_name, \"pipeline_name\":pipeline_name})"
   ]
  },
  {
   "cell_type": "markdown",
   "metadata": {},
   "source": [
    "### Monitor Run with Task Status\n",
    "\n",
    "We'll monitor the run first with it's status.\n",
    "\n",
    "For this example, the status of the previously created task will be generated, then looped until it has reached status `started`."
   ]
  },
  {
   "cell_type": "code",
   "execution_count": 14,
   "metadata": {},
   "outputs": [
    {
     "data": {
      "text/plain": [
       "'pending'"
      ]
     },
     "metadata": {},
     "output_type": "display_data"
    },
    {
     "data": {
      "text/plain": [
       "'pending'"
      ]
     },
     "metadata": {},
     "output_type": "display_data"
    },
    {
     "data": {
      "text/plain": [
       "'pending'"
      ]
     },
     "metadata": {},
     "output_type": "display_data"
    }
   ],
   "source": [
    "while task.status() != \"started\":\n",
    "    display(task.status())\n",
    "    time.sleep(5)"
   ]
  },
  {
   "cell_type": "markdown",
   "metadata": {},
   "source": [
    "### List Tasks\n",
    "\n",
    "We'll use the Wallaroo client `list_tasks` method to view the tasks currently running."
   ]
  },
  {
   "cell_type": "code",
   "execution_count": 15,
   "metadata": {},
   "outputs": [
    {
     "data": {
      "text/html": [
       "<table><tr><th>id</th><th>name</th><th>last run status</th><th>type</th><th>active</th><th>schedule</th><th>created at</th><th>updated at</th></tr><tr><td>4558ba0d-2819-488a-9a54-2f76ed0d0103</td><td>statsmodel single run 7</td><td>success</td><td>Temporary Run</td><td>True</td><td>-</td><td>2023-28-Jul 14:12:44</td><td>2023-28-Jul 14:12:55</td></tr><tr><td>22843055-a21f-42c2-912e-36b743abeaed</td><td>statsmodel single run</td><td>failure</td><td>Temporary Run</td><td>True</td><td>-</td><td>2023-28-Jul 14:06:24</td><td>2023-28-Jul 14:06:29</td></tr><tr><td>53ac8326-98cf-478c-8183-235f854ac6ae</td><td>statsmodel single run</td><td>failure</td><td>Temporary Run</td><td>True</td><td>-</td><td>2023-28-Jul 14:01:32</td><td>2023-28-Jul 14:01:37</td></tr><tr><td>b48854b0-68ce-41fd-b17a-2ee6fbd9943c</td><td>statsmodel single run</td><td>failure</td><td>Temporary Run</td><td>True</td><td>-</td><td>2023-28-Jul 13:54:10</td><td>2023-28-Jul 13:54:15</td></tr><tr><td>422a6e61-5beb-4bd5-a2f8-052ded1046f1</td><td>statsmodel single run</td><td>failure</td><td>Temporary Run</td><td>True</td><td>-</td><td>2023-28-Jul 13:48:23</td><td>2023-28-Jul 13:48:28</td></tr><tr><td>30858614-d6b2-4134-8ae6-3606c9a28519</td><td>statsmodel single run 6</td><td>success</td><td>Temporary Run</td><td>True</td><td>-</td><td>2023-27-Jul 23:32:37</td><td>2023-27-Jul 23:32:48</td></tr><tr><td>cb277a86-835e-47eb-a75b-11e15cd9b971</td><td>statsmodel single run 6</td><td>success</td><td>Temporary Run</td><td>True</td><td>-</td><td>2023-27-Jul 23:25:03</td><td>2023-27-Jul 23:25:08</td></tr><tr><td>fe811c47-0dfc-46fa-b21e-b3c64bd0720d</td><td>statsmodel single run 5</td><td>failure</td><td>Temporary Run</td><td>True</td><td>-</td><td>2023-27-Jul 23:18:59</td><td>2023-27-Jul 23:19:09</td></tr><tr><td>f87a7960-3145-4323-a064-c2b6d73e5c2c</td><td>statsmodel single run 4</td><td>success</td><td>Temporary Run</td><td>True</td><td>-</td><td>2023-27-Jul 23:12:05</td><td>2023-27-Jul 23:12:15</td></tr><tr><td>155072c7-dfbb-4c72-98e9-621af5d43e0a</td><td>statsmodel single run 3</td><td>failure</td><td>Temporary Run</td><td>True</td><td>-</td><td>2023-27-Jul 23:09:02</td><td>2023-27-Jul 23:09:07</td></tr><tr><td>e728abe3-827e-42ef-a308-32f87a6ad308</td><td>statsmodel single run</td><td>failure</td><td>Temporary Run</td><td>True</td><td>-</td><td>2023-27-Jul 22:32:59</td><td>2023-27-Jul 22:33:10</td></tr><tr><td>15041ad1-807e-476b-8bd4-070ca84c7ecb</td><td>statsmodel single run</td><td>failure</td><td>Temporary Run</td><td>True</td><td>-</td><td>2023-27-Jul 22:26:48</td><td>2023-27-Jul 22:26:58</td></tr><tr><td>a49712fc-0301-4809-a4ab-2bd74f084f2a</td><td>statsmodel single run</td><td>failure</td><td>Temporary Run</td><td>True</td><td>-</td><td>2023-27-Jul 22:18:22</td><td>2023-27-Jul 22:18:33</td></tr><tr><td>a325b29b-7107-48ed-aa59-53a7f927467b</td><td>statsmodel single run</td><td>failure</td><td>Temporary Run</td><td>True</td><td>-</td><td>2023-27-Jul 22:13:30</td><td>2023-27-Jul 22:13:35</td></tr><tr><td>992b9524-a985-4fbd-9abd-93d06b3c4b2a</td><td>statsmodel single run</td><td>failure</td><td>Temporary Run</td><td>True</td><td>-</td><td>2023-27-Jul 22:01:08</td><td>2023-27-Jul 22:01:13</td></tr><tr><td>e2b6992f-6d2e-4548-8921-ec4a0d1b2380</td><td>statsmodel single run</td><td>success</td><td>Temporary Run</td><td>True</td><td>-</td><td>2023-27-Jul 21:58:28</td><td>2023-27-Jul 21:58:34</td></tr><tr><td>04fea9ca-e964-4290-a100-dba6f2b489ba</td><td>statsmodel single run</td><td>failure</td><td>Temporary Run</td><td>True</td><td>-</td><td>2023-27-Jul 21:54:21</td><td>2023-27-Jul 21:54:26</td></tr><tr><td>2d2db1c0-93b6-4ee0-a624-3b641d12a167</td><td>statsmodel single run 2</td><td>failure</td><td>Temporary Run</td><td>True</td><td>-</td><td>2023-27-Jul 21:47:32</td><td>2023-27-Jul 21:47:38</td></tr><tr><td>58ce2e1c-d1ad-42a8-b9ab-e5044248b59b</td><td>statsmodel single run</td><td>failure</td><td>Temporary Run</td><td>True</td><td>-</td><td>2023-27-Jul 21:42:06</td><td>2023-27-Jul 21:42:16</td></tr><tr><td>53c30cbe-294b-4b95-8fc5-907de83e5e10</td><td>statsmodel single run</td><td>failure</td><td>Temporary Run</td><td>True</td><td>-</td><td>2023-27-Jul 21:36:01</td><td>2023-27-Jul 21:36:07</td></tr></table>"
      ],
      "text/plain": [
       "[<wallaroo.task.Task at 0x7f9989027e50>,\n",
       " <wallaroo.task.Task at 0x7f9989027cd0>,\n",
       " <wallaroo.task.Task at 0x7f9989027f10>,\n",
       " <wallaroo.task.Task at 0x7f9989027b20>,\n",
       " <wallaroo.task.Task at 0x7f9989027ac0>,\n",
       " <wallaroo.task.Task at 0x7f9989027670>,\n",
       " <wallaroo.task.Task at 0x7f9989027580>,\n",
       " <wallaroo.task.Task at 0x7f9989027280>,\n",
       " <wallaroo.task.Task at 0x7f9989007b50>,\n",
       " <wallaroo.task.Task at 0x7f9989007550>,\n",
       " <wallaroo.task.Task at 0x7f9989007eb0>,\n",
       " <wallaroo.task.Task at 0x7f99890078b0>,\n",
       " <wallaroo.task.Task at 0x7f998906cd60>,\n",
       " <wallaroo.task.Task at 0x7f998906cf40>,\n",
       " <wallaroo.task.Task at 0x7f998906c820>,\n",
       " <wallaroo.task.Task at 0x7f9989116f40>,\n",
       " <wallaroo.task.Task at 0x7f9989888b80>,\n",
       " <wallaroo.task.Task at 0x7f99898887f0>,\n",
       " <wallaroo.task.Task at 0x7f9989888dc0>,\n",
       " <wallaroo.task.Task at 0x7f9989888190>]"
      ]
     },
     "execution_count": 15,
     "metadata": {},
     "output_type": "execute_result"
    }
   ],
   "source": [
    "wl.list_tasks()"
   ]
  },
  {
   "cell_type": "markdown",
   "metadata": {},
   "source": [
    "### Display Task Run Results\n",
    "\n",
    "The Task Run is the implementation of the task - the actual running of the script and it's results.  Tasks that are Run Once will only have one Task Run, while a Task set to Run Scheduled will have a Task Run for each time the task is executed.  Each Task Run has its own set of logs and results that are monitoried through the Task Run `logs()` method.\n",
    "\n",
    "We'll wait 30 seconds, then retrieve the task run for our generated task, then start checking the logs for our task run.  It may take longer than 30 seconds to launch the task, so be prepared to run the `.logs()` method again to view the logs."
   ]
  },
  {
   "cell_type": "code",
   "execution_count": 16,
   "metadata": {},
   "outputs": [
    {
     "data": {
      "text/html": [
       "\n",
       "        <table>\n",
       "          <tr>\n",
       "            <th>Field</th>\n",
       "            <th>Value</th>\n",
       "          </tr>\n",
       "          <tr>\n",
       "            <td>ID</td><td>4558ba0d-2819-488a-9a54-2f76ed0d0103</td>\n",
       "          </tr>\n",
       "          <tr>\n",
       "            <td>Name</td><td>statsmodel single run 7</td>\n",
       "          </tr>\n",
       "          <tr>\n",
       "            <td>Last Run Status</td><td>success</td>\n",
       "          </tr>\n",
       "          <tr>\n",
       "            <td>Type</td><td>Temporary Run</td>\n",
       "          </tr>\n",
       "          <tr>\n",
       "            <td>Active</td><td>True</td>\n",
       "          </tr>\n",
       "          <tr>\n",
       "            <td>Schedule</td><td>-</td>\n",
       "          </tr>\n",
       "          <tr>\n",
       "            <td>Created At</td><td>2023-28-Jul 14:12:44</td>\n",
       "          </tr>\n",
       "          <tr>\n",
       "            <td>Updated At</td><td>2023-28-Jul 14:12:55</td>\n",
       "          </tr>\n",
       "        </table>\n",
       "        "
      ],
      "text/plain": [
       "<wallaroo.task.Task at 0x7f9989888d30>"
      ]
     },
     "execution_count": 16,
     "metadata": {},
     "output_type": "execute_result"
    }
   ],
   "source": [
    "task"
   ]
  },
  {
   "cell_type": "code",
   "execution_count": 17,
   "metadata": {},
   "outputs": [],
   "source": [
    "#wait 30 seconds for the task to finish\n",
    "time.sleep(30)\n",
    "statsmodel_task_run = task.last_runs()[0]"
   ]
  },
  {
   "cell_type": "code",
   "execution_count": 18,
   "metadata": {},
   "outputs": [
    {
     "data": {
      "text/html": [
       "\n",
       "            <table>\n",
       "              <tr><th>Field</th><th>Value</th></tr>\n",
       "              <tr><td>Task</td><td>4558ba0d-2819-488a-9a54-2f76ed0d0103</td></tr>\n",
       "              <tr><td>Pod ID</td><td>4d72e1fb-aded-4284-935d-dd7acb523329</td></tr>\n",
       "              <tr><td>Status</td><td>success</td></tr>\n",
       "              <tr><td>Created At</td><td>2023-28-Jul 14:12:51</td></tr>\n",
       "              <tr><td>Updated At</td><td>2023-28-Jul 14:12:51</td></tr>\n",
       "            </table>\n",
       "            "
      ],
      "text/plain": [
       "<wallaroo.task_run.TaskRun at 0x7f9988fedb80>"
      ]
     },
     "execution_count": 18,
     "metadata": {},
     "output_type": "execute_result"
    }
   ],
   "source": [
    "statsmodel_task_run"
   ]
  },
  {
   "cell_type": "code",
   "execution_count": 19,
   "metadata": {},
   "outputs": [
    {
     "data": {
      "text/html": [
       "<pre><code>2023-28-Jul 14:12:55 Workspace: forecast-model-workshopjch\n",
       "2023-28-Jul 14:12:55 {'name': 'forecast-model-workshopjch', 'id': 19, 'archived': False, 'created_by': 'c3a45eb6-37ff-4020-8d59-7166c3e153d0', 'created_at': '2023-07-27T15:54:50.280468+00:00', 'models': [{'name': 'forecast-control-model', 'versions': 8, 'owner_id': '\"\"', 'last_update_time': datetime.datetime(2023, 7, 27, 21, 19, 47, 326223, tzinfo=tzutc()), 'created_at': datetime.datetime(2023, 7, 27, 15, 54, 51, 317246, tzinfo=tzutc())}, {'name': 'forecast-challenger01-model', 'versions': 2, 'owner_id': '\"\"', 'last_update_time': datetime.datetime(2023, 7, 27, 21, 19, 48, 36155, tzinfo=tzutc()), 'created_at': datetime.datetime(2023, 7, 27, 15, 54, 52, 151454, tzinfo=tzutc())}, {'name': 'forecast-challenger02-model', 'versions': 2, 'owner_id': '\"\"', 'last_update_time': datetime.datetime(2023, 7, 27, 21, 19, 48, 730046, tzinfo=tzutc()), 'created_at': datetime.datetime(2023, 7, 27, 15, 54, 52, 887569, tzinfo=tzutc())}], 'pipelines': [{'name': 'forecast-workshop-pipeline', 'create_time': datetime.datetime(2023, 7, 27, 15, 54, 55, 416132, tzinfo=tzutc()), 'definition': '[]'}, {'name': 'forecast-workshop-pipelinejch', 'create_time': datetime.datetime(2023, 7, 27, 22, 21, 44, 885259, tzinfo=tzutc()), 'definition': '[]'}]}\n",
       "2023-28-Jul 14:12:55 Pipeline: forecast-workshop-pipelinejch\n",
       "2023-28-Jul 14:12:55 {'name': 'forecast-workshop-pipelinejch', 'create_time': datetime.datetime(2023, 7, 27, 22, 21, 44, 885259, tzinfo=tzutc()), 'definition': '[]'}\n",
       "2023-28-Jul 14:12:55 Inference Data\n",
       "2023-28-Jul 14:12:55 {'count': [1526, 1550, 1708, 1005, 1623, 1712, 1530, 1605, 1538, 1746, 1472, 1589, 1913, 1815, 2115, 2475, 2927, 1635, 1812, 1107, 1450, 1917, 1807, 1461, 1969, 2402, 1446, 1851]}\n",
       "2023-28-Jul 14:12:55 Forecast\n",
       "2023-28-Jul 14:12:55 [{'forecast': [1764, 1749, 1743, 1741, 1740, 1740, 1740]}]</code></pre>"
      ],
      "text/plain": [
       "['2023-07-28T14:12:55.866930231Z stdout F Workspace: forecast-model-workshopjch',\n",
       " '2023-07-28T14:12:55.867008331Z stdout F {\\'name\\': \\'forecast-model-workshopjch\\', \\'id\\': 19, \\'archived\\': False, \\'created_by\\': \\'c3a45eb6-37ff-4020-8d59-7166c3e153d0\\', \\'created_at\\': \\'2023-07-27T15:54:50.280468+00:00\\', \\'models\\': [{\\'name\\': \\'forecast-control-model\\', \\'versions\\': 8, \\'owner_id\\': \\'\"\"\\', \\'last_update_time\\': datetime.datetime(2023, 7, 27, 21, 19, 47, 326223, tzinfo=tzutc()), \\'created_at\\': datetime.datetime(2023, 7, 27, 15, 54, 51, 317246, tzinfo=tzutc())}, {\\'name\\': \\'forecast-challenger01-model\\', \\'versions\\': 2, \\'owner_id\\': \\'\"\"\\', \\'last_update_time\\': datetime.datetime(2023, 7, 27, 21, 19, 48, 36155, tzinfo=tzutc()), \\'created_at\\': datetime.datetime(2023, 7, 27, 15, 54, 52, 151454, tzinfo=tzutc())}, {\\'name\\': \\'forecast-challenger02-model\\', \\'versions\\': 2, \\'owner_id\\': \\'\"\"\\', \\'last_update_time\\': datetime.datetime(2023, 7, 27, 21, 19, 48, 730046, tzinfo=tzutc()), \\'created_at\\': datetime.datetime(2023, 7, 27, 15, 54, 52, 887569, tzinfo=tzutc())}], \\'pipelines\\': [{\\'name\\': \\'forecast-workshop-pipeline\\', \\'create_time\\': datetime.datetime(2023, 7, 27, 15, 54, 55, 416132, tzinfo=tzutc()), \\'definition\\': \\'[]\\'}, {\\'name\\': \\'forecast-workshop-pipelinejch\\', \\'create_time\\': datetime.datetime(2023, 7, 27, 22, 21, 44, 885259, tzinfo=tzutc()), \\'definition\\': \\'[]\\'}]}',\n",
       " '2023-07-28T14:12:55.867021231Z stdout F Pipeline: forecast-workshop-pipelinejch',\n",
       " \"2023-07-28T14:12:55.867028031Z stdout F {'name': 'forecast-workshop-pipelinejch', 'create_time': datetime.datetime(2023, 7, 27, 22, 21, 44, 885259, tzinfo=tzutc()), 'definition': '[]'}\",\n",
       " '2023-07-28T14:12:55.867034631Z stdout F Inference Data',\n",
       " \"2023-07-28T14:12:55.867041931Z stdout F {'count': [1526, 1550, 1708, 1005, 1623, 1712, 1530, 1605, 1538, 1746, 1472, 1589, 1913, 1815, 2115, 2475, 2927, 1635, 1812, 1107, 1450, 1917, 1807, 1461, 1969, 2402, 1446, 1851]}\",\n",
       " '2023-07-28T14:12:55.867048231Z stdout F Forecast',\n",
       " \"2023-07-28T14:12:55.867053731Z stdout F [{'forecast': [1764, 1749, 1743, 1741, 1740, 1740, 1740]}]\"]"
      ]
     },
     "execution_count": 19,
     "metadata": {},
     "output_type": "execute_result"
    }
   ],
   "source": [
    "statsmodel_task_run.logs()"
   ]
  },
  {
   "cell_type": "markdown",
   "metadata": {},
   "source": [
    "### Undeploy the Pipeline\n",
    "\n",
    "Undeploy the pipeline and return the resources back to the Wallaroo instance."
   ]
  },
  {
   "cell_type": "code",
   "execution_count": null,
   "metadata": {},
   "outputs": [
    {
     "name": "stdout",
     "output_type": "stream",
     "text": [
      "Waiting for undeployment - this will take up to 45s ................"
     ]
    }
   ],
   "source": [
    "pipeline.undeploy()"
   ]
  }
 ],
 "metadata": {
  "kernelspec": {
   "display_name": "Python 3 (ipykernel)",
   "language": "python",
   "name": "python3"
  },
  "language_info": {
   "codemirror_mode": {
    "name": "ipython",
    "version": 3
   },
   "file_extension": ".py",
   "mimetype": "text/x-python",
   "name": "python",
   "nbconvert_exporter": "python",
   "pygments_lexer": "ipython3",
   "version": "3.9.13"
  },
  "vscode": {
   "interpreter": {
    "hash": "7dda4bf3640b7fafcd1648658b879b4cc9f6ba6084e8fb356fdaaa1a461d1690"
   }
  }
 },
 "nbformat": 4,
 "nbformat_minor": 4
}
