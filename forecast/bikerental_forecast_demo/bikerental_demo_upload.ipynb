{
 "cells": [
  {
   "cell_type": "markdown",
   "metadata": {},
   "source": [
    "### Import Libraries\n",
    "\n",
    "The first step is to import the libraries that we will need."
   ]
  },
  {
   "cell_type": "code",
   "execution_count": 2,
   "metadata": {},
   "outputs": [],
   "source": [
    "import json\n",
    "import os\n",
    "import datetime\n",
    "\n",
    "import wallaroo\n",
    "from wallaroo.object import EntityNotFoundError\n",
    "\n",
    "# used to display dataframe information without truncating\n",
    "from IPython.display import display\n",
    "import pandas as pd\n",
    "pd.set_option('display.max_colwidth', None)\n",
    "\n",
    "# # for Big Query connections\n",
    "# from google.cloud import bigquery\n",
    "# from google.oauth2 import service_account\n",
    "# import db_dtypes\n"
   ]
  },
  {
   "cell_type": "code",
   "execution_count": 3,
   "metadata": {},
   "outputs": [
    {
     "data": {
      "text/plain": [
       "'2023.2.1'"
      ]
     },
     "execution_count": 3,
     "metadata": {},
     "output_type": "execute_result"
    }
   ],
   "source": [
    "wallaroo.__version__"
   ]
  },
  {
   "cell_type": "markdown",
   "metadata": {},
   "source": [
    "### Initialize connection\n",
    "\n",
    "Start a connect to the Wallaroo instance and save the connection into the variable `wl`."
   ]
  },
  {
   "cell_type": "code",
   "execution_count": 4,
   "metadata": {},
   "outputs": [],
   "source": [
    "# Login through local Wallaroo instance\n",
    "\n",
    "wl = wallaroo.Client()\n",
    "\n",
    "\n",
    "wl = wallaroo.Client()\n",
    "\n",
    "wallarooPrefix = \"doc-test.\"\n",
    "wallarooSuffix = \"wallaroocommunity.ninja\"\n",
    "\n",
    "wl = wallaroo.Client(api_endpoint=f\"https://{wallarooPrefix}api.{wallarooSuffix}\", \n",
    "                    auth_endpoint=f\"https://{wallarooPrefix}keycloak.{wallarooSuffix}\", \n",
    "                    auth_type=\"sso\")"
   ]
  },
  {
   "cell_type": "markdown",
   "metadata": {},
   "source": [
    "### Set Configurations\n",
    "\n",
    "The following will set the workspace, model name, and pipeline that will be used for this example.  If the workspace or pipeline already exist, then they will assigned for use in this example.  If they do not exist, they will be created based on the names listed below."
   ]
  },
  {
   "cell_type": "code",
   "execution_count": 5,
   "metadata": {},
   "outputs": [],
   "source": [
    "workspace_name = 'bikerental-nbz'\n",
    "pipeline_name = 'bikeforecast-pipe'\n",
    "model_name = 'bikeforecast-arima'"
   ]
  },
  {
   "cell_type": "markdown",
   "metadata": {},
   "source": [
    "## Set the Workspace and Pipeline\n"
   ]
  },
  {
   "cell_type": "code",
   "execution_count": 6,
   "metadata": {},
   "outputs": [],
   "source": [
    "def get_workspace(name):\n",
    "    workspace = None\n",
    "    for ws in wl.list_workspaces():\n",
    "        if ws.name() == name:\n",
    "            workspace= ws\n",
    "    if(workspace == None):\n",
    "        workspace = wl.create_workspace(name)\n",
    "    return workspace\n",
    "\n",
    "# get a pipeline by name in the workspace\n",
    "def get_pipeline(pname, create_if_absent=False):\n",
    "    plist = wl.get_current_workspace().pipelines()\n",
    "    pipeline = [p for p in plist if p.name() == pname]\n",
    "    if len(pipeline) <= 0:\n",
    "        if create_if_absent:\n",
    "            pipeline = wl.build_pipeline(pname)\n",
    "        else:\n",
    "            raise KeyError(f\"pipeline {pname} not found in this workspace\")\n",
    "    else:\n",
    "        pipeline = pipeline[0]\n",
    "    return pipeline\n",
    "\n",
    "\n",
    "workspace = get_workspace(workspace_name)\n",
    "\n",
    "wl.set_current_workspace(workspace)\n",
    "\n",
    "pipeline = get_pipeline(pipeline_name, create_if_absent=True)\n",
    "# pipeline"
   ]
  },
  {
   "cell_type": "markdown",
   "metadata": {},
   "source": [
    "### Upload Model\n",
    "\n",
    "This model is a simple ARIMA(1,0,1) with no exogenous variables, hard-coded to forecast seven days out.\n",
    "\n",
    "Note that this package is being specified as a `python` configuration."
   ]
  },
  {
   "cell_type": "code",
   "execution_count": 8,
   "metadata": {},
   "outputs": [],
   "source": [
    "model_file_name = './models/forecast.py'\n",
    "\n",
    "from wallaroo.framework import Framework\n",
    "\n",
    "arima_model = wl.upload_model(model_name, model_file_name, framework=Framework.PYTHON)"
   ]
  },
  {
   "cell_type": "markdown",
   "metadata": {},
   "source": [
    "### Deploy the Pipeline\n",
    "\n",
    "We will now add the uploaded model as a step for the pipeline, then deploy it."
   ]
  },
  {
   "cell_type": "code",
   "execution_count": 9,
   "metadata": {},
   "outputs": [
    {
     "data": {
      "text/html": [
       "<table><tr><th>name</th> <td>bikeforecast-pipe</td></tr><tr><th>created</th> <td>2023-07-26 19:42:26.035307+00:00</td></tr><tr><th>last_updated</th> <td>2023-07-26 19:43:00.509267+00:00</td></tr><tr><th>deployed</th> <td>True</td></tr><tr><th>tags</th> <td></td></tr><tr><th>versions</th> <td>1d9c162a-3116-4f58-8f52-64aeb559e4bc, e2159554-214a-424d-83d7-fd01c41b31ed</td></tr><tr><th>steps</th> <td>bikeforecast-arima</td></tr></table>"
      ],
      "text/plain": [
       "{'name': 'bikeforecast-pipe', 'create_time': datetime.datetime(2023, 7, 26, 19, 42, 26, 35307, tzinfo=tzutc()), 'definition': \"[{'ModelInference': {'models': [{'name': 'bikeforecast-arima', 'version': 'd3ba8a8d-dcbf-477f-85e3-3670fdf81b85', 'sha': '7ed0600d8b754ff9d901633cf78de7f825c9d2d0f79a2647d271d2b04f4befd8'}]}}]\"}"
      ]
     },
     "execution_count": 9,
     "metadata": {},
     "output_type": "execute_result"
    }
   ],
   "source": [
    "pipeline.add_model_step(arima_model).deploy()"
   ]
  },
  {
   "cell_type": "code",
   "execution_count": 10,
   "metadata": {},
   "outputs": [
    {
     "data": {
      "text/plain": [
       "{'status': 'Running',\n",
       " 'details': [],\n",
       " 'engines': [{'ip': '10.244.3.234',\n",
       "   'name': 'engine-c84674699-5hn54',\n",
       "   'status': 'Running',\n",
       "   'reason': None,\n",
       "   'details': [],\n",
       "   'pipeline_statuses': {'pipelines': [{'id': 'bikeforecast-pipe',\n",
       "      'status': 'Running'}]},\n",
       "   'model_statuses': {'models': [{'name': 'bikeforecast-arima',\n",
       "      'version': 'd3ba8a8d-dcbf-477f-85e3-3670fdf81b85',\n",
       "      'sha': '7ed0600d8b754ff9d901633cf78de7f825c9d2d0f79a2647d271d2b04f4befd8',\n",
       "      'status': 'Running'}]}}],\n",
       " 'engine_lbs': [{'ip': '10.244.4.8',\n",
       "   'name': 'engine-lb-584f54c899-z6kp9',\n",
       "   'status': 'Running',\n",
       "   'reason': None,\n",
       "   'details': []}],\n",
       " 'sidekicks': []}"
      ]
     },
     "execution_count": 10,
     "metadata": {},
     "output_type": "execute_result"
    }
   ],
   "source": [
    "pipeline.status()"
   ]
  },
  {
   "cell_type": "markdown",
   "metadata": {},
   "source": [
    "### Run Inference\n",
    "\n",
    "Test using the connector\n"
   ]
  },
  {
   "cell_type": "code",
   "execution_count": 12,
   "metadata": {},
   "outputs": [
    {
     "data": {
      "text/html": [
       "<div>\n",
       "<style scoped>\n",
       "    .dataframe tbody tr th:only-of-type {\n",
       "        vertical-align: middle;\n",
       "    }\n",
       "\n",
       "    .dataframe tbody tr th {\n",
       "        vertical-align: top;\n",
       "    }\n",
       "\n",
       "    .dataframe thead th {\n",
       "        text-align: right;\n",
       "    }\n",
       "</style>\n",
       "<table border=\"1\" class=\"dataframe\">\n",
       "  <thead>\n",
       "    <tr style=\"text-align: right;\">\n",
       "      <th></th>\n",
       "      <th>dteday</th>\n",
       "      <th>site_id</th>\n",
       "      <th>forecast</th>\n",
       "    </tr>\n",
       "  </thead>\n",
       "  <tbody>\n",
       "    <tr>\n",
       "      <th>0</th>\n",
       "      <td>2011-03-02</td>\n",
       "      <td>site0001</td>\n",
       "      <td>2269</td>\n",
       "    </tr>\n",
       "    <tr>\n",
       "      <th>1</th>\n",
       "      <td>2011-03-03</td>\n",
       "      <td>site0001</td>\n",
       "      <td>1712</td>\n",
       "    </tr>\n",
       "    <tr>\n",
       "      <th>2</th>\n",
       "      <td>2011-03-04</td>\n",
       "      <td>site0001</td>\n",
       "      <td>1795</td>\n",
       "    </tr>\n",
       "    <tr>\n",
       "      <th>3</th>\n",
       "      <td>2011-03-05</td>\n",
       "      <td>site0001</td>\n",
       "      <td>1371</td>\n",
       "    </tr>\n",
       "    <tr>\n",
       "      <th>4</th>\n",
       "      <td>2011-03-06</td>\n",
       "      <td>site0001</td>\n",
       "      <td>1819</td>\n",
       "    </tr>\n",
       "    <tr>\n",
       "      <th>5</th>\n",
       "      <td>2011-03-07</td>\n",
       "      <td>site0001</td>\n",
       "      <td>2045</td>\n",
       "    </tr>\n",
       "    <tr>\n",
       "      <th>6</th>\n",
       "      <td>2011-03-08</td>\n",
       "      <td>site0001</td>\n",
       "      <td>1974</td>\n",
       "    </tr>\n",
       "  </tbody>\n",
       "</table>\n",
       "</div>"
      ],
      "text/plain": [
       "       dteday   site_id  forecast\n",
       "0  2011-03-02  site0001      2269\n",
       "1  2011-03-03  site0001      1712\n",
       "2  2011-03-04  site0001      1795\n",
       "3  2011-03-05  site0001      1371\n",
       "4  2011-03-06  site0001      1819\n",
       "5  2011-03-07  site0001      2045\n",
       "6  2011-03-08  site0001      1974"
      ]
     },
     "metadata": {},
     "output_type": "display_data"
    }
   ],
   "source": [
    "# simple test\n",
    "results = pipeline.infer_from_file('./data/testdata_dict.json', data_format=\"custom-json\")\n",
    "resultframe = pd.DataFrame(results[0])\n",
    "display(resultframe)"
   ]
  },
  {
   "cell_type": "code",
   "execution_count": 13,
   "metadata": {},
   "outputs": [
    {
     "data": {
      "text/html": [
       "<div>\n",
       "<style scoped>\n",
       "    .dataframe tbody tr th:only-of-type {\n",
       "        vertical-align: middle;\n",
       "    }\n",
       "\n",
       "    .dataframe tbody tr th {\n",
       "        vertical-align: top;\n",
       "    }\n",
       "\n",
       "    .dataframe thead th {\n",
       "        text-align: right;\n",
       "    }\n",
       "</style>\n",
       "<table border=\"1\" class=\"dataframe\">\n",
       "  <thead>\n",
       "    <tr style=\"text-align: right;\">\n",
       "      <th></th>\n",
       "      <th>time</th>\n",
       "      <th>in.json</th>\n",
       "      <th>out.json</th>\n",
       "      <th>check_failures</th>\n",
       "    </tr>\n",
       "  </thead>\n",
       "  <tbody>\n",
       "    <tr>\n",
       "      <th>0</th>\n",
       "      <td>2023-07-26 19:43:37.422</td>\n",
       "      <td>{\"dteday\":[\"2011-02-02\",\"2011-02-03\",\"2011-02-04\",\"2011-02-05\",\"2011-02-06\",\"2011-02-07\",\"2011-02-08\",\"2011-02-09\",\"2011-02-10\",\"2011-02-11\",\"2011-02-12\",\"2011-02-13\",\"2011-02-14\",\"2011-02-15\",\"2011-02-16\",\"2011-02-17\",\"2011-02-18\",\"2011-02-19\",\"2011-02-20\",\"2011-02-21\",\"2011-02-22\",\"2011-02-23\",\"2011-02-24\",\"2011-02-25\",\"2011-02-26\",\"2011-02-27\",\"2011-02-28\",\"2011-03-01\",\"2011-03-02\",\"2011-03-03\",\"2011-03-04\",\"2011-03-05\",\"2011-03-06\",\"2011-03-07\",\"2011-03-08\"],\"site_id\":[\"site0001\",\"site0001\",\"site0001\",\"site0001\",\"site0001\",\"site0001\",\"site0001\",\"site0001\",\"site0001\",\"site0001\",\"site0001\",\"site0001\",\"site0001\",\"site0001\",\"site0001\",\"site0001\",\"site0001\",\"site0001\",\"site0001\",\"site0001\",\"site0001\",\"site0001\",\"site0001\",\"site0001\",\"site0001\",\"site0001\",\"site0001\",\"site0001\",\"site0001\",\"site0001\",\"site0001\",\"site0001\",\"site0001\",\"site0001\",\"site0001\"],\"cnt\":[1240,1551,2324,805,1948,1650,913,931,1256,1614,1000,1883,1964,2036,2586,3219,3947,1826,1418,723,1281,2564,2181,1539,2059,2428,836,1235,-1,-1,-1,-1,-1,-1,-1],\"season\":[1,1,1,1,1,1,1,1,1,1,1,1,1,1,1,1,1,1,1,1,1,1,1,1,1,1,1,1,1,1,1,1,1,1,1],\"holiday\":[0,0,0,0,0,0,0,0,0,0,0,0,0,0,0,0,0,0,0,1,0,0,0,0,0,0,0,0,0,0,0,0,0,0,0],\"weekday\":[3,4,5,6,0,1,2,3,4,5,6,0,1,2,3,4,5,6,0,1,2,3,4,5,6,0,1,2,3,4,5,6,0,1,2],\"workingday\":[1,1,1,0,0,1,1,1,1,1,0,0,1,1,1,1,1,0,0,0,1,1,1,1,0,0,1,1,1,1,1,0,0,1,1]}</td>\n",
       "      <td>{\"dteday\":{\"0\":\"2011-03-02\",\"1\":\"2011-03-03\",\"2\":\"2011-03-04\",\"3\":\"2011-03-05\",\"4\":\"2011-03-06\",\"5\":\"2011-03-07\",\"6\":\"2011-03-08\"},\"site_id\":{\"0\":\"site0001\",\"1\":\"site0001\",\"2\":\"site0001\",\"3\":\"site0001\",\"4\":\"site0001\",\"5\":\"site0001\",\"6\":\"site0001\"},\"forecast\":{\"0\":2269,\"1\":1712,\"2\":1795,\"3\":1371,\"4\":1819,\"5\":2045,\"6\":1974}}</td>\n",
       "      <td>0</td>\n",
       "    </tr>\n",
       "    <tr>\n",
       "      <th>1</th>\n",
       "      <td>2023-07-26 19:43:18.055</td>\n",
       "      <td>{\"dteday\":[\"2011-02-02\",\"2011-02-03\",\"2011-02-04\",\"2011-02-05\",\"2011-02-06\",\"2011-02-07\",\"2011-02-08\",\"2011-02-09\",\"2011-02-10\",\"2011-02-11\",\"2011-02-12\",\"2011-02-13\",\"2011-02-14\",\"2011-02-15\",\"2011-02-16\",\"2011-02-17\",\"2011-02-18\",\"2011-02-19\",\"2011-02-20\",\"2011-02-21\",\"2011-02-22\",\"2011-02-23\",\"2011-02-24\",\"2011-02-25\",\"2011-02-26\",\"2011-02-27\",\"2011-02-28\",\"2011-03-01\",\"2011-03-02\",\"2011-03-03\",\"2011-03-04\",\"2011-03-05\",\"2011-03-06\",\"2011-03-07\",\"2011-03-08\"],\"site_id\":[\"site0001\",\"site0001\",\"site0001\",\"site0001\",\"site0001\",\"site0001\",\"site0001\",\"site0001\",\"site0001\",\"site0001\",\"site0001\",\"site0001\",\"site0001\",\"site0001\",\"site0001\",\"site0001\",\"site0001\",\"site0001\",\"site0001\",\"site0001\",\"site0001\",\"site0001\",\"site0001\",\"site0001\",\"site0001\",\"site0001\",\"site0001\",\"site0001\",\"site0001\",\"site0001\",\"site0001\",\"site0001\",\"site0001\",\"site0001\",\"site0001\"],\"cnt\":[1240,1551,2324,805,1948,1650,913,931,1256,1614,1000,1883,1964,2036,2586,3219,3947,1826,1418,723,1281,2564,2181,1539,2059,2428,836,1235,-1,-1,-1,-1,-1,-1,-1],\"season\":[1,1,1,1,1,1,1,1,1,1,1,1,1,1,1,1,1,1,1,1,1,1,1,1,1,1,1,1,1,1,1,1,1,1,1],\"holiday\":[0,0,0,0,0,0,0,0,0,0,0,0,0,0,0,0,0,0,0,1,0,0,0,0,0,0,0,0,0,0,0,0,0,0,0],\"weekday\":[3,4,5,6,0,1,2,3,4,5,6,0,1,2,3,4,5,6,0,1,2,3,4,5,6,0,1,2,3,4,5,6,0,1,2],\"workingday\":[1,1,1,0,0,1,1,1,1,1,0,0,1,1,1,1,1,0,0,0,1,1,1,1,0,0,1,1,1,1,1,0,0,1,1]}</td>\n",
       "      <td>{\"dteday\":{\"0\":\"2011-03-02\",\"1\":\"2011-03-03\",\"2\":\"2011-03-04\",\"3\":\"2011-03-05\",\"4\":\"2011-03-06\",\"5\":\"2011-03-07\",\"6\":\"2011-03-08\"},\"site_id\":{\"0\":\"site0001\",\"1\":\"site0001\",\"2\":\"site0001\",\"3\":\"site0001\",\"4\":\"site0001\",\"5\":\"site0001\",\"6\":\"site0001\"},\"forecast\":{\"0\":2269,\"1\":1712,\"2\":1795,\"3\":1371,\"4\":1819,\"5\":2045,\"6\":1974}}</td>\n",
       "      <td>0</td>\n",
       "    </tr>\n",
       "  </tbody>\n",
       "</table>\n",
       "</div>"
      ],
      "text/plain": [
       "                     time  \\\n",
       "0 2023-07-26 19:43:37.422   \n",
       "1 2023-07-26 19:43:18.055   \n",
       "\n",
       "                                                                                                                                                                                                                                                                                                                                                                                                                                                                                                                                                                                                                                                                                                                                                                                                                                                                                                                                                                                                                                                                                                                                                                                                                                                                                                                                                                                                          in.json  \\\n",
       "0  {\"dteday\":[\"2011-02-02\",\"2011-02-03\",\"2011-02-04\",\"2011-02-05\",\"2011-02-06\",\"2011-02-07\",\"2011-02-08\",\"2011-02-09\",\"2011-02-10\",\"2011-02-11\",\"2011-02-12\",\"2011-02-13\",\"2011-02-14\",\"2011-02-15\",\"2011-02-16\",\"2011-02-17\",\"2011-02-18\",\"2011-02-19\",\"2011-02-20\",\"2011-02-21\",\"2011-02-22\",\"2011-02-23\",\"2011-02-24\",\"2011-02-25\",\"2011-02-26\",\"2011-02-27\",\"2011-02-28\",\"2011-03-01\",\"2011-03-02\",\"2011-03-03\",\"2011-03-04\",\"2011-03-05\",\"2011-03-06\",\"2011-03-07\",\"2011-03-08\"],\"site_id\":[\"site0001\",\"site0001\",\"site0001\",\"site0001\",\"site0001\",\"site0001\",\"site0001\",\"site0001\",\"site0001\",\"site0001\",\"site0001\",\"site0001\",\"site0001\",\"site0001\",\"site0001\",\"site0001\",\"site0001\",\"site0001\",\"site0001\",\"site0001\",\"site0001\",\"site0001\",\"site0001\",\"site0001\",\"site0001\",\"site0001\",\"site0001\",\"site0001\",\"site0001\",\"site0001\",\"site0001\",\"site0001\",\"site0001\",\"site0001\",\"site0001\"],\"cnt\":[1240,1551,2324,805,1948,1650,913,931,1256,1614,1000,1883,1964,2036,2586,3219,3947,1826,1418,723,1281,2564,2181,1539,2059,2428,836,1235,-1,-1,-1,-1,-1,-1,-1],\"season\":[1,1,1,1,1,1,1,1,1,1,1,1,1,1,1,1,1,1,1,1,1,1,1,1,1,1,1,1,1,1,1,1,1,1,1],\"holiday\":[0,0,0,0,0,0,0,0,0,0,0,0,0,0,0,0,0,0,0,1,0,0,0,0,0,0,0,0,0,0,0,0,0,0,0],\"weekday\":[3,4,5,6,0,1,2,3,4,5,6,0,1,2,3,4,5,6,0,1,2,3,4,5,6,0,1,2,3,4,5,6,0,1,2],\"workingday\":[1,1,1,0,0,1,1,1,1,1,0,0,1,1,1,1,1,0,0,0,1,1,1,1,0,0,1,1,1,1,1,0,0,1,1]}   \n",
       "1  {\"dteday\":[\"2011-02-02\",\"2011-02-03\",\"2011-02-04\",\"2011-02-05\",\"2011-02-06\",\"2011-02-07\",\"2011-02-08\",\"2011-02-09\",\"2011-02-10\",\"2011-02-11\",\"2011-02-12\",\"2011-02-13\",\"2011-02-14\",\"2011-02-15\",\"2011-02-16\",\"2011-02-17\",\"2011-02-18\",\"2011-02-19\",\"2011-02-20\",\"2011-02-21\",\"2011-02-22\",\"2011-02-23\",\"2011-02-24\",\"2011-02-25\",\"2011-02-26\",\"2011-02-27\",\"2011-02-28\",\"2011-03-01\",\"2011-03-02\",\"2011-03-03\",\"2011-03-04\",\"2011-03-05\",\"2011-03-06\",\"2011-03-07\",\"2011-03-08\"],\"site_id\":[\"site0001\",\"site0001\",\"site0001\",\"site0001\",\"site0001\",\"site0001\",\"site0001\",\"site0001\",\"site0001\",\"site0001\",\"site0001\",\"site0001\",\"site0001\",\"site0001\",\"site0001\",\"site0001\",\"site0001\",\"site0001\",\"site0001\",\"site0001\",\"site0001\",\"site0001\",\"site0001\",\"site0001\",\"site0001\",\"site0001\",\"site0001\",\"site0001\",\"site0001\",\"site0001\",\"site0001\",\"site0001\",\"site0001\",\"site0001\",\"site0001\"],\"cnt\":[1240,1551,2324,805,1948,1650,913,931,1256,1614,1000,1883,1964,2036,2586,3219,3947,1826,1418,723,1281,2564,2181,1539,2059,2428,836,1235,-1,-1,-1,-1,-1,-1,-1],\"season\":[1,1,1,1,1,1,1,1,1,1,1,1,1,1,1,1,1,1,1,1,1,1,1,1,1,1,1,1,1,1,1,1,1,1,1],\"holiday\":[0,0,0,0,0,0,0,0,0,0,0,0,0,0,0,0,0,0,0,1,0,0,0,0,0,0,0,0,0,0,0,0,0,0,0],\"weekday\":[3,4,5,6,0,1,2,3,4,5,6,0,1,2,3,4,5,6,0,1,2,3,4,5,6,0,1,2,3,4,5,6,0,1,2],\"workingday\":[1,1,1,0,0,1,1,1,1,1,0,0,1,1,1,1,1,0,0,0,1,1,1,1,0,0,1,1,1,1,1,0,0,1,1]}   \n",
       "\n",
       "                                                                                                                                                                                                                                                                                                                               out.json  \\\n",
       "0  {\"dteday\":{\"0\":\"2011-03-02\",\"1\":\"2011-03-03\",\"2\":\"2011-03-04\",\"3\":\"2011-03-05\",\"4\":\"2011-03-06\",\"5\":\"2011-03-07\",\"6\":\"2011-03-08\"},\"site_id\":{\"0\":\"site0001\",\"1\":\"site0001\",\"2\":\"site0001\",\"3\":\"site0001\",\"4\":\"site0001\",\"5\":\"site0001\",\"6\":\"site0001\"},\"forecast\":{\"0\":2269,\"1\":1712,\"2\":1795,\"3\":1371,\"4\":1819,\"5\":2045,\"6\":1974}}   \n",
       "1  {\"dteday\":{\"0\":\"2011-03-02\",\"1\":\"2011-03-03\",\"2\":\"2011-03-04\",\"3\":\"2011-03-05\",\"4\":\"2011-03-06\",\"5\":\"2011-03-07\",\"6\":\"2011-03-08\"},\"site_id\":{\"0\":\"site0001\",\"1\":\"site0001\",\"2\":\"site0001\",\"3\":\"site0001\",\"4\":\"site0001\",\"5\":\"site0001\",\"6\":\"site0001\"},\"forecast\":{\"0\":2269,\"1\":1712,\"2\":1795,\"3\":1371,\"4\":1819,\"5\":2045,\"6\":1974}}   \n",
       "\n",
       "   check_failures  \n",
       "0               0  \n",
       "1               0  "
      ]
     },
     "execution_count": 13,
     "metadata": {},
     "output_type": "execute_result"
    }
   ],
   "source": [
    "pipeline.logs()"
   ]
  },
  {
   "cell_type": "code",
   "execution_count": null,
   "metadata": {},
   "outputs": [],
   "source": [
    "# connection = wl.get_connection('bq-wl-dev')\n",
    "\n",
    "# # set the credentials\n",
    "# bigquery_credentials = service_account.Credentials.from_service_account_info(connection.details())\n",
    "\n",
    "# # start the client\n",
    "# bigqueryclient = bigquery.Client(\n",
    "#     credentials=bigquery_credentials, \n",
    "#     project=connection.details()['project_id']\n",
    "# )\n",
    "\n",
    "\n",
    "# dataset = 'bikerental_forecast_demo'\n",
    "# input_table = 'bikerentals'\n",
    "# tablename = f'{dataset}.{input_table}'\n",
    "\n",
    "# sites = bigqueryclient.query(f\"select distinct site_id from {tablename}\").to_dataframe()\n",
    "# sites = sites['site_id'].to_numpy()\n",
    "# print(f'{len(sites)} rental sites')"
   ]
  },
  {
   "cell_type": "code",
   "execution_count": null,
   "metadata": {},
   "outputs": [],
   "source": [
    "# from resources import util\n",
    "\n",
    "# today = '2011-03-01'\n",
    "\n",
    "# # create the query to get historical data\n",
    "# query = util.mk_dt_range_query(tablename=tablename, day_of_forecast=today, site_id=sites[0])\n",
    "# print(query)\n",
    "\n",
    "# xquery = util.mk_exog_query(tablename=tablename, day_of_forecast=today, site_id=sites[0], nforecast=7)\n",
    "# print(xquery)"
   ]
  },
  {
   "cell_type": "code",
   "execution_count": null,
   "metadata": {},
   "outputs": [],
   "source": [
    "# historical_data = bigqueryclient.query(query).to_dataframe()\n",
    "# exog = bigqueryclient.query(xquery).to_dataframe()\n",
    "\n",
    "# # fill the exog frame with a \"nan\" count: -1 so I can pass everything in as one frame\n",
    "# # actual nan would be better but I'm not sure if the platform handles it\n",
    "# exog['cnt'] = -1\n",
    "\n",
    "# input_frame = pd.concat([historical_data, exog]).reset_index(drop=True)\n",
    "# input_frame"
   ]
  },
  {
   "cell_type": "code",
   "execution_count": null,
   "metadata": {},
   "outputs": [],
   "source": [
    "input_frame['dteday'] = input_frame['dteday'].astype(str)"
   ]
  },
  {
   "cell_type": "code",
   "execution_count": null,
   "metadata": {},
   "outputs": [],
   "source": [
    "results = pipeline.infer(input_frame.to_dict())[0]"
   ]
  },
  {
   "cell_type": "code",
   "execution_count": null,
   "metadata": {},
   "outputs": [],
   "source": [
    "results"
   ]
  },
  {
   "cell_type": "code",
   "execution_count": null,
   "metadata": {},
   "outputs": [],
   "source": [
    "resultframe = pd.DataFrame(results)\n",
    "resultframe"
   ]
  },
  {
   "cell_type": "markdown",
   "metadata": {},
   "source": [
    "### Undeploy the Pipeline\n",
    "\n",
    "Undeploy the pipeline and return the resources back to the Wallaroo instance."
   ]
  },
  {
   "cell_type": "code",
   "execution_count": 14,
   "metadata": {},
   "outputs": [
    {
     "data": {
      "text/html": [
       "<table><tr><th>name</th> <td>bikeforecast-pipe</td></tr><tr><th>created</th> <td>2023-07-26 19:42:26.035307+00:00</td></tr><tr><th>last_updated</th> <td>2023-07-26 19:43:00.509267+00:00</td></tr><tr><th>deployed</th> <td>False</td></tr><tr><th>tags</th> <td></td></tr><tr><th>versions</th> <td>1d9c162a-3116-4f58-8f52-64aeb559e4bc, e2159554-214a-424d-83d7-fd01c41b31ed</td></tr><tr><th>steps</th> <td>bikeforecast-arima</td></tr></table>"
      ],
      "text/plain": [
       "{'name': 'bikeforecast-pipe', 'create_time': datetime.datetime(2023, 7, 26, 19, 42, 26, 35307, tzinfo=tzutc()), 'definition': \"[{'ModelInference': {'models': [{'name': 'bikeforecast-arima', 'version': 'd3ba8a8d-dcbf-477f-85e3-3670fdf81b85', 'sha': '7ed0600d8b754ff9d901633cf78de7f825c9d2d0f79a2647d271d2b04f4befd8'}]}}]\"}"
      ]
     },
     "execution_count": 14,
     "metadata": {},
     "output_type": "execute_result"
    }
   ],
   "source": [
    "pipeline.undeploy()"
   ]
  },
  {
   "cell_type": "code",
   "execution_count": null,
   "metadata": {},
   "outputs": [],
   "source": [
    "bigqueryclient.close()"
   ]
  },
  {
   "cell_type": "code",
   "execution_count": null,
   "metadata": {},
   "outputs": [],
   "source": []
  }
 ],
 "metadata": {
  "kernelspec": {
   "display_name": "Python 3 (ipykernel)",
   "language": "python",
   "name": "python3"
  },
  "language_info": {
   "codemirror_mode": {
    "name": "ipython",
    "version": 3
   },
   "file_extension": ".py",
   "mimetype": "text/x-python",
   "name": "python",
   "nbconvert_exporter": "python",
   "pygments_lexer": "ipython3",
   "version": "3.8.17"
  },
  "vscode": {
   "interpreter": {
    "hash": "7dda4bf3640b7fafcd1648658b879b4cc9f6ba6084e8fb356fdaaa1a461d1690"
   }
  }
 },
 "nbformat": 4,
 "nbformat_minor": 4
}
