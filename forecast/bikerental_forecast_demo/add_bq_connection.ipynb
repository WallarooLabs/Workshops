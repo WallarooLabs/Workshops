{
 "cells": [
  {
   "cell_type": "markdown",
   "id": "54d6daff",
   "metadata": {},
   "source": [
    "# Create connection\n",
    "\n",
    "Create a BQ connection, add it to wallaroo"
   ]
  },
  {
   "cell_type": "code",
   "execution_count": 1,
   "id": "43ee5f42",
   "metadata": {},
   "outputs": [],
   "source": [
    "import wallaroo\n",
    "from wallaroo.object import EntityNotFoundError, RequiredAttributeMissing\n",
    "\n",
    "# to display dataframe tables\n",
    "from IPython.display import display\n",
    "# used to display dataframe information without truncating\n",
    "import pandas as pd\n",
    "pd.set_option('display.max_colwidth', None)\n",
    "import pyarrow as pa\n",
    "\n",
    "import time\n",
    "import json\n",
    "\n",
    "# for Big Query connections\n",
    "from google.cloud import bigquery\n",
    "from google.oauth2 import service_account\n",
    "import db_dtypes\n"
   ]
  },
  {
   "cell_type": "code",
   "execution_count": 2,
   "id": "bae92d93",
   "metadata": {},
   "outputs": [
    {
     "data": {
      "text/plain": [
       "'2023.2.0+dfca0605e'"
      ]
     },
     "execution_count": 2,
     "metadata": {},
     "output_type": "execute_result"
    }
   ],
   "source": [
    "wallaroo.__version__"
   ]
  },
  {
   "cell_type": "markdown",
   "id": "ae645fd0",
   "metadata": {},
   "source": [
    "### Connect to the Wallaroo Instance\n"
   ]
  },
  {
   "cell_type": "code",
   "execution_count": 3,
   "id": "e9d19a6e",
   "metadata": {},
   "outputs": [
    {
     "name": "stdout",
     "output_type": "stream",
     "text": [
      "Please log into the following URL in a web browser:\n",
      "\n",
      "\thttps://product-uat-ee.keycloak.wallaroocommunity.ninja/auth/realms/master/device?user_code=YDJS-TKLA\n",
      "\n",
      "Login successful!\n"
     ]
    }
   ],
   "source": [
    "# Login through local Wallaroo instance\n",
    "\n",
    "wl = wallaroo.Client()"
   ]
  },
  {
   "cell_type": "markdown",
   "id": "4a8340b1",
   "metadata": {},
   "source": [
    "## Variable Declaration\n",
    "\n",
    "The following variables will be used for our big query testing.  \n",
    "\n",
    "We'll create and use the connection `bq_connection`\n",
    "\n",
    "Not that for the connection arguments, we'll retrieve the information from the files `bigquery_service_account.json`, which includes the  [service account key file(SAK)](https://cloud.google.com/bigquery/docs/authentication/service-account-file) information.\n",
    "\n",
    "| Field | Included in SAK | \n",
    "|---|---|\n",
    "| type | √ | \n",
    "| project_id | √ |\n",
    "| private_key_id | √ |\n",
    "| private_key | √ |\n",
    "| client_email | √ |\n",
    "| auth_uri | √ |\n",
    "| token_uri | √ |\n",
    "| auth_provider_x509_cert_url | √ |\n",
    "| client_x509_cert_url | √ |\n",
    "| database | 🚫 |\n",
    "| table | 🚫 |\n"
   ]
  },
  {
   "cell_type": "markdown",
   "id": "9c46c722",
   "metadata": {},
   "source": [
    "### Helper Method\n",
    "\n",
    "The following helper method will create a new connection, or return it if it already exists"
   ]
  },
  {
   "cell_type": "code",
   "execution_count": 4,
   "id": "0361a9db",
   "metadata": {},
   "outputs": [],
   "source": [
    "# helper methods \n",
    "def get_connection(name, connection_type, connection_arguments):\n",
    "    try:\n",
    "        connection = wl.get_connection(name)\n",
    "    except RequiredAttributeMissing:\n",
    "        connection =wl.create_connection(name, \n",
    "                  connection_type, \n",
    "                  connection_arguments)\n",
    "    return connection\n"
   ]
  },
  {
   "cell_type": "markdown",
   "id": "573bc347",
   "metadata": {},
   "source": [
    "## Create Connections\n",
    "\n",
    "We will create the data source connection via the Wallaroo client command `create_connection`.\n",
    "\n",
    "Connections are created with the Wallaroo client command [`create_connection`](https://staging.docs.wallaroo.ai/wallaroo-developer-guides/wallaroo-sdk-guides/wallaroo-sdk-essentials-guide/wallaroo-sdk-essentials-ml-workload-orchestration/#create-orchestration) with the following parameters.\n",
    "\n",
    "| Parameter | Type | Description |\n",
    "| --- | --- | ---|\n",
    "| **name** | string (Required) | The name of the connection. This must be unique - **if submitting the name of an existing** connection it will return an error. |\n",
    "| **type** | string (Required) | The user defined type of connection. |\n",
    "| **details** | Dict (Required) | User defined configuration details for the data connection.  These can be `{'username':'dataperson', 'password':'datapassword', 'port': 3339}`, or `{'token':'abcde123==', 'host':'example.com', 'port:1234'}`, or other user defined combinations.  |\n",
    "\n",
    "* **IMPORTANT NOTE**:  Data connections names **must** be unique.  Attempting to create a data connection with the same `name` as an existing data connection will result in an error.\n",
    "\n",
    "See the `statsmodel_forecast_inputs` and `statsmodel_forecast_outputs` details listed above for the table schema used for our example.\n"
   ]
  },
  {
   "cell_type": "code",
   "execution_count": 5,
   "id": "d4616c90",
   "metadata": {},
   "outputs": [
    {
     "data": {
      "text/html": [
       "\n",
       "        <table>\n",
       "          <tr>\n",
       "            <th>Field</th>\n",
       "            <th>Value</th>\n",
       "          </tr>\n",
       "          <tr>\n",
       "            <td>Name</td><td>bq-wl-dev</td>\n",
       "          </tr>\n",
       "          <tr>\n",
       "            <td>Connection Type</td><td>BIGQUERY</td>\n",
       "          </tr>\n",
       "          <tr>\n",
       "            <td>Details</td><td>*****</td>\n",
       "          </tr>\n",
       "          <tr>\n",
       "            <td>Created At</td><td>2023-06-20T16:44:02.933475+00:00</td>\n",
       "          </tr>\n",
       "          <tr>\n",
       "            <td>Linked Workspaces</td><td>[]</td>\n",
       "          </tr>\n",
       "        </table>\n",
       "        "
      ],
      "text/plain": [
       "<wallaroo.connection.Connection at 0x7f8e34196040>"
      ]
     },
     "metadata": {},
     "output_type": "display_data"
    }
   ],
   "source": [
    "bigquery_connection_name = f'bq-wl-dev' # name of the connection in wallaroo. must be unique\n",
    "bigquery_connection_type = \"BIGQUERY\"   # connection type (info only)\n",
    "bigquery_connection_details = json.load(open('./resources/bigquery_service_account.json')) # creds and nother important info\n",
    "\n",
    "# the convenience command to get or create the connection\n",
    "connection = get_connection(bigquery_connection_name, bigquery_connection_type, bigquery_connection_details)\n",
    "\n",
    "display(connection)"
   ]
  },
  {
   "cell_type": "code",
   "execution_count": 6,
   "id": "3e03aa7f-0fe3-4a50-9205-7ab1f926820b",
   "metadata": {},
   "outputs": [
    {
     "data": {
      "text/plain": [
       "dict_keys(['type', 'auth_uri', 'client_id', 'token_uri', 'project_id', 'private_key', 'client_email', 'private_key_id', 'universe_domain', 'client_x509_cert_url', 'auth_provider_x509_cert_url'])"
      ]
     },
     "execution_count": 6,
     "metadata": {},
     "output_type": "execute_result"
    }
   ],
   "source": [
    "connection.details().keys()"
   ]
  },
  {
   "cell_type": "code",
   "execution_count": 7,
   "id": "d097360e-16cb-43f8-baf1-243354109227",
   "metadata": {},
   "outputs": [
    {
     "data": {
      "text/plain": [
       "'wallaroo-dev-253816'"
      ]
     },
     "execution_count": 7,
     "metadata": {},
     "output_type": "execute_result"
    }
   ],
   "source": [
    "# look at the project id\n",
    "connection.details()['project_id']"
   ]
  },
  {
   "cell_type": "code",
   "execution_count": 8,
   "id": "69cd3e59-64a2-47a4-8ee6-a17f651dec91",
   "metadata": {},
   "outputs": [
    {
     "data": {
      "text/html": [
       "<table><tr><th>name</th><th>connection type</th><th>details</th><th>created at</th><th>linked workspaces</th></tr><tr><td>bigqueryhouseinputs</td><td>BIGQUERY</td><td>*****</td><td>2023-05-23T14:35:26.896064+00:00</td><td>['bigqueryworkspace']</td></tr><tr><td>bigqueryhouseoutputs</td><td>BIGQUERY</td><td>*****</td><td>2023-05-23T14:35:26.932685+00:00</td><td>['bigqueryworkspace']</td></tr><tr><td>bigqueryhouseinputs-jcw</td><td>BIGQUERY</td><td>*****</td><td>2023-05-23T14:37:22.103147+00:00</td><td>['bigqueryworkspace-jcw']</td></tr><tr><td>bigqueryhouseoutputs-jcw</td><td>BIGQUERY</td><td>*****</td><td>2023-05-23T14:37:22.141179+00:00</td><td>['bigqueryworkspace-jcw']</td></tr><tr><td>bigqueryhouseinputs{suffix}</td><td>BIGQUERY</td><td>*****</td><td>2023-05-23T15:05:29.850628+00:00</td><td>['bigqueryworkspacekbcy', 'bigqueryworkspacechbp']</td></tr><tr><td>bigqueryhouseoutputs{suffix}</td><td>BIGQUERY</td><td>*****</td><td>2023-05-23T15:05:30.298941+00:00</td><td>['bigqueryworkspacekbcy', 'bigqueryworkspacechbp']</td></tr><tr><td>bigqueryforecastinputsrklr</td><td>BIGQUERY</td><td>*****</td><td>2023-05-23T15:05:58.206726+00:00</td><td>['bigquerystatsmodelworkspacerklr']</td></tr><tr><td>bigqueryforecastoutputsrklr</td><td>BIGQUERY</td><td>*****</td><td>2023-05-23T15:05:58.673528+00:00</td><td>['bigquerystatsmodelworkspacerklr']</td></tr><tr><td>bigqueryforecastinputsgztp</td><td>BIGQUERY</td><td>*****</td><td>2023-05-23T15:19:58.159691+00:00</td><td>['bigquerystatsmodelworkspacegztp']</td></tr><tr><td>bigqueryforecastoutputsgztp</td><td>BIGQUERY</td><td>*****</td><td>2023-05-23T15:19:58.195628+00:00</td><td>['bigquerystatsmodelworkspacegztp']</td></tr><tr><td>external_inference_connectiondtzw</td><td>HTTP</td><td>*****</td><td>2023-05-23T15:26:24.613152+00:00</td><td>['simpleorchestrationworkspacedtzw']</td></tr><tr><td>external_inference_connectionwtth</td><td>HTTP</td><td>*****</td><td>2023-06-02T17:04:06.421613+00:00</td><td>['simpleorchestrationworkspacewtth']</td></tr><tr><td>external_inference_connection</td><td>HTTP</td><td>*****</td><td>2023-06-02T19:17:46.106134+00:00</td><td>['mimo']</td></tr><tr><td>internal_inference_connection</td><td>HTTP</td><td>*****</td><td>2023-06-02T20:24:36.414288+00:00</td><td>['mimo']</td></tr><tr><td>internal_connection</td><td>local</td><td>*****</td><td>2023-06-05T14:07:30.221551+00:00</td><td>['mimo']</td></tr><tr><td>internal_connection2</td><td>local</td><td>*****</td><td>2023-06-05T19:13:53.198387+00:00</td><td>[]</td></tr><tr><td>internal_connectionf</td><td>localf</td><td>*****</td><td>2023-06-07T14:04:38.766962+00:00</td><td>['mimo']</td></tr><tr><td>internal_connection_ak</td><td>local</td><td>*****</td><td>2023-06-07T14:44:05.354701+00:00</td><td>['mimo']</td></tr><tr><td>internal_connection1</td><td>local_ak</td><td>*****</td><td>2023-06-07T15:07:49.300154+00:00</td><td>[]</td></tr><tr><td>internal_connection11</td><td>local_ak</td><td>*****</td><td>2023-06-07T15:08:12.456533+00:00</td><td>['mimo', 'mimonate']</td></tr><tr><td>external_inference_connectionnate</td><td>HTTP</td><td>*****</td><td>2023-06-08T16:29:44.292195+00:00</td><td>['simpleorchestrationworkspacenate']</td></tr><tr><td>internal_connectiontry100</td><td>local_ak</td><td>*****</td><td>2023-06-08T20:16:52.113332+00:00</td><td>['mimonate']</td></tr><tr><td>internal_connection-f</td><td>local_ak</td><td>*****</td><td>2023-06-09T01:09:05.052872+00:00</td><td>['mimo']</td></tr><tr><td>internal_connection-ff</td><td>local_ak</td><td>*****</td><td>2023-06-09T01:22:07.880479+00:00</td><td>['mimo']</td></tr><tr><td>internal_connectiontry75</td><td>local_ak</td><td>*****</td><td>2023-06-12T19:00:19.157017+00:00</td><td>['mimonate']</td></tr><tr><td>internal_connectiontry55</td><td>local_ak</td><td>*****</td><td>2023-06-12T19:44:58.163912+00:00</td><td>['mimonate']</td></tr><tr><td>bigqueryconnection-nbz</td><td>BIGQUERY</td><td>*****</td><td>2023-06-13T00:43:20.300204+00:00</td><td>['bigquerystatsmodelworkspace-nbz']</td></tr><tr><td>internal_connection_demo</td><td>local_ak</td><td>*****</td><td>2023-06-15T18:41:41.392571+00:00</td><td>['mimoorchdemo']</td></tr><tr><td>bq-wl-dev</td><td>BIGQUERY</td><td>*****</td><td>2023-06-20T16:44:02.933475+00:00</td><td>[]</td></tr></table>"
      ],
      "text/plain": [
       "[<wallaroo.connection.Connection at 0x7f8dced16790>,\n",
       " <wallaroo.connection.Connection at 0x7f8dced16760>,\n",
       " <wallaroo.connection.Connection at 0x7f8dced167c0>,\n",
       " <wallaroo.connection.Connection at 0x7f8dced167f0>,\n",
       " <wallaroo.connection.Connection at 0x7f8dced16820>,\n",
       " <wallaroo.connection.Connection at 0x7f8dced16850>,\n",
       " <wallaroo.connection.Connection at 0x7f8dced16880>,\n",
       " <wallaroo.connection.Connection at 0x7f8dced168b0>,\n",
       " <wallaroo.connection.Connection at 0x7f8dced168e0>,\n",
       " <wallaroo.connection.Connection at 0x7f8dced16910>,\n",
       " <wallaroo.connection.Connection at 0x7f8dced16940>,\n",
       " <wallaroo.connection.Connection at 0x7f8dced16970>,\n",
       " <wallaroo.connection.Connection at 0x7f8dced169a0>,\n",
       " <wallaroo.connection.Connection at 0x7f8dced169d0>,\n",
       " <wallaroo.connection.Connection at 0x7f8dced16a00>,\n",
       " <wallaroo.connection.Connection at 0x7f8dced16a30>,\n",
       " <wallaroo.connection.Connection at 0x7f8dced16a60>,\n",
       " <wallaroo.connection.Connection at 0x7f8dced16a90>,\n",
       " <wallaroo.connection.Connection at 0x7f8dced16ac0>,\n",
       " <wallaroo.connection.Connection at 0x7f8dced16af0>,\n",
       " <wallaroo.connection.Connection at 0x7f8dced16b20>,\n",
       " <wallaroo.connection.Connection at 0x7f8dced16b50>,\n",
       " <wallaroo.connection.Connection at 0x7f8dced16b80>,\n",
       " <wallaroo.connection.Connection at 0x7f8dced16bb0>,\n",
       " <wallaroo.connection.Connection at 0x7f8dced16be0>,\n",
       " <wallaroo.connection.Connection at 0x7f8dced16c10>,\n",
       " <wallaroo.connection.Connection at 0x7f8dced16c40>,\n",
       " <wallaroo.connection.Connection at 0x7f8dced16c70>,\n",
       " <wallaroo.connection.Connection at 0x7f8dced16ca0>]"
      ]
     },
     "execution_count": 8,
     "metadata": {},
     "output_type": "execute_result"
    }
   ],
   "source": [
    "wl.list_connections()\n",
    "# wl.get_connection(bigquery_connection_name)"
   ]
  },
  {
   "cell_type": "markdown",
   "id": "cf90d10d-c0b3-4066-b291-a48f60d4d382",
   "metadata": {},
   "source": [
    "## Test connection"
   ]
  },
  {
   "cell_type": "code",
   "execution_count": 9,
   "id": "0c856894-6ee0-40c1-8881-70181b55dd1b",
   "metadata": {},
   "outputs": [],
   "source": [
    "# For this test, these are assumed to exist\n",
    "\n",
    "dataset = \"bikerental_forecast_demo\" # the schema\n",
    "table = \"bikerentals\""
   ]
  },
  {
   "cell_type": "code",
   "execution_count": 10,
   "id": "b6c74d6c-4114-43a0-b8d1-6c2c2bdbd86b",
   "metadata": {},
   "outputs": [],
   "source": [
    "# we've already gotten the connection above\n",
    "\n",
    "# set the credentials\n",
    "bigquery_credentials = service_account.Credentials.from_service_account_info(connection.details())\n",
    "\n",
    "# start the client\n",
    "bigqueryclient = bigquery.Client(\n",
    "    credentials=bigquery_credentials, \n",
    "    project=connection.details()['project_id']\n",
    ")"
   ]
  },
  {
   "cell_type": "code",
   "execution_count": 11,
   "id": "fa3b6bce-9a89-4966-aac3-dcfc33e29992",
   "metadata": {},
   "outputs": [
    {
     "name": "stdout",
     "output_type": "stream",
     "text": [
      "select * from bikerental_forecast_demo.bikerentals limit 5\n"
     ]
    },
    {
     "data": {
      "text/html": [
       "<div>\n",
       "<style scoped>\n",
       "    .dataframe tbody tr th:only-of-type {\n",
       "        vertical-align: middle;\n",
       "    }\n",
       "\n",
       "    .dataframe tbody tr th {\n",
       "        vertical-align: top;\n",
       "    }\n",
       "\n",
       "    .dataframe thead th {\n",
       "        text-align: right;\n",
       "    }\n",
       "</style>\n",
       "<table border=\"1\" class=\"dataframe\">\n",
       "  <thead>\n",
       "    <tr style=\"text-align: right;\">\n",
       "      <th></th>\n",
       "      <th>dteday</th>\n",
       "      <th>season</th>\n",
       "      <th>holiday</th>\n",
       "      <th>weekday</th>\n",
       "      <th>workingday</th>\n",
       "      <th>site_id</th>\n",
       "      <th>cnt</th>\n",
       "    </tr>\n",
       "  </thead>\n",
       "  <tbody>\n",
       "    <tr>\n",
       "      <th>0</th>\n",
       "      <td>2011-01-02</td>\n",
       "      <td>1</td>\n",
       "      <td>0</td>\n",
       "      <td>0</td>\n",
       "      <td>0</td>\n",
       "      <td>site0001</td>\n",
       "      <td>819</td>\n",
       "    </tr>\n",
       "    <tr>\n",
       "      <th>1</th>\n",
       "      <td>2011-01-09</td>\n",
       "      <td>1</td>\n",
       "      <td>0</td>\n",
       "      <td>0</td>\n",
       "      <td>0</td>\n",
       "      <td>site0001</td>\n",
       "      <td>1002</td>\n",
       "    </tr>\n",
       "    <tr>\n",
       "      <th>2</th>\n",
       "      <td>2011-01-16</td>\n",
       "      <td>1</td>\n",
       "      <td>0</td>\n",
       "      <td>0</td>\n",
       "      <td>0</td>\n",
       "      <td>site0001</td>\n",
       "      <td>677</td>\n",
       "    </tr>\n",
       "    <tr>\n",
       "      <th>3</th>\n",
       "      <td>2011-01-23</td>\n",
       "      <td>1</td>\n",
       "      <td>0</td>\n",
       "      <td>0</td>\n",
       "      <td>0</td>\n",
       "      <td>site0001</td>\n",
       "      <td>778</td>\n",
       "    </tr>\n",
       "    <tr>\n",
       "      <th>4</th>\n",
       "      <td>2011-01-30</td>\n",
       "      <td>1</td>\n",
       "      <td>0</td>\n",
       "      <td>0</td>\n",
       "      <td>0</td>\n",
       "      <td>site0001</td>\n",
       "      <td>667</td>\n",
       "    </tr>\n",
       "  </tbody>\n",
       "</table>\n",
       "</div>"
      ],
      "text/plain": [
       "       dteday  season  holiday  weekday  workingday   site_id   cnt\n",
       "0  2011-01-02       1        0        0           0  site0001   819\n",
       "1  2011-01-09       1        0        0           0  site0001  1002\n",
       "2  2011-01-16       1        0        0           0  site0001   677\n",
       "3  2011-01-23       1        0        0           0  site0001   778\n",
       "4  2011-01-30       1        0        0           0  site0001   667"
      ]
     },
     "execution_count": 11,
     "metadata": {},
     "output_type": "execute_result"
    }
   ],
   "source": [
    "tablename = f'{dataset}.{table}'\n",
    "sql = f'select * from {tablename} limit 5'\n",
    "print(sql)\n",
    "\n",
    "df = bigqueryclient.query(sql).to_dataframe()\n",
    "df"
   ]
  },
  {
   "cell_type": "code",
   "execution_count": 12,
   "id": "5f966f1f-8699-4fed-b463-367c0b96b230",
   "metadata": {},
   "outputs": [
    {
     "data": {
      "text/html": [
       "<div>\n",
       "<style scoped>\n",
       "    .dataframe tbody tr th:only-of-type {\n",
       "        vertical-align: middle;\n",
       "    }\n",
       "\n",
       "    .dataframe tbody tr th {\n",
       "        vertical-align: top;\n",
       "    }\n",
       "\n",
       "    .dataframe thead th {\n",
       "        text-align: right;\n",
       "    }\n",
       "</style>\n",
       "<table border=\"1\" class=\"dataframe\">\n",
       "  <thead>\n",
       "    <tr style=\"text-align: right;\">\n",
       "      <th></th>\n",
       "      <th>site_id</th>\n",
       "    </tr>\n",
       "  </thead>\n",
       "  <tbody>\n",
       "    <tr>\n",
       "      <th>0</th>\n",
       "      <td>site0001</td>\n",
       "    </tr>\n",
       "    <tr>\n",
       "      <th>1</th>\n",
       "      <td>site0002</td>\n",
       "    </tr>\n",
       "    <tr>\n",
       "      <th>2</th>\n",
       "      <td>site0003</td>\n",
       "    </tr>\n",
       "    <tr>\n",
       "      <th>3</th>\n",
       "      <td>site0004</td>\n",
       "    </tr>\n",
       "    <tr>\n",
       "      <th>4</th>\n",
       "      <td>site0005</td>\n",
       "    </tr>\n",
       "    <tr>\n",
       "      <th>5</th>\n",
       "      <td>site0006</td>\n",
       "    </tr>\n",
       "    <tr>\n",
       "      <th>6</th>\n",
       "      <td>site0007</td>\n",
       "    </tr>\n",
       "    <tr>\n",
       "      <th>7</th>\n",
       "      <td>site0008</td>\n",
       "    </tr>\n",
       "    <tr>\n",
       "      <th>8</th>\n",
       "      <td>site0009</td>\n",
       "    </tr>\n",
       "    <tr>\n",
       "      <th>9</th>\n",
       "      <td>site0010</td>\n",
       "    </tr>\n",
       "  </tbody>\n",
       "</table>\n",
       "</div>"
      ],
      "text/plain": [
       "    site_id\n",
       "0  site0001\n",
       "1  site0002\n",
       "2  site0003\n",
       "3  site0004\n",
       "4  site0005\n",
       "5  site0006\n",
       "6  site0007\n",
       "7  site0008\n",
       "8  site0009\n",
       "9  site0010"
      ]
     },
     "execution_count": 12,
     "metadata": {},
     "output_type": "execute_result"
    }
   ],
   "source": [
    "# information for later\n",
    "sites = bigqueryclient.query(f\"select distinct site_id from {tablename}\").to_dataframe()\n",
    "sites"
   ]
  },
  {
   "cell_type": "markdown",
   "id": "bb019c01-90bb-48cb-a972-0ed6df209145",
   "metadata": {},
   "source": [
    "## Attach the connector to a workspace\n"
   ]
  },
  {
   "cell_type": "code",
   "execution_count": 13,
   "id": "11006730-fae7-443f-b60e-873794fb1dae",
   "metadata": {},
   "outputs": [
    {
     "data": {
      "text/html": [
       "<table><tr><th>name</th><th>connection type</th><th>details</th><th>created at</th><th>linked workspaces</th></tr><tr><td>bq-wl-dev</td><td>BIGQUERY</td><td>*****</td><td>2023-06-20T16:44:02.933475+00:00</td><td>['bikerental-nbz']</td></tr></table>"
      ],
      "text/plain": [
       "[<wallaroo.connection.Connection at 0x7f8dcd1263a0>]"
      ]
     },
     "execution_count": 13,
     "metadata": {},
     "output_type": "execute_result"
    }
   ],
   "source": [
    "def get_workspace(name):\n",
    "    workspace = None\n",
    "    for ws in wl.list_workspaces():\n",
    "        if ws.name() == name:\n",
    "            workspace= ws\n",
    "    if(workspace == None):\n",
    "        workspace = wl.create_workspace(name)\n",
    "    return workspace\n",
    "\n",
    "workspace = get_workspace('bikerental-nbz')\n",
    "\n",
    "workspace.add_connection('bq-wl-dev')\n",
    "workspace.list_connections()"
   ]
  },
  {
   "cell_type": "code",
   "execution_count": 15,
   "id": "9ddec154-b5b4-4019-827e-d78d6de5d2cd",
   "metadata": {},
   "outputs": [],
   "source": [
    "bigqueryclient.close()"
   ]
  },
  {
   "cell_type": "code",
   "execution_count": null,
   "id": "a124d628-2004-47fc-804e-c1a6811f9dca",
   "metadata": {},
   "outputs": [],
   "source": []
  }
 ],
 "metadata": {
  "kernelspec": {
   "display_name": "Python 3 (ipykernel)",
   "language": "python",
   "name": "python3"
  },
  "language_info": {
   "codemirror_mode": {
    "name": "ipython",
    "version": 3
   },
   "file_extension": ".py",
   "mimetype": "text/x-python",
   "name": "python",
   "nbconvert_exporter": "python",
   "pygments_lexer": "ipython3",
   "version": "3.9.13"
  }
 },
 "nbformat": 4,
 "nbformat_minor": 5
}
