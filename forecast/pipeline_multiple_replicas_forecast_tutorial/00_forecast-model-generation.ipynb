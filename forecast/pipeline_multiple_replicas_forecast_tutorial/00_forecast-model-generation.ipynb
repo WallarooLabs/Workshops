{
 "cells": [
  {
   "attachments": {},
   "cell_type": "markdown",
   "metadata": {},
   "source": [
    "## Statsmodel Forecast with Wallaroo Features: Model Creation\n",
    "\n",
    "This tutorial series demonstrates how to use Wallaroo to create a Statsmodel forecasting model based on bike rentals.  This is based on the statsmodel ARIMA model that is used as a Python model in these steps.\n",
    "\n",
    "This notebook is focused on demonstrating this model outside of Wallaroo deployment.  Other notebooks will focus on the core pillars of using Wallaroo with that model to:\n",
    "\n",
    "* Upload\n",
    "* Deploy\n",
    "* Observe\n",
    "* Optimize\n",
    "* Automate\n",
    "\n",
    "## Prerequisites\n",
    "\n",
    "* A Wallaroo instance version 2023.2.1 or greater.\n",
    "\n",
    "## References\n",
    "\n",
    "* [Wallaroo SDK Essentials Guide: Model Uploads and Registrations: Python Models](https://docs.wallaroo.ai/wallaroo-developer-guides/wallaroo-sdk-guides/wallaroo-sdk-essentials-guide/wallaroo-sdk-model-uploads/wallaroo-sdk-model-upload-python/)\n",
    "* [Wallaroo SDK Essentials Guide: Pipeline Management](https://docs.wallaroo.ai/wallaroo-developer-guides/wallaroo-sdk-guides/wallaroo-sdk-essentials-guide/wallaroo-sdk-essentials-pipelines/wallaroo-sdk-essentials-pipeline/)\n",
    "* [Wallaroo SDK Essentials: Inference Guide: Parallel Inferences](https://docs.wallaroo.ai/wallaroo-developer-guides/wallaroo-sdk-guides/wallaroo-sdk-essentials-guide/wallaroo-sdk-essentials-inferences/#parallel-inferences)"
   ]
  },
  {
   "cell_type": "markdown",
   "metadata": {},
   "source": [
    "## Tutorial Steps\n",
    "\n",
    "### Import Libraries\n",
    "\n",
    "First we will import the libraries we need."
   ]
  },
  {
   "cell_type": "code",
   "execution_count": 1,
   "metadata": {},
   "outputs": [],
   "source": [
    "import pandas as pd\n",
    "import datetime\n",
    "import os\n",
    "\n",
    "from statsmodels.tsa.arima.model import ARIMA\n",
    "from resources import simdb as simdb\n",
    "\n",
    "\n",
    "import pyarrow as pa"
   ]
  },
  {
   "attachments": {},
   "cell_type": "markdown",
   "metadata": {},
   "source": [
    "### Test the Model\n",
    "\n",
    "The model's main function is contained in this code from `forecast_standard.py`:\n",
    "\n",
    "```python\n",
    "from statsmodels.tsa.arima.model import ARIMA\n",
    "\n",
    "def _fit_model(dataframe):\n",
    "    model = ARIMA(dataframe['count'], \n",
    "                    order=(1, 0, 1)\n",
    "                    ).fit()\n",
    "    return model\n",
    "```\n",
    "\n",
    "To create other versions of this model, the `order` is altered.\n",
    "\n",
    "Python models uploaded to Wallaroo must have the method `wallaroo_json` as the entry point for the Wallaroo engine.  In this example, it takes data retrieved from the CSV file `day.csv`, shapes it and submits it to the method above, then returns the results.\n",
    "\n",
    "```python\n",
    "def wallaroo_json(data):\n",
    "    obj = json.loads(data)\n",
    "    evaluation_frame = pd.DataFrame.from_dict(obj)\n",
    "\n",
    "    nforecast = 7\n",
    "    model = _fit_model(evaluation_frame)\n",
    "\n",
    "    forecast =  model.forecast(steps=nforecast).round().to_numpy()\n",
    "    forecast = forecast.astype(int)\n",
    "\n",
    "    return {\"forecast\": forecast.tolist()}\n",
    "```\n",
    "\n",
    "The final result is a prediction of the next 7 days of bike rentals based on the previous month.\n",
    "\n",
    "The code below will use a simulated database to retrieve bike rental data from one month before March 1 2011, then use it to evaluate the model and check it's forecasts."
   ]
  },
  {
   "cell_type": "code",
   "execution_count": 2,
   "metadata": {},
   "outputs": [
    {
     "name": "stdout",
     "output_type": "stream",
     "text": [
      "select count from bikerentals where date > DATE(DATE('2011-03-01'), '-1 month') AND date <= DATE('2011-03-01')\n"
     ]
    },
    {
     "data": {
      "text/html": [
       "<div>\n",
       "<style scoped>\n",
       "    .dataframe tbody tr th:only-of-type {\n",
       "        vertical-align: middle;\n",
       "    }\n",
       "\n",
       "    .dataframe tbody tr th {\n",
       "        vertical-align: top;\n",
       "    }\n",
       "\n",
       "    .dataframe thead th {\n",
       "        text-align: right;\n",
       "    }\n",
       "</style>\n",
       "<table border=\"1\" class=\"dataframe\">\n",
       "  <thead>\n",
       "    <tr style=\"text-align: right;\">\n",
       "      <th></th>\n",
       "      <th>count</th>\n",
       "    </tr>\n",
       "  </thead>\n",
       "  <tbody>\n",
       "    <tr>\n",
       "      <th>0</th>\n",
       "      <td>1526</td>\n",
       "    </tr>\n",
       "    <tr>\n",
       "      <th>1</th>\n",
       "      <td>1550</td>\n",
       "    </tr>\n",
       "    <tr>\n",
       "      <th>2</th>\n",
       "      <td>1708</td>\n",
       "    </tr>\n",
       "    <tr>\n",
       "      <th>3</th>\n",
       "      <td>1005</td>\n",
       "    </tr>\n",
       "    <tr>\n",
       "      <th>4</th>\n",
       "      <td>1623</td>\n",
       "    </tr>\n",
       "    <tr>\n",
       "      <th>5</th>\n",
       "      <td>1712</td>\n",
       "    </tr>\n",
       "    <tr>\n",
       "      <th>6</th>\n",
       "      <td>1530</td>\n",
       "    </tr>\n",
       "    <tr>\n",
       "      <th>7</th>\n",
       "      <td>1605</td>\n",
       "    </tr>\n",
       "    <tr>\n",
       "      <th>8</th>\n",
       "      <td>1538</td>\n",
       "    </tr>\n",
       "    <tr>\n",
       "      <th>9</th>\n",
       "      <td>1746</td>\n",
       "    </tr>\n",
       "    <tr>\n",
       "      <th>10</th>\n",
       "      <td>1472</td>\n",
       "    </tr>\n",
       "    <tr>\n",
       "      <th>11</th>\n",
       "      <td>1589</td>\n",
       "    </tr>\n",
       "    <tr>\n",
       "      <th>12</th>\n",
       "      <td>1913</td>\n",
       "    </tr>\n",
       "    <tr>\n",
       "      <th>13</th>\n",
       "      <td>1815</td>\n",
       "    </tr>\n",
       "    <tr>\n",
       "      <th>14</th>\n",
       "      <td>2115</td>\n",
       "    </tr>\n",
       "    <tr>\n",
       "      <th>15</th>\n",
       "      <td>2475</td>\n",
       "    </tr>\n",
       "    <tr>\n",
       "      <th>16</th>\n",
       "      <td>2927</td>\n",
       "    </tr>\n",
       "    <tr>\n",
       "      <th>17</th>\n",
       "      <td>1635</td>\n",
       "    </tr>\n",
       "    <tr>\n",
       "      <th>18</th>\n",
       "      <td>1812</td>\n",
       "    </tr>\n",
       "    <tr>\n",
       "      <th>19</th>\n",
       "      <td>1107</td>\n",
       "    </tr>\n",
       "    <tr>\n",
       "      <th>20</th>\n",
       "      <td>1450</td>\n",
       "    </tr>\n",
       "    <tr>\n",
       "      <th>21</th>\n",
       "      <td>1917</td>\n",
       "    </tr>\n",
       "    <tr>\n",
       "      <th>22</th>\n",
       "      <td>1807</td>\n",
       "    </tr>\n",
       "    <tr>\n",
       "      <th>23</th>\n",
       "      <td>1461</td>\n",
       "    </tr>\n",
       "    <tr>\n",
       "      <th>24</th>\n",
       "      <td>1969</td>\n",
       "    </tr>\n",
       "    <tr>\n",
       "      <th>25</th>\n",
       "      <td>2402</td>\n",
       "    </tr>\n",
       "    <tr>\n",
       "      <th>26</th>\n",
       "      <td>1446</td>\n",
       "    </tr>\n",
       "    <tr>\n",
       "      <th>27</th>\n",
       "      <td>1851</td>\n",
       "    </tr>\n",
       "  </tbody>\n",
       "</table>\n",
       "</div>"
      ],
      "text/plain": [
       "    count\n",
       "0    1526\n",
       "1    1550\n",
       "2    1708\n",
       "3    1005\n",
       "4    1623\n",
       "5    1712\n",
       "6    1530\n",
       "7    1605\n",
       "8    1538\n",
       "9    1746\n",
       "10   1472\n",
       "11   1589\n",
       "12   1913\n",
       "13   1815\n",
       "14   2115\n",
       "15   2475\n",
       "16   2927\n",
       "17   1635\n",
       "18   1812\n",
       "19   1107\n",
       "20   1450\n",
       "21   1917\n",
       "22   1807\n",
       "23   1461\n",
       "24   1969\n",
       "25   2402\n",
       "26   1446\n",
       "27   1851"
      ]
     },
     "execution_count": 2,
     "metadata": {},
     "output_type": "execute_result"
    }
   ],
   "source": [
    "def mk_dt_range_query(*, tablename: str, seed_day: str) -> str:\n",
    "    assert isinstance(tablename, str)\n",
    "    assert isinstance(seed_day, str)\n",
    "    query = f\"select count from {tablename} where date > DATE(DATE('{seed_day}'), '-1 month') AND date <= DATE('{seed_day}')\"\n",
    "    return query\n",
    "\n",
    "conn = simdb.get_db_connection()\n",
    "\n",
    "# create the query\n",
    "query = mk_dt_range_query(tablename=simdb.tablename, seed_day='2011-03-01')\n",
    "print(query)\n",
    "\n",
    "# read in the data\n",
    "training_frame = pd.read_sql_query(query, conn)\n",
    "training_frame"
   ]
  },
  {
   "cell_type": "code",
   "execution_count": null,
   "metadata": {},
   "outputs": [],
   "source": [
    "## turn this into a single array dataframe"
   ]
  },
  {
   "cell_type": "code",
   "execution_count": 16,
   "metadata": {},
   "outputs": [
    {
     "data": {
      "text/html": [
       "<div>\n",
       "<style scoped>\n",
       "    .dataframe tbody tr th:only-of-type {\n",
       "        vertical-align: middle;\n",
       "    }\n",
       "\n",
       "    .dataframe tbody tr th {\n",
       "        vertical-align: top;\n",
       "    }\n",
       "\n",
       "    .dataframe thead th {\n",
       "        text-align: right;\n",
       "    }\n",
       "</style>\n",
       "<table border=\"1\" class=\"dataframe\">\n",
       "  <thead>\n",
       "    <tr style=\"text-align: right;\">\n",
       "      <th></th>\n",
       "      <th>count</th>\n",
       "    </tr>\n",
       "  </thead>\n",
       "  <tbody>\n",
       "    <tr>\n",
       "      <th>0</th>\n",
       "      <td>[1526, 1550, 1708, 1005, 1623, 1712, 1530, 160...</td>\n",
       "    </tr>\n",
       "  </tbody>\n",
       "</table>\n",
       "</div>"
      ],
      "text/plain": [
       "                                               count\n",
       "0  [1526, 1550, 1708, 1005, 1623, 1712, 1530, 160..."
      ]
     },
     "metadata": {},
     "output_type": "display_data"
    }
   ],
   "source": [
    "inference_frame = pd.DataFrame({'count': [training_frame['count'].values.tolist()]})\n",
    "\n",
    "display(inference_frame)"
   ]
  },
  {
   "cell_type": "code",
   "execution_count": 18,
   "metadata": {},
   "outputs": [
    {
     "data": {
      "text/plain": [
       "[1526,\n",
       " 1550,\n",
       " 1708,\n",
       " 1005,\n",
       " 1623,\n",
       " 1712,\n",
       " 1530,\n",
       " 1605,\n",
       " 1538,\n",
       " 1746,\n",
       " 1472,\n",
       " 1589,\n",
       " 1913,\n",
       " 1815,\n",
       " 2115,\n",
       " 2475,\n",
       " 2927,\n",
       " 1635,\n",
       " 1812,\n",
       " 1107,\n",
       " 1450,\n",
       " 1917,\n",
       " 1807,\n",
       " 1461,\n",
       " 1969,\n",
       " 2402,\n",
       " 1446,\n",
       " 1851]"
      ]
     },
     "execution_count": 18,
     "metadata": {},
     "output_type": "execute_result"
    }
   ],
   "source": [
    "inference_frame.loc[0, 'count']"
   ]
  },
  {
   "attachments": {},
   "cell_type": "markdown",
   "metadata": {},
   "source": [
    "## Test the Forecast\n",
    "\n",
    "The training frame is then loaded, and tested against our `forecast` model."
   ]
  },
  {
   "cell_type": "code",
   "execution_count": 35,
   "metadata": {},
   "outputs": [
    {
     "data": {
      "text/html": [
       "<div>\n",
       "<style scoped>\n",
       "    .dataframe tbody tr th:only-of-type {\n",
       "        vertical-align: middle;\n",
       "    }\n",
       "\n",
       "    .dataframe tbody tr th {\n",
       "        vertical-align: top;\n",
       "    }\n",
       "\n",
       "    .dataframe thead th {\n",
       "        text-align: right;\n",
       "    }\n",
       "</style>\n",
       "<table border=\"1\" class=\"dataframe\">\n",
       "  <thead>\n",
       "    <tr style=\"text-align: right;\">\n",
       "      <th></th>\n",
       "      <th>count</th>\n",
       "    </tr>\n",
       "  </thead>\n",
       "  <tbody>\n",
       "    <tr>\n",
       "      <th>0</th>\n",
       "      <td>15</td>\n",
       "    </tr>\n",
       "  </tbody>\n",
       "</table>\n",
       "</div>"
      ],
      "text/plain": [
       "   count\n",
       "0     15"
      ]
     },
     "metadata": {},
     "output_type": "display_data"
    },
    {
     "data": {
      "text/plain": [
       "count: int64\n",
       "-- schema metadata --\n",
       "pandas: '{\"index_columns\": [{\"kind\": \"range\", \"name\": null, \"start\": 0, \"' + 365"
      ]
     },
     "metadata": {},
     "output_type": "display_data"
    },
    {
     "name": "stdout",
     "output_type": "stream",
     "text": [
      "[{'forecast': 15}]\n"
     ]
    }
   ],
   "source": [
    "# test\n",
    "import forecast_standard\n",
    "import json\n",
    "\n",
    "# reload if the model was changed since last run\n",
    "import importlib\n",
    "importlib.reload(forecast_standard)\n",
    "\n",
    "# create the appropriate json\n",
    "# jsonstr = json.dumps(training_frame.to_dict(orient='list'))\n",
    "# print(jsonstr)\n",
    "\n",
    "# result = forecast_standard.wallaroo_json(jsonstr)\n",
    "# print(result)\n",
    "\n",
    "inference_frame = pd.DataFrame({\"count\": [15]})\n",
    "display(inference_frame)\n",
    "display(pa.Schema.from_pandas(inference_frame))\n",
    "\n",
    "result = forecast_standard.wallaroo_json(inference_frame)\n",
    "print(result)"
   ]
  },
  {
   "cell_type": "code",
   "execution_count": 31,
   "metadata": {},
   "outputs": [
    {
     "data": {
      "text/html": [
       "<div>\n",
       "<style scoped>\n",
       "    .dataframe tbody tr th:only-of-type {\n",
       "        vertical-align: middle;\n",
       "    }\n",
       "\n",
       "    .dataframe tbody tr th {\n",
       "        vertical-align: top;\n",
       "    }\n",
       "\n",
       "    .dataframe thead th {\n",
       "        text-align: right;\n",
       "    }\n",
       "</style>\n",
       "<table border=\"1\" class=\"dataframe\">\n",
       "  <thead>\n",
       "    <tr style=\"text-align: right;\">\n",
       "      <th></th>\n",
       "      <th>forecast</th>\n",
       "    </tr>\n",
       "  </thead>\n",
       "  <tbody>\n",
       "    <tr>\n",
       "      <th>0</th>\n",
       "      <td>15</td>\n",
       "    </tr>\n",
       "  </tbody>\n",
       "</table>\n",
       "</div>"
      ],
      "text/plain": [
       "   forecast\n",
       "0        15"
      ]
     },
     "metadata": {},
     "output_type": "display_data"
    },
    {
     "data": {
      "text/plain": [
       "count: list<item: int64>\n",
       "  child 0, item: int64\n",
       "-- schema metadata --\n",
       "pandas: '{\"index_columns\": [{\"kind\": \"range\", \"name\": null, \"start\": 0, \"' + 372"
      ]
     },
     "metadata": {},
     "output_type": "display_data"
    },
    {
     "data": {
      "text/plain": [
       "forecast: int64\n",
       "-- schema metadata --\n",
       "pandas: '{\"index_columns\": [{\"kind\": \"range\", \"name\": null, \"start\": 0, \"' + 371"
      ]
     },
     "metadata": {},
     "output_type": "display_data"
    }
   ],
   "source": [
    "test = pd.DataFrame(result)\n",
    "\n",
    "input_schema = pa.Schema.from_pandas(inference_frame)\n",
    "output_schema = pa.Schema.from_pandas(test)\n",
    "\n",
    "display(test)\n",
    "display(input_schema)\n",
    "display(output_schema)"
   ]
  },
  {
   "cell_type": "code",
   "execution_count": 23,
   "metadata": {},
   "outputs": [
    {
     "data": {
      "text/plain": [
       "[array([1764, 1749, 1743, 1741, 1740, 1740, 1740]), {'average_rentals': 1500}]"
      ]
     },
     "execution_count": 23,
     "metadata": {},
     "output_type": "execute_result"
    }
   ],
   "source": [
    "# test\n",
    "import step\n",
    "\n",
    "# reload if the model was changed since last run\n",
    "import importlib\n",
    "importlib.reload(step)\n",
    "\n",
    "step.wallaroo_json(result)"
   ]
  },
  {
   "cell_type": "markdown",
   "metadata": {},
   "source": [
    "We'll also test out other versions of this model.  `forecast_alternative01` has the ARIMA `order` set to `order=(1, 1, 0)`, and `forecast_alterative02` has the ARIMA `order` set to `order=(0, 1, 1)`."
   ]
  },
  {
   "cell_type": "code",
   "execution_count": 8,
   "metadata": {},
   "outputs": [
    {
     "data": {
      "text/plain": [
       "{'forecast': [1703, 1757, 1737, 1744, 1742, 1743, 1742]}"
      ]
     },
     "execution_count": 8,
     "metadata": {},
     "output_type": "execute_result"
    }
   ],
   "source": [
    "# test\n",
    "import forecast_alternate01\n",
    "import json\n",
    "\n",
    "# reload if the model was changed since last run\n",
    "import importlib\n",
    "importlib.reload(forecast_alternate01)\n",
    "\n",
    "# create the appropriate json\n",
    "jsonstr = json.dumps(training_frame.to_dict(orient='list'))\n",
    "\n",
    "forecast_alternate01.wallaroo_json(jsonstr)"
   ]
  },
  {
   "cell_type": "code",
   "execution_count": 9,
   "metadata": {},
   "outputs": [
    {
     "data": {
      "text/plain": [
       "{'forecast': [1814, 1814, 1814, 1814, 1814, 1814, 1814]}"
      ]
     },
     "execution_count": 9,
     "metadata": {},
     "output_type": "execute_result"
    }
   ],
   "source": [
    "# test\n",
    "import forecast_alternate02\n",
    "import json\n",
    "\n",
    "# reload if the model was changed since last run\n",
    "import importlib\n",
    "importlib.reload(forecast_alternate02)\n",
    "\n",
    "# create the appropriate json\n",
    "jsonstr = json.dumps(training_frame.to_dict(orient='list'))\n",
    "\n",
    "forecast_alternate02.wallaroo_json(jsonstr)"
   ]
  }
 ],
 "metadata": {
  "kernelspec": {
   "display_name": "Python 3 (ipykernel)",
   "language": "python",
   "name": "python3"
  },
  "language_info": {
   "codemirror_mode": {
    "name": "ipython",
    "version": 3
   },
   "file_extension": ".py",
   "mimetype": "text/x-python",
   "name": "python",
   "nbconvert_exporter": "python",
   "pygments_lexer": "ipython3",
   "version": "3.8.17"
  },
  "vscode": {
   "interpreter": {
    "hash": "7dda4bf3640b7fafcd1648658b879b4cc9f6ba6084e8fb356fdaaa1a461d1690"
   }
  }
 },
 "nbformat": 4,
 "nbformat_minor": 4
}
